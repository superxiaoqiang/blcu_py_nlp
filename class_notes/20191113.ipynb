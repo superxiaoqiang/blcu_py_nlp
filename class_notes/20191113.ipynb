{
 "cells": [
  {
   "cell_type": "code",
   "execution_count": 1,
   "metadata": {},
   "outputs": [],
   "source": [
    "from selenium import webdriver\n",
    "dr = webdriver.Chrome()"
   ]
  },
  {
   "cell_type": "code",
   "execution_count": 2,
   "metadata": {},
   "outputs": [],
   "source": [
    "dr.get('http://www.blcu.edu.cn')"
   ]
  },
  {
   "cell_type": "code",
   "execution_count": 3,
   "metadata": {},
   "outputs": [],
   "source": [
    "s = dr.page_source"
   ]
  },
  {
   "cell_type": "code",
   "execution_count": 4,
   "metadata": {},
   "outputs": [
    {
     "name": "stdout",
     "output_type": "stream",
     "text": [
      "<html xmlns=\"http://www.w3.org/1999/xhtml\"><head>\n",
      "<meta http-equiv=\"Content-Type\" content=\"text/html; charset=utf-8\"><script language=\"javascript\" src=\"/module/jslib/jquery/jquery.js\"></script>\n",
      "<script language=\"javascript\" src=\"/module/jslib/urite/urite.min.js\"></script><script type=\"text/ecmascript\" src=\"data:,_data_uri_useable=1\" urite-agent=\"1\"></script>\n",
      "<link href=\"/module/jslib/tag/css/infotag.css\" type=\"text/css\" rel=\"stylesheet\">\n",
      "<meta name=\"WebId\" content=\"54\">\n",
      "\n",
      "<title>欢迎访问北京语言大学</title>\n",
      "<meta name=\"Descriptions\" content=\"北京语言大学是中国唯一一所以对来华留学生进行汉语、中华文化教育为主要任务的国际型大学，素有“小联合国”之称；学校对中国学生进行外语、中文、信息科学、经济、艺术等专业教育，同时承担着培养汉语师资、出国留学预备人员出国前的外语培训工作等任务。\">\n",
      "<meta name=\"Maketime\" content=\"2019-11-12 12:14:54\">\n",
      "\n",
      "<meta name=\"SiteName\" content=\"北京语言大学\">\n",
      "<meta name=\"SiteDomain\" content=\"www.blcu.edu.cn\">\n",
      "<meta name=\"SiteIDCode\" content=\"\">\n",
      "<meta name=\"siteurl\" content=\"http://www.blcu.edu.cn/index.html\">\n",
      "<meta name=\"guild\" content=\"\">\n",
      "<meta name=\"district\" content=\"\">\n",
      "<meta name=\"sitecatalog\" content=\"\">\n",
      "\n",
      "\n",
      "<meta name=\"renderer\" content=\"webkit\"> \n",
      "<meta http-equiv=\"X-UA-Compatible\" content=\"IE=EDGE\">\n",
      "<link rel=\"shortcut icon\" href=\"/images/967/favicon.ico\">\n",
      "<link href=\"/images/967/basic.css\" rel=\"stylesheet\" type=\"text/css\">\n",
      "<link href=\"/images/967/index20181224.css\" rel=\"stylesheet\" type=\"text/css\">\n",
      "\n",
      "<script type=\"text/javascript\">\n",
      "<!--\n",
      "\tdocument.title= document.title.replace(\"北京语言大学\",\"欢迎访问北京语言大学\")\n",
      "//-->\n",
      "</script>\n",
      "<script src=\"/images/967/jquery-1.10.2.min.js\" type=\"text/javascript\"></script>\n",
      "<script type=\"text/javascript\" src=\"/images/967/jquery.easing.1.3.js\"></script>\n",
      "<script src=\"/images/967/jquery-often-effects.js\" type=\"text/javascript\"></script>\n",
      "<script src=\"/images/967/ScrollPic.js\" type=\"text/javascript\"></script>\n",
      "<script type=\"text/javascript\" src=\"/images/967/jquery.SuperSlide.2.1.js\"></script>\n",
      "<script src=\"/images/967/publish.js\"></script>\n",
      "<script src=\"/images/967/ScrollNav.js\" type=\"text/javascript\"></script>\n",
      "\t\t\t\n",
      "\n",
      "</head>\n",
      "\n",
      "\t\t\t <body style=\"\"><div id=\"hiddenLocation\" style=\"display:none;\"><span id=\"ss_webid\">54</span></div>\n",
      "<!--header start-->\n",
      "<div class=\"header\">\n",
      "               <div class=\"center\">\n",
      "    <ul class=\"h_top\">\n",
      "                   <li class=\"fl\">\n",
      "        <dl><dd><a href=\"/col1/col5762/index.html\">未来学生</a> </dd><dd><a href=\"/col1/col5764/index.html\">在校学生</a> </dd><dd><a href=\"/col1/col5763/index.html\">毕业校友</a> </dd><dd><a href=\"/col1/col5765/index.html\">教职员工</a> </dd></dl>\n",
      "\n",
      "      </li>\n",
      "                   <li class=\"fr\">\n",
      "        <script language=\"javascript\" src=\"/script/61/1406112154286501.js\"></script><dl><dd><a href=\"http://jjh.blcu.edu.cn/\" target=\"_blank\">教育基金会</a> </dd><dd><a href=\"http://i.blcu.edu.cn\" target=\"_blank\">数字北语(校内信息)</a> </dd><dd><a href=\"/\" target=\"_blank\">中文</a> </dd><dd><a href=\"http://english.blcu.edu.cn/\" target=\"_blank\">English</a> </dd></dl>\n",
      "\n",
      "\n",
      "      </li>\n",
      "                   <div class=\"clear\"></div>\n",
      "                 </ul>\n",
      "  </div>\n",
      "             </div>\n",
      "<div class=\"h_bg\">\n",
      "               <div class=\"h_bg1\">\n",
      "    <ul class=\"center\">\n",
      "                   <li class=\"h_logo fl\"><a href=\"/index.html\" title=\"北京语言大学\"><img src=\"/images/967/language_logo.png\" width=\"289\" height=\"78\" alt=\"北京语言大学\"></a></li>\n",
      "                   <li class=\"h_search fl\"><span class=\"h_s_bg\">\n",
      "                   <form id=\"qForm\" method=\"get\" action=\"/jsearch/index.jsp?webid=54\" target=\"_blank\">\n",
      "                     <input name=\"q\" id=\"q\" class=\"h_s_input fl\" type=\"text\" value=\"\">\n",
      "                     <input type=\"hidden\" name=\"pagemode\" value=\"result\"> <input type=\"hidden\" name=\"appid\" value=\"1\"> <input type=\"hidden\" name=\"style\" value=\"1\"> <input type=\"hidden\" name=\"ck\" value=\"o\"> <input id=\"pos\" type=\"hidden\" name=\"pos\" value=\"title,content\"> <input id=\"webid\" type=\"hidden\" name=\"webid\" value=\"54\"> \n",
      "                     <input class=\"h_s_ok fl\" type=\"submit\" value=\"\">\n",
      "                     </form>\n",
      "                     <div class=\"clear\"></div>\n",
      "                     </span></li>\n",
      "                 </ul>\n",
      "  </div>\n",
      "             </div>\n",
      "<!--header end--> \n",
      "<!--nav start-->\n",
      "<div class=\"languaNav\">\n",
      "               <div class=\"languaNavTop\">\n",
      "    <ul class=\"clearfix\" id=\"list\">\n",
      "                  <li class=\"home\"><a href=\"/index.html\" class=\"cur\" style=\"padding:0\"><i class=\"m_h_ico\"></i></a></li>\n",
      " <li> <a href=\"/col1/col5682/index.html\">学校概况</a> </li>\n",
      "<li> <a href=\"/col1/col5737/index.html\">招生就业</a> </li>\n",
      "<li> <a href=\"/col1/col6701/index.html\">院系设置</a> </li>\n",
      "<li class=\"\"> <a href=\"/col1/col5710/index.html\">人才培养</a> </li>\n",
      "<li> <a href=\"/col1/col5727/index.html\">科学研究</a> </li>\n",
      "<li> <a target=\"_blank\" href=\"http://exchange.blcu.edu.cn\">合作交流</a> </li>\n",
      " </ul>\n",
      "    <div class=\"languaBottom\" style=\"height: 0px;\">\n",
      "                   <div style=\"width:1000px;overflow:hidden;margin:0 auto;position:relative;height:228px;\">\n",
      "        <ul id=\"nav\" class=\"clearfix\" style=\"width: 92000px; left: -3000px;\">\n",
      "                       <li>\n",
      "                          <p><script language=\"javascript\" src=\"/script/61/1406092346552823.js\"></script></p><div class=\"navBo\">\n",
      "            <a href=\"/col1/col5682/index.html\" style=\"display:block\">学校简介</a>\n",
      "            <a href=\"/col1/col12481/index.html\" style=\"display:block\">大学章程</a>\n",
      "            <a href=\"http://www.blcu.edu.cn\" style=\"display:none\">校长致辞</a>\n",
      "            <a href=\"/col1/col5685/index.html\" style=\"display:block\">学校领导</a>\n",
      "            <a href=\"/col1/col6421/index.html\" style=\"display:block\">基础数据</a>\n",
      "            </div>\n",
      "            <div class=\"navBo\" style=\"width:900px;\">\n",
      "                <ul id=\"navBo\" style=\"width:260px;\">\n",
      "                <h4><a href=\"/col1/col5731/index.html\">师资力量</a></h4>\n",
      "                <li><a href=\"/col1/col5732/index.html\">师资简介</a></li>\n",
      "                <li><a href=\"/col1/col5733/index.html\">北语教授</a></li>\n",
      "                <li><a href=\"/col1/col5734/index.html\">长江学者</a></li>\n",
      "              </ul>\n",
      "              <ul id=\"navBo1\" style=\"width:170px;\">\n",
      "                <h4><a href=\"/col1/col5694/index.html\">机构设置</a></h4>\n",
      "                <li><a href=\"/col1/col5694/index.html#jiaoxuedanwei\">教学单位</a></li>\n",
      "                <li><a href=\"/col1/col5694/index.html#keyandanwei\">科研单位</a></li>\n",
      "                <li><a href=\"/col1/col5694/index.html#zhishujiaofu\">管理服务</a></li>\n",
      "              </ul>\n",
      "                           <ul id=\"navBo2\" style=\"width:380px;\">\n",
      "                <h4><a href=\"/col1/col5700/index.html\">走进北语</a></h4>\n",
      "                <li><a href=\"/col1/col5700/index.html#xiaohui\">北语校徽</a></li>\n",
      "                <li><a href=\"/col1/col5700/index.html#xiaoge\">北语校歌</a></li>\n",
      "                <li><a href=\"/col1/col5700/index.html#xiaoyuanwenhua\">校园文化</a></li>\n",
      "                <li><a href=\"/col1/col5700/index.html#xiaoyuanfengguang\">校园风光</a></li>\n",
      "                <li><a href=\"/col1/col5700/index.html#xiaoyuandaoyou\">校园导游</a></li>\n",
      "                <li><a href=\"/col1/col5700/index.html#xiaoyuanshenghuo\">校园生活</a></li>\n",
      "              </ul>\n",
      " </div>\n",
      "<p></p>\n",
      "          \n",
      "          </li><!--学校概况-->\n",
      "                       <li>\n",
      "                         <script language=\"javascript\" src=\"/script/61/1406100010164922.js\"></script><div class=\"navBo\" style=\"width:990px;\">\n",
      "                           <ul id=\"navBo\" style=\"width:690px;\">\n",
      "                <h4><a href=\"/col1/col5737/index.html#zhaosheng\">招生</a></h4>\n",
      "                <li><a href=\"http://zsb.blcu.edu.cn/\" target=\"_blank\">本科生招生</a></li>\n",
      "                <li><a href=\"http://yjsy.blcu.edu.cn/\" target=\"_blank\">研究生招生</a></li>\n",
      "                <li><a href=\"http://admission.blcu.edu.cn/en/default.aspx\" target=\"_blank\">留学生招生</a></li>\n",
      "                <li><a href=\"http://www.cecblcu.cn/\" target=\"_blank\">继续教育招生</a></li>\n",
      "                <li style=\"width:120px;\"><a href=\"http://www.eblcu.cn/\" target=\"_blank\">网络教育(中国学生)</a></li>\n",
      "<li style=\"width:120px;\"><a href=\"http://www.eblcu.com/index.shtm\" target=\"_blank\">网络教育(国际学生)</a></li>\n",
      "\t\t\t\t<li><a href=\"http://www.sasc.cn/\" target=\"_blank\">留学服务</a></li>\n",
      "                <li style=\"width:60%;padding-left:-10px;\"><a href=\"http://peixun.blcu.edu.cn\" target=\"_blank\">短期培训招生</a>\n",
      "                <span>&nbsp;[</span> <a href=\"http://www.blcutraining.com/\" target=\"_blank\" style=\"background:none;\">&nbsp;公派出国&nbsp;</a>\n",
      "                <a href=\"http://ieltstraining.blcu.edu.cn/\" target=\"_blank\" style=\"background:none;\">&nbsp;雅思培训&nbsp;</a>\n",
      "                <a href=\"http://www.blcutraining.com/\" target=\"_blank\" style=\"background:none;\">&nbsp;留学预科&nbsp;</a>\n",
      "                <a href=\"http://qiyepeixun.blcu.edu.cn/\" target=\"_blank\" style=\"background:none;\">&nbsp;团体培训&nbsp;</a>\n",
      "                <a href=\"http://www.etraining.org.cn\" target=\"_blank\" style=\"background:none;\">&nbsp;多语种培训&nbsp;</a>\n",
      "                </li> \n",
      "                <li style=\"background:none; width:75%;\">\n",
      "                <a href=\"http://zile.blcu.edu.cn/\" target=\"_blank\" style=\"background:none;\">&nbsp;青少外语&nbsp;</a>\n",
      "                <a href=\"http://www.guojihanyu.com/\" target=\"_blank\" style=\"background:none;\">&nbsp;国际汉语教师培训&nbsp;</a>\n",
      "                <a href=\"http://www.guojihanyu.com/\" target=\"_blank\" style=\"background:none;\">&nbsp;国际学生汉语游学&nbsp;</a>\n",
      "                <a href=\"http://www.guojihanyu.com/\" target=\"_blank\" style=\"background:none;\">&nbsp;普通话培训&nbsp;</a>\n",
      "                <a href=\"http://af.blcu.edu.cn/\" target=\"_blank\" style=\"background:none;\">&nbsp;法语培训中心&nbsp;</a><span>]</span></li>\n",
      "              </ul>\n",
      "              <ul id=\"navBo2\" style=\"width:200px;\">\n",
      "                <h4><a href=\"/col1/col5737/index.html#jiuye\">就业</a></h4>\n",
      "                <li><a href=\"/col1/col6482/index.html\" target=\"_blank\">就业与发展</a></li>\n",
      "                <li><a href=\"http://jobs.blcu.edu.cn/\" target=\"_blank\">就业信息网</a></li>\n",
      "  </ul>\n",
      " </div>\n",
      "\n",
      "\n",
      "                       </li><!--招生就业-->\n",
      "          \n",
      "                       <li>\n",
      "                      <script language=\"javascript\" src=\"/script/61/1406102033543496.js\"></script><div class=\"navBo\" style=\"width:980px;\">\n",
      "                <ul id=\"navBo3\" style=\"width:140px;\">\n",
      "                <h4><a href=\"http://hjxb.blcu.edu.cn/\" target=\"_blank\">汉语国际教育学部</a></h4>\n",
      "                <li><a href=\"http://hyxy.blcu.edu.cn/\" target=\"_blank\">汉语学院</a></li>\n",
      "                <li><a href=\"http://hyjx.blcu.edu.cn/\" target=\"_blank\">汉语进修学院</a></li>\n",
      "                <li><a href=\"http://sucheng.blcu.edu.cn/\" target=\"_blank\">汉语速成学院</a></li>\n",
      "                <li><a href=\"http://yuke.blcu.edu.cn/\" target=\"_blank\">预科教育学院</a></li>\n",
      "                <li><a>华文学院</a></li>\n",
      "                <li><a>孔子学院事业部</a></li>\n",
      "                <li><a href=\"http://hjjd.blcu.edu.cn/\" target=\"_blank\">国际汉语教学研究基地</a></li>\n",
      "                </ul>\n",
      "              <ul id=\"navBo3\" style=\"width:140px;\">\n",
      "              \t<h4><a href=\"http://wy1.blcu.edu.cn/\" target=\"_blank\">外国语学部</a></h4>\n",
      "                <li><a>英语学院</a></li>\n",
      "                <li><a href=\"http://sti.blcu.edu.cn/\" target=\"_blank\">高级翻译学院</a></li>\n",
      "                <li><a href=\"http://eec.blcu.edu.cn/\" target=\"_blank\">应用外语学院</a></li>\n",
      "                <li><a>东方语言文化学院</a></li>\n",
      "                <li><a>西方语言文化学院</a></li>\n",
      "                <li><a>中东学院</a></li>\n",
      "              </ul>\n",
      "               <ul id=\"navBo3\" style=\"width:140px;\">\n",
      "                <h4><a href=\"http://renwensheke.blcu.edu.cn/\" target=\"_blank\">人文社会科学学部</a></h4>\n",
      "                <li><a href=\"http://hanyujiaoyu.blcu.edu.cn/\" target=\"_blank\">汉语教育学院</a></li>\n",
      "                <li><a href=\"http://renwen1.blcu.edu.cn/\" target=\"_blank\">人文学院</a></li>\n",
      "                <li><a href=\"http://sheke.blcu.edu.cn/\" target=\"_blank\">马克思主义学院</a></li>\n",
      "                <li><a>国际关系学院</a></li>\n",
      "                <li><a href=\"http://sjc.blcu.edu.cn/\" target=\"_blank\">新闻传播学院</a></li>\n",
      "              </ul>\n",
      "              <ul id=\"navBo3\" style=\"width:110px;\">\n",
      "                <h4><a href=\"http://xxkx.blcu.edu.cn/\" target=\"_blank\">信息科学学院</a></h4>\n",
      "                <h4><a href=\"http://bs.blcu.edu.cn/\" target=\"_blank\">商学院</a></h4>\n",
      "                <h4><a href=\"http://ysh.blcu.edu.cn/\" target=\"_blank\">艺术学院</a></h4>\n",
      "                <h4><a>语言康复学院</a></h4>\n",
      "              </ul>\n",
      "              <ul id=\"navBo3\" style=\"width:120px;\">\n",
      "              \t<h4><a href=\"http://peixun.blcu.edu.cn/\" target=\"_blank\">培训学院</a></h4>\n",
      "                <li><a href=\"http://www.blcutraining.com/\" target=\"_blank\">出国培训事业部<br>(含雅思培训中心)</a></li>\n",
      "                <li><a href=\"http://www.guojihanyu.com/\" target=\"_blank\">中文培训事业部</a></li>\n",
      "                <li><a href=\"http://www.etraining.org.cn/\" target=\"_blank\">外语培训事业部</a></li>\n",
      "                <li><a href=\"http://www.cecblcu.cn/\" target=\"_blank\">继续教育事业部</a></li>\n",
      "                <li><a href=\"http://exam.blcu.edu.cn/\" target=\"_blank\">考试中心事业部</a></li>\n",
      "                <li><a href=\"http://www.sasc.cn/\" target=\"_blank\">留学服务中心</a></li>\n",
      "              </ul>\n",
      "              <ul id=\"navBo3\" style=\"width:120px;\">\n",
      "              \t<h4><a href=\"http://online.blcu.edu.cn/\" target=\"_blank\">网络教育学院</a></h4>\n",
      "                <h4>(<a style=\"font-size:12px;\" href=\"http://www.eblcu.cn/\" target=\"_blank\">中国学生远程教学部</a>&nbsp;<a style=\"font-size:12px;\" href=\"http://www.eblcu.com/index.shtm\" target=\"_blank\">汉语教学部</a>)</h4>\n",
      "                <h4><a href=\"http://tyb.blcu.edu.cn/\" target=\"_blank\">体育教学部</a></h4>\n",
      "                <h4><a>对外汉语研究中心</a></h4>\n",
      "              </ul> \n",
      "              <ul id=\"navBo3\" style=\"width:190px;\">\n",
      "              \t<h4><a href=\"http://yykxy.blcu.edu.cn/\" target=\"_blank\">语言科学院</a></h4>\n",
      "                <li><a href=\"http://yys.blcu.edu.cn/\" target=\"_blank\">语言资源研究所</a></li>\n",
      "                <li><a href=\"http://ybs.blcu.edu.cn/\" target=\"_blank\">语言政策与标准研究所</a></li>\n",
      "                <li><a href=\"http://hk.blcu.edu.cn\" target=\"_blank\">汉语考试</a><a>与</a><a>教育测量</a><a>研究所</a></li>\n",
      "                <li><a style=\"width:170px;\" href=\"http://yyjx.blcu.edu.cn/\" target=\"_blank\">《语言教学与研究》编辑部</a></li>\n",
      "                <li><a>语言病理与脑科学研究所</a></li>\n",
      "                <li><a>语言学系</a></li>\n",
      "                <li><a>语言科学实验室</a></li>\n",
      "                <li><a href=\"http://zbyywh.blcu.edu.cn/\" target=\"_blank\">中国周边语言文化协同创新中心</a></li>\n",
      "              </ul>               \n",
      "              </div>\n",
      "\n",
      "\n",
      "          </li><!--院系设置-->\n",
      "                       <li>\n",
      "             <script language=\"javascript\" src=\"/script/61/1406100026344565.js\"></script> <div class=\"navBo\" style=\"width:990px;\">\n",
      "                <ul id=\"navBo1\" style=\"width:90px;\">\n",
      "                <h4><a href=\"/col1/col5710/index.html#benke\">本科生教育</a></h4>\n",
      "                <li><a href=\"/col1/col5716/index.html\">简介</a></li>\n",
      "                <li><a href=\"/col1/col5717/index.html\">专业目录</a></li>\n",
      "                <li><a href=\"/col1/col5718/index.html\">相关链接</a></li>\n",
      "              </ul>\n",
      "              <ul id=\"navBo1\" style=\"width:90px;\">\n",
      "                <h4><a href=\"/col1/col5710/index.html#yanjiu\">研究生教育</a></h4>\n",
      "                <li><a href=\"/col1/col5720/index.html\">简介</a></li>\n",
      "                <li><a href=\"/col1/col5721/index.html\">专业目录</a></li>\n",
      "                <li><a href=\"/col1/col5722/index.html\">相关链接</a></li>\n",
      "              </ul>\n",
      "               <ul id=\"navBo2\" style=\"width:90px;\">\n",
      "                <h4><a href=\"/col1/col5710/index.html#liuxue\">留学生教育</a></h4>\n",
      "                <li><a href=\"/col1/col5712/index.html\">简介</a></li>\n",
      "                <li><a href=\"/col1/col5713/index.html\">专业目录</a></li>\n",
      "                <li><a href=\"/col1/col5714/index.html\">相关链接</a></li>\n",
      "              </ul>\n",
      "               <ul id=\"navBo2\" style=\"width:90px;\">\n",
      "                <h4><a href=\"/col1/col5710/index.html#jixu\">继续教育</a></h4>\n",
      "                <li><a href=\"/col1/col5724/index.html\">简介</a></li>\n",
      "                <li><a href=\"/col1/col5725/index.html\">专业目录</a></li>\n",
      "                <li><a href=\"/col1/col5726/index.html\">相关链接</a></li>\n",
      "              </ul>\n",
      "               <ul id=\"navBo2\" style=\"width:150px;\">\n",
      "                <h4><a href=\"/col1/col5710/index.html#zhongguo\">网络教育（中国学生）</a></h4>\n",
      "                <li><a href=\"/col1/col5782/index.html\">简介</a></li>\n",
      "                <li><a href=\"/col1/col5783/index.html\">专业目录</a></li>\n",
      "                <li><a href=\"/col1/col5784/index.html\">相关链接</a></li>\n",
      "              </ul>\n",
      "              <ul id=\"navBo2\" style=\"width:150px;\">\n",
      "                <h4><a href=\"/col1/col5710/index.html#guoji\">网络教育（国际学生）</a></h4>\n",
      "                <li><a href=\"/col1/col6721/index.html\">简介</a></li>\n",
      "                <li><a href=\"/col1/col6722/index.html\">专业目录</a></li>\n",
      "                <li><a href=\"/col1/col6521/index.html\">相关链接</a></li>\n",
      "              </ul>\n",
      "               <ul id=\"navBo2\" style=\"width:240px;\">\n",
      "                <h4><a href=\"/col1/col5710/index.html#duanqi\">短期培训</a></h4>\n",
      "                <li style=\"padding-right:30px; white-space:nowrap\"><a href=\"http://www.blcutraining.com/\" target=\"_blank\">公派出国</a></li>\n",
      "                <li style=\"padding-right:30px;\"><a href=\"http://ieltstraining.blcu.edu.cn/\" target=\"_blank\" style=\" white-space:nowrap\">雅思培训</a></li>\n",
      "                <li style=\"padding-right:30px;\"><a href=\"http://www.blcutraining.com/\" target=\"_blank\" style=\"white-space:nowrap\">留学预科</a></li>                \n",
      "                <li style=\"padding-right:30px;\"><a href=\"http://qiyepeixun.blcu.edu.cn\" target=\"_blank\" style=\"white-space:nowrap\">团体培训</a></li>\n",
      "                <li style=\"padding-right:30px;\"><a href=\"http://www.etraining.org.cn\" target=\"_blank\" style=\"white-space:nowrap\">多语种培训</a></li>\n",
      "                <li style=\"padding-right:30px;\"><a href=\"http://zile.blcu.edu.cn\" target=\"_blank\" style=\"white-space:nowrap\">青少外语</a></li>\n",
      "                <li style=\"padding-right:30px;\"><a href=\"http://www.guojihanyu.com\" target=\"_blank\" style=\"white-space:nowrap\">国际汉语教师培训</a></li>\n",
      "                <li style=\"padding-right:30px;\"><a style=\"white-space:nowrap\">国际学生汉语游学</a></li>\n",
      "                <li style=\"padding-right:30px;\"><a href=\"http://www.guojihanyu.com/\" target=\"_blank\" style=\"white-space:nowrap\">普通话培训</a></li>\n",
      "                <li style=\"padding-right:30px;\"><a href=\"http://af.blcu.edu.cn/\" target=\"_blank\" style=\"white-space:nowrap\">法语培训中心</a></li>\n",
      "              </ul>\n",
      "              </div>\n",
      "\n",
      " \n",
      "          </li><!--人才培养-->\n",
      "                       <li>\n",
      "             <script language=\"javascript\" src=\"/script/61/1406102032555621.js\"></script> <div class=\"navBo\" style=\"width:900px;\">\n",
      "                           <ul id=\"navBo\" style=\"width:600px;\">\n",
      "                <h4><a>科学研究</a></h4>\n",
      "                <li><a href=\"/col1/col5728/index.html\" style=\"font-size:14px;\">科研项目</a></li>\n",
      "                <li><a href=\"/col1/col5729/index.html\" style=\"font-size:14px;\">科研成果</a></li>\n",
      "                <li><a href=\"/col1/col5730/index.html\" style=\"font-size:14px;\">学术刊物</a></li>\n",
      "                <li><a href=\"/col1/col6283/index.html\" style=\"font-size:14px;\">科研资源</a></li>\n",
      "                </ul>\n",
      " </div>\n",
      "\n",
      "\n",
      "          </li><!--教学科研-->\n",
      "                      \n",
      "                     </ul>\n",
      "      </div>\n",
      "                 </div>\n",
      " <div class=\"navyy\"></div>                 \n",
      "  </div>\n",
      "             </div>\n",
      "<!--nav end--> \n",
      "<!--banner start-->\n",
      "\t\t\t<div id=\"slideBox\" class=\"slideBox\"> \n",
      "\n",
      "\t\t\t\t        \n",
      "<div class=\"bd\">\n",
      "\t\t\t\t\t\t<ul style=\"position: relative; width: 865px; height: 420px;\">\n",
      "\t\t\t\t\t\t\t\n",
      "\n",
      "\t\t\t\t\t\t\t<li style=\"position: absolute; width: 865px; left: 0px; top: 0px; display: none;\">\n",
      "\t\t\t\t\t\t\t\t<a href=\"#\" target=\"_blank\"> <img src=\"/picture/0/s_b6c8fec413c74fefbda192cccd5d5c8e.jpg\"></a>\n",
      "\t\t\t\t\t\t\t</li>\t\t\t\t\t\t\t\t\t\n",
      "\t\t\t\t\t\t\t\n",
      "\n",
      "\t\t\t\t\t\t\t<li style=\"position: absolute; width: 865px; left: 0px; top: 0px; display: none;\">\n",
      "\t\t\t\t\t\t\t\t<a href=\"#\" target=\"_blank\"> <img src=\"/picture/0/s_df420f10569a4f5e879ed0f6eadbe977.jpg\"></a>\n",
      "\t\t\t\t\t\t\t</li>\t\t\t\t\t\t\t\t\t\n",
      "\t\t\t\t\t\t\t\n",
      "\n",
      "\t\t\t\t\t\t\t<li style=\"position: absolute; width: 865px; left: 0px; top: 0px; display: none;\">\n",
      "\t\t\t\t\t\t\t\t<a href=\"#\" target=\"_blank\"> <img src=\"/picture/0/s_cac0d2c73e744d61856e47712a2d2388.jpg\"></a>\n",
      "\t\t\t\t\t\t\t</li>\t\t\t\t\t\t\t\t\t\n",
      "\t\t\t\t\t\t\t\n",
      "\n",
      "\t\t\t\t\t\t\t<li style=\"position: absolute; width: 865px; left: 0px; top: 0px; display: list-item;\">\n",
      "\t\t\t\t\t\t\t\t<a href=\"#\" target=\"_blank\"> <img src=\"/picture/0/s_cb6bd7a0d1e848f19d026e9245933bd0.jpg\"></a>\n",
      "\t\t\t\t\t\t\t</li>\t\t\t\t\t\t\t\t\t\n",
      "\t\t\t\t\t\t\t\n",
      "\t\t\t\t\t\t</ul>\n",
      "\t\t\t\t\t\t\n",
      "\t\t\t\t\t</div>\n",
      "\t\t\t\t\t\n",
      "\t\t\t\t\t<div class=\"focusBtnBg\"></div>\n",
      "\t\t\t\t\t<div class=\"hd\">\n",
      "\t\t\t\t\t\t<ul style=\"width:112px;margin:0 auto;\">\n",
      "\t\t\t\t\t\t\n",
      "\t\t\t\t\t\t\t<li style=\"float:left\" class=\"\"></li>\n",
      "                       \n",
      "\t\t\t\t\t\t\t<li style=\"float:left\" class=\"\"></li>\n",
      "                       \n",
      "\t\t\t\t\t\t\t<li style=\"float:left\" class=\"\"></li>\n",
      "                       \n",
      "\t\t\t\t\t\t\t<li style=\"float:left\" class=\"on\"></li>\n",
      "                       \n",
      "\t\t\t\t\t\t\t\n",
      "\t\t\t\t\t\t</ul>\n",
      "\t\t\t\t\t\t<div class=\"review_news\">\n",
      "<a href=\"/col/col5758/index.html\" target=\"_blank\">MORE</a>\t\t\t\t</div>\n",
      "\t\t\t\t\t</div>\n",
      "\t\t\t\t\t<a class=\"prev\" href=\"javascript:void(0)\"></a>\n",
      "\t\t\t\t\t<a class=\"next\" href=\"javascript:void(0)\"></a>\n",
      "\n",
      "\t\t\t\t\t<script type=\"text/javascript\">\n",
      "\t\t\t\t\t\t\t\t\t\tjQuery(\".slideBox\").slide({mainCell:\".bd ul\",effect: \"fold\",autoPlay:true,trigger:\"click\",interTime: 3000,delayTime:700});\t\t\t\t\t\t\t\t\n",
      "\t\t\t\t\t</script> \t\n",
      "\n",
      "             </div>\n",
      "\t\t\t \n",
      "<style>\n",
      "\n",
      "</style>\t\t\t \n",
      "<script type=\"text/javascript\" src=\"/images/967/sucaiweb.js\"></script> \n",
      "<!--banner end--> \n",
      "<!--main1 start-->\n",
      "<div class=\"zmain1\">\n",
      "               <div class=\"center\">\n",
      "    <div class=\"zleft fl\">\n",
      "                   <div class=\"ztitle\">\n",
      "        <ul class=\"zt_icob\">\n",
      "                       <li class=\"zt_h fl\">\n",
      "            <h2>北语新闻</h2>\n",
      "            <p class=\"gray\">LCU NEWS</p>\n",
      "          </li>\n",
      "                       <li class=\"zt_more yellow fr\"><a href=\"http://news.blcu.edu.cn/\" title=\"更多\" class=\"more_l\">MORE</a></li>\n",
      "                     </ul>\n",
      "      </div>\n",
      "                   <div>\n",
      "        <ul class=\"zcontent\">\n",
      "   \n",
      "<li>\n",
      "            <h2 class=\"zc_h2 overflow\">\n",
      "\t\t\t<a href=\"http://news.blcu.edu.cn/info/1011/18239.htm\" target=\"_blank\">【主题教育】千里深情告白祖国，春城唱响时代之声</a></h2>\n",
      "            <p class=\"zc_date gray\">2019-11-12</p>\n",
      "            <div class=\"clear\"></div>\n",
      "</li>\n",
      "  \n",
      "<li>\n",
      "            <h2 class=\"zc_h2 overflow\">\n",
      "\t\t\t<a href=\"http://news.blcu.edu.cn/info/1011/18237.htm\" target=\"_blank\">第三届中国书法国际传播论坛举行</a></h2>\n",
      "            <p class=\"zc_date gray\">2019-11-12</p>\n",
      "            <div class=\"clear\"></div>\n",
      "</li>\n",
      "  \n",
      "<li>\n",
      "            <h2 class=\"zc_h2 overflow\">\n",
      "\t\t\t<a href=\"http://news.blcu.edu.cn/info/1011/18222.htm\" target=\"_blank\">北语齐鸣教授团队作品入选国家主题性美术创作项目</a></h2>\n",
      "            <p class=\"zc_date gray\">2019-11-11</p>\n",
      "            <div class=\"clear\"></div>\n",
      "</li>\n",
      "  \n",
      "<li>\n",
      "            <h2 class=\"zc_h2 overflow\">\n",
      "\t\t\t<a href=\"http://news.blcu.edu.cn/info/1011/18220.htm\" target=\"_blank\">【主题教育】以主题教育新成效，擦亮北京语言大学金字招牌</a></h2>\n",
      "            <p class=\"zc_date gray\">2019-11-11</p>\n",
      "            <div class=\"clear\"></div>\n",
      "</li>\n",
      "  \n",
      "<li>\n",
      "            <h2 class=\"zc_h2 overflow\">\n",
      "\t\t\t<a href=\"http://news.blcu.edu.cn/info/1011/18215.htm\" target=\"_blank\">【主题教育】网络教育学院深入推进主题教育</a></h2>\n",
      "            <p class=\"zc_date gray\">2019-11-11</p>\n",
      "            <div class=\"clear\"></div>\n",
      "</li>\n",
      "  \n",
      "<li>\n",
      "            <h2 class=\"zc_h2 overflow\">\n",
      "\t\t\t<a href=\"http://news.blcu.edu.cn/info/1011/18214.htm\" target=\"_blank\">北语师生热议党的十九届四中全会精神</a></h2>\n",
      "            <p class=\"zc_date gray\">2019-11-08</p>\n",
      "            <div class=\"clear\"></div>\n",
      "</li>\n",
      "\n",
      "</ul>\n",
      "\n",
      "      </div>\n",
      "                 </div>\n",
      "    <div class=\"zright fl\">\n",
      "                   <div class=\"ztitle\">\n",
      "        <ul class=\"zt_icoa\">\n",
      "                       <li class=\"zt_h fl\">\n",
      "            <h2>学术活动</h2>\n",
      "            <p class=\"gray\">CADEMIC</p>\n",
      "          </li>\n",
      "                       <li class=\"zt_more1 yellow fr\"><a href=\"/col1/col6441/index.html\" title=\"更多\" class=\"more_l\">MORE</a>\n",
      "</li>\n",
      "                     </ul>\n",
      "      </div>\n",
      "                   <div>\n",
      "       <script>$(function(){ $('*',$('form.comment')).attr('disabled', 'disabled');}); </script><ul class=\"zactive\">\n",
      "   \n",
      "<li class=\"za_row\">\n",
      "            <dl class=\"za_time fl\">\n",
      "                           <dd class=\"za_m blue\">11/12</dd>\n",
      "                           <dd class=\"za_y white\">2019</dd>\n",
      "                         </dl>\n",
      "            <dl class=\"za_text fl\">\n",
      "                           <dd class=\"za_h2 overflow\"><a target=\"_blank\" title=\"具身语义学前沿讲座\" href=\"/art/2019/11/12/art_6441_10693.html\">具身语义学前沿讲座</a></dd>\n",
      "                           <dd class=\"gray\">主讲人：Louise Connell 教授</dd>\n",
      "                         </dl>\n",
      "            <div class=\"clear\"></div>\n",
      "          </li>\n",
      "  \n",
      "<li class=\"za_row\">\n",
      "            <dl class=\"za_time fl\">\n",
      "                           <dd class=\"za_m blue\">11/12</dd>\n",
      "                           <dd class=\"za_y white\">2019</dd>\n",
      "                         </dl>\n",
      "            <dl class=\"za_text fl\">\n",
      "                           <dd class=\"za_h2 overflow\"><a target=\"_blank\" title=\"文学前沿课程系列讲座（第60讲）\" href=\"/art/2019/11/12/art_6441_10691.html\">文学前沿课程系列讲座（第60讲）</a></dd>\n",
      "                           <dd class=\"gray\">主讲人：张重岗研究员</dd>\n",
      "                         </dl>\n",
      "            <div class=\"clear\"></div>\n",
      "          </li>\n",
      "  \n",
      "<li class=\"za_row\">\n",
      "            <dl class=\"za_time fl\">\n",
      "                           <dd class=\"za_m blue\">11/12</dd>\n",
      "                           <dd class=\"za_y white\">2019</dd>\n",
      "                         </dl>\n",
      "            <dl class=\"za_text fl\">\n",
      "                           <dd class=\"za_h2 overflow\"><a target=\"_blank\" title=\"语言学学术前沿与创新课程（第88讲）\" href=\"/art/2019/11/12/art_6441_10689.html\">语言学学术前沿与创新课程（第88讲）</a></dd>\n",
      "                           <dd class=\"gray\">主讲人：熊仲儒教授</dd>\n",
      "                         </dl>\n",
      "            <div class=\"clear\"></div>\n",
      "          </li>\n",
      "\n",
      "</ul>\n",
      "\n",
      "      </div>\n",
      "                 </div>\n",
      "    <div class=\"clear\"></div>\n",
      "  </div>\n",
      "             </div>\n",
      "<!--main1 end-->\n",
      "\n",
      "<div class=\"zmain2\">\n",
      "               <div class=\"center zroject\">\n",
      "    <div class=\"zr_abs\">\n",
      "                   <div class=\"zr_left fl\">\n",
      "        <div class=\"zr_l_title\">\n",
      "                       <ul class=\"zt_icop\">\n",
      "            <li class=\"zt_h fl\">\n",
      "                           <h2 class=\"white\">专题活动</h2>\n",
      "                           <p class=\"white\">VENTS</p>\n",
      "                         </li>\n",
      "            <li class=\"zt_more2 white fr\"><a href=\"/col/col5759/index.html\" title=\"更多\">MORE</a>\n",
      "</li>\n",
      "            <div class=\"clear\"></div>\n",
      "          </ul>\n",
      "                     </div>\n",
      "        <div class=\"zr_l_content\">\n",
      "                       <div class=\"zr_l_re\">\n",
      "            <div class=\"FocusImg\" id=\"banner2\"> <span class=\"Btn BtnLeft\" role=\"left\"></span> <span class=\"Btn BtnRight\" role=\"right\"></span>\n",
      "                           <div class=\"FocusPic\" role=\"viewport\">\n",
      "                <ul role=\"content\" style=\"width: 4860px; left: -1620px;\">\n",
      "  \n",
      " <li><a target=\"_blank\" title=\"我为国际中长期科技规划建言献策\" href=\"https://advice2035.most.gov.cn/\"><img src=\"/picture/0/s_2c83048b34ae45a78f585677b6cd4d44.jpg\" width=\"540\" height=\"250\" alt=\"我为国际中长期科技规划建言献策\"></a>\n",
      "<p class=\"white Text\">我为国际中长期科技规划建言献策</p>\n",
      "</li>\n",
      " \n",
      " <li><a target=\"_blank\" title=\"不忘初心 牢记使命\" href=\"http://bwcx.blcu.edu.cn/\"><img src=\"/picture/0/s_249b964bbfe741c9bf217f67abe0315b.jpg\" width=\"540\" height=\"250\" alt=\"不忘初心 牢记使命\"></a>\n",
      "<p class=\"white Text\">不忘初心 牢记使命</p>\n",
      "</li>\n",
      " \n",
      " <li><a target=\"_blank\" title=\"北京语言大学教师个人主页\" href=\"http://faculty.blcu.edu.cn/\"><img src=\"/picture/0/s_237d016bc7ef49ea8764fad01eafe4dc.png\" width=\"540\" height=\"250\" alt=\"北京语言大学教师个人主页\"></a>\n",
      "<p class=\"white Text\">北京语言大学教师个人主页</p>\n",
      "</li>\n",
      "\n",
      " \n",
      "  \n",
      " <li><a target=\"_blank\" title=\"我为国际中长期科技规划建言献策\" href=\"https://advice2035.most.gov.cn/\"><img src=\"/picture/0/s_2c83048b34ae45a78f585677b6cd4d44.jpg\" width=\"540\" height=\"250\" alt=\"我为国际中长期科技规划建言献策\"></a>\n",
      "<p class=\"white Text\">我为国际中长期科技规划建言献策</p>\n",
      "</li>\n",
      " \n",
      " <li><a target=\"_blank\" title=\"不忘初心 牢记使命\" href=\"http://bwcx.blcu.edu.cn/\"><img src=\"/picture/0/s_249b964bbfe741c9bf217f67abe0315b.jpg\" width=\"540\" height=\"250\" alt=\"不忘初心 牢记使命\"></a>\n",
      "<p class=\"white Text\">不忘初心 牢记使命</p>\n",
      "</li>\n",
      " \n",
      " <li><a target=\"_blank\" title=\"北京语言大学教师个人主页\" href=\"http://faculty.blcu.edu.cn/\"><img src=\"/picture/0/s_237d016bc7ef49ea8764fad01eafe4dc.png\" width=\"540\" height=\"250\" alt=\"北京语言大学教师个人主页\"></a>\n",
      "<p class=\"white Text\">北京语言大学教师个人主页</p>\n",
      "</li>\n",
      "\n",
      " \n",
      "  \n",
      " <li><a target=\"_blank\" title=\"我为国际中长期科技规划建言献策\" href=\"https://advice2035.most.gov.cn/\"><img src=\"/picture/0/s_2c83048b34ae45a78f585677b6cd4d44.jpg\" width=\"540\" height=\"250\" alt=\"我为国际中长期科技规划建言献策\"></a>\n",
      "<p class=\"white Text\">我为国际中长期科技规划建言献策</p>\n",
      "</li>\n",
      " \n",
      " <li><a target=\"_blank\" title=\"不忘初心 牢记使命\" href=\"http://bwcx.blcu.edu.cn/\"><img src=\"/picture/0/s_249b964bbfe741c9bf217f67abe0315b.jpg\" width=\"540\" height=\"250\" alt=\"不忘初心 牢记使命\"></a>\n",
      "<p class=\"white Text\">不忘初心 牢记使命</p>\n",
      "</li>\n",
      " \n",
      " <li><a target=\"_blank\" title=\"北京语言大学教师个人主页\" href=\"http://faculty.blcu.edu.cn/\"><img src=\"/picture/0/s_237d016bc7ef49ea8764fad01eafe4dc.png\" width=\"540\" height=\"250\" alt=\"北京语言大学教师个人主页\"></a>\n",
      "<p class=\"white Text\">北京语言大学教师个人主页</p>\n",
      "</li>\n",
      "\n",
      " </ul>\n",
      "\n",
      "              </div>\n",
      "                           <div class=\"FocusNum1\">\n",
      "                <div class=\"focusWidth\" role=\"points\"> <a href=\"javascript:;\" class=\"FocusCur1\"></a><a href=\"javascript:;\" class=\"\"></a><a href=\"javascript:;\" class=\"\"></a> </div>\n",
      "              </div>\n",
      "                         </div>\n",
      "          </div>\n",
      "                     </div>\n",
      "      </div>\n",
      "                   <div class=\"zr_right fl\">\n",
      "        <div class=\"zr_r_title\">\n",
      "                       <ul id=\"tab\">\n",
      "            <li class=\"zr_r_on\"><a href=\"/col1/col5706/index.html\" style=\"color:white;\" target=\"_blank\">公告通知</a></li>\n",
      "            <li><a href=\"http://renshi.blcu.edu.cn/col/col1289/index.html\" style=\"color:white;\" target=\"_blank\">人才招聘</a></li>\n",
      "            <li><a href=\"/col1/col5707/index.html\" style=\"color:white;\" target=\"_blank\">招标公告</a></li>\n",
      "          </ul>\n",
      "                     </div>\n",
      "        <div id=\"zr_r_content\">\n",
      "                       <ul class=\"zr_r_content\" style=\" display:block;\">\n",
      "              \n",
      "<li>\n",
      "            <h2 class=\"zr_r_h2 overflow\"><a target=\"_blank\" title=\"关于组织我校学生参加2020年西语专业八级考试报名的通知\" href=\"/art/2019/11/8/art_5706_1149063.html\">关于组织我校学生参加2020年西语专业八级考试报名的通知</a></h2>\n",
      "            <p class=\"zr_r_date\">2019-11-08</p>\n",
      "            <div class=\"clear\"></div>\n",
      "</li>\n",
      "  \n",
      "<li>\n",
      "            <h2 class=\"zr_r_h2 overflow\"><a target=\"_blank\" title=\"关于开展2019年“北京高校优秀本科育人团队”和“北京高校优秀本科教学管理人员”评选工作的通知\" href=\"/art/2019/11/7/art_5706_1149035.html\">关于开展2019年“北京高校优秀本科育人团队”和“北京高校优秀本科教学管理人员”评选工作的通知</a></h2>\n",
      "            <p class=\"zr_r_date\">2019-11-07</p>\n",
      "            <div class=\"clear\"></div>\n",
      "</li>\n",
      "  \n",
      "<li>\n",
      "            <h2 class=\"zr_r_h2 overflow\"><a target=\"_blank\" title=\"关于组织我校学生参加2020年俄语专业八级考试报名的通知\" href=\"/art/2019/11/5/art_5706_1148931.html\">关于组织我校学生参加2020年俄语专业八级考试报名的通知</a></h2>\n",
      "            <p class=\"zr_r_date\">2019-11-05</p>\n",
      "            <div class=\"clear\"></div>\n",
      "</li>\n",
      "  \n",
      "<li>\n",
      "            <h2 class=\"zr_r_h2 overflow\"><a target=\"_blank\" title=\"关于11月份办理提取公积金通知\" href=\"/art/2019/11/1/art_5706_1148852.html\">关于11月份办理提取公积金通知</a></h2>\n",
      "            <p class=\"zr_r_date\">2019-11-01</p>\n",
      "            <div class=\"clear\"></div>\n",
      "</li>\n",
      "  \n",
      "<li>\n",
      "            <h2 class=\"zr_r_h2 overflow\"><a target=\"_blank\" title=\"第一届语言习得、认知与脑科学国际学术研讨会（CLCB-1）通知（第1号）\" href=\"/art/2019/10/30/art_5706_1148735.html\">第一届语言习得、认知与脑科学国际学术研讨会（CLCB-1）通知（第1号）</a></h2>\n",
      "            <p class=\"zr_r_date\">2019-10-30</p>\n",
      "            <div class=\"clear\"></div>\n",
      "</li>\n",
      "  \n",
      "<li>\n",
      "            <h2 class=\"zr_r_h2 overflow\"><a target=\"_blank\" title=\"关于开展“2019年秋季北京语言大学计算机设计大赛”的通知\" href=\"/art/2019/10/28/art_5706_1148653.html\">关于开展“2019年秋季北京语言大学计算机设计大赛”的通知</a></h2>\n",
      "            <p class=\"zr_r_date\">2019-10-28</p>\n",
      "            <div class=\"clear\"></div>\n",
      "</li>\n",
      "  \n",
      "<li>\n",
      "            <h2 class=\"zr_r_h2 overflow\"><a target=\"_blank\" title=\"关于制作2020年春季毕业生纪念册的通知\" href=\"/art/2019/10/23/art_5706_1148266.html\">关于制作2020年春季毕业生纪念册的通知</a></h2>\n",
      "            <p class=\"zr_r_date\">2019-10-23</p>\n",
      "            <div class=\"clear\"></div>\n",
      "</li>\n",
      "\n",
      "<li style=\"background:none;\">\n",
      "<p align=\"right\"><a target=\"_blank\" href=\"/col1/col5706/index.html\" class=\"yellow\" style=\"color:#f1b000; padding-right:20px;\">MORE</a></p></li>\n",
      "\n",
      "          </ul>\n",
      "                       <ul class=\"zr_r_content\">\n",
      "             \n",
      "<li>\n",
      "            <h2 class=\"zr_r_h2 overflow\"><a target=\"_blank\" title=\"北京语言大学汉语国际教育研究院国内外高层次人才和优秀中青年学者招聘启事\" href=\"http://renshi.blcu.edu.cn/info/1048/2031.htm\">北京语言大学汉语国际教育研究院国内外高层次人才和优秀中青年学者招聘启事</a></h2>\n",
      "            <p class=\"zr_r_date\">2019-09-25</p>\n",
      "            <div class=\"clear\"></div>\n",
      "</li>\n",
      "  \n",
      "<li>\n",
      "            <h2 class=\"zr_r_h2 overflow\"><a target=\"_blank\" title=\"北京语言大学培训学院外语部兼职英语教师招聘启事\" href=\"http://renshi.blcu.edu.cn/info/1048/1953.htm\">北京语言大学培训学院外语部兼职英语教师招聘启事</a></h2>\n",
      "            <p class=\"zr_r_date\">2019-06-28</p>\n",
      "            <div class=\"clear\"></div>\n",
      "</li>\n",
      "  \n",
      "<li>\n",
      "            <h2 class=\"zr_r_h2 overflow\"><a target=\"_blank\" title=\"北京语言大学培训学院外语部招聘启事\" href=\"http://renshi.blcu.edu.cn/info/1048/1952.htm\">北京语言大学培训学院外语部招聘启事</a></h2>\n",
      "            <p class=\"zr_r_date\">2019-06-28</p>\n",
      "            <div class=\"clear\"></div>\n",
      "</li>\n",
      "  \n",
      "<li>\n",
      "            <h2 class=\"zr_r_h2 overflow\"><a target=\"_blank\" title=\"北京语言大学2019年博士后研究人员招收简章\" href=\"http://renshi.blcu.edu.cn/info/1048/1951.htm\">北京语言大学2019年博士后研究人员招收简章</a></h2>\n",
      "            <p class=\"zr_r_date\">2019-06-27</p>\n",
      "            <div class=\"clear\"></div>\n",
      "</li>\n",
      "  \n",
      "<li>\n",
      "            <h2 class=\"zr_r_h2 overflow\"><a target=\"_blank\" title=\"北京语言大学国际学生教育政策与评价研究院2019年合同制人员招聘公告\" href=\"http://renshi.blcu.edu.cn/info/1048/1500.htm\">北京语言大学国际学生教育政策与评价研究院2019年合同制人员招聘公告</a></h2>\n",
      "            <p class=\"zr_r_date\">2019-06-21</p>\n",
      "            <div class=\"clear\"></div>\n",
      "</li>\n",
      "  \n",
      "<li>\n",
      "            <h2 class=\"zr_r_h2 overflow\"><a target=\"_blank\" title=\"北京语言大学汉语国际教育学部预科教育学院合同制人员招聘启事\" href=\"http://renshi.blcu.edu.cn/info/1048/1498.htm\">北京语言大学汉语国际教育学部预科教育学院合同制人员招聘启事</a></h2>\n",
      "            <p class=\"zr_r_date\">2019-05-30</p>\n",
      "            <div class=\"clear\"></div>\n",
      "</li>\n",
      "  \n",
      "<li>\n",
      "            <h2 class=\"zr_r_h2 overflow\"><a target=\"_blank\" title=\"北京语言大学汉语国际教育学部预科教育学院2019年公开招聘事业编制工作人员启事\" href=\"http://renshi.blcu.edu.cn/info/1048/1496.htm\">北京语言大学汉语国际教育学部预科教育学院2019年公开招聘事业编制工作人员启事</a></h2>\n",
      "            <p class=\"zr_r_date\">2019-05-24</p>\n",
      "            <div class=\"clear\"></div>\n",
      "</li>\n",
      "\n",
      "<li style=\"background:none;\">\n",
      "<p align=\"right\"><a target=\"_blank\" href=\"http://renshi.blcu.edu.cn/zpxx.htm\" class=\"yellow\" style=\"color:#f1b000;  padding-right:20px;\">MORE</a></p></li>\n",
      "\n",
      "          </ul>\n",
      "                       <ul class=\"zr_r_content\">\n",
      "            \n",
      "<li>\n",
      "            <h2 class=\"zr_r_h2 overflow\"><a target=\"_blank\" title=\"北京语言大学2019-2022年度招标代理机构遴选项目公开招标公告\" href=\"http://www.ccgp.gov.cn/cggg/zygg/gkzb/201911/t20191111_13305102.htm\">北京语言大学2019-2022年度招标代理机构遴选项目公开招标公告</a></h2>\n",
      "            <p class=\"zr_r_date\">2019-11-11</p>\n",
      "            <div class=\"clear\"></div>\n",
      "</li>\n",
      "  \n",
      "<li>\n",
      "            <h2 class=\"zr_r_h2 overflow\"><a target=\"_blank\" title=\"北京语言大学电梯维保服务项目公开招标公告\" href=\"http://www.ccgp.gov.cn/cggg/dfgg/gkzb/201911/t20191108_13293609.htm\">北京语言大学电梯维保服务项目公开招标公告</a></h2>\n",
      "            <p class=\"zr_r_date\">2019-11-11</p>\n",
      "            <div class=\"clear\"></div>\n",
      "</li>\n",
      "  \n",
      "<li>\n",
      "            <h2 class=\"zr_r_h2 overflow\"><a target=\"_blank\" title=\"北京语言大学消防维保项目公开招标公告\" href=\"http://www.ccgp.gov.cn/cggg/dfgg/gkzb/201911/t20191108_13293591.htm\">北京语言大学消防维保项目公开招标公告</a></h2>\n",
      "            <p class=\"zr_r_date\">2019-11-11</p>\n",
      "            <div class=\"clear\"></div>\n",
      "</li>\n",
      "  \n",
      "<li>\n",
      "            <h2 class=\"zr_r_h2 overflow\"><a target=\"_blank\" title=\"北京语言大学孔子学院事业部文化研修项目公开招标公告\" href=\"http://cgb.blcu.edu.cn/art/2019/11/7/art_15158_1149056.html\">北京语言大学孔子学院事业部文化研修项目公开招标公告</a></h2>\n",
      "            <p class=\"zr_r_date\">2019-11-07</p>\n",
      "            <div class=\"clear\"></div>\n",
      "</li>\n",
      "  \n",
      "<li>\n",
      "            <h2 class=\"zr_r_h2 overflow\"><a target=\"_blank\" title=\"北京语言大学孔子学院总部2020年赴韩国中小学汉语教师志愿者培训住宿项目更正公告\" href=\"http://www.ccgp.gov.cn/cggg/zygg/gzgg/201911/t20191105_13260941.htm\">北京语言大学孔子学院总部2020年赴韩国中小学汉语教师志愿者培训住宿项目更正公告</a></h2>\n",
      "            <p class=\"zr_r_date\">2019-11-05</p>\n",
      "            <div class=\"clear\"></div>\n",
      "</li>\n",
      "  \n",
      "<li>\n",
      "            <h2 class=\"zr_r_h2 overflow\"><a target=\"_blank\" title=\"北京语言大学工会2020年福利物品采购项目竞争性磋商\" href=\"http://www.ccgp.gov.cn/cggg/zygg/jzxcs/201910/t20191030_13222772.htm\">北京语言大学工会2020年福利物品采购项目竞争性磋商</a></h2>\n",
      "            <p class=\"zr_r_date\">2019-10-30</p>\n",
      "            <div class=\"clear\"></div>\n",
      "</li>\n",
      "  \n",
      "<li>\n",
      "            <h2 class=\"zr_r_h2 overflow\"><a target=\"_blank\" title=\"北京语言大学工会2020年生日蛋糕采购项目公开招标公告\" href=\"http://www.ccgp.gov.cn/cggg/dfgg/gkzb/201910/t20191030_13217531.htm\">北京语言大学工会2020年生日蛋糕采购项目公开招标公告</a></h2>\n",
      "            <p class=\"zr_r_date\">2019-10-30</p>\n",
      "            <div class=\"clear\"></div>\n",
      "</li>\n",
      "\n",
      "<li style=\"background:none;\">\n",
      "<p align=\"right\"><a target=\"_blank\" href=\"/col1/col5707/index.html\" class=\"yellow\" style=\"color:#f1b000; padding-right:20px;\">MORE</a></p>\n",
      "</li>\n",
      "\n",
      "          </ul>\n",
      "                     </div>\n",
      "      </div>\n",
      "                   <div class=\"clear\"></div>\n",
      "                 </div>\n",
      "  </div>\n",
      "             </div>\n",
      "<div class=\"zmain1\"> \n",
      "               <!--其他链接-->\n",
      "               <div class=\"center\">\n",
      "    <div class=\"zp_name\">其他链接</div>\n",
      "    <div class=\"rollphotos\">\n",
      "    <ul>\n",
      "   \n",
      "<li><a target=\"_blank\" title=\"北语教师个人主页\" href=\"http://faculty.blcu.edu.cn/\">北语教师个人主页</a>\n",
      "</li>\n",
      "  \n",
      "<li><a target=\"_blank\" title=\"不忘初心牢记使命 主题教育\" href=\"http://bwcx.blcu.edu.cn/\">不忘初心牢记使命 主题教育</a>\n",
      "</li>\n",
      "  \n",
      "<li><a target=\"_blank\" title=\"北京语言大学第九次党代会\" href=\"http://ddh.blcu.edu.cn/\">北京语言大学第九次党代会</a>\n",
      "</li>\n",
      "  \n",
      "<li><a target=\"_blank\" title=\"虚拟校园\" href=\"http://map.blcu.edu.cn/en/\">虚拟校园</a>\n",
      "</li>\n",
      "  \n",
      "<li><a target=\"_blank\" title=\"短信平台\" href=\"http://202.112.192.230\">短信平台</a>\n",
      "</li>\n",
      "  \n",
      "<li><a target=\"_blank\" title=\"图书馆\" href=\"http://lib.blcu.edu.cn/\">图书馆</a>\n",
      "</li>\n",
      "  \n",
      "<li><a target=\"_blank\" title=\"重返中国\" href=\"http://returntochina.blcu.edu.cn/\">重返中国</a>\n",
      "</li>\n",
      "  \n",
      "<li><a target=\"_blank\" title=\"北语教师邮箱\" href=\"http://mail.blcu.edu.cn\">北语教师邮箱</a>\n",
      "</li>\n",
      "  \n",
      "<li><a target=\"_blank\" title=\"北语学生邮箱\" href=\"http://mail.stu.blcu.edu.cn/\">北语学生邮箱</a>\n",
      "</li>\n",
      "  \n",
      "<li><a target=\"_blank\" title=\"北语VPN\" href=\"http://webvpn.blcu.edu.cn\">北语VPN</a>\n",
      "</li>\n",
      "  \n",
      "<li><a target=\"_blank\" title=\"北语IPv6\" href=\"http://ipv6.blcu6.edu.cn/\">北语IPv6</a>\n",
      "</li>\n",
      "  \n",
      "<li><a target=\"_blank\" title=\"网上北语\" href=\"http://www.eblcu.com\">网上北语</a>\n",
      "</li>\n",
      "  \n",
      "<li><a target=\"_blank\" title=\"培训部\" href=\"http://waiyubu.blcu.edu.cn\">培训部</a>\n",
      "</li>\n",
      "  \n",
      "<li><a target=\"_blank\" title=\"北语留服\" href=\"http://sasc.blcu.edu.cn\">北语留服</a>\n",
      "</li>\n",
      "  \n",
      "<li><a target=\"_blank\" title=\"出国部\" href=\"http://www.blcutraining.com/\">出国部</a>\n",
      "</li>\n",
      "  \n",
      "<li><a target=\"_blank\" title=\"教师进修网\" href=\"http://www.guojihanyu.com/\">教师进修网</a>\n",
      "</li>\n",
      "  \n",
      "<li><a target=\"_blank\" title=\"北语考试\" href=\"http://exam.blcu.edu.cn/\">北语考试</a>\n",
      "</li>\n",
      "  \n",
      "<li><a target=\"_blank\" title=\"普通话培训\" href=\"http://exchange.blcu.edu.cn/col/col3847/index.html\">普通话培训</a>\n",
      "</li>\n",
      "  \n",
      "<li><a target=\"_blank\" title=\"心理中心\" href=\"http://xinli.blcu.edu.cn/\">心理中心</a>\n",
      "</li>\n",
      "  \n",
      "<li><a target=\"_blank\" title=\"站点导航\" href=\"/art/2012/7/2/art_5750_1070414.html\">站点导航</a>\n",
      "</li>\n",
      "  \n",
      "<li><a target=\"_blank\" title=\"财政科研项目资金管理政策\" href=\"http://www.blcu.edu.cn/col/col5748/index.html#caizheng\">财政科研项目资金管理政策</a>\n",
      "</li>\n",
      "  \n",
      "<li><a target=\"_blank\" title=\"本科教学工作审核评估\" href=\"http://shpg.blcu.edu.cn/\">本科教学工作审核评估</a>\n",
      "</li>\n",
      "\n",
      "</ul>\n",
      "  \n",
      "                 </div>\n",
      "  </div>\n",
      "               <!---其他链接 end--> \n",
      "               <!--校内网站 start-->\n",
      "               <div class=\"center zprivate\">\n",
      "    <ul>\n",
      "                   <li class=\"zp_name fl\">校内网站</li>\n",
      "\n",
      "                   <li class=\"zp_links fl\">\n",
      "        <div class=\"selectBox\">\n",
      "                      <p value=\"0\">教学单位</p>\n",
      "<ul>\n",
      "   \n",
      "            <li value=\"1\"><a target=\"_blank\" title=\"汉语国际教育学部\" href=\"http://hjxb.blcu.edu.cn/\">汉语国际教育学部</a></li>\n",
      "  \n",
      "            <li value=\"2\"><a target=\"_blank\" title=\"汉语学院\" href=\"http://hyxy.blcu.edu.cn/\">汉语学院</a></li>\n",
      "  \n",
      "            <li value=\"3\"><a target=\"_blank\" title=\"汉语进修学院\" href=\"http://hyjx.blcu.edu.cn/index.html\">汉语进修学院</a></li>\n",
      "  \n",
      "            <li value=\"4\"><a target=\"_blank\" title=\"汉语速成学院\" href=\"http://sucheng.blcu.edu.cn/\">汉语速成学院</a></li>\n",
      "  \n",
      "            <li value=\"5\"><a target=\"_blank\" title=\"预科教育学院\" href=\"http://yuke.blcu.edu.cn/\">预科教育学院</a></li>\n",
      "  \n",
      "            <li value=\"6\"><a target=\"_blank\" title=\"国际汉语教学研究基地\" href=\"http://hjjd.blcu.edu.cn/\">国际汉语教学研究基地</a></li>\n",
      "  \n",
      "            <li value=\"7\"><a target=\"_blank\" title=\"外国语学部\" href=\"http://wy1.blcu.edu.cn/\">外国语学部</a></li>\n",
      "  \n",
      "            <li value=\"8\"><a target=\"_blank\" title=\"英语学院\" href=\"http://www.blcu.edu.cn/\">英语学院</a></li>\n",
      "  \n",
      "            <li value=\"9\"><a target=\"_blank\" title=\"高级翻译学院\" href=\"http://sti.blcu.edu.cn/\">高级翻译学院</a></li>\n",
      "  \n",
      "            <li value=\"10\"><a target=\"_blank\" title=\"应用外语学院\" href=\"http://eec.blcu.edu.cn/\">应用外语学院</a></li>\n",
      "  \n",
      "            <li value=\"11\"><a target=\"_blank\" title=\"东方语言文化学院\" href=\"http://www.blcu.edu.cn/\">东方语言文化学院</a></li>\n",
      "  \n",
      "            <li value=\"12\"><a target=\"_blank\" title=\"西方语言文化学院\" href=\"http://www.blcu.edu.cn/\">西方语言文化学院</a></li>\n",
      "  \n",
      "            <li value=\"13\"><a target=\"_blank\" title=\"中东学院\" href=\"http://www.blcu.edu.cn/\">中东学院</a></li>\n",
      "  \n",
      "            <li value=\"14\"><a target=\"_blank\" title=\"国别和区域研究所\" href=\"#\">国别和区域研究所</a></li>\n",
      "  \n",
      "            <li value=\"15\"><a target=\"_blank\" title=\"人文社会科学学部\" href=\"http://renwensheke.blcu.edu.cn/\">人文社会科学学部</a></li>\n",
      "  \n",
      "            <li value=\"16\"><a target=\"_blank\" title=\"汉语教育学院\" href=\"http://hanyujiaoyu.blcu.edu.cn/\">汉语教育学院</a></li>\n",
      "  \n",
      "            <li value=\"17\"><a target=\"_blank\" title=\"人文学院\" href=\"http://renwen.blcu.edu.cn/\">人文学院</a></li>\n",
      "  \n",
      "            <li value=\"18\"><a target=\"_blank\" title=\"国际关系学院\" href=\"#\">国际关系学院</a></li>\n",
      "  \n",
      "            <li value=\"19\"><a target=\"_blank\" title=\"新闻传播学院\" href=\"http://sjc.blcu.edu.cn/\">新闻传播学院</a></li>\n",
      "  \n",
      "            <li value=\"20\"><a target=\"_blank\" title=\"北京语言文献与文化传承研究基地\" href=\"#\">北京语言文献与文化传承研究基地</a></li>\n",
      "  \n",
      "            <li value=\"21\"><a target=\"_blank\" title=\"信息科学学院\" href=\"http://xxkx.blcu.edu.cn/\">信息科学学院</a></li>\n",
      "  \n",
      "            <li value=\"22\"><a target=\"_blank\" title=\"商学院\" href=\"http://bs.blcu.edu.cn/\">商学院</a></li>\n",
      "  \n",
      "            <li value=\"23\"><a target=\"_blank\" title=\"马克思主义学院\" href=\"/art/2019/7/7/art_5755_1092218.html\">马克思主义学院</a></li>\n",
      "  \n",
      "            <li value=\"24\"><a target=\"_blank\" title=\"艺术学院\" href=\"http://ysh.blcu.edu.cn/\">艺术学院</a></li>\n",
      "  \n",
      "            <li value=\"25\"><a target=\"_blank\" title=\"语言康复学院\" href=\"/art/2018/1/3/art_5755_1128370.html\">语言康复学院</a></li>\n",
      "  \n",
      "            <li value=\"26\"><a target=\"_blank\" title=\"语言学系\" href=\"http://linguistics.blcu.edu.cn/\">语言学系</a></li>\n",
      "  \n",
      "            <li value=\"27\"><a target=\"_blank\" title=\"培训学院\" href=\"http://peixun.blcu.edu.cn\">培训学院</a></li>\n",
      "  \n",
      "            <li value=\"28\"><a target=\"_blank\" title=\"出国培训事业部\" href=\"http://www.blcutraining.com/\">出国培训事业部</a></li>\n",
      "  \n",
      "            <li value=\"29\"><a target=\"_blank\" title=\"中文培训事业部(教师进修学院)\" href=\"http://www.guojihanyu.com/\">中文培训事业部(教师进修学院)</a></li>\n",
      "  \n",
      "            <li value=\"30\"><a target=\"_blank\" title=\"外语培训事业部\" href=\"http://www.etraining.org.cn\">外语培训事业部</a></li>\n",
      "  \n",
      "            <li value=\"31\"><a target=\"_blank\" title=\"继续教育事业部\" href=\"http://www.cecblcu.cn/\">继续教育事业部</a></li>\n",
      "  \n",
      "            <li value=\"32\"><a target=\"_blank\" title=\"考试中心\" href=\"http://kszx.blcu.edu.cn/\">考试中心</a></li>\n",
      "  \n",
      "            <li value=\"33\"><a target=\"_blank\" title=\"网络教育学院\" href=\"http://online.blcu.edu.cn/\">网络教育学院</a></li>\n",
      "  \n",
      "            <li value=\"34\"><a target=\"_blank\" title=\"中国学生远程教学部\" href=\"http://www.eblcu.cn/\">中国学生远程教学部</a></li>\n",
      "  \n",
      "            <li value=\"35\"><a target=\"_blank\" title=\"远程汉语部\" href=\"http://www.eblcu.com/index.shtm\">远程汉语部</a></li>\n",
      "  \n",
      "            <li value=\"36\"><a target=\"_blank\" title=\"体育教学部\" href=\"http://tyb.blcu.edu.cn/\">体育教学部</a></li>\n",
      "\n",
      "</ul>\n",
      "\n",
      "                     </div>\n",
      "      </li>\n",
      "                   <li class=\"zp_links fl\">\n",
      "        <div class=\"selectBox\">\n",
      "                       <p value=\"0\">科研单位</p>\n",
      "<ul>\n",
      "   \n",
      "            <li value=\"1\"><a target=\"_blank\" title=\"汉语国际教育研究院\" href=\"http://ric.blcu.edu.cn/\">汉语国际教育研究院</a></li>\n",
      "  \n",
      "            <li value=\"2\"><a target=\"_blank\" title=\"语言科学院\" href=\"http://yykxy.blcu.edu.cn/\">语言科学院</a></li>\n",
      "  \n",
      "            <li value=\"3\"><a target=\"_blank\" title=\"语言资源研究所\" href=\"http://yys.blcu.edu.cn/\">语言资源研究所</a></li>\n",
      "  \n",
      "            <li value=\"4\"><a target=\"_blank\" title=\"语言政策与标准研究所\" href=\"http://ybs.blcu.edu.cn/\">语言政策与标准研究所</a></li>\n",
      "  \n",
      "            <li value=\"5\"><a target=\"_blank\" title=\"汉语考试与教育测量研究所\" href=\"http://iem.blcu.edu.cn/\">汉语考试与教育测量研究所</a></li>\n",
      "  \n",
      "            <li value=\"6\"><a target=\"_blank\" title=\"《语言教学与研究》编辑部\" href=\"http://yyjx.blcu.edu.cn/\">《语言教学与研究》编辑部</a></li>\n",
      "  \n",
      "            <li value=\"7\"><a target=\"_blank\" title=\"中国周边语言文化协同创新中心\" href=\"http://zbyywh.blcu.edu.cn/\">中国周边语言文化协同创新中心</a></li>\n",
      "  \n",
      "            <li value=\"8\"><a target=\"_blank\" title=\"中华文化研究院\" href=\"#\">中华文化研究院</a></li>\n",
      "  \n",
      "            <li value=\"9\"><a target=\"_blank\" title=\"首都国际文化研究基地\" href=\"http://hanwenhua.blcu.edu.cn/\">首都国际文化研究基地</a></li>\n",
      "  \n",
      "            <li value=\"10\"><a target=\"_blank\" title=\"《中国文化研究》编辑部\" href=\"#\">《中国文化研究》编辑部</a></li>\n",
      "  \n",
      "            <li value=\"11\"><a target=\"_blank\" title=\"《汉学研究》编辑部\" href=\"#\">《汉学研究》编辑部</a></li>\n",
      "  \n",
      "            <li value=\"12\"><a target=\"_blank\" title=\"当代中国研究所\" href=\"#\">当代中国研究所</a></li>\n",
      "  \n",
      "            <li value=\"13\"><a target=\"_blank\" title=\"汉学与中国学研究所（中国文化对外翻译与传播研究中心）\" href=\"#\">汉学与中国学研究所（中国文化对外翻译与传...</a></li>\n",
      "  \n",
      "            <li value=\"14\"><a target=\"_blank\" title=\"孔子与儒家文化研究所（光明文学遗产研究院）\" href=\"#\">孔子与儒家文化研究所（光明文学遗产研究院...</a></li>\n",
      "  \n",
      "            <li value=\"15\"><a target=\"_blank\" title=\"语言资源高精尖创新中心\" href=\"http://yuyanziyuan.blcu.edu.cn\">语言资源高精尖创新中心</a></li>\n",
      "  \n",
      "            <li value=\"16\"><a target=\"_blank\" title=\"国际学生教育政策与评价研究院\" href=\"http://epe.blcu.edu.cn/\">国际学生教育政策与评价研究院</a></li>\n",
      "  \n",
      "            <li value=\"17\"><a target=\"_blank\" title=\"经济研究院\" href=\"http://ier.blcu.edu.cn/\">经济研究院</a></li>\n",
      "  \n",
      "            <li value=\"18\"><a target=\"_blank\" title=\"中国书法国际传播研究院\" href=\"http://icicc.blcu.edu.cn/\">中国书法国际传播研究院</a></li>\n",
      "  \n",
      "            <li value=\"19\"><a target=\"_blank\" title=\"语言认知科学学科创新引智中心\" href=\"http://ccsl.blcu.edu.cn\">语言认知科学学科创新引智中心</a></li>\n",
      "\n",
      "</ul>\n",
      "\n",
      "                     </div>\n",
      "      </li>\n",
      "                   <li class=\"zp_links fl\">\n",
      "        <div class=\"selectBox\">\n",
      "                       <p value=\"0\">管理服务</p>\n",
      "<ul>\n",
      "   \n",
      "            <li value=\"1\"><a target=\"_blank\" title=\"学校办公室（法律事务办公室、督查督办办公室）\" href=\"http://xiaoban.blcu.edu.cn/\">学校办公室（法律事务办公室、督查督办办公...</a></li>\n",
      "  \n",
      "            <li value=\"2\"><a target=\"_blank\" title=\"党委组织部（党校）\" href=\"http://zzhb.blcu.edu.cn/index.html\">党委组织部（党校）</a></li>\n",
      "  \n",
      "            <li value=\"3\"><a target=\"_blank\" title=\"党委宣传部（新闻中心）、教师工作部\" href=\"http://xchb.blcu.edu.cn/\">党委宣传部（新闻中心）、教师工作部</a></li>\n",
      "  \n",
      "            <li value=\"4\"><a target=\"_blank\" title=\"党委统战部\" href=\"http://tzhb.blcu.edu.cn/\">党委统战部</a></li>\n",
      "  \n",
      "            <li value=\"5\"><a target=\"_blank\" title=\"纪委办公室（廉政办公室）、监察处、巡察工作办公室\" href=\"http://jw1.blcu.edu.cn/\">纪委办公室（廉政办公室）、监察处、巡察工...</a></li>\n",
      "  \n",
      "            <li value=\"6\"><a target=\"_blank\" title=\"发展规划处\" href=\"http://fzghc.blcu.edu.cn/\">发展规划处</a></li>\n",
      "  \n",
      "            <li value=\"7\"><a target=\"_blank\" title=\"教务处（教师教学发展中心）、教育教学质量监测评估中心\" href=\"http://jwc.blcu.edu.cn/\">教务处（教师教学发展中心）、教育教学质量...</a></li>\n",
      "  \n",
      "            <li value=\"8\"><a target=\"_blank\" title=\"学生处\" href=\"http://xsch.blcu.edu.cn/\">学生处</a></li>\n",
      "  \n",
      "            <li value=\"9\"><a target=\"_blank\" title=\"学生处（学生心理咨询中心）\" href=\"http://xinli.blcu.edu.cn/\">学生处（学生心理咨询中心）</a></li>\n",
      "  \n",
      "            <li value=\"10\"><a target=\"_blank\" title=\"招生就业办公室\" href=\"http://zsb.blcu.edu.cn/index.html\">招生就业办公室</a></li>\n",
      "  \n",
      "            <li value=\"11\"><a target=\"_blank\" title=\"党委研究生工作部、研究生院\" href=\"http://yjsy.blcu.edu.cn/\">党委研究生工作部、研究生院</a></li>\n",
      "  \n",
      "            <li value=\"12\"><a target=\"_blank\" title=\"学科建设办公室\" href=\"#\">学科建设办公室</a></li>\n",
      "  \n",
      "            <li value=\"13\"><a target=\"_blank\" title=\"科研处\" href=\"http://kyc.blcu.edu.cn/\">科研处</a></li>\n",
      "  \n",
      "            <li value=\"14\"><a target=\"_blank\" title=\"人事处（校人才交流中心）、人才工作办公室\" href=\"http://renshi.blcu.edu.cn/\">人事处（校人才交流中心）、人才工作办公室</a></li>\n",
      "  \n",
      "            <li value=\"15\"><a target=\"_blank\" title=\"财务处\" href=\"http://cw.blcu.edu.cn/\">财务处</a></li>\n",
      "  \n",
      "            <li value=\"16\"><a target=\"_blank\" title=\"审计处\" href=\"http://shj.blcu.edu.cn/\">审计处</a></li>\n",
      "  \n",
      "            <li value=\"17\"><a target=\"_blank\" title=\"国际合作与交流处、港澳台事务办公室\" href=\"http://exchange.blcu.edu.cn/\">国际合作与交流处、港澳台事务办公室</a></li>\n",
      "  \n",
      "            <li value=\"18\"><a target=\"_blank\" title=\"国际教育管理处、孔子学院工作处（孔子学院事业部、孔子学院教师培训中心）\" href=\"http://ci.blcu.edu.cn/\">国际教育管理处、孔子学院工作处（孔子学院...</a></li>\n",
      "  \n",
      "            <li value=\"19\"><a target=\"_blank\" title=\"国际学生招生处\" href=\"http://admission.blcu.edu.cn/en/default.aspx\">国际学生招生处</a></li>\n",
      "  \n",
      "            <li value=\"20\"><a target=\"_blank\" title=\"国际学生管理处\" href=\"http://lxsc.blcu.edu.cn/\">国际学生管理处</a></li>\n",
      "  \n",
      "            <li value=\"21\"><a target=\"_blank\" title=\"国内合作与继续教育办公室、国际教育中心\" href=\"http://iecby.blcu.edu.cn/\">国内合作与继续教育办公室、国际教育中心</a></li>\n",
      "  \n",
      "            <li value=\"22\"><a target=\"_blank\" title=\"信息化办公室\" href=\"http://xxb.blcu.edu.cn/\">信息化办公室</a></li>\n",
      "  \n",
      "            <li value=\"23\"><a target=\"_blank\" title=\"资产管理处\" href=\"http://zcglc.blcu.edu.cn/\">资产管理处</a></li>\n",
      "  \n",
      "            <li value=\"24\"><a target=\"_blank\" title=\"资产管理处（采购与招标管理办公室）\" href=\"http://cgb.blcu.edu.cn/\">资产管理处（采购与招标管理办公室）</a></li>\n",
      "  \n",
      "            <li value=\"25\"><a target=\"_blank\" title=\"基建处\" href=\"http://jijian.blcu.edu.cn/\">基建处</a></li>\n",
      "  \n",
      "            <li value=\"26\"><a target=\"_blank\" title=\"党委保卫工作部、保卫处\" href=\"http://baowei.blcu.edu.cn/\">党委保卫工作部、保卫处</a></li>\n",
      "  \n",
      "            <li value=\"27\"><a target=\"_blank\" title=\"离退休工作处、居民管理处\" href=\"http://lituixiu.blcu.edu.cn/\">离退休工作处、居民管理处</a></li>\n",
      "  \n",
      "            <li value=\"28\"><a target=\"_blank\" title=\"校友工作办公室\" href=\"http://alumni.blcu.edu.cn/xy/home.do?method=index\">校友工作办公室</a></li>\n",
      "  \n",
      "            <li value=\"29\"><a target=\"_blank\" title=\"校工会\" href=\"http://gonghui.blcu.edu.cn/\">校工会</a></li>\n",
      "  \n",
      "            <li value=\"30\"><a target=\"_blank\" title=\"团委\" href=\"http://tuanwei.blcu.edu.cn/\">团委</a></li>\n",
      "  \n",
      "            <li value=\"31\"><a target=\"_blank\" title=\"教育基金会秘书处\" href=\"http://jjh.blcu.edu.cn/\">教育基金会秘书处</a></li>\n",
      "  \n",
      "            <li value=\"32\"><a target=\"_blank\" title=\"图书馆\" href=\"http://lib.blcu.edu.cn/\">图书馆</a></li>\n",
      "  \n",
      "            <li value=\"33\"><a target=\"_blank\" title=\"档案馆\" href=\"http://dag.blcu.edu.cn/\">档案馆</a></li>\n",
      "  \n",
      "            <li value=\"34\"><a target=\"_blank\" title=\"教育技术与资源管理中心\" href=\"http://wjzx.blcu.edu.cn/\">教育技术与资源管理中心</a></li>\n",
      "  \n",
      "            <li value=\"35\"><a target=\"_blank\" title=\"校医院（计划生育办公室）\" href=\"http://xyy.blcu.edu.cn/\">校医院（计划生育办公室）</a></li>\n",
      "  \n",
      "            <li value=\"36\"><a target=\"_blank\" title=\"后勤服务集团\" href=\"http://hqfw.blcu.edu.cn/\">后勤服务集团</a></li>\n",
      "  \n",
      "            <li value=\"37\"><a target=\"_blank\" title=\"资产经营有限公司筹建办公室\" href=\"#\">资产经营有限公司筹建办公室</a></li>\n",
      "  \n",
      "            <li value=\"38\"><a target=\"_blank\" title=\"出版社\" href=\"http://www.blcup.com/\">出版社</a></li>\n",
      "\n",
      "</ul>\n",
      "\n",
      "                     </div>\n",
      "      </li>\n",
      "                   <div class=\"clear\"></div>\n",
      "                 </ul>\n",
      "  </div>\n",
      "               <!--校内网站 end--> \n",
      "             </div>\n",
      "\n",
      "<!--footer start-->\n",
      "<div class=\"footer\">\n",
      "               <div class=\"center f_top\">\n",
      "    <ul class=\"f_nav fl\">\n",
      "                  <script language=\"javascript\" src=\"/script/61/foot1.js\"></script><li><a target=\"_blank\" href=\"mailto:xiaozhang@blcu.edu.cn\" title=\"校长信箱\">校长信箱</a> | <a target=\"_blank\" href=\"/col/col12561/index.html\" title=\"学风建设\">学风建设</a> | <a href=\"/col1/col5734/index.html\" title=\"长江学者\">长江学者</a> | <a target=\"_blank\" href=\"/col1/col5744/index.html\" title=\"信息公开\">信息公开</a> | <a target=\"_blank\" href=\"/art/2012/7/2/art_5703_1070181.html\" title=\"常用电话\">常用电话</a> | <a target=\"_blank\" href=\"/art/2012/7/2/art_5703_1070182.html\" title=\"北语校历\">北语校历</a> | <a target=\"_blank\" href=\"/art/2013/12/15/art_5752_1070782.html\" title=\"访问统计\">访问统计</a></li>\n",
      "                   <li>地址：北京市海淀区学院路15号　　查号电话：（010）82303114</li>\n",
      "                   <li>版权所有© 2014 北京语言大学 京ICP备05066848号-1　　京公网安备1101080016号</li>\n",
      "\n",
      "\n",
      "                 </ul>\n",
      "    <ul class=\"f_weibo fr\">\n",
      "                  <script language=\"javascript\" src=\"/script/61/foot2.js\"></script><li class=\"f_sina\"><a target=\"_blank\" href=\"http://weibo.com/blcu50\" title=\"新浪微博\"></a></li>\n",
      "<li class=\"weixin\"><a title=\"微信\" target=\"_blank\" href=\"http://news.blcu.edu.cn/c/2014-09-11/398355.shtml\"></a></li>\n",
      "<li class=\"f_weixin\"><a title=\"短信平台\" target=\"_blank\" href=\"http://202.112.192.230/\"></a></li>\n",
      "<li class=\"f_ico1\"><a title=\" 虚拟校园\" target=\"_blank\" href=\"http://map.blcu.edu.cn/en/\"></a></li>\n",
      "<li class=\"f_ico2\"><a title=\"vpn\" target=\"_blank\" href=\"http://webvpn.blcu.edu.cn/\"></a></li>\n",
      "<li class=\"f_ico3\"><a title=\"邮箱\" target=\"_blank\" href=\"http://mail.blcu.edu.cn/\"></a></li>\n",
      "<li class=\"f_ico4\"><a title=\"cnki\" target=\"_blank\" href=\"http://lib.blcu.edu.cn\"></a></li>\n",
      "\n",
      "\n",
      "                 </ul>\n",
      "  </div>\n",
      "             </div>\n",
      "\n",
      "<!--footer end-->\n",
      "\n",
      "<!-- visitcount Begin --><iframe src=\"./module/visitcount/visit.jsp?type=1&amp;i_webid=54&amp;i_columnid=5681\" name=\"vishidden\" id=\"vishidden\" frameborder=\"0\" style=\"width:0; height:0; display:none\"></iframe><!-- visitcount End -->\n",
      "<script language=\"javascript\" src=\"/script/web_front.js\"></script>\n",
      "\n",
      "</body></html>\n"
     ]
    }
   ],
   "source": [
    "print(s)"
   ]
  },
  {
   "cell_type": "code",
   "execution_count": 5,
   "metadata": {},
   "outputs": [
    {
     "data": {
      "text/plain": [
       "['__class__',\n",
       " '__delattr__',\n",
       " '__dict__',\n",
       " '__dir__',\n",
       " '__doc__',\n",
       " '__enter__',\n",
       " '__eq__',\n",
       " '__exit__',\n",
       " '__format__',\n",
       " '__ge__',\n",
       " '__getattribute__',\n",
       " '__gt__',\n",
       " '__hash__',\n",
       " '__init__',\n",
       " '__init_subclass__',\n",
       " '__le__',\n",
       " '__lt__',\n",
       " '__module__',\n",
       " '__ne__',\n",
       " '__new__',\n",
       " '__reduce__',\n",
       " '__reduce_ex__',\n",
       " '__repr__',\n",
       " '__setattr__',\n",
       " '__sizeof__',\n",
       " '__str__',\n",
       " '__subclasshook__',\n",
       " '__weakref__',\n",
       " '_file_detector',\n",
       " '_is_remote',\n",
       " '_mobile',\n",
       " '_switch_to',\n",
       " '_unwrap_value',\n",
       " '_web_element_cls',\n",
       " '_wrap_value',\n",
       " 'add_cookie',\n",
       " 'application_cache',\n",
       " 'back',\n",
       " 'capabilities',\n",
       " 'close',\n",
       " 'command_executor',\n",
       " 'create_options',\n",
       " 'create_web_element',\n",
       " 'current_url',\n",
       " 'current_window_handle',\n",
       " 'delete_all_cookies',\n",
       " 'delete_cookie',\n",
       " 'desired_capabilities',\n",
       " 'error_handler',\n",
       " 'execute',\n",
       " 'execute_async_script',\n",
       " 'execute_cdp_cmd',\n",
       " 'execute_script',\n",
       " 'file_detector',\n",
       " 'file_detector_context',\n",
       " 'find_element',\n",
       " 'find_element_by_class_name',\n",
       " 'find_element_by_css_selector',\n",
       " 'find_element_by_id',\n",
       " 'find_element_by_link_text',\n",
       " 'find_element_by_name',\n",
       " 'find_element_by_partial_link_text',\n",
       " 'find_element_by_tag_name',\n",
       " 'find_element_by_xpath',\n",
       " 'find_elements',\n",
       " 'find_elements_by_class_name',\n",
       " 'find_elements_by_css_selector',\n",
       " 'find_elements_by_id',\n",
       " 'find_elements_by_link_text',\n",
       " 'find_elements_by_name',\n",
       " 'find_elements_by_partial_link_text',\n",
       " 'find_elements_by_tag_name',\n",
       " 'find_elements_by_xpath',\n",
       " 'forward',\n",
       " 'fullscreen_window',\n",
       " 'get',\n",
       " 'get_cookie',\n",
       " 'get_cookies',\n",
       " 'get_log',\n",
       " 'get_network_conditions',\n",
       " 'get_screenshot_as_base64',\n",
       " 'get_screenshot_as_file',\n",
       " 'get_screenshot_as_png',\n",
       " 'get_window_position',\n",
       " 'get_window_rect',\n",
       " 'get_window_size',\n",
       " 'implicitly_wait',\n",
       " 'launch_app',\n",
       " 'log_types',\n",
       " 'maximize_window',\n",
       " 'minimize_window',\n",
       " 'mobile',\n",
       " 'name',\n",
       " 'orientation',\n",
       " 'page_source',\n",
       " 'quit',\n",
       " 'refresh',\n",
       " 'save_screenshot',\n",
       " 'service',\n",
       " 'session_id',\n",
       " 'set_network_conditions',\n",
       " 'set_page_load_timeout',\n",
       " 'set_script_timeout',\n",
       " 'set_window_position',\n",
       " 'set_window_rect',\n",
       " 'set_window_size',\n",
       " 'start_client',\n",
       " 'start_session',\n",
       " 'stop_client',\n",
       " 'switch_to',\n",
       " 'switch_to_active_element',\n",
       " 'switch_to_alert',\n",
       " 'switch_to_default_content',\n",
       " 'switch_to_frame',\n",
       " 'switch_to_window',\n",
       " 'title',\n",
       " 'w3c',\n",
       " 'window_handles']"
      ]
     },
     "execution_count": 5,
     "metadata": {},
     "output_type": "execute_result"
    }
   ],
   "source": [
    "dir(dr)"
   ]
  },
  {
   "cell_type": "code",
   "execution_count": 6,
   "metadata": {},
   "outputs": [],
   "source": [
    "from pyquery import PyQuery as pq\n",
    "doc = pq(s)"
   ]
  },
  {
   "cell_type": "code",
   "execution_count": 7,
   "metadata": {},
   "outputs": [
    {
     "data": {
      "text/plain": [
       "'【主题教育】千里深情告白祖国，春城唱响时代之声\\n2019-11-12\\n第三届中国书法国际传播论坛举行\\n2019-11-12\\n北语齐鸣教授团队作品入选国家主题性美术创作项目\\n2019-11-11\\n【主题教育】以主题教育新成效，擦亮北京语言大学金字招牌\\n2019-11-11\\n【主题教育】网络教育学院深入推进主题教育\\n2019-11-11\\n北语师生热议党的十九届四中全会精神\\n2019-11-08'"
      ]
     },
     "execution_count": 7,
     "metadata": {},
     "output_type": "execute_result"
    }
   ],
   "source": [
    "doc('.zcontent').text()"
   ]
  },
  {
   "cell_type": "code",
   "execution_count": 8,
   "metadata": {},
   "outputs": [
    {
     "name": "stdout",
     "output_type": "stream",
     "text": [
      "【主题教育】千里深情告白祖国，春城唱响时代之声\n",
      "2019-11-12\n",
      "第三届中国书法国际传播论坛举行\n",
      "2019-11-12\n",
      "北语齐鸣教授团队作品入选国家主题性美术创作项目\n",
      "2019-11-11\n",
      "【主题教育】以主题教育新成效，擦亮北京语言大学金字招牌\n",
      "2019-11-11\n",
      "【主题教育】网络教育学院深入推进主题教育\n",
      "2019-11-11\n",
      "北语师生热议党的十九届四中全会精神\n",
      "2019-11-08\n"
     ]
    }
   ],
   "source": [
    "print(doc('.zcontent').text())"
   ]
  },
  {
   "cell_type": "code",
   "execution_count": 9,
   "metadata": {},
   "outputs": [],
   "source": [
    "lst = doc('.zcontent li')"
   ]
  },
  {
   "cell_type": "code",
   "execution_count": 10,
   "metadata": {},
   "outputs": [
    {
     "data": {
      "text/plain": [
       "[<li>, <li>, <li>, <li>, <li>, <li>]"
      ]
     },
     "execution_count": 10,
     "metadata": {},
     "output_type": "execute_result"
    }
   ],
   "source": [
    "lst"
   ]
  },
  {
   "cell_type": "code",
   "execution_count": 11,
   "metadata": {},
   "outputs": [
    {
     "data": {
      "text/plain": [
       "'【主题教育】千里深情告白祖国，春城唱响时代之声'"
      ]
     },
     "execution_count": 11,
     "metadata": {},
     "output_type": "execute_result"
    }
   ],
   "source": [
    "pq(lst[0]).find('h2 a').text()"
   ]
  },
  {
   "cell_type": "code",
   "execution_count": 12,
   "metadata": {},
   "outputs": [
    {
     "data": {
      "text/plain": [
       "''"
      ]
     },
     "execution_count": 12,
     "metadata": {},
     "output_type": "execute_result"
    }
   ],
   "source": [
    "pq(lst[0]).find('p.zc_date gray').text()"
   ]
  },
  {
   "cell_type": "code",
   "execution_count": 13,
   "metadata": {},
   "outputs": [
    {
     "data": {
      "text/plain": [
       "'2019-11-12'"
      ]
     },
     "execution_count": 13,
     "metadata": {},
     "output_type": "execute_result"
    }
   ],
   "source": [
    "pq(lst[0]).find('p.zc_date').text()"
   ]
  },
  {
   "cell_type": "code",
   "execution_count": 14,
   "metadata": {},
   "outputs": [],
   "source": [
    "dr.get('http://cn.bing.com')"
   ]
  },
  {
   "cell_type": "code",
   "execution_count": 15,
   "metadata": {},
   "outputs": [
    {
     "ename": "AttributeError",
     "evalue": "'WebDriver' object has no attribute 'get_element_by_id'",
     "output_type": "error",
     "traceback": [
      "\u001b[1;31m---------------------------------------------------------------------------\u001b[0m",
      "\u001b[1;31mAttributeError\u001b[0m                            Traceback (most recent call last)",
      "\u001b[1;32m<ipython-input-15-6ae37018fe65>\u001b[0m in \u001b[0;36m<module>\u001b[1;34m\u001b[0m\n\u001b[1;32m----> 1\u001b[1;33m \u001b[0mdr\u001b[0m\u001b[1;33m.\u001b[0m\u001b[0mget_element_by_id\u001b[0m\u001b[1;33m(\u001b[0m\u001b[1;34m'sb_form_q'\u001b[0m\u001b[1;33m)\u001b[0m\u001b[1;33m.\u001b[0m\u001b[0msend_keys\u001b[0m\u001b[1;33m(\u001b[0m\u001b[1;34m'Winter'\u001b[0m\u001b[1;33m)\u001b[0m\u001b[1;33m\u001b[0m\u001b[1;33m\u001b[0m\u001b[0m\n\u001b[0m",
      "\u001b[1;31mAttributeError\u001b[0m: 'WebDriver' object has no attribute 'get_element_by_id'"
     ]
    }
   ],
   "source": [
    "dr.get_element_by_id('sb_form_q').send_keys('Winter')"
   ]
  },
  {
   "cell_type": "code",
   "execution_count": 16,
   "metadata": {},
   "outputs": [
    {
     "ename": "AttributeError",
     "evalue": "'WebDriver' object has no attribute 'get_elements_by_id'",
     "output_type": "error",
     "traceback": [
      "\u001b[1;31m---------------------------------------------------------------------------\u001b[0m",
      "\u001b[1;31mAttributeError\u001b[0m                            Traceback (most recent call last)",
      "\u001b[1;32m<ipython-input-16-3a5d7bfebc10>\u001b[0m in \u001b[0;36m<module>\u001b[1;34m\u001b[0m\n\u001b[1;32m----> 1\u001b[1;33m \u001b[0mdr\u001b[0m\u001b[1;33m.\u001b[0m\u001b[0mget_elements_by_id\u001b[0m\u001b[1;33m(\u001b[0m\u001b[1;34m'sb_form_q'\u001b[0m\u001b[1;33m)\u001b[0m\u001b[1;33m.\u001b[0m\u001b[0msend_keys\u001b[0m\u001b[1;33m(\u001b[0m\u001b[1;34m'Winter'\u001b[0m\u001b[1;33m)\u001b[0m\u001b[1;33m\u001b[0m\u001b[1;33m\u001b[0m\u001b[0m\n\u001b[0m",
      "\u001b[1;31mAttributeError\u001b[0m: 'WebDriver' object has no attribute 'get_elements_by_id'"
     ]
    }
   ],
   "source": [
    "dr.get_elements_by_id('sb_form_q').send_keys('Winter')"
   ]
  },
  {
   "cell_type": "code",
   "execution_count": 17,
   "metadata": {},
   "outputs": [
    {
     "ename": "AttributeError",
     "evalue": "'list' object has no attribute 'send_keys'",
     "output_type": "error",
     "traceback": [
      "\u001b[1;31m---------------------------------------------------------------------------\u001b[0m",
      "\u001b[1;31mAttributeError\u001b[0m                            Traceback (most recent call last)",
      "\u001b[1;32m<ipython-input-17-78d6c7e82210>\u001b[0m in \u001b[0;36m<module>\u001b[1;34m\u001b[0m\n\u001b[1;32m----> 1\u001b[1;33m \u001b[0mdr\u001b[0m\u001b[1;33m.\u001b[0m\u001b[0mfind_elements_by_id\u001b[0m\u001b[1;33m(\u001b[0m\u001b[1;34m'sb_form_q'\u001b[0m\u001b[1;33m)\u001b[0m\u001b[1;33m.\u001b[0m\u001b[0msend_keys\u001b[0m\u001b[1;33m(\u001b[0m\u001b[1;34m'Winter'\u001b[0m\u001b[1;33m)\u001b[0m\u001b[1;33m\u001b[0m\u001b[1;33m\u001b[0m\u001b[0m\n\u001b[0m",
      "\u001b[1;31mAttributeError\u001b[0m: 'list' object has no attribute 'send_keys'"
     ]
    }
   ],
   "source": [
    "dr.find_elements_by_id('sb_form_q').send_keys('Winter')"
   ]
  },
  {
   "cell_type": "code",
   "execution_count": 18,
   "metadata": {},
   "outputs": [
    {
     "data": {
      "text/plain": [
       "[<selenium.webdriver.remote.webelement.WebElement (session=\"9f783965f7effe9ae45bfe2c071030c8\", element=\"d8f46ade-66f0-4276-8c76-70d0ecb5e73b\")>]"
      ]
     },
     "execution_count": 18,
     "metadata": {},
     "output_type": "execute_result"
    }
   ],
   "source": [
    "dr.find_elements_by_id('sb_form_q')"
   ]
  },
  {
   "cell_type": "code",
   "execution_count": 19,
   "metadata": {},
   "outputs": [],
   "source": [
    "dr.find_elements_by_id('sb_form_q')[0].send_keys('Winter')"
   ]
  },
  {
   "cell_type": "code",
   "execution_count": 20,
   "metadata": {},
   "outputs": [],
   "source": [
    "dr.find_element_by_id('sb_form_go').click()"
   ]
  },
  {
   "cell_type": "code",
   "execution_count": 21,
   "metadata": {},
   "outputs": [],
   "source": [
    "s = dr.page_source"
   ]
  },
  {
   "cell_type": "code",
   "execution_count": 22,
   "metadata": {},
   "outputs": [
    {
     "name": "stdout",
     "output_type": "stream",
     "text": [
      "<html lang=\"zh\" xml:lang=\"zh\" xmlns=\"http://www.w3.org/1999/xhtml\" xmlns:web=\"http://schemas.live.com/Web/\"><head><script type=\"text/javascript\">//<![CDATA[\n",
      "si_ST=new Date\n",
      "//]]></script><!--pc--><title>Winter - 国内版 Bing</title><meta content=\"text/html; charset=utf-8\" http-equiv=\"content-type\"><meta name=\"referrer\" content=\"origin-when-cross-origin\"><link href=\"/search?format=rss&amp;q=Winter&amp;qs=n&amp;form=QBLH&amp;sp=-1&amp;pq=winter&amp;sc=8-6&amp;sk=&amp;cvid=6AF1531063034617B9327CEEDBD1DD93\" rel=\"alternate\" title=\"XML\" type=\"text/xml\"><link href=\"/search?format=rss&amp;q=Winter&amp;qs=n&amp;form=QBLH&amp;sp=-1&amp;pq=winter&amp;sc=8-6&amp;sk=&amp;cvid=6AF1531063034617B9327CEEDBD1DD93\" rel=\"alternate\" title=\"RSS\" type=\"application/rss+xml\"><link href=\"/sa/simg/bing_p_rr_teal_min.ico\" rel=\"shortcut icon\"><link href=\"/sa/simg/Roboto_Regular.woff2\" rel=\"preload\" type=\"font/woff2\" as=\"font\" crossorigin=\"anonymous\"><link href=\"/sa/simg/Roboto_Light.woff2\" rel=\"preload\" type=\"font/woff2\" as=\"font\" crossorigin=\"anonymous\"><link href=\"/sa/simg/Roboto_Semibold.woff2\" rel=\"preload\" type=\"font/woff2\" as=\"font\" crossorigin=\"anonymous\"><script type=\"text/javascript\">//<![CDATA[\n",
      "_G={ST:(si_ST?si_ST:new Date),Mkt:\"zh-CN\",RTL:false,Ver:\"46\",IG:\"680CEB500A15470DB7F437749C8CE0B8\",EventID:\"10C0F511C104453AA20814468A3FCC23\",V:\"web\",P:\"SERP\",DA:\"HKG01\",SUIH:\"Ww8nusvZwSscmjSfLzgLTA\",adc:\"b_ad\",gpUrl:\"\\/fd\\/ls\\/GLinkPing.aspx?\" }; _G.lsUrl=\"/fd/ls/l?IG=\"+_G.IG ;curUrl=\"https:\\/\\/cn.bing.com\\/search\";function si_T(a){ if(document.images){_G.GPImg=new Image;_G.GPImg.src=_G.gpUrl+'IG='+_G.IG+'&'+a;}return true;};/*!DisableJavascriptProfiler*/\n",
      "0;\n",
      ";/*!DisableJavascriptProfiler*/\n",
      "0;/*!DisableJavascriptProfiler*/\n",
      "0;\n",
      ";\n",
      "//]]></script><style type=\"text/css\">z{a:1}.sw_ddbk:after,.sw_ddw:after,.sw_ddgn:after,.sw_poi:after,.sw_poia:after,.sw_play:after,.sw_playa:after,.sw_playd:after,.sw_playp:after,.sw_st:after,.sw_sth:after,.sw_ste:after,.sw_st2:after,.sw_plus:after,.sw_tpcg:after,.sw_tpcw:after,.sw_tpcbk:after,.sw_arwh:after,.sb_pagN:after,.sb_pagP:after,.sw_up:after,.sw_down:after,.b_expandToggle:after,.sw_calc:after,.sw_fbi:after,.sw_twi:after,.b_fLogo:after,.b_cm:after,.sw_rmore:after,.sw_tpo:after,.sw_tpoa:after,.sw_lpoi:after,.sw_skp:after{position:relative;content:url(/sa/simg/SharedSpriteDesktop_2x_090619.png)}.sw_ddbk,.sw_ddw,.sw_ddgn,.sw_poi,.sw_poia,.sw_play,.sw_playa,.sw_playd,.sw_playp,.sw_st,.sw_sth,.sw_ste,.sw_st2,.sw_plus,.sw_tpcg,.sw_tpcw,.sw_tpcbk,.sw_arwh,.sb_pagN,.sb_pagP,.sw_up,.sw_down,.b_expandToggle,.sw_calc,.sw_fbi,.sw_twi,.b_fLogo,.b_cm,.sw_rmore,.sw_tpo,.sw_tpoa,.sw_lpoi,.sw_skp,.actExpander span{position:relative;display:inline-block;overflow:hidden;direction:ltr}.sw_ddbk:after,.sw_ddw:after,.sw_ddgn:after,.sw_poi:after,.sw_poia:after,.sw_play:after,.sw_playa:after,.sw_playd:after,.sw_playp:after,.sw_st:after,.sw_sth:after,.sw_ste:after,.sw_st2:after,.sw_plus:after,.sw_tpcg:after,.sw_tpcw:after,.sw_tpcbk:after,.sw_arwh:after,.sb_pagN:after,.sb_pagP:after,.sw_up:after,.sw_down:after,.b_expandToggle:after,.sw_calc:after,.sw_fbi:after,.sw_twi:after,.b_fLogo:after,.b_cm:after,.sw_rmore:after,.sw_tpo:after,.sw_tpoa:after,.sw_lpoi:after,.sw_skp:after{display:inline-block;transform:scale(.5)}.sw_tpcbk,.sw_tpcg,.b_expandToggle,.b_fLogo{display:block}.sw_play,.sw_playa,.sw_playd,.sw_playp,.sw_skp,.sw_fbi,.sw_twi{height:16px;width:16px}.sw_play:after{transform-origin:-630px -44px}.sw_playa:after{transform-origin:-666px -44px}.sw_playd:after{transform-origin:-702px -44px}.sw_playp:after{transform-origin:-738px -44px}.sw_skp:after{transform-origin:-1290px -36px}.sw_fbi:after{transform-origin:-594px -44px}.sw_twi:after{transform-origin:-1290px 0}.sw_st,.sw_sth,.sw_ste,.sw_st2{height:12px;width:12px}.sw_st:after{transform-origin:-1070px -62px}.sw_st2:after{transform-origin:-1126px -62px}.sw_sth:after{transform-origin:-1154px -62px}.sw_ste:after{transform-origin:-1098px -62px}.sw_arwh{height:11px;width:14px}a:hover .sw_arwh.b_invert:after{transform-origin:-926px -64px}.sw_arwh:after{transform-origin:-894px -64px}.sw_ddbk,.sw_ddw,.sw_ddgn{height:4px;width:7px}.sw_ddbk:after,.sw_ddw:after{transform-origin:-532px -64px}.sw_ddgn:after{transform-origin:-512px -64px}.sw_tpcg,.sw_tpcw,.sw_tpcbk{height:10px;width:10px}.sw_tpcg:after,.sw_tpcw:after,.sw_tpcbk:after{transform-origin:-352px -64px}.sw_tpcg:hover:after,.sw_tpcg:active:after,.sw_tpcg:focus:after{-webkit-transform-origin:-376px -64px;-ms-transform-origin:-376px -64px;transform-origin:-376px -64px}.sw_plus{height:8px;width:8px}.sw_plus:after{transform-origin:-552px -64px}.sw_plus:hover:after,.sw_plus:active:after,.sw_plus:focus:after{transform-origin:-572px -64px}.b_expandToggle,.sw_up,.sw_down{height:8px;width:12px}.b_expandToggle:after,.sw_up:after,.sw_down:after{transform-origin:-456px -64px}.sw_up:after{transform-origin:-400px -64px}*:hover>.sw_up:after,*:active>.sw_up:after,*:focus>.sw_up:after{transform-origin:-428px -64px}*:hover>.sw_down:after,*:active>.sw_down:after,*:focus>.sw_down:after{transform-origin:-484px -64px}.b_icon,.sw_poi,.sw_poia{width:20px;height:20px;z-index:0}.sw_poi:after,.sw_poia:after{position:absolute;top:0;left:0;transform-origin:-594px 0;z-index:-1}.sw_poia:after{transform-origin:-638px 0}.b_fLogo{height:16px;width:81px}.b_fLogo:after{transform-origin:-804px 0}.b_cm{height:10px;width:12px}.b_cm:after{transform-origin:-866px -64px}.sw_calc{height:19px;width:19px}.sw_calc:after{transform-origin:-726px 0}.sw_tpo,.sw_tpoa,.sw_rmore{height:12px;width:8px;display:block}.sw_tpo:after,.sw_tpoa:after{transform-origin:-262px -50px}.sw_rmore:after{transform-origin:-242px -50px}.sw_lpoi{height:16px;width:10px}.sw_lpoi:after{transform-origin:-1266px -36px}html,body #b_results .b_no{background-color:#fff}.b_footer{background-color:#ececec}#b_results>li a{color:#001ba0}#b_results>li a:visited{color:#600090}#b_results>li{background-color:#fff}#b_results>.b_ad a{color:#001ba0}#b_results>.b_ad a:visited{color:#600090}#b_results>.b_pag{background-color:transparent}#b_results>.b_pag a:hover{background-color:#f4f4f4}#b_results>.b_pag .sb_pagS_bp:hover{background-color:#fff}#b_results>.b_pag a.sb_pagP:hover,#b_results>.b_pag a.sb_pagN:hover{background-color:inherit}#b_context .b_ans,#b_context #wpc_ag{background-color:#fff}#b_context>li.b_ad{color:#666;background-color:#fff}#b_context>li.b_ad a{color:#001ba0}#b_context>li.b_ad a:visited{color:#600090}div.b_dropdown .b_selected{background:#e1e0df}#b_tween .b_toggle:hover,#b_tween .ftrH:hover{background:#f2f2f2}.b_scroll{background:#999;border-color:#999}.b_scroll:hover{background:#4d4d4d}.b_dropdown{background-color:#fff;border-color:#e5e5e5}.ctxt,select,input[type=\"text\"]{color:#444;border-color:#ddd}.ccal{border-color:#ddd}.ccal:hover,.ctxt:hover,select:hover,input[type=\"text\"]:hover{box-shadow:0 1px 2px 0 rgba(0,0,0,.1);-webkit-box-shadow:0 1px 2px 0 rgba(0,0,0,.1)}.ctxt:focus,select:focus,input[type=\"text\"]:focus{color:#444;border-color:#919191;box-shadow:0 1px 2px 0 rgba(0,0,0,.1);-webkit-box-shadow:0 1px 2px 0 rgba(0,0,0,.1)}.ccal input[type=\"text\"],.ccal input[type=\"text\"]:hover,.ccal input[type=\"text\"]:focus{color:#444}label{color:#767676}#b_results ::placeholder{color:#767676;opacity:1}#b_results :-ms-input-placeholder{color:#767676}#b_results ::-webkit-input-placeholder{color:#767676}#b_results input[type=\"text\"]:disabled{color:#ccc}a,#b_tween a:visited,#b_results .b_no a{color:#001ba0}a:visited,#b_results>li a:visited{color:#600090}cite,#b_results cite.sb_crmb a,#b_results cite a.sb_metalink,#b_results .b_adurl cite a,#bk_wr_container cite a{color:#006d21}.b_posText{color:#006d21}.b_negText{color:#c80000}#b_context cite,#b_context cite a{color:#006d21}#b_context .b_posText{color:#006d21}#b_context .b_negText{color:#c80000}.b_ad cite,.b_ad cite a{color:#006d21}#b_context .b_entityTitle,#b_results .b_entityTitle{color:#444}#b_context .b_entitySubTitle,#b_results .b_entitySubTitle{color:#767676}#b_context,#b_context #wpc_eif{color:#666}body,.b_promoteText,#b_tween a.ftrH,#b_tween a.ftrH:hover,.b_expando,.b_expando h2,.b_active a,.b_active a:visited,.b_active a:hover,#b_results>.b_pag a,#b_results .b_no,#b_content a.cbl:visited,#b_content a.cbl{color:#666}#b_results>.b_pag .sb_pagS_bp{color:#111}.b_top,.b_top .b_promoteText{color:#444}.b_alert,.b_pAlt{color:#d90026}#b_results .b_alert,#b_results .b_pAlt{color:#d90026}#b_context .b_alert{color:#d90026}.b_demoteText,.b_secondaryText,.b_attribution,.b_factrow,.b_focusLabel,.b_footnote,.b_ad .b_adlabel,#b_tween .b_dropdown a,.b_expando .b_subModule,.b_expando .b_suppModule,.b_algo .b_vList td{color:#767676}.b_algo .b_factrow{color:#666}.b_footer,.b_footer a,.b_footer a:visited{color:#666}#b_content .b_lowFocusLink a,#b_context .b_secondaryText,#b_context .b_attribution,#b_context .b_factrow,#b_context .b_footnote,#b_context .b_ad .b_adlabel,.b_expando .b_secondaryText,.b_expando .b_attribution,.b_expando .b_factrow,.b_expando .b_footnote{color:#767676}#b_context .b_footnote a{color:#111}#b_context .b_pointer.b_mhdr:hover .b_secondaryText{color:#36b}.b_button:hover,.b_button:visited,.b_hlButton,.b_hlButton:hover,.b_hlButton:visited,.b_foregroundText,.ciot{color:#fff}.b_caption,.snippet{color:inherit}.b_top .b_caption{color:inherit}.ciot{background-color:#000}.b_button:hover,.b_hlButton{background-color:#0072c5}.b_button:active,.b_hlButton:active{background-color:#333}.b_hlButton:hover{background-color:#006887}.b_border,.b_button,.b_hlButton{border-color:#ccc}.b_pag a{border:3px solid transparent}.b_pag a.sb_bp{border:0;border-bottom:3px solid transparent}.b_pag .sb_pagS{border-color:#00809d}.b_pag a.sb_pagS_bp{border-color:#00809d}#b_context .b_subModule,#b_results .b_subModule{border-bottom:1px solid #ececec}#b_results .b_sideBleed:last-child .b_subModule{border-bottom:0}.b_subModule h2{color:#111}.c_tlbx{border-color:#999;background:#fff}.sw_poi{color:#fff}.sw_poia{color:#fff}.b_caption p strong,.b_caption .b_factrow strong,.b_secondaryText strong{color:#767676}.b_belowcaption .b_secondaryText{color:#767676 !important}#b_results>.b_ad{color:#666;background-color:#f9fcf7}#b_results,#b_results .b_defaultText,#b_results>.b_pag a:hover,#b_tween .b_toggle:hover,#b_tween .b_highlighted{color:#666}html,body,h1,h2,h3,h4,h5,h6,p,img,ol,ul,li,form,table,tr,th,td{border:0;border-collapse:collapse;border-spacing:0;list-style:none;margin:0;padding:0}html{overflow-y:scroll}#b_content{clear:both;min-height:316px;padding:41px 0 20px 100px}#b_pole{margin:-25px 0 15px -100px;padding-left:120px}#b_tween~#b_pole{margin-top:3px}.b_underSearchbox~#b_pole{margin-top:0}#b_context{margin:0 0 0 40px;padding:0 20px}#b_context .b_ans,#b_context .b_ad{margin:0 -20px}#b_context .b_ans{padding:10px 20px 0}#b_context .b_ad{padding:10px 20px}#b_results,#b_context,#b_tween>span,.b_hList>li,.c_tlbxTrg,.b_hPanel>span,.ccal .ccali,.b_footerRight,.b_hPanel .b_xlText,.b_hPanel .cico,.b_moreLink,.b_label+.b_hList,.lc_bks,.lc_bkl,.fiw,.csrc,.b_algo .b_title H2,.b_algo .b_title div,h3{display:inline-block}.b_pointer{cursor:pointer}label,.b_ad .b_adlabel,.c_tlbxTrgIcn{display:block}#b_tween{margin-top:-28px;padding-bottom:0}.b_underSearchbox~#b_tween{margin-top:-2px}#b_tween,#b_tween .ftrH{height:30px}#b_tween>span{padding-right:25px}#b_results>li{padding:10px 20px;margin:0 0 2px}#b_results>.b_ans{padding:12px 20px 0}#b_results>.b_algo{padding:12px 20px 0}#b_results>li .b_fullb{margin-left:-20px;margin-right:-20px}#b_results>.b_ad{padding-right:18px;border-right:2px solid #e5e5e5}#b_results>li:first-child{padding-top:10px}#b_results>.b_pag{padding:18px 0 40px 20px}.sb_hbop,.b_hide,.ttl,#sw_tfbb,.sw_next,.sw_prev,#id_d,.b_hidden img{display:none}.b_hidden{visibility:hidden}#b_context .b_ans{margin-bottom:5px}#b_context .b_ad{margin-bottom:5px}main,aside,.b_inlineList li,.b_factrow li{display:inline}.b_footerRight,td,th,#b_context,.b_hList>li{vertical-align:top}.b_footer{width:100%;padding:12px 0}.c_tlbxTrg{width:15px;height:14px;margin:-1px 6px -3px 2px}.c_tlbxTrgIcn{margin:4px 0 2px 3px}.c_tlbx{position:absolute;z-index:6;border:1px solid;padding:10px}.b_deep ul{width:230px}.b_gridList ul:first-child,.b_vlist2col ul:first-child{margin:0 20px 0 0}.b_gridList li,.b_vlist2col li{padding:0 0 10px}.b_vlist2col.b_deep li{padding:0 0 10px}.b_overhangR .b_vlist2col ul:first-child{margin:0 15px 0 0}.b_overhangR .b_vlist2col ul{width:180px}.b_deep p{height:33px}#b_context .b_ad .b_adlabel,.sc_rf form,form.sc_rf{margin-bottom:10px}.b_ad li,#b_results .b_ad .b_adlabel{margin-bottom:8px}.b_ad li:last-child{margin-bottom:0}.b_ad li li,.b_ad li li:last-child{margin:0}#b_results .b_ad .b_vlist2col,#b_results .b_ad .b_factrow,#b_results .b_ad .b_bcfactrow{margin-top:-6px}#b_results .b_ad .sb_adRA .b_vlist2col{padding-left:0}.sx_ci{border:1px solid #e5e5e5;margin-top:3px;width:80px;height:60px}.b_favicon{margin:0 .5em 0 0}.b_imagePair:after,.b_vlist2col:after,.b_gridList:after{clear:left}.b_imagePair.reverse:after,.b_overhangR:after{clear:right}.b_clear,#b_results>li:after,.b_clearfix:after{clear:both}#b_results>li:after,.b_clearfix:after,.b_imagePair:after,.b_vlist2col:after,.b_gridList:after,.b_overhangR:after{content:'.';display:block;height:0;visibility:hidden}.b_vlist2col ul,.b_gridList ul,.b_float,.b_footer,.b_float_img,.b_pag li,.b_mhdr h2{float:left}.b_floatR_img,.b_floatR,.wr_tc{float:right}.b_overflow,.b_hList li,.b_1linetrunc,.b_deep p{overflow:hidden}.b_creditedImg img,.b_creditedImg .cico{padding-bottom:1px}h4,.sa_uc>.b_vList>li>table td,.b_smBottom,#b_context .b_ad h2,.b_attribution,.b_focusTextExtraSmall,.b_snippet{padding-bottom:2px}.b_focusLabel,.b_secondaryFocus,.b_focusTextLarge,.b_focusTextMedium,.b_focusTextSmall{padding-bottom:4px}.b_factrow{padding-bottom:2px}h2,label{padding-bottom:3px}.b_vPanel .b_vPanel>div,.b_vList .b_vPanel>div{padding-bottom:5px}.b_dataList li,.b_mBottom{padding-bottom:5px}.b_lBottom,.b_entitySubTitle{padding-bottom:12px}#b_context .b_subModule h2,#b_results .b_subModule h2{padding-bottom:16px}#b_results #sp_recourse.b_lBottom,.b_caption,.b_moreLink,.b_footnote,.b_hList>li,#b_context h2,#b_context h2.b_entityTitle,#b_results .b_ad .b_factrow,#b_results .b_ad .b_bcfactrow,.b_expando h2,.b_no h1,.b_no h4,.b_no li,.b_prominentFocusLabel,.b_locStr{padding-bottom:10px}.b_vPanel>div,.b_vList>li{padding-bottom:10px}.b_vList .b_hList>li,.b_vPanel .b_hList>li,.b_vList .b_float_img,.b_creditedImg .b_footnote,.b_creditedImg .cico img,#b_results>.b_ad,.b_suppModule .b_mhdr,.b_vList>li>.tab-container,.b_vPanel>div>.tab-container,.b_ad .b_deep h3,#b_content .b_float_img_nbp{padding-bottom:0}.b_caption .b_factrow:last-child,#b_results .b_caption .b_factrow:last-child,.b_caption>.b_dataList:last-child li:last-child,.b_caption .b_moreLink:last-child,.b_vList .b_moreLink:last-child,.b_vList .b_factrow:last-child,.b_vPanel .b_factrow:last-child,.b_caption .b_attribution:last-child,.b_vList .b_attribution:last-child,.b_hList .b_attribution:last-child,.b_vPanel .b_attribution:last-child,.b_vList>li>table:last-child tr:last-child td,.b_vPanel>div>table:last-child tr:last-child td,.b_vList .b_focusLabel:last-child,.b_vPanel .b_focusLabel:last-child,.b_vList .b_secondaryFocus:last-child,.b_vPanel .b_secondaryFocus:last-child,.b_vList .b_focusTextExtraSmall:last-child,.b_vPanel .b_focusTextExtraSmall:last-child,.b_vList .b_focusTextSmall:last-child,.b_vPanel .b_focusTextSmall:last-child,.b_vList .b_focusTextMedium:last-child,.b_vPanel .b_focusTextMedium:last-child,.b_vList .b_focusTextLarge:last-child,.b_vPanel .b_focusTextLarge:last-child,.b_vList h4:last-child,.b_vPanel h4:last-child,.b_vPanel .b_caption:last-child,.b_vPanel .b_vList:last-child>li:last-child,.b_vPanel .b_footnote:last-child{padding-bottom:0}.b_vList .b_vPanel,.b_vPanel .b_vPanel{margin-bottom:-5px}.b_hList .b_vPanel{margin-bottom:-10px}.b_mBMargin{margin-bottom:5px}#b_results .b_no{margin:0 0 80px}.b_rich{padding-top:3px}h2+.b_rich{padding-top:2px}.b_algo .b_attribution img{vertical-align:text-bottom}.b_lLeft,.b_floatR_img,.b_suffix{padding-left:10px}.wr_tc,.b_xlLeft,.b_deep,#b_results .b_ad .b_vlist2col,#b_tween{padding-left:20px}h2 .b_secondaryText{margin-left:5px}.b_hList.b_imgStrip>li{padding-right:1px}.fiw,.lc_bkl,.b_mRight,.b_label,.csrc{padding-right:5px}.b_lRight,.b_imgStrip .imgData,.b_underSearchbox .b_label{padding-right:10px}.b_hPanel>span,.b_hList>li{padding-right:10px}.b_xlRight{padding-right:20px}.b_hList.b_imgStrip>li:last-child,.b_hList>li:last-child,.b_hPanel>span:last-child,td:last-child,th:last-child,#b_tween>span:last-child{padding-right:0}.b_overhangR{margin-right:-30px;padding-right:150px}.wr_tc{margin-right:-150px}.b_tbl{margin-right:-10px}.b_border,.b_button,.b_hlButton,.b_scroll,.b_dropdown{border-width:1px;border-style:solid}.b_button,.b_hlButton{line-height:30px;text-decoration:none;text-align:center;cursor:pointer;padding:0 15px;min-width:50px}.lc_bks .cbtn{margin-top:15px}#b_context .b_subModule,#b_results .b_subModule,.b_expando .b_subModule{padding:0 19px 0 19px;margin-bottom:16px}#b_results .b_sideBleed:last-child .b_subModule{margin-bottom:0}.b_dropdown{position:absolute;z-index:6}.b_scroll{position:relative;top:0;width:5px;height:20px}.b_mhdr{margin:-15px 0 -5px;padding:15px 0 5px}.b_mhdr .sw_up,.b_mhdr .sw_down{margin-top:10px}.b_mhdr .b_moreLink,.b_mhdr .b_secondaryText{margin-top:6px}.b_vPanel .sc_rf form,.b_suppModule .b_mhdr{margin-bottom:0}.b_rTxt{text-align:right}.b_cTxt{text-align:center}table{width:100%;word-wrap:break-word}td,th,.b_float_img{padding:0 10px 10px 0}th{text-align:left}.sw_poi,.sw_poia{float:left;margin:-3px 5px 0 0;line-height:20px;text-align:center}.ctxt,select,input[type=\"text\"]{outline:none;padding:0 11px;height:30px;border-width:1px;border-style:solid;border-radius:2px}.ctxt.b_focusTextMedium{padding:3px 11px 8px 11px;height:57px}.ctxt.b_outTextBox{border-top:4px solid #919191;padding:0 11px 8px 11px}.ctxt.b_outTextBox:focus{border-top-width:1px;padding-top:3px}select{padding:0 0 0 11px;height:32px}input.ctxt,.ccal input,.ccal .ccali,.b_favicon,.b_footnote .cico{vertical-align:middle}.ccal .ctxt,.ccal .ctxt:hover,.ccal .ctxt:focus,.ccal .ccali{background:none;border:none;box-shadow:none;-webkit-box-shadow:none}.ccal{border-width:1px;border-style:solid}.ccal .ccali{height:30px}.ccal .ccalp{padding:5px 5px 0 5px}.b_underSearchbox{margin:-20px 20px 14px}.b_underSearchbox .b_hList>li{padding:0 8px 0 0}.b_compactSearch label{float:left;margin:7px 10px 0 0}.b_compactSearch input{margin-right:0;float:left}.b_compactSearch .cbtn{border-left:0}.b_footer table{width:520px;margin:15px 20px 0 120px}#b_footerItems ul{display:block}#b_footerItems li{display:inline;float:left}#b_footerItems span{margin-right:24px;margin-left:48px;float:right}#b_footerItems a{margin-right:24px}#b_footerItems{height:24px;line-height:24px;padding:0 20px}.b_footerRight{margin:13px 0 0 50px}.b_1linetrunc{text-overflow:ellipsis;white-space:nowrap}div.cico.b_capImg{padding-bottom:4px}#b_context .b_entitySubTitle,#b_results .b_entityTP .b_entitySubTitle{margin-top:-9px}.b_entityTP .b_infocardTopR .b_floatR_img,.b_tinyInfocard .b_floatR_img,.b_smallInfoFacts .sml{padding-bottom:10px}.b_vmparent{display:-ms-flexbox;display:-webkit-flex;display:flexbox;display:-webkit-box;display:flex;align-items:center}.b_relative{position:relative}z{a:1}input,textarea,h4,h5{font:inherit;font-size:100%}body,.b_no h4,h2 .b_secondaryText,h2 .b_alert{font:13px/normal Arial,Helvetica,Sans-Serif}h1,h2,h3{font:13px/1.2em 'Microsoft YaHei',Arial,Helvetica,Sans-Serif}h2{font-size:20px;line-height:24px}h3,.b_no h1{font-size:18px;line-height:22px}cite{font-style:normal}.sb_alert a{font-style:italic}#b_content,#b_context,.b_expando{line-height:1.2em}cite,#b_context,.b_expando,#vidans2{word-wrap:break-word}#sa_ul li,.nowrap{white-space:nowrap}.b_footer{line-height:18px}.b_attribution,#b_content .b_attribution{font-size:14px;line-height:20px}.b_subModule h2{font-size:18px;line-height:22px}.b_smText,.b_footnote,.ciot{font-family:Arial,Helvetica,Sans-Serif;font-size:11px;line-height:normal}.b_footnote{line-height:16px}.b_ad .b_adlabel,.b_ad .b_adlabel strong{font:12px/normal Arial,Helvetica,Sans-Serif}.b_mText{font:16px/22px 'Microsoft YaHei',Arial,Helvetica,Sans-Serif}.b_focusLabel{font:16px 'Microsoft YaHei',Arial,Helvetica,Sans-Serif;line-height:20px}.b_secondaryFocus{font:13px Arial,Helvetica,Sans-Serif;line-height:18px}.b_focusTextExtraSmall{font:18px 'Microsoft YaHei',Arial,Helvetica,Sans-Serif;line-height:1.3em}h2.b_entityTitle,.b_prominentFocusLabel,.b_xlText{font-size:24px;font-family:'Microsoft YaHei',Arial,Helvetica,Sans-Serif;line-height:1.2em}h2.b_entityTitle{line-height:normal}.b_entitySubTitle{font-size:13px;line-height:18px}.b_focusTextSmall,.b_focusTextMedium,.b_focusTextLarge{font:400 28px 'Microsoft YaHei',Arial,Helvetica,Sans-Serif}.b_focusTextMedium{font-size:40px;line-height:48px}.b_focusTextLarge{font-size:54px;line-height:64px}.b_focusTextSmall{font-size:28px;line-height:38px}h2.b_topTitle{font-size:24px;line-height:1.2em}strong,.b_active a,.b_no h4,.b_strong,.b_ad .b_adlabel strong,.cbl{font-weight:700}th,h2 strong,h3 strong{font-weight:normal}#b_tween{font-size:12px}#b_tween>span,#b_tween .ftrH{line-height:30px}.sb_count{text-transform:capitalize}a,.b_algoheader a:hover,.b_topbar a:hover,.b_pag a:hover,.cbtn:hover,.cbtn a:hover,.b_hlButton:hover,.ftrB a:hover,.b_algo:hover .b_vList h2 a,.b_algo:first-child:hover .b_vList h2 a,#b_results>.b_ans:hover .ent_cnt h2>a,#b_results>.b_ans:hover #sp_requery h2>a,#b_results>.b_ans .b_rich>.b_vList>li:hover h5.b_lBMargin>a{text-decoration:none}a:hover,.b_algoheader a h2:hover,.b_algo:first-child:hover h2 a,.b_algo .b_underline a,.sb_add .b_underline a,#b_results>.b_ad li:first-child .sb_adTA:hover h2 a{text-decoration:underline}z{a:1}#b_results>li.b_ans.b_topborder{padding:15px 19px 10px 19px;margin-bottom:12px;border-radius:6px;margin-top:0}#b_results>li.b_ans.b_topborder .bgtopgr{border-bottom-left-radius:6px;border-bottom-right-radius:6px}#b_results>li.b_ans.b_topborder .bgtopwh{border-radius:6px 6px 0 0}#b_results li.b_ans~.b_topborder{margin-top:10px}#b_results li.b_ad~.b_ans.b_topborder{margin-top:12px}#b_results>li.b_ans.b_topborder.b_tophb{border:1px solid #ddd;box-shadow:none;padding:0}#b_results>li.b_ans.b_topborder,#b_results>li.b_ans.b_topborder.b_tophb.b_topshad{box-shadow:0 0 0 1px rgba(0,0,0,.05),0 2px 3px 0 rgba(0,0,0,.1);border:none}.b_tophb .b_tophbh{padding:15px 19px 16px 19px}.b_tophb .b_tophbb{border-top:1px solid #ddd;padding:15px 19px 19px 19px}.b_topshad .b_tophbb{padding-bottom:10px}.b_tophb .b_tophbb.bgbtopnone{border-top:none}.b_tophb .bgtopwh{background-color:#fff}.b_tophb .bgtopgr{background-color:#f5f5f5}#b_results>.b_ad+.b_top{margin-top:0}.b_top .b_attribution+.b_rich,.b_top .b_factrow+.b_rich{padding-top:8px}.b_top .b_topTitle+.b_rich{padding-top:12px}.b_tHeader,.b_demoteText,.b_secondaryText,.b_attribution,.b_factrow,.b_focusLabel,.b_footnote,.b_ad .b_adlabel,#b_tween .b_dropdown a,.b_expando .b_subModule,.b_expando .b_suppModule,.b_algo .b_vList td,#b_content .b_lowFocusLink a,#b_context .b_secondaryText,#b_context .b_attribution,#b_context .b_factrow,#b_context .b_footnote,#b_context .b_ad .b_adlabel,.b_expando .b_secondaryText,.b_expando .b_attribution,.b_expando .b_factrow,.b_expando .b_footnote{color:#767676}.b_ad .b_secondaryText{color:#767676}#b_context .b_mhdr:hover .b_secondaryText,.b_expando .b_mhdr:hover .b_secondaryText{color:#001ba0}#b_results>.b_top .b_prominentFocusLabel,#b_results>.b_top .b_topTitle,#b_results>.b_top .b_focusTextExtraSmall,#b_results>.b_top .b_focusTextExtraSmall a,#b_results>.b_top .b_focusTextSmall,#b_results>.b_top .b_focusTextSmall a,#b_results>.b_top .b_focusTextMedium,#b_results>.b_top .b_focusTextMedium a,#b_results>.b_top .b_focusTextLarge,#b_results>.b_top .b_focusTextLarge a{color:#111}span.b_negText.b_focusTextExtraSmall{color:#c80000 !important}span.b_posText.b_focusTextExtraSmall{color:#006d21 !important}.b_top .b_focusTextExtraSmall a,.b_top .b_focusTextSmall a,.b_top .b_focusTextMedium a,.b_top .b_focusTextLarge a{text-decoration:none}#b_results>.b_top:hover .b_focusTextExtraSmall a,#b_results>.b_top:hover .b_focusTextSmall a,#b_results>.b_top:hover .b_focusTextMedium a,#b_results>.b_top:hover .b_focusTextLarge a{color:#001ba0}#b_results>.b_top .b_focusTextExtraSmall a:hover,#b_results>.b_top .b_focusTextSmall a:hover,#b_results>.b_top .b_focusTextMedium a:hover,#b_results>.b_top .b_focusTextLarge a:hover{text-decoration:underline}.fc_cal_holder table{font-size:11px}body .fc_cal_holder{border:1px solid #0072c5}body .fc_cal_holder .fc_cal_disabled{color:#767676}body .fc_cal_holder a:link,body .fc_cal_holder a:visited{color:#666}body .fc_cal_holder td,body .fc_cal_holder .fc_cal_disabled,body .fc_cal_holder .fc_cal_days td{width:20px;line-height:20px;padding:0 10px 10px 0}.fc_cal_holder tr td:first-child{padding-left:10px}.fc_cal_holder tr:last-child td{padding-bottom:15px}body .fc_cal_holder .fc_cal_days td{line-height:15px;color:#767676;background-color:#fff}body .fc_cal_holder a{padding:0}body .fc_cal_holder td a:hover,body .fc_cal_holder td a:active,body .fc_cal_holder td.fc_cal_current a:hover,body .fc_cal_holder td.fc_cal_current a:active{background-color:#eee;color:#666}body .fc_cal_holder .fc_cal_monthHolder+.fc_cal_monthHolder{border-left:1px solid #bfdcf0}body .fc_cal_holder .fc_cal_monthHolder{background-color:#fff;border:0;padding:15px 15px 10em 15px}body .fc_cal_holder th div{background-color:#fff;border:0;padding:0 0 15px;color:#666;text-align:center;font-size:13px}body .fc_cal_holder .fc_cal_current a{background-color:#001ba0}body .fc_cal_monthDec.fc_cal_monthChange,body .fc_cal_monthInc.fc_cal_monthChange{background:url(/sa/simg/navchevrons_topRefresh.png) no-repeat;width:8px;height:12px;background-position:0 -110px;font-size:0}body .fc_cal_monthDec.fc_cal_monthChange{background-position:0 -44px}body .fc_cal_holder .fc_cal_month_first .fc_cal_monthDec{margin:1px 0 0 15px}body .fc_cal_holder .fc_cal_month_last .fc_cal_monthInc{margin:1px 15px 0 0}strong{color:#c00;font-weight:normal}.sa_as li.pp_tile strong{color:#444;font-weight:700}cite strong{font-weight:700}.b_attribution,cite strong{color:#006d21}#b_results p{word-wrap:break-word}.b_algo .b_attribution .c_tlbx,#b_context .b_ans h2{color:#767676}.b_hPanel>span{vertical-align:middle}.b_deep h3,.b_ans h5,.b_attribution,.b_vList>li,.b_hList>li,.b_caption,.b_moreLink,.b_xlText{padding-bottom:3px}.b_factrow{padding-bottom:3px}#sa_ans .b_vPanel{margin-bottom:0}.b_vPanel{margin-bottom:-10px}#b_results>.b_pag{padding-bottom:10px}.b_ans .b_imagePair>.inner{padding-top:1px;padding-bottom:7px}#b_results .b_imagePair.square_mi{padding-left:21px}#b_results .b_imagePair.square_mi>.inner{margin-top:5px;margin-left:-21px}#dict_ans .b_imagePair.square_mi>.inner{margin-top:2px}.knwp:hover .knbx{display:block}.knwp .knic{padding-top:2px}.knbx.c_tlbx img,.b_ans .b_title H2,.b_ans .b_title div{display:inline-block}.b_hList .image_wrapper>.cico{position:static;padding-bottom:0}.fiw{padding-right:0;padding-bottom:0}.fiw>select{vertical-align:middle;line-height:26px}.b_ans .b_rs>h2{padding-bottom:7px}#b_context .b_ad h2,.b_ad h2,.b_ad .b_attribution,.b_ans .b_caption,.b_vPanel .b_lBottom{padding-bottom:0}.b_ad .b_adlabel{font-size:13px}#b_context .b_ad .b_adlabel{margin-bottom:8px}.b_ad .b_caption{padding-bottom:10px}.b_hList .b_vPanel,.b_ad li{margin-bottom:0}#b_results .b_ad .b_vlist2col,#b_results .b_ad .b_factrow{margin-top:-10px}.b_vlist2col{overflow:hidden}.b_vlist2col ul:first-child{margin:0 40px 0 0}.b_rs .b_vlist2col li,#b_context .b_ans .b_vList li{padding:0 0 6px}#sp_requery .b_pAlt{color:#666}.b_safe{color:#008000}.cipt,.cipl,.ciptr,.ciplr{vertical-align:text-top}.b_suffix div.nc_os{background-color:#2196ff;color:#fff;padding:0 3px}.b_underSearchbox{margin:-15px 20px 14px}.b_underSearchbox~#b_tween{margin-top:-22px}.ghosttext{color:#777}.b_hxlText{font-size:18px;line-height:23px;padding-bottom:3px;color:#c00}.cf_space{padding:3px 0 7px 0}#b_tween .ftrB{margin-left:-14px}nobr{white-space:inherit}.b_vList>li{word-wrap:break-word}.b_hList .sml img{display:inherit}.bm_component .b_hList>li>.sml{line-height:0}.bm_component .b_hList .cico{padding-bottom:0}#b_context .b_ans h2{font-size:16px;color:#666;line-height:22px}.b_xlText{font-size:24px;line-height:30px}h3{font-family:Arial,Helvetica,Sans-Serif}.b_deep h3{font-size:16px;line-height:21px}#b_content,#b_context,.b_expando{line-height:18px}.b_ad li,#b_context>.b_ad>ul>li{margin-bottom:7px}#b_context .b_entityTP{padding:9px 19px 4px 19px;margin:-10px -20px -6px -20px;width:100%;box-shadow:0 0 0 1px rgba(0,0,0,.05),0 2px 3px 0 rgba(0,0,0,.1);border-radius:6px}#b_context .b_entityTP .irp{border-radius:6px 6px 0 0;overflow:hidden}#b_context .b_ans:not(:first-child)>.b_entityTP{margin-top:-16px}#b_context .b_ad:not(:last-child){padding-bottom:15px;border-bottom:1px solid #ebebeb}#b_context .b_ans:not(:last-child){padding-bottom:5px}#b_context .b_ans .b_entityTP{margin-bottom:20px}z{a:1}.sw_meIc:after,.sw_spd:after,.sw_pref:after,.idp_ham:after,.idp_wlid:after,.idp_tw:after{position:relative;content:url(/sa/simg/SharedSpriteDesktop_2x_090619.png)}.sw_meIc,.sw_spd,.idp_ham,.idp_wlid,.idp_tw{position:relative;overflow:hidden;direction:ltr}.sw_meIc:after,.sw_spd:after,.idp_ham:after,.idp_wlid:after,.idp_tw:after{transform:scale(.5);display:inline-block}.idp_ham{height:14px;width:20px;vertical-align:top;top:17px}.idp_ham:after{transform-origin:-198px 0}.idp_ham:hover:after,.idp_ham:active:after,.idp_ham:focus:after{transform-origin:-198px -32px}.idp_wlid,.idp_tw,.sw_meIc{height:16px;width:16px}.idp_wlid:after{transform-origin:-768px 0}.idp_tw:after{transform-origin:-1290px 0}.rh_reedm .sw_meIc:after{transform-origin:-94px 0}.sw_meIc:after{transform-origin:-58px 0}.sw_spd:after{transform-origin:-1326px 0}::-webkit-search-decoration,::-webkit-search-cancel-button,.b_searchbox{-webkit-appearance:none}z{a:1}z{a:1}.b_searchboxForm,.sa_as .sa_drw{background-color:#fff}.b_searchboxForm .b_searchboxSubmit{background-color:#fff;border-color:#fff}.b_scopebar,.b_scopebar a,.b_scopebar a:visited,.id_button,.id_button:visited{color:#444}.b_scopebar .b_active a,.b_scopebar a:hover,.id_button:hover{color:#444}.b_idOpen a#id_l,a#id_rh.openfo{color:#333;background-color:#fff}#bepfo,#id_d{color:#333;background-color:#fff}.wpc_bub a{color:#001ba0}#sw_as{color:#444}.sa_tm strong{color:#444}.sa_hv{background:#ececec}.sa_hd{color:#444}#b_header{padding:24px 0 0 0;margin:0 0 0 0;background-color:#fff;position:initial;z-index:initial;width:inherit}#b_header #sb_form,.b_logoArea,.b_logo,.b_searchboxForm,.id_button,.id_avatar,.idp_ham,.b_scopebar li,.b_scopebar a{display:inline-block}#b_header #sb_form{margin-right:10px}.b_logoArea{text-align:right;width:86px;height:40px;margin:0 14px 0 0;vertical-align:top}.b_logo{text-indent:-999px;text-align:left;margin-top:2px;vertical-align:top}.b_searchbox{width:490px;margin:5px 0 1px 20px;padding:0 10px 0 0;border:0;max-height:30px;outline:none;box-sizing:content-box;height:35px;vertical-align:top;border-radius:6px}#b_header .b_searchbox.b_softkey{width:435px}.b_searchboxSubmit{height:40px;width:40px;text-indent:-99em;border-width:0;border-style:solid;margin:0;background-position:-242px 0;-webkit-transform:scale(.5);-ms-transform:scale(.5);transform:scale(.5)}#sw_as{width:auto;position:relative;z-index:6}.sa_as{position:absolute;width:100%;display:none}#sa_ul div.sa_tm,#sa_ul .sa_hd{margin-left:20px}#sw_as #sa_ul li.pp_tile{padding-left:20px}.sa_hd{padding-top:5px}.b_searchboxSubmit,.sa_sg{cursor:pointer}.b_searchboxForm{box-shadow:0 0 0 1px rgba(0,0,0,.1),0 2px 4px 0 rgba(0,0,0,.16);border-radius:6px;border:none}.b_idOpen #id_d,#bepfo,#id_hbfo.slide_down{box-shadow:0 0 0 1px rgba(0,0,0,.1),0 2px 4px 1px rgba(0,0,0,.18);border-radius:6px}#sw_as #sa_ul:not(:empty){box-shadow:0 0 0 1px rgba(0,0,0,.1),0 2px 4px 1px rgba(0,0,0,.18)}.b_searchboxForm:hover,.b_focus .b_searchboxForm{box-shadow:0 0 0 1px rgba(0,0,0,.1),0 2px 4px 1px rgba(0,0,0,.18);border-left:none;border-right:none;border-top:none;border-bottom:none}.as_on .b_searchboxForm{border-radius:6px 6px 0 0}@media screen and (-ms-high-contrast:active){.b_idOpen #id_d{border:1px solid #fff}}@media screen and (-ms-high-contrast:black-on-white){.b_idOpen #id_d{border:1px solid #000}}#sw_as #sa_ul:not(:empty),#sw_as li:last-of-type.sa_hv{border-bottom-left-radius:6px;border-bottom-right-radius:6px}.spl-headerbackground{border-radius:6px 6px 0 0}body,#b_header{min-width:1129px}#id_h{display:block;position:relative;float:right;text-align:right;margin:-4px 0 0;line-height:50px;right:40px}.id_button{margin:0 8px}#id_l{vertical-align:top}#id_rh{padding:0 8px 0 16px}.sw_spd{vertical-align:top;margin-left:8px;height:32px;width:32px;border-radius:16px;top:9px}.sw_meIc{vertical-align:top;margin:16px 0 0 16px}#bepfo,#bepfm,#bepfl{width:320px}#bepfm{display:block}#bepfl{text-align:center;margin:50px 0}#bepfo{position:absolute;right:0;z-index:6;text-align:left}.idp_ham{margin:0 20px 0 16px;height:14px;width:20px}.b_scopebar{padding:0;margin:25px 0 0 100px;border-bottom:none}#b_header{border-bottom:1px solid #ddd}.blue2#miniheader .b_scopebar ul{height:33px;overflow-y:hidden}.b_scopebar ul{height:39px;overflow-y:hidden}.b_scopebar li{padding:3px 12px;margin:0;line-height:25px}.b_scopebar a{padding:0 8px}.b_scopebar .b_active{border-bottom:3px solid #00809d}#b_header .b_topbar,#b_header .b_scopebar{background:none;margin-bottom:0;overflow-y:inherit}.b_scopehide>.b_active{visibility:visible}.b_scopehide>li{visibility:hidden}.b_logo{font-family:Arial,Helvetica,Sans-Serif}a,#b_header a,#b_header a:hover,.b_toggle,.b_toggle:hover{text-decoration:none}input{font:inherit;font-size:100%}.b_searchboxForm{font:18px/normal 'Microsoft YaHei',Arial,Helvetica,Sans-Serif}.b_searchbox{font-size:16px}.id_button{line-height:50px;height:50px}.b_scopebar .b_active a{font-weight:700}.b_scopebar,.b_scopebar li{line-height:30px}.sa_tm{line-height:36px}.b_scopebar li{vertical-align:top}#sa_ul,.pp_title{font:16px/normal 'Microsoft YaHei',Arial,Helvetica,Sans-Serif}#sa_ul .sa_hd{color:#444;font:11px/16px 'Segoe UI','Arial','Helvetica','Sans-Serif';cursor:default;text-transform:uppercase;font-weight:bold}#sw_as strong{font-weight:bold}#b_pole,#b_content #b_pole{margin-top:-25px;margin-bottom:5px}#sa_ul,.pp_title{font-family:'Microsoft YaHei',Arial,Helvetica,Sans-Serif}@media all and (max-width:1100px){#id_s,#id_n{display:none}}#b_header ul#landing_tabs{border-top:1px solid #ddd}#sb_form .b_searchboxForm,#sb_form .sa_as,#sb_form #sw_as li.pp_tile{border-color:#eee}#sb_go_par{display:inline-block}#hp_container #sb_go_par{display:inline}#sb_go_par:hover::before,#sb_go_par[vptest]::before{bottom:-15px;left:20px;z-index:6}#sb_go_par:hover::after,#sb_go_par[vptest]::after{top:46px;left:20px;z-index:4}#hp_container #sb_go_par:hover::before{bottom:-24px}#hp_container #sb_go_par:hover::after{top:38px}#hp_container #sb_go_par:hover::before,#hp_container #sb_go_par:hover::after{left:28px}*[data-sbtip]{position:relative}[vptest]::after,*[data-sbtip]:not(.disableTooltip):hover::after{position:absolute;background-color:#666;content:attr(data-sbtip);font:13px/18px Arial,Helvetica,sans-serif;white-space:nowrap;color:#fff;padding:10px 15px;transform:translateX(-50%);box-shadow:0 0 0 1px rgba(0,0,0,.06),0 4px 12px 1px rgba(0,0,0,.14);border-radius:4px}[vptest]::before,*[data-sbtip]:not(.disableTooltip):hover::before{position:absolute;background-color:#666;width:12px;height:12px;content:\"\";transform:translateX(-50%) rotate(45deg)}.disableTooltip *[data-sbtip]:hover::before,.disableTooltip *[data-sbtip]:hover::after,.as_on *[data-sbtip]:hover::before,.as_on *[data-sbtip]:hover::after,.focus_hi *[data-sbtip]:hover::before,.focus_hi *[data-sbtip]:hover::after{display:none}z{a:1}.b_searchbox{ width: 578px;}#est_switch{position:relative;margin-bottom:0;margin-left:99px;z-index:1;width:200px}#est_cn,#est_en{position:relative;display:inline-block;height:25px;line-height:25px;font-size:14px;text-align:center;padding:0 11px 0 12px;color:#444;font-family:'Microsoft YaHei',Arial,Helvetica,sans-serif}#est_cn{margin-right:4px}#est_cn::before,#est_en::before{content:'';position:absolute;bottom:-2px;left:1px;height:3px;width:70px;z-index:-1}#est_cn::after,#est_en::after{content:'';position:absolute;top:4px;right:0;bottom:0;left:0;z-index:-1;-webkit-transform:scale(1.1,1.3) perspective(.5em) rotateX(1.9deg);-moz-transform:scale(1.1,1.3) perspective(.5em) rotateX(1.9deg);-ms-transform:scale(1.1,1.3) perspective(.5em) rotateX(1.9deg);-o-transform:scale(1.1,1.3) perspective(.5em) rotateX(1.9deg);transform:scale(1.1,1.3) perspective(.5em) rotateX(1.9deg);-webkit-transform-origin:bottom left;-moz-transform-origin:bottom left;-ms-transform-origin:bottom left;-o-transform-origin:bottom left;transform-origin:bottom left}#est_switch .est_selected{z-index:1}#est_switch .est_selected::before{background:#fff}#est_switch .est_selected::after{background-color:#fff;border:1px solid rgba(0,0,0,.14);border-bottom:none}#est_switch .est_unselected{color:#666;cursor:pointer}#est_switch .est_unselected::after{bottom:.05em;background-color:#ececec;border:1px solid #ececec}#est_switch .est_unselected:hover{opacity:.8}#sb_form{position:relative}#b_header .b_searchboxForm:before{display:inline-block;height:25px;width:5px;margin-left:-5px;content:\"\";top:-24px;position:absolute;background-color:#fff;background:-webkit-gradient(linear,left top,right top,color-stop(57%,transparent),color-stop(100%,rgba(0,0,0,.13)));background:-webkit-linear-gradient(left,transparent 57%,rgba(0,0,0,.13) 100%);background:-moz-linear-gradient(to right,transparent 57%,rgba(0,0,0,.13) 100%);background:-o-linear-gradient(to right,transparent 57%,rgba(0,0,0,.13) 100%);background:linear-gradient(to right,transparent 57%,rgba(0,0,0,.13) 100%)}#b_header .b_searchboxForm:hover:before{background:-webkit-gradient(linear,left top,right top,color-stop(30%,transparent),color-stop(100%,rgba(0,0,0,.15)));background:-webkit-linear-gradient(left,transparent 30%,rgba(0,0,0,.15) 100%);background:-moz-linear-gradient(to right,transparent 30%,rgba(0,0,0,.15) 100%);background:-o-linear-gradient(to right,transparent 30%,rgba(0,0,0,.15) 100%);background:linear-gradient(to right,transparent 30%,rgba(0,0,0,.15) 100%)}#b_header .b_searchboxForm,#b_header .b_searchboxForm:hover{border-top-left-radius:0}.b_logo{background:none;display:inline-block;width:28px;height:36px;text-indent:0;overflow:hidden;direction:ltr}.b_logo div{text-indent:-999px}.b_logo:after{content:none}.b_logo img{transform-origin:0 0;transform:scale(.5)}.b_searchboxSubmit{background-image:url(/sa/simg/SharedSpriteDesktop_2x_090619.png);background-repeat:no-repeat}z{a:1}@media(max-width:1177px){#id_n{white-space:nowrap;overflow:hidden;text-overflow:ellipsis;max-width:100px;display:inline-block}}.b_aslcpv5{color:#666;font-size:11px;font-weight:normal;border:1px solid #ddd;border-radius:3px;padding:0 3px 0 2px;margin-right:4px}</style><style type=\"text/css\">#b_results{width:648px}body,#b_header{min-width:1265px}#b_context{width:432px}.b_poleContent{width:1140px}@media(max-width:1281.9px){body,#b_header{min-width:1177px}#b_context{width:344px}.b_poleContent{width:1052px}}@media(max-width:1193.9px){body,#b_header{min-width:1089px}#b_context{width:256px}#b_header #id_h{right:0}#id_rh{padding-left:8px}.b_poleContent{width:964px}}</style><script type=\"text/javascript\">//<![CDATA[\n",
      "var logMetaError=function(n){(new Image).src=_G.lsUrl+'&Type=Event.ClientInst&DATA=[{\"T\":\"CI.MetaError\",\"FID\":\"CI\",\"Name\":\"MetaJSError\",\"Text\":\"'+escape(n)+'\"}]'},getHref=function(){return location.href},regexEscape;try{regexEscape=function(n){return n.replace(/([.?*+^$&[\\]\\\\(){}|<>-])/g,\"\\\\$1\")};function jsErrorHandler(n){var s,r,y,p,u,f,w,e,h,c,o;try{if(s=\"ERC\",r=window[s],r=r?r+1:1,r===16&&(n=new Error(\"max errors reached\")),r>16)return;window[s]=r;var l=n.error||n,b='\"noMessage\"',k=n.filename,d=n.lineno,g=n.colno,nt=n.extra,a=l.severity||\"Error\",tt=l.message||b,i=l.stack,t='\"'+escape(tt.replace(/\"/g,\"\"))+'\"',it=new RegExp(regexEscape(getHref()),\"g\");if(i){for(y=/\\(([^\\)]+):[0-9]+:[0-9]+\\)/g,u={};(p=y.exec(i))!==null;)f=p[1],u[f]?u[f]++:u[f]=1;e=0;for(h in u)u[h]>1&&(c=regexEscape(h),w=new RegExp(c,\"g\"),i=i.replace(w,e),i+=\"#\"+e+\"=\"+c,e++);i=i.replace(it,\"self\").replace(/\"/g,\"\");t+=',\"Stack\":\"'+(escape(i)+'\"')}if(k&&(t+=',\"Meta\":\"'+escape(k.replace(it,\"self\"))+'\"'),d&&(t+=',\"Line\":\"'+d+'\"'),g&&(t+=',\"Char\":\"'+g+'\"'),nt&&(t+=',\"ExtraInfo\":\"'+nt+'\"'),tt===b)if(a=\"Warning\",t+=',\"ObjectToString\":\"'+n.toString()+'\"',JSON&&JSON.stringify)t+=',\"JSON\":\"'+escape(JSON.stringify(n))+'\"';else for(o in n)n.hasOwnProperty(o)&&(t+=',\"'+o+'\":\"'+n[o]+'\"');var rt=(new Date).getTime(),ut='\"T\":\"CI.'+a+'\",\"FID\":\"CI\",\"Name\":\"JS'+a+'\",\"Text\":'+t+\"\",ft=\"<E><T>Event.ClientInst<\\/T><IG>\"+_G.IG+\"<\\/IG><TS>\"+rt+\"<\\/TS><D><![CDATA[[{\"+ut+\"}]]\\]><\\/D><\\/E>\",et=\"<ClientInstRequest><Events>\"+ft+\"<\\/Events><STS>\"+rt+\"<\\/STS><\\/ClientInstRequest>\",v=new XMLHttpRequest;v.open(\"POST\",\"/fd/ls/lsp.aspx?\",!0);v.setRequestHeader(\"Content-Type\",\"text/xml\");v.send(et);typeof sj_evt!=\"undefined\"&&sj_evt.fire(\"ErrorInstrumentation\",t)}catch(ot){logMetaError(\"Failed to execute error handler. \"+ot.message)}}window.addEventListener&&window.addEventListener(\"error\",jsErrorHandler,!1);window.addEventListener||window.onerror||(window.onerror=function(n,t,i,r,u){var f=\"\",e;typeof n==\"object\"&&n.srcElement&&n.srcElement.src?f=\"\\\"ScriptSrc = '\"+escape(n.srcElement.src.replace(/'/g,\"\"))+\"'\\\"\":(n=\"\"+n,f='\"'+escape(n.replace(/\"/g,\"\"))+'\",\"Meta\":\"'+escape(t)+'\",\"Line\":'+i+',\"Char\": '+r,u&&u.stack&&(e=new RegExp(regexEscape(getHref()),\"g\"),f+=',\"Stack\":\"'+escape(u.stack.replace(e,\"self\").replace(/\"/g,\"\")+'\"')));(new Image).src=_G.lsUrl+'&Type=Event.ClientInst&DATA=[{\"T\":\"CI.GetError\",\"FID\":\"CI\",\"Name\":\"JSGetError\",\"Text\":'+f+\"}]\";typeof sj_evt!=\"undefined\"&&sj_evt.fire(\"ErrorInstrumentation\",f)})}catch(e){logMetaError(\"Failed to bind error handler \"+e.message)};var amd,define,require;(function(n){function e(n,i,u){t[n]||(t[n]={dependencies:i,callback:u},r(n))}function r(n){if(n){if(n)return u(n)}else{if(!f){for(var r in t)u(r);f=!0}return i}}function u(n){var s,e;if(i[n])return i[n];if(t.hasOwnProperty(n)){var h=t[n],f=h.dependencies,l=h.callback,a=r,o={},c=[a,o];if(f.length<2)throw\"invalid usage\";else if(f.length>2)for(s=f.slice(2,f.length),e=0;e<s.length;e++)c.push(u(s[e]));return l.apply(this,c),i[n]=o,o}}var t={},i={},f=!1;n.define=e;n.require=r})(amd||(amd={}));define=amd.define;require=amd.require;var _w=window,_d=document,sb_ie=window.ActiveXObject!==undefined,sb_i6=sb_ie&&!_w.XMLHttpRequest,_ge=function(n){return _d.getElementById(n)},_qs=function(n,t){return t=typeof t==\"undefined\"?_d:t,t.querySelector?t.querySelector(n):null},sb_st=function(n,t){return setTimeout(n,t)},sb_rst=sb_st,sb_ct=function(n){clearTimeout(n)},sb_gt=function(){return(new Date).getTime()},sj_gx=function(){return sb_i6?new ActiveXObject(\"MSXML2.XMLHTTP\"):new XMLHttpRequest};_w.sj_ce=function(n,t,i){var r=_d.createElement(n);return t&&(r.id=t),i&&(r.className=i),r};_w.sj_cook={get:function(n,t){var i=_d.cookie.match(new RegExp(\"\\\\b\"+n+\"=[^;]+\")),r;return t&&i?(r=i[0].match(new RegExp(\"\\\\b\"+t+\"=([^&]*)\")),r?r[1]:null):i?i[0]:null}};_w.sk_merge||(_w.sk_merge=function(n){_d.cookie=n});define(\"fallback\",[\"require\",\"exports\"],function(n,t){function f(){return function(){for(var r,h,c,t=[],n=0;n<arguments.length;n++)t[n]=arguments[n];if(r=s(arguments.callee),u&&(h=e(r),h.toString()!=f().toString()))return h.apply(null,arguments);c=i[r].q;t[0]===\"onPP\"&&o();c.push(t)}}function s(n){for(var t in i)if(i[t].h===n)return t}function e(n,t){for(var u,e=n.split(\".\"),i=_w,r=0;r<e.length;r++)u=e[r],typeof i[u]==\"undefined\"&&t&&(i[u]=r===e.length-1?f():{}),i=i[u];return i}function o(){var e=i[\"rms.js\"].q,o,f,t,n,r,u;if(e.length>0)for(o=!1,f=0;f<e.length;f++){for(t=e[f],n=0;n<t.length;n++)if(r=t[n][\"A:rms:answers:Shared:BingCore.Bundle\"],r||(r=t[n][\"A:rmsBu0\"]),r){u=_d.createElement(\"script\");u.setAttribute(\"data-rms\",\"1\");u.src=r;u.type=\"text/javascript\";setTimeout(function(){_d.body.appendChild(u)},0);t.splice(n,1);o=!0;break}if(o)break}}function h(){var n,t,f;for(u=!1,n=0;n<r.length;n++)t=r[n],f=e(t,!0),i[t]={h:f,q:[]}}function c(){for(var t,n=0;n<r.length;n++){var o=r[n],s=i[o].q,h=e(o);for(t=0;t<s.length;t++)h.toString()!==f().toString()&&h.apply(null,s[t])}u=!0}function l(n,t,i,r){n&&((n===_w||n===_d||n===_d.body)&&t==\"load\"?_w.sj_evt.bind(\"onP1\",i,!0):n.addEventListener?n.addEventListener(t,i,r):n.attachEvent?n.attachEvent(\"on\"+t,i):n[\"on\"+t]=i)}t.__esModule=!0;var r=[\"rms.js\",\"sj_evt.bind\",\"sj_evt.fire\",\"sj_jb\",\"sj_wf\",\"sj_cook.get\",\"sj_cook.set\",\"sj_pd\",\"sj_sp\",\"sj_be\",\"sj_go\",\"sj_ev\",\"sj_ue\",\"sj_evt.unbind\",\"sj_et\",\"Log.Log\",\"sj_mo\",\"sj_so\"],i={},u=!1;_w.fb_is=o;t.replay=c;h();_w.sj_be=l});function lb(){_w.si_sendCReq&&sb_st(_w.si_sendCReq,800);_w.lbc&&_w.lbc()};(function(){function n(n){n=sb_ie?_w.event:n;(!n.altKey||n.ctrlKey||n.shiftKey)&&(n.key&&n.key===\"Enter\"||n.keyCode&&n.keyCode===13)&&_w.si_ct(sb_ie?n.srcElement:n.target,!1,n,\"enter\")}sj_be(document,\"keydown\",n,!1)})();(function(){function n(n){_w.si_ct(sb_ie?_w.event.srcElement:n.target,!1,_w.event||n);sj_evt&&sj_evt.fire(\"cbksent\",n)}sj_be(document,\"mousedown\",n,!1)})();/*!DisableJavascriptProfiler*/\n",
      "0;/*!DisableJavascriptProfiler*/\n",
      "0;_w.si_sbwu=function(n){var r=\"/fd/ls/GLinkPingPost.aspx?IG=\"+_G.IG+n,t=\"sendBeacon\",i=!1;if(navigator&&navigator[t])try{navigator[t](r,\"\");i=!0}catch(u){}return i};ClTrCo={furl:!0};var ctcc=0,clc=_w.ClTrCo||{};_w.si_ct=function(n,t,i,r){var u,e,f,o,s,h,c;if(clc.SharedClickSuppressed)return!0;u=\"getAttribute\";try{for(;n!==document.body;n=n.parentNode){if(!n||n===document||n[u](\"data-noct\"))break;if(e=(n.tagName===\"A\"||n[u](\"data-clicks\"))&&(n[u](\"h\")||n[u](\"data-h\"))||n[u](\"_ct\"),e){f=n[u](\"_ctf\");o=-1;i&&(i.type===\"keydown\"?o=-2:i.button!=null&&(o=i.button));f&&_w[f]||(f=\"si_T\");f===\"si_T\"&&(s=encodeURIComponent(n[u](\"href\")),clc.furl&&!n[u](\"data-private\")?e+=\"&url=\"+s:clc.mfurl&&(e+=\"&abc=\"+s));r&&(e+=\"&source=\"+r);h=\"\";clc.mc&&(h=\"&c=\"+ctcc++);c=\"&\"+e+h;_w.si_sbwu(c)||_w[f]&&_w[f](c,n,i,o);break}if(t)break}}catch(l){_w.SharedLogHelper?SharedLogHelper.LogWarning(\"clickEX\",null,l):(new Image).src=_G.lsUrl+'&Type=Event.ClientInst&DATA=[{\"T\":\"CI.Warning\",\"FID\":\"CI\",\"Name\":\"JSWarning\",\"Text\":'+l.message+\"}]\"}return!0};_w.si_sbwu||(_w.si_sbwu=function(){return!1}),function(){_w._G&&(_G.si_ct_e=\"click\")}();var wlc_d = 1500, wlc_t =63709202934;;var perf;(function(n){function f(n){return i.hasOwnProperty(n)?i[n]:n}function e(n){var t=\"S\";return n==0?t=\"P\":n==2&&(t=\"M\"),t}function o(n){for(var c,i=[],t={},r,l=0;l<n.length;l++){var a=n[l],o=a.v,s=a.t,h=a.k;s===0&&(h=f(h),o=o.toString(36));s===3?i.push(h+\":\"+o):(r=t[s]=t[s]||[],r.push(h+\":\"+o))}for(c in t)t.hasOwnProperty(c)&&(r=t[c],i.push(e(+c)+':\"'+r.join(\",\")+'\"'));return i.push(u),i}for(var r=[\"redirectStart\",\"redirectEnd\",\"fetchStart\",\"domainLookupStart\",\"domainLookupEnd\",\"connectStart\",\"secureConnectionStart\",\"connectEnd\",\"requestStart\",\"responseStart\",\"responseEnd\",\"domLoading\",\"domInteractive\",\"domContentLoadedEventStart\",\"domContentLoadedEventEnd\",\"domComplete\",\"loadEventStart\",\"loadEventEnd\",\"unloadEventStart\",\"unloadEventEnd\",\"firstChunkEnd\",\"secondChunkStart\",\"htmlEnd\",\"pageEnd\",\"msFirstPaint\"],u=\"v:1.1\",i={},t=0;t<r.length;t++)i[r[t]]=t;n.compress=o})(perf||(perf={}));window.perf=window.perf||{},function(n){n.log=function(t,i){var f=n.compress(t),r;f.push('T:\"CI.Perf\",FID:\"CI\",Name:\"PerfV2\"');var e=\"/fd/ls/lsp.aspx?\",o=\"sendBeacon\",h=\"<E><T>Event.ClientInst<\\/T><IG>\"+_G.IG+\"<\\/IG><TS>\"+i+\"<\\/TS><D><![CDATA[{\"+f.join(\",\")+\"}]\\]><\\/D><\\/E>\",s=\"<ClientInstRequest><Events>\"+h+\"<\\/Events><STS>\"+i+\"<\\/STS><\\/ClientInstRequest>\",u=!_w.navigator||!navigator[o];if(!u)try{navigator[o](e,s)}catch(c){u=!0}u&&(r=sj_gx(),r.open(\"POST\",e,!0),r.setRequestHeader(\"Content-Type\",\"text/xml\"),r.send(s))}}(window.perf);var perf;(function(n){function a(){return c(Math.random()*1e4)}function o(){return y?c(f.now())+l:+new Date}function v(n,r,f){t.length===0&&i&&sb_st(u,1e3);t.push({k:n,v:r,t:f})}function p(n){return i||(r=n),!i}function w(n,t){t||(t=o());v(n,t,0)}function b(n,t){v(n,t,1)}function u(){var u,f;if(t.length){for(u=0;u<t.length;u++)f=t[u],f.t===0&&(f.v-=r);t.push({k:\"id\",v:e,t:3});n.log(t,o());t=[];i=!0}}function k(){r=o();e=a();i=!1;sj_evt.bind(\"onP1\",u)}var s=\"performance\",h=!!_w[s],f=_w[s],y=h&&!!f.now,c=Math.round,t=[],i=!1,l,r,e;h?l=r=f.timing.navigationStart:r=_w.si_ST?_w.si_ST:+new Date;e=a();n.setStartTime=p;n.mark=w;n.record=b;n.flush=u;n.reset=k;sj_be(window,\"load\",u,!1);sj_be(window,\"beforeunload\",u,!1)})(perf||(perf={}));_w.si_PP=function(n,t,i){var r,o,l,h,e,c;if(!_G.PPS){for(o=[\"FC\",\"BC\",\"SE\",\"TC\",\"H\",\"BP\",null];r=o.shift();)o.push('\"'+r+'\":'+(_G[r+\"T\"]?_G[r+\"T\"]-_G.ST:-1));var u=_w.perf,s=\"navigation\",r,f=i||_w.performance&&_w.performance.timing;if(f&&u){if(l=f.navigationStart,u.setStartTime(l),l>=0)for(r in f)h=f[r],typeof h==\"number\"&&h>0&&r!==\"navigationStart\"&&r!==s&&u.mark(r,h);u.record(\"nav\",s in f?f[s]:performance[s].type)}e=\"connection\";c=\"\";_w.navigator&&navigator[e]&&(c=',\"net\":\"'+navigator[e].type+'\"',navigator[e].downlinkMax&&(c+=',\"dlMax\":\"'+navigator[e].downlinkMax+'\"'));_G.PPImg=new Image;_G.PPImg.src=_G.lsUrl+'&Type=Event.CPT&DATA={\"pp\":{\"S\":\"'+(t||\"L\")+'\",'+o.join(\",\")+',\"CT\":'+(n-_G.ST)+',\"IL\":'+_d.images.length+\"}\"+(_G.C1?\",\"+_G.C1:\"\")+c+\"}\"+(_G.P?\"&P=\"+_G.P:\"\")+(_G.DA?\"&DA=\"+_G.DA:\"\")+(_G.MN?\"&MN=\"+_G.MN:\"\");_G.PPS=1;sb_st(function(){u&&u.flush();sj_evt.fire(\"onPP\");sj_evt.fire(_w.p1)},1)}};_w.onbeforeunload=function(){si_PP(new Date,\"A\")};sj_evt.bind(\"ajax.requestSent\",function(){window.perf&&perf.reset()});(function(n){var i,r,t;if(document.querySelector){i=[];r=\"ad\";function u(){var w=sb_gt(),c=document.documentElement,e=document.body,u=-1,r=-1,l=c.clientHeight,a=[\"#b_results .\"+_G.adc,\".sb_adsWv2\",\".ads\"],n,o,s,f,v,t;if(e){n=0;o=document.querySelector(\"#b_pole .b_adSlug\");o&&(s=document.querySelector(\"#b_pole\"),n=s.offsetHeight,r=s.offsetTop);var y=document.querySelector(\"#b_results #productAdCarousel\"),h=document.querySelector(\"#b_results .pa_b_supertop\"),p=document.querySelector(\"#b_results .bn_wide\");for(h?(r=h.offsetTop,n=h.offsetHeight):p?n+=p.offsetHeight:y&&(n+=y.offsetHeight),f=0;f<a.length;f++)if(v=a[f],t=document.querySelector(v),t&&t.className.indexOf(\"b_adBottom\")==-1&&t.offsetTop<l){u=t.offsetHeight+n;r===-1&&(r=t.offsetTop);break}o&&u==-1&&(u=n);i=[r,u,c.clientWidth,l,e.offsetWidth,e.offsetHeight,sb_gt()-w]}}n?(t=n.onbeforefire,n.onbeforefire=function(){t&&t();u();n.mark(r,i)}):(t=si_PP,si_PP=function(){u();var n='\"'+r+'\":['+i.join()+\"]\";_G.C1=_G.C1?_G.C1+\",\"+n:n;t.apply(null,[].slice.apply(arguments))})}})(_w.pp);var sj_log=function(n,t,i){var r=new RegExp('\"',\"g\");(new Image).src=_G.lsUrl+'&Type=Event.ClientInst&DATA=[{\"T\":\"'+n+'\",\"FID\":\"CI\",\"Name\":\"'+t+'\",\"Text\":\"'+escape(i.replace(r,\"\"))+'\"}]'};_w.AM=[\"live.com\",\"virtualearth.net\",\"windows.net\",\"onenote\",\"hexun.com\",\"dict.bing.com.cn\",\"msn.com\",\"variflight.com\",\"bing.net\",\"msftoffers.com\",\"chinacloudapp.cn\",\"cbsnews.com\",\"swx.cdn.skype.com\",\"swc.cdn.skype.com\",\"latest-swx.cdn.skype.com\",\"a.config.skype.com\",\"b.config.skype.com\",\"platform.bing.com\",\"microsofttranslator.com\",\"bing.com\",\"facebook.net\",\".delve.office.com\",\".uservoice.com\",\"platform.twitter.com\",\"cdn.syndication.twimg.com\",\"spoprod-a.akamaihd.net\",\"bingstatic.com\",\"yahoo.co.jp\",\"youtube.com\",\"ytimg.com\"];_w.APD=[\".delve.office.com\",\".uservoice.com\",\"a.config.skype.com\",\"abcnews.go.com\",\"amazon.com\",\"app.powerbi.com\",\"app.powerbi.cn\",\"app.powerbi.de\",\"app.powerbigov.us\",\"b.config.skype.com\",\"bfb\",\"bfb-int\",\"bing.com\",\"bing.net\",\"bing-int.com\",\"bingsandbox.com\",\"bingweathermap.azureedge.net\",\"bloomberg.com\",\"cbsnews.com\",\"cdn.syndication.twimg.com\",\"channel9.msdn.com\",\"chinacloudapp.cn\",\"cnn.com\",\"dailymotion.com\",\"dict.bing.com.cn\",\"downvids.com\",\"downvids.net\",\"edition.cnn.com\",\"embed.vevo.com\",\"euronews.com\",\"facebook.com\",\"fave.api.cnn.io\",\"hexun.com\",\"huffingtonpost.com\",\"idsync.rlcdn.com\",\"ign.com\",\"imdb.com\",\"latest-swx.cdn.skype.com\",\"live.com\",\"mashable.com\",\"microsoft.com\",\"microsoftonline.com\",\"microsofttranslator.com\",\"msecnd.net\",\"msftoffers.com\",\"msit.powerbi.com\",\"msn.com\",\"mtv.com\",\"onenote\",\"photosynth.net\",\"platform.bing.com\",\"platform.twitter.com\",\"powerbi-df.analysis-df.windows.net\",\"rottentomatoes.com\",\"skype.com\",\"spoprod-a.akamaihd.net\",\"substrate.office.com\",\"swc.cdn.skype.com\",\"swx.cdn.skype.com\",\"variflight.com\",\"video.disney.com\",\"videoplayercdn.osi.office.net\",\"vimeo.com\",\"virtualearth.net\",\"web.powerapps.com\",\"widgets.ign.com\",\"windows.net\",\"wsj.com\",\"yahoo.co.jp\",\"youtube.com\",\"ytimg.com\",\"zdnet.com\",];_w.APC=[\"bm_\",\"fb_\",\"panelWrapper\",\"df_topAlAs\",\"df_playBut\",\"df_vidTime\",\"na_cai\",\"ckt_\",\"Light\",\"Dark\",\"taskbar\",\"ssSIV\",\"square_\",\"tall_\",\"item\",\"sw_\",\"sb_\",\"sml\",\"ftrd\",\"sa_\",\"id_\",\"sc_\",\"flt_\",\"fc_\",\"cca\",\"tab-\",\"emb\",\"ctx\",\"dc_\",\"cipa\",\"dict\",\"btm\",\"wtr\",\"wpc\",\"fin\",\"sp-\",\"carousel\",\"vp_\",\"vid\",\"nav_\",\"vt\",\"va_\",\"avc\",\"cic\",\"sports\",\"lc_\",\"bing\",\"dmap_\",\"pvc_\",\"ans_\",\"mcd\",\"composite\",\"mt_\",\"irp\",\"iap\",\"tv\",\"aggtv\",\"irhc\",\"vrh\",\"det\",\"tit\",\"sub\",\"col\",\"card\",\"hlsel\",\"ovl\",\"ctpt\",\"bubble\",\"memodal\",\"meoverlay\",\"c_\",\"spl-\",\"microsoft\",\"skp\",\"saa\",\"unlockButton\",\"overlay\",\"MapPushpinBase\",\"pa_\",\"skype_\",\"ftrSbR\",\"quizContainer\",\"alrt_\",\"st_\",\"expan\",\"word\",\"rpt_\",\"o_\",\"e_\",\"searchbar\",\"row\",\"Traffic\",\"tl\",\"gray\",\"bep\",\"wk_\",\"crs_\",\"w10\",\"personal\",\"fs3_\",\"ezp_\",\"hp\",\"post\",\"mc_\",\"fb\",\"lgb\",\"el_\",\"perf\",\"stb\",\"PP\",\"bw\",\"infobubble\",\"l_\",\"ms-\",\"NavBar_\",\"cmt_\",\"bottom\",\"Copyright\",\"upsell\",\"ab_\",\"w_\",\"hlig\",\"eachStep\",\"close_\",\"cGifIcon\",\"cThIcon\",\"autosuggest\",\"showtimesMovie\",\"sel\",\"dish\",\"formatShowtimes\",\"wp_\",\"hasExpandText\",\"forecast\",\"as_\",\"ecmp\",\"cmp\",\"comp\",\"userChat\",\"bot\",\"bTyp\",\"team\",\"serp\",\"preG\",\"option\",\"azBxInsert\",\"ec_\",\"cs_\",\"spin\",\"skype-conversation\",\"conversation\",\"fs_\",\"grammarly\",\"filterBar\",\"withFilters\",\"textanno\",\"mv_lm\",\"usagTpVsDosage\",\"trans_button_group\",\"algo_action_template\",\"meg_item\",\"ev_msg_wrapper\",\"ol_\",\"offer\",\"embed\",\"videoplayercdn\",\"searchNearby\",\"directionsPanel\",\"dragOverlay\",\"infobox\",\"mss\",\"noneG\",\"usage\",\"drImp\",\"sf_\",\"dfindOverModal\",\"circuit\",\"swc\",\"CodeMirror\",\"cm-s-default\",\"msg msg-warning\",\"LogoContainer\",\"quadrantOverride\",\"ac-\",\"gc-\",\"fsmd-\",\"fsg-\",\"fsmf-\",\"msto_\",\"rq\",\"geoItm\",\"bqaq_quotes\",\"bqap_padding\",\"loc\",\"ent_cnt\",\"r_mf\",\"exp_\",\"btOverlay\",\"mnot_container\",\"info_C\",\"ev_talkbox_notification\",\"ev_talkbox_wrapper_min\",\"p_tr_\",\"slide\",\"bnc-\",\"itr_poi\",\"cg-\",\"elmlr_\",\"scrl\",\"gam-\",\"htv-\",\"genel-\",\"gs_\",\"qo_\",\"jss_\",\"mapsresp\",\"geochainContainer\",\"scaleBar\",\"ae-\",\"CalendarSync\",\"spl_\",\"adbDef\",\"layerFrame\",\"esp-\",\"elis-\",\"elcan-\",\"elec-\"];_w.APN=[\"fb_ovrly_cnt\",\"b_bfb\"];0;(function(){function t(t,i){var u=t.tagName;return(u===\"SCRIPT\"&&(n.href=t.src)||u===\"OBJECT\"&&t.type&&t.type.indexOf(\"flash\")>0&&(n.href=t.data))&&n.href.length>0&&n.hostname.length>0&&n.hostname!==location.hostname&&!e(n.hostname)?(sj_log(\"CI.AntiMalware\",i,u.substr(0,1)+\":\"+n.href.substr(0,r)),!1):!0}function e(n){for(var t=0;t<i.length;t++)if(n.indexOf(i[t])>=0)return!0;return!1}var i=_w.AM,r=100,n=document.createElement(\"A\"),u,f;document.write=function(n){n.length>0&&sj_log(\"CI.AntiMalware\",\"DW\",n.substr(0,r))};typeof Element!=\"undefined\"&&Element.prototype&&(u=Element.prototype.appendChild,Element.prototype.appendChild=function(n){return t(n,\"AC\")?u.apply(this,arguments):null},f=Element.prototype.insertBefore,Element.prototype.insertBefore=function(n){return t(n,\"IB\")?f.apply(this,arguments):null})})();var BM=BM||{},adrule=\".\"+_G.adc+\" > ul\";BM.rules={\".b_scopebar\":[0,80,0],\".b_logo\":[-1,-1,0],\".b_searchboxForm\":[100,19,0],\"#id_h\":[-1,-1,0],\"#b_tween\":[-1,-1,1],\"#b_results\":[100,-1,1],\"#b_context\":[710,-1,1],\"#b_navheader\":[-1,-1,0],\"#bfb-answer\":[-1,-1,1],\".tab-menu > ul\":[-1,-1,1],\".b_footer\":[0,-1,0],\"#b_notificationContainer\":[-1,-1,0],\"#ajaxMaskLayer\":[-1,-1,0],\"img,div[data-src],.rms_img\":[-1,-1,0],iframe:[-1,-1,0]};BM.rules[adrule]=[-1,-1,1];var BM=BM||{};(function(n){function u(n,u){n in t||(t[n]=[]);!u.compute||n in r||(r[n]=u.compute);!u.unload||n in i||(i[n]=u.unload);u.load&&u.load()}function f(n,i){t[n].push({t:s(),i:i})}function e(n){return n in i&&i[n](),n in t?t[n]:void 0}function o(){for(var n in r)r[n]()}function s(){return window.performance&&performance.now?Math.round(performance.now()):new Date-window.si_ST}var t={},i={},r={};n.wireup=u;n.enqueue=f;n.dequeue=e;n.trigger=o})(BM);(function(n){function i(){var i=document.documentElement,r=document.body,u=\"innerWidth\"in window?window.innerWidth:i.clientWidth,f=\"innerHeight\"in window?window.innerHeight:i.clientHeight,e=window.pageXOffset||i.scrollLeft,o=window.pageYOffset||i.scrollTop,s=document.visibilityState||\"default\";n.enqueue(t,{x:e,y:o,w:u,h:f,dw:r.clientWidth,dh:r.clientHeight,v:s})}var t=\"V\";n.wireup(t,{load:null,compute:i,unload:null})})(BM);(function(n){function i(){var e,o,u,s,f,r;if(document.querySelector&&document.querySelectorAll){e=[];o=n.rules;for(u in o)for(s=o[u],u+=!s[2]?\"\":\" >*\",f=document.querySelectorAll(u),r=0;r<f.length;r++){var i=f[r],h=0,c=0,l=i.offsetWidth,a=i.offsetHeight;do h+=i.offsetLeft,c+=i.offsetTop;while(i=i.offsetParent);e.push({_e:f[r],x:h,y:c,w:l,h:a})}n.enqueue(t,e)}}var t=\"L\";n.wireup(t,{load:null,compute:i,unload:null})})(BM);(function(n){function f(){u(sj_be,r)}function r(i){return i&&n.enqueue(t,i),!0}function e(){u(sj_ue,r)}function u(n,t){for(var u,r=0;r<i.length;r++)u=i[r],n(u===\"resize\"?window:document,window.navigator.pointerEnabled?u.replace(\"mouse\",\"pointer\"):u,t,!1)}var t=\"EVT\",i=[\"click\",\"mousedown\",\"mouseup\",\"touchstart\",\"touchend\",\"mousemove\",\"touchmove\",\"scroll\",\"keydown\",\"resize\"];n.wireup(t,{load:f,compute:null,unload:e})})(BM);FallBackToDefaultProfilePic = function (e) { var new_element = document.createElement('span'); new_element.setAttribute('id', 'id_p'); new_element.setAttribute('class', 'sw_spd id_avatar'); new_element.setAttribute('aria-label', \"默认个人资料图片\"); var p = e.parentNode; p.replaceChild(new_element, e); };var DynScopes;(function(n){function r(n,r){i||(t=n,f(r),sj_evt.bind(\"onP1\",u),i=!0)}function u(){if(sj_cook&&sj_cook.set&&sj_cook.clear){var n=\"dsc\";sj_cook.clear(n,\"/\");t&&sj_cook.set(n,\"order\",t,!1,\"/\")}}function f(n){var r=e(),i,o,s,t;if(r){if(n){var h=n.split(\",\"),u=r.children,c=u.length,f=[];for(t=0;t<h.length;t++)i=h[t].split(\":\"),i&&i.length==2&&(o=parseInt(i[0]),s=parseInt(i[1]),o<c&&s<c&&(f[s]=u[o].innerHTML));for(t=0;t<f.length;t++)u[t].innerHTML=f[t]}r.className=\"\"}}function e(){var n=_d.querySelectorAll(\".b_scopebar > .b_scopehide\");return n&&n.length>0?n[0]:null}var i=!1,t;n.init=r})(DynScopes||(DynScopes={}));\n",
      "//]]></script></head><body onload=\"if(_w.lb)lb();\"><header id=\"b_header\"><div id=\"est_switch\"><div id=\"est_cn\" class=\"est_selected\">国内版</div><div id=\"est_en\" class=\"est_unselected\">国际版</div></div><form action=\"/search\" id=\"sb_form\"><a class=\"b_logoArea\" href=\"/?FORM=Z9FD1\" h=\"ID=SERP,5025.1\"><h1 class=\"b_logo\" title=\"返回到必应搜索\" aria-label=\"打开必应主页\" data-bm=\"1\"><img src=\"/sa/simg/SharedSpriteDesktop_2x_090619.png\" alt=\"打开必应主页\" title=\"返回到必应搜索\" data-bm=\"27\"></h1></a><div class=\"b_searchboxForm\" role=\"search\" data-bm=\"2\"><input class=\"b_searchbox\" id=\"sb_form_q\" name=\"q\" aria-autocomplete=\"both\" aria-label=\"在此处输入你的搜索 — 输入时会显示搜索建议\" type=\"search\" value=\"Winter\" maxlength=\"100\" onfocus=\"_ge('b_header').className='b_focus';\" dir=\"\" autocapitalize=\"off\" autocorrect=\"off\" autocomplete=\"off\" spellcheck=\"false\" aria-controls=\"sw_as\"><div id=\"sb_go_par\" data-sbtip=\"搜索网页\"><input type=\"submit\" class=\"b_searchboxSubmit\" id=\"sb_form_go\" tabindex=\"0\" name=\"go\" value=\"搜索\"></div><input id=\"sa_qs\" name=\"qs\" value=\"ds\" type=\"hidden\"><input type=\"hidden\" value=\"QBRE\" name=\"form\"><div id=\"sw_as\"></div></div></form><div id=\"id_h\" role=\"complementary\" aria-label=\"帐户奖励和偏好设置\" data-priority=\"2\" data-bm=\"3\"><a id=\"id_l\" class=\"id_button\" role=\"button\" aria-haspopup=\"true\" aria-controls=\"id_d\" aria-expanded=\"false\" data-clarity-mask=\"true\" href=\"javascript:void(0);\" h=\"ID=SERP,5026.1\"><span id=\"id_s\" aria-hidden=\"false\">登录</span><span class=\"sw_spd id_avatar\" id=\"id_a\" aria-hidden=\"false\" aria-label=\"默认个人资料图片\"></span><span id=\"id_n\" style=\"display:none\" aria-hidden=\"true\"></span><img id=\"id_p\" class=\"id_avatar sw_spd\" style=\"display:none\" aria-hidden=\"true\" alt=\"\" aria-label=\"个人资料图片\" onerror=\"FallBackToDefaultProfilePic(this)\" data-src=\"data:image/gif;base64,R0lGODlhAQABAIAAAAAAAP///yH5BAEAAAEALAAAAAABAAEAAAIBTAA7\" data-alt=\"\" src=\"data:image/gif;base64,R0lGODlhAQABAIAAAAAAAP///yH5BAEAAAEALAAAAAABAAEAAAIBTAA7\" data-bm=\"28\"></a><span id=\"id_d\" _iid=\"SERP.5034\"></span><a id=\"id_sc\" class=\"idp_ham nohphbtop\" aria-label=\"设置和快速链接\" aria-expanded=\"false\" aria-controls=\"id_hbfo\" aria-haspopup=\"true\" role=\"button\" tabindex=\"0\" href=\"javascript:void(0);\" h=\"ID=SERP,5032.1\"></a><span id=\"id_hbfo\" _iid=\"SERP.5033\" class=\"slide_up nohpfo\" aria-hidden=\"true\" aria-labelledby=\"id_sc\" role=\"menu\"></span></div><nav class=\"b_scopebar\" role=\"navigation\" aria-label=\"主菜单\" data-bm=\"0\"><ul><li class=\"b_active\" data-menuurl=\"\"><a href=\"/?scope=web&amp;FORM=HDRSC1\" h=\"ID=SERP,5018.1\">网页</a></li><li class=\"\" data-menuurl=\"\"><a href=\"/images/search?q=Winter&amp;FORM=HDRSC2\" h=\"ID=SERP,5019.1\">图片</a></li><li class=\"\" data-menuurl=\"\"><a href=\"/videos/search?q=Winter&amp;FORM=HDRSC3\" h=\"ID=SERP,5020.1\">视频</a></li><li class=\"\" data-menuurl=\"\"><a href=\"/academic/search?q=Winter&amp;FORM=HDRSC4\" h=\"ID=SERP,5021.1\">学术</a></li><li class=\"\" data-menuurl=\"\"><a href=\"/dict/search?q=Winter&amp;FORM=HDRSC6\" h=\"ID=SERP,5022.1\">词典</a></li><li class=\"\" data-menuurl=\"\"><a href=\"/maps?q=Winter&amp;FORM=HDRSC7\" h=\"ID=SERP,5023.1\">地图</a></li></ul></nav></header><script type=\"text/javascript\">//<![CDATA[\n",
      "BM.trigger();var Identity; (function(Identity) { Identity.sglid =false; Identity.orgIdPhotoUrl =\"https://business.bing.com/api/v3/search/person/photo?id={0}\"; })(Identity || (Identity = {}));;_G.AppVer=\"8_1_2_6233709\";\n",
      "//]]></script><script type=\"text/javascript\">//<![CDATA[\n",
      "_G.FCT=new Date;\n",
      "//]]></script><script type=\"text/javascript\">//<![CDATA[\n",
      "_G.BCT=new Date;\n",
      "//]]></script><script type=\"text/javascript\">//<![CDATA[\n",
      "/*!DisableJavascriptProfiler*/\n",
      "0;\n",
      "//]]></script><style type=\"text/css\">.tipContainer,.tipContainer-hoverTrans{border:1px solid #b4ddea;background-color:#f7faff;margin-bottom:5px;line-height:18px;width:auto;display:block;padding:10px 10px 10px 15px;margin-top:-28px;float:left}.tipContainer~#b_tween{margin-top:0;clear:left}.tipContainer{cursor:pointer}.tipContainer-hoverTrans{display:none}#tipTitle{text-align:left;margin-right:3px;color:#2996b0;white-space:pre;display:inline-block;vertical-align:middle}.envTipTitle{font-size:12px}.bottomTipContainer{display:inline-block;padding:11px 14px;font-size:12px;border:1px solid #dadeff;background-color:#f7faff;line-height:18px;cursor:pointer}.bottomTipContainer .tipSubTitle{white-space:pre;color:#666}a.bottomTipContainer{text-decoration:none}#tip-arrow,#tip-close{cursor:pointer;display:inline-block;height:20px;margin-left:20px;width:20px;vertical-align:middle}#tip-arrow{background:url(data:image/png;base64,iVBORw0KGgoAAAANSUhEUgAAABQAAAAUCAMAAAC6V+0/AAAAV1BMVEUAAABAv78zmbMrqr8rnLgsnrkrmLArmLMtlrQsmrQrmbMpmLEtmrIsl7MrmbErl7IsmLErl7EpmLEplrAplrEplrEpl7Epl7EplrEpl7EplrEpl7EplrAaikmgAAAAHXRSTlMABAoMEh0qLzM6PD4/QEFCRVhviKHAx9je5Orr7AlA94wAAABESURBVBgZtcFHAoAgEATBNitgzsL/3+l956pV/KlNHWp6atR8V6jlLFHrkaO2PUOEq8AKqcHqU8Aaoscak0dEh3J85QXDcgIzNh7KEwAAAABJRU5ErkJggg==) no-repeat center}#tip-close{background:url(/rs/3O/fV/ic/505f7581/a9913b9a.png) no-repeat center}.ftrH,.ftrHd,.ftrD>a,.ftrD>div{white-space:nowrap;height:36px;line-height:36px;padding:0 16px}.ftrD{max-height:216px;overflow:hidden;min-width:125px}.amazonBackground{background:#f2f2f2 !important}.ftrD>a,.ftrD>div{display:block}.ftrS .ftrD{margin-right:10px}.ftrSbR{position:absolute;top:0;right:0;height:100%;margin:5px 0;padding-right:3px}.ftrB .sw_ddbk{margin:2px 0 2px 7px}.ftrB .sw_tpcg,.ftrB .sw_tpcbl{margin:0 0 0 14px}.ftrH,.ftrHd,.ftrB .sw_ddbk,.ftrB .sw_tpcg,.ftrB .sw_tpcbl{display:inline-block;*display:inline;zoom:1}#b_tween a.ftrH{background:none !important;margin:1px;height:28px;line-height:28px}#b_tween a.ftrH.b_selected{border-style:solid;border-width:1px;border-color:#e5e5e5;border-bottom-color:#fff;margin:0}@media screen and (-ms-high-contrast:active){#b_tween a.ftrH,div.b_dropdown .ftrD a{color:WindowText}}div.b_dropdown .b_selected,#b_tween a.ftrH.b_selected:hover{background:#f2f2f2 !important;border-bottom-color:#f2f2f2}.dictIcon{vertical-align:middle;margin-top:-2px}.b_imagePair .dict_words div,.b_imagePair .dict_words img{display:inline;padding-right:5px}.dictIcon:hover{opacity:.85}.dictTag{width:35px;padding-right:5px;line-height:20px;font-weight:bold;display:inline-block}#dict_ans .b_vList>li{word-break:break-all}.dict_hl{background-color:#0072c5;color:#fff;cursor:pointer}#dict_aud_cnt{width:0;height:0;position:absolute}.dict_oa .dict_pn{padding-right:10px}.dict_oa .dict_pn a{padding-left:5px}.dict_oa .dictTag{font-weight:normal;padding-right:1px;margin-left:-36px;line-height:20px}.dict_oa .dict_words div,.dict_oa .dict_words img{display:inline;padding-right:10px}.dict_oa .dictLine,.dict_oa .dict_words{padding-left:36px;line-height:20px}.dict_oa{border:1px solid #cdcdcd;padding:15px 19px 10px;margin:0 -20px}.b_topborder .dict_oa{margin-bottom:-11px}.ap_logo{vertical-align:middle;margin-right:-5px}#ap_aqr,#ap_iqr{display:none;width:152px;margin-top:32px;position:absolute;background-color:#e9e9eb;z-index:1}#ap_aqr img,#ap_iqr img{width:120px;margin:24px 16px 20px 16px}.ap_icon{height:32px;vertical-align:middle;cursor:pointer}.ap_dtxt{margin-left:-5px}.ap_aArea:hover #ap_aqr,.ap_iArea:hover #ap_iqr{display:block}z{a:1}.b_caption.b_snippetgobig p{font-size:18px;line-height:24px !important;color:#111}.b_algo.b_algoBorder{box-shadow:0 0 0 1px rgba(0,0,0,.05),0 2px 3px 0 rgba(0,0,0,.1);border-radius:6px}#b_results>li.b_algoBorder{margin-top:8px;padding-top:15px}a{a:1}.b_vList>li.b_annooverride{padding-bottom:0}a{a:1}.b_annooverride .b_factrow{padding-top:2px}li.b_ans.b_mop.b_mopb{border-radius:6px;box-shadow:0 0 0 1px rgba(0,0,0,.05),0 2px 3px 0 rgba(0,0,0,.1);margin-top:12px !important;margin-bottom:10px !important}.b_imagePair .inner img,.b_hList img{display:block}.b_imagePair>.inner,.b_hList .cico{padding-bottom:10px}.b_title .b_imagePair>.inner,.b_vList>li>.b_imagePair>.inner,.b_hList .b_imagePair>.inner,.b_vPanel>div>.b_imagePair>.inner,.b_gridList .b_imagePair>.inner,.b_caption .b_imagePair>.inner,.b_imagePair>.inner>.b_footnote,.b_poleContent .b_imagePair>.inner{padding-bottom:0}.b_imagePair>.inner{float:left}.b_imagePair.reverse>.inner{float:right}.b_imagePair .b_imagePair:last-child:after{clear:none}.b_algo .b_title .b_imagePair{display:block}.b_imagePair.b_cTxtWithImg>*{vertical-align:middle;display:inline-block}.b_imagePair.b_cTxtWithImg>.inner{float:none;padding-right:10px}.b_imagePair.square_mp>.inner{width:80px}.b_imagePair.square_mp{padding-left:90px}.b_imagePair.square_mp>.inner{margin:2px 0 0 -90px}.b_imagePair.square_mp.reverse{padding-left:0;padding-right:90px}.b_imagePair.square_mp.reverse>.inner{margin:2px -90px 0 0}.image_wrapper{position:relative}.b_hList .image_wrapper{padding-top:3px}.msn_mask{position:absolute;filter:alpha(opacity=50);-moz-opacity:.6;-khtml-opacity:.6;opacity:.6;background:#000;height:21px;bottom:0;width:100%}.msn_mask_text{color:#fff;position:absolute;bottom:0;line-height:21px;padding-left:10px}.hovericon{position:absolute;top:50%;left:50%;margin:-20px 0 0 -20px}.b_imagePair .hovericon>img,.hovericon>img{display:none;margin:0;cursor:pointer}.image_wrapper:hover .hovericon>img{display:block}.msn_richmeta{border:1px solid #e5e5e5;border-top:none;padding:7px 5px;margin-bottom:7px}.smallicon{margin-right:5px;vertical-align:top}.b_hPanel .smallicon{display:inline-block}.msn_meta_score{color:#c00}.image_attribution{padding-bottom:7px;margin-top:7px;word-break:break-all}.relatedEntityWidth{width:75px;text-align:center}#ticket_swap_city{display:inline;vertical-align:middle;cursor:pointer}.banner{position:relative;margin-bottom:7px;line-height:0}.banner a,.banner a:hover{text-decoration:none}.bannerImage{position:relative;width:100%;height:40px}.bannerTitle{font-size:18px;font-weight:bold;width:100%;height:40px;margin-top:-40px;clear:both}.bannerColorWhite{color:#fff}.bannerColorBlack{color:#333}.bannerTextMargin{margin-left:19.4%}.bannerText{font-family:'Microsoft YaHei',Arial,Helvetica,sans-serif;width:100%;height:40px;line-height:40px;position:absolute;padding:0 10px}.image_wrapper .cico{margin:3px 0 7px}.image_wrapper .cico img{display:block}.inner .cico{margin:0}.b_hList .cico{margin:0}.ESAdsImage_h,.ESAdsImage:hover{background-position:-226px 0}.scrolling{position:relative;display:inline-block}.inner .scrolling{display:block}.imageIndex{position:absolute;right:5px;bottom:7px;cursor:pointer}.inner .imageIndex{bottom:0}.hollowDot:after{left:-16px}.popnow a{text-decoration:none}.oneLineImg img{width:100%;height:100%;display:block}.cico{overflow:hidden}.clpimg,.clpdimg{width:100%}.structureddeeplinks a{font-size:16px;line-height:21px;padding-bottom:3px}.structureddeeplinks ul{width:auto}.b_algo .msn_btn,.b_ans .msn_btn{cursor:pointer;text-decoration:none}.standard,.secondary,.highlighted{text-align:center;margin:3px 0}.b_vPanel .standard,.b_vPanel .secondary,.b_vPanel .highlighted{margin:0}.msn_btn:hover{text-decoration:none}.standard,.secondary{border:1px solid #ccc}.standard{line-height:1.1em;padding:8px 5px 6px 5px;min-width:98px;max-width:188px;font-weight:bold}.highlighted{height:30px;line-height:30px;padding:0 5px;min-width:100px;max-width:190px;font-weight:bold}.secondary{min-width:30px;max-width:200px;height:22px;line-height:22px;padding:0 5px}.standard:hover,.standard:active,.highlighted,.highlighted:hover,.highlighted:active,.secondary:hover,.secondary:active,.specializedVote,.specializedVoteComplete,#b_context .b_ans .voteTitle h2,.voteText{color:#fff}.standard{color:#001ba0}.secondary{color:#001ba0}.secondary:hover,.standard:hover{background-color:#0072c5;border-color:#0072c5}.secondary:active,.standard:active{background-color:#666;border-color:#666}.highlighted{background-color:#0072c5}.highlighted:hover{background-color:#159cff}.highlighted:active{background-color:#666}.b_imagePair .msn_btn img{display:inline}.msn_btn img{vertical-align:text-top;padding-right:5px;display:inline}.b_hPanel .btnPrefix{padding-right:0}.btnWidth_small{width:31px}.btnWidth_medium{width:100px;text-align:center}.buttonTable>div>div{padding-right:10px}.tab_content_wrapper .buttonTable>div>div{padding-bottom:10px}.buttonTable .btn_l{padding-right:0}.buttonTable .standard,.tab_content_wrapper .buttonTable .secondary,.buttonTalbe .highlighted{margin:0}.buttonTable>div{position:relative;overflow:auto}.newepisode{position:absolute;left:32px;top:-5px}.votedIcon{background-position:-17px 0}.msn_btn:hover .voteIcon{background-position:-34px 0}.msn_btn .voteIcon{vertical-align:text-top;margin-right:5px;display:inline-block}.specializedVote,.specializedVoteComplete{position:absolute;width:85px;font-family:'Microsoft YaHei';font-weight:bolder;text-decoration:none;border-style:solid;border-color:#fff;border-width:2px;border-radius:8px;height:26px;line-height:26px;text-align:center;margin-top:-57px;margin-left:15px}.specializedVote{cursor:pointer;color:#434343;background-color:#e5e5e5}.specializedVote:hover{background-color:#fff}.specializedVoteComplete{background-color:transparent}#b_context .b_ans .voteTitle h2{position:absolute;margin-left:15px;margin-top:-90px;font-weight:bolder}.voteText{position:absolute;margin-top:-50px;margin-left:115px;font-family:'Microsoft YaHei'}.voteCount{font-weight:bolder}.b_hide{display:none}.sb_tsuf{white-space:nowrap;color:#777;margin-left:1.3em}.sb_tsuf a,.sb_tsuf a:visited{color:#00c}.irhc{padding:10px;background:#fff;border:1px solid #000;position:absolute;text-decoration:none;color:#000;z-index:4}.irhc span{display:block;position:relative;margin-bottom:10px}.irhc img{display:block;position:absolute;top:0}.irhld{width:30px;height:30px;z-index:-1}.irhcs span{display:block;width:100%;text-overflow:ellipsis;overflow:hidden;white-space:nowrap}.irhcs1{font-weight:bold}.irhcs2{color:#898994}.irhcs3{color:#568e1a}div#irhcid.irhins{padding:0;border:0;background:#fff;border-radius:4px;box-shadow:0 2px 4px 1px rgba(0,0,0,.14);-moz-box-shadow:0 2px 4px 1px rgba(0,0,0,.14);-webkit-box-shadow:0 2px 4px 1px rgba(0,0,0,.14)}.irhc.irhins .irhcs{padding:0 16px;margin:16px 0}.irhc.irhins img{border-radius:4px 4px 0 0}.irhc.irhins .irhcs span{margin-bottom:0}.irhc.irhins span.irhcs3{color:#444;font-size:13px;line-height:17px}.irhc.irhins span.irhcs4{font-size:11px;line-height:13px;color:#767676}.irpserp{margin-left:-1px}.irpserp.irpadt,.irpserp .irp{position:relative}.irpserp .irp .irpu{position:absolute}.irpserp .irp a{position:absolute}.irpserp .irp a:focus{outline:1px solid #00a89d}.irpserp .irp a img.sgt{position:absolute;top:50%;-webkit-transform:translateY(-50%);transform:translateY(-50%);position:static\\0;transform:none\\0}.b_top .irphead{padding-bottom:8px}.b_FBleedModule .b_rich{padding-bottom:0}#b_context .b_FBleedModule .b_rich{padding-top:0}.irpserp .badge,.irpserp .mssf,.irpserp .msgf,.irpserp .badge_count.wrapper{position:absolute;padding:0;color:#fff;font-size:11px;line-height:20px;height:20px;cursor:pointer;left:0;bottom:0;background:#000;background:rgba(0,0,0,.7);overflow:hidden;white-space:nowrap}.irpserp .badge_count{height:20px;display:inline-block;vertical-align:middle}.irpserp img.shop,.irpserp img.shop.badge_count{padding:0;height:20px}.irpserp img.recipe,.irpserp img.recipe.badge_count{padding:3px 4px 4px;height:13px}.irpserp .badge_count .icon_text{padding-right:6px;font-size:11px;display:inline-block;vertical-align:middle}.irpserp .badge_count,.irpserp .badge_count.wrapper{line-height:normal}.irpserp .pl{position:absolute;background:url('/sa/simg/mm.png') -88px 0;height:8px;width:7px;left:8px;bottom:7px;z-index:1}.irpserp .txtol,.irpserp .mssf{padding:0 4px}.irpserp .msgf{padding:0 8px 0 18px}.irpserp .adtrst{border-right:1px solid #fff}.slide .vidr{border:none}.vidrc .b_slideexp,.nse_rv #vidans2 .b_rich .vidrc{margin-bottom:0}#vidans2 .b_rich .vidrc{float:left}.vidr{box-shadow:0 0 0 1px rgba(0,0,0,.05),0 2px 3px 0 rgba(0,0,0,.1);-webkit-box-shadow:0 0 0 1px rgba(0,0,0,.05),0 2px 3px 0 rgba(0,0,0,.1);overflow:hidden}.vidr:hover{box-shadow:0 0 0 1px rgba(0,0,0,.05),0 2px 4px 1px rgba(0,0,0,.14);-webkit-box-shadow:0 0 0 1px rgba(0,0,0,.05),0 2px 4px 1px rgba(0,0,0,.14)}.vidr .vidr_info{padding:7px}.vidr .vidr_info .title{color:#111;line-height:15px}.vidr .vidr_info .title:hover{text-decoration:underline}.vidr .vidr_metainfo_items,.vidr .vidr_metainfo_mmftb{font-size:12px;margin-top:7px;margin-right:7px}.vidr .vidr_meta_source{color:#006d21}.vidrc .vidr{margin:0 8px 8px 0}.vidrc .b_slideexp .vidr{margin:0 5px 0 0}.vidrc .b_slideexp{margin-bottom:5px}#vidans2 .ans3{position:relative;margin-bottom:-2px}.vidr{float:left;width:129px;height:132px;margin:0 1px 1px 0;border-radius:6px}.vidr:last-child{margin-bottom:5px}.vidr:nth-child(3n+0){margin-right:0}.vidr:first-child+.vidr+.vidr,.vidr:first-child+.vidr+.vidr+.vidr+.vidr+.vidr{margin-right:0}.vidr>.b_lLeft{padding:0 10px 10px 0;line-height:15px;height:30px}.vidr>.b_lLeft.meta.title>a{display:block}.vidr cite{color:#767676}.vid2 .vidr{overflow:hidden}.vid2s .vidr{height:104px}.vidr .vtv2{border:0!important}.vidr .vtv2 a{border:0!important;height:72px;width:129px}.vidr .vtv2 a:hover{border-color:#fff;background-color:#000}.vidr .vtv2 .vt_text.b_lRight{padding-right:0}.vidr .vtv2 .b_lLeft.vidPaid{padding:0;vertical-align:bottom}.vidrc>.tct>a{width:129px;height:62px;display:block;margin-top:-8px;padding-top:8px;position:relative;z-index:1}.vidrc>.tct>a>.title{margin-bottom:10px;padding-right:10px;height:30px;overflow:hidden}.vidrc>.tct>.b_1linetrunc{position:relative;top:-22px;padding-bottom:0}.vidrc+a{clear:both;display:block}.vidr .vidr_info{padding:16px 16px 86px 16px}.vidr .vidr_info .title{line-height:18px}.vidr .vtv2 .vt_text.b_lRight{right:0;left:auto;padding:8px}.vidr .vtv2 a:hover .vtmask{opacity:0}.vidr .vtv2 a:hover .vt_text,.vidr .vtv2 img{display:block}.vt_text.b_lRight .plc{display:none}.vt_text.b_lRight .b_lLeft{margin:0 0 0 1px;height:14px;line-height:14px;padding:2px 8px;background:rgba(0,0,0,.75);border-radius:2px;font-weight:bold}.vidr .vtpi{position:absolute;margin:auto;bottom:0;top:0;left:0;right:0;height:32px;width:32px;box-shadow:none;border-radius:0}.vtv2.vt_onhv a .vtpi{display:none}.vidr .vidr_metainfo_mmftb{max-height:38px;height:auto;font-size:13px;line-height:18px;position:absolute;bottom:-140px}.vidr .b_factrow{height:18px;overflow:hidden;white-space:nowrap;text-overflow:ellipsis;width:calc(100% - 32px);color:#666}.vidr .vtv2 .b_lLeft.vidPaid{padding-bottom:4px;background:rgba(0,0,0,.75)}.vidr .vidr_badge{background-color:#00809d;display:inline-block;padding:2px 8px;font:11px/14px Arial;font-weight:bold;color:#fff;border-radius:2px;text-transform:uppercase;height:14px;max-width:calc(100% - 16px);margin-top:8px}.vidr .vtpi{background-image:url(data:image/svg+xml;base64,PHN2ZyB4bWxucz0iaHR0cDovL3d3dy53My5vcmcvMjAwMC9zdmciIHZpZXdCb3g9IjAgMCA0MCA0MCI+PHRpdGxlPlBsYXlfNDB4NDA8L3RpdGxlPjxwYXRoIGQ9Ik0yMCAuODMzYTE5LjE2NyAxOS4xNjcgMCAxIDAgMTkuMTY3IDE5LjE2NyAxOS4xNjcgMTkuMTY3IDAgMCAwLTE5LjE2Ny0xOS4xNjd6IiBvcGFjaXR5PSIuNiIvPjxwYXRoIGQ9Ik0yMCAyYTE4IDE4IDAgMSAxLTE4IDE4IDE4LjAyIDE4LjAyIDAgMCAxIDE4LTE4bTAtMmEyMCAyMCAwIDEgMCAyMCAyMCAyMCAyMCAwIDAgMC0yMC0yMHptOC4wNzIgMjAuOWExLjY3MSAxLjY3MSAwIDAgMS0uNTEzLjUxM2wtOS45OSA2LjM1N2ExLjY3MSAxLjY3MSAwIDAgMS0yLjU2OS0xLjQxM3YtMTIuNzE1YTEuNjcxIDEuNjcxIDAgMCAxIDIuNTY5LTEuNDFsOS45OSA2LjM1OGExLjY3MSAxLjY3MSAwIDAgMSAuNTEzIDIuMzF6IiBmaWxsPSIjZmZmIi8+PC9zdmc+)}.vidr {width: 195px; height: 254px;} .vidr .vtv2 a {width: 195px; height: 108px;}.vt_con{position:relative}.vt_con .vt_tl{display:-moz-inline-stack;display:inline-block;position:relative;border:1px solid #525051;margin:1px;background:#000;text-align:center}.vt_con .vt_tl imag{display:block;margin:0 auto}.vt_con a{position:relative}.vt_vsm{width:100%;display:none;position:absolute;top:15px;left:0;color:#fff;text-decoration:underline;cursor:pointer}.vt_tl:hover{text-decoration:none}a:hover .vt_vsm{display:inline}a:hover .vt_vsp{display:none}.vt_vsp{position:absolute;bottom:0;right:0;height:20px;width:20px}.vt_pl{background-image:url(\"/s/a/mm_pl.png\");background-repeat:no-repeat}.vt_vp,.vt_vph{position:absolute;width:100%;height:100%;cursor:pointer;z-index:1}.vt_stl:hover img,.vt_vph{opacity:.5;filter:alpha(opacity=50)}.vt_vph{background:#000 url(/sa/simg/loading_lg_w.gif) no-repeat center center}.vt_con object{width:100%;height:100%}.vtbb{border:1px solid #04c;padding:1px}.vtbb a.vt_tl{margin:0}a.vt_tl{position:relative;display:inline-block;width:100%;height:100%}.vtv2{border:1px solid transparent;_border:0;position:relative;display:inline-block;*zoom:1;*display:inline}.vtv2:hover{border-color:#36b;z-index:1}.vtv2 a{border:1px solid #ccc;display:block;text-decoration:none}.vtv2.vt_onhv a{border-color:#fff;background-color:#000}.vtv2.vt_onhv a img{opacity:.35;filter:alpha(opacity=35)}.vtmask{width:100%;height:100%}.vtv2.vt_onhv .vtmask{background-color:#000;opacity:.65;filter:alpha(opacity=65)}.vthv{display:none;position:absolute;left:0;top:13px;width:100%;cursor:pointer;text-align:center;text-decoration:underline}.vtv2.vt_onhv a .vthv{display:inline}.vtmu,.vtpl{position:absolute;bottom:8px;left:8px;width:22px;height:18px;cursor:pointer;border-radius:2px}.vtmu{background:rgba(0,0,0,.75) url(/rs/3Q/1Du/ic/2c3e092e/df918a42.svg) no-repeat center}.vtpl{background:rgba(0,0,0,.75) url(/rs/3Q/1Dx/ic/89dc8c3e/a1bb969b.svg) no-repeat center}.irhc .vt_tl{text-align:center}.irhc .vt_vsm{display:inline;color:#fff;background:#000}.irhc .vt_tl img{left:0}.vt_con{position:relative}.vt_con .vt11{width:129px;height:72px}.vrhc,.vrhc img,.vrhtc{position:absolute;top:0}.vrhtc{overflow:visible;border-radius:0}.vrhc{padding:0;background:#fff;border:none;color:#000;z-index:4;font-family:Arial;font-size:13px;box-shadow:0 4px 24px 0 rgba(0,0,0,.35);overflow:hidden;border-radius:6px}.vrhc span{display:block;position:relative;margin-bottom:12px}.vrhc>span{margin-bottom:0}.vrhld{width:30px;height:30px;z-index:-1}.vrhot,.vrhs,.vrhact,.vrhace,.vrhch{text-overflow:ellipsis;overflow:hidden;white-space:nowrap}.vrht{max-height:unset;overflow:visible}.vrhol{position:absolute;bottom:8px;left:8px;background:rgba(0,0,0,.75);z-index:1}.vrhol,span.vrhact{padding:0 8px;font-size:11px;line-height:18px;border-radius:2px;color:#fff}.vrhol,.vrht,span.vrhact{font-weight:bold}.vrhcs{margin:16px}.vrhcs span{width:100%;line-height:18px}.vrhde{color:#444;text-overflow:ellipsis;overflow-wrap:break-word;max-height:54px;overflow-y:hidden}.vrhmd{padding-bottom:0;border-bottom:none;margin-bottom:12px;color:#767676;padding-top:0;border-top:none}.vrhmd span{width:auto;overflow:hidden;padding-right:3px;display:inline-block;margin-bottom:0;vertical-align:middle}.vrhs{color:#387f1f;padding-top:0;border-top:none}.vrhdvd{padding-top:12px;border-top:1px solid #ececec}.vrhact,.vrhace,.vrhch{font-size:13px;line-height:18px}.vrhsct3 span{margin-bottom:0}span.vrhact{background-color:#00809d;display:inline-block;text-transform:uppercase;max-width:calc(100% - 16px);margin-bottom:4px;width:auto}span.vrhch{color:#006d21;margin-bottom:2px}span.vrhace{color:#767676}.vt_text{position:absolute;bottom:0;left:0;background:transparent}.vt_text .b_lLeft{margin-right:1px;position:relative;display:inline-block;height:20px;line-height:20px;padding:0 4px;background:#000;background:rgba(0,0,0,.7)}.b_caption .vt_text .b_lLeft{bottom:1px;left:1px;color:#fff}.vt_text .plc{width:15px;color:transparent;text-align:center}.vt_text *:not(img).rms_img{margin:auto}.vt_tl:hover .vt_text,.vtv2.vt_onhv a .vt_text{display:none;background:transparent}.b_lLeft.vidPaid img{margin-bottom:-6px}.vtv2>a>.vt_text>.b_lLeft.vidPaid{padding-right:0;padding-left:0}.rms_rmsanswersMultimediaVideoAnswer_Bundle{display:inline-block;direction:ltr;}.rms_rmsanswersMultimediaVideoAnswer_Bundle:after{position:relative;content:url(/rb/3Q/ic/61505d92/25ddf288.png?bu=ArszvjM);}.rms_rmsanswersMultimediaVideoAnswer_ExternalPlay{height:8px;line-height:8px;width:13px;overflow:hidden;position:relative;}.rms_rmsanswersMultimediaVideoAnswer_ExternalPlay:after{left:-8px;}.va_title_mmftb { width:100%;  max-width:100%; height:54px; position:relative; overflow:hidden; word-wrap: break-word; word-break: break-word; }.va_title_mmftb:after { content:\"\"; bottom: 0; right: 0; width:20px; height:15px;; position: absolute; }.va_title_mmftb:after { background: -webkit-linear-gradient(left, rgba(255,255,255,0),rgba(255,255,255,100)); background: -moz-linear-gradient(to right,rgba(255,255,255,0),rgba(255,255,255,100)); background: -o-linear-gradient(to right, rgba(255,255,255,0),rgba(255,255,255,100)); background: -ms-linear-gradient(to right, rgba(255,255,255,0),rgba(255,255,255,100)); background: linear-gradient(to right, rgba(255,255,255,0),rgba(255,255,255,100)); }.vidr_metainfo_mmftb { width:100%;  max-width:100%; height:15px; position:relative; overflow:hidden; word-wrap: break-word; word-break: break-word; }.vidr_metainfo_mmftb:after { content:\"\"; bottom: 0; right: 0; width:20px; height:15px;; position: absolute; }.vidr_metainfo_mmftb:after { background: -webkit-linear-gradient(left, rgba(255,255,255,0),rgba(255,255,255,100)); background: -moz-linear-gradient(to right,rgba(255,255,255,0),rgba(255,255,255,100)); background: -o-linear-gradient(to right, rgba(255,255,255,0),rgba(255,255,255,100)); background: -ms-linear-gradient(to right, rgba(255,255,255,0),rgba(255,255,255,100)); background: linear-gradient(to right, rgba(255,255,255,0),rgba(255,255,255,100)); }.b_factrow>li.b_sritem,.b_factrow .ssp_expert{font-weight:bold}.b_factrow.b_twofr .b_sritem>.b_sritemp{display:inline;font-weight:normal}.b_factrow.b_twofr .b_sritem{font-weight:bold}.b_factrow.b_twofr .csrc{margin-left:5px}.b_factrow.b_twofr{padding-top:4px}.b_factrow.b_twofr ul:first-child{max-width:calc(50% - 20px)}.b_factrow.b_twofr ul:first-child+ul{max-width:50%}.b_factrow.b_twofr ul li div{white-space:nowrap;text-overflow:ellipsis;overflow:hidden}.na_cnt .citm_spt,.na_cnt .na_t,#ans_nws .na_cnt .citm_spt,#ans_nws .na_cnt .itm_tlt_snp .itm_spt,#ans_nws .itm_cap .na_t,#nse_p .na_cnt .itm_tlt_snp .itm_spt,.opinion_content .citm_cap .na_t{overflow:hidden;text-overflow:ellipsis;display:-webkit-box;-webkit-box-orient:vertical}.na_cnt .citm_spt,#nse_p .na_cnt .itm_tlt_snp .itm_spt{line-height:17px;color:#666}.ans_nws .na_cnt .b_secondaryText,#ans_nws .na_cnt .itm_tlt_snp .itm_spt,#ans_nws .na_cnt .citm_spt{line-height:18px;color:#666}.citm_img,.itm_img{position:relative}.itm_tlt_snp{overflow:hidden}.na_cnt .na_t{color:#111}.na_cnt .b_attribution{font-size:13px}#b_results .na_cnt .b_attribution,#ans_nws .na_cnt .b_attribution{font-size:13px;line-height:18px}.itm_cap{padding:12px 12px 0}.itm_cap.noimg{padding:16px}.na_v{position:absolute;left:0;bottom:0;height:20px;width:23px;background:rgba(0,0,0,.7)}.na_v .na_vi{display:inline-block;margin:6px 8px}.tw_label,.ans_nws .news_fc_hint{font-size:12px;line-height:18px;color:#444;letter-spacing:.05px;text-transform:uppercase;font-weight:bold}#ans_nws.ans_mdn .nws_itm .itm_cap .na_t{font-size:16px;line-height:22px}.ans_mdn .na_cnt .na_t{font-weight:600}.ans_mdn1 .na_citem .na_t{font-weight:400}.ans_mdn .nws_itm a.itm_cap.wimg .itm_tlt_snp{height:114px}.ans_mdn .nws_itm a.itm_cap.noimg{padding-top:20px}.ans_mdn .nws_itm a.itm_cap.noimg .itm_tlt_snp{height:104px}.ans_mdn .nws_itm a.itm_cap.nosnp .itm_tlt_snp{height:58px}.na_overlay .b_overlay_page_close{top:24px;right:0;width:30px}.na_overlay .b_overlay_page_header{min-height:50px}.na_overlay .b_overlay_page_container{max-width:1262px;margin:0 auto;padding:0 40px}.na_overlay .b_overlay_page_content_scroll{padding-left:0;padding-right:0;overflow-y:hidden;margin-right:0}.na_overlay .b_overlay_page_content{background-color:#fff;border-radius:6px 6px 0 0}.na_overlay .b_hide .b_overlay_page_content{opacity:0;transform:scale(1.1)}.na_overlay .b_hide .b_overlay_page_header{opacity:0}.na_overlay .b_overlay_page_content{opacity:1;transform:scale(1);transition:opacity 700ms ease 100ms,transform 200ms ease 200ms}.na_overlay .b_overlay_page_header{opacity:1;transition:opacity 500ms}.na_overlay .b_overlay_page_close::before,.na_overlay .b_overlay_page_close::after{content:\"\";width:100%;position:absolute;top:10px;right:0;border-radius:10px;height:3px;display:block;background:#fff;transform:rotate(45deg);transition:.25s}.na_overlay .b_overlay_page_close::after{transform:rotate(-45deg)}.na_overlay .b_overlay_page_close:hover::before{transform:rotate(135deg)}.na_overlay .b_overlay_page_close:hover::after{transform:rotate(45deg)}.na_overlay .b_overlay_page_close .rms_img{display:none}.na_overlay .b_overlay_page.b_hide .lds-ring{opacity:0}.na_overlay .b_overlay_page .lds-ring{display:inline-block;position:absolute;left:50%;margin-left:-32px;top:30%;width:64px;height:64px;z-index:-1;opacity:1;transition:opacity 200ms ease 1000ms}.na_overlay .b_overlay_page .lds-ring div{box-sizing:border-box;display:block;position:absolute;width:51px;height:51px;margin:6px;border:6px solid #767676;border-radius:50%;animation:lds-ring 1.2s cubic-bezier(.5,0,.5,1) infinite;border-color:#767676 transparent transparent transparent}.na_overlay .b_overlay_page .lds-ring div{box-sizing:border-box;display:block;position:absolute;width:51px;height:51px;margin:6px;border:6px solid #767676;border-radius:50%;animation:lds-ring 1.2s cubic-bezier(.5,0,.5,1) infinite;border-color:#767676 transparent transparent transparent}.na_overlay .b_overlay_page .lds-ring div:nth-child(1){animation-delay:-.45s}.na_overlay .b_overlay_page .lds-ring div:nth-child(2){animation-delay:-.3s}.na_overlay .b_overlay_page .lds-ring div:nth-child(3){animation-delay:-.15s}.na_iframe_overlay{width:100%;height:100%;border:none;opacity:0;padding-top:20px}.na_iframe_overlay.na_show{opacity:1}.na_open_overlay .na_ov{background:rgba(0,0,0,.7);background-position:center center;background-repeat:no-repeat;display:block;position:absolute;border-radius:2px;width:20px;height:16px;right:8px;bottom:8px}.na_overlay_hide .na_open_overlay .na_ov{display:none}@keyframes lds-ring{0%{transform:rotate(0deg)}100%{transform:rotate(360deg)}}#nws_ht{padding-bottom:8px}.b_ans #nws_ht h2{font-size:20px;line-height:28px;white-space:nowrap;text-overflow:ellipsis;overflow:hidden}.b_ans.b_top #nws_ht h2{line-height:32px}#nws_ht .b_attribution{margin-top:-2px}#nws_ht.wcardc{display:block}a.wcardc:hover{text-decoration:none}a.wcardc:hover h2{text-decoration:underline}.nws_cm #vidans2,.nws_cm .vsa,.nws_cm #mult{margin-top:6px}.nws_cm .twcwr{margin-top:16px}.nws_cm .twctitle,.nws_cm #twctitle,.nws_cm #vidans2 .b_rich,.nws_cm #vidans2 .vgaly,.nws_cm .vsa .b_headerTitle{padding-top:0}.nws_cm .twcwr #twcrsl,.nws_cm #vidans2 .vidr{margin-bottom:0}.nws_cm .vidr,.nws_cm .twcwr .slide{background-color:#fff}.nws_cm #mult h2{color:#111;font-size:18px}.nws_cm .adv_bottom{padding-top:8px}.nws_cm #vidans2 .b_rich .vidrc{float:none}.opinion_content{padding-bottom:10px}.opinion_content .titles .title{padding-top:6px;font-size:20px;color:#666;letter-spacing:0;line-height:24px;padding-bottom:8px}.opinion_content .citm_spt,.opinion_content .itm_tlt_snp .itm_spt,.opinion_content .itm_tlt_snp .itm_spt{line-height:17px;color:#666;overflow:hidden}.opinion_content .na_t{color:#111}#b_content .opinion_content .b_attribution{font-size:13px}.nwsq_c{padding-bottom:10px}.nwsq_t{padding:6px 0 8px}.nwsq_ci{background-color:#fff;line-height:18px;padding:16px}.nwsq_ci_s{border-bottom:solid 1px #ddd;margin-bottom:12px;padding-bottom:8px}.nwsq_ci_sn{color:#444;font-weight:bold;height:18px;margin-bottom:4px;overflow:hidden;text-overflow:ellipsis;white-space:nowrap}.nwsq_ci_st{color:#666;font-size:11px;height:32px;line-height:16px;overflow:hidden}.nq_ci_sp .nwsq_ci_st{height:16px}.nwsq_ci_q::before{content:'❝';display:block;font-family:ZapfDingbatsITC;font-size:20px;line-height:16px}.nwsq_ci_q{color:#444;height:124px;margin-bottom:84px;overflow:hidden}.nq_ci_sp .nwsq_ci_q{margin-bottom:66px}.nwsq_ci_q .sw_plus{cursor:pointer;margin-left:4px}.nwsq_ci_q.nwsq_full,.nwsq_c.nwsq_exp .nwsq_ci_q.nwsq_trim{display:none}.nwsq_c.nwsq_exp .nwsq_ci_q.nwsq_full{display:block}.nwsq_ci_meta{bottom:0;height:76px;margin:0 16px 16px 0;position:absolute}.nq_ci_sp .nwsq_ci_meta{height:58px}.nwsq_ci_at{height:54px;margin-bottom:4px;overflow:hidden}.nq_ci_sp .nwsq_ci_at{height:36px}.nwsq_ci_attr{height:18px;overflow:hidden}.na_v .na_vi{height:8px;width:7px;background-image:url(/rb/3Q/ic/61505d92/25ddf288.png?bu=ArszvjM)}.na_open_overlay .na_ov{background-image:url(data:image/svg+xml;base64,PD94bWwgdmVyc2lvbj0iMS4wIiBlbmNvZGluZz0iVVRGLTgiPz4NCjxzdmcgd2lkdGg9IjEwcHgiIGhlaWdodD0iMTBweCIgdmlld0JveD0iMCAwIDEwIDEwIiB2ZXJzaW9uPSIxLjEiIHhtbG5zPSJodHRwOi8vd3d3LnczLm9yZy8yMDAwL3N2ZyIgeG1sbnM6eGxpbms9Imh0dHA6Ly93d3cudzMub3JnLzE5OTkveGxpbmsiPg0KICAgIDxnIGlkPSIxIiBzdHJva2U9Im5vbmUiIHN0cm9rZS13aWR0aD0iMSIgZmlsbD0ibm9uZSIgZmlsbC1ydWxlPSJldmVub2RkIj4NCiAgICAgICAgPGcgaWQ9Ik1TTi1pY29uX0Rlc2t0b3BfVmlzdWFsLXNwZWNzIiB0cmFuc2Zvcm09InRyYW5zbGF0ZSgtMzMwLjAwMDAwMCwgLTI3OS4wMDAwMDApIj4NCiAgICAgICAgICAgIDxnIGlkPSJoZXJvTmV3cyIgdHJhbnNmb3JtPSJ0cmFuc2xhdGUoOTguMDAwMDAwLCAxMDYuMDAwMDAwKSI+DQogICAgICAgICAgICAgICAgPGcgaWQ9IjgiIHRyYW5zZm9ybT0idHJhbnNsYXRlKDIyNi4wMDAwMDAsIDE2OS4wMDAwMDApIj4NCiAgICAgICAgICAgICAgICAgICAgPGcgaWQ9Imljb24iPg0KICAgICAgICAgICAgICAgICAgICAgICAgPGcgaWQ9InBvcC11cCIgdHJhbnNmb3JtPSJ0cmFuc2xhdGUoMy4wMDAwMDAsIDEuMDAwMDAwKSI+DQogICAgICAgICAgICAgICAgICAgICAgICAgICAgPHBvbHlnb24gaWQ9IlBhdGgiIHBvaW50cz0iMCAwIDE2IDAgMTYgMTYgMCAxNiI+PC9wb2x5Z29uPg0KICAgICAgICAgICAgICAgICAgICAgICAgICAgIDxwYXRoIGQ9Ik00Ljk3MzY4NDIxLDEzIEwxMC4yMzY4NDIxLDEzIEMxMC42MDAxODczLDEzIDEwLjg5NDczNjgsMTIuNzA1NDUwNSAxMC44OTQ3MzY4LDEyLjM0MjEwNTMgQzEwLjg5NDczNjgsMTEuOTc4NzYgMTAuNjAwMTg3MywxMS42ODQyMTA1IDEwLjIzNjg0MjEsMTEuNjg0MjEwNSBMNC45NzM2ODQyMSwxMS42ODQyMTA1IEM0LjYxMDMzODk4LDExLjY4NDIxMDUgNC4zMTU3ODk0NywxMS4zODk2NjEgNC4zMTU3ODk0NywxMS4wMjYzMTU4IEw0LjMxNTc4OTQ3LDUuNzYzMTU3ODkgQzQuMzE1Nzg5NDcsNS4zOTk4MTI2NiA0LjAyMTIzOTk3LDUuMTA1MjYzMTYgMy42NTc4OTQ3NCw1LjEwNTI2MzE2IEMzLjI5NDU0OTUxLDUuMTA1MjYzMTYgMyw1LjM5OTgxMjY2IDMsNS43NjMxNTc4OSBMMywxMS4wMjYzMTU4IEMzLDEyLjExNjM1MTUgMy44ODM2NDg1MiwxMyA0Ljk3MzY4NDIxLDEzIFogTTEyLjM0MjEwNTMsMyBMNS43NjMxNTc4OSwzIEM1LjM5OTgxMjY2LDMgNS4xMDUyNjMxNiwzLjI5NDU0OTUxIDUuMTA1MjYzMTYsMy42NTc4OTQ3NCBMNS4xMDUyNjMxNiwxMC4yMzY4NDIxIEM1LjEwNTI2MzE2LDEwLjYwMDE4NzMgNS4zOTk4MTI2NiwxMC44OTQ3MzY4IDUuNzYzMTU3ODksMTAuODk0NzM2OCBMMTIuMzQyMTA1MywxMC44OTQ3MzY4IEMxMi43MDU0NTA1LDEwLjg5NDczNjggMTMsMTAuNjAwMTg3MyAxMywxMC4yMzY4NDIxIEwxMywzLjY1Nzg5NDc0IEMxMywzLjI5NDU0OTUxIDEyLjcwNTQ1MDUsMyAxMi4zNDIxMDUzLDMgWiIgaWQ9IlNoYXBlIiBmaWxsPSIjRkZGRkZGIiBmaWxsLXJ1bGU9Im5vbnplcm8iPjwvcGF0aD4NCiAgICAgICAgICAgICAgICAgICAgICAgIDwvZz4NCiAgICAgICAgICAgICAgICAgICAgPC9nPg0KICAgICAgICAgICAgICAgIDwvZz4NCiAgICAgICAgICAgIDwvZz4NCiAgICAgICAgPC9nPg0KICAgIDwvZz4NCjwvc3ZnPg==)}.na_cl.hidecvn .btn{display:none}.na_cl.bc .na_citem,.na_cl.bc .slide.see_more{height:236px}.na_cl.bc .slide.see_more{line-height:220px}.na_cl.bc .citm_img{width:198px;height:112px}.na_cl .na_citem,.na_cl .slide.see_more{height:208px;background-color:#fff}.na_cl .slide.see_more{line-height:196px}.na_cl .citm_img{width:168px;height:88px;display:block}.na_cl .na_citem .na_ccw{height:100%;width:100%;display:block}.na_cl .na_ccw:hover{text-decoration:none}.na_cl .na_ccw .na_t:hover{text-decoration:underline}.na_cl .citm_cap{line-height:18px;padding:16px}.na_cl .citm_cap.wimg .na_t{height:auto}.na_cl .citm_cap .na_t{margin-bottom:34px}.na_cl .citm_cap .na_t+.citm_spt{margin-top:-22px}.na_cl .citm_cap .tw_label{padding-bottom:4px;display:block}.na_cl .news_footer{display:block;position:absolute;bottom:0;margin-bottom:16px}.carousel_seemore::before{content:\"\";height:100%;display:inline-block;vertical-align:middle}.b_slideexp{margin-bottom:20px;position:relative}.b_ans>.b_slideexp>.slide *:last-child,.b_ans>.b_slideexp:last-child,.b_vPanel .b_slideexp:last-child{margin-bottom:0;padding-bottom:0}.b_slidebar .slide{display:inline-block;vertical-align:top}.b_slidebar .slide,.b_slideexp .b_viewport{overflow:hidden}.b_slideexp .b_viewport{margin:auto}.b_slidebar{white-space:nowrap}.b_slidebar .slide{white-space:normal;position:relative}.b_slidebar,.b_slidebar .slide{width:100%}.b_slidebar.anim{-webkit-transition:margin-left .35s cubic-bezier(.15,.85,.35,1);-moz-transition:margin-left .35s cubic-bezier(.15,.85,.35,1);-o-transition:margin-left .35s cubic-bezier(.15,.85,.35,1);transition:margin-left .35s cubic-bezier(.15,.85,.35,1)}.slide>.spinner{position:absolute;left:50%}.slide>.spinner>.inner{position:relative;left:-50%;width:40px;height:40px;background:url(/sa/simg/spinner.gif) no-repeat;margin:40px auto 30px;z-index:1000}.slide_mask.hideSlideMask{visibility:hidden}.b_slidebar.b_autoslidingfade .slide.slide_fading{opacity:1}.slide_mask,.b_slidebar.b_autoslidingfade .slide{transition:opacity .3s linear}.slide_mask.slide_fading,.b_slidebar.b_autoslidingfade .slide{opacity:0}.slide_mask{position:absolute;width:100%;height:100%;opacity:.7;top:0}.carousel_seemore{text-align:center}.carousel_seemore.dark a{color:#fff}.b_slidebar.enable_selecting .slide.selected::after,.b_slidebar.enable_selecting .slide:hover::after{box-shadow:inset 0 0 0 2px white}.b_slidebar .slide.selected::after,.b_slidebar .slide:focus::after{box-shadow:inset 0 0 0 1px #0099bc;outline:0}.b_slidebar.enable_selecting .slide.selected::after,.b_slidebar.enable_selecting .slide:hover::after,.b_slidebar .slide.selected::after,.b_slidebar .slide:focus::after{content:\"\";height:100%;width:100%;position:absolute;left:0;top:0}.b_slideexp .b_antiSideBleed{display:inline-block}.carousel_seemore>.b_moreLink.rndChev{vertical-align:middle;height:77px;text-decoration-color:#444}.carousel_seemore .seeAll_txt{display:block;color:#444;line-height:17px}.carousel_seemore .seeAll_chev{display:block;height:48px;padding-bottom:12px;margin-top:15px}.b_slideexp .b_viewport.scrollbar{overflow-x:auto}.b_slideexp .b_viewport{-webkit-overflow-scrolling:touch}.b_ans .b_sideBleed,.b_algo .b_sideBleed,.b_ad .b_sideBleed{margin-left:-20px;margin-right:-20px}.b_ans.b_topborder .b_sideBleed{margin-left:-19px;margin-right:-19px}.b_topborder .b_bottomBleed{margin-bottom:-10px}.b_tophbb .b_bottomBleed{margin-bottom:-19px}.b_topborder .b_topBleed{margin-top:-15px}.b_tophbb .b_topBleed{margin-top:-15px}#b_context .b_ans .b_sideBleed{margin-left:-20px;margin-right:-20px}#b_context .b_ad .b_sideBleed{margin-left:-20px;margin-right:-20px}#b_context .b_ans:not(:last-child) .b_bottomBleed{margin-bottom:-5px}#b_context .b_ad:not(:last-child) .b_bottomBleed .b_expando .b_ans .b_bottomBleed{margin-bottom:-15px}#b_context .b_ans .b_topBleed{margin-top:-10px}#b_context .b_ad .b_topBleed{margin-top:-10px}#b_context .b_ans .b_entityTP .b_sideBleed,#b_context .b_ad .pa_sb .b_sideBleed{margin-left:-19px;margin-right:-19px}#b_context .b_ans .b_entityTP .b_topBleed,#b_context .b_ad .pa_sb .b_topBleed{margin-top:-9px}#b_context .b_ans .b_entityTP .b_bottomBleed{margin-bottom:-4px}.b_ans .b_sideBleed .b_antiSideBleed,.b_algo .b_sideBleed .b_antiSideBleed,.b_ad .b_sideBleed .b_antiSideBleed{padding-left:20px;padding-right:20px}.b_ans.b_topborder .b_antiSideBleed{padding-left:19px;padding-right:19px}.b_topborder .b_bottomBleed .b_antiBottomBleed{padding-bottom:10px}.b_topborder .b_topBleed .b_antiTopBleed{padding-top:15px}.b_tophbb .b_bottomBleed .b_antiBottomBleed{padding-bottom:19px}.b_tophbb .b_topBleed .b_antiTopBleed{padding-top:15px}#b_context .b_ans .b_antiSideBleed{padding-left:20px;padding-right:20px}#b_context .b_ad .b_antiSideBleed{padding-left:20px;padding-right:20px}#b_context .b_ans:not(:last-child) .b_antiBottomBleed{padding-bottom:5px}#b_context .b_ad:not(:last-child) .b_antiBottomBleed,.b_expando .b_ans .b_bottomBleed{padding-bottom:15px}#b_context .b_ans .b_antiTopBleed{padding-top:10px}#b_context .b_ad .b_antiTopBleed{padding-top:10px}#b_context .b_ans .b_entityTP .b_antiSideBleed,#b_context .b_ad .pa_sb .b_antiSideBleed{padding-left:19px;padding-right:19px}#b_context .b_ans .b_entityTP .b_antiTopBleed,#b_context .b_ad .pa_sb .b_antiTopBleed{padding-top:9px}#b_context .b_ans .b_entityTP .b_antiBottomBleed{padding-bottom:4px}.b_overlay{position:relative}.b_overlay .btn{height:100%;position:absolute;width:20px;cursor:pointer;z-index:1;-moz-user-select:none;-khtml-user-select:none;-webkit-user-select:none;-o-user-select:none;-ms-user-select:none;user-select:none}.b_overlay .btn .bg{position:absolute;width:100%;height:100%;background-color:#444;opacity:.3;-ms-filter:\"progid:DXImageTransform.Microsoft.Alpha(Opacity=30)\";filter:alpha(opacity=30);-moz-opacity:.3;-khtml-opacity:.3;-webkit-transition:opacity .3s linear;-moz-transition:opacity .3s linear;-o-transition:opacity .3s linear;transition:opacity .3s linear}.b_overlay .btn.nobg .bg{background-color:transparent}.b_overlay .btn:hover .bg{opacity:.7;-ms-filter:\"progid:DXImageTransform.Microsoft.Alpha(Opacity=70)\";filter:alpha(opacity=70);-moz-opacity:.7;-khtml-opacity:.7}.b_overlay .btn.nohover:hover .bg{opacity:.3;-ms-filter:\"progid:DXImageTransform.Microsoft.Alpha(Opacity=30)\";filter:alpha(opacity=30);-moz-opacity:.3;-khtml-opacity:.3}.b_overlay .btn.disabled .bg,.b_overlay .btn.nohover.disabled .bg{opacity:.01;-ms-filter:\"progid:DXImageTransform.Microsoft.Alpha(Opacity=1)\";filter:alpha(opacity=1);-moz-opacity:.01;-khtml-opacity:.01}.b_overlay .btn.hidden .bg,.b_overlay .btn.nohover.hidden .bg{opacity:.01;-ms-filter:\"progid:DXImageTransform.Microsoft.Alpha(Opacity=1)\";filter:alpha(opacity=1);-moz-opacity:.01;-khtml-opacity:.01}.b_overlay .btn.disabled,.b_overlay .btn.hidden{cursor:default}.b_overlay .btn .cr{text-align:center;line-height:0}.b_overlay .btn.hidden .cr,.b_overlay .btn.disabled .cr{visibility:hidden}.b_overlay .btn.prev .cr{-moz-transform:scaleX(-1);-o-transform:scaleX(-1);-webkit-transform:scaleX(-1);-ms-transform:scaleX(-1);transform:scaleX(-1)}.b_overlay .btn.next{right:0}.b_overlay .btn .cr>div{background-size:40px 200px;background-repeat:no-repeat;width:20px;height:40px;background-position:-10px 0}.b_overlay .btn .cr>div{background-image:url(/rs/5i/QI/ic/0c8f0ddb/364afc25.png)}.b_overlay .btn.rounded,.b_overlay .btn.rounded .bg,.b_overlay .btn.rounded .cr,.b_overlay .btn.rounded .cr>div,.b_overlay .btn.rounded .vcac>div{border-radius:50%}.b_overlay .btn.rounded .vcac{height:0}.b_overlay .btn.rounded{height:32px;width:32px;top:50%;margin-top:-16px}.b_overlay .btn.rounded .bg{opacity:0}.b_overlay .btn.rounded .cr>div{height:32px;width:32px;background-position:0 0;background-size:32px 32px;box-shadow:0 2px 3px 0 rgba(0,0,0,.1);-webkit-box-shadow:0 2px 3px 0 rgba(0,0,0,.1)}.b_overlay .btn.rounded .cr>div:hover{box-shadow:0 2px 4px 1px rgba(0,0,0,.14);-webkit-box-shadow:0 2px 4px 1px rgba(0,0,0,.14)}.b_overlay .btn.rounded.darkchev .cr>div{background:#fff;box-shadow:0 2px 4px 1px rgba(0,0,0,.14);-webkit-box-shadow:0 2px 4px 1px rgba(0,0,0,.14)}body .b_overlay .btn.rounded.next{right:-12px}body .b_overlay .btn.rounded.prev{left:-13px}@media screen and (-ms-high-contrast:active){.b_overlay .btn.rounded.hidden *,.b_overlay .btn.rounded.disabled *{background:none}.b_overlay .btn.rounded.hidden,.b_overlay .btn.rounded.disabled{background:none}}.b_overlay .btn.rounded .cr>div{background-image:url(/rs/5i/QL/ic/ead77415/3938fd08.png)}.b_overlay .btn.rounded.exp .cr>div{background-image:url(/rs/5i/QP/ic/b02613ca/6f8876d6.png)}.b_overlay .btn.rounded .cr>div:hover{background-image:url(data:image/png;base64,iVBORw0KGgoAAAANSUhEUgAAAEAAAABACAMAAACdt4HsAAAAaVBMVEUAAADf39/f39/f39/b29vb29vc3Nzd3d3d3d3d3d3c3Nzc3Nzd3d0RERE9PT1MTExbW1tqamqIiIiWlpalpaXd3d3h4eHj4+Po6Ojq6uru7u7w8PDy8vL09PT29vb5+fn7+/v9/f3///8dPWqeAAAADXRSTlMAECAwQFBggKCwwNDw0fJA6AAAAZpJREFUWMPFl9lywyAMRaHe4iVd0l7sYDs2/P9HdiBpJ54YA1amvY8MOgiJRWLMobQoa9xUl0XKYsTzEg8qcx5onhysgejkeLEaZSfs0CHEj7QyU7th1gvNQ2fGKx+Cm9VFr/SKVG/8OGxuJGsAMWinBgE0mdveLC+V3pCSxgmX+zXQTtqjqQVq7rI/6wCd1wm8AQYdpAFoXtbWD7S3hAcfYuyvhIf4R9hbwiIXWWD8FpHMFgFsdaRaNPx+A1MsYLrbRApIHS0J/NysCkLFA5RA9evAaga+3t57TyaSWwTE6oTT8fi6SRDXKHBgfdrn0UPoAZOIHHBE4MNDUEDOGCvRuWb4CB1KxtjWIfYQBsDmYNY7CbM5CoUjB0EEgWIrBH6CCULtO8ZbBImaAaPeTRgBBlz0bsIlDOAmhAIs4fSfAOoWfEEkppF8kMhHmXyZyNeZ/KDQnzTyo0p+1skfC0v2f23pcz5X+vdOLjDoJQ65yKKXefRCk17qspe4Yps/v9ynNxz0lucJTRe97aM3nhbhbn2Tv2m+49r/b59Kip7judnGAAAAAElFTkSuQmCC)}.b_overlay .btn.rounded.exp .cr>div:hover{background-image:url(data:image/png;base64,iVBORw0KGgoAAAANSUhEUgAAAEAAAABACAMAAACdt4HsAAAAaVBMVEX////d3d3d3d3d3d3d3d3d3d3d3d3d3d3d3d3d3d3d3d3d3d3d3d3d3d3////h4eHy8vLu7u7o6Oj9/f309PT5+fnw8PD7+/vj4+NERESVlZX29vZycnKKiorq6urz8/O5ublmZmZ+fn4A7/F5AAAADXRSTlMAEKDQQLDwgGBQwDAgGi6jgAAAAcNJREFUeF61l9ly4yAQRbXLS06DFu9ZZub/P3Iij2vKpkMwULlP/XKP0EWC7sKnpm9rbqrbviliVK5alNpV+aR9WwFgxmG+XDUPowGgemYdzQZgtAd50MGOAJsQoqwAs59ES6a9AapvX2TdgbHilTXQrf3+Chgm+UbTAFS+7Gs47iSg3RHq0ud/lyf0/jWh7MDKU7LQvejnO/4AQa1B+YMElb+VCFlnL9Y6v3CS64cAjxKpI115/wK7WMDu7iUaGCRaAzQ3wAYzxQMmw+b/AqwkyML2loCRJJl/KZSwdwzn17OutfawbMQK3AReT6c3VWtNsPoEtIwu+nxaXKpWGmk/AaAjfLu6dK1jvO7BQRIJB2iKHiOSSjD0KoIAQYdQM0gyYaAuYJZkwgwFXCSZcFGAECEM0IRfqv5RgPb//lC1AsT5NWCO8ettrBli/PpDahlj/PpT7jHJfjH06ncO+PXvXIBN9IsF35G2eJzaE4HnUF08Tu05VD3H+p8PVfuO9fyLpdimX21N7uWafb3nNhjZLU5uk5Xb5uU2mvmtrqOXuGa7zG33cweOzJEnd+jKHvvyB88Q4mH03d2PvtsfGL6zx/+/zyvAC/Z6RT4AAAAASUVORK5CYII=)}.b_overlay .btn.bld.prev{left:-20px}.b_overlay .btn.bld.next{right:-20px}.vcac{position:absolute;width:100%;top:50%}.vcac>div{position:relative;width:100%}.news_footer.morespace{margin:4px 0}.news_footer .b_attribution{margin:0}.news_footer .publogo.nowrap{white-space:nowrap}.news_footer .publogo{font-size:13px;overflow:hidden;text-overflow:ellipsis}.news_footer .pubimg,.news_footer .rms_iac{display:inline-block;vertical-align:top;margin-right:4px;margin-bottom:1px}.news_footer .publogo cite{line-height:17px}.news_fc_hint{color:#111;font-weight:bold;text-transform:uppercase}#b_results .b_ans .b_rs h2,#b_results .b_rs .b_vlist2col li,#b_results .b_rs .b_vList li{padding-bottom:16px}.b_rs .b_vlist2col ul:first-child{margin-right:40px}a{a:1}.b_rs .b_vlist2col ul:first-child{margin-right:80px}.sb_pagP_bp:after{-webkit-transform-origin:-1394px 0;transform-origin:-1394px 0}.sb_pagP_bp:hover:after,.sb_pagP_bp:active:after,.sb_pagP_bp:focus:after{-webkit-transform-origin:-1478px 0;transform-origin:-1478px 0}.sb_pagN_bp:after{-webkit-transform-origin:-1394px 0;transform-origin:-1394px 0}.sb_pagN_bp:hover:after,.sb_pagN_bp:active:after,.sb_pagN_bp:focus:after{-webkit-transform-origin:-1478px 0;transform-origin:-1478px 0}.sb_inactP:after,.sb_inactP:hover:after{-webkit-transform-origin:-1562px 0;transform-origin:-1562px 0}.b_pag a{display:block;text-align:center}.b_pag a.sb_bp{min-width:40px;margin-right:20px;line-height:42px}.b_pag a.sb_pagN,.b_pag a.sb_pagP{border:0;padding:1px}.b_pag a.sb_pagN_bp,.b_pag a.sb_pagP_bp{width:40px;height:40px;margin-top:0}.b_pag a.sb_bp.sb_inactP{min-width:38px}.b_pag a.sb_pagP_bp.sb_inactP{width:38px}.b_pag a.b_roths{-webkit-transform:rotate(180deg);transform:rotate(180deg)}.b_pag .sw_prev,.b_pag .sw_next{margin:2px}@media screen and (-ms-high-contrast:active){.sb_pagN:after,.sb_pagP:after{content:\"\"}li.b_pag a.sb_pagN,li.b_pag a.sb_pagP{width:auto}li.b_pag a.b_roths{-webkit-transform:rotate(0deg);transform:rotate(0deg)}.b_pag .sw_next,.b_pag .sw_prev{display:block}}#b_context .b_re{margin-bottom:-10px}div.msn_ver_sep { overflow:hidden; border:0px; margin:0px; padding:0px; clear:both; }#b_context .b_rrsr>.b_vList>li{padding-bottom:10px}a{a:1}a{a:1}a{a:1}#b_footerItems br{display:none}#b_footerItems .b_footerItems_icp>span{margin-left:0}@media(max-width:1280px){#b_footerItems>span{position:relative;margin-top:24px}#b_footerItems br{display:block}}z{a:1}#b_results h2 #kn_p,#b_results h3 #kn_p,#b_results h4 #kn_p{position:relative;display:inline}#b_pole #kn_p,.b_ans #kn_p{display:none}#kn_a{color:#001ba0;font:14px arial;left:-20px;position:absolute;top:25%}.b_title #kn_a,.b_overflow #kn_a{left:-3px;position:relative}</style><style type=\"text/css\">#slideexp0_949445 .slide { width: 197px; margin-right: 8px; }#slideexp0_949445c .b_slidebar .slide { border-radius: 6px; }#slideexp0_949445 .slide:last-child { margin-right: 1px; }#slideexp0_949445c { margin: -4px; } #slideexp0_949445c .b_viewport { padding: 4px 1px 4px 1px; margin: 0 3px; } #slideexp0_949445c .b_slidebar .slide { box-shadow: 0 0 0 1px rgba(0, 0, 0, 0.05), 0 2px 3px 0 rgba(0, 0, 0, 0.1); -webkit-box-shadow: 0 0 0 1px rgba(0, 0, 0, 0.05), 0 2px 3px 0 rgba(0, 0, 0, 0.1); } #slideexp0_949445c .b_slidebar .slide.see_more { box-shadow: 0 0 0 0px rgba(0, 0, 0, 0.00); -webkit-box-shadow: 0 0 0 0px rgba(0, 0, 0, 0.00); } #slideexp0_949445c .b_slidebar .slide.see_more .carousel_seemore { border: 0px; }#slideexp0_949445c .b_slidebar .slide:hover { box-shadow: 0 0 0 1px rgba(0, 0, 0, 0.05), 0 2px 4px 1px rgba(0, 0, 0, 0.14); -webkit-box-shadow: 0 0 0 1px rgba(0, 0, 0, 0.05), 0 2px 4px 1px rgba(0, 0, 0, 0.14); } #slideexp0_949445c .b_slidebar .slide.see_more:hover { box-shadow: 0 0 0 0px rgba(0, 0, 0, 0.00); -webkit-box-shadow: 0 0 0 0px rgba(0, 0, 0, 0.00); }</style><div id=\"b_content\"><main aria-label=\"搜索结果\"><a class=\"tipContainer\" hover-trans=\"no\" target=\"_self\" href=\"/search?q=Winter&amp;ensearch=1&amp;FORM=BESBTP\" h=\"ID=SERP,5557.1\"><span id=\"tipTitle\">检测到您输入了英文，试试切换到国际版？搜英文结果更丰富更准确</span><span id=\"tip-arrow\"></span></a><div id=\"b_tween\"><span class=\"sb_count\" data-bm=\"4\">109,000,000 条结果</span><span class=\"ftrB\" data-bm=\"5\"><a class=\"ftrH\" id=\"h5107\" role=\"button\" aria-label=\"按照 时间不限 筛选\" aria-expanded=\"false\" aria-controls=\"d5107\" aria-haspopup=\"true\" href=\"javascript:\" h=\"ID=SERP,5338.1\"><span class=\"fs_label\">时间不限</span><span class=\"sw_ddbk\"></span> </a><div id=\"d5107\" class=\"b_hide b_dropdown\" role=\"menu\" data-filterkey=\"\"><div class=\"ftrD\" id=\"ftrD_时间不限\"><a class=\"b_toggle\" role=\"menuitem\" href=\"/search?q=Winter&amp;qs=n&amp;sp=-1&amp;pq=winter&amp;sc=8-6&amp;cvid=6AF1531063034617B9327CEEDBD1DD93&amp;qpvt=Winter\" h=\"ID=SERP,5321.1\">全部</a><a class=\"b_toggle\" role=\"menuitem\" href=\"/search?q=Winter&amp;filters=ex1%3a%22ez1%22&amp;qs=n&amp;sp=-1&amp;pq=winter&amp;sc=8-6&amp;cvid=6AF1531063034617B9327CEEDBD1DD93&amp;qpvt=Winter\" h=\"ID=SERP,5322.1\">24 小时内</a><a class=\"b_toggle\" role=\"menuitem\" href=\"/search?q=Winter&amp;filters=ex1%3a%22ez2%22&amp;qs=n&amp;sp=-1&amp;pq=winter&amp;sc=8-6&amp;cvid=6AF1531063034617B9327CEEDBD1DD93&amp;qpvt=Winter\" h=\"ID=SERP,5323.1\">一周内</a><a class=\"b_toggle\" role=\"menuitem\" href=\"/search?q=Winter&amp;filters=ex1%3a%22ez3%22&amp;qs=n&amp;sp=-1&amp;pq=winter&amp;sc=8-6&amp;cvid=6AF1531063034617B9327CEEDBD1DD93&amp;qpvt=Winter\" h=\"ID=SERP,5324.1\">一个月内</a><a class=\"b_toggle\" role=\"menuitem\" href=\"/search?q=Winter&amp;filters=ex1%3a%22ez5_17848_18213%22&amp;qs=n&amp;sp=-1&amp;pq=winter&amp;sc=8-6&amp;cvid=6AF1531063034617B9327CEEDBD1DD93\" h=\"ID=SERP,5325.1\">去年</a><span id=\"drvph\" data-url=\"/control/tfcalendar?q=Winter&amp;qs=n&amp;form=QBLH&amp;sp=-1&amp;pq=winter&amp;sc=8-6&amp;sk=&amp;cvid=6AF1531063034617B9327CEEDBD1DD93&amp;IG=680CEB500A15470DB7F437749C8CE0B8&amp;StartDate=11%2f03%2f2019+08%3a48%3a54&amp;EndDate=11%2f13%2f2019+08%3a48%3a54&amp;IsApplied=False&amp;DisplayText=%e8%87%aa%e5%ae%9a%e4%b9%89%e8%8c%83%e5%9b%b4&amp;DateOffset=0&amp;FormCode=&amp;ApplyLinkUrl=%2fsearch%3fq%3dWinter%26filters%3dex1%253a%2522ez5_0_0%2522%26qs%3dn%26sp%3d-1%26pq%3dwinter%26sc%3d8-6%26cvid%3d6AF1531063034617B9327CEEDBD1DD93%26qpvt%3dWinter&amp;ApplyLinkText=ez5&amp;IID=SERP.5327\"></span></div></div></span></div><ol id=\"b_results\"><li class=\"b_ans\" data-fbhlsel=\"\" h=\"SERP,5346.1\" data-bm=\"6\"><div id=\"dict_ans\" class=\"dict_oa\"><div class=\"b_vPanel\"><div><h2 class=\"\"><a href=\"/dict/search?q=winter&amp;FORM=BDVSP2&amp;qpvt=Winter\" h=\"ID=SERP,5372.1\" target=\"_blank\"><strong>winter</strong> - 必应词典</a></h2></div><div><div class=\"b_hPanel\"><span><span class=\"b_demoteText dict_pn\"><span class=\"b_label\">美</span><span class=\"b_label\">['wɪntər]</span><a href=\"javascript:void(0);\" onclick=\"BilingualDict.Play('https://dictionary.blob.core.chinacloudapi.cn/media/audio/tom/99/74/9974FB11A70857B73EC520415C24F9B5.mp3');\" target=\"_self\"><img class=\"dictIcon rms_img\" height=\"15\" width=\"16\" src=\"data:image/png;base64,iVBORw0KGgoAAAANSUhEUgAAABAAAAAPCAMAAADarb8dAAAAM1BMVEUAAAD3dhf3dhf3dhf3dhf3dhf3dhf3dhf3dhf3dhf3dhf3dhf3dhf3dhf3dhf3dhf3dhcvVlHHAAAAEHRSTlMAECAwQFBgcICPn6+/z9/vIxqCigAAAHBJREFUCB0FwYlhhDAAAzAFfAFSHu8/bSUAMHaADLC+AawGY4z3D6w2uG/pLlmdjWHv9Cxtp8ZzWo/j1aBxfn6VatBIt3Tbq0EjlUr1CI37Nj+/ars0rt27XA9mV4Oz2/gOmG2wpvMbYDYgPQCAa/EPT3QE3kcVlegAAAAASUVORK5CYII=\" data-bm=\"29\"></a></span></span><span><span class=\"b_demoteText dict_pn\"><span class=\"b_label\">英</span><span class=\"b_label\">['wɪntə(r)]</span><a href=\"javascript:void(0);\" onclick=\"BilingualDict.Play('https://dictionary.blob.core.chinacloudapi.cn/media/audio/george/99/74/9974FB11A70857B73EC520415C24F9B5.mp3');\" target=\"_self\"><img class=\"dictIcon rms_img\" height=\"15\" width=\"16\" src=\"data:image/png;base64,iVBORw0KGgoAAAANSUhEUgAAABAAAAAPCAMAAADarb8dAAAAM1BMVEUAAAD3dhf3dhf3dhf3dhf3dhf3dhf3dhf3dhf3dhf3dhf3dhf3dhf3dhf3dhf3dhf3dhcvVlHHAAAAEHRSTlMAECAwQFBgcICPn6+/z9/vIxqCigAAAHBJREFUCB0FwYlhhDAAAzAFfAFSHu8/bSUAMHaADLC+AawGY4z3D6w2uG/pLlmdjWHv9Cxtp8ZzWo/j1aBxfn6VatBIt3Tbq0EjlUr1CI37Nj+/ars0rt27XA9mV4Oz2/gOmG2wpvMbYDYgPQCAa/EPT3QE3kcVlegAAAAASUVORK5CYII=\" data-bm=\"30\"></a></span></span></div></div><div><ul class=\"b_vList\"><li><div class=\"dictLine\"><span class=\"dictTag\">n.</span>冬季；冬天</div></li><li><div class=\"dictLine\"><span class=\"dictTag\">adj.</span>冬天的；越冬的；冬播的</div></li><li><div class=\"dictLine\"><span class=\"dictTag\">v.</span>过冬</div></li><li><div class=\"dictLine\"><span class=\"dictTag\">网络</span>温特；冬装；寒冬</div></li></ul></div><div><ul class=\"b_vList\"><li><div class=\"dictLine b_demoteText\"><span class=\"dictTag\">变形</span>复数：winters；过去分词：wintered；现在分词：wintering；</div></li><li><div class=\"dictLine b_demoteText\"><span class=\"dictTag\">搭配</span><a href=\"/dict/search?q=severe%20winter&amp;FORM=BDVSP2\" h=\"ID=SERP,5375.1\" target=\"_blank\">severe <strong>winter</strong></a>；<a href=\"/dict/search?q=long%20winter&amp;FORM=BDVSP2\" h=\"ID=SERP,5376.1\" target=\"_blank\">long <strong>winter</strong></a>；<a href=\"/dict/search?q=hard%20winter&amp;FORM=BDVSP2\" h=\"ID=SERP,5377.1\" target=\"_blank\">hard <strong>winter</strong></a>；<a href=\"/dict/search?q=bitter%20winter&amp;FORM=BDVSP2\" h=\"ID=SERP,5378.1\" target=\"_blank\">bitter <strong>winter</strong></a>；</div></li></ul></div><div> <div class=\"b_factrow\"><a href=\"/dict/search?q=winter&amp;FORM=BDVSP2\" h=\"ID=SERP,5365.1\" target=\"_blank\">查看更多释义</a></div></div><div><div class=\"b_hPanel\"><span><img height=\"28\" width=\"21\" class=\"ap_logo rms_img\" src=\"data:image/png;base64,iVBORw0KGgoAAAANSUhEUgAAACgAAAA2CAYAAAC1ItuGAAAC6klEQVRoQ+2ZTcgNURjHH0IslEKxkY2IUsKCfKQoKbZKKWxYENlI4m4oSwvp3vecc6e3a+acmfIZyoYFWYjUW4refC1sWCjy3ev1n5lzrzt3znU/5s6YN/OvX7c5H8/5N3PmnOfMpUKFBi1XzCWX7yMpBCnxnLzKAl2TE0m2C8bGG2RqUFoLSVZ3kmL7dUlcmRm8PDybHLYVj+oUBrpBtfK7xqCS3dOt4krFoOvOwLxZQ5IfRlCbHDEaGaSVVA2WSpPJGVoGM3tI8Qtks8cI9CMStBP9GgxeHn6sQUyOuAM+RgL0Q78GJRuJ1MXUXJmEwmBSJoDBkWDHMCkXBkPGsEY+ACdJVVcHq4OvHBmMEi7kFpYPFinPjcF2FAaT8j8afA/GWsr6Z/AGkUC4fDF+K6TKX81teiAVg3V51jyUnSFbfI6365JUDdbVGrgXCoO+/MCy/MHcvgPZGeQOEoSlqD+NpPelua+BzAz6mbhlTQ+ux8cn4XS3Fm3PRw5TJjKdgw7foUv+qFKZimxmG+qvReNoMn5JbgdLj0meWBeNo8nYINIq8Q3n5WGyq4t0bajcGPS3QskOkudN07Wh/plBh22hGvsSoMRZumLN0jVRyer6eCyQqkHFN+GRfsIbfDEyUKsU2w5eGeOlZtAVG7H23cSbuyK4Nin4mCSum+NoUjFoV+bgd4PuFZc//6Q4oR+7IUYTAzcoxaO2R0pfSmzGI38W69eOwd9BYIs3eLSrdK9QtfJ83FVlbP83UjEYgGTV/xp1tzQF10f6/uiUnsEGbw1l3ZOBwWQUBpNSGEzKhDKo2C1SlRcNYjIFSJtmgx1lW0uQAOxGx3NYeO8nOpB3S08GW+XvEg5bjkB7wySBP8SW9j02SBISGTTJPwR5bCW2uQOYMxx3/Alywp/Gwbth4AZNqv9Vpvih4DziDD3F4N19AcvEoElX+cwgZ5T8KOazBKOYHr/yY9Ak/7zi54uKHcfvJfA6XwZ7FtFvPyFrLPySa9kAAAAASUVORK5CYII=\" data-bm=\"31\"></span><span><a href=\"https://bingdict.chinacloudsites.cn/download?tag=BDPAN\" h=\"ID=SERP,5621.1\" target=\"_blank\"><div class=\"ap_dtxt\">下载手机版必应词典</div></a></span><span><div class=\"ap_aArea\"><div id=\"ap_aqr\"><img class=\"rms_img\" src=\"data:image/jpeg;base64,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\" data-bm=\"32\"></div><img class=\"ap_icon rms_img\" src=\"data:image/jpeg;base64,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\" data-bm=\"33\"></div></span><span><div class=\"ap_iArea\"><div id=\"ap_iqr\"><img class=\"rms_img\" src=\"data:image/jpeg;base64,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\" data-bm=\"34\"></div><img class=\"ap_icon rms_img\" src=\"data:image/jpeg;base64,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\" data-bm=\"35\"></div></span></div></div></div><div id=\"dict_aud_cnt\"></div></div></li><li class=\"b_algo\" data-bm=\"7\"><h2><a target=\"_blank\" href=\"http://www.iciba.com/winter\" h=\"ID=SERP,5131.1\">winter是什么意思_winter的翻译_音标_读音_用法_例句_爱 ...</a></h2><div class=\"b_caption\"><div class=\"b_snippet\"><p>爱词霸权威在线词典,为您提供<strong>winter</strong>的中文意思,<strong>winter</strong>的用法讲解,<strong>winter</strong>的读音,<strong>winter</strong>的同义词,<strong>winter</strong>的反义词,<strong>winter</strong>的例句等英语服务。</p><div class=\"b_attribution\" u=\"0|5054|5014202588534643|WiEyYwLI15DoMn5FBDpJGGZf_KP76eLL\"><cite>www.iciba.com/<strong>winter</strong></cite><a href=\"#\" aria-label=\"此网站的操作\" aria-haspopup=\"true\" aria-expanded=\"false\" role=\"button\"><span class=\"c_tlbxTrg\"><span class=\"c_tlbxTrgIcn sw_ddgn\"></span><span class=\"c_tlbxH\" h=\"BASE:CACHEDPAGEDEFAULT\" k=\"SERP,5132.1\"></span></span></a></div></div><div class=\"sa_uc\"><ul class=\"b_vList\"><li class=\"b_annooverride\"><div class=\"b_factrow\"><a href=\"http://www.iciba.com/%e7%a9%ba%e6%b0%94%e6%b1%a1%e6%9f%93\" h=\"ID=SERP,5382.1\" target=\"_blank\">空气污染</a> · <a href=\"http://www.iciba.com/%E9%98%85%E5%8D%B7%E7%AC%94%E5%BD%95\" h=\"ID=SERP,5383.1\" target=\"_blank\">阅卷笔录</a> · <a href=\"http://www.iciba.com/%e6%88%91%e6%98%af%e7%89%b9%e7%a7%8d%e5%85%b5\" h=\"ID=SERP,5384.1\" target=\"_blank\">我是特种兵</a> · <a href=\"http://www.iciba.com/%e5%a4%a9%e4%b8%8b%e7%ac%ac%e4%b8%80%e6%b3%89\" h=\"ID=SERP,5385.1\" target=\"_blank\">天下第一泉</a></div></li></ul></div></div></li><li class=\"b_algo\" data-bm=\"8\"><h2><a target=\"_blank\" href=\"https://baike.baidu.com/item/Winter\" h=\"ID=SERP,5144.1\">Winter_百度百科</a></h2><div class=\"b_caption\"><p>声明：百科词条人人可编辑，词条创建和修改均免费，绝不存在官方及代理商付费代编，请勿上当受骗。详情&gt;&gt;</p><div class=\"b_attribution\" u=\"1|5055|4600717495834615|LtdgntAy-34sKltmaw41Z2hAnAHur3e-\"><cite>https://baike.baidu.com/item/<strong>Winter</strong></cite><a href=\"#\" aria-label=\"此网站的操作\" aria-haspopup=\"true\" aria-expanded=\"false\" role=\"button\"><span class=\"c_tlbxTrg\"><span class=\"c_tlbxTrgIcn sw_ddgn\"></span><span class=\"c_tlbxH\" h=\"BASE:CACHEDPAGEDEFAULT\" k=\"SERP,5145.1\"></span></span></a></div></div></li><li class=\"b_ans b_mop\" h=\"SERP,5391.1\" data-bm=\"9\"><h2 class=\"\"><a href=\"http://y.qq.com/#type=song&amp;id=1056783\" h=\"ID=SERP,5393.1\" target=\"_blank\"><strong><strong>Winter</strong></strong>_<strong>岸部真明</strong>_在线试听歌词_QQ音乐</a></h2> <div class=\"b_imagePair square_mp\"><div class=\"inner\"><div class=\"image_wrapper\" style=\"width:80px\"><div class=\"cico\" style=\"width:80px;height:80px;\"><a href=\"http://y.qq.com/#type=album&amp;id=90170\" h=\"ID=SERP,5394.1\" target=\"_blank\"><img src=\"https://s.cn.bing.net/th?id=OSA.mf4G6we7VABEDw&amp;w=80&amp;h=80&amp;c=8&amp;rs=1&amp;pid=SatAns\" height=\"80\" width=\"80\" alt=\" \" class=\"rms_img\" data-bm=\"36\"></a></div></div></div><div class=\"b_hPanel\"><span><ul class=\"b_vList\"><li><div class=\"b_hPanel\"><span>歌手：<a href=\"http://y.qq.com/#type=singer&amp;id=38239\" h=\"ID=SERP,5396.1\" target=\"_blank\">岸部真明</a></span></div></li><li><div class=\"b_hPanel\"><span>专辑：<a href=\"http://y.qq.com/#type=album&amp;id=90170\" h=\"ID=SERP,5398.1\" target=\"_blank\">《Growing Up》</a></span></div></li></ul></span></div><div class=\"b_hPanel\"><span><a class=\"msn_btn\" href=\"http://y.qq.com/#type=song&amp;id=1056783\" h=\"ID=SERP,5400.1\" target=\"_blank\"><div class=\"standard\">在线试听</div></a></span><span><a class=\"msn_btn\" href=\"http://y.qq.com/#type=song&amp;id=1056783#lrc\" h=\"ID=SERP,5402.1\" target=\"_blank\"><div class=\"standard\">查看歌词</div></a></span></div> <div class=\"b_attribution\"><cite>y.qq.com</cite></div></div></li><li class=\"b_algo\" data-bm=\"10\"><div class=\"b_title\"><h2><a target=\"_blank\" href=\"https://en.wikipedia.org/wiki/Winter\" h=\"ID=SERP,5166.1\">Winter - Wikipedia</a></h2><div class=\"b_suffix b_secondaryText nowrap\"><div><a target=\"_blank\" href=\"http://www.microsofttranslator.com/bv.aspx?ref=SERP&amp;br=ro&amp;mkt=zh-CN&amp;dl=zh&amp;lp=EN_ZH-CHS&amp;a=https%3a%2f%2fen.wikipedia.org%2fwiki%2fWinter\" h=\"ID=SERP,5172.1\">翻译此页</a></div>&nbsp;|&nbsp;<div><a target=\"_blank\" href=\"http:https://zh.wikipedia.org/wiki/%E5%86%AC%E5%AD%A3\" h=\"ID=SERP,5160.1\">中文网页</a></div></div></div><div class=\"b_caption\"><p>2019-10-15 · <strong>Winter</strong> is the coldest season of the year in polar and temperate zones (<strong>winter</strong> does not occur in most of the tropical zone).It occurs after autumn and before spring in each year. <strong>Winter</strong> is caused by the axis of the Earth in that hemisphere being oriented away from the Sun.Different cultures define different dates as the start of <strong>winter</strong>, and some use a definition based on weather.</p><ul class=\"b_factrow\"><li><a target=\"_blank\" href=\"https://en.wikipedia.org/wiki/Winter#Etymology\" h=\"ID=SERP,5154.1\">Etymology</a> · </li><li><a target=\"_blank\" href=\"https://en.wikipedia.org/wiki/Winter#Cause\" h=\"ID=SERP,5155.1\">Cause</a> · </li><li><a target=\"_blank\" href=\"https://en.wikipedia.org/wiki/Winter#Meteorological_reckoning\" h=\"ID=SERP,5156.1\">Meteorological reckoning</a> · </li><li><a target=\"_blank\" href=\"https://en.wikipedia.org/wiki/Winter#Ecological_reckoning_and_activity\" h=\"ID=SERP,5158.1\">Ecological reckoning and activity</a></li></ul><div class=\"b_attribution\" u=\"2|5056|4754202444892162|q8VaySEan8px9jpV5QiZeyhVbn-Mi6Vb\"><cite>https://en.wikipedia.org/wiki/<strong>Winter</strong></cite><a href=\"#\" aria-label=\"此网站的操作\" aria-haspopup=\"true\" aria-expanded=\"false\" role=\"button\"><span class=\"c_tlbxTrg\"><span class=\"c_tlbxTrgIcn sw_ddgn\"></span><span class=\"c_tlbxH\" h=\"BASE:CACHEDPAGEDEFAULT\" k=\"SERP,5167.1\"></span></span></a></div></div></li><li class=\"b_ans b_mop\" h=\"SERP,5417.1\" data-bm=\"11\"><div class=\"irphead\"><h2 class=\"\"><a href=\"/images/search?q=winter&amp;qpvt=winter&amp;FORM=IGRE\" h=\"ID=SERP,5075.1\" target=\"_blank\">Winter的图片</a></h2></div><div class=\"b_rich\"><div class=\"iaplanner\"><div class=\"irpserp irpdg b_mBMargin\"><div class=\"irp\" style=\"width: 608px; height: 105px\"><div class=\"irpu\" style=\"width:160px;height:105px;left:0px;top:0px;\"><a style=\"width:160px;height:105px;\" ihk=\"/th?id=OIP.vYx5n-iUkX-bmVbmlslAEwHaEZ&amp;pid=3.1&amp;cb=\" t3=\"www.canadianaffair.com\" t4=\"2560 × 1520 · jpeg\" aria-label=\"搜索 Winter 的图像\" m=\"{ns:&quot;SERP&quot;,k:&quot;5418&quot;}\" href=\"/images/search?q=winter&amp;id=3CCCF4D4BA7A0485C8A6A63B97D77BF3B7C23D18&amp;FORM=IQFRBA\" h=\"ID=SERP,5418.1\" target=\"_blank\"><img class=\"sgt rms_img\" data-src-hq=\"https://tse1-mm.cn.bing.net/th?id=OIP.vYx5n-iUkX-bmVbmlslAEwHaEZ&amp;w=160&amp;h=105&amp;c=8&amp;rs=1&amp;qlt=90&amp;pid=3.1&amp;rm=2\" data-priority=\"2\" width=\"160\" height=\"105\" alt=\"Winter 的图像结果\" id=\"emb27D85A53\" src=\"https://tse1-mm.cn.bing.net/th?id=OIP.vYx5n-iUkX-bmVbmlslAEwHaEZ&amp;w=160&amp;h=105&amp;c=8&amp;rs=1&amp;qlt=90&amp;pid=3.1&amp;rm=2\" data-bm=\"37\"></a></div><div class=\"irpu\" style=\"width:126px;height:105px;left:161px;top:0px;\"><a style=\"width:126px;height:105px;\" ihk=\"/th?id=OIP.UNsslZV6uA1FdDhKXC94sgHaFj&amp;pid=3.1&amp;cb=\" t3=\"www.wallpapers13.com\" t4=\"1024 × 768 · jpeg\" aria-label=\"搜索 Winter 的图像\" m=\"{ns:&quot;SERP&quot;,k:&quot;5419&quot;}\" href=\"/images/search?q=winter&amp;id=0A79B49C83B2161D872F35B8B3A2A81E55EC8642&amp;FORM=IQFRBA\" h=\"ID=SERP,5419.1\" target=\"_blank\"><img class=\"sgt rms_img\" data-src-hq=\"https://tse1-mm.cn.bing.net/th?id=OIP.UNsslZV6uA1FdDhKXC94sgHaFj&amp;w=126&amp;h=105&amp;c=8&amp;rs=1&amp;qlt=90&amp;pid=3.1&amp;rm=2\" data-priority=\"2\" width=\"126\" height=\"105\" alt=\"Winter 的图像结果\" id=\"emb15B4730B1\" src=\"https://tse1-mm.cn.bing.net/th?id=OIP.UNsslZV6uA1FdDhKXC94sgHaFj&amp;w=126&amp;h=105&amp;c=8&amp;rs=1&amp;qlt=90&amp;pid=3.1&amp;rm=2\" data-bm=\"38\"></a></div><div class=\"irpu\" style=\"width:159px;height:105px;left:288px;top:0px;\"><a style=\"width:159px;height:105px;\" ihk=\"/th?id=OIP.ha2kwmtpesn7q7ofW5IkiAHaEb&amp;pid=3.1&amp;cb=\" t3=\"www.aschau.de\" t4=\"1920 × 1150 · jpeg\" aria-label=\"搜索 Winter 的图像\" m=\"{ns:&quot;SERP&quot;,k:&quot;5420&quot;}\" href=\"/images/search?q=winter&amp;id=9C19935A7A501BAAC5E9C2126369B79E993A4255&amp;FORM=IQFRBA\" h=\"ID=SERP,5420.1\" target=\"_blank\"><img class=\"sgt rms_img\" data-src-hq=\"https://tse1-mm.cn.bing.net/th?id=OIP.ha2kwmtpesn7q7ofW5IkiAHaEb&amp;w=159&amp;h=105&amp;c=8&amp;rs=1&amp;qlt=90&amp;pid=3.1&amp;rm=2\" data-priority=\"2\" width=\"159\" height=\"105\" alt=\"Winter 的图像结果\" id=\"emb24F8E3064\" src=\"https://tse1-mm.cn.bing.net/th?id=OIP.ha2kwmtpesn7q7ofW5IkiAHaEb&amp;w=159&amp;h=105&amp;c=8&amp;rs=1&amp;qlt=90&amp;pid=3.1&amp;rm=2\" data-bm=\"39\"></a></div><div class=\"irpu\" style=\"width:160px;height:105px;left:448px;top:0px;\"><a style=\"width:160px;height:105px;\" ihk=\"/th?id=OIP.Guj-LuLmTihBUMFAQbuQaAHaEZ&amp;pid=3.1&amp;cb=\" t3=\"www.canadianaffair.com\" t4=\"2560 × 1520 · jpeg\" aria-label=\"搜索 Winter 的图像\" m=\"{ns:&quot;SERP&quot;,k:&quot;5421&quot;}\" href=\"/images/search?q=winter&amp;id=3CCCF4D4BA7A0485C8A6C22F54B901D3E981272C&amp;FORM=IQFRBA\" h=\"ID=SERP,5421.1\" target=\"_blank\"><img class=\"sgt rms_img\" data-src-hq=\"https://tse1-mm.cn.bing.net/th?id=OIP.Guj-LuLmTihBUMFAQbuQaAHaEZ&amp;w=160&amp;h=105&amp;c=8&amp;rs=1&amp;qlt=90&amp;pid=3.1&amp;rm=2\" data-priority=\"2\" width=\"160\" height=\"105\" alt=\"Winter 的图像结果\" id=\"emb327D35E70\" src=\"https://tse1-mm.cn.bing.net/th?id=OIP.Guj-LuLmTihBUMFAQbuQaAHaEZ&amp;w=160&amp;h=105&amp;c=8&amp;rs=1&amp;qlt=90&amp;pid=3.1&amp;rm=2\" data-bm=\"40\"></a></div></div></div><a title=\"\" class=\"b_moreLink\" href=\"/images/search?q=winter&amp;qpvt=winter&amp;FORM=IQFRML\" h=\"ID=SERP,5440.1\" target=\"_blank\">查看 Winter 的更多图片</a></div></div></li><li class=\"b_algo\" data-bm=\"12\"><h2><a target=\"_blank\" href=\"https://www.zhihu.com/people/winter-25\" h=\"ID=SERP,5181.1\">winter - 知乎</a></h2><div class=\"b_caption\"><p>知乎吃枣药丸 回答数 1,252，获得 113,118 次赞同 ... 是个有益的尝试，但我谨慎地不看好，工作效率这事真的太复杂，不看手机只是很小的一点。</p><div class=\"b_attribution\" u=\"3|5057|4984983925358696|5vYR349arE3a6JMsHWFynvmvC8FVNDke\"><cite>https://www.zhihu.com/people/<strong>winter</strong>-25</cite><a href=\"#\" aria-label=\"此网站的操作\" aria-haspopup=\"true\" aria-expanded=\"false\" role=\"button\"><span class=\"c_tlbxTrg\"><span class=\"c_tlbxTrgIcn sw_ddgn\"></span><span class=\"c_tlbxH\" h=\"BASE:CACHEDPAGEDEFAULT\" k=\"SERP,5182.1\"></span></span></a></div></div></li><li class=\"b_algo\" data-bm=\"13\"><div class=\"b_title\"><h2><a target=\"_blank\" href=\"https://www.britannica.com/science/winter\" h=\"ID=SERP,5195.1\">Winter | season | Britannica.com</a></h2><div class=\"b_suffix b_secondaryText nowrap\"><div><a target=\"_blank\" href=\"http://www.microsofttranslator.com/bv.aspx?ref=SERP&amp;br=ro&amp;mkt=zh-CN&amp;dl=zh&amp;lp=EN_ZH-CHS&amp;a=https%3a%2f%2fwww.britannica.com%2fscience%2fwinter\" h=\"ID=SERP,5201.1\">翻译此页</a></div></div></div><div class=\"b_caption\"><p><strong>Winter</strong>, coldest season of the year, between autumn and spring; the name comes from an old Germanic word that means “time of water” and refers to the rain and snow of <strong>winter</strong> in middle and high latitudes. In the Northern Hemisphere it is commonly regarded as extending from the <strong>winter</strong> solstice (year’s</p><div class=\"b_attribution\" u=\"4|5058|4845298703337860|elER0yBbOuubYyTEVkWeSl5JeZX4T8cm\"><cite>https://www.britannica.com/science/<strong>winter</strong></cite><a href=\"#\" aria-label=\"此网站的操作\" aria-haspopup=\"true\" aria-expanded=\"false\" role=\"button\"><span class=\"c_tlbxTrg\"><span class=\"c_tlbxTrgIcn sw_ddgn\"></span><span class=\"c_tlbxH\" h=\"BASE:CACHEDPAGEDEFAULT\" k=\"SERP,5196.1\"></span></span></a></div></div></li><li class=\"b_ans b_mop\" h=\"SERP,5447.1\" data-bm=\"14\"><div id=\"vidans2\"><h2 class=\"\"><a href=\"/videos/search?q=Winter&amp;qpvt=Winter&amp;FORM=VDRE\" h=\"ID=SERP,5080.1\" target=\"_blank\">Winter 的视频</a></h2><div class=\"b_rich\"><div class=\"vidrc\"><div class=\"vidr b_lBottom idx0\"><div class=\"b_mBottom\"><div class=\"vtv2\" vhk2=\"\" sh=\"/th?id=OVP.fAkF01Vi6iRrp7C2cqI1QgEsDT&amp;w=330&amp;h=232&amp;c=7&amp;rs=1&amp;p=0&amp;pid=1.7\" t1=\"\" t3=\"\" hw=\"300\" hh=\"211\" vrhm=\"\" mid=\"C3373BD680936D14D9F2C3373BD680936D14D9F2\" data-tag=\"\"><a class=\"vt11b\" aria-label=\"Winter\" href=\"https://v.youku.com/v_show/id_XMjk4MjY3NDI4.html\" h=\"ID=SERP,5448.1\" target=\"_blank\"><img alt=\"Winter\" dpr=\"1\" width=\"195\" height=\"108\" id=\"emb4222D65D8\" class=\"rms_img\" src=\"data:image/jpeg;base64,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\" data-bm=\"41\"><span class=\"vthv b_foregroundText\"><span>单击在 youku 上查看</span></span><div class=\"vtpi\"></div><div class=\"vt_text b_lRight b_smText b_foregroundText\"><span class=\"b_lLeft plc\"><div calleranswer=\"MultimediaComponents\" class=\"rms_img rms_rmsanswersMultimediaVideoAnswer_ExternalPlay rms_rmsanswersMultimediaVideoAnswer_Bundle\" data-bm=\"42\"></div></span><span class=\"b_lLeft\">3:38</span></div><div class=\"vidr_info\"><div class=\"title\"><div class=\"va_title_mmftb\">Winter</div></div><div class=\"vidr_metainfo_mmftb\"><div class=\"b_factrow\">2.6K 个浏览人数 · 8月 25, 2011</div><div class=\"b_factrow\"><span class=\"vidr_meta_source\">youku › 音乐大杂烩</span></div></div></div></a></div></div></div><div class=\"vidr b_lBottom idx1\"><div class=\"b_mBottom\"><div class=\"vtv2\" vhk2=\"\" sh=\"/th?id=OVP.KHa_h7iVaVzSvgXhGiZqgQDwCw&amp;w=240&amp;h=176&amp;c=7&amp;rs=1&amp;p=0&amp;pid=1.7\" t1=\"\" t3=\"\" hw=\"240\" hh=\"176\" vrhm=\"\" mid=\"ABEF27D1267A236E729BABEF27D1267A236E729B\" data-tag=\"\"><a class=\"vt11b\" aria-label=\"Winter,Again - GLAY\" href=\"http://v.yinyuetai.com/video/17623\" h=\"ID=SERP,5449.1\" target=\"_blank\"><img alt=\"Winter,Again - GLAY\" dpr=\"1\" width=\"195\" height=\"108\" id=\"emb520F75601\" class=\"rms_img\" src=\"data:image/jpeg;base64,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\" data-bm=\"43\"><span class=\"vthv b_foregroundText\"><span>单击在 音悦Tai 上查看</span></span><div class=\"vtpi\"></div><div class=\"vt_text b_lRight b_smText b_foregroundText\"><span class=\"b_lLeft plc\"><div calleranswer=\"MultimediaComponents\" class=\"rms_img rms_rmsanswersMultimediaVideoAnswer_ExternalPlay rms_rmsanswersMultimediaVideoAnswer_Bundle\" data-bm=\"44\"></div></span></div><div class=\"vidr_info\"><div class=\"title\"><div class=\"va_title_mmftb\">Winter,Again - GLAY</div></div><div class=\"vidr_metainfo_mmftb\"><div class=\"b_factrow\">12月 1, 2009</div><div class=\"b_factrow\"><span class=\"vidr_meta_source\">音悦Tai › 寒武纪阳女</span></div></div></div></a></div></div></div><div class=\"vidr b_lBottom idx2\"><div class=\"b_mBottom\"><div class=\"vtv2\" vhk2=\"\" sh=\"/th?id=OVP.37osMnfudftMPN870KYxbgDwCH&amp;w=240&amp;h=135&amp;c=7&amp;rs=1&amp;p=0&amp;pid=1.7\" t1=\"\" t3=\"\" hw=\"240\" hh=\"135\" vrhm=\"\" mid=\"93BF3AD10C7ADB34071D93BF3AD10C7ADB34071D\" data-tag=\"\"><a class=\"vt11b\" aria-label=\"Winter Story 现场版 - SCANDAL\" href=\"http://v.yinyuetai.com/video/3035525\" h=\"ID=SERP,5453.1\" target=\"_blank\"><img alt=\"Winter Story 现场版 - SCANDAL\" dpr=\"1\" width=\"195\" height=\"108\" id=\"emb6543E8F79\" class=\"rms_img\" src=\"data:image/jpeg;base64,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\" data-bm=\"45\"><span class=\"vthv b_foregroundText\"><span>单击在 音悦Tai 上查看</span></span><div class=\"vtpi\"></div><div class=\"vt_text b_lRight b_smText b_foregroundText\"><span class=\"b_lLeft plc\"><div calleranswer=\"MultimediaComponents\" class=\"rms_img rms_rmsanswersMultimediaVideoAnswer_ExternalPlay rms_rmsanswersMultimediaVideoAnswer_Bundle\" data-bm=\"46\"></div></span></div><div class=\"vidr_info\"><div class=\"title\"><div class=\"va_title_mmftb\">Winter Story 现场版 - SCANDAL</div></div><div class=\"vidr_metainfo_mmftb\"><div class=\"b_factrow\">9月 6, 2017</div><div class=\"b_factrow\"><span class=\"vidr_meta_source\">音悦Tai › didsoon</span></div></div></div></a></div></div></div></div><a title=\"观看更多视频\" class=\"b_moreLink\" href=\"/videos/search?q=Winter&amp;qpvt=Winter&amp;FORM=VQFRML\" h=\"ID=SERP,5080.2\" target=\"_blank\">观看 Winter 的更多视频</a></div></div></li><li class=\"b_algo\" data-bm=\"15\"><div class=\"b_title\"><h2><a target=\"_blank\" href=\"https://dictionary.cambridge.org/dictionary/english/winter\" h=\"ID=SERP,5210.1\">WINTER | meaning in the Cambridge English Dictionary</a></h2><div class=\"b_suffix b_secondaryText nowrap\"><div><a target=\"_blank\" href=\"http://www.microsofttranslator.com/bv.aspx?ref=SERP&amp;br=ro&amp;mkt=zh-CN&amp;dl=zh&amp;lp=EN_ZH-CHS&amp;a=https%3a%2f%2fdictionary.cambridge.org%2fdictionary%2fenglish%2fwinter\" h=\"ID=SERP,5216.1\">翻译此页</a></div></div></div><div class=\"b_caption\"><p><strong>winter</strong> definition: 1. the season between autumn and spring, lasting from November to March north of the equator and…. Learn more.</p><div class=\"b_attribution\" u=\"5|5059|5049721966365970|6qLbt9eGjw_4WWKanc96H9PSNWIYQT9e\"><cite>https://dictionary.cambridge.org/dictionary/english/<strong>winter</strong></cite><a href=\"#\" aria-label=\"此网站的操作\" aria-haspopup=\"true\" aria-expanded=\"false\" role=\"button\"><span class=\"c_tlbxTrg\"><span class=\"c_tlbxTrgIcn sw_ddgn\"></span><span class=\"c_tlbxH\" h=\"BASE:CACHEDPAGEDEFAULT\" k=\"SERP,5211.1\"></span></span></a></div></div></li><li class=\"b_algo\" data-bm=\"16\"><div class=\"b_title\"><h2><a target=\"_blank\" href=\"https://www.pexels.com/search/winter/\" h=\"ID=SERP,5225.1\">Winter pictures · Pexels · Free Stock Photos</a></h2><div class=\"b_suffix b_secondaryText nowrap\"><div><a target=\"_blank\" href=\"http://www.microsofttranslator.com/bv.aspx?ref=SERP&amp;br=ro&amp;mkt=zh-CN&amp;dl=zh&amp;lp=EN_ZH-CHS&amp;a=https%3a%2f%2fwww.pexels.com%2fsearch%2fwinter%2f\" h=\"ID=SERP,5231.1\">翻译此页</a></div></div></div><div class=\"b_caption\"><p>Related searches: summer spring autumn snow christmas Browse through a lot of free <strong>winter</strong> pictures in high resolution. We have dozens of snow, christmas and a lot more <strong>winter</strong> related images.</p><div class=\"b_attribution\" u=\"6|5060|4739019739170206|obys8g-TbR1rDprcj6AwJF0kzBlsH-47\"><cite>https://www.pexels.com/search/<strong>winter</strong></cite><a href=\"#\" aria-label=\"此网站的操作\" aria-haspopup=\"true\" aria-expanded=\"false\" role=\"button\"><span class=\"c_tlbxTrg\"><span class=\"c_tlbxTrgIcn sw_ddgn\"></span><span class=\"c_tlbxH\" h=\"BASE:CACHEDPAGEDEFAULT\" k=\"SERP,5226.1\"></span></span></a></div></div></li><li class=\"b_algo\" data-bm=\"17\"><div class=\"b_title\"><h2><a target=\"_blank\" href=\"https://www.goodreads.com/book/show/13206900-winter\" h=\"ID=SERP,5248.1\">Winter (The Lunar Chronicles, #4) by Marissa Meyer</a></h2><div class=\"b_suffix b_secondaryText nowrap\"><div><a target=\"_blank\" href=\"http://www.microsofttranslator.com/bv.aspx?ref=SERP&amp;br=ro&amp;mkt=zh-CN&amp;dl=zh&amp;lp=EN_ZH-CHS&amp;a=https%3a%2f%2fwww.goodreads.com%2fbook%2fshow%2f13206900-winter\" h=\"ID=SERP,5254.1\">翻译此页</a></div></div></div><div class=\"b_caption\"><div class=\"b_factrow b_twofr\"><div class=\"b_vlist2col\"><ul><li><div>用户评级: 4.5/5</div></li><li><div>163,613 条评分</div></li></ul><ul><li><div>22,407 条评论</div></li></ul></div></div><p>2015-11-10 · Princess <strong>Winter</strong> is admired by the Lunar people for her grace and kindness, and despite the scars that mark her face, her beauty is said to be even more breathtaking than that of her stepmother, Queen Levana. <strong>Winter</strong> despises her stepmother, and knows …</p><div class=\"b_attribution\" u=\"7|5061|4570137329865220|1vINCr8nSSMeQkWK7DAiOtIKD4W2Joeo\"><cite>https://www.goodreads.com/book/show/13206900</cite><a href=\"#\" aria-label=\"此网站的操作\" aria-haspopup=\"true\" aria-expanded=\"false\" role=\"button\"><span class=\"c_tlbxTrg\"><span class=\"c_tlbxTrgIcn sw_ddgn\"></span><span class=\"c_tlbxH\" h=\"BASE:CACHEDPAGEDEFAULT\" k=\"SERP,5249.1\"></span></span></a></div></div></li><li class=\"b_algo\" data-bm=\"18\"><h2><a target=\"_blank\" href=\"http://sports.sina.com.cn/winter/\" h=\"ID=SERP,5263.1\">冰雪_综合体育_新浪体育_新浪网</a></h2><div class=\"b_caption\"><p>关注新浪冰雪，关注2022北京冬奥会 ... 里程碑！新浪杯奥地利索尔登站完美落幕 赵宏博：中国女单稍微有点不在轨道 但努力向好</p><div class=\"b_attribution\" u=\"8|5062|4555994003212575|s-PIYCTVbtkX08KYisJvSpqE0uyUxxH9\"><cite>sports.sina.com.cn/<strong>winter</strong></cite><a href=\"#\" aria-label=\"此网站的操作\" aria-haspopup=\"true\" aria-expanded=\"false\" role=\"button\"><span class=\"c_tlbxTrg\"><span class=\"c_tlbxTrgIcn sw_ddgn\"></span><span class=\"c_tlbxH\" h=\"BASE:CACHEDPAGEDEFAULT\" k=\"SERP,5264.1\"></span></span></a></div></div></li><li class=\"b_algo\" data-bm=\"19\"><div class=\"b_title\"><h2><a target=\"_blank\" href=\"https://en.wikipedia.org/wiki/Winter_%28dolphin%29\" h=\"ID=SERP,5303.1\">Winter (dolphin) - Wikipedia</a></h2><div class=\"b_suffix b_secondaryText nowrap\"><div><a target=\"_blank\" href=\"http://www.microsofttranslator.com/bv.aspx?ref=SERP&amp;br=ro&amp;mkt=zh-CN&amp;dl=zh&amp;lp=EN_ZH-CHS&amp;a=https%3a%2f%2fen.wikipedia.org%2fwiki%2fWinter_%2528dolphin%2529\" h=\"ID=SERP,5309.1\">翻译此页</a></div>&nbsp;|&nbsp;<div><a target=\"_blank\" href=\"http:https://zh.wikipedia.org/wiki/%E6%BA%AB%E7%89%B9_(%E6%B5%B7%E8%B1%9A)\" h=\"ID=SERP,5279.1\">中文网页</a></div></div></div><div class=\"b_caption\"><div class=\"b_factrow b_twofr\"><div class=\"b_vlist2col\"><ul><li><div><span>Born: </span><a title=\"circa\" href=\"/search?q=Circa+wikipedia&amp;FORM=LFACTRE\" h=\"ID=SERP,5287.1\">circa</a><span> October 2005 (age 13), In or near </span><a title=\"…\" href=\"/search?q=Mosquito+Lagoon+wikipedia&amp;FORM=LFACTRE\" h=\"ID=SERP,5289.1\">…</a></div></li><li><div><span>Species: </span><a title=\"Tursiops truncatus\" href=\"/search?q=Common+bottlenose+dolphin+wikipedia&amp;FORM=LFACTRE\" h=\"ID=SERP,5300.1\">Tursiops truncatus</a></div></li></ul><ul><li><div><span>Notable role: </span><span>Herself in </span><a title=\"Dolphin Tale\" href=\"/search?q=Dolphin+Tale+wikipedia&amp;FORM=LFACTRE\" h=\"ID=SERP,5295.1\">Dolphin Tale</a><span> and </span><a title=\"Dolphin Tale 2\" href=\"/search?q=Dolphin+Tale+2+wikipedia&amp;FORM=LFACTRE\" h=\"ID=SERP,5297.1\">Dolphin Tale 2</a></div></li><li><div>Years active: 2005–present</div></li></ul></div></div><p>2019-10-14 · <strong>Winter</strong> (born circa October 2005) is a bottlenose dolphin at the Clearwater Marine Aquarium in Clearwater, Florida, US, widely known for having a prosthetic tail. She is the subject of the book Dolphin Tale, and the 2011 film of the same name, a dramatization of her story, and the sequel Dolphin Tale 2. <strong>Winter</strong> was found in the coastal waters of ...</p><div class=\"b_attribution\" u=\"9|5063|4639741564620551|MLD9bvrIvpY96R3eOiRbYlDajus98qcp\"><cite>https://en.wikipedia.org/wiki/<strong>Winter</strong>_(dolphin)</cite><a href=\"#\" aria-label=\"此网站的操作\" aria-haspopup=\"true\" aria-expanded=\"false\" role=\"button\"><span class=\"c_tlbxTrg\"><span class=\"c_tlbxTrgIcn sw_ddgn\"></span><span class=\"c_tlbxH\" h=\"BASE:CACHEDPAGEDEFAULT\" k=\"SERP,5304.1\"></span></span></a></div></div></li><li class=\"b_ans\" h=\"SERP,5484.1\" data-bm=\"20\"><div id=\"ans_nws\" class=\"ans_nws\" data-tag=\"NewsAnswer.Container\"><div id=\"nws_ht\" class=\"nws_sh\"><h2 class=\"\"><strong>Winter</strong>的最新相关信息</h2></div><div class=\"nosmab\"><div class=\"na_cnt\" data-priority=\"\"><div id=\"na_cl\" class=\"na_cl bc hidecvn\"><div id=\"slideexp0_949445c\" class=\"b_slideexp\" data-wire=\"I;slideexp_init;; |B;select;;I|F;selected;;O|F;active;;O|\" data-control-id=\"slideexp0_949445\" data-appns=\"SERP\" data-k=\"5544.1\" data-stk=\"\"><div class=\"b_overlay\"><div id=\"slideexp0_949445chevrons_prevbtn\" class=\"btn  disabled prev rounded bld\" data-dir=\"\"><div class=\"bg\"><span></span></div><div class=\"vcac\"><div style=\"height: 32px; margin-top: -16px;\"><div class=\"cr\"><div></div></div></div></div></div><div id=\"slideexp0_949445chevrons_nextbtn\" class=\"btn  disabled next rounded bld\" data-dir=\"\"><div class=\"bg\"><span></span></div><div class=\"vcac\"><div style=\"height: 32px; margin-top: -16px;\"><div class=\"cr\"><div></div></div></div></div></div><div style=\"overflow: hidden; height: 244px;\"><div class=\"b_viewport scrollbar\" nativescrollingenabled=\"1\" style=\"height: 244px; margin-bottom: -30px; padding-bottom: 30px;\"><div class=\"b_slidebar\" id=\"slideexp0_949445\" role=\"list\" aria-label=\"请使用箭头键进行导航\" style=\"height: 236px;\"><div class=\"slide\" data-dataurl=\"\" data-rinterval=\"\" data-appns=\"SERP\" data-k=\"5541.1\" tabindex=\"0\" role=\"listitem\"><div id=\"na_nl0\" class=\"nws_cwrp na_citem\" url=\"http://news.china-ef.com/658113.html\" titletext=\"【E·BECKY依贝奇】2019/WINTER冬季新品首发\" data-priority=\"\"><a class=\"na_ccw\" href=\"http://news.china-ef.com/658113.html\" h=\"ID=SERP,5495.1\" target=\"_blank\"><div class=\"citm_img\" tabindex=\"-1\"><img tabindex=\"-1\" data-src-hq=\"/th?id=ON.9670D6B29B59277F82FB20C77E00E176&amp;pid=News&amp;w=197&amp;h=112&amp;c=14&amp;rs=2&amp;qlt=90\" data-priority=\"2\" title=\"【E·BECKY依贝奇】2019/WINTER冬季新品首发\" width=\"197\" height=\"112\" id=\"emb70E25E4F7\" class=\"rms_img\" src=\"/th?id=ON.9670D6B29B59277F82FB20C77E00E176&amp;pid=News&amp;w=197&amp;h=112&amp;c=14&amp;rs=2&amp;qlt=90\" data-bm=\"47\"></div><div class=\"b_cap citm_cap wimg\"><div class=\"na_t\" style=\"-webkit-line-clamp:2\">【E·BECKY依贝奇】2019/WINTER冬季新品首发</div><div class=\"news_footer\"><div class=\"b_attribution\"><cite title=\"中国品牌服装网\">中国品牌服装网<span class=\"b_secondaryText\">&nbsp;· 14 小时</span></cite></div></div></div></a></div></div><div class=\"slide\" data-dataurl=\"\" data-rinterval=\"\" data-appns=\"SERP\" data-k=\"5542.1\" role=\"listitem\"><div id=\"na_nl1\" class=\"nws_cwrp na_citem\" url=\"http://shanghai.xinmin.cn/latest/2019/11/11/31609212.html\" titletext=\"冬季始于芬兰（Winter starts from Finland）——第二届进博会芬兰国家馆 ...\" data-priority=\"\"><a class=\"na_ccw\" href=\"http://shanghai.xinmin.cn/latest/2019/11/11/31609212.html\" h=\"ID=SERP,5505.1\" target=\"_blank\"><div class=\"citm_img\" tabindex=\"-1\"><img tabindex=\"-1\" data-src-hq=\"/th?id=ON.306A52D2243DFE9944B290A2BC43FA6C&amp;pid=News&amp;w=197&amp;h=112&amp;c=14&amp;rs=2&amp;qlt=90\" data-priority=\"2\" title=\"冬季始于芬兰（Winter starts from Finland）——第二届进博会芬兰国家馆 ...\" width=\"197\" height=\"112\" id=\"emb84434CF85\" class=\"rms_img\" src=\"/th?id=ON.306A52D2243DFE9944B290A2BC43FA6C&amp;pid=News&amp;w=197&amp;h=112&amp;c=14&amp;rs=2&amp;qlt=90\" data-bm=\"48\"></div><div class=\"b_cap citm_cap wimg\"><div class=\"na_t\" style=\"-webkit-line-clamp:3\">冬季始于芬兰（Winter starts from Finland）——第二届进博会芬兰国家馆 ...</div><div class=\"news_footer\"><div class=\"b_attribution\"><cite title=\"新民网\">新民网<span class=\"b_secondaryText\">&nbsp;· 1 天</span></cite></div></div></div></a></div></div><div class=\"slide\" data-dataurl=\"\" data-rinterval=\"\" data-appns=\"SERP\" data-k=\"5543.1\" role=\"listitem\"><div id=\"na_nl2\" class=\"nws_cwrp na_citem\" url=\"https://sports.sina.com.cn/others/winter/2019-11-12/doc-iihnzhfy8661609.shtml\" titletext=\"中国冬季两项队挪威备战 冬奥8金传奇已融入团队\" data-priority=\"\"><a class=\"na_ccw\" href=\"https://sports.sina.com.cn/others/winter/2019-11-12/doc-iihnzhfy8661609.shtml\" h=\"ID=SERP,5515.1\" target=\"_blank\"><div class=\"citm_img\" tabindex=\"-1\"><img tabindex=\"-1\" data-src-hq=\"/th?id=ON.7A6923BAB249312B29B0722A21822368&amp;pid=News&amp;w=197&amp;h=112&amp;c=14&amp;rs=2&amp;qlt=90\" data-priority=\"2\" title=\"中国冬季两项队挪威备战 冬奥8金传奇已融入团队\" width=\"197\" height=\"112\" id=\"emb945DF0AAF\" class=\"rms_img\" src=\"/th?id=ON.7A6923BAB249312B29B0722A21822368&amp;pid=News&amp;w=197&amp;h=112&amp;c=14&amp;rs=2&amp;qlt=90\" data-bm=\"49\"></div><div class=\"b_cap citm_cap wimg\"><div class=\"na_t\" style=\"-webkit-line-clamp:2\">中国冬季两项队挪威备战 冬奥8金传奇已融入团队</div><div class=\"news_footer\"><div class=\"b_attribution\"><cite title=\"新浪网\">新浪网<span class=\"b_secondaryText\">&nbsp;· 21 小时</span></cite></div></div></div></a></div></div></div></div></div></div></div></div></div></div></div></li><li class=\"b_ans\" h=\"SERP,5547.1\" data-bm=\"21\"><div class=\"b_rs\"><h2 class=\"\"><strong>Winter</strong> 的相关搜索</h2><div class=\"b_rich\"><div class=\"b_vlist2col\"><ul><li><a href=\"/search?q=summer&amp;FORM=QSRE1\" h=\"ID=SERP,5548.1\">summer</a></li><li><a href=\"/search?q=autumn&amp;FORM=QSRE2\" h=\"ID=SERP,5549.1\">autumn</a></li><li><a href=\"/search?q=snow&amp;FORM=QSRE3\" h=\"ID=SERP,5550.1\">snow</a></li><li><a href=\"/search?q=ike&amp;FORM=QSRE4\" h=\"ID=SERP,5551.1\">ike</a></li></ul><ul><li><a href=\"/search?q=ikea+hk&amp;FORM=QSRE5\" h=\"ID=SERP,5552.1\">ikea hk</a></li><li><a href=\"/search?q=project+winter&amp;FORM=QSRE6\" h=\"ID=SERP,5553.1\">project <strong>winter</strong></a></li><li><a href=\"/search?q=winter+on+fire&amp;FORM=QSRE7\" h=\"ID=SERP,5554.1\"><strong>winter</strong> on fire</a></li><li><a href=\"/search?q=winter+is+coming&amp;FORM=QSRE8\" h=\"ID=SERP,5555.1\"><strong>winter</strong> is coming</a></li></ul></div></div></div></li><li class=\"b_msg\" data-bm=\"22\">为回应符合本地法律要求的通知，部分搜索结果未予显示。有关详细信息，请参阅<a href=\"http://go.microsoft.com/fwlink/?LinkID=617350\" h=\"ID=SERP,5052.1\">此处</a>。</li><li class=\"b_pag\" data-bm=\"23\"><nav role=\"navigation\" aria-label=\"Winter 的更多搜索结果\"><h4 class=\"b_hide\">分页</h4><ul class=\"sb_pagF\"><li><a class=\"sb_inactP sb_pagP sb_pagP_bp b_widePag sb_bp b_roths\"></a></li><li><a class=\"sb_pagS sb_pagS_bp b_widePag sb_bp\">1</a></li><li><a class=\"b_widePag sb_bp\" aria-label=\"第 2 页\" href=\"/search?q=Winter&amp;qs=n&amp;sp=-1&amp;pq=winter&amp;sc=8-6&amp;sk=&amp;cvid=6AF1531063034617B9327CEEDBD1DD93&amp;first=11&amp;FORM=PERE\" h=\"ID=SERP,5600.1\">2</a></li><li><a class=\"b_widePag sb_bp\" aria-label=\"第 3 页\" href=\"/search?q=Winter&amp;qs=n&amp;sp=-1&amp;pq=winter&amp;sc=8-6&amp;sk=&amp;cvid=6AF1531063034617B9327CEEDBD1DD93&amp;first=21&amp;FORM=PERE1\" h=\"ID=SERP,5601.1\">3</a></li><li><a class=\"b_widePag sb_bp\" aria-label=\"第 4 页\" href=\"/search?q=Winter&amp;qs=n&amp;sp=-1&amp;pq=winter&amp;sc=8-6&amp;sk=&amp;cvid=6AF1531063034617B9327CEEDBD1DD93&amp;first=31&amp;FORM=PERE2\" h=\"ID=SERP,5602.1\">4</a></li><li><a class=\"b_widePag sb_bp\" aria-label=\"第 5 页\" href=\"/search?q=Winter&amp;qs=n&amp;sp=-1&amp;pq=winter&amp;sc=8-6&amp;sk=&amp;cvid=6AF1531063034617B9327CEEDBD1DD93&amp;first=41&amp;FORM=PERE3\" h=\"ID=SERP,5603.1\">5</a></li><li><a class=\"sb_pagN sb_pagN_bp b_widePag sb_bp \" title=\"下一页\" href=\"/search?q=Winter&amp;qs=n&amp;sp=-1&amp;pq=winter&amp;sc=8-6&amp;sk=&amp;cvid=6AF1531063034617B9327CEEDBD1DD93&amp;first=11&amp;FORM=PORE\" h=\"ID=SERP,5604.1\"><div class=\"sw_next\">下一页</div></a></li></ul></nav></li></ol></main><aside aria-label=\"更多结果\"><ol id=\"b_context\"><li class=\"b_ans\" data-bm=\"24\"><div><div><div class=\"b_re\"><div class=\"re_twrap\"><h2 class=\"\">娱乐相关</h2></div><ul class=\"b_hList\"><li><div class=\"image_wrapper\" style=\"width:75px\"><div class=\"cico\" style=\"width:75px;height:75px;\"><a href=\"/search?q=%e4%b8%8a%e6%b5%b7%e9%87%8e%e7%94%9f%e5%8a%a8%e7%89%a9%e5%9b%ad&amp;form=ENRCV1\" h=\"ID=SERP,5562.1\" target=\"_blank\"><img src=\"https://s.cn.bing.net/th?id=OJ.HJuSUOFZrjXXiA&amp;w=75&amp;h=75&amp;pid=MSNJVFeeds\" height=\"75\" width=\"75\" title=\"上海野生动物园\" alt=\" \" class=\"rms_img\" data-bm=\"50\"></a></div></div><div class=\"image_attribution relatedEntityWidth\"><div title=\"上海野生动物园\"><a href=\"/search?q=%e4%b8%8a%e6%b5%b7%e9%87%8e%e7%94%9f%e5%8a%a8%e7%89%a9%e5%9b%ad&amp;form=ENRCV1\" h=\"ID=SERP,5562.2\" target=\"_blank\">上海野生动物园</a></div></div></li><li><div class=\"image_wrapper\" style=\"width:75px\"><div class=\"cico\" style=\"width:75px;height:75px;\"><a href=\"/search?q=%e6%98%86%e6%98%8e%e5%8a%a8%e7%89%a9%e5%9b%ad&amp;form=ENRCV1\" h=\"ID=SERP,5564.1\" target=\"_blank\"><img src=\"https://s.cn.bing.net/th?id=OJ.i9RgM10U4kTbRw&amp;w=75&amp;h=75&amp;pid=MSNJVFeeds\" height=\"75\" width=\"75\" title=\"昆明动物园\" alt=\" \" class=\"rms_img\" data-bm=\"51\"></a></div></div><div class=\"image_attribution relatedEntityWidth\"><div title=\"昆明动物园\"><a href=\"/search?q=%e6%98%86%e6%98%8e%e5%8a%a8%e7%89%a9%e5%9b%ad&amp;form=ENRCV1\" h=\"ID=SERP,5564.2\" target=\"_blank\">昆明动物园</a></div></div></li><li><div class=\"image_wrapper\" style=\"width:75px\"><div class=\"cico\" style=\"width:75px;height:75px;\"><a href=\"/search?q=ODB&amp;form=ENRCV1\" h=\"ID=SERP,5566.1\" target=\"_blank\"><img src=\"https://s.cn.bing.net/th?id=OJ.gHrP18oruFgA9A&amp;w=75&amp;h=75&amp;pid=MSNJVFeeds\" height=\"75\" width=\"75\" title=\"ODB\" alt=\" \" class=\"rms_img\" data-bm=\"57\"></a></div></div><div class=\"image_attribution relatedEntityWidth\"><div title=\"ODB\"><a href=\"/search?q=ODB&amp;form=ENRCV1\" h=\"ID=SERP,5566.2\" target=\"_blank\">ODB</a></div></div></li></ul></div></div><div class=\"msn_ver_sep\" style=\"height:20px\"></div><div><div class=\"b_re\"><div class=\"re_twrap\"><h2 class=\"\">明星</h2></div><ul class=\"b_hList\"><li><div class=\"image_wrapper\" style=\"width:75px\"><div class=\"cico\" style=\"width:75px;height:75px;\"><a href=\"/search?q=summer&amp;form=ENRCV2\" h=\"ID=SERP,5571.1\" target=\"_blank\"><img src=\"https://s.cn.bing.net/th?id=OJ.YPU0PEWP0UbLOg&amp;w=75&amp;h=75&amp;pid=MSNJVFeeds\" height=\"75\" width=\"75\" title=\"summer\" alt=\" \" class=\"rms_img\" data-bm=\"58\"></a></div></div><div class=\"image_attribution relatedEntityWidth\"><div title=\"summer\"><a href=\"/search?q=summer&amp;form=ENRCV2\" h=\"ID=SERP,5571.2\" target=\"_blank\">summer</a></div></div></li><li><div class=\"image_wrapper\" style=\"width:75px\"><div class=\"cico\" style=\"width:75px;height:75px;\"><a href=\"/search?q=%e5%b0%8f%e4%bb%93%e4%bc%98%e5%ad%90&amp;form=ENRCV2\" h=\"ID=SERP,5573.1\" target=\"_blank\"><img src=\"https://s.cn.bing.net/th?id=OJ.0U0ESHV3Sg7R3w&amp;w=75&amp;h=75&amp;pid=MSNJVFeeds\" height=\"75\" width=\"75\" title=\"小仓优子\" alt=\" \" class=\"rms_img\" data-bm=\"59\"></a></div></div><div class=\"image_attribution relatedEntityWidth\"><div title=\"小仓优子\"><a href=\"/search?q=%e5%b0%8f%e4%bb%93%e4%bc%98%e5%ad%90&amp;form=ENRCV2\" h=\"ID=SERP,5573.2\" target=\"_blank\">小仓优子</a></div></div></li><li><div class=\"image_wrapper\" style=\"width:75px\"><div class=\"cico\" style=\"width:75px;height:75px;\"><a href=\"/search?q=%e6%9e%97%e5%87%a1&amp;form=ENRCV2\" h=\"ID=SERP,5575.1\" target=\"_blank\"><img src=\"https://s.cn.bing.net/th?id=OJ.3MEmpds0PEj6cQ&amp;w=75&amp;h=75&amp;pid=MSNJVFeeds\" height=\"75\" width=\"75\" title=\"林凡\" alt=\" \" class=\"rms_img\" data-bm=\"52\"></a></div></div><div class=\"image_attribution relatedEntityWidth\"><div title=\"林凡\"><a href=\"/search?q=%e6%9e%97%e5%87%a1&amp;form=ENRCV2\" h=\"ID=SERP,5575.2\" target=\"_blank\">林凡</a></div></div></li></ul></div></div><div class=\"msn_ver_sep\" style=\"height:20px\"></div><div><div class=\"b_re\"><div class=\"re_twrap\"><h2 class=\"\">其他人还搜</h2></div><ul class=\"b_hList\"><li><div class=\"image_wrapper\" style=\"width:75px\"><div class=\"cico\" style=\"width:75px;height:75px;\"><a href=\"/search?q=spring&amp;amp;form=ENRCV3\" h=\"ID=SERP,5578.1\" target=\"_blank\"><img src=\"https://s.cn.bing.net/th?id=OJ.1FNhzpHpHmhcGQ&amp;w=75&amp;h=75&amp;c=8&amp;pid=MSNJVFeeds\" height=\"75\" width=\"75\" title=\"spring\" alt=\" \" class=\"rms_img\" data-bm=\"53\"></a></div></div><div class=\"image_attribution relatedEntityWidth\"><div title=\"spring\"><a href=\"/search?q=spring&amp;amp;form=ENRCV3\" h=\"ID=SERP,5578.2\" target=\"_blank\">spring</a></div></div></li><li><div class=\"image_wrapper\" style=\"width:75px\"><div class=\"cico\" style=\"width:75px;height:75px;\"><a href=\"/search?q=%e5%86%ac%e5%a4%a9&amp;amp;form=ENRCV3\" h=\"ID=SERP,5580.1\" target=\"_blank\"><img src=\"https://s.cn.bing.net/th?id=OJ.FNGeDsBVat4TsQ&amp;w=75&amp;h=75&amp;c=8&amp;pid=MSNJVFeeds\" height=\"75\" width=\"75\" title=\"冬天\" alt=\" \" class=\"rms_img\" data-bm=\"54\"></a></div></div><div class=\"image_attribution relatedEntityWidth\"><div title=\"冬天\"><a href=\"/search?q=%e5%86%ac%e5%a4%a9&amp;amp;form=ENRCV3\" h=\"ID=SERP,5580.2\" target=\"_blank\">冬天</a></div></div></li><li><div class=\"image_wrapper\" style=\"width:75px\"><div class=\"cico\" style=\"width:75px;height:75px;\"><a href=\"/search?q=%e6%98%86%e8%99%ab&amp;amp;form=ENRCV3\" h=\"ID=SERP,5582.1\" target=\"_blank\"><img src=\"https://s.cn.bing.net/th?id=OJ.4yw3YHv0PKcVsw&amp;w=75&amp;h=75&amp;c=8&amp;pid=MSNJVFeeds\" height=\"75\" width=\"75\" title=\"昆虫\" alt=\" \" class=\"rms_img\" data-bm=\"55\"></a></div></div><div class=\"image_attribution relatedEntityWidth\"><div title=\"昆虫\"><a href=\"/search?q=%e6%98%86%e8%99%ab&amp;amp;form=ENRCV3\" h=\"ID=SERP,5582.2\" target=\"_blank\">昆虫</a></div></div></li></ul></div></div></div></li><li class=\"b_ans\" data-bm=\"25\"><div class=\"b_rrsr\"><h2 class=\"\">相关搜索</h2><ul class=\"b_vList\"><li><a href=\"/search?q=summer&amp;FORM=R5FD\" h=\"ID=SERP,5590.1\">summer</a></li><li><a href=\"/search?q=autumn&amp;FORM=R5FD1\" h=\"ID=SERP,5591.1\">autumn</a></li><li><a href=\"/search?q=snow&amp;FORM=R5FD2\" h=\"ID=SERP,5592.1\">snow</a></li><li><a href=\"/search?q=ike&amp;FORM=R5FD3\" h=\"ID=SERP,5593.1\">ike</a></li><li><a href=\"/search?q=ikea+hk&amp;FORM=R5FD4\" h=\"ID=SERP,5594.1\">ikea hk</a></li><li><a href=\"/search?q=project+winter&amp;FORM=R5FD5\" h=\"ID=SERP,5595.1\">project <strong>winter</strong></a></li><li><a href=\"/search?q=winter+on+fire&amp;FORM=R5FD6\" h=\"ID=SERP,5596.1\"><strong>winter</strong> on fire</a></li><li><a href=\"/search?q=winter+is+coming&amp;FORM=R5FD7\" h=\"ID=SERP,5597.1\"><strong>winter</strong> is coming</a></li></ul></div></li></ol></aside></div><footer id=\"b_footer\" class=\"b_footer\" role=\"contentinfo\" aria-label=\"页脚\" data-bm=\"26\"><div id=\"b_footerItems\"><span>© 2019 Microsoft</span><ul><li class=\"b_footerItems_icp\"><span>增值电信业务经营许可证：合字B2-20090007</span></li><li class=\"b_footerItems_icp\"><span>京ICP备10036305号</span></li><li class=\"b_footerItems_icp\"><a id=\"sb_MMAIS\" href=\"http://www.beian.gov.cn/portal/registerSystemInfo?recordcode=11010802022657\" h=\"ID=SERP,5042.1\">京公网安备11010802022657号</a></li><br><li><a id=\"sb_privacy\" href=\"http://go.microsoft.com/fwlink/?LinkId=521839\" h=\"ID=SERP,5043.1\">隐私声明和 Cookie</a></li><li><a id=\"sb_legal\" href=\"http://go.microsoft.com/fwlink/?LinkID=246338\" h=\"ID=SERP,5044.1\">法律声明</a></li><li><a id=\"sb_advertise\" href=\"https://go.microsoft.com/fwlink/?linkid=868922\" h=\"ID=SERP,5045.1\">广告</a></li><li><a id=\"sb_help\" target=\"_blank\" href=\"https://go.microsoft.com/fwlink/?LinkID=617297&amp;clcid=0x04\" h=\"ID=SERP,5047.1\">帮助</a></li><li><a id=\"sb_feedback\" href=\"#\" h=\"ID=SERP,5048.1\" class=\"feedback-binded\">反馈</a></li></ul></div><!--foo--></footer><div class=\"sb_hbop\"></div><script type=\"text/javascript\">//<![CDATA[\n",
      "(function(n,t){onload=function(){_G.BPT=new Date;n&&n();!_w.sb_ppCPL&&t&&sb_st(function(){t(new Date)},0)}})(_w.onload,_w.si_PP);BM.trigger();sa_loader=function(){_w.rms.js({'rms:answers:AutoSuggest:AutoSug':'\\/rb\\/G\\/cj,nj\\/5c58c529\\/02e14f21.js?bu=HUXpAewB7wEoKCgo8gHXASgoKCgoKKMBtAG3Ac4BrAEoKNEBKCgo_QG6AQ',d:1});};;_w.rms.js({'A:0':0},{'A:rms:answers:Shared:BingCore.Bundle':'\\/rb\\/5i\\/cj,nj\\/87f3be65\\/8b75ab1e.js?bu=Etwf_R-eH6kfgwW2H7gfiiC6H8QfyR_4H_Yf6x_YHuYd6R3bHg'},{'A:rms:answers:BoxModel:Framework':'\\/rb\\/14\\/cj,nj\\/65f998c4\\/f054580f.js?bu=DiUrXWlucWZgY6ABowErlQEr'},{'A:1':1},{'A:rms:answers:Identity:BlueIdentityDropdownBootStrap':'\\/rs\\/30\\/27\\/cj,nj\\/3f1e2270\\/f8c6dd44.js'},{'A:rms:answers:Identity:BlueIdentityHeader':'\\/rs\\/30\\/2k\\/cj,nj\\/4c7364c5\\/40e1b425.js'},{'A:rms:answers:OrgId:SsoFrame':'\\/rs\\/49\\/z\\/cj,nj\\/64cc4a49\\/e70a8ff8.js'},{'A:2':2},{'A:rms:answers:SegmentFilters:DropDown':'\\/rs\\/59\\/2N\\/cj,nj\\/4df0cf24\\/0120f753.js'},{'A:rms:answers:WebResult:WebResultToolbox':'\\/rs\\/6l\\/5l\\/cj,nj\\/6e795a8b\\/1c156e04.js'},{'A:MMRichHover':'\\/rs\\/6E\\/hY\\/cj,nj\\/45504a74\\/c8a849a4.js'},{'A:ImageRichHover':'\\/rs\\/6E\\/hL\\/cj,nj\\/8ae9cc2f\\/41feb33b.js'},{'A:rms:answers:Multimedia:answerDenseIrpOnSerp':'\\/rs\\/3Q\\/13n\\/cj,nj\\/bf89f4be\\/546eede3.js'},{'A:rms:answers:MultimediaComponents:SerpMMRichHover':'\\/rs\\/3R\\/ct\\/cj,nj\\/234438b4\\/4415fe14.js'},{'A:rms:answers:MultimediaComponents:SerpMMRichHoverInst':'\\/rs\\/3R\\/cv\\/cj,nj\\/db8677a2\\/0716c9f4.js'},{'A:rms:answers:MultimediaComponents:SerpVThumbLazyLoad':'\\/rs\\/3R\\/cC\\/cj,nj\\/da65320d\\/cba4ad9c.js'},{'A:rms:answers:MultimediaComponents:SerpVideoRichHover2':'\\/rs\\/3R\\/cO\\/cj,nj\\/d4ec049c\\/52b5a349.js'},{'A:rms:answers:Shared:Pager':'\\/rs\\/5i\\/1bN\\/cj,nj\\/d5712f1a\\/e58e5083.js'},{'A:rms:answers:Shared:Chevrons':'\\/rs\\/5i\\/1bP\\/cj,nj\\/2c4394e9\\/444ff825.js'},{'A:rms:answers:Shared:Swipe':'\\/rs\\/5i\\/Zb\\/cj,nj\\/338d9ed1\\/d772c6a0.js'},{'A:rms:answers:Shared:Orientation':'\\/rs\\/5i\\/1bR\\/cj,nj\\/a39998e4\\/6798a322.js'},{'A:rms:answers:Shared:SlideExperienceLite':'\\/rs\\/5i\\/1bI\\/cj,nj\\/54ec784f\\/17206c36.js'},{'A:3':3},{'A:rms:answers:Web:SerpKeyboardNavigation_Selector':'\\/rs\\/6j\\/QW\\/cj,nj\\/1c2f626c\\/c9969752.js'},{'A:rms:answers:Web:SerpKeyboardNavigation':'\\/rs\\/6j\\/R0\\/cj,nj\\/16be2a34\\/6323ce42.js'});;\n",
      "//]]></script><div id=\"aRmsDefer\"><div style=\"display:none\"><!--//<![CDATA[\n",
      "var ErrFuncs;(function(n){function i(n,i,r){t(\"Error\",n,i,r)}function r(n,i,r){t(\"Warning\",n,i,r)}function t(n,t,i,r){var u,f;if(r?(u=r,u.message+=\" \"+t):u=new Error(t),u.extra=\"manualError\",i&&(u.extra+=\" \"+i),u.severity=n,f=_w.jsErrorHandler,f)f(u);else throw u;}n.LogError=i;n.LogWarning=r})(ErrFuncs||(ErrFuncs={}));JS={LogError:ErrFuncs.LogError,LogWarning:ErrFuncs.LogWarning};SharedLogHelper={LogError:ErrFuncs.LogError,LogWarning:ErrFuncs.LogWarning,LogFatalError:function(){return null},RegisterErrorFilter:function(){return null}};/*!DisableJavascriptProfiler*/\n",
      "0;var EnglishSearchShared;(function(n){function r(n,i){var e=!1,o=_w.location.href.split(\"?\"),r,u,f,s,h;if(o.length==1||o[1]==\"\")return t(_w.location.href,n,\"1\");if(r=_w.location.search.replace(\"?\",\"\"),u=r.split(\"&\"),u){for(r=o[0]+\"?\",f=0;f<u.length;f++)if(s=u[f],s.split(\"=\")[0].toLowerCase()===n){if(e)continue;r=r+n+\"=\"+i+\"&\";e=!0}else r=r+s+\"&\";h=r.substring(r.length-1);h==\"&\"&&(r=r.substring(0,r.length-1))}return e?r:t(_w.location.href,n,\"1\")}function t(n,t,i){var u=n.substring(n.length-1),r=t+\"=\"+i;return n.indexOf(\"?\")<0?n+\"?\"+r:u==\"?\"?n+r:n+\"&\"+r}function u(n){var t=_w.location.search.replace(\"?\",\"\"),r=t.split(\"&\"),i,u,f;if(r){for(t=\"?\",i=0;i<r.length;i++)u=r[i],u.split(\"=\")[0].toLowerCase()!==n&&(t=t+u+\"&\");return f=t.substring(t.length-1),f==\"&\"&&(t=t.substring(0,t.length-1)),t}return\"\"}function i(n,t){var f=null,e=n.replace(\"?\",\"\"),r=e.split(\"&\"),i,u;if(r)for(i=0;i<r.length;i++)if(u=r[i],u.split(\"=\")[0].toLowerCase()===t.toLowerCase()){f=u.split(\"=\")[1];break}return f}function f(n,t,r,u){var e=i(_w.location.search,n),f=\"\";e==\"1\"?(f=\"1\",sj_cook.set(t,r,f,u,\"/\")):e!=null&&(f=\"0\",sj_cook.set(t,r,f,u,\"/\"))}function e(n,r){if(_w.location.search.match(/form=/i)){var u=i(_w.location.search,\"form\"),f=new RegExp(\"form=\"+u,\"gi\");return n.replace(f,\"FORM=\"+r)}return t(n,\"FORM\",r)}n.SetParameter=r;n.RemoveParameter=u;n.SetCookieByUrlParameter=f;n.SetFormCode=e})(EnglishSearchShared||(EnglishSearchShared={}));var SwitchTabV2;(function(){function o(){return typeof Log!=\"undefined\"&&Log!==null&&typeof Log.Log!=\"undefined\"}function s(){n=\"0\";sj_cook.set(r,u,n,!0,\"/\");o()&&Log.Log(\"DHTMLClick\",\"EnglishSearch_SwitchTab\",\"SwitchToChinese\",!1);var t=EnglishSearchShared.RemoveParameter(f);t=EnglishSearchShared.SetFormCode(t,e);_w.location.search=t}function h(){n=\"1\";sj_cook.set(r,u,n,!0,\"/\");o()&&Log.Log(\"DHTMLClick\",\"EnglishSearch_SwitchTab\",\"SwitchToEnglish\",!1);var t=EnglishSearchShared.SetParameter(f,\"1\");t=EnglishSearchShared.SetFormCode(t,e);_w.location.href=t}function c(){(i=_ge(\"est_en\"),t=_ge(\"est_cn\"),i&&t)&&(EnglishSearchShared.SetCookieByUrlParameter(f,r,u,!0),sj_be(i,\"click\",function(){h()}),sj_be(t,\"click\",function(){s()}))}var t,i,r=\"ENSEARCH\",u=\"BENVER\",n,f=\"ensearch\",e=\"BESBTB\";c()})(SwitchTabV2||(SwitchTabV2={}));var Lib;(function(n){var t;(function(n){function u(n,t){var r,i;if(t==null||n==null)throw new TypeError(\"Null element passed to Lib.CssClass\");if(n.indexOf)return n.indexOf(t);for(r=n.length,i=0;i<r;i++)if(n[i]===t)return i;return-1}function f(n,u){if(n==null)throw new TypeError(\"Null element passed to Lib.CssClass\");if(!t(n,u))if(r&&n.classList)n.classList.add(u);else{var f=i(n)+\" \"+u;o(n,f)}}function e(n,f){var e,s,h;if(n==null)throw new TypeError(\"Null element passed to Lib.CssClass\");t(n,f)&&(r&&n.classList?n.classList.remove(f):(e=i(n).split(\" \"),s=u(e,f),s>=0&&e.splice(s,1),h=e.join(\" \"),o(n,h)))}function s(n,i){if(n==null)throw new TypeError(\"Null element passed to Lib.CssClass\");r&&n.classList?n.classList.toggle(i):t(n,i)?e(n,i):f(n,i)}function t(n,t){var f,e;if(n==null)throw new TypeError(\"Null element passed to Lib.CssClass\");return r&&n.classList?n.classList.contains(t):(f=i(n),f)?(e=f.split(\" \"),u(e,t)>=0):!1}function h(n,t){var f,e,r,u,o;if(n.getElementsByClassName)return n.getElementsByClassName(t);for(f=n.getElementsByTagName(\"*\"),e=[],r=0;r<f.length;r++)u=f[r],u&&(o=i(u),o&&o.indexOf(t)!==-1&&e.push(u));return e}function o(n,t){n instanceof SVGElement?n.setAttribute(\"class\",t):n.className=t}function i(n){return n instanceof SVGElement?n.getAttribute(\"class\"):n.className}var r=typeof document.body.classList!=\"undefined\";n.add=f;n.remove=e;n.toggle=s;n.contains=t;n.getElementByClassName=h})(t=n.CssClass||(n.CssClass={}))})(Lib||(Lib={}));var Identity = Identity || {}; (function(i) { i.wlImgSm =\"https://storage.live.com/users/0x{0}/myprofile/expressionprofile/profilephoto:UserTileStatic/p?ck=1\\u0026ex=720\\u0026fofoff=1\\u0026sid=1E11DA487C8761930B85D45B7DA960D1\"; i.wlImgLg =\"https://storage.live.com/users/0x{0}/myprofile/expressionprofile/profilephoto:UserTileMedium/p?ck=1\\u0026ex=720\\u0026fofoff=1\\u0026sid=1E11DA487C8761930B85D45B7DA960D1\";i.popupLoginUrls = {\"WindowsLiveId\":\"https://login.live.com/login.srf?wa=wsignin1.0\\u0026rpsnv=11\\u0026ct=1573606135\\u0026rver=6.0.5286.0\\u0026wp=MBI_SSL\\u0026wreply=https:%2F%2fcn.bing.com%2Fsecure%2FPassport.aspx%3Fpopup%3D1%26ssl%3D1\\u0026lc=2052\\u0026id=264960\"}; })(Identity);;var sch=sch||{};(function(){var t=_ge(\"id_h\"),n=_ge(\"id_sc\"),i=\"click\";sj_evt.bind(\"onP1\",function(){setTimeout(function(){t&&n&&(sj_jb(\"Blue/HamburgerServicesHeaderFlyout_c\",0,t,\"mouseover\",n,i,n,\"focus\"),sj_be(n,i,function(n){sch.clk=n}))},50)},1)})();var SearchBox;(function(n){function u(){t=_ge(\"b_header\");sj_be(_d.body,\"click\",i)}function i(n){var i=sj_et(n);i.id!=\"sb_form_q\"&&(t.className=t.className.replace(r,\"\"))}var r=/(^|\\s)b_focus(?!\\S)/gi,t;n.removeFocusClass=i;sj_evt.bind(\"onP1\",u)})(SearchBox||(SearchBox={}));define(\"AdbDefV7\",[\"require\",\"exports\"],function(){(function(){function r(n,t){var i=\"CI.StyleExp\",r=\"sendBeacon\";if(navigator&&navigator[r]){var u=+new Date,f=new RegExp('\"',\"g\"),e='[{\"T\":\"'+i+'\",\"FID\":\"CI\",\"Name\":\"'+n+'\",\"Text\":\"'+escape(t.replace(f,\"\"))+'\"}]',o=\"<E><T>Event.ClientInst<\\/T><IG>\"+_G.IG+\"<\\/IG><TS>\"+u+\"<\\/TS><D><![CDATA\"+e+\"]><\\/D><\\/E>\",s=\"<ClientInstRequest><Events>\"+o+\"<\\/Events><STS>\"+u+\"<\\/STS><\\/ClientInstRequest>\";navigator[r](\"/fd/ls/lsp.aspx?\",s)}else sj_log(i,n,t)}function n(n,t){return Math.floor(Math.random()*(t-n))+n}function t(t,i,r){var e,u,f;for(r===undefined&&(r=o),e=n(t,i),u=\"\",f=0;f<e;f++)u+=r.charAt(n(0,r.length));return u}function f(){for(var n=\"b_\"+t(10,20);s[n]!=undefined;)n=n+t(10,20);return s[n]=!0,n}function h(n,t,i){for(var r=n+\"\";r.indexOf(t)>-1;)r=r.replace(t,i);return r}function c(n){for(var t,i,u,f=[],e=n.querySelectorAll(\".b_restorableLink\"),r=0;r<e.length;r++)t=e[r],i=t.getAttribute(\"data-restore\"),i&&(u=new pt(t,n,i),f.push(u));return f}function l(n,t){var i=document.createEvent(\"MouseEvents\");i.initEvent(t,!0,!0);n.dispatchEvent(i)}function a(n,t,i){i.preventDefault();i.stopPropagation();l(n,t)}function v(n){var i=sj_ce(\"h2\"),t=sj_ce(\"a\");return t.innerHTML=n.adLinkHTML,[\"mousedown\",\"mouseup\",\"click\"].forEach(function(i){sj_be(t,i,a.bind(null,n.originalAnchor,i))}),t.href=yt,t.setAttribute(\"h\",at),i.appendChild(t),i}function y(n,t){t.preventDefault();t.stopPropagation();n&&n.remove()}function p(n){var i=sj_ce(\"div\"),t,r,u;return i.classList.add(\"b_caption\"),t=sj_ce(\"div\"),t.classList.add(\"b_attribution\"),t.setAttribute(\"u\",vt),t.innerHTML='<a href=\"#\" aria-label=\"Actions for this site\" aria-haspopup=\"true\" aria-expanded=\"false\" role=\"button\"><span class=\"c_tlbxTrg\"><span class=\"c_tlbxTrgIcn sw_ddgn\"><\\/span><span class=\"c_tlbxH\" h=\"BASE:CACHEDPAGEDEFAULT\" k=\"SERP,5200.1\"><\\/span><\\/span><\\/a>',sj_be(t.querySelector(\"a\"),\"mousedown\",y.bind(null,t.querySelector(\".c_tlbxH\"))),sj_be(t.querySelector(\"a\"),\"click\",function(n){n.preventDefault();n.stopPropagation()}),r=sj_ce(\"cite\"),r.innerHTML=n.attributionLinkHTML,t.insertBefore(r,t.querySelector(\"a\")),u=sj_ce(\"p\"),u.innerHTML=n.descriptionHTML,i.appendChild(t),i.appendChild(u),i}function w(n){var t=sj_ce(\"li\");return t.classList.add(\"b_algo\"),t.classList.add(u),t.appendChild(v(n)),t.appendChild(p(n)),t}function b(n){for(var i,r=[],t=0;t<n.length;t++)i=w(n[t]),_ge(\"b_results\").insertBefore(i,n[t].orignialAdBlockElement),r.push(i);return r}function k(){var t=_d.head||document.getElementsByTagName(\"head\")[0],n=sj_ce(\"style\");n.type=\"text/css\";n.appendChild(_d.createTextNode(\".b_socicon{width: 16px;height: 16px;vertical-align:text-bottom;margin-right: 4px;}\"));t.appendChild(n)}function i(n){return n&&(n.offsetHeight<1||n.offsetWidth<1)}function d(n){for(var t=0;t<n.length;t++)if(i(n[t]))return!0;return!1}function g(n){for(var t=0;t<n.length;t++)if(i(n[t])||i(n[t].querySelector(\"h2\"))||i(n[t].querySelector(\".b_caption\"))){r(\"one_second_post_restore\",\"hidden\");return}r(\"one_second_post_restore\",\"visible\")}function nt(){sj_cook.set(\"ABDEF\",\"MRB\",(new Date).getTime().toString(),!0,\"/\");sj_cook.set(\"ABDEF\",\"MRNB\",\"0\",!0,\"/\")}function tt(){sj_cook.set(\"ABDEF\",\"MRNB\",(new Date).getTime().toString(),!0,\"/\");sj_cook.set(\"ABDEF\",\"MRB\",\"0\",!0,\"/\")}function it(){var t=[],o=_ge(\"b_content\"),f,e,s,u,n;if(o){for(f=o.querySelectorAll(st),n=0;n<f.length;n++)e=f[n],s=e.querySelectorAll(ht),(i(e)||d(s))&&t.push(e);f.length>0&&t.length===0&&tt()}if(u=[],t.length>0){for(nt(),n=0;n<t.length;n++)u=u.concat(c(t[n]));u.length>0?r(\"ba\",\"text included\"):r(\"ba\",\"text not included\")}return u}function rt(n){var i=n.join(\" \"),r=_d.head||document.getElementsByTagName(\"head\")[0],t=_d.createElement(\"style\");t.type=\"text/css\";t.appendChild(_d.createTextNode(i));r.appendChild(t)}function ut(){var n=_ge(\"b_results\").querySelector(\".b_restorableLink\"),t;return n!==null&&n.getAttribute(\"data-restore\")&&(t=JSON.parse(n.getAttribute(\"data-restore\")),t.adSlugText)?t.adSlugText:\"Ad\"}function ft(){rt([\".\"+u+' > .b_caption > p::before{content: \"'+ut()+'\"; color: rgb(102, 102, 102); border: 1px solid rgb(221, 221, 221); padding: 0px 2px; margin-right: 4px; font-size: 11px; font-weight: normal; line-height: 14px; border-radius: 6px; }',\".\"+u+\" > .b_caption > .b_attribution > cite { text-transform: lowercase; }\"])}function et(){for(var t=_ge(\"b_results\").querySelectorAll(\"li\"),n=0;n<t.length;n++)t[n].classList.add(lt)}function ot(){var t=it(),i,n;t.length>0&&(ft(),et(),i=b(t),n=_ge(\"b_content\").getElementsByClassName(\"b_socicon\"),n&&n.length>0&&k(),sb_st(g.bind(null,i),1e3))}var st=[\".\"+_G.adc,\".partnerLinks\",\"#zune_upsell\"].join(\",\"),ht=\".sb_add .sb_add>div,.sb_add>h2,.sb_add>h3,.pa_mlo,.pa_list_sbo,.pa_sb,.b_restorableLink\",e=\"0123456789\",o=\"abcdefghijklmnopqrstuvwxyz\",ct=o+\"ABCDEFGHIJKLMNOPQRSTUVWXYZ\"+e,s={},u=f();_G.abdef_sarc=u;var lt=f(),at=\"ID=SERP,\"+n(5e3,6e3)+\".\"+n(1,5),vt=n(1,10)+\"|\"+n(5e3,6e3)+\"|\"+t(15,18,e)+\"|\"+t(31,33,ct),yt=\"https://www.\"+t(10,15)+\".com/\"+t(10,15),pt=function(){function n(n,t,i){this.originalAnchor=n;this.orignialAdBlockElement=t;var r=JSON.parse(i);this.adLinkHTML=h(r.title,\"ad_sym\",\"format_sym\");this.attributionLinkHTML=r.displayUrl;this.descriptionHTML=r.description}return n}();ot()})()});0;(function(){function i(){var f,e,o,s,h,i;u(window.location.href)||(f=_w.innerWidth,e=sj_cook.get(n,\"CW\"),(!e||window.sj_b&&e!=sj_b.clientWidth)&&sj_cook.set(n,\"CW\",f.toString(),!0,\"/\",null),o=sj_cook.get(n,\"CH\"),s=sb_de.clientHeight.toString(),o&&o===s||sj_cook.set(n,\"CH\",s,!0,\"/\",null),t&&(h=_w.TPane,i=r(f),i!=h&&(Log&&Log.Log&&Log.Log(\"Info\",\"TPResize\",h+i),_w.TPane=i)))}function u(n){return n.match(/\\/images\\/search.*[?&]view=detailv2.*nocookie=1\\b/i)!=null}function f(){var u=sj_cook.get(n,\"DPR\"),t=_w.devicePixelRatio,i,r;t&&(!u||parseInt(u)!==t)&&sj_cook.set(n,\"DPR\",t.toString(),!0,\"/\",null);i=sj_cook.get(n,\"UTC\");r=((new Date).getTimezoneOffset()*-1).toString();(i==null||i!==r)&&sj_cook.set(n,\"UTC\",r,!0,\"/\",null)}function e(){i();f();t=_ge(\"b_context\")!=null;t&&(_w.TPane=r(_w.innerWidth))}function r(n){return n<=1193?\"N\":n<=1281?\"M\":\"W\"}var n=\"SRCHHPGUSR\",t=!1;sj_be(_w,\"load\",e);sj_be(_w,\"resize\",i)})();var BilingualDict={Play:function(n){BilingualDict.Click(null,n,null,null,null);Log.Log(\"audioClick\",\"BilingualDictionaryAudio\",\"BilingualDictionaryAudioInst\")},Click:function(n,t,i,r,u){var f,e,o;if(t!=\"\"){f=_ge(u);f==null&&(f=_ge(\"dict_aud_cnt\"));e=BilingualDict.GetPlayer(t);try{f.innerHTML=e}catch(s){o=\"pCont is null\";Log.Log(\"Error\",\"DictVerp\",o)}}},GetPlayer:function(n){if(navigator.userAgent.indexOf(\"Safari\")>-1||navigator.userAgent.indexOf(\"UCBrowser\")>-1||navigator.userAgent.indexOf(\"iPhone\")>-1||navigator.userAgent.indexOf(\"iPad\")>-1){BilingualDict.player&&BilingualDict.player.pause&&BilingualDict.player.pause();var t=document.createElement(\"audio\");return t.src=n,t.play(),BilingualDict.player=t,t.innerHTML}return'<audio src=\"'+n+'\" autoplay ><\\/audio>'},player:null};sa_CTBConfig={\"TRGT\":\"此网站的操作\",\"CU\":\"http://cncc.bingj.com/cache.aspx?q=Winter\\u0026d={0}\\u0026mkt=zh-CN\\u0026setlang=zh-CN\\u0026w={1}\",\"CT\":\"已缓存\",\"NW\":\"1\"};var ProgressiveImages;(function(){function n(){for(var n,t,r=_d.getElementsByTagName(\"img\"),i=0;i<r.length;i++)n=r[i],t=n.getAttribute(\"data-src-hq\"),t&&n.src!=t&&(n.src=t)}sj_evt.bind(\"onP1\",n,1);sj_evt.bind(\"loadProgImages\",n,1)})(ProgressiveImages||(ProgressiveImages={}));var VRHH2=VRHH2||{}; VRHH2.el=VRHH2.el||[]; VRHH2.el.push(\"vidans2\");var HoverUtils;(function(n){function t(n){if(!n)return\"\";var t=n.className||\"\";return typeof t==\"string\"?t:t.baseVal||\"\"}function i(n,i){var r;if(!i||i.length<1)return!1;var e=t(n),o=e.split(\" \"),u=i.split(\" \"),s=u.length,f=!0;for(r=0;r<s;r++)o.indexOf(u[r])<0&&(f=!1);return f}function u(n,t){return n.hasAttribute?n.hasAttribute(t):n[t]!==undefined}function f(n,t){i(n,t)||n&&n.className&&(n.className+=\" \"+t)}function e(n,i){var f=t(n),r=f.split(\" \"),u=r.indexOf(i);u!==-1&&r.splice(u,1);n.className=r.join(\" \")}function o(n,t){var i=r(n,t);return!i||i.length<1?null:i[0]}function r(n,t){var r=t||document,f,e,o,u,s;if(typeof r==\"undefined\"||r===null)return null;if(typeof r.getElementsByClassName==\"function\")return r.getElementsByClassName(n);for(f=r.getElementsByTagName(\"*\"),e=[],u=0,s=f.length;u<s;u++)o=f[u],i(o,n)&&e.push(o);return e}function s(n){n&&n.className.indexOf(\" hi\")<0&&(n.className+=\" hi\")}function h(n){n&&n.className.indexOf(\" hi\")>=0&&(n.className=n.className.replace(\" hi\",\"\"))}function c(n){return sj_sp(n),sj_pd(n),!1}n.getClassName=t;n.hasClass=i;n.hasAttribute=u;n.addClass=f;n.removeClass=e;n.getFirstElementByClassName=o;n.getElementsByClassName=r;n.hideElementByClassName=s;n.showElementByClassName=h;n.preventEvent=c})(HoverUtils||(HoverUtils={}));sj_evt.bind(\"chevrons_init\", function() { Chevrons.init(\"slideexp0_949445\", _ge(\"slideexp0_949445chevrons_prevbtn\"), _ge(\"slideexp0_949445chevrons_nextbtn\")); }, 1);;(function() { function InitSlide() { var params = [\"0_949445\",\"slideexp0_949445\",true,8,\"我们目前找不到更多关于此页面的信息\",true,false,-2,false,true]; if (typeof(SmartRendering) !== 'undefined') { SmartRendering.LoadElementWhenDisplayed(this, _ge('slideexp0_949445'), SlideExperienceLite.init, params); } else { SlideExperienceLite.init.apply(this, params); } sj_evt.unbind(\"slideexperiencelite_init\", InitSlide); } sj_evt.bind(\"slideexperiencelite_init\", InitSlide, 1); })();;sj_evt.bind(\"ajax.feedback.initialized\", function(args) { args[1].debugCollector.setContextValue(\"FederationDebugInfo\", \"QueryID : 4844141a2dd24606b203d4a9bc9cf104\"); });;var fbpkgiid = fbpkgiid || {}; fbpkgiid.page = 'SERP.5622';;var Feedback;(function(n){var t;(function(){\"use strict\";function u(t,i){var u=t.getAttribute(\"id\"),f;u||(u=\"genId\"+n.length,t.setAttribute(\"id\",u));f=new r(u,i,t.getAttribute(i));n.push(f)}function i(n,t,i){i===null?n.removeAttribute(t):n.setAttribute(t,i)}function t(n,t,r,f){for(var e,s=_d.querySelectorAll(r),o=0;o<s.length;o++)(e=s[o],f&&e.id&&f[e.id])||(u(e,n),i(e,n,t))}function f(n){for(var u=_d.querySelectorAll(n),e=1,f={},t,i,r=0;r<u.length;++r){if(t=u[r],!t.id){for(;;)if(i=\"fbpgdgelem\"+e++,!_ge(i))break;t.id=i}f[t.id]=t}return f}function e(){var i=\"tabindex\",r=\"-1\",n=f(\"#fbpgdg, #fbpgdg *\");t(i,r,\"div\",n);t(i,r,\"svg\",n);t(i,r,\"a\",n);t(i,r,\"li\",n);t(i,r,\"input\",n);t(i,r,\"select\",n);t(\"aria-hidden\",\"true\",\"body :not(script):not(style)\",n)}function o(){for(var r,t=0;t<n.length;t++)r=_d.getElementById(n[t].id),r&&i(r,n[t].attributeName,n[t].originalAttributeValue);n.length=0}function s(){typeof sj_evt!=\"undefined\"&&(sj_evt.bind(\"onFeedbackStarting\",function(){e()}),sj_evt.bind(\"onFeedbackClosing\",function(){o()}))}var n=[],r=function(){function n(n,t,i){this.id=n;this.attributeName=t;this.originalAttributeValue=i}return n}();s()})(t=n.Accessibility||(n.Accessibility={}))})(Feedback||(Feedback={}));var Feedback;(function(n){var t;(function(){function r(i,r,u,f,e,o){i=typeof i===t?!1:i;i&&scrollTo(0,0);u=typeof u===t?!0:u;n.PackageLoad.Load(r,u,f,e,o)}function e(n,t){for(var r=0,i=null;n&&n.getAttribute&&(!(t>=1)||r<t);){if(i=n.getAttribute(\"data-fbhlsel\"),i!=null)break;r++;n=n.parentNode}return i}var u=\"feedbackformrequested\",c=\"feedbackInitialized\",i,f=\"\",o=\"feedback-binded\",s=\"clicked\",t=\"undefined\",h;n.Bootstrap.InitializeFeedback=function(l,a,v,y,p,w,b,k){function nt(t){var r=null,i;return t&&(i=new h,n.fel(\"ajax.feedback.collectsettings\",\"gsf\",i),r=i.findSettings(t)),r}var d=_ge(a),g;d&&d.classList&&d.classList.contains(o)||(p=typeof p===t?!1:p,g=e(d,3),f!==\"sb_feedback\"&&(f=a,typeof sj_evt!==t&&(i&&sj_evt.unbind(u,i),i=function(n){var u=null,t=null,f=null,o,i,s;n&&n.length>1&&(i=n[1],i.tagName!==undefined&&i.nodeType!==undefined?(u=i,t=nt(u)):t=i,o=t&&t.elementToHighlight||u,f=e(o));s=t&&t.linkId||a;r(y,l,v,s,f,t)},sj_evt.bind(u,i,1)),typeof SearchAppWrapper!==t&&SearchAppWrapper.CortanaApp&&SearchAppWrapper.CortanaApp.addEventListener&&SearchAppWrapper.CortanaApp.addEventListener(u,function(n){(typeof n!==t&&n!==null&&(n.isHandled=!0),a===f)&&_ge(\"fbpgdg\")===null&&r(y,l,v,a)})),d!==null?(sj_be(d,\"click\",function(n){var i=null,t=null,u=null,f;if(p&&d.classList){if(d.classList.contains(s))return!1;d.classList.add(s)}sj_pd(n);sj_sp(n);i=sj_et(n);t=nt(i);f=t&&t.elementToHighlight||i;u=e(f);r(y,l,v,a,u||g,t||k)}),d.classList&&d.classList.add(o)):(b=typeof b===t?!1:b,b&&r(y,l,v,a,g)),typeof sj_evt!==t&&sj_evt.fire(c))};n.le=function(n,t){SharedLogHelper&&SharedLogHelper.LogError&&SharedLogHelper.LogError(\"Feedback: \"+n,null,t)};n.leh=function(t,i,r){n.le(\"Feedback: \"+t+\" handler failed in \"+i,r)};n.fel=function(t,i){for(var u=[],r=2;r<arguments.length;r++)u[r-2]=arguments[r];try{u.unshift(t);sj_evt.fire.apply(null,u)}catch(f){n.leh(t,i,f);throw f;}};h=function(){function n(){this.settingsList=[]}return n.prototype.setStartSettings=function(n,t){n&&t&&this.settingsList.push({c:n,s:t})},n.prototype.findSettings=function(n){var t=null;return this.settingsList.forEach(function(i){sj_we(n,i.c)&&(t=i.s)}),t},n}()})(t=n.Bootstrap||(n.Bootstrap={}))})(Feedback||(Feedback={})),function(n){var t;(function(t){\"use strict\";function f(f,e,o,s){var k=_G.IG,d=typeof _G.V===i?_G.P:_G.V,h,y,c,a,w,v;n.fel(\"onFeedbackStarting\",\"lp\");t.staticConfig={linkId:e,activeElement:_d.activeElement};var l=\"?ig=\"+k+\"&p=\"+d,b=n.RouteProvider.Provide(f),p=encodeURIComponent;if(s){if(s.formConfig&&(b=f===\"page\"?\"sdk/form\":f,l+=\"&formconfig=\"+s.formConfig),s.service&&(t.staticConfig.service=s.service),s.scenario&&(t.staticConfig.scenario=s.scenario),c=s.context,c)for(a in c)c.hasOwnProperty(a)&&(l+=\"&\"+p(a)+\"=\"+p(c[a]));s.pos&&(t.staticConfig.pos=s.pos,l+=\"&pos=1\")}for(h=\"/feedback/\"+b+l,typeof fbsrc!==i&&(h+=\"&src=\"+p(fbsrc)),typeof fbpkgiid!==i&&fbpkgiid[f]&&(h+=\"&iid=\"+fbpkgiid[f]),w=[\"addloginsource\",\"client\",\"corpnet\",\"features\",\"hose\",\"hoseassistant\",\"logjserror\",\"msamock\",\"setvar\",\"testhooks\",\"theme\",\"uncrunched\"],v=0;v<w.length;v++)(y=location.href.match(new RegExp(\"[?&]\"+w[v]+\"=[^?&#]*\",\"i\")))&&y[0]&&(h+=\"&\"+y[0].substring(1));sj_ajax(h,{callback:function(t,i){if(t&&i){r&&r.removeAttribute(\"clicked\");var u=s&&_ge(s.feedbackContainerId);i.appendTo(u||_d.body);n.fel(\"onFeedbackShow\",\"lp\");n.fel(\"clarity.trigger\",\"lp\",\"BingFeedback\");n.Highlight&&o&&n.Highlight.HighlightElements(o)}}});u[f]=!0}var u={},i=\"undefined\",r;t.staticConfig={};n.PackageLoad.GetHTML=function(){return _d.documentElement.outerHTML};n.PackageLoad.Load=function(n,t,e,o,s){var h,c;t=typeof t===i?!0:t;e=typeof e===i?\"\":e;c=typeof s!=i&&s&&s.feedbackContainerId;r=_ge(e);for(h in n)n.hasOwnProperty(h)&&(!t||c||typeof u[h]===i)&&f(h,e,o,s)}})(t=n.PackageLoad||(n.PackageLoad={}))}(Feedback||(Feedback={})),function(n){var t;(function(){\"use strict\";n.RouteProvider.Provide=function(n){return n===\"page\"?\"sdk/form\":n}})(t=n.RouteProvider||(n.RouteProvider={}))}(Feedback||(Feedback={}));sa_config={\"f\":\"sb_form\",\"i\":\"sb_form_q\",\"c\":\"sw_as\",\"u\":\"%2fAS%2fSuggestions%3fpt%3dpage.serp%26bq%3dWinter%26mkt%3dzh-cn%26ds%3dmobileweb%26qry%3d\",\"removeSuggUrl\":\"/historyHandler?oma=delete_matching_queries\\u0026qt=%7b0%7d\\u0026sig=1E11DA487C8761930B85D45B7DA960D1\\u0026response=json\\u0026FORM=ASRMHS\",\"searchHistoryUrl\":\"/profile/history?FORM=ASRMHP\",\"enabledDataSources\":[\"Web\"],\"ePN\":1,\"fetchOnEmpty\":1,\"fetchOnDownArrowKey\":1,\"t\":1,\"handleDuplicateFetch\":1,\"d\":100,\"removeTextLength\":26};sa_loc= {\"Suggestions\":\"建议\",\"Feedback\":\"针对这些建议的反馈\",\"SearchRemoved\":\"此搜索已从%e搜索历史记录%E中删除\"};;var sa_eL=!1;(function(){function e(n,t,i){n&&sj_ue(n,t,e);sa_eL=sa_eL||i;f||(f=!0,sj_evt.fire(\"AS.bootload\",n),sa_loader())}function r(n,t,i){sj_be(n,t,function(r){e(n,t,i,sj_ev(r))})}var t=sa_config,n=_ge(t.i),i,u,f;if(n.setAttribute(\"autocomplete\",\"off\"),i=_ge(t.c),!i){if(u=_ge(\"sa_qs\")||n,!u)throw new Error(\"AS init failed\");i=sj_ce(\"div\");i.id=t.c;u.parentNode.appendChild(i);n.setAttribute(\"aria-controls\",t.c)}f=!1;_w.sa_loader&&(\"ontouchend\"in _w&&r(n,\"touchend\",!0),r(n,\"click\",!0),r(n,\"keydown\",!0),t.ol&&r(_w,\"load\",!1))})();var MsnShared;(function(n){function f(n,t,i){var f,u,r;if(i==null)return null;if(i.getElementsByClassName)return i.getElementsByClassName(n);for(f=[],t==null&&(t=\"*\"),u=i.getElementsByTagName(t),r=0;r<u.length;r++)(\" \"+u[r].className+\" \").indexOf(\" \"+n+\" \")>-1&&f.push(u[r]);return f}function t(n,t){var i=n.classList;return i?i.contains(t):(\" \"+n.className+\" \").indexOf(\" \"+t+\" \")>=0}function i(n,t){if(n!=null){var i=n.classList;i?i.remove(t):n.className=n.className.replace(t,\"\")}}function r(n,i){if(n!=null){var r=n.classList;r?r.add(i):t(n,i)||(n.className+=\" \"+i)}}function e(n){r(n,\"b_hide\")}function o(n){i(n,\"b_hide\")}function s(){return Math.max(sb_de.scrollTop,_d.body.scrollTop)}function h(n,t,i){var r=n&&n.style;r&&r[t]!==i&&(r[t]=i)}function u(n){var t=null;return n&&(t=_w.getComputedStyle?_w.getComputedStyle(n,null):n.currentStyle),t}function c(n){var i=0,t;if(n&&(t=u(n),t)){var r=parseInt(t.height),f=parseInt(t.marginTop),e=parseInt(t.marginBottom);i=isNaN(r)?0:r;i+=isNaN(f)?0:f;i+=isNaN(e)?0:e}return i}function l(n,t,i){var r=null;return n&&n.parentNode&&t&&n.parentNode!==t&&(r=i?sj_ce(\"span\",null,i):sj_ce(\"span\"),n.parentNode.replaceChild(r,n),t.appendChild(n)),r}function a(n,i,r){if(n!=null&&i!=null&&r>0){for(var u=n;u!=null&&!t(u,i)&&r>0;)u=u.parentNode,r--;if(r>0)return u}return null}n.getElementsByClassName=f;n.hasClass=t;n.removeClass=i;n.addClass=r;n.hide=e;n.show=o;n.getScrollTop=s;n.setStyle=h;n.getComputedStyle=u;n.getCssHeight=c;n.moveToNewParent=l;n.FindParentNode=a})(MsnShared||(MsnShared={}));(function(n,t,i,r,u,f,e,o){if(typeof RMS_IACL==\"undefined\"){RMS_IACL={};var s,h,c=\"data-src\",w=\"data-dpr\",l=\"getAttribute\",g=/^(\\/th\\?(?:id\\=|.*&id\\=))([^&]*)(.*)$/i,nt=/(&|\\?)bw=/i,a=3,y=20;function b(t){var r,i;t&&(r=t[l](c),r&&(t.removeAttribute(c),i=n(\"img\"),i.onload=function(n){h--;i.onload=null;var r=t.parentNode;r&&(p(t,i),t.parentNode.replaceChild(i,t));v(n,i,r,null)},i.onerror=function(n){h--;v(n,i,!1,t)},i.src=r))}function tt(t,i,r){for(var u,s,e=[],f=t[i],o=i;o<r;o++)e.push(t[o].tid);u=n(\"img\");u.onload=function(n){var y,e,b,c,k;h-=r-i;u.onload=null;p(f,u);var g=f[l](\"data-width\"),nt=f[l](w),o=nt?parseFloat(nt):1;for(y=i;y<r;y++){e=t[y];b=e.style;b.position=\"relative\";b.overflow=\"hidden\";b.direction=\"ltr\";p(e,e);c=u.cloneNode();k=\"\";e.hasAttribute(\"title\")?(k=e.attributes.title.value,c.setAttribute(\"title\",e.attributes.title.value)):e.hasAttribute(\"alt\")&&(k=e.attributes.alt.value);c.setAttribute(\"alt\",k);c.removeAttribute(\"width\");c.removeAttribute(\"height\");var s=c.style,d=y-i,tt=sb_ie||o<=1?1:o;s.left=(-g*d-a*(d+1)/o)*tt+\"px\";s.top=-a/o*tt+\"px\";o>1&&(s.hasOwnProperty(\"zoom\")?s.zoom=100/o+\"%\":(s.left=-g*d-a*(d+1)/o+\"px\",s.top=-a/o+\"px\",s.transformOrigin=\"left top\",s.transform=\"scale(\"+1/o+\")\"));s.position=\"relative\";e.appendChild(c)}v(n,f,!0,null)};u.onerror=function(n){h-=r-i;v(n,f,!1,null)};s=f[l](c).replace(e[0],e.join(\":\"))+\"&bw=\"+a+\"&bc=ffffff\";u.src=s.replace(/&p=0/,\"\")}function it(n){var r,t,i;if(n){if(n.length==1)b(n[0]);else if(n.length>1)for(r=n.length,t=0;r>0;)i=t+y,i>n.length&&(i=n.length),tt(n,t,i),r-=y,t+=y}else return}function k(n){var w=d(n),r,a,f,v,o,u,p,i,y;if(s=rt(),s){for(h=s.length,h>0&&t.fire(e,{timeStamp:w,images:s}),r={},a=[],i=0;i<s.length;i++)f=s[i],v=f[l](c),v&&(o=null,u=g.exec(v),u&&u.length&&!nt.test(v)&&(o=u[1]+u[3],f.tid=u[2])),o&&(p=r[o]=r[o]||[]).length<30?p.push(f):a.push(f);for(i=0;i<a.length;i++)b(a[i]);for(y in r)r.hasOwnProperty(y)&&it(r[y])}}function rt(){var t=\"rms_iac\",n;if(i.getElementsByClassName)return i.getElementsByClassName(t);if(i.querySelectorAll)return i.querySelectorAll(\".\"+t);var u=[],r=i.getElementsByTagName(\"div\"),f=new RegExp(\"(^|\\\\s)\"+t+\"(\\\\s|$)\");for(n=0;n<r.length;n++)f.test(r[n].className)&&u.push(r[n]);return u}function p(n,t){for(var r,i,u=0;u<n.attributes.length;u++)r=n.attributes[u],i=r.name,i.lastIndexOf(\"data-\",0)==0&&i!=c&&i!=w&&t.setAttribute(i.substring(5),r.value)}function d(n){var t=new Date;return n&&n.timeStamp>0&&n.timeStamp<=t?n.timeStamp:t}function v(n,i,r,u){var e=d(n);t.fire(f,{timeStamp:e,image:i,state:r?\"success\":\"failed\",placeholderElement:u});h==0&&t.fire(o,{timeStamp:e,images:s})}t.bind(r,k,1);t.bind(u,k,1)}})(sj_ce,sj_evt,_d,\"onPP\",\"RMS.LoadImg\",\"RMS.ImgAOLLoaded\",\"RMS.ImgAOLInit\",\"RMS.ImgAOLCompleted\");\n",
      "//]]>--></div><div style=\"display:none\"><!--//<![CDATA[\n",
      "(function(){function f(){n()}function e(t){var i=t[0],r=t[1],u=t[2];n()}function o(n){var t=n&&n.length>1&&n[1];t&&u.contains(t,\"b_searchbox\")&&s()}function s(){Lib.CssClass.add(sj_b,r)}function n(){Lib.CssClass.remove(sj_b,r)}function h(){sj_evt.bind(\"autosuggestHide\",e,!0);sj_evt.bind(\"focusChange\",o,!0);var n=_ge(\"sb_form\");sj_be(n,\"submit\",f)}function t(){(n(),i)||(i=!0,h())}var i=!1,u=Lib.CssClass,r=\"as_on\";sj_be(_d,\"DOMContentLoaded\",t);sj_evt.bind(\"onP1\",t,!0);sj_evt.bind(\"ajax.load\",t,!0)})();\n",
      "//]]>--></div><div style=\"display:none\"><!--//<![CDATA[\n",
      "(function() { var config ={\"url\":\"https%3a%2f%2flogin.microsoftonline.com%2fcommon%2foauth2%2fauthorize%3fclient_id%3d9ea1ad79-fdb6-4f9a-8bc3-2b70f96e34c7%26response_type%3did_token%26nonce%3de7438396-9d32-4ccc-a73b-22e9442ddd6a%26redirect_uri%3dhttps%253a%252f%252fcn.bing.com%252forgid%252fidtoken%252fnosignin%26scope%3dopenid%26response_mode%3dform_post%26msafed%3d0%26prompt%3dnone\",\"sandbox\":\"allow-forms allow-pointer-lock allow-popups allow-same-origin allow-scripts\",\"currentEpoch\":\"1573606134000\"}; if (false) { if (typeof dbg !== \"undefined\") { dbg.trace(\"OrgId\", \"Delaying SSO on postRBComplete event\"); } sj_evt.bind('postRBComplete', function() { setTimeout(function() {_w.rms.js({'rms:answers:OrgId:SsoFrame':'\\/rs\\/49\\/z\\/cj,nj\\/64cc4a49\\/e70a8ff8.js',d:1});sj_evt.fire('ssoFrameExists', config); }, 500); }, true, null, true); } else { sj_evt.fire('ssoFrameExists', config); } })();;(function(){function n(){var n=_ge(\"id_p\"),t,i;n&&(t=\"\",i=\"\",n.dataset?(t=n.dataset.src,i=n.dataset.alt):(t=n.getAttribute(\"data-src\"),i=n.getAttribute(\"data-alt\")),t&&t!=\"\"&&(n.onerror=function(){n.onerror=null;n.src=\"\";n.alt=\"\"},n.onload=function(){n.alt=i},n.src=t))}n()})();sb_ie&&function(){function h(){if(t){var u=n.replace(/www\\./i,\"\");return f&&i(t,r,n+\"?PC=\"+f)||i(t,r,n)||i(t,r,u)||i(t,r,n+\"?Form=HPPDH1\")||i(t,r,n+\"?PC=BNHP\")||i(t,r,n+\"?PC=BNSR\")}return 0}function c(){return i(_w.external,s,n)!=0}function l(){if(u){var n=2*e+o;if(u==n)return!0}return!1}function a(){var n=_ge(\"hps\");return n||(n=sj_ce(\"span\",\"hps\"),n.style.behavior=\"url(#default#homepage)\",sj_b.appendChild(n)),n}function i(n,t,i){try{return n[t](i)}catch(r){return 0}}var s=\"IsSearchProviderInstalled\",r=\"isHomepage\",n=\"http://\"+_d.domain+\"/\",u=sj_cook.get(\"_UR\",\"D\"),f=sj_cook.get(\"SRCHS\",\"PC\"),t=a(),e=h(),o=c();l()||(u=2*e+o,sj_cook.set(\"_UR\",\"D\",u,1,\"/\"))}();var sj_appHTML=function(n,t){var f,e,o,i,r,s,h;if(t&&n){var c=\"innerHTML\",l=\"script\",a=\"appendChild\",v=\"length\",y=\"src\",p=sj_ce,u=p(\"div\");if(u[c]=\"<br>\"+t,f=u.childNodes,u.removeChild(f[0]),e=u.getElementsByTagName(l),e)for(o=0;o<e[v];o++)i=p(l),r=e[o],r&&(i.type=\"text/javascript\",s=r.getAttribute(y),s?i.setAttribute(y,s):(i.text=r[c],i.setAttribute(\"data-bing-script\",\"1\")),r.parentNode.replaceChild(i,r));for(h=_d.createDocumentFragment();f[v];)h[a](f[0]);n[a](h)}};var sj_ajax=function(n,t){function h(){i[u]=s;i.abort&&i.abort()}function o(n,t){typeof n==\"function\"&&n(t,{request:i,appendTo:function(n){i&&sj_appHTML(n,i.responseText)}})}var r,i=sj_gx(),u=\"onreadystatechange\",f,e=null,c=sb_st,l=sb_ct,s=function(){};if(!n||!i){o(r,!1);return}t&&(r=t.callback,f=t.timeout);i.open(\"get\",n,!0);i[u]=function(){if(i.readyState===4){var n=!1;e!==null&&l(e);i.status===200&&(n=!0,i[u]=s);o(r,n)}};sj_evt.bind(\"ajax.unload\",h);i.send();f>0&&(e=c(function(){h();o(r,!1)},f))};\n",
      "//]]>--></div><div style=\"display:none\"><!--//<![CDATA[\n",
      "function addRemoveListenersOnAll(){var t=_ge(\"b_content\"),n,i,r;t&&(n=_d.createElement(\"STYLE\"),n.id=styleIdString,n.innerText=\"#b_results h2>a {padding: 16px 40px 0 6px;margin: -16px -40px 0 -6px;}\",_d.head&&_d.head.appendChild(n),i=t.getElementsByClassName(\"b_ad\"),i&&AddRemoveListener(i),r=t.getElementsByClassName(\"b_algo\"),r&&AddRemoveListener(r))}function AddRemoveListener(n){for(var t,i,u=n.length,r=0;r<u;r++)if(t=n[r].getElementsByTagName(\"CITE\"),t&&t.length>0)for(i=0;i<t.length;i++)sj_be(t[i],\"click\",algo_c)}function mouseMoveAfterTouchHandler(){sj_ue(document,\"mousemove\",mouseMoveAfterTouchHandler);var n=_d.getElementById(styleIdString);n&&n.parentNode&&n.parentNode.removeChild(n);sj_log(\"CI.TTC\",\"mouse\",\"started\");sj_ue(document,\"mousemove\",mouseMoveAfterTouchHandler)}function touchStartHandlerAll(n){n.pointerType===\"touch\"&&(addRemoveListenersOnAll(),sj_log(\"CI.TTC\",\"touch\",\"started\"),sj_ue(document,\"pointerdown\",touchStartHandlerAll),document.addEventListener(\"mousemove\",mouseMoveAfterTouchHandler))}var styleIdString=\"ttcDynStyle\",algo_c=function(n){function i(n){var t=n.getElementsByTagName(\"a\"),i;t&&t.length>0&&(i=t[0],si_ct(i),sj_log(\"CI.TTC\",\"click\",\"touch\"),_w.open(i.href,\"_self\"))}n=sj_ev(n);var t=sj_et(n);if(t){if(t.tagName==\"A\")return!0;while(t&&!(t.className.indexOf(\"b_algo\")>=0||t.className.indexOf(\"sb_add\")>=0)){if(t.tagName==\"BODY\")return;t=t.parentNode}}return t?(i(t),!0):(sj_sp(n),!1)};document.addEventListener(\"pointerdown\",touchStartHandlerAll);Feedback.Bootstrap.InitializeFeedback({page:true},\"sb_feedback\",1,0,0);;var OpenInNewWindow;(function(n){function i(n,t){var r,u,i,f,o;if(t===void 0&&(t=!1),r=n?n.getElementsByTagName(\"a\"):null,r)for(u=0;u<r.length;u++)i=r[u],i.getAttribute(\"target\")||(f=i.getAttribute(\"href\"),o=f&&f.indexOf(\"javascript:void(0)\")>-1,o||t&&!e(i)||i.setAttribute(\"target\",\"_blank\"))}function t(n){return n&&n.replace(/(\\b\\/|\\/\\b)/g,\"\")}function e(n){var i=t(n.hostname),r=t(n.pathname);return i&&i!=u||r!=f}function o(n){if(n.hasChildNodes&&n.firstChild.nodeType==1){var t=MsnShared.hasClass(n.childNodes[0],\"b_rs\"),i=n.childNodes[0].getAttribute(\"id\")==\"sp_requery\";return!t&&!i}return!1}function r(n,t,r){var u=MsnShared.getElementsByClassName(r,t,n),f,e,s;if(u&&u.length>0)for(f=0;f<u.length;f++)e=u[f],s=o(e),s&&i(e)}function s(){var t=_ge(\"b_results\"),n;t&&(r(t,\"li\",\"b_ans\"),r(t,\"div\",\"sa_uc\"));n=_ge(\"b_context\");n&&(r(n,\"div\",\"b_re\"),i(n,!0))}var u=t(_w.location.hostname),f=t(_w.location.pathname);n.openExternalLink=i;n.exec=s})(OpenInNewWindow||(OpenInNewWindow={}));OpenInNewWindow.exec();\n",
      "//]]>--></div></div><script type=\"text/javascript\">//<![CDATA[\n",
      "_G.HT=new Date;\n",
      "//]]></script><script type=\"text/javascript\">//<![CDATA[\n",
      "(function(){var x=_ge('emb6543E8F79');if(x){x.src='data:image/jpeg;base64,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';}})();\n",
      "//]]></script><script type=\"text/javascript\">//<![CDATA[\n",
      "(function(){var x=_ge('emb520F75601');if(x){x.src='data:image/jpeg;base64,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';}})();\n",
      "//]]></script><script type=\"text/javascript\">//<![CDATA[\n",
      "(function(){var x=_ge('emb27D85A53');if(x){x.src='data:image/jpeg;base64,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';}})();\n",
      "//]]></script><script type=\"text/javascript\">//<![CDATA[\n",
      "(function(){var x=_ge('emb15B4730B1');if(x){x.src='data:image/jpeg;base64,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';}})();\n",
      "//]]></script><script type=\"text/javascript\">//<![CDATA[\n",
      "(function(){var x=_ge('emb4222D65D8');if(x){x.src='data:image/jpeg;base64,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';}})();\n",
      "//]]></script><script type=\"text/javascript\">//<![CDATA[\n",
      "(function(){var x=_ge('emb24F8E3064');if(x){x.src='data:image/jpeg;base64,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';}})();\n",
      "//]]></script><script type=\"text/javascript\">//<![CDATA[\n",
      "(function(){var x=_ge('emb327D35E70');if(x){x.src='data:image/jpeg;base64,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';}})();\n",
      "//]]></script><script type=\"text/javascript\">//<![CDATA[\n",
      "(function(){var x=_ge('emb945DF0AAF');if(x){x.src='data:image/jpeg;base64,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';}})();\n",
      "//]]></script><script type=\"text/javascript\">//<![CDATA[\n",
      "(function(){var x=_ge('emb84434CF85');if(x){x.src='data:image/jpeg;base64,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';}})();\n",
      "//]]></script><script type=\"text/javascript\">//<![CDATA[\n",
      "(function(){var x=_ge('emb70E25E4F7');if(x){x.src='data:image/jpeg;base64,/9j/4AAQSkZJRgABAQEAYABgAAD/2wBDABwTFRgVERwYFhgfHRwhKUUtKSYmKVQ8QDJFZFhpZ2JYYF9ufJ6GbnWWd19giruLlqOpsbOxa4TC0MGszp6usar/2wBDAR0fHykkKVEtLVGqcmByqqqqqqqqqqqqqqqqqqqqqqqqqqqqqqqqqqqqqqqqqqqqqqqqqqqqqqqqqqqqqqqqqqr/wAARCABwAMUDASIAAhEBAxEB/8QAHwAAAQUBAQEBAQEAAAAAAAAAAAECAwQFBgcICQoL/8QAtRAAAgEDAwIEAwUFBAQAAAF9AQIDAAQRBRIhMUEGE1FhByJxFDKBkaEII0KxwRVS0fAkM2JyggkKFhcYGRolJicoKSo0NTY3ODk6Q0RFRkdISUpTVFVWV1hZWmNkZWZnaGlqc3R1dnd4eXqDhIWGh4iJipKTlJWWl5iZmqKjpKWmp6ipqrKztLW2t7i5usLDxMXGx8jJytLT1NXW19jZ2uHi4+Tl5ufo6erx8vP09fb3+Pn6/8QAHwEAAwEBAQEBAQEBAQAAAAAAAAECAwQFBgcICQoL/8QAtREAAgECBAQDBAcFBAQAAQJ3AAECAxEEBSExBhJBUQdhcRMiMoEIFEKRobHBCSMzUvAVYnLRChYkNOEl8RcYGRomJygpKjU2Nzg5OkNERUZHSElKU1RVVldYWVpjZGVmZ2hpanN0dXZ3eHl6goOEhYaHiImKkpOUlZaXmJmaoqOkpaanqKmqsrO0tba3uLm6wsPExcbHyMnK0tPU1dbX2Nna4uPk5ebn6Onq8vP09fb3+Pn6/9oADAMBAAIRAxEAPwDGm2mKMp05FRBttXdQWJVTyRhM0mnmMLIGhWRywxuHQUr6XAprxIPrUg+ZSvcVNdbHlBSMR4GNo9RUSqfncdFIB/GncBvVPcCgEsuM8jpSsNrFgOKNpDZUZFADMn1p8ZH3c9TxTtjbsKuc0rLIeNqqM+vFIY7EZkfdgDAIpix7ydoON2M9gKdEyqS7KScYwKWNnO8LgAtk+tLUq6e5G0DryCG+lRsCOoIq5uGDxUFz/DQncJRSI44pJTiKNnPsKuR6ZKeZWVB6Dk1a0c/6O49xU1zcRwjnJb+6OtO5NjNvbaO3iXZkknkk1UXrVq6uRcIFCkYPrVQZB96aETH7hX8qhbrTwDuGTTX+9QInto/Okx/COtWxAoJZogIxnAPPSlslEcAbuec1sLNbrbYHzqvB+XnNZylqaxjoc/dWylBJD0A6e3rVQdK2JDCZFaBQELEEA5571mXEflTkAcHpTi+hMlYfZvhyn97kVpohKjqaxQxVgwOCORVgpPKAXk4PqxNU0SaLNEhwzoD/AL1FZ4tV7ufwFFGgETbvsoBOQG49qjRyisB/F1qxdKULocj5g3T1qrTQh3mN3oEhUOOz/eqS1iE0hQgnjjBrYttGiyGkU57LmgDIRJZxtSInPepxYyooEjrGT0ya1pGthBMkW1/LA3BScdemfWmajFjL4wuwKDkcncDj8qBlMaZKAf3vPrmopdOuQMBt4rZnilLAxTLGO4ZN2ahzdJ1SGYf7JKH9eKAMF0khb50YeuaWGWNWYyKxB6BTit0SQXB8qRSkn9yQYP4etU7vSlALxZ+lAGe06k8KRUcsgcDAPFPMIGQQQahYYYgUJIbk2aWk3CJuibILcg444zViCyN5KZTjrnJrO00/6dEOxJ/ka1rSeWCMxJCZCHI4/MVEiokdxpaxIxBJPXNY5HzZrpbmOeZ+HUICM5zwPp61hXkQjKuvR2alF6jmtCE4D8dMVHjc4qR2DNnpx2pIBmUEjIHOK0MjXWEKI0YEpt2kVo4igRUjjUI2OSQB+vWqiP8AKS4249fSobK9hlBSeNvMX07isNToVixfuu5AgUKpHTpzWdeqkiEjqvWrcu6R2JTajAKo9qa8AKFMEZHHqR60J2FJGMauWhDQ47qcVXmjaNyGGCKfZttm29mH61uYlzAop9FSBHqsJVVkMrSlhglscY+n1rLrZ1Qf6KD6NVDT4PPuQD90cmnHYHuaWj2YizPLgErnnoBVsb9Q5y0dp2A4aX3Pov8AOonX7RcLajiNQGlx3HZf61YkuHW9S2jRSdmcE4yT0A9OATTAS7EUVm8KAJ8m4Ko4wCKi1MfvD7Rf+zipUuEn89nEWyA/K27OcdyPTI6+3tVV7iF5QktrGR8qj5ujE/Nz3wSPzoAtu43ckD8aTcvXcPzqJHR7QXMqKA0e8jOeKZA6SRRiQIJXGSig8ZHf0/GgCaQQzJsm2ke/amK72rKkzF4WOElPVT6N/jVWW7Akn2RoRHGzK2fvHOM//WrRjZbqFw6qVJKkBtwNAFDUbQAeag+orFlHzmujt8gyWkpLGMfKx/iQ9D+HSsPUIfIumXseRQA3Tzi/h92xXRIvlSbl4B64rm7M4vYD/wBNF/nXUEZIAHWpkiouxC7SIJHdQkRH3ixJ9qwLpi9wxIIHYGtySJDG08pzCpJx1zzwB9aypF8/exQ7m5wOg9KUVbUqb0sVAMMKfZf8fUY7FsGleJwRleg5os1Y3UW0AndVvYzN8w7xuAzVWCz8q5zt3AjOfT2rQIKRkjp1NTRR7tp7YrBGzZBJDui2gYPrU0MIPzsOelTOMMABTugqlHUTloUdR0yG6jJRds2PlYd/Y1y4zHJnkFT0+ldqa5rXrfyr3zQPllGfxHWtEZseCCMjoaKhtmLQL044opAW9TGbM+zD+RqPRYwImkPc/pU2oDNm/wBRUdl8ulOR12Mf0poTLWmgsnnN96Zi5/Hp+lF1aGTUIWeNGgZju2J833erH+VZV7ZT3LwfZ49wWFQeQPX1psOlXaBxJabiRx8y8e/WmBtRpL5csjxyfafJdEO1doGTtAHr0qv9jl89W2uEXZIQB36sBzycqo/Gqz2DnO3Tcfuwv31+969aiu9LuZdnkWRjwoBG5eT3PX6UAaqwk6PHbyiRW8tQVUcnvim2y3KXcn2hEJnwxkQ8LgYCkVn/AGJhv3acQSgAw64B556+4pq2Er7/APQOdgUYdeuOvWgC1cwzyXilIsBFyhLcZB/iP58D1q3p6ukWJEkViSW8xgST61nmwch8abjKYBDLweeev+cVXvNMuJGVoLIxKBz869fzoA2bweXPbz+j+W30b/69Z2vR4aOT2xUFtaT2ltdeemwkIy8g5w49Kva8P9HU+/8AhQBiQHFxEfR1/nXT20jT3jxpjy0U5OOpzj/GuXjBMibeu4Y/Our0xVgsHuDyXJY++OAPz/nQwRV1mfa6wAZRB2/ve309Kz5oXiYRTP8AvG5K+nAwKeGea5Z5Q7oDvcoQD19fr69qju2/0sDndnHt29aQ7aXI23l2zjnPp7U2ymS3uRJIGx2A6D3NPKyb+SenqfT6VTlyBk9cUCOptWa5WN1UqjDcCfQ9PxrQChRgdqrWa+VaQp02oo/SrDGhJIpu4pxUbGlJpo5FADuoqjq1r9psnCj50+dfw6j8qvAYFIeDmgDjY5mjBA6E5oqTUIfs17LF0UNlfoeRRTJNa9GbST6D+dRaXiSxaP1BX9MVPdqfssvB+7WdpE2yYxk/e6UojZoWQMlvGdwGVCMCuenFWDYKwIL8FduNvbr61BAfJvGiP3ZD5ifXuP61eS6gNybYSAzDqoGcetMRCbNRli4GDuzjp79afJGsqnzJoiNuCSo6Hn19qluomltJIkIDOMAmq0lnI6OgYAs2ck5zjgfjjr9KQEc8CGIxNOvljHp2H1pgtY43BaUKSc8j149famtZNhYmPygMMhupJ+noP1pWtZBsPyswKluccAYI/rTAtLp6KANwOBjlc8fnTZbEMpBcEnH8I7cCrKuRE7HJJYkZ7DPFMZxxkHOc0AVL+NykauwJkkVAMY4Byf5VX19v3MY9Sat7jcXwYrlIF2gnux6n8BxWZrkgeVVHRSaAM+AfvMnooJrptVdI9OWFGUBsKPoBk/0rm7bgyH0T8ueta+ssSbeGR97LHk9Mc/8A6hQBSWTbbnJJJPPNRTMDKpAwQe31qUuTCNq8E47+tQytvY8AHGc0gJTHiX73+cH3qrKpMmzqSdv61aZU80fMM/h71FbqG1CBBzmVf50wOtxg4H0p555qMt+8A+pNSdhSKEoUcUtGdq0AIzgOid2Un8sf40pHFZV5fLbanC8mdu0rtA5we/5/yrWblaBGZqVjHcypIwydu39f/r0Vo4yKKBnNyW6+UzhZ2wuQWfIrMRzHIGXqDU6yIY9rI7MBjJkOPyqsetCJN43CSWLXAALxDcvs3QGptOgjWxSS22+cy4MpByTn5v5Vh2t00D56rjBGO1b4WG6t0Ef7vZyhQ4KfSmBCtrcCNFCgOkXyuG+6drZA75Jbr7VMIZVtZURNiuTiMY3KCR3zjOOcetAnuYOJ4zMg/wCWkQ5/Ff8ACnpf2z8C4UH0c7T+tAFNYZkniYqR5a/w46nd09Dk9On6U8RMlgYxFycgABfwJ7Z6Zqy0seSfNjwf9oVC15bLwJQ7f3YxuP6UAMEbiQHyiVSLy+Apz06Z6jjvTIbdhLCDjMQG/ocHB4H/AH1k/SpN1zPwoNtGerHlz9OwoZoLGLCgDn15J9/U0AWLmZYYFLHk8DmsXUwu1SDkluefan3E7ThS/ZiKbqI/cIfcfyoEVbcfupskBSApJ7VeuHQ3jiEiRI41RWznIAHPFZ4X/RWweS2MVdjLgEKMADg4/wAaBjS77FJGBnPSoWYncGOARipMERksNwGeODzxTZG/dD92QOnb3pAPbYHTO7PHr60acobWLcDnD5/IE0OUDr8p/H6/WptJUNrIYDhFJP8AL+tAGtqU5tXgdRksTkZ7Y/8Ar1CNciKj9y4GezA1W1p2a+wP+WaALj1PP9azmkyEHynr1470wubUuuRIDiB84yNzAfyqrNq915gIYBM9Avy49/WqTPuOEyDg9ME571esrVpLyNp7eR4Bzl+B7detINS1YW32y6/tGYMrBvkU/T+XPFah6+9OJ3Dg1GXCZLduSScAUDHqOKKwbzX5PO22m3y143EfePr9KKYXKK2szA/umH1wKoGujAycZz+Fc4etJCasFaMMhRVKZB6nnrWdVtHG1fpTEzVh1DPEi8+oqwZraUfPtPswBrHV8DI702dspz1NAGpsseMJBk/7IoN5bQBgjADHRQK58YOAOtPZlbGFC4AACjr7mgZoz6qx4hTAPQms6SRpW+c5wOoHbNN7ZzzSAjGKALW7Fvx13f0pLh82yj6GkQg25Q9eopj/AOpxQIQD/RkPff0q3F5hyQcccYx/Squ4COFQOc7j/SrSBjn5uvQZPrQAzY5ibLfz9BTHUBBkg4bp+J96csa+WwLDp6e31pAANu07juwB6k//AK6Qx0jqGX5Vz+HtWhoDRGe4ycTMRgH+6PT8apT+ahUvEy+uQR6UukHZq0bN6NgepxQBNqwYalLg5JA/9BHaqayHCjHIPr/jVvVSzagxHHTOD14qijEMNynr6UBszStZlieIRjLORvlYdAey/wCNa7tgcnmuZkZCQu3jaOg/+vU/9oyvD5TMdxO0v3IqXEuMl1L8eqgX5gP+qxjf6N/hVXWNQMkflQ/cbhm7n2FUkwHwF7jtSXn+rH+9TsS3crKeKKbRVEn/2Q==';}})();\n",
      "//]]></script><script data-rms=\"1\" src=\"/rb/5i/cj,nj/87f3be65/8b75ab1e.js?bu=Etwf_R-eH6kfgwW2H7gfiiC6H8QfyR_4H_Yf6x_YHuYd6R3bHg\" type=\"text/javascript\"></script><script type=\"text/javascript\" data-rms=\"1\">//<![CDATA[\n",
      "var ErrFuncs;(function(n){function i(n,i,r){t(\"Error\",n,i,r)}function r(n,i,r){t(\"Warning\",n,i,r)}function t(n,t,i,r){var u,f;if(r?(u=r,u.message+=\" \"+t):u=new Error(t),u.extra=\"manualError\",i&&(u.extra+=\" \"+i),u.severity=n,f=_w.jsErrorHandler,f)f(u);else throw u;}n.LogError=i;n.LogWarning=r})(ErrFuncs||(ErrFuncs={}));JS={LogError:ErrFuncs.LogError,LogWarning:ErrFuncs.LogWarning};SharedLogHelper={LogError:ErrFuncs.LogError,LogWarning:ErrFuncs.LogWarning,LogFatalError:function(){return null},RegisterErrorFilter:function(){return null}};/*!DisableJavascriptProfiler*/\n",
      "0;var EnglishSearchShared;(function(n){function r(n,i){var e=!1,o=_w.location.href.split(\"?\"),r,u,f,s,h;if(o.length==1||o[1]==\"\")return t(_w.location.href,n,\"1\");if(r=_w.location.search.replace(\"?\",\"\"),u=r.split(\"&\"),u){for(r=o[0]+\"?\",f=0;f<u.length;f++)if(s=u[f],s.split(\"=\")[0].toLowerCase()===n){if(e)continue;r=r+n+\"=\"+i+\"&\";e=!0}else r=r+s+\"&\";h=r.substring(r.length-1);h==\"&\"&&(r=r.substring(0,r.length-1))}return e?r:t(_w.location.href,n,\"1\")}function t(n,t,i){var u=n.substring(n.length-1),r=t+\"=\"+i;return n.indexOf(\"?\")<0?n+\"?\"+r:u==\"?\"?n+r:n+\"&\"+r}function u(n){var t=_w.location.search.replace(\"?\",\"\"),r=t.split(\"&\"),i,u,f;if(r){for(t=\"?\",i=0;i<r.length;i++)u=r[i],u.split(\"=\")[0].toLowerCase()!==n&&(t=t+u+\"&\");return f=t.substring(t.length-1),f==\"&\"&&(t=t.substring(0,t.length-1)),t}return\"\"}function i(n,t){var f=null,e=n.replace(\"?\",\"\"),r=e.split(\"&\"),i,u;if(r)for(i=0;i<r.length;i++)if(u=r[i],u.split(\"=\")[0].toLowerCase()===t.toLowerCase()){f=u.split(\"=\")[1];break}return f}function f(n,t,r,u){var e=i(_w.location.search,n),f=\"\";e==\"1\"?(f=\"1\",sj_cook.set(t,r,f,u,\"/\")):e!=null&&(f=\"0\",sj_cook.set(t,r,f,u,\"/\"))}function e(n,r){if(_w.location.search.match(/form=/i)){var u=i(_w.location.search,\"form\"),f=new RegExp(\"form=\"+u,\"gi\");return n.replace(f,\"FORM=\"+r)}return t(n,\"FORM\",r)}n.SetParameter=r;n.RemoveParameter=u;n.SetCookieByUrlParameter=f;n.SetFormCode=e})(EnglishSearchShared||(EnglishSearchShared={}));var SwitchTabV2;(function(){function o(){return typeof Log!=\"undefined\"&&Log!==null&&typeof Log.Log!=\"undefined\"}function s(){n=\"0\";sj_cook.set(r,u,n,!0,\"/\");o()&&Log.Log(\"DHTMLClick\",\"EnglishSearch_SwitchTab\",\"SwitchToChinese\",!1);var t=EnglishSearchShared.RemoveParameter(f);t=EnglishSearchShared.SetFormCode(t,e);_w.location.search=t}function h(){n=\"1\";sj_cook.set(r,u,n,!0,\"/\");o()&&Log.Log(\"DHTMLClick\",\"EnglishSearch_SwitchTab\",\"SwitchToEnglish\",!1);var t=EnglishSearchShared.SetParameter(f,\"1\");t=EnglishSearchShared.SetFormCode(t,e);_w.location.href=t}function c(){(i=_ge(\"est_en\"),t=_ge(\"est_cn\"),i&&t)&&(EnglishSearchShared.SetCookieByUrlParameter(f,r,u,!0),sj_be(i,\"click\",function(){h()}),sj_be(t,\"click\",function(){s()}))}var t,i,r=\"ENSEARCH\",u=\"BENVER\",n,f=\"ensearch\",e=\"BESBTB\";c()})(SwitchTabV2||(SwitchTabV2={}));var Lib;(function(n){var t;(function(n){function u(n,t){var r,i;if(t==null||n==null)throw new TypeError(\"Null element passed to Lib.CssClass\");if(n.indexOf)return n.indexOf(t);for(r=n.length,i=0;i<r;i++)if(n[i]===t)return i;return-1}function f(n,u){if(n==null)throw new TypeError(\"Null element passed to Lib.CssClass\");if(!t(n,u))if(r&&n.classList)n.classList.add(u);else{var f=i(n)+\" \"+u;o(n,f)}}function e(n,f){var e,s,h;if(n==null)throw new TypeError(\"Null element passed to Lib.CssClass\");t(n,f)&&(r&&n.classList?n.classList.remove(f):(e=i(n).split(\" \"),s=u(e,f),s>=0&&e.splice(s,1),h=e.join(\" \"),o(n,h)))}function s(n,i){if(n==null)throw new TypeError(\"Null element passed to Lib.CssClass\");r&&n.classList?n.classList.toggle(i):t(n,i)?e(n,i):f(n,i)}function t(n,t){var f,e;if(n==null)throw new TypeError(\"Null element passed to Lib.CssClass\");return r&&n.classList?n.classList.contains(t):(f=i(n),f)?(e=f.split(\" \"),u(e,t)>=0):!1}function h(n,t){var f,e,r,u,o;if(n.getElementsByClassName)return n.getElementsByClassName(t);for(f=n.getElementsByTagName(\"*\"),e=[],r=0;r<f.length;r++)u=f[r],u&&(o=i(u),o&&o.indexOf(t)!==-1&&e.push(u));return e}function o(n,t){n instanceof SVGElement?n.setAttribute(\"class\",t):n.className=t}function i(n){return n instanceof SVGElement?n.getAttribute(\"class\"):n.className}var r=typeof document.body.classList!=\"undefined\";n.add=f;n.remove=e;n.toggle=s;n.contains=t;n.getElementByClassName=h})(t=n.CssClass||(n.CssClass={}))})(Lib||(Lib={}));var Identity = Identity || {}; (function(i) { i.wlImgSm =\"https://storage.live.com/users/0x{0}/myprofile/expressionprofile/profilephoto:UserTileStatic/p?ck=1\\u0026ex=720\\u0026fofoff=1\\u0026sid=1E11DA487C8761930B85D45B7DA960D1\"; i.wlImgLg =\"https://storage.live.com/users/0x{0}/myprofile/expressionprofile/profilephoto:UserTileMedium/p?ck=1\\u0026ex=720\\u0026fofoff=1\\u0026sid=1E11DA487C8761930B85D45B7DA960D1\";i.popupLoginUrls = {\"WindowsLiveId\":\"https://login.live.com/login.srf?wa=wsignin1.0\\u0026rpsnv=11\\u0026ct=1573606135\\u0026rver=6.0.5286.0\\u0026wp=MBI_SSL\\u0026wreply=https:%2F%2fcn.bing.com%2Fsecure%2FPassport.aspx%3Fpopup%3D1%26ssl%3D1\\u0026lc=2052\\u0026id=264960\"}; })(Identity);;var sch=sch||{};(function(){var t=_ge(\"id_h\"),n=_ge(\"id_sc\"),i=\"click\";sj_evt.bind(\"onP1\",function(){setTimeout(function(){t&&n&&(sj_jb(\"Blue/HamburgerServicesHeaderFlyout_c\",0,t,\"mouseover\",n,i,n,\"focus\"),sj_be(n,i,function(n){sch.clk=n}))},50)},1)})();var SearchBox;(function(n){function u(){t=_ge(\"b_header\");sj_be(_d.body,\"click\",i)}function i(n){var i=sj_et(n);i.id!=\"sb_form_q\"&&(t.className=t.className.replace(r,\"\"))}var r=/(^|\\s)b_focus(?!\\S)/gi,t;n.removeFocusClass=i;sj_evt.bind(\"onP1\",u)})(SearchBox||(SearchBox={}));define(\"AdbDefV7\",[\"require\",\"exports\"],function(){(function(){function r(n,t){var i=\"CI.StyleExp\",r=\"sendBeacon\";if(navigator&&navigator[r]){var u=+new Date,f=new RegExp('\"',\"g\"),e='[{\"T\":\"'+i+'\",\"FID\":\"CI\",\"Name\":\"'+n+'\",\"Text\":\"'+escape(t.replace(f,\"\"))+'\"}]',o=\"<E><T>Event.ClientInst<\\/T><IG>\"+_G.IG+\"<\\/IG><TS>\"+u+\"<\\/TS><D><![CDATA\"+e+\"]><\\/D><\\/E>\",s=\"<ClientInstRequest><Events>\"+o+\"<\\/Events><STS>\"+u+\"<\\/STS><\\/ClientInstRequest>\";navigator[r](\"/fd/ls/lsp.aspx?\",s)}else sj_log(i,n,t)}function n(n,t){return Math.floor(Math.random()*(t-n))+n}function t(t,i,r){var e,u,f;for(r===undefined&&(r=o),e=n(t,i),u=\"\",f=0;f<e;f++)u+=r.charAt(n(0,r.length));return u}function f(){for(var n=\"b_\"+t(10,20);s[n]!=undefined;)n=n+t(10,20);return s[n]=!0,n}function h(n,t,i){for(var r=n+\"\";r.indexOf(t)>-1;)r=r.replace(t,i);return r}function c(n){for(var t,i,u,f=[],e=n.querySelectorAll(\".b_restorableLink\"),r=0;r<e.length;r++)t=e[r],i=t.getAttribute(\"data-restore\"),i&&(u=new pt(t,n,i),f.push(u));return f}function l(n,t){var i=document.createEvent(\"MouseEvents\");i.initEvent(t,!0,!0);n.dispatchEvent(i)}function a(n,t,i){i.preventDefault();i.stopPropagation();l(n,t)}function v(n){var i=sj_ce(\"h2\"),t=sj_ce(\"a\");return t.innerHTML=n.adLinkHTML,[\"mousedown\",\"mouseup\",\"click\"].forEach(function(i){sj_be(t,i,a.bind(null,n.originalAnchor,i))}),t.href=yt,t.setAttribute(\"h\",at),i.appendChild(t),i}function y(n,t){t.preventDefault();t.stopPropagation();n&&n.remove()}function p(n){var i=sj_ce(\"div\"),t,r,u;return i.classList.add(\"b_caption\"),t=sj_ce(\"div\"),t.classList.add(\"b_attribution\"),t.setAttribute(\"u\",vt),t.innerHTML='<a href=\"#\" aria-label=\"Actions for this site\" aria-haspopup=\"true\" aria-expanded=\"false\" role=\"button\"><span class=\"c_tlbxTrg\"><span class=\"c_tlbxTrgIcn sw_ddgn\"><\\/span><span class=\"c_tlbxH\" h=\"BASE:CACHEDPAGEDEFAULT\" k=\"SERP,5200.1\"><\\/span><\\/span><\\/a>',sj_be(t.querySelector(\"a\"),\"mousedown\",y.bind(null,t.querySelector(\".c_tlbxH\"))),sj_be(t.querySelector(\"a\"),\"click\",function(n){n.preventDefault();n.stopPropagation()}),r=sj_ce(\"cite\"),r.innerHTML=n.attributionLinkHTML,t.insertBefore(r,t.querySelector(\"a\")),u=sj_ce(\"p\"),u.innerHTML=n.descriptionHTML,i.appendChild(t),i.appendChild(u),i}function w(n){var t=sj_ce(\"li\");return t.classList.add(\"b_algo\"),t.classList.add(u),t.appendChild(v(n)),t.appendChild(p(n)),t}function b(n){for(var i,r=[],t=0;t<n.length;t++)i=w(n[t]),_ge(\"b_results\").insertBefore(i,n[t].orignialAdBlockElement),r.push(i);return r}function k(){var t=_d.head||document.getElementsByTagName(\"head\")[0],n=sj_ce(\"style\");n.type=\"text/css\";n.appendChild(_d.createTextNode(\".b_socicon{width: 16px;height: 16px;vertical-align:text-bottom;margin-right: 4px;}\"));t.appendChild(n)}function i(n){return n&&(n.offsetHeight<1||n.offsetWidth<1)}function d(n){for(var t=0;t<n.length;t++)if(i(n[t]))return!0;return!1}function g(n){for(var t=0;t<n.length;t++)if(i(n[t])||i(n[t].querySelector(\"h2\"))||i(n[t].querySelector(\".b_caption\"))){r(\"one_second_post_restore\",\"hidden\");return}r(\"one_second_post_restore\",\"visible\")}function nt(){sj_cook.set(\"ABDEF\",\"MRB\",(new Date).getTime().toString(),!0,\"/\");sj_cook.set(\"ABDEF\",\"MRNB\",\"0\",!0,\"/\")}function tt(){sj_cook.set(\"ABDEF\",\"MRNB\",(new Date).getTime().toString(),!0,\"/\");sj_cook.set(\"ABDEF\",\"MRB\",\"0\",!0,\"/\")}function it(){var t=[],o=_ge(\"b_content\"),f,e,s,u,n;if(o){for(f=o.querySelectorAll(st),n=0;n<f.length;n++)e=f[n],s=e.querySelectorAll(ht),(i(e)||d(s))&&t.push(e);f.length>0&&t.length===0&&tt()}if(u=[],t.length>0){for(nt(),n=0;n<t.length;n++)u=u.concat(c(t[n]));u.length>0?r(\"ba\",\"text included\"):r(\"ba\",\"text not included\")}return u}function rt(n){var i=n.join(\" \"),r=_d.head||document.getElementsByTagName(\"head\")[0],t=_d.createElement(\"style\");t.type=\"text/css\";t.appendChild(_d.createTextNode(i));r.appendChild(t)}function ut(){var n=_ge(\"b_results\").querySelector(\".b_restorableLink\"),t;return n!==null&&n.getAttribute(\"data-restore\")&&(t=JSON.parse(n.getAttribute(\"data-restore\")),t.adSlugText)?t.adSlugText:\"Ad\"}function ft(){rt([\".\"+u+' > .b_caption > p::before{content: \"'+ut()+'\"; color: rgb(102, 102, 102); border: 1px solid rgb(221, 221, 221); padding: 0px 2px; margin-right: 4px; font-size: 11px; font-weight: normal; line-height: 14px; border-radius: 6px; }',\".\"+u+\" > .b_caption > .b_attribution > cite { text-transform: lowercase; }\"])}function et(){for(var t=_ge(\"b_results\").querySelectorAll(\"li\"),n=0;n<t.length;n++)t[n].classList.add(lt)}function ot(){var t=it(),i,n;t.length>0&&(ft(),et(),i=b(t),n=_ge(\"b_content\").getElementsByClassName(\"b_socicon\"),n&&n.length>0&&k(),sb_st(g.bind(null,i),1e3))}var st=[\".\"+_G.adc,\".partnerLinks\",\"#zune_upsell\"].join(\",\"),ht=\".sb_add .sb_add>div,.sb_add>h2,.sb_add>h3,.pa_mlo,.pa_list_sbo,.pa_sb,.b_restorableLink\",e=\"0123456789\",o=\"abcdefghijklmnopqrstuvwxyz\",ct=o+\"ABCDEFGHIJKLMNOPQRSTUVWXYZ\"+e,s={},u=f();_G.abdef_sarc=u;var lt=f(),at=\"ID=SERP,\"+n(5e3,6e3)+\".\"+n(1,5),vt=n(1,10)+\"|\"+n(5e3,6e3)+\"|\"+t(15,18,e)+\"|\"+t(31,33,ct),yt=\"https://www.\"+t(10,15)+\".com/\"+t(10,15),pt=function(){function n(n,t,i){this.originalAnchor=n;this.orignialAdBlockElement=t;var r=JSON.parse(i);this.adLinkHTML=h(r.title,\"ad_sym\",\"format_sym\");this.attributionLinkHTML=r.displayUrl;this.descriptionHTML=r.description}return n}();ot()})()});0;(function(){function i(){var f,e,o,s,h,i;u(window.location.href)||(f=_w.innerWidth,e=sj_cook.get(n,\"CW\"),(!e||window.sj_b&&e!=sj_b.clientWidth)&&sj_cook.set(n,\"CW\",f.toString(),!0,\"/\",null),o=sj_cook.get(n,\"CH\"),s=sb_de.clientHeight.toString(),o&&o===s||sj_cook.set(n,\"CH\",s,!0,\"/\",null),t&&(h=_w.TPane,i=r(f),i!=h&&(Log&&Log.Log&&Log.Log(\"Info\",\"TPResize\",h+i),_w.TPane=i)))}function u(n){return n.match(/\\/images\\/search.*[?&]view=detailv2.*nocookie=1\\b/i)!=null}function f(){var u=sj_cook.get(n,\"DPR\"),t=_w.devicePixelRatio,i,r;t&&(!u||parseInt(u)!==t)&&sj_cook.set(n,\"DPR\",t.toString(),!0,\"/\",null);i=sj_cook.get(n,\"UTC\");r=((new Date).getTimezoneOffset()*-1).toString();(i==null||i!==r)&&sj_cook.set(n,\"UTC\",r,!0,\"/\",null)}function e(){i();f();t=_ge(\"b_context\")!=null;t&&(_w.TPane=r(_w.innerWidth))}function r(n){return n<=1193?\"N\":n<=1281?\"M\":\"W\"}var n=\"SRCHHPGUSR\",t=!1;sj_be(_w,\"load\",e);sj_be(_w,\"resize\",i)})();var BilingualDict={Play:function(n){BilingualDict.Click(null,n,null,null,null);Log.Log(\"audioClick\",\"BilingualDictionaryAudio\",\"BilingualDictionaryAudioInst\")},Click:function(n,t,i,r,u){var f,e,o;if(t!=\"\"){f=_ge(u);f==null&&(f=_ge(\"dict_aud_cnt\"));e=BilingualDict.GetPlayer(t);try{f.innerHTML=e}catch(s){o=\"pCont is null\";Log.Log(\"Error\",\"DictVerp\",o)}}},GetPlayer:function(n){if(navigator.userAgent.indexOf(\"Safari\")>-1||navigator.userAgent.indexOf(\"UCBrowser\")>-1||navigator.userAgent.indexOf(\"iPhone\")>-1||navigator.userAgent.indexOf(\"iPad\")>-1){BilingualDict.player&&BilingualDict.player.pause&&BilingualDict.player.pause();var t=document.createElement(\"audio\");return t.src=n,t.play(),BilingualDict.player=t,t.innerHTML}return'<audio src=\"'+n+'\" autoplay ><\\/audio>'},player:null};sa_CTBConfig={\"TRGT\":\"此网站的操作\",\"CU\":\"http://cncc.bingj.com/cache.aspx?q=Winter\\u0026d={0}\\u0026mkt=zh-CN\\u0026setlang=zh-CN\\u0026w={1}\",\"CT\":\"已缓存\",\"NW\":\"1\"};var ProgressiveImages;(function(){function n(){for(var n,t,r=_d.getElementsByTagName(\"img\"),i=0;i<r.length;i++)n=r[i],t=n.getAttribute(\"data-src-hq\"),t&&n.src!=t&&(n.src=t)}sj_evt.bind(\"onP1\",n,1);sj_evt.bind(\"loadProgImages\",n,1)})(ProgressiveImages||(ProgressiveImages={}));var VRHH2=VRHH2||{}; VRHH2.el=VRHH2.el||[]; VRHH2.el.push(\"vidans2\");var HoverUtils;(function(n){function t(n){if(!n)return\"\";var t=n.className||\"\";return typeof t==\"string\"?t:t.baseVal||\"\"}function i(n,i){var r;if(!i||i.length<1)return!1;var e=t(n),o=e.split(\" \"),u=i.split(\" \"),s=u.length,f=!0;for(r=0;r<s;r++)o.indexOf(u[r])<0&&(f=!1);return f}function u(n,t){return n.hasAttribute?n.hasAttribute(t):n[t]!==undefined}function f(n,t){i(n,t)||n&&n.className&&(n.className+=\" \"+t)}function e(n,i){var f=t(n),r=f.split(\" \"),u=r.indexOf(i);u!==-1&&r.splice(u,1);n.className=r.join(\" \")}function o(n,t){var i=r(n,t);return!i||i.length<1?null:i[0]}function r(n,t){var r=t||document,f,e,o,u,s;if(typeof r==\"undefined\"||r===null)return null;if(typeof r.getElementsByClassName==\"function\")return r.getElementsByClassName(n);for(f=r.getElementsByTagName(\"*\"),e=[],u=0,s=f.length;u<s;u++)o=f[u],i(o,n)&&e.push(o);return e}function s(n){n&&n.className.indexOf(\" hi\")<0&&(n.className+=\" hi\")}function h(n){n&&n.className.indexOf(\" hi\")>=0&&(n.className=n.className.replace(\" hi\",\"\"))}function c(n){return sj_sp(n),sj_pd(n),!1}n.getClassName=t;n.hasClass=i;n.hasAttribute=u;n.addClass=f;n.removeClass=e;n.getFirstElementByClassName=o;n.getElementsByClassName=r;n.hideElementByClassName=s;n.showElementByClassName=h;n.preventEvent=c})(HoverUtils||(HoverUtils={}));sj_evt.bind(\"chevrons_init\", function() { Chevrons.init(\"slideexp0_949445\", _ge(\"slideexp0_949445chevrons_prevbtn\"), _ge(\"slideexp0_949445chevrons_nextbtn\")); }, 1);;(function() { function InitSlide() { var params = [\"0_949445\",\"slideexp0_949445\",true,8,\"我们目前找不到更多关于此页面的信息\",true,false,-2,false,true]; if (typeof(SmartRendering) !== 'undefined') { SmartRendering.LoadElementWhenDisplayed(this, _ge('slideexp0_949445'), SlideExperienceLite.init, params); } else { SlideExperienceLite.init.apply(this, params); } sj_evt.unbind(\"slideexperiencelite_init\", InitSlide); } sj_evt.bind(\"slideexperiencelite_init\", InitSlide, 1); })();;sj_evt.bind(\"ajax.feedback.initialized\", function(args) { args[1].debugCollector.setContextValue(\"FederationDebugInfo\", \"QueryID : 4844141a2dd24606b203d4a9bc9cf104\"); });;var fbpkgiid = fbpkgiid || {}; fbpkgiid.page = 'SERP.5622';;var Feedback;(function(n){var t;(function(){\"use strict\";function u(t,i){var u=t.getAttribute(\"id\"),f;u||(u=\"genId\"+n.length,t.setAttribute(\"id\",u));f=new r(u,i,t.getAttribute(i));n.push(f)}function i(n,t,i){i===null?n.removeAttribute(t):n.setAttribute(t,i)}function t(n,t,r,f){for(var e,s=_d.querySelectorAll(r),o=0;o<s.length;o++)(e=s[o],f&&e.id&&f[e.id])||(u(e,n),i(e,n,t))}function f(n){for(var u=_d.querySelectorAll(n),e=1,f={},t,i,r=0;r<u.length;++r){if(t=u[r],!t.id){for(;;)if(i=\"fbpgdgelem\"+e++,!_ge(i))break;t.id=i}f[t.id]=t}return f}function e(){var i=\"tabindex\",r=\"-1\",n=f(\"#fbpgdg, #fbpgdg *\");t(i,r,\"div\",n);t(i,r,\"svg\",n);t(i,r,\"a\",n);t(i,r,\"li\",n);t(i,r,\"input\",n);t(i,r,\"select\",n);t(\"aria-hidden\",\"true\",\"body :not(script):not(style)\",n)}function o(){for(var r,t=0;t<n.length;t++)r=_d.getElementById(n[t].id),r&&i(r,n[t].attributeName,n[t].originalAttributeValue);n.length=0}function s(){typeof sj_evt!=\"undefined\"&&(sj_evt.bind(\"onFeedbackStarting\",function(){e()}),sj_evt.bind(\"onFeedbackClosing\",function(){o()}))}var n=[],r=function(){function n(n,t,i){this.id=n;this.attributeName=t;this.originalAttributeValue=i}return n}();s()})(t=n.Accessibility||(n.Accessibility={}))})(Feedback||(Feedback={}));var Feedback;(function(n){var t;(function(){function r(i,r,u,f,e,o){i=typeof i===t?!1:i;i&&scrollTo(0,0);u=typeof u===t?!0:u;n.PackageLoad.Load(r,u,f,e,o)}function e(n,t){for(var r=0,i=null;n&&n.getAttribute&&(!(t>=1)||r<t);){if(i=n.getAttribute(\"data-fbhlsel\"),i!=null)break;r++;n=n.parentNode}return i}var u=\"feedbackformrequested\",c=\"feedbackInitialized\",i,f=\"\",o=\"feedback-binded\",s=\"clicked\",t=\"undefined\",h;n.Bootstrap.InitializeFeedback=function(l,a,v,y,p,w,b,k){function nt(t){var r=null,i;return t&&(i=new h,n.fel(\"ajax.feedback.collectsettings\",\"gsf\",i),r=i.findSettings(t)),r}var d=_ge(a),g;d&&d.classList&&d.classList.contains(o)||(p=typeof p===t?!1:p,g=e(d,3),f!==\"sb_feedback\"&&(f=a,typeof sj_evt!==t&&(i&&sj_evt.unbind(u,i),i=function(n){var u=null,t=null,f=null,o,i,s;n&&n.length>1&&(i=n[1],i.tagName!==undefined&&i.nodeType!==undefined?(u=i,t=nt(u)):t=i,o=t&&t.elementToHighlight||u,f=e(o));s=t&&t.linkId||a;r(y,l,v,s,f,t)},sj_evt.bind(u,i,1)),typeof SearchAppWrapper!==t&&SearchAppWrapper.CortanaApp&&SearchAppWrapper.CortanaApp.addEventListener&&SearchAppWrapper.CortanaApp.addEventListener(u,function(n){(typeof n!==t&&n!==null&&(n.isHandled=!0),a===f)&&_ge(\"fbpgdg\")===null&&r(y,l,v,a)})),d!==null?(sj_be(d,\"click\",function(n){var i=null,t=null,u=null,f;if(p&&d.classList){if(d.classList.contains(s))return!1;d.classList.add(s)}sj_pd(n);sj_sp(n);i=sj_et(n);t=nt(i);f=t&&t.elementToHighlight||i;u=e(f);r(y,l,v,a,u||g,t||k)}),d.classList&&d.classList.add(o)):(b=typeof b===t?!1:b,b&&r(y,l,v,a,g)),typeof sj_evt!==t&&sj_evt.fire(c))};n.le=function(n,t){SharedLogHelper&&SharedLogHelper.LogError&&SharedLogHelper.LogError(\"Feedback: \"+n,null,t)};n.leh=function(t,i,r){n.le(\"Feedback: \"+t+\" handler failed in \"+i,r)};n.fel=function(t,i){for(var u=[],r=2;r<arguments.length;r++)u[r-2]=arguments[r];try{u.unshift(t);sj_evt.fire.apply(null,u)}catch(f){n.leh(t,i,f);throw f;}};h=function(){function n(){this.settingsList=[]}return n.prototype.setStartSettings=function(n,t){n&&t&&this.settingsList.push({c:n,s:t})},n.prototype.findSettings=function(n){var t=null;return this.settingsList.forEach(function(i){sj_we(n,i.c)&&(t=i.s)}),t},n}()})(t=n.Bootstrap||(n.Bootstrap={}))})(Feedback||(Feedback={})),function(n){var t;(function(t){\"use strict\";function f(f,e,o,s){var k=_G.IG,d=typeof _G.V===i?_G.P:_G.V,h,y,c,a,w,v;n.fel(\"onFeedbackStarting\",\"lp\");t.staticConfig={linkId:e,activeElement:_d.activeElement};var l=\"?ig=\"+k+\"&p=\"+d,b=n.RouteProvider.Provide(f),p=encodeURIComponent;if(s){if(s.formConfig&&(b=f===\"page\"?\"sdk/form\":f,l+=\"&formconfig=\"+s.formConfig),s.service&&(t.staticConfig.service=s.service),s.scenario&&(t.staticConfig.scenario=s.scenario),c=s.context,c)for(a in c)c.hasOwnProperty(a)&&(l+=\"&\"+p(a)+\"=\"+p(c[a]));s.pos&&(t.staticConfig.pos=s.pos,l+=\"&pos=1\")}for(h=\"/feedback/\"+b+l,typeof fbsrc!==i&&(h+=\"&src=\"+p(fbsrc)),typeof fbpkgiid!==i&&fbpkgiid[f]&&(h+=\"&iid=\"+fbpkgiid[f]),w=[\"addloginsource\",\"client\",\"corpnet\",\"features\",\"hose\",\"hoseassistant\",\"logjserror\",\"msamock\",\"setvar\",\"testhooks\",\"theme\",\"uncrunched\"],v=0;v<w.length;v++)(y=location.href.match(new RegExp(\"[?&]\"+w[v]+\"=[^?&#]*\",\"i\")))&&y[0]&&(h+=\"&\"+y[0].substring(1));sj_ajax(h,{callback:function(t,i){if(t&&i){r&&r.removeAttribute(\"clicked\");var u=s&&_ge(s.feedbackContainerId);i.appendTo(u||_d.body);n.fel(\"onFeedbackShow\",\"lp\");n.fel(\"clarity.trigger\",\"lp\",\"BingFeedback\");n.Highlight&&o&&n.Highlight.HighlightElements(o)}}});u[f]=!0}var u={},i=\"undefined\",r;t.staticConfig={};n.PackageLoad.GetHTML=function(){return _d.documentElement.outerHTML};n.PackageLoad.Load=function(n,t,e,o,s){var h,c;t=typeof t===i?!0:t;e=typeof e===i?\"\":e;c=typeof s!=i&&s&&s.feedbackContainerId;r=_ge(e);for(h in n)n.hasOwnProperty(h)&&(!t||c||typeof u[h]===i)&&f(h,e,o,s)}})(t=n.PackageLoad||(n.PackageLoad={}))}(Feedback||(Feedback={})),function(n){var t;(function(){\"use strict\";n.RouteProvider.Provide=function(n){return n===\"page\"?\"sdk/form\":n}})(t=n.RouteProvider||(n.RouteProvider={}))}(Feedback||(Feedback={}));sa_config={\"f\":\"sb_form\",\"i\":\"sb_form_q\",\"c\":\"sw_as\",\"u\":\"%2fAS%2fSuggestions%3fpt%3dpage.serp%26bq%3dWinter%26mkt%3dzh-cn%26ds%3dmobileweb%26qry%3d\",\"removeSuggUrl\":\"/historyHandler?oma=delete_matching_queries\\u0026qt=%7b0%7d\\u0026sig=1E11DA487C8761930B85D45B7DA960D1\\u0026response=json\\u0026FORM=ASRMHS\",\"searchHistoryUrl\":\"/profile/history?FORM=ASRMHP\",\"enabledDataSources\":[\"Web\"],\"ePN\":1,\"fetchOnEmpty\":1,\"fetchOnDownArrowKey\":1,\"t\":1,\"handleDuplicateFetch\":1,\"d\":100,\"removeTextLength\":26};sa_loc= {\"Suggestions\":\"建议\",\"Feedback\":\"针对这些建议的反馈\",\"SearchRemoved\":\"此搜索已从%e搜索历史记录%E中删除\"};;var sa_eL=!1;(function(){function e(n,t,i){n&&sj_ue(n,t,e);sa_eL=sa_eL||i;f||(f=!0,sj_evt.fire(\"AS.bootload\",n),sa_loader())}function r(n,t,i){sj_be(n,t,function(r){e(n,t,i,sj_ev(r))})}var t=sa_config,n=_ge(t.i),i,u,f;if(n.setAttribute(\"autocomplete\",\"off\"),i=_ge(t.c),!i){if(u=_ge(\"sa_qs\")||n,!u)throw new Error(\"AS init failed\");i=sj_ce(\"div\");i.id=t.c;u.parentNode.appendChild(i);n.setAttribute(\"aria-controls\",t.c)}f=!1;_w.sa_loader&&(\"ontouchend\"in _w&&r(n,\"touchend\",!0),r(n,\"click\",!0),r(n,\"keydown\",!0),t.ol&&r(_w,\"load\",!1))})();var MsnShared;(function(n){function f(n,t,i){var f,u,r;if(i==null)return null;if(i.getElementsByClassName)return i.getElementsByClassName(n);for(f=[],t==null&&(t=\"*\"),u=i.getElementsByTagName(t),r=0;r<u.length;r++)(\" \"+u[r].className+\" \").indexOf(\" \"+n+\" \")>-1&&f.push(u[r]);return f}function t(n,t){var i=n.classList;return i?i.contains(t):(\" \"+n.className+\" \").indexOf(\" \"+t+\" \")>=0}function i(n,t){if(n!=null){var i=n.classList;i?i.remove(t):n.className=n.className.replace(t,\"\")}}function r(n,i){if(n!=null){var r=n.classList;r?r.add(i):t(n,i)||(n.className+=\" \"+i)}}function e(n){r(n,\"b_hide\")}function o(n){i(n,\"b_hide\")}function s(){return Math.max(sb_de.scrollTop,_d.body.scrollTop)}function h(n,t,i){var r=n&&n.style;r&&r[t]!==i&&(r[t]=i)}function u(n){var t=null;return n&&(t=_w.getComputedStyle?_w.getComputedStyle(n,null):n.currentStyle),t}function c(n){var i=0,t;if(n&&(t=u(n),t)){var r=parseInt(t.height),f=parseInt(t.marginTop),e=parseInt(t.marginBottom);i=isNaN(r)?0:r;i+=isNaN(f)?0:f;i+=isNaN(e)?0:e}return i}function l(n,t,i){var r=null;return n&&n.parentNode&&t&&n.parentNode!==t&&(r=i?sj_ce(\"span\",null,i):sj_ce(\"span\"),n.parentNode.replaceChild(r,n),t.appendChild(n)),r}function a(n,i,r){if(n!=null&&i!=null&&r>0){for(var u=n;u!=null&&!t(u,i)&&r>0;)u=u.parentNode,r--;if(r>0)return u}return null}n.getElementsByClassName=f;n.hasClass=t;n.removeClass=i;n.addClass=r;n.hide=e;n.show=o;n.getScrollTop=s;n.setStyle=h;n.getComputedStyle=u;n.getCssHeight=c;n.moveToNewParent=l;n.FindParentNode=a})(MsnShared||(MsnShared={}));(function(n,t,i,r,u,f,e,o){if(typeof RMS_IACL==\"undefined\"){RMS_IACL={};var s,h,c=\"data-src\",w=\"data-dpr\",l=\"getAttribute\",g=/^(\\/th\\?(?:id\\=|.*&id\\=))([^&]*)(.*)$/i,nt=/(&|\\?)bw=/i,a=3,y=20;function b(t){var r,i;t&&(r=t[l](c),r&&(t.removeAttribute(c),i=n(\"img\"),i.onload=function(n){h--;i.onload=null;var r=t.parentNode;r&&(p(t,i),t.parentNode.replaceChild(i,t));v(n,i,r,null)},i.onerror=function(n){h--;v(n,i,!1,t)},i.src=r))}function tt(t,i,r){for(var u,s,e=[],f=t[i],o=i;o<r;o++)e.push(t[o].tid);u=n(\"img\");u.onload=function(n){var y,e,b,c,k;h-=r-i;u.onload=null;p(f,u);var g=f[l](\"data-width\"),nt=f[l](w),o=nt?parseFloat(nt):1;for(y=i;y<r;y++){e=t[y];b=e.style;b.position=\"relative\";b.overflow=\"hidden\";b.direction=\"ltr\";p(e,e);c=u.cloneNode();k=\"\";e.hasAttribute(\"title\")?(k=e.attributes.title.value,c.setAttribute(\"title\",e.attributes.title.value)):e.hasAttribute(\"alt\")&&(k=e.attributes.alt.value);c.setAttribute(\"alt\",k);c.removeAttribute(\"width\");c.removeAttribute(\"height\");var s=c.style,d=y-i,tt=sb_ie||o<=1?1:o;s.left=(-g*d-a*(d+1)/o)*tt+\"px\";s.top=-a/o*tt+\"px\";o>1&&(s.hasOwnProperty(\"zoom\")?s.zoom=100/o+\"%\":(s.left=-g*d-a*(d+1)/o+\"px\",s.top=-a/o+\"px\",s.transformOrigin=\"left top\",s.transform=\"scale(\"+1/o+\")\"));s.position=\"relative\";e.appendChild(c)}v(n,f,!0,null)};u.onerror=function(n){h-=r-i;v(n,f,!1,null)};s=f[l](c).replace(e[0],e.join(\":\"))+\"&bw=\"+a+\"&bc=ffffff\";u.src=s.replace(/&p=0/,\"\")}function it(n){var r,t,i;if(n){if(n.length==1)b(n[0]);else if(n.length>1)for(r=n.length,t=0;r>0;)i=t+y,i>n.length&&(i=n.length),tt(n,t,i),r-=y,t+=y}else return}function k(n){var w=d(n),r,a,f,v,o,u,p,i,y;if(s=rt(),s){for(h=s.length,h>0&&t.fire(e,{timeStamp:w,images:s}),r={},a=[],i=0;i<s.length;i++)f=s[i],v=f[l](c),v&&(o=null,u=g.exec(v),u&&u.length&&!nt.test(v)&&(o=u[1]+u[3],f.tid=u[2])),o&&(p=r[o]=r[o]||[]).length<30?p.push(f):a.push(f);for(i=0;i<a.length;i++)b(a[i]);for(y in r)r.hasOwnProperty(y)&&it(r[y])}}function rt(){var t=\"rms_iac\",n;if(i.getElementsByClassName)return i.getElementsByClassName(t);if(i.querySelectorAll)return i.querySelectorAll(\".\"+t);var u=[],r=i.getElementsByTagName(\"div\"),f=new RegExp(\"(^|\\\\s)\"+t+\"(\\\\s|$)\");for(n=0;n<r.length;n++)f.test(r[n].className)&&u.push(r[n]);return u}function p(n,t){for(var r,i,u=0;u<n.attributes.length;u++)r=n.attributes[u],i=r.name,i.lastIndexOf(\"data-\",0)==0&&i!=c&&i!=w&&t.setAttribute(i.substring(5),r.value)}function d(n){var t=new Date;return n&&n.timeStamp>0&&n.timeStamp<=t?n.timeStamp:t}function v(n,i,r,u){var e=d(n);t.fire(f,{timeStamp:e,image:i,state:r?\"success\":\"failed\",placeholderElement:u});h==0&&t.fire(o,{timeStamp:e,images:s})}t.bind(r,k,1);t.bind(u,k,1)}})(sj_ce,sj_evt,_d,\"onPP\",\"RMS.LoadImg\",\"RMS.ImgAOLLoaded\",\"RMS.ImgAOLInit\",\"RMS.ImgAOLCompleted\");\n",
      "//]]></script><script type=\"text/javascript\" data-rms=\"1\" src=\"/rb/14/cj,nj/65f998c4/f054580f.js?bu=DiUrXWlucWZgY6ABowErlQEr\"></script><script type=\"text/javascript\" data-rms=\"1\">//<![CDATA[\n",
      "(function(){function f(){n()}function e(t){var i=t[0],r=t[1],u=t[2];n()}function o(n){var t=n&&n.length>1&&n[1];t&&u.contains(t,\"b_searchbox\")&&s()}function s(){Lib.CssClass.add(sj_b,r)}function n(){Lib.CssClass.remove(sj_b,r)}function h(){sj_evt.bind(\"autosuggestHide\",e,!0);sj_evt.bind(\"focusChange\",o,!0);var n=_ge(\"sb_form\");sj_be(n,\"submit\",f)}function t(){(n(),i)||(i=!0,h())}var i=!1,u=Lib.CssClass,r=\"as_on\";sj_be(_d,\"DOMContentLoaded\",t);sj_evt.bind(\"onP1\",t,!0);sj_evt.bind(\"ajax.load\",t,!0)})();\n",
      "//]]></script><script type=\"text/javascript\" data-rms=\"1\" src=\"/rs/30/27/cj,nj/3f1e2270/f8c6dd44.js\"></script><script type=\"text/javascript\" data-rms=\"1\" src=\"/rs/30/2k/cj,nj/4c7364c5/40e1b425.js\"></script><script type=\"text/javascript\" data-rms=\"1\" src=\"/rs/49/z/cj,nj/64cc4a49/e70a8ff8.js\"></script><script type=\"text/javascript\" data-rms=\"1\">//<![CDATA[\n",
      "(function() { var config ={\"url\":\"https%3a%2f%2flogin.microsoftonline.com%2fcommon%2foauth2%2fauthorize%3fclient_id%3d9ea1ad79-fdb6-4f9a-8bc3-2b70f96e34c7%26response_type%3did_token%26nonce%3de7438396-9d32-4ccc-a73b-22e9442ddd6a%26redirect_uri%3dhttps%253a%252f%252fcn.bing.com%252forgid%252fidtoken%252fnosignin%26scope%3dopenid%26response_mode%3dform_post%26msafed%3d0%26prompt%3dnone\",\"sandbox\":\"allow-forms allow-pointer-lock allow-popups allow-same-origin allow-scripts\",\"currentEpoch\":\"1573606134000\"}; if (false) { if (typeof dbg !== \"undefined\") { dbg.trace(\"OrgId\", \"Delaying SSO on postRBComplete event\"); } sj_evt.bind('postRBComplete', function() { setTimeout(function() {_w.rms.js({'rms:answers:OrgId:SsoFrame':'\\/rs\\/49\\/z\\/cj,nj\\/64cc4a49\\/e70a8ff8.js',d:1});sj_evt.fire('ssoFrameExists', config); }, 500); }, true, null, true); } else { sj_evt.fire('ssoFrameExists', config); } })();;(function(){function n(){var n=_ge(\"id_p\"),t,i;n&&(t=\"\",i=\"\",n.dataset?(t=n.dataset.src,i=n.dataset.alt):(t=n.getAttribute(\"data-src\"),i=n.getAttribute(\"data-alt\")),t&&t!=\"\"&&(n.onerror=function(){n.onerror=null;n.src=\"\";n.alt=\"\"},n.onload=function(){n.alt=i},n.src=t))}n()})();sb_ie&&function(){function h(){if(t){var u=n.replace(/www\\./i,\"\");return f&&i(t,r,n+\"?PC=\"+f)||i(t,r,n)||i(t,r,u)||i(t,r,n+\"?Form=HPPDH1\")||i(t,r,n+\"?PC=BNHP\")||i(t,r,n+\"?PC=BNSR\")}return 0}function c(){return i(_w.external,s,n)!=0}function l(){if(u){var n=2*e+o;if(u==n)return!0}return!1}function a(){var n=_ge(\"hps\");return n||(n=sj_ce(\"span\",\"hps\"),n.style.behavior=\"url(#default#homepage)\",sj_b.appendChild(n)),n}function i(n,t,i){try{return n[t](i)}catch(r){return 0}}var s=\"IsSearchProviderInstalled\",r=\"isHomepage\",n=\"http://\"+_d.domain+\"/\",u=sj_cook.get(\"_UR\",\"D\"),f=sj_cook.get(\"SRCHS\",\"PC\"),t=a(),e=h(),o=c();l()||(u=2*e+o,sj_cook.set(\"_UR\",\"D\",u,1,\"/\"))}();var sj_appHTML=function(n,t){var f,e,o,i,r,s,h;if(t&&n){var c=\"innerHTML\",l=\"script\",a=\"appendChild\",v=\"length\",y=\"src\",p=sj_ce,u=p(\"div\");if(u[c]=\"<br>\"+t,f=u.childNodes,u.removeChild(f[0]),e=u.getElementsByTagName(l),e)for(o=0;o<e[v];o++)i=p(l),r=e[o],r&&(i.type=\"text/javascript\",s=r.getAttribute(y),s?i.setAttribute(y,s):(i.text=r[c],i.setAttribute(\"data-bing-script\",\"1\")),r.parentNode.replaceChild(i,r));for(h=_d.createDocumentFragment();f[v];)h[a](f[0]);n[a](h)}};var sj_ajax=function(n,t){function h(){i[u]=s;i.abort&&i.abort()}function o(n,t){typeof n==\"function\"&&n(t,{request:i,appendTo:function(n){i&&sj_appHTML(n,i.responseText)}})}var r,i=sj_gx(),u=\"onreadystatechange\",f,e=null,c=sb_st,l=sb_ct,s=function(){};if(!n||!i){o(r,!1);return}t&&(r=t.callback,f=t.timeout);i.open(\"get\",n,!0);i[u]=function(){if(i.readyState===4){var n=!1;e!==null&&l(e);i.status===200&&(n=!0,i[u]=s);o(r,n)}};sj_evt.bind(\"ajax.unload\",h);i.send();f>0&&(e=c(function(){h();o(r,!1)},f))};\n",
      "//]]></script><iframe src=\"https://login.microsoftonline.com/common/oauth2/authorize?client_id=9ea1ad79-fdb6-4f9a-8bc3-2b70f96e34c7&amp;response_type=id_token&amp;nonce=e7438396-9d32-4ccc-a73b-22e9442ddd6a&amp;redirect_uri=https%3a%2f%2fcn.bing.com%2forgid%2fidtoken%2fnosignin&amp;scope=openid&amp;response_mode=form_post&amp;msafed=0&amp;prompt=none\" id=\"aadssofr\" sandbox=\"allow-forms allow-pointer-lock allow-popups allow-same-origin allow-scripts\" style=\"visibility: hidden; position: absolute; height: 0px; width: 0px; border: none;\" data-bm=\"56\"></iframe><script type=\"text/javascript\" data-rms=\"1\" src=\"/rs/59/2N/cj,nj/4df0cf24/0120f753.js\"></script><script type=\"text/javascript\" data-rms=\"1\" src=\"/rs/6l/5l/cj,nj/6e795a8b/1c156e04.js\"></script><script type=\"text/javascript\" data-rms=\"1\" src=\"/rs/6E/hY/cj,nj/45504a74/c8a849a4.js\"></script><script type=\"text/javascript\" data-rms=\"1\" src=\"/rs/6E/hL/cj,nj/8ae9cc2f/41feb33b.js\"></script><script type=\"text/javascript\" data-rms=\"1\" src=\"/rs/3Q/13n/cj,nj/bf89f4be/546eede3.js\"></script><script type=\"text/javascript\" data-rms=\"1\" src=\"/rs/3R/ct/cj,nj/234438b4/4415fe14.js\"></script><script type=\"text/javascript\" data-rms=\"1\" src=\"/rs/3R/cv/cj,nj/db8677a2/0716c9f4.js\"></script><script type=\"text/javascript\" data-rms=\"1\" src=\"/rs/3R/cC/cj,nj/da65320d/cba4ad9c.js\"></script><script type=\"text/javascript\" data-rms=\"1\" src=\"/rs/3R/cO/cj,nj/d4ec049c/52b5a349.js\"></script><script type=\"text/javascript\" data-rms=\"1\" src=\"/rs/5i/1bN/cj,nj/d5712f1a/e58e5083.js\"></script><script type=\"text/javascript\" data-rms=\"1\" src=\"/rs/5i/1bP/cj,nj/2c4394e9/444ff825.js\"></script><script type=\"text/javascript\" data-rms=\"1\" src=\"/rs/5i/Zb/cj,nj/338d9ed1/d772c6a0.js\"></script><script type=\"text/javascript\" data-rms=\"1\" src=\"/rs/5i/1bR/cj,nj/a39998e4/6798a322.js\"></script><script type=\"text/javascript\" data-rms=\"1\" src=\"/rs/5i/1bI/cj,nj/54ec784f/17206c36.js\"></script><script type=\"text/javascript\" data-rms=\"1\">//<![CDATA[\n",
      "function addRemoveListenersOnAll(){var t=_ge(\"b_content\"),n,i,r;t&&(n=_d.createElement(\"STYLE\"),n.id=styleIdString,n.innerText=\"#b_results h2>a {padding: 16px 40px 0 6px;margin: -16px -40px 0 -6px;}\",_d.head&&_d.head.appendChild(n),i=t.getElementsByClassName(\"b_ad\"),i&&AddRemoveListener(i),r=t.getElementsByClassName(\"b_algo\"),r&&AddRemoveListener(r))}function AddRemoveListener(n){for(var t,i,u=n.length,r=0;r<u;r++)if(t=n[r].getElementsByTagName(\"CITE\"),t&&t.length>0)for(i=0;i<t.length;i++)sj_be(t[i],\"click\",algo_c)}function mouseMoveAfterTouchHandler(){sj_ue(document,\"mousemove\",mouseMoveAfterTouchHandler);var n=_d.getElementById(styleIdString);n&&n.parentNode&&n.parentNode.removeChild(n);sj_log(\"CI.TTC\",\"mouse\",\"started\");sj_ue(document,\"mousemove\",mouseMoveAfterTouchHandler)}function touchStartHandlerAll(n){n.pointerType===\"touch\"&&(addRemoveListenersOnAll(),sj_log(\"CI.TTC\",\"touch\",\"started\"),sj_ue(document,\"pointerdown\",touchStartHandlerAll),document.addEventListener(\"mousemove\",mouseMoveAfterTouchHandler))}var styleIdString=\"ttcDynStyle\",algo_c=function(n){function i(n){var t=n.getElementsByTagName(\"a\"),i;t&&t.length>0&&(i=t[0],si_ct(i),sj_log(\"CI.TTC\",\"click\",\"touch\"),_w.open(i.href,\"_self\"))}n=sj_ev(n);var t=sj_et(n);if(t){if(t.tagName==\"A\")return!0;while(t&&!(t.className.indexOf(\"b_algo\")>=0||t.className.indexOf(\"sb_add\")>=0)){if(t.tagName==\"BODY\")return;t=t.parentNode}}return t?(i(t),!0):(sj_sp(n),!1)};document.addEventListener(\"pointerdown\",touchStartHandlerAll);Feedback.Bootstrap.InitializeFeedback({page:true},\"sb_feedback\",1,0,0);;var OpenInNewWindow;(function(n){function i(n,t){var r,u,i,f,o;if(t===void 0&&(t=!1),r=n?n.getElementsByTagName(\"a\"):null,r)for(u=0;u<r.length;u++)i=r[u],i.getAttribute(\"target\")||(f=i.getAttribute(\"href\"),o=f&&f.indexOf(\"javascript:void(0)\")>-1,o||t&&!e(i)||i.setAttribute(\"target\",\"_blank\"))}function t(n){return n&&n.replace(/(\\b\\/|\\/\\b)/g,\"\")}function e(n){var i=t(n.hostname),r=t(n.pathname);return i&&i!=u||r!=f}function o(n){if(n.hasChildNodes&&n.firstChild.nodeType==1){var t=MsnShared.hasClass(n.childNodes[0],\"b_rs\"),i=n.childNodes[0].getAttribute(\"id\")==\"sp_requery\";return!t&&!i}return!1}function r(n,t,r){var u=MsnShared.getElementsByClassName(r,t,n),f,e,s;if(u&&u.length>0)for(f=0;f<u.length;f++)e=u[f],s=o(e),s&&i(e)}function s(){var t=_ge(\"b_results\"),n;t&&(r(t,\"li\",\"b_ans\"),r(t,\"div\",\"sa_uc\"));n=_ge(\"b_context\");n&&(r(n,\"div\",\"b_re\"),i(n,!0))}var u=t(_w.location.hostname),f=t(_w.location.pathname);n.openExternalLink=i;n.exec=s})(OpenInNewWindow||(OpenInNewWindow={}));OpenInNewWindow.exec();\n",
      "//]]></script><script type=\"text/javascript\" data-rms=\"1\" src=\"/rs/6j/QW/cj,nj/1c2f626c/c9969752.js\"></script><script type=\"text/javascript\" data-rms=\"1\" src=\"/rs/6j/R0/cj,nj/16be2a34/6323ce42.js\"></script></body></html>\n"
     ]
    }
   ],
   "source": [
    "print(s)"
   ]
  },
  {
   "cell_type": "code",
   "execution_count": 23,
   "metadata": {},
   "outputs": [
    {
     "data": {
      "text/plain": [
       "[<li.b_ans>, <li>, <li>, <li>, <li>, <li>, <li>, <li.b_algo>, <li.b_annooverride>, <li.b_algo>, <li.b_ans.b_mop>, <li>, <li>, <li.b_algo>, <li>, <li>, <li>, <li>, <li.b_ans.b_mop>, <li.b_algo>, <li.b_algo>, <li.b_ans.b_mop>, <li.b_algo>, <li.b_algo>, <li.b_algo>, <li>, <li>, <li>, <li.b_algo>, <li.b_algo>, <li>, <li>, <li>, <li>, <li.b_ans>, <li.b_ans>, <li>, <li>, <li>, <li>, <li>, <li>, <li>, <li>, <li.b_msg>, <li.b_pag>, <li>, <li>, <li>, <li>, <li>, <li>, <li>]"
      ]
     },
     "execution_count": 23,
     "metadata": {},
     "output_type": "execute_result"
    }
   ],
   "source": [
    "doc1 = pq(s)\n",
    "doc1('#b_results li')"
   ]
  },
  {
   "cell_type": "code",
   "execution_count": 24,
   "metadata": {},
   "outputs": [],
   "source": [
    "doc1 = pq(s)\n",
    "lst = doc1('#b_results li')"
   ]
  },
  {
   "cell_type": "code",
   "execution_count": 25,
   "metadata": {},
   "outputs": [
    {
     "data": {
      "text/plain": [
       "[<li.b_ans>, <li>, <li>, <li>, <li>, <li>, <li>, <li.b_algo>, <li.b_annooverride>, <li.b_algo>, <li.b_ans.b_mop>, <li>, <li>, <li.b_algo>, <li>, <li>, <li>, <li>, <li.b_ans.b_mop>, <li.b_algo>, <li.b_algo>, <li.b_ans.b_mop>, <li.b_algo>, <li.b_algo>, <li.b_algo>, <li>, <li>, <li>, <li.b_algo>, <li.b_algo>, <li>, <li>, <li>, <li>, <li.b_ans>, <li.b_ans>, <li>, <li>, <li>, <li>, <li>, <li>, <li>, <li>, <li.b_msg>, <li.b_pag>, <li>, <li>, <li>, <li>, <li>, <li>, <li>]"
      ]
     },
     "execution_count": 25,
     "metadata": {},
     "output_type": "execute_result"
    }
   ],
   "source": [
    "lst"
   ]
  },
  {
   "cell_type": "code",
   "execution_count": 26,
   "metadata": {},
   "outputs": [],
   "source": [
    "li = lst[4]"
   ]
  },
  {
   "cell_type": "code",
   "execution_count": 27,
   "metadata": {},
   "outputs": [
    {
     "data": {
      "text/plain": [
       "''"
      ]
     },
     "execution_count": 27,
     "metadata": {},
     "output_type": "execute_result"
    }
   ],
   "source": [
    "pq(li).find('.b_title h2 a').text()"
   ]
  },
  {
   "cell_type": "code",
   "execution_count": 28,
   "metadata": {},
   "outputs": [
    {
     "data": {
      "text/plain": [
       "<Element li at 0x4678390>"
      ]
     },
     "execution_count": 28,
     "metadata": {},
     "output_type": "execute_result"
    }
   ],
   "source": [
    "li"
   ]
  },
  {
   "cell_type": "code",
   "execution_count": 29,
   "metadata": {},
   "outputs": [
    {
     "data": {
      "text/plain": [
       "''"
      ]
     },
     "execution_count": 29,
     "metadata": {},
     "output_type": "execute_result"
    }
   ],
   "source": [
    "pq(li).find('h2 a').text()"
   ]
  },
  {
   "cell_type": "code",
   "execution_count": 30,
   "metadata": {},
   "outputs": [
    {
     "data": {
      "text/plain": [
       "'网络温特；冬装；寒冬'"
      ]
     },
     "execution_count": 30,
     "metadata": {},
     "output_type": "execute_result"
    }
   ],
   "source": [
    "pq(li).text()"
   ]
  },
  {
   "cell_type": "code",
   "execution_count": 31,
   "metadata": {},
   "outputs": [],
   "source": [
    "class Forest():\n",
    "    pass"
   ]
  },
  {
   "cell_type": "code",
   "execution_count": 32,
   "metadata": {},
   "outputs": [
    {
     "data": {
      "text/plain": [
       "type"
      ]
     },
     "execution_count": 32,
     "metadata": {},
     "output_type": "execute_result"
    }
   ],
   "source": [
    "type(Forest)"
   ]
  },
  {
   "cell_type": "code",
   "execution_count": 33,
   "metadata": {},
   "outputs": [],
   "source": [
    "class Forest():\n",
    "    \"\"\" Forest can grow trees which eventually die.\"\"\"\n",
    "    pass"
   ]
  },
  {
   "cell_type": "code",
   "execution_count": 34,
   "metadata": {},
   "outputs": [
    {
     "name": "stdout",
     "output_type": "stream",
     "text": [
      " Forest()\n",
      "\n",
      "Forest can grow trees which eventually die.\n",
      "\n",
      "\n",
      "Methods:\n",
      "\n"
     ]
    }
   ],
   "source": [
    "import numpy as np\n",
    "np.info(Forest)"
   ]
  },
  {
   "cell_type": "code",
   "execution_count": 35,
   "metadata": {},
   "outputs": [],
   "source": [
    "class Forest():\n",
    "    \"\"\" Forest can grow trees which eventually die.\"\"\"\n",
    "    tree = [1,2,3]\n",
    "    def _init_(self):\n",
    "        pass"
   ]
  },
  {
   "cell_type": "code",
   "execution_count": 36,
   "metadata": {},
   "outputs": [
    {
     "name": "stdout",
     "output_type": "stream",
     "text": [
      " Forest()\n",
      "\n",
      "Forest can grow trees which eventually die.\n",
      "\n",
      "\n",
      "Methods:\n",
      "\n"
     ]
    }
   ],
   "source": [
    "np.info(Forest)"
   ]
  },
  {
   "cell_type": "code",
   "execution_count": 37,
   "metadata": {},
   "outputs": [],
   "source": [
    "class Forest():\n",
    "    \"\"\" Forest can grow trees which eventually die.\"\"\"\n",
    "    tree = [1,2,3]\n",
    "    def _init_(self):\n",
    "        pass\n",
    "    \n",
    "    def rebuild_tree(self):\n",
    "        self.tree = [3,4,5]"
   ]
  },
  {
   "cell_type": "code",
   "execution_count": 38,
   "metadata": {},
   "outputs": [],
   "source": [
    "class Forest():\n",
    "    \"\"\" Forest can grow trees which eventually die.\"\"\"\n",
    "    tree = [1,2,3]\n",
    "    def __init__(self):\n",
    "        self.area = 10000\n",
    "    \n",
    "    def rebuild_tree(self):\n",
    "        self.tree = [3,4,5]"
   ]
  },
  {
   "cell_type": "code",
   "execution_count": 39,
   "metadata": {},
   "outputs": [],
   "source": [
    "class Forest():\n",
    "    \"\"\" Forest can grow trees which eventually die.\"\"\"\n",
    "    tree = [1,2,3]\n",
    "    def __init__(self):\n",
    "        self.area = 10000\n",
    "    \n",
    "    def rebuild_tree(self):\n",
    "        self.tree = [3,4,5]\n",
    "        self.rain_rate = 0.5"
   ]
  },
  {
   "cell_type": "code",
   "execution_count": 40,
   "metadata": {},
   "outputs": [
    {
     "name": "stdout",
     "output_type": "stream",
     "text": [
      " Forest()\n",
      "\n",
      "Forest can grow trees which eventually die.\n",
      "\n",
      "\n",
      "Methods:\n",
      "\n",
      "  rebuild_tree  --  None\n"
     ]
    }
   ],
   "source": [
    "np.info(Forest)"
   ]
  },
  {
   "cell_type": "code",
   "execution_count": 41,
   "metadata": {},
   "outputs": [
    {
     "data": {
      "text/plain": [
       "['__class__',\n",
       " '__delattr__',\n",
       " '__dict__',\n",
       " '__dir__',\n",
       " '__doc__',\n",
       " '__eq__',\n",
       " '__format__',\n",
       " '__ge__',\n",
       " '__getattribute__',\n",
       " '__gt__',\n",
       " '__hash__',\n",
       " '__init__',\n",
       " '__init_subclass__',\n",
       " '__le__',\n",
       " '__lt__',\n",
       " '__module__',\n",
       " '__ne__',\n",
       " '__new__',\n",
       " '__reduce__',\n",
       " '__reduce_ex__',\n",
       " '__repr__',\n",
       " '__setattr__',\n",
       " '__sizeof__',\n",
       " '__str__',\n",
       " '__subclasshook__',\n",
       " '__weakref__',\n",
       " 'rebuild_tree',\n",
       " 'tree']"
      ]
     },
     "execution_count": 41,
     "metadata": {},
     "output_type": "execute_result"
    }
   ],
   "source": [
    "dir(Forest)"
   ]
  },
  {
   "cell_type": "code",
   "execution_count": 42,
   "metadata": {},
   "outputs": [],
   "source": [
    "f = Forest()"
   ]
  },
  {
   "cell_type": "code",
   "execution_count": 43,
   "metadata": {},
   "outputs": [
    {
     "data": {
      "text/plain": [
       "<__main__.Forest at 0x67762b0>"
      ]
     },
     "execution_count": 43,
     "metadata": {},
     "output_type": "execute_result"
    }
   ],
   "source": [
    "f.__class__()"
   ]
  },
  {
   "cell_type": "code",
   "execution_count": 44,
   "metadata": {},
   "outputs": [
    {
     "data": {
      "text/plain": [
       "'<__main__.Forest object at 0x06776350>'"
      ]
     },
     "execution_count": 44,
     "metadata": {},
     "output_type": "execute_result"
    }
   ],
   "source": [
    "f.__str__()"
   ]
  },
  {
   "cell_type": "code",
   "execution_count": 45,
   "metadata": {},
   "outputs": [
    {
     "name": "stdout",
     "output_type": "stream",
     "text": [
      "<__main__.Forest object at 0x06776350>\n"
     ]
    }
   ],
   "source": [
    "print(f)"
   ]
  },
  {
   "cell_type": "code",
   "execution_count": 46,
   "metadata": {},
   "outputs": [],
   "source": [
    "class Forest():\n",
    "    \"\"\" Forest can grow trees which eventually die.\"\"\"\n",
    "    tree = [1,2,3]\n",
    "    def __init__(self):\n",
    "        self.area = 10000\n",
    "    \n",
    "    def rebuild_tree(self):\n",
    "        self.tree = [3,4,5]\n",
    "        self.rain_rate = 0.5\n",
    "        \n",
    "    def __str__(self):\n",
    "        return  \"I'm a Forest\""
   ]
  },
  {
   "cell_type": "code",
   "execution_count": 49,
   "metadata": {},
   "outputs": [
    {
     "name": "stdout",
     "output_type": "stream",
     "text": [
      "I'm a Forest.\n"
     ]
    },
    {
     "ename": "TypeError",
     "evalue": "__str__ returned non-string (type NoneType)",
     "output_type": "error",
     "traceback": [
      "\u001b[1;31m---------------------------------------------------------------------------\u001b[0m",
      "\u001b[1;31mTypeError\u001b[0m                                 Traceback (most recent call last)",
      "\u001b[1;32m<ipython-input-49-02afad08226b>\u001b[0m in \u001b[0;36m<module>\u001b[1;34m\u001b[0m\n\u001b[0;32m      1\u001b[0m \u001b[0mf\u001b[0m\u001b[1;33m=\u001b[0m\u001b[0mForest\u001b[0m\u001b[1;33m(\u001b[0m\u001b[1;33m)\u001b[0m\u001b[1;33m\u001b[0m\u001b[1;33m\u001b[0m\u001b[0m\n\u001b[1;32m----> 2\u001b[1;33m \u001b[0mprint\u001b[0m\u001b[1;33m(\u001b[0m\u001b[0mf\u001b[0m\u001b[1;33m)\u001b[0m\u001b[1;33m\u001b[0m\u001b[1;33m\u001b[0m\u001b[0m\n\u001b[0m",
      "\u001b[1;31mTypeError\u001b[0m: __str__ returned non-string (type NoneType)"
     ]
    }
   ],
   "source": [
    "f=Forest()\n",
    "print(f)"
   ]
  },
  {
   "cell_type": "code",
   "execution_count": 50,
   "metadata": {},
   "outputs": [
    {
     "data": {
      "text/plain": [
       "[1, 2, 3]"
      ]
     },
     "execution_count": 50,
     "metadata": {},
     "output_type": "execute_result"
    }
   ],
   "source": [
    "f.tree"
   ]
  },
  {
   "cell_type": "code",
   "execution_count": 51,
   "metadata": {},
   "outputs": [
    {
     "data": {
      "text/plain": [
       "10000"
      ]
     },
     "execution_count": 51,
     "metadata": {},
     "output_type": "execute_result"
    }
   ],
   "source": [
    "f.area"
   ]
  },
  {
   "cell_type": "code",
   "execution_count": 52,
   "metadata": {},
   "outputs": [
    {
     "ename": "AttributeError",
     "evalue": "'Forest' object has no attribute 'rain_rate'",
     "output_type": "error",
     "traceback": [
      "\u001b[1;31m---------------------------------------------------------------------------\u001b[0m",
      "\u001b[1;31mAttributeError\u001b[0m                            Traceback (most recent call last)",
      "\u001b[1;32m<ipython-input-52-3de4acc16268>\u001b[0m in \u001b[0;36m<module>\u001b[1;34m\u001b[0m\n\u001b[1;32m----> 1\u001b[1;33m \u001b[0mf\u001b[0m\u001b[1;33m.\u001b[0m\u001b[0mrain_rate\u001b[0m\u001b[1;33m\u001b[0m\u001b[1;33m\u001b[0m\u001b[0m\n\u001b[0m",
      "\u001b[1;31mAttributeError\u001b[0m: 'Forest' object has no attribute 'rain_rate'"
     ]
    }
   ],
   "source": [
    "f.rain_rate"
   ]
  },
  {
   "cell_type": "code",
   "execution_count": 53,
   "metadata": {},
   "outputs": [],
   "source": [
    "f.rebuild_tree()"
   ]
  },
  {
   "cell_type": "code",
   "execution_count": 54,
   "metadata": {},
   "outputs": [
    {
     "data": {
      "text/plain": [
       "0.5"
      ]
     },
     "execution_count": 54,
     "metadata": {},
     "output_type": "execute_result"
    }
   ],
   "source": [
    "f.rain_rate"
   ]
  },
  {
   "cell_type": "code",
   "execution_count": 55,
   "metadata": {},
   "outputs": [],
   "source": [
    "class Leaf():\n",
    "    def __init__(self, color=\"green\"):\n",
    "        self.color = color\n",
    "    def fall(self):\n",
    "        print(\"Splat!\")"
   ]
  },
  {
   "cell_type": "code",
   "execution_count": 56,
   "metadata": {},
   "outputs": [
    {
     "name": "stdout",
     "output_type": "stream",
     "text": [
      "green\n"
     ]
    }
   ],
   "source": [
    "l = Leaf()\n",
    "print(l.color)"
   ]
  },
  {
   "cell_type": "code",
   "execution_count": 57,
   "metadata": {},
   "outputs": [],
   "source": [
    "class MapleLeaf(Leaf):\n",
    "    def change_color(self):\n",
    "        if self.color == \"green\":\n",
    "            self.color = \"red\""
   ]
  },
  {
   "cell_type": "code",
   "execution_count": 58,
   "metadata": {},
   "outputs": [],
   "source": [
    "l1 = MapleLeaf()"
   ]
  },
  {
   "cell_type": "code",
   "execution_count": 59,
   "metadata": {},
   "outputs": [
    {
     "data": {
      "text/plain": [
       "'green'"
      ]
     },
     "execution_count": 59,
     "metadata": {},
     "output_type": "execute_result"
    }
   ],
   "source": [
    "l1.color"
   ]
  },
  {
   "cell_type": "code",
   "execution_count": 60,
   "metadata": {},
   "outputs": [
    {
     "name": "stdout",
     "output_type": "stream",
     "text": [
      "Splat!\n"
     ]
    }
   ],
   "source": [
    "l1.fall()"
   ]
  },
  {
   "cell_type": "code",
   "execution_count": 62,
   "metadata": {},
   "outputs": [],
   "source": [
    "l1.change_color()"
   ]
  },
  {
   "cell_type": "code",
   "execution_count": 63,
   "metadata": {},
   "outputs": [
    {
     "data": {
      "text/plain": [
       "'red'"
      ]
     },
     "execution_count": 63,
     "metadata": {},
     "output_type": "execute_result"
    }
   ],
   "source": [
    "l1.color"
   ]
  },
  {
   "cell_type": "code",
   "execution_count": 65,
   "metadata": {},
   "outputs": [],
   "source": [
    "class Leaf():\n",
    "    def __init__(self, color='green'):\n",
    "        self.color = color\n",
    "\n",
    "class ColorChangingLeaf(Leaf):\n",
    "    def change(self, new_color='brown'):\n",
    "        self.color = new_color\n",
    "\n",
    "class DeciduousLeaf(Leaf):\n",
    "    def fall(self):\n",
    "        print(\"Plunk!\")\n",
    "\n",
    "class MapleLeaf(ColorChangingLeaf, DeciduousLeaf):\n",
    "    pass"
   ]
  },
  {
   "cell_type": "code",
   "execution_count": 66,
   "metadata": {},
   "outputs": [],
   "source": [
    "leaf = MapleLeaf('yello')"
   ]
  },
  {
   "cell_type": "code",
   "execution_count": 67,
   "metadata": {},
   "outputs": [
    {
     "data": {
      "text/plain": [
       "'yello'"
      ]
     },
     "execution_count": 67,
     "metadata": {},
     "output_type": "execute_result"
    }
   ],
   "source": [
    "leaf.color"
   ]
  },
  {
   "cell_type": "code",
   "execution_count": 68,
   "metadata": {},
   "outputs": [],
   "source": [
    "leaf.change('red')"
   ]
  },
  {
   "cell_type": "code",
   "execution_count": 69,
   "metadata": {},
   "outputs": [
    {
     "data": {
      "text/plain": [
       "'red'"
      ]
     },
     "execution_count": 69,
     "metadata": {},
     "output_type": "execute_result"
    }
   ],
   "source": [
    "leaf.color"
   ]
  },
  {
   "cell_type": "code",
   "execution_count": 70,
   "metadata": {},
   "outputs": [
    {
     "name": "stdout",
     "output_type": "stream",
     "text": [
      "Plunk!\n"
     ]
    }
   ],
   "source": [
    "leaf.fall()"
   ]
  },
  {
   "cell_type": "code",
   "execution_count": 71,
   "metadata": {},
   "outputs": [],
   "source": [
    "class Leaf(object):\n",
    "    def __init__(self, color=\"green\"):\n",
    "        self.color = color\n",
    "    def fall(self):\n",
    "        print (\"Splat!\")\n",
    "\n",
    "class MapleLeaf(Leaf):\n",
    "    def change_color(self):\n",
    "        if self.color == \"green\":\n",
    "            self.color = \"red\"\n",
    "    def fall(self):\n",
    "        self.change_color()\n",
    "        super(MapleLeaf, self).fall()"
   ]
  },
  {
   "cell_type": "code",
   "execution_count": 72,
   "metadata": {},
   "outputs": [
    {
     "data": {
      "text/plain": [
       "'green'"
      ]
     },
     "execution_count": 72,
     "metadata": {},
     "output_type": "execute_result"
    }
   ],
   "source": [
    "L = MapleLeaf()\n",
    "L.color"
   ]
  },
  {
   "cell_type": "code",
   "execution_count": 73,
   "metadata": {},
   "outputs": [
    {
     "name": "stdout",
     "output_type": "stream",
     "text": [
      "Splat!\n"
     ]
    }
   ],
   "source": [
    "L.fall()"
   ]
  },
  {
   "cell_type": "code",
   "execution_count": 74,
   "metadata": {},
   "outputs": [
    {
     "data": {
      "text/plain": [
       "'red'"
      ]
     },
     "execution_count": 74,
     "metadata": {},
     "output_type": "execute_result"
    }
   ],
   "source": [
    "L.color"
   ]
  },
  {
   "cell_type": "code",
   "execution_count": null,
   "metadata": {},
   "outputs": [],
   "source": []
  }
 ],
 "metadata": {
  "kernelspec": {
   "display_name": "Python 3",
   "language": "python",
   "name": "python3"
  },
  "language_info": {
   "codemirror_mode": {
    "name": "ipython",
    "version": 3
   },
   "file_extension": ".py",
   "mimetype": "text/x-python",
   "name": "python",
   "nbconvert_exporter": "python",
   "pygments_lexer": "ipython3",
   "version": "3.7.3"
  }
 },
 "nbformat": 4,
 "nbformat_minor": 2
}
