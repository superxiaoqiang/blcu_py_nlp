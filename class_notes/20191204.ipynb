{
 "cells": [
  {
   "cell_type": "code",
   "execution_count": 2,
   "metadata": {},
   "outputs": [
    {
     "name": "stdout",
     "output_type": "stream",
     "text": [
      "current task thread1\n",
      "current task thread12\n"
     ]
    }
   ],
   "source": [
    "import threading\n",
    "def run(n):\n",
    "    print('current task',n)\n",
    "\n",
    "t1=threading.Thread(target=run, args=(\"thread1\",))\n",
    "t2=threading.Thread(target=run, args=(\"thread12\",))\n",
    "\n",
    "t1.start()\n",
    "t2.start()"
   ]
  },
  {
   "cell_type": "code",
   "execution_count": 6,
   "metadata": {},
   "outputs": [],
   "source": [
    "from multiprocessing import Process  \n",
    "\n",
    "def show(name):\n",
    "    print(\"Process name is \" + name)\n",
    "\n",
    "\n",
    "proc = Process(target=show, args=('subprocess',))  \n",
    "proc.start()"
   ]
  },
  {
   "cell_type": "code",
   "execution_count": 7,
   "metadata": {},
   "outputs": [],
   "source": [
    "from multiprocessing import Process  \n",
    "\n",
    "def show(name):\n",
    "    print(\"Process name is \" + name)\n",
    "\n",
    "\n",
    "proc = Process(target=show, args=('subprocess',))  \n",
    "proc.start()"
   ]
  },
  {
   "cell_type": "code",
   "execution_count": 8,
   "metadata": {},
   "outputs": [
    {
     "data": {
      "text/plain": [
       "<multiprocessing.queues.Queue at 0x3aef570>"
      ]
     },
     "execution_count": 8,
     "metadata": {},
     "output_type": "execute_result"
    }
   ],
   "source": [
    "from multiprocessing import Process, Queue\n",
    "\n",
    "q=Queue()\n",
    "for i in range(10):\n",
    "    q.put(i)\n",
    "q"
   ]
  },
  {
   "cell_type": "code",
   "execution_count": 9,
   "metadata": {},
   "outputs": [
    {
     "data": {
      "text/plain": [
       "0"
      ]
     },
     "execution_count": 9,
     "metadata": {},
     "output_type": "execute_result"
    }
   ],
   "source": [
    "q.get()"
   ]
  },
  {
   "cell_type": "code",
   "execution_count": 10,
   "metadata": {},
   "outputs": [
    {
     "data": {
      "text/plain": [
       "1"
      ]
     },
     "execution_count": 10,
     "metadata": {},
     "output_type": "execute_result"
    }
   ],
   "source": [
    "q.get()"
   ]
  },
  {
   "cell_type": "code",
   "execution_count": 2,
   "metadata": {},
   "outputs": [],
   "source": [
    "from multiprocessing import Process, Queue\n",
    "import time\n",
    "\n",
    "q=Queue()\n",
    "for i in range(10):\n",
    "    q.put(i)\n",
    "q\n",
    "def run(n):\n",
    "    print(\"I get {} from queue, I'll sleep {} seconds.\".format(str(n), str(n)))\n",
    "    time.sleep(n)\n",
    "    print(\"I finished processing.\")\n",
    "    \n",
    "p = []\n",
    "for j in range(8):\n",
    "    n=q.get()\n",
    "    pj=Process(target=run, args=(n,))\n",
    "    p.append(pj)\n",
    "    pj.start()"
   ]
  },
  {
   "cell_type": "code",
   "execution_count": 3,
   "metadata": {},
   "outputs": [
    {
     "data": {
      "text/plain": [
       "['add',\n",
       " 'domain',\n",
       " 'with',\n",
       " 'authentication',\n",
       " 'for',\n",
       " 'conference',\n",
       " 'focus',\n",
       " 'user']"
      ]
     },
     "execution_count": 3,
     "metadata": {},
     "output_type": "execute_result"
    }
   ],
   "source": [
    "from nltk.util import ngrams\n",
    "a = \"add domain with authentication for conference focus user\".split(' ')\n",
    "a"
   ]
  },
  {
   "cell_type": "code",
   "execution_count": null,
   "metadata": {},
   "outputs": [],
   "source": []
  }
 ],
 "metadata": {
  "kernelspec": {
   "display_name": "Python 3",
   "language": "python",
   "name": "python3"
  },
  "language_info": {
   "codemirror_mode": {
    "name": "ipython",
    "version": 3
   },
   "file_extension": ".py",
   "mimetype": "text/x-python",
   "name": "python",
   "nbconvert_exporter": "python",
   "pygments_lexer": "ipython3",
   "version": "3.7.3"
  }
 },
 "nbformat": 4,
 "nbformat_minor": 2
}
