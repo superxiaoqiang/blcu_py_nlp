{
 "cells": [
  {
   "cell_type": "code",
   "execution_count": 1,
   "metadata": {},
   "outputs": [],
   "source": [
    "from nltk.util import ngrams\n",
    "\n",
    "a = \"add domain with authentication for conference focus user\".split(' ')"
   ]
  },
  {
   "cell_type": "code",
   "execution_count": 2,
   "metadata": {},
   "outputs": [],
   "source": [
    "b = ngrams(a,1) # unigram"
   ]
  },
  {
   "cell_type": "code",
   "execution_count": 3,
   "metadata": {},
   "outputs": [
    {
     "data": {
      "text/plain": [
       "<generator object ngrams at 0x0000000008DA9780>"
      ]
     },
     "execution_count": 3,
     "metadata": {},
     "output_type": "execute_result"
    }
   ],
   "source": [
    "b"
   ]
  },
  {
   "cell_type": "code",
   "execution_count": 4,
   "metadata": {},
   "outputs": [
    {
     "name": "stdout",
     "output_type": "stream",
     "text": [
      "('add',)\n",
      "('domain',)\n",
      "('with',)\n",
      "('authentication',)\n",
      "('for',)\n",
      "('conference',)\n",
      "('focus',)\n",
      "('user',)\n"
     ]
    }
   ],
   "source": [
    "for i in b:\n",
    "\n",
    "    print (i)"
   ]
  },
  {
   "cell_type": "code",
   "execution_count": 5,
   "metadata": {},
   "outputs": [],
   "source": [
    "b = ngrams(a,2) # bigram"
   ]
  },
  {
   "cell_type": "code",
   "execution_count": 6,
   "metadata": {},
   "outputs": [
    {
     "name": "stdout",
     "output_type": "stream",
     "text": [
      "('add', 'domain')\n",
      "('domain', 'with')\n",
      "('with', 'authentication')\n",
      "('authentication', 'for')\n",
      "('for', 'conference')\n",
      "('conference', 'focus')\n",
      "('focus', 'user')\n"
     ]
    }
   ],
   "source": [
    "for i in b:\n",
    "\n",
    "    print (i)"
   ]
  },
  {
   "cell_type": "code",
   "execution_count": 7,
   "metadata": {},
   "outputs": [],
   "source": [
    "b = ngrams(a,3) # trigram"
   ]
  },
  {
   "cell_type": "code",
   "execution_count": 8,
   "metadata": {},
   "outputs": [
    {
     "name": "stdout",
     "output_type": "stream",
     "text": [
      "('add', 'domain', 'with')\n",
      "('domain', 'with', 'authentication')\n",
      "('with', 'authentication', 'for')\n",
      "('authentication', 'for', 'conference')\n",
      "('for', 'conference', 'focus')\n",
      "('conference', 'focus', 'user')\n"
     ]
    }
   ],
   "source": [
    "for i in b:\n",
    "\n",
    "    print (i)"
   ]
  },
  {
   "cell_type": "code",
   "execution_count": 9,
   "metadata": {},
   "outputs": [
    {
     "name": "stdout",
     "output_type": "stream",
     "text": [
      "Help on built-in function log in module math:\n",
      "\n",
      "log(...)\n",
      "    log(x[, base])\n",
      "    \n",
      "    Return the logarithm of x to the given base.\n",
      "    If the base not specified, returns the natural logarithm (base e) of x.\n",
      "\n"
     ]
    }
   ],
   "source": [
    "import math\n",
    "help(math.log)"
   ]
  },
  {
   "cell_type": "code",
   "execution_count": 10,
   "metadata": {},
   "outputs": [],
   "source": [
    "articel='''简介\n",
    "职业经历\n",
    "相关人物\n",
    "相关新闻\n",
    "刘强现任九派投资的总经理。\n",
    "\n",
    "刘强曾任华晟会计师事务所、武汉华锐管理咨询公司高级项目经理、合伙人；湖北省高新技术产业投资有限公司投资部副部长，负责投资的武汉鼎龙化学股份有限公司和华中数控股份有限公司成功登陆创业板，负责投资并进行增值服务的的武汉格瑞林建材科技股份有限公司、武汉中博生物股份有限公司、新火炬科技股份有限公司等公司也将上报上市材料。\n",
    "\n",
    "刘强，武汉大学企业管理硕士，注册会计师、高级会计师。'''"
   ]
  },
  {
   "cell_type": "code",
   "execution_count": 11,
   "metadata": {},
   "outputs": [],
   "source": [
    "from snownlp import SnowNLP"
   ]
  },
  {
   "cell_type": "code",
   "execution_count": 12,
   "metadata": {},
   "outputs": [
    {
     "ename": "NameError",
     "evalue": "name 'article1' is not defined",
     "output_type": "error",
     "traceback": [
      "\u001b[0;31m---------------------------------------------------------------------------\u001b[0m",
      "\u001b[0;31mNameError\u001b[0m                                 Traceback (most recent call last)",
      "\u001b[0;32m<ipython-input-12-e4972d4ac213>\u001b[0m in \u001b[0;36m<module>\u001b[0;34m()\u001b[0m\n\u001b[0;32m----> 1\u001b[0;31m \u001b[0mdoc\u001b[0m \u001b[1;33m=\u001b[0m \u001b[0mSnowNLP\u001b[0m\u001b[1;33m(\u001b[0m\u001b[0marticle1\u001b[0m\u001b[1;33m)\u001b[0m\u001b[1;33m\u001b[0m\u001b[0m\n\u001b[0m",
      "\u001b[0;31mNameError\u001b[0m: name 'article1' is not defined"
     ]
    }
   ],
   "source": [
    "doc = SnowNLP(article1)"
   ]
  },
  {
   "cell_type": "code",
   "execution_count": 13,
   "metadata": {},
   "outputs": [],
   "source": [
    "doc = SnowNLP(articel)"
   ]
  },
  {
   "cell_type": "code",
   "execution_count": 14,
   "metadata": {},
   "outputs": [
    {
     "data": {
      "text/plain": [
       "['简介',\n",
       " '职业',\n",
       " '经历',\n",
       " '相关',\n",
       " '人物',\n",
       " '相关',\n",
       " '新闻',\n",
       " '刘强',\n",
       " '现任',\n",
       " '九派',\n",
       " '投资',\n",
       " '的',\n",
       " '总经理',\n",
       " '。',\n",
       " '刘强',\n",
       " '曾',\n",
       " '任华',\n",
       " '晟',\n",
       " '会计师',\n",
       " '事务所',\n",
       " '、',\n",
       " '武汉',\n",
       " '华锐',\n",
       " '管理',\n",
       " '咨询',\n",
       " '公司',\n",
       " '高级',\n",
       " '项目',\n",
       " '经理',\n",
       " '、',\n",
       " '合伙',\n",
       " '人',\n",
       " '；',\n",
       " '湖北省',\n",
       " '高新技术',\n",
       " '产业',\n",
       " '投资',\n",
       " '有限公司',\n",
       " '投资部',\n",
       " '副',\n",
       " '部长',\n",
       " '，',\n",
       " '负责',\n",
       " '投资',\n",
       " '的',\n",
       " '武汉',\n",
       " '鼎龙',\n",
       " '化学',\n",
       " '股份',\n",
       " '有限公司',\n",
       " '和',\n",
       " '华中',\n",
       " '数',\n",
       " '控',\n",
       " '股份',\n",
       " '有限公司',\n",
       " '成功',\n",
       " '登陆',\n",
       " '创业',\n",
       " '板',\n",
       " '，',\n",
       " '负责',\n",
       " '投资',\n",
       " '并',\n",
       " '进行',\n",
       " '增值',\n",
       " '服务',\n",
       " '的',\n",
       " '的',\n",
       " '武汉',\n",
       " '格',\n",
       " '瑞林',\n",
       " '建材',\n",
       " '科技',\n",
       " '股份',\n",
       " '有限公司',\n",
       " '、',\n",
       " '武汉',\n",
       " '中博',\n",
       " '生物',\n",
       " '股份',\n",
       " '有限公司',\n",
       " '、',\n",
       " '新',\n",
       " '火炬',\n",
       " '科技',\n",
       " '股份',\n",
       " '有限公司',\n",
       " '等',\n",
       " '公司',\n",
       " '也',\n",
       " '将',\n",
       " '上报',\n",
       " '上市',\n",
       " '材料',\n",
       " '。',\n",
       " '刘强',\n",
       " '，',\n",
       " '武汉',\n",
       " '大学',\n",
       " '企业',\n",
       " '管理',\n",
       " '硕士',\n",
       " '，',\n",
       " '注册',\n",
       " '会计师',\n",
       " '、',\n",
       " '高级',\n",
       " '会计师',\n",
       " '。']"
      ]
     },
     "execution_count": 14,
     "metadata": {},
     "output_type": "execute_result"
    }
   ],
   "source": [
    "doc.words"
   ]
  },
  {
   "cell_type": "code",
   "execution_count": 15,
   "metadata": {},
   "outputs": [
    {
     "data": {
      "text/plain": [
       "<zip at 0x1fc6f088>"
      ]
     },
     "execution_count": 15,
     "metadata": {},
     "output_type": "execute_result"
    }
   ],
   "source": [
    "doc.tags"
   ]
  },
  {
   "cell_type": "code",
   "execution_count": 16,
   "metadata": {},
   "outputs": [
    {
     "ename": "AttributeError",
     "evalue": "'SnowNLP' object has no attribute 'pos_tag'",
     "output_type": "error",
     "traceback": [
      "\u001b[0;31m---------------------------------------------------------------------------\u001b[0m",
      "\u001b[0;31mAttributeError\u001b[0m                            Traceback (most recent call last)",
      "\u001b[0;32m<ipython-input-16-bbecee179cea>\u001b[0m in \u001b[0;36m<module>\u001b[0;34m()\u001b[0m\n\u001b[0;32m----> 1\u001b[0;31m \u001b[0mdoc\u001b[0m\u001b[1;33m.\u001b[0m\u001b[0mpos_tag\u001b[0m\u001b[1;33m\u001b[0m\u001b[0m\n\u001b[0m",
      "\u001b[0;31mAttributeError\u001b[0m: 'SnowNLP' object has no attribute 'pos_tag'"
     ]
    }
   ],
   "source": [
    "doc.pos_tag"
   ]
  },
  {
   "cell_type": "code",
   "execution_count": 17,
   "metadata": {},
   "outputs": [
    {
     "data": {
      "text/plain": [
       "['__class__',\n",
       " '__delattr__',\n",
       " '__dict__',\n",
       " '__dir__',\n",
       " '__doc__',\n",
       " '__eq__',\n",
       " '__format__',\n",
       " '__ge__',\n",
       " '__getattribute__',\n",
       " '__gt__',\n",
       " '__hash__',\n",
       " '__init__',\n",
       " '__init_subclass__',\n",
       " '__le__',\n",
       " '__lt__',\n",
       " '__module__',\n",
       " '__ne__',\n",
       " '__new__',\n",
       " '__reduce__',\n",
       " '__reduce_ex__',\n",
       " '__repr__',\n",
       " '__setattr__',\n",
       " '__sizeof__',\n",
       " '__str__',\n",
       " '__subclasshook__',\n",
       " '__weakref__',\n",
       " 'bm25',\n",
       " 'doc',\n",
       " 'han',\n",
       " 'idf',\n",
       " 'keywords',\n",
       " 'pinyin',\n",
       " 'sentences',\n",
       " 'sentiments',\n",
       " 'sim',\n",
       " 'summary',\n",
       " 'tags',\n",
       " 'tf',\n",
       " 'words']"
      ]
     },
     "execution_count": 17,
     "metadata": {},
     "output_type": "execute_result"
    }
   ],
   "source": [
    "dir(doc)"
   ]
  },
  {
   "cell_type": "code",
   "execution_count": 18,
   "metadata": {},
   "outputs": [
    {
     "ename": "TypeError",
     "evalue": "'zip' object is not callable",
     "output_type": "error",
     "traceback": [
      "\u001b[0;31m---------------------------------------------------------------------------\u001b[0m",
      "\u001b[0;31mTypeError\u001b[0m                                 Traceback (most recent call last)",
      "\u001b[0;32m<ipython-input-18-dfa3d6f16e85>\u001b[0m in \u001b[0;36m<module>\u001b[0;34m()\u001b[0m\n\u001b[0;32m----> 1\u001b[0;31m \u001b[0mdoc\u001b[0m\u001b[1;33m.\u001b[0m\u001b[0mtags\u001b[0m\u001b[1;33m(\u001b[0m\u001b[1;33m)\u001b[0m\u001b[1;33m\u001b[0m\u001b[0m\n\u001b[0m",
      "\u001b[0;31mTypeError\u001b[0m: 'zip' object is not callable"
     ]
    }
   ],
   "source": [
    "doc.tags()"
   ]
  },
  {
   "cell_type": "code",
   "execution_count": 19,
   "metadata": {},
   "outputs": [
    {
     "data": {
      "text/plain": [
       "<zip at 0x8dd09c8>"
      ]
     },
     "execution_count": 19,
     "metadata": {},
     "output_type": "execute_result"
    }
   ],
   "source": [
    "doc.tags"
   ]
  },
  {
   "cell_type": "code",
   "execution_count": 20,
   "metadata": {},
   "outputs": [],
   "source": [
    "article=u'''简介\n",
    "职业经历\n",
    "相关人物\n",
    "相关新闻\n",
    "刘强现任九派投资的总经理。\n",
    "\n",
    "刘强曾任华晟会计师事务所、武汉华锐管理咨询公司高级项目经理、合伙人；湖北省高新技术产业投资有限公司投资部副部长，负责投资的武汉鼎龙化学股份有限公司和华中数控股份有限公司成功登陆创业板，负责投资并进行增值服务的的武汉格瑞林建材科技股份有限公司、武汉中博生物股份有限公司、新火炬科技股份有限公司等公司也将上报上市材料。\n",
    "\n",
    "刘强，武汉大学企业管理硕士，注册会计师、高级会计师。'''"
   ]
  },
  {
   "cell_type": "code",
   "execution_count": 21,
   "metadata": {},
   "outputs": [],
   "source": [
    "doc = SnowNLP(article)"
   ]
  },
  {
   "cell_type": "code",
   "execution_count": 22,
   "metadata": {},
   "outputs": [
    {
     "data": {
      "text/plain": [
       "<zip at 0x2608fa48>"
      ]
     },
     "execution_count": 22,
     "metadata": {},
     "output_type": "execute_result"
    }
   ],
   "source": [
    "doc.tags"
   ]
  },
  {
   "cell_type": "code",
   "execution_count": 23,
   "metadata": {},
   "outputs": [
    {
     "name": "stdout",
     "output_type": "stream",
     "text": [
      "<zip object at 0x000000001FC7EB88>\n"
     ]
    }
   ],
   "source": [
    "print (doc.tags)"
   ]
  },
  {
   "cell_type": "code",
   "execution_count": 24,
   "metadata": {},
   "outputs": [
    {
     "data": {
      "text/plain": [
       "['简介',\n",
       " '职业',\n",
       " '经历',\n",
       " '相关',\n",
       " '人物',\n",
       " '相关',\n",
       " '新闻',\n",
       " '刘强',\n",
       " '现任',\n",
       " '九派',\n",
       " '投资',\n",
       " '的',\n",
       " '总经理',\n",
       " '。',\n",
       " '刘强',\n",
       " '曾',\n",
       " '任华',\n",
       " '晟',\n",
       " '会计师',\n",
       " '事务所',\n",
       " '、',\n",
       " '武汉',\n",
       " '华锐',\n",
       " '管理',\n",
       " '咨询',\n",
       " '公司',\n",
       " '高级',\n",
       " '项目',\n",
       " '经理',\n",
       " '、',\n",
       " '合伙',\n",
       " '人',\n",
       " '；',\n",
       " '湖北省',\n",
       " '高新技术',\n",
       " '产业',\n",
       " '投资',\n",
       " '有限公司',\n",
       " '投资部',\n",
       " '副',\n",
       " '部长',\n",
       " '，',\n",
       " '负责',\n",
       " '投资',\n",
       " '的',\n",
       " '武汉',\n",
       " '鼎龙',\n",
       " '化学',\n",
       " '股份',\n",
       " '有限公司',\n",
       " '和',\n",
       " '华中',\n",
       " '数',\n",
       " '控',\n",
       " '股份',\n",
       " '有限公司',\n",
       " '成功',\n",
       " '登陆',\n",
       " '创业',\n",
       " '板',\n",
       " '，',\n",
       " '负责',\n",
       " '投资',\n",
       " '并',\n",
       " '进行',\n",
       " '增值',\n",
       " '服务',\n",
       " '的',\n",
       " '的',\n",
       " '武汉',\n",
       " '格',\n",
       " '瑞林',\n",
       " '建材',\n",
       " '科技',\n",
       " '股份',\n",
       " '有限公司',\n",
       " '、',\n",
       " '武汉',\n",
       " '中博',\n",
       " '生物',\n",
       " '股份',\n",
       " '有限公司',\n",
       " '、',\n",
       " '新',\n",
       " '火炬',\n",
       " '科技',\n",
       " '股份',\n",
       " '有限公司',\n",
       " '等',\n",
       " '公司',\n",
       " '也',\n",
       " '将',\n",
       " '上报',\n",
       " '上市',\n",
       " '材料',\n",
       " '。',\n",
       " '刘强',\n",
       " '，',\n",
       " '武汉',\n",
       " '大学',\n",
       " '企业',\n",
       " '管理',\n",
       " '硕士',\n",
       " '，',\n",
       " '注册',\n",
       " '会计师',\n",
       " '、',\n",
       " '高级',\n",
       " '会计师',\n",
       " '。']"
      ]
     },
     "execution_count": 24,
     "metadata": {},
     "output_type": "execute_result"
    }
   ],
   "source": [
    "doc.words"
   ]
  },
  {
   "cell_type": "code",
   "execution_count": 25,
   "metadata": {},
   "outputs": [
    {
     "data": {
      "text/plain": [
       "<bound method SnowNLP.keywords of <snownlp.SnowNLP object at 0x0000000026079978>>"
      ]
     },
     "execution_count": 25,
     "metadata": {},
     "output_type": "execute_result"
    }
   ],
   "source": [
    "doc.keywords"
   ]
  },
  {
   "cell_type": "code",
   "execution_count": 26,
   "metadata": {},
   "outputs": [
    {
     "data": {
      "text/plain": [
       "['有限公司', '武汉', '股份', '投资', '公司']"
      ]
     },
     "execution_count": 26,
     "metadata": {},
     "output_type": "execute_result"
    }
   ],
   "source": [
    "doc.keywords()"
   ]
  },
  {
   "cell_type": "code",
   "execution_count": 27,
   "metadata": {},
   "outputs": [],
   "source": [
    "from stanfordcorenlp import StanfordCoreNLP"
   ]
  },
  {
   "cell_type": "code",
   "execution_count": 28,
   "metadata": {},
   "outputs": [
    {
     "ename": "TypeError",
     "evalue": "an integer is required (got type NoneType)",
     "output_type": "error",
     "traceback": [
      "\u001b[0;31m---------------------------------------------------------------------------\u001b[0m",
      "\u001b[0;31mTypeError\u001b[0m                                 Traceback (most recent call last)",
      "\u001b[0;32m<ipython-input-28-d30ad90f31ff>\u001b[0m in \u001b[0;36m<module>\u001b[0;34m()\u001b[0m\n\u001b[0;32m----> 1\u001b[0;31m \u001b[0mcn_nlp\u001b[0m \u001b[1;33m=\u001b[0m \u001b[0mStanfordCoreNLP\u001b[0m\u001b[1;33m(\u001b[0m\u001b[1;34m'http://127.0.0.1:2003'\u001b[0m\u001b[1;33m)\u001b[0m\u001b[1;33m\u001b[0m\u001b[0m\n\u001b[0m",
      "\u001b[0;32mc:\\programdata\\anaconda3\\lib\\site-packages\\stanfordcorenlp\\corenlp.py\u001b[0m in \u001b[0;36m__init__\u001b[0;34m(self, path_or_host, port, memory, lang, timeout, quiet, logging_level)\u001b[0m\n\u001b[1;32m    113\u001b[0m         \u001b[0mhost_name\u001b[0m \u001b[1;33m=\u001b[0m \u001b[0murlparse\u001b[0m\u001b[1;33m(\u001b[0m\u001b[0mself\u001b[0m\u001b[1;33m.\u001b[0m\u001b[0murl\u001b[0m\u001b[1;33m)\u001b[0m\u001b[1;33m.\u001b[0m\u001b[0mhostname\u001b[0m\u001b[1;33m\u001b[0m\u001b[0m\n\u001b[1;32m    114\u001b[0m         \u001b[0mtime\u001b[0m\u001b[1;33m.\u001b[0m\u001b[0msleep\u001b[0m\u001b[1;33m(\u001b[0m\u001b[1;36m1\u001b[0m\u001b[1;33m)\u001b[0m  \u001b[1;31m# OSX, not tested\u001b[0m\u001b[1;33m\u001b[0m\u001b[0m\n\u001b[0;32m--> 115\u001b[0;31m         \u001b[1;32mwhile\u001b[0m \u001b[0msock\u001b[0m\u001b[1;33m.\u001b[0m\u001b[0mconnect_ex\u001b[0m\u001b[1;33m(\u001b[0m\u001b[1;33m(\u001b[0m\u001b[0mhost_name\u001b[0m\u001b[1;33m,\u001b[0m \u001b[0mself\u001b[0m\u001b[1;33m.\u001b[0m\u001b[0mport\u001b[0m\u001b[1;33m)\u001b[0m\u001b[1;33m)\u001b[0m\u001b[1;33m:\u001b[0m\u001b[1;33m\u001b[0m\u001b[0m\n\u001b[0m\u001b[1;32m    116\u001b[0m             \u001b[0mlogging\u001b[0m\u001b[1;33m.\u001b[0m\u001b[0minfo\u001b[0m\u001b[1;33m(\u001b[0m\u001b[1;34m'Waiting until the server is available.'\u001b[0m\u001b[1;33m)\u001b[0m\u001b[1;33m\u001b[0m\u001b[0m\n\u001b[1;32m    117\u001b[0m             \u001b[0mtime\u001b[0m\u001b[1;33m.\u001b[0m\u001b[0msleep\u001b[0m\u001b[1;33m(\u001b[0m\u001b[1;36m1\u001b[0m\u001b[1;33m)\u001b[0m\u001b[1;33m\u001b[0m\u001b[0m\n",
      "\u001b[0;31mTypeError\u001b[0m: an integer is required (got type NoneType)"
     ]
    }
   ],
   "source": [
    "cn_nlp = StanfordCoreNLP('http://127.0.0.1:2003')"
   ]
  },
  {
   "cell_type": "code",
   "execution_count": 29,
   "metadata": {},
   "outputs": [
    {
     "ename": "OSError",
     "evalue": "127.0.0.1 is not a directory.",
     "output_type": "error",
     "traceback": [
      "\u001b[0;31m---------------------------------------------------------------------------\u001b[0m",
      "\u001b[0;31mOSError\u001b[0m                                   Traceback (most recent call last)",
      "\u001b[0;32m<ipython-input-29-dcb4142eb385>\u001b[0m in \u001b[0;36m<module>\u001b[0;34m()\u001b[0m\n\u001b[0;32m----> 1\u001b[0;31m \u001b[0mcn_nlp\u001b[0m \u001b[1;33m=\u001b[0m \u001b[0mStanfordCoreNLP\u001b[0m\u001b[1;33m(\u001b[0m\u001b[1;34m'127.0.0.1'\u001b[0m\u001b[1;33m,\u001b[0m\u001b[1;36m2003\u001b[0m\u001b[1;33m)\u001b[0m\u001b[1;33m\u001b[0m\u001b[0m\n\u001b[0m",
      "\u001b[0;32mc:\\programdata\\anaconda3\\lib\\site-packages\\stanfordcorenlp\\corenlp.py\u001b[0m in \u001b[0;36m__init__\u001b[0;34m(self, path_or_host, port, memory, lang, timeout, quiet, logging_level)\u001b[0m\n\u001b[1;32m     49\u001b[0m             \u001b[1;31m# Check if the dir exists\u001b[0m\u001b[1;33m\u001b[0m\u001b[1;33m\u001b[0m\u001b[0m\n\u001b[1;32m     50\u001b[0m             \u001b[1;32mif\u001b[0m \u001b[1;32mnot\u001b[0m \u001b[0mos\u001b[0m\u001b[1;33m.\u001b[0m\u001b[0mpath\u001b[0m\u001b[1;33m.\u001b[0m\u001b[0misdir\u001b[0m\u001b[1;33m(\u001b[0m\u001b[0mself\u001b[0m\u001b[1;33m.\u001b[0m\u001b[0mpath_or_host\u001b[0m\u001b[1;33m)\u001b[0m\u001b[1;33m:\u001b[0m\u001b[1;33m\u001b[0m\u001b[0m\n\u001b[0;32m---> 51\u001b[0;31m                 \u001b[1;32mraise\u001b[0m \u001b[0mIOError\u001b[0m\u001b[1;33m(\u001b[0m\u001b[0mstr\u001b[0m\u001b[1;33m(\u001b[0m\u001b[0mself\u001b[0m\u001b[1;33m.\u001b[0m\u001b[0mpath_or_host\u001b[0m\u001b[1;33m)\u001b[0m \u001b[1;33m+\u001b[0m \u001b[1;34m' is not a directory.'\u001b[0m\u001b[1;33m)\u001b[0m\u001b[1;33m\u001b[0m\u001b[0m\n\u001b[0m\u001b[1;32m     52\u001b[0m             \u001b[0mdirectory\u001b[0m \u001b[1;33m=\u001b[0m \u001b[0mos\u001b[0m\u001b[1;33m.\u001b[0m\u001b[0mpath\u001b[0m\u001b[1;33m.\u001b[0m\u001b[0mnormpath\u001b[0m\u001b[1;33m(\u001b[0m\u001b[0mself\u001b[0m\u001b[1;33m.\u001b[0m\u001b[0mpath_or_host\u001b[0m\u001b[1;33m)\u001b[0m \u001b[1;33m+\u001b[0m \u001b[0mos\u001b[0m\u001b[1;33m.\u001b[0m\u001b[0msep\u001b[0m\u001b[1;33m\u001b[0m\u001b[0m\n\u001b[1;32m     53\u001b[0m             \u001b[0mself\u001b[0m\u001b[1;33m.\u001b[0m\u001b[0mclass_path_dir\u001b[0m \u001b[1;33m=\u001b[0m \u001b[0mdirectory\u001b[0m\u001b[1;33m\u001b[0m\u001b[0m\n",
      "\u001b[0;31mOSError\u001b[0m: 127.0.0.1 is not a directory."
     ]
    }
   ],
   "source": [
    "cn_nlp = StanfordCoreNLP('127.0.0.1',2003)"
   ]
  },
  {
   "cell_type": "code",
   "execution_count": 30,
   "metadata": {},
   "outputs": [],
   "source": [
    "cn_nlp = StanfordCoreNLP('http://127.0.0.1',2003)"
   ]
  },
  {
   "cell_type": "code",
   "execution_count": 31,
   "metadata": {},
   "outputs": [
    {
     "data": {
      "text/plain": [
       "['__class__',\n",
       " '__delattr__',\n",
       " '__dict__',\n",
       " '__dir__',\n",
       " '__doc__',\n",
       " '__enter__',\n",
       " '__eq__',\n",
       " '__exit__',\n",
       " '__format__',\n",
       " '__ge__',\n",
       " '__getattribute__',\n",
       " '__gt__',\n",
       " '__hash__',\n",
       " '__init__',\n",
       " '__init_subclass__',\n",
       " '__le__',\n",
       " '__lt__',\n",
       " '__module__',\n",
       " '__ne__',\n",
       " '__new__',\n",
       " '__reduce__',\n",
       " '__reduce_ex__',\n",
       " '__repr__',\n",
       " '__setattr__',\n",
       " '__sizeof__',\n",
       " '__str__',\n",
       " '__subclasshook__',\n",
       " '__weakref__',\n",
       " '_check_args',\n",
       " '_check_language',\n",
       " '_request',\n",
       " 'annotate',\n",
       " 'close',\n",
       " 'dependency_parse',\n",
       " 'lang',\n",
       " 'logging_level',\n",
       " 'memory',\n",
       " 'ner',\n",
       " 'parse',\n",
       " 'path_or_host',\n",
       " 'port',\n",
       " 'pos_tag',\n",
       " 'quiet',\n",
       " 'semgrex',\n",
       " 'switch_language',\n",
       " 'timeout',\n",
       " 'tokensregex',\n",
       " 'tregex',\n",
       " 'url',\n",
       " 'word_tokenize']"
      ]
     },
     "execution_count": 31,
     "metadata": {},
     "output_type": "execute_result"
    }
   ],
   "source": [
    "dir(cn_nlp)"
   ]
  },
  {
   "cell_type": "code",
   "execution_count": 32,
   "metadata": {},
   "outputs": [
    {
     "data": {
      "text/plain": [
       "[('简介', 'O'),\n",
       " ('职业', 'O'),\n",
       " ('经历', 'O'),\n",
       " ('相关', 'O'),\n",
       " ('人物', 'O'),\n",
       " ('相关', 'O'),\n",
       " ('新闻', 'O'),\n",
       " ('刘强', 'PERSON'),\n",
       " ('现任', 'O'),\n",
       " ('九', 'NUMBER'),\n",
       " ('派', 'O'),\n",
       " ('投资', 'O'),\n",
       " ('的', 'O'),\n",
       " ('总经理', 'O'),\n",
       " ('。', 'O'),\n",
       " ('刘强', 'PERSON'),\n",
       " ('曾', 'O'),\n",
       " ('任', 'O'),\n",
       " ('华晟', 'ORGANIZATION'),\n",
       " ('会计师', 'ORGANIZATION'),\n",
       " ('事务所', 'ORGANIZATION'),\n",
       " ('、', 'O'),\n",
       " ('武汉', 'ORGANIZATION'),\n",
       " ('华锐', 'ORGANIZATION'),\n",
       " ('管理', 'ORGANIZATION'),\n",
       " ('咨询', 'ORGANIZATION'),\n",
       " ('公司', 'ORGANIZATION'),\n",
       " ('高级', 'O'),\n",
       " ('项目', 'O'),\n",
       " ('经理', 'O'),\n",
       " ('、', 'O'),\n",
       " ('合伙人', 'O'),\n",
       " ('；', 'O'),\n",
       " ('湖北省', 'GPE'),\n",
       " ('高新', 'O'),\n",
       " ('技术', 'O'),\n",
       " ('产业', 'O'),\n",
       " ('投资', 'O'),\n",
       " ('有限', 'O'),\n",
       " ('公司', 'O'),\n",
       " ('投资部', 'O'),\n",
       " ('副部长', 'O'),\n",
       " ('，', 'O'),\n",
       " ('负责', 'O'),\n",
       " ('投资', 'O'),\n",
       " ('的', 'O'),\n",
       " ('武汉', 'ORGANIZATION'),\n",
       " ('鼎', 'ORGANIZATION'),\n",
       " ('龙', 'ORGANIZATION'),\n",
       " ('化学', 'ORGANIZATION'),\n",
       " ('股份', 'ORGANIZATION'),\n",
       " ('有限', 'ORGANIZATION'),\n",
       " ('公司', 'ORGANIZATION'),\n",
       " ('和', 'O'),\n",
       " ('华中', 'ORGANIZATION'),\n",
       " ('数控', 'ORGANIZATION'),\n",
       " ('股份', 'ORGANIZATION'),\n",
       " ('有限', 'ORGANIZATION'),\n",
       " ('公司', 'ORGANIZATION'),\n",
       " ('成功', 'O'),\n",
       " ('登陆', 'O'),\n",
       " ('创业', 'O'),\n",
       " ('板', 'O'),\n",
       " ('，', 'O'),\n",
       " ('负责', 'O'),\n",
       " ('投资', 'O'),\n",
       " ('并进行', 'O'),\n",
       " ('增值', 'O'),\n",
       " ('服务', 'O'),\n",
       " ('的', 'O'),\n",
       " ('的', 'O'),\n",
       " ('武汉', 'ORGANIZATION'),\n",
       " ('格瑞林', 'ORGANIZATION'),\n",
       " ('建材', 'ORGANIZATION'),\n",
       " ('科技', 'ORGANIZATION'),\n",
       " ('股份', 'ORGANIZATION'),\n",
       " ('有限', 'ORGANIZATION'),\n",
       " ('公司', 'ORGANIZATION'),\n",
       " ('、', 'O'),\n",
       " ('武汉', 'ORGANIZATION'),\n",
       " ('中', 'ORGANIZATION'),\n",
       " ('博', 'ORGANIZATION'),\n",
       " ('生物', 'ORGANIZATION'),\n",
       " ('股份', 'ORGANIZATION'),\n",
       " ('有限', 'ORGANIZATION'),\n",
       " ('公司', 'ORGANIZATION'),\n",
       " ('、', 'O'),\n",
       " ('新', 'ORGANIZATION'),\n",
       " ('火炬', 'ORGANIZATION'),\n",
       " ('科技', 'ORGANIZATION'),\n",
       " ('股份', 'ORGANIZATION'),\n",
       " ('有限', 'ORGANIZATION'),\n",
       " ('公司', 'ORGANIZATION'),\n",
       " ('等', 'O'),\n",
       " ('公司', 'O'),\n",
       " ('也', 'O'),\n",
       " ('将', 'O'),\n",
       " ('上报', 'O'),\n",
       " ('上市', 'O'),\n",
       " ('材料', 'O'),\n",
       " ('。', 'O'),\n",
       " ('刘强', 'PERSON'),\n",
       " ('，', 'O'),\n",
       " ('武汉', 'ORGANIZATION'),\n",
       " ('大学', 'ORGANIZATION'),\n",
       " ('企业', 'O'),\n",
       " ('管理', 'O'),\n",
       " ('硕士', 'O'),\n",
       " ('，', 'O'),\n",
       " ('注册', 'O'),\n",
       " ('会计师', 'O'),\n",
       " ('、', 'O'),\n",
       " ('高级', 'O'),\n",
       " ('会计师', 'O'),\n",
       " ('。', 'O')]"
      ]
     },
     "execution_count": 32,
     "metadata": {},
     "output_type": "execute_result"
    }
   ],
   "source": [
    "cn_nlp.ner(article)"
   ]
  },
  {
   "cell_type": "code",
   "execution_count": 33,
   "metadata": {},
   "outputs": [
    {
     "ename": "AttributeError",
     "evalue": "'StanfordCoreNLP' object has no attribute 'pos'",
     "output_type": "error",
     "traceback": [
      "\u001b[0;31m---------------------------------------------------------------------------\u001b[0m",
      "\u001b[0;31mAttributeError\u001b[0m                            Traceback (most recent call last)",
      "\u001b[0;32m<ipython-input-33-035728323631>\u001b[0m in \u001b[0;36m<module>\u001b[0;34m()\u001b[0m\n\u001b[0;32m----> 1\u001b[0;31m \u001b[0mcn_nlp\u001b[0m\u001b[1;33m.\u001b[0m\u001b[0mpos\u001b[0m\u001b[1;33m(\u001b[0m\u001b[0marticle\u001b[0m\u001b[1;33m)\u001b[0m\u001b[1;33m\u001b[0m\u001b[0m\n\u001b[0m",
      "\u001b[0;31mAttributeError\u001b[0m: 'StanfordCoreNLP' object has no attribute 'pos'"
     ]
    }
   ],
   "source": [
    "cn_nlp.pos(article)"
   ]
  },
  {
   "cell_type": "code",
   "execution_count": 34,
   "metadata": {},
   "outputs": [
    {
     "data": {
      "text/plain": [
       "[('简介', 'NN'),\n",
       " ('职业', 'JJ'),\n",
       " ('经历', 'NN'),\n",
       " ('相关', 'JJ'),\n",
       " ('人物', 'NN'),\n",
       " ('相关', 'JJ'),\n",
       " ('新闻', 'NN'),\n",
       " ('刘强', 'NR'),\n",
       " ('现任', 'VV'),\n",
       " ('九', 'CD'),\n",
       " ('派', 'M'),\n",
       " ('投资', 'NN'),\n",
       " ('的', 'DEG'),\n",
       " ('总经理', 'NN'),\n",
       " ('。', 'PU'),\n",
       " ('刘强', 'NR'),\n",
       " ('曾', 'AD'),\n",
       " ('任', 'VV'),\n",
       " ('华晟', 'NR'),\n",
       " ('会计师', 'NN'),\n",
       " ('事务所', 'NN'),\n",
       " ('、', 'PU'),\n",
       " ('武汉', 'NR'),\n",
       " ('华锐', 'NR'),\n",
       " ('管理', 'VV'),\n",
       " ('咨询', 'NN'),\n",
       " ('公司', 'NN'),\n",
       " ('高级', 'JJ'),\n",
       " ('项目', 'NN'),\n",
       " ('经理', 'NN'),\n",
       " ('、', 'PU'),\n",
       " ('合伙人', 'NN'),\n",
       " ('；', 'PU'),\n",
       " ('湖北省', 'NR'),\n",
       " ('高新', 'JJ'),\n",
       " ('技术', 'NN'),\n",
       " ('产业', 'NN'),\n",
       " ('投资', 'NN'),\n",
       " ('有限', 'JJ'),\n",
       " ('公司', 'NN'),\n",
       " ('投资部', 'NN'),\n",
       " ('副部长', 'NN'),\n",
       " ('，', 'PU'),\n",
       " ('负责', 'VV'),\n",
       " ('投资', 'VV'),\n",
       " ('的', 'DEC'),\n",
       " ('武汉', 'NR'),\n",
       " ('鼎', 'NN'),\n",
       " ('龙', 'NN'),\n",
       " ('化学', 'NN'),\n",
       " ('股份', 'NN'),\n",
       " ('有限', 'JJ'),\n",
       " ('公司', 'NN'),\n",
       " ('和', 'CC'),\n",
       " ('华中', 'NR'),\n",
       " ('数控', 'NR'),\n",
       " ('股份', 'NN'),\n",
       " ('有限', 'JJ'),\n",
       " ('公司', 'NN'),\n",
       " ('成功', 'VV'),\n",
       " ('登陆', 'VV'),\n",
       " ('创业', 'NN'),\n",
       " ('板', 'NN'),\n",
       " ('，', 'PU'),\n",
       " ('负责', 'VV'),\n",
       " ('投资', 'VV'),\n",
       " ('并进行', 'NR'),\n",
       " ('增值', 'NN'),\n",
       " ('服务', 'VV'),\n",
       " ('的', 'DEC'),\n",
       " ('的', 'DEC'),\n",
       " ('武汉', 'NR'),\n",
       " ('格瑞林', 'NR'),\n",
       " ('建材', 'NN'),\n",
       " ('科技', 'NN'),\n",
       " ('股份', 'NN'),\n",
       " ('有限', 'JJ'),\n",
       " ('公司', 'NN'),\n",
       " ('、', 'PU'),\n",
       " ('武汉', 'NR'),\n",
       " ('中', 'JJ'),\n",
       " ('博', 'NN'),\n",
       " ('生物', 'NN'),\n",
       " ('股份', 'NN'),\n",
       " ('有限', 'JJ'),\n",
       " ('公司', 'NN'),\n",
       " ('、', 'PU'),\n",
       " ('新', 'JJ'),\n",
       " ('火炬', 'NN'),\n",
       " ('科技', 'NN'),\n",
       " ('股份', 'NN'),\n",
       " ('有限', 'JJ'),\n",
       " ('公司', 'NN'),\n",
       " ('等', 'ETC'),\n",
       " ('公司', 'NN'),\n",
       " ('也', 'AD'),\n",
       " ('将', 'AD'),\n",
       " ('上报', 'VV'),\n",
       " ('上市', 'NN'),\n",
       " ('材料', 'NN'),\n",
       " ('。', 'PU'),\n",
       " ('刘强', 'NR'),\n",
       " ('，', 'PU'),\n",
       " ('武汉', 'NR'),\n",
       " ('大学', 'NN'),\n",
       " ('企业', 'NN'),\n",
       " ('管理', 'NN'),\n",
       " ('硕士', 'NN'),\n",
       " ('，', 'PU'),\n",
       " ('注册', 'JJ'),\n",
       " ('会计师', 'NN'),\n",
       " ('、', 'PU'),\n",
       " ('高级', 'JJ'),\n",
       " ('会计师', 'NN'),\n",
       " ('。', 'PU')]"
      ]
     },
     "execution_count": 34,
     "metadata": {},
     "output_type": "execute_result"
    }
   ],
   "source": [
    "cn_nlp.pos_tag(article)"
   ]
  },
  {
   "cell_type": "code",
   "execution_count": 35,
   "metadata": {},
   "outputs": [
    {
     "data": {
      "text/plain": [
       "[('ROOT', 0, 7),\n",
       " ('nmod', 7, 1),\n",
       " ('amod', 7, 2),\n",
       " ('nummod', 7, 3),\n",
       " ('mark:clf', 3, 4),\n",
       " ('nmod:assmod', 7, 5),\n",
       " ('case', 5, 6),\n",
       " ('punct', 7, 8)]"
      ]
     },
     "execution_count": 35,
     "metadata": {},
     "output_type": "execute_result"
    }
   ],
   "source": [
    "cn_nlp.dependency_parse('刘强现任九派投资的总经理。')"
   ]
  },
  {
   "cell_type": "code",
   "execution_count": 36,
   "metadata": {},
   "outputs": [
    {
     "data": {
      "text/plain": [
       "['刘强', '现任', '九', '派', '投资', '的', '总经理']"
      ]
     },
     "execution_count": 36,
     "metadata": {},
     "output_type": "execute_result"
    }
   ],
   "source": [
    "cn_nlp.word_tokenize('刘强现任九派投资的总经理')"
   ]
  },
  {
   "cell_type": "code",
   "execution_count": 37,
   "metadata": {},
   "outputs": [],
   "source": [
    "import requests"
   ]
  },
  {
   "cell_type": "code",
   "execution_count": 38,
   "metadata": {},
   "outputs": [
    {
     "ename": "NameError",
     "evalue": "name 'request' is not defined",
     "output_type": "error",
     "traceback": [
      "\u001b[0;31m---------------------------------------------------------------------------\u001b[0m",
      "\u001b[0;31mNameError\u001b[0m                                 Traceback (most recent call last)",
      "\u001b[0;32m<ipython-input-38-8a88efd91d03>\u001b[0m in \u001b[0;36m<module>\u001b[0;34m()\u001b[0m\n\u001b[0;32m----> 1\u001b[0;31m \u001b[0mhtml\u001b[0m \u001b[1;33m=\u001b[0m \u001b[0mrequest\u001b[0m\u001b[1;33m.\u001b[0m\u001b[0mget\u001b[0m\u001b[1;33m(\u001b[0m\u001b[1;34m'http://sports.sina.com.cn/star/liu_qiang_bo/'\u001b[0m\u001b[1;33m)\u001b[0m\u001b[1;33m.\u001b[0m\u001b[0mcontent\u001b[0m\u001b[1;33m\u001b[0m\u001b[0m\n\u001b[0m",
      "\u001b[0;31mNameError\u001b[0m: name 'request' is not defined"
     ]
    }
   ],
   "source": [
    "html = request.get('http://sports.sina.com.cn/star/liu_qiang_bo/').content"
   ]
  },
  {
   "cell_type": "code",
   "execution_count": 39,
   "metadata": {},
   "outputs": [],
   "source": [
    "html = requests.get('http://sports.sina.com.cn/star/liu_qiang_bo/').content"
   ]
  },
  {
   "cell_type": "code",
   "execution_count": 40,
   "metadata": {},
   "outputs": [],
   "source": [
    "from pyquery import PyQuery as pq"
   ]
  },
  {
   "cell_type": "code",
   "execution_count": 41,
   "metadata": {},
   "outputs": [],
   "source": [
    "doc = pq(html)"
   ]
  },
  {
   "cell_type": "code",
   "execution_count": 42,
   "metadata": {},
   "outputs": [
    {
     "data": {
      "text/plain": [
       "'刘强_体育明星_新浪竞技风暴_新浪网\\n<!-- /* 全局 */ body,ul,ol,li,p,h1,h2,h3,h4,h5,h6,form,fieldset,table,td,img,div,dl,dt,dd{margin:0;padding:0;border:0;} body{background:#fff;color:#000;font-family:\"宋体\",\"华文宋体\";} td,p,li,select,input,textarea,div{font-size:12px;} ul,ol,dl{list-style-type:none;} select,input{vertical-align:middle;} a:link,a:visited{color:#000;text-decoration:none;} a:hover,a:active,a:focus{color:#c00;text-decoration:underline;} #page{width:950px; overflow:hidden; zoom:1; margin:5px auto;} /* header&nav */ .hn{} /* blk01 */ .blk_01{height:33px; overflow:hidden; zoom:1; border:1px #dde0cb solid; border-bottom:none; background:url(http://i3.sinaimg.cn/ty/olympic08/star/images/2008_szz_ostar_bg_001.gif) repeat-x 0 0; margin:0 0 10px;} .blk_01_b01{width:183px; height:31px; overflow:hidden; float:left; border:3px #fff solid; border-bottom:none; border-top-width:2px; background:url(http://i3.sinaimg.cn/ty/olympic08/star/images/2008_szz_ostar_bg_001.gif) repeat-x 0 -50px;} h1.blk_01_h01{padding:6px 0 0; width:72px; margin:0 auto;} .blk_01_b02{width:758px; float:left; height:32px; overflow:hidden; zoom:1; border:1px #dde0cb solid; border-right:none; border-top:none;} .blk_01_b02 a,.blk_01_b02 a:visited{text-decoration:none;} .blk_01_b02 a:hover,.blk_01_b02 a:active,.blk_01_b02 a:focus{text-decoration:underline;} .blk_01_b02_b01{float:right; padding:0 20px 0 0; overflow:hidden; zoom:1;} .blk_01_b02_b01_b01{float:left; line-height:34px;} .blk_01_b02_b01_b02{float:left; padding:9px 7px 0;} .blk_01_b02_b01_b03{float:left; line-height:34px;} #Time1{padding-left:8px;} /* blk02 */ .blk_02{height:80px; overflow:hidden; zoom:1; margin-bottom:10px;} .blk_02_b01{width:190px; overflow:hidden; float:left;} .blk_02_b01_u01{width:180px; overflow:hidden;} .blk_02_b01_u01 li{height:35px; overflow:hidden; margin-bottom:10px;} .blk_02_b01_u01 span{display:block; padding:0 0 0 50px;} .blk_02_b01_u01 a,.blk_02_b01_u01 a:visited{display:block; height:35px; overflow:hidden; line-height:37px; font-size:14px; color:#fff; font-weight:bold; text-decoration:none; background:url(http://i0.sinaimg.cn/ty/olympic08/star/images/2008_szz_ostar_bg_002.gif) no-repeat 0 0;} .blk_02_b01_u01 a:hover,.blk_02_b01_u01 a:active{text-decoration:underline; color:#fff;} .blk_01_b01_s01{background:url(http://i0.sinaimg.cn/ty/olympic08/star/images/2008_szz_ostar_bg_002.gif) no-repeat 14px -45px;} .blk_01_b01_s02{background:url(http://i0.sinaimg.cn/ty/olympic08/star/images/2008_szz_ostar_bg_002.gif) no-repeat 11px -93px;} /* 查询 */ .searchBlk{width:758px; height:78px; overflow:hidden; float:left; border:1px #dad7c4 solid; background:#f5f6f0;} .searchBlk_t{height:31px; overflow:hidden; zoom:1; background:url(http://i3.sinaimg.cn/ty/olympic08/star/images/2008_szz_ostar_bg_001.gif) repeat-x 0 -100px;} h2.searchBlk_t_h01{float:left; padding:0 0 0 34px; background:url(http://i0.sinaimg.cn/ty/olympic08/star/images/2008_szz_ostar_bg_002.gif) no-repeat 10px -141px; font-size:14px; color:#58595d; line-height:33px;} .searchBlk_o{float:right; padding:0 20px 0 0; line-height:33px;} .searchBlk_o a,.searchBlk_o a:visited{color:#0622a0;} .searchBlk_o a:hover,.searchBlk_o a:active,.searchBlk_o a:focus{color:#c00;} .searchBlk_s{zoom:1; overflow:hidden;} .searchBlk_s legend{display:none;} .searchBlk_s label{float:left; padding-right:10px; line-height:47px;} .searchBlk_s select{width:155px; color:#797979;} .searchBlk_s div{overflow:hidden; zoom:1;} .searchBlk_s span{float:left; padding:12px 0 0;} .searchBlk_s_b1{float:left; padding:0 0 0 15px;} .searchBlk_s_b2{float:left; padding:0 0 0 18px;} .searchBlk_s_b3{float:left; padding:0 0 0 18px;} .searchBlk_s_b3 input{width:130px; color:#797979;} .searchBlk_s_b4{float:left; padding:0 0 0 20px;} .searchBlk_s_b4 input{margin:12px 0 0 0; width:65px; height:20px; border:none; padding:0; background:url(http://i0.sinaimg.cn/ty/olympic08/star/images/2008_szz_ostar_bg_002.gif) no-repeat 0 -200px; cursor:pointer; line-height:500px; font-size:1px; color:#f88a01;} /* blk_03 */ .blk_03{overflow:hidden; zoom:1; background:url(http://i1.sinaimg.cn/ty/olympic08/star/images/2008_szz_ostar_bg_003.gif) repeat-y 0 0;} .blk_03 img{background:url(http://i0.sinaimg.cn/ty/olympic08/star/images/2008_szz_ostar_loading_001.gif) no-repeat 50% 50% #fff;} /* 右 */ .blk_03_r{float:right; width:760px; zoom:1; padding-left:10px;} /* 左 */ .blk_03_l{float:left; width:180px; overflow:hidden; zoom:1;} .blk_03_r_b01{overflow:hidden; zoom:1;} .blk_03_r_b01_b01{width:332px; height:383px; overflow:hidden; float:right; border:1px #dbd8c7 solid; background:url(http://i1.sinaimg.cn/ty/olympic08/star/images/2008_szz_ostar_bg_003.gif) repeat-y -1000px 0;} /* 排行榜 */ .blk_03_r_b01_b01_b01{overflow:hidden; zoom:1; background:url(http://i2.sinaimg.cn/ty/olympic08/star/images/2008_szz_ostar_004.gif) no-repeat;} .blk_03_r_b01_b01_b01 dl{width:50%; float:left;} .blk_03_r_b01_b01_b01 dt{text-align:center; height:35px; line-height:35px;} .blk_03_r_b01_b01_b01 dd{padding:10px 0 0 0;} .blk_03_r_b01_b01_b01 ol{background:url(http://i0.sinaimg.cn/ty/olympic08/star/images/2008_szz_ostar_bg_002.gif) no-repeat -477px 1px; *background-position:-477px 0; padding:0 0 0 29px;} .blk_03_r_b01_b01_b01 li{height:24px; *height:20px; overflow:hidden; zoom:1; clear:both;} .blk_03_r_b01_b01_b01 li a{cursor:pointer; display:block; overflow:hidden; zoom:1;} .blk_03_r_b01_b01_b01 li span{float:left; text-decoration:underline;} .blk_03_r_b01_b01_b01 li span.num{float:right; padding-right:6px; font-family:Arial; font-size:9px; color:#000; text-decoration:none;} .blk_03_r_b01_b01_b01 li.p1{height:86px; *height:82px;} .blk_03_r_b01_b01_b01 li.p1 span.name{display:block; height:20px; overflow:hidden; text-decoration:underline; clear:both; float:none;} .blk_03_r_b01_b01_b01 li.p1 span.pic{display:block; height:54px; overflow:hidden; float:left;} .blk_03_r_b01_b01_b01 li.p1 span.num{float:left; padding:0 0 0 18px; font-family:Arial; color:#cc0202; text-decoration:none; font-size:11px; line-height:85px;} .blk_03_r_b01_b01_b01 li.p1 img{padding:3px; border:1px #dad7c6 solid; cursor:pointer;} .blk_03_r_b01_b01_b01 li.p1 a:hover img,.blk_03_r_b01_b01_b01 li.p1 a:active img{border-color:#a29b64;} .blk_03_r_b02{border:1px #dbd8c7 solid;} .blk_03_r_b02_b01{padding:18px 0 20px 17px; overflow:hidden; zoom:1;} .blk_03_r_b02_b01 dl{overflow:hidden; zoom:1;} .blk_03_r_b02_b01 dt{float:left; width:60px; height:66px; overflow:hidden;} .blk_03_r_b02_b01 dt img{padding:3px; border:1px #dbd8c7 solid;} .blk_03_r_b02_b01 dt a:hover img,.blk_03_r_b02_b01 dt a:active img{border:1px #a39e64 solid;} .blk_03_r_b02_b01 dd{float:left; width:186px; overflow:hidden; line-height:18px;} .blk_03_r_b02_b02{padding:8px 0 10px 17px; overflow:hidden; zoom:1;} .blk_03_r_b02_b02 dl{overflow:hidden; zoom:1; padding:5px 0 10px;} .blk_03_r_b02_b02 dt{float:left; line-height:21px; width:45px;} .blk_03_r_b02_b02 dd{float:left; overflow:hidden; zoom:1; width:695px;} .blk_03_r_b02_b02 dd ul{overflow:hidden; zoom:1;} .blk_03_r_b02_b02 dd li{float:left; width:8.33%; line-height:21px;} .blk_03_r_b02_b02_m{padding:0 15px 0 0; line-height:21px; text-align:right;} .blk_03_r_b02_b02_m a,.blk_03_r_b02_b02_m a:visited{color:#009;} .blk_03_r_b02_b02_m a:hover,.blk_03_r_b02_b02_m a:active{color:#c00;} .blk_03_r_b02_b03{padding:8px 0 10px 17px; overflow:hidden; zoom:1;} .blk_03_r_b02_b03 dl{overflow:hidden; zoom:1; padding:5px 0 10px;} .blk_03_r_b02_b03 dt{float:left; line-height:21px; width:45px;} .blk_03_r_b02_b03 dd{float:left; overflow:hidden; zoom:1; width:695px;} .blk_03_r_b02_b03 dd ul{overflow:hidden; zoom:1;} .blk_03_r_b02_b03 dd li{float:left; width:33%; line-height:21px;} .blk_03_l_b01{overflow:hidden; zoom:1; border:1px #dad9c7 solid;} .blk_03_l_b01_b01{overflow:hidden; zoom:1;} .blk_03_l_b01_b01 ul{overflow:hidden; zoom:1; background:#fff; padding:7px 0 0 2px;} .blk_03_l_b01_b01 li{width:44px; height:60px; text-align:center; overflow:hidden; float:left; line-height:24px;} .blk_03_l_b01_b01 li img{margin:0 auto; display:block; border:1px #fff solid;} .blk_03_l_b01_b01 li a:hover img,.blk_03_l_b01_b01 li a:active img{border:1px #ccc solid;} .blk_03_l_b01_b01 li a{text-decoration:none;} .blk_03_l_b01_b01 li a span{display:block;} .blk_03_l_b01_b01_m{height:27px; overflow:hidden; zoom:1; background:url(http://i3.sinaimg.cn/ty/olympic08/star/images/2008_szz_ostar_bg_001.gif) repeat-x 0 -300px;} .blk_03_l_b01_b01_m a,.blk_03_l_b01_b01_m a:visited{display:block; overflow:hidden; line-height:29px; height:27px; padding:0 0 0 59px; background:url(http://i0.sinaimg.cn/ty/olympic08/star/images/2008_szz_ostar_bg_002.gif) no-repeat 46px -338px; color:#807f84; text-decoration:none;} .blk_03_l_b01_b01_m a:hover,.blk_03_l_b01_b01_m a:active{color:#000;} #iList2{padding-bottom:10px;} .blk_03_l_b01_b02{overflow:hidden; background:#fff;} .blk_03_l_b01_b02_b01{} .blk_03_l_b01_b02_b01 ul{padding:5px 9px;background:#fff;} .blk_03_l_b01_b02_b01 li{line-height:18px; height:18px; overflow:hidden; clear:both;} .blk_03_r_b03{overflow:hidden; zoom:1; background:#f6f5f0; border:1px #dbd8c5 solid; padding:7px 0 10px; color:#343434;} .blk_03_r_b03_b01{float:left; padding:8px 0 0 15px; overflow:hidden; width:51px;} .blk_03_r_b03_b02{width:298px; float:left; border-right:1px #dbd8c5 solid; height:59px; padding:2px 0 0 15px;} .blk_03_r_b03_b02 th,.blk_03_r_b03_b02 td{line-height:20px;} .blk_03_r_b03_b03{float:left; padding:2px 0 0 20px; overflow:hidden; height:59px; border-left:1px #fff solid;} .blk_03_r_b03_b03 th{font-weight:normal;} .blk_03_r_b03_b03 th,.blk_03_r_b03_b03 td{line-height:20px;} .blk_03_r_b03_b03 img{margin:0 0 0 3px;} .blk_03_r_b04{border:1px #dbd8c5 solid; overflow:hidden; zoom:1;} .blk_03_r_b04_b01{padding:0 9px 16px; overflow:hidden; zoom:1;} /* 分页 */ .blk_03_r_b04_b01_page{float:right; height:21px; overflow:hidden; zoom:1; padding:8px 0 0 0;} .blk_03_r_b04_b01_page label{float:left; border:1px #dcdcdc solid; margin-left:4px; height:19px; line-height:19px; overflow:hidden; padding:0 6px; cursor:pointer;} .blk_03_r_b04_b01_page label.page_pre{padding:0 10px 0 15px; background:url(http://i0.sinaimg.cn/ty/olympic08/star/images/2008_szz_ostar_bg_002.gif) no-repeat 6px -443px; line-height:21px; color:#aaa;} .blk_03_r_b04_b01_page label.page_next{padding:0 15px 0 10px; background:url(http://i0.sinaimg.cn/ty/olympic08/star/images/2008_szz_ostar_bg_002.gif) no-repeat 50px -493px; line-height:21px; color:#aaa;} .blk_03_r_b04_b01_page label.page_num{font-family:Arial; font-size:10px; color:#aaa;} .blk_03_r_b04_b01_page label.page_num_selected{font-family:Arial; font-size:10px; border:none; height:21px; line-height:21px; color:#000;} .page_con{clear:both; overflow:hidden; zoom:1;} .page_con_b_lb{border:1px #e9e6d7 solid; border-top:none; padding:0 0 0 18px; overflow:hidden; zoom:1;} .page_con_b_l{overflow:hidden; zoom:1; padding:0 0 10px;} .page_con_b_l li{float:left; line-height:22px; width:32%; padding-right:8px;} .blk_03_r_b05{overflow:hidden; zoom:1; background:#f6f5f0; border:1px #dbd8c5 solid; padding:7px 0 10px; color:#343434;} .blk_03_r_b05_b01{float:left; width:55px; overflow:hidden; padding:4px 0 0 14px;} .blk_03_r_b05_b02{float:left; padding:4px 0 0 10px; overflow:hidden;} .blk_03_r_b05_b02 h2{font-family:\"黑体\"; font-size:18px; font-weight:normal; line-height:27px;} .blk_03_r_b05_b02 p{line-height:20px;} .blk_03_r_b05_b02 a,.blk_03_r_b05_b02 a:visited{color:#009;} .blk_03_r_b05_b02 a:hover,.blk_03_r_b05_b02 a:active{color:#c00;} .blk_04{height:34px; overflow:hidden; background:url(http://i1.sinaimg.cn/ty/olympic08/star/images/2008_szz_ostar_003.gif) no-repeat 0 0; zoom:1;} .blk_04_b01{float:right; width:142px; height:28px; overflow:hidden; margin-top:6px;} .blk_04_b01 a,.blk_04_b01 a:visited{color:#000; text-decoration:none; display:block; padding:0 0 0 48px; line-height:30px;} .blk_04_b01 a:hover,.blk_04_b01 a:active{color:#000; text-decoration:underline;} .blk_03_r_b06{overflow:hidden;zoom:1;border:1px solid #dbd8c5;} .blk_03_r_b06_b01{width:222px;float:left;padding:10px 0;text-align:center;} .blk_03_r_b06_b01 img{border:1px solid #dbd8c5;padding:6px;} .blk_03_r_b06_b02{float:left;width:534px;float:left;padding:10px 0;} .blk_03_r_b06_b02_b01{zoom:1;overflow:hidden;} .blk_03_r_b06_b02_b01_1{float:left;width:315px;line-height:22px;padding-left:5px;} .blk_03_r_b06_b02_b01_1 th{font-weight:normal;} .blk_03_r_b06_b02_b01_2{float:left;width:202px;} .blk_03_r_b06_b02_b02_1{height:134px;overflow:auto;margin-top:5px;line-height:20px;} .blk_03_r_b06_b02_b02_1 h5{font-size:12px;line-height:30px;} .blk_03_r_b06_b02_b02_1 table{border-left:1px solid #dedbca;border-top:1px solid #dedbca;} .blk_03_r_b06_b02_b02_1 td,.blk_03_r_b06_b02_b02_1 th{border-right:1px solid #dedbca;border-bottom:1px solid #dedbca;height:23px;} .blk_03_r_b06_b02_b02_1 td{padding-left:5px;} .blk_03_r_b07{border:1px solid #dbd8c5;} .imgTxt01{padding:0 10px 10px;overflow:hidden;zoom:1;} .imgTxt01 .imgTxt01_b{width:19.9%;text-align:center;line-height:28px;float:left;padding:14px 0 0;} .imgTxt01 .imgTxt01_b img{display:block;margin:0 auto;border:1px solid #c1c1c1;padding:3px;} .blk_03_r_b08{zoom:1;overflow:hidden;} .blk_03_r_b08_b01{float:left;width:496px;} .blk_03_r_b08_b02{float:left;width:256px;margin-left:8px;_margin-left:4px;} .blk_03_r_b08_b01_b01{border:1px solid #dbd8c5;} .blk_03_r_b08_b01_b01_l{padding:4px 0;} .blk_03_r_b08_b01_b01_l ul{;padding:4px 0 4px 8px;} .blk_03_r_b08_b01_b01_l ul li{line-height:23px;font-size:14px} .blk_03_r_b08_b01_b01_l ul li .list_d{font-size:10px;color:#666;} .info{padding:0 8px;} .info .box{padding:5px 0;} .info .box .title{line-height:26px;color:#7a7a7a;} .info .box .memo{line-height:20px;padding:0 0 5px;} .info .box .line{height:1px;overflow:hidden;font-weight:normal;background:url(http://i3.sinaimg.cn/ty/olympic08/star/images/2008_szz_ostar_bg_001.gif) repeat-x 0 -400px;} .form{border:1px solid #ccd7eb;margin:18px 8px 8px;position:relative;padding:10px 10px 30px 10px;} .form h5{position:absolute;top:-6px;font-size:12px;font-weight:normal;background:#fff;left:16px;padding:0 4px;} .form p{padding:3px 0;} .form textarea{width:446px;} .blk_03_r_b08_b02_b01{border:1px solid #dbd8c5;} .blk_03_r_b08_b02_b01 ul{padding:5px 0 5px 10px;} .blk_03_r_b08_b02_b01 ul li{line-height:20px;} .blk_03_r_b08_b02_b02{border:1px solid #dbd8c5;height:855px;*height:824px;} .blk_03_r_b08_b02_b01_l{padding:5px 10px;} .blk_03_r_b08_b02_b01_l dt{line-height:20px;padding-left:13px;background:url(http://i0.sinaimg.cn/ty/olympic08/star/images/2008_szz_ostar_bg_002.gif) no-repeat 0 -596px;} .blk_03_r_b08_b02_b01_l ul{zoom:1;overflow:hidden;padding:0;} .blk_03_r_b08_b02_b01_l ul li{width:33.33%;float:left;text-align:center;line-height:28px;padding:3px 0 0;} .blk_03_r_b08_b02_b01_l ul li img{display:block;margin:0 auto;border:1px solid #d9d7c2;padding:3px;} /* 标题栏 */ .Title_01{height:31px; overflow:hidden; zoom:1; background:url(http://i3.sinaimg.cn/ty/olympic08/star/images/2008_szz_ostar_bg_001.gif) repeat-x 0 -100px;} .Title_01 h2{font-size:14px; color:#484846; float:left; line-height:33px; padding:0 0 0 12px;} .Title_01_o,.Title_01_o2{float:right; padding:0 10px 0 0; line-height:33px;} .Title_01_o a,.Title_01_o a:visited{color:#0725a1;} .Title_01_o a:hover,.Title_01_o a:active,.Title_01_o a:focus{color:#c00;} .Title_02{height:31px; overflow:hidden; zoom:1; background:url(http://i3.sinaimg.cn/ty/olympic08/star/images/2008_szz_ostar_bg_001.gif) repeat-x 0 -250px;} .Title_02 h2{float:left; padding:0 0 0 12px; font-size:14px; color:#4c6500; line-height:33px;} .Title_03{height:25px; overflow:hidden; zoom:1; background:url(http://i3.sinaimg.cn/ty/olympic08/star/images/2008_szz_ostar_bg_001.gif) repeat-x 0 -400px;} .Title_03 a{display:block; height:25px; line-height:27px; overflow:hidden; padding:0 0 0 6px; margin:0 3px; text-decoration:none; background:url(http://i0.sinaimg.cn/ty/olympic08/star/images/2008_szz_ostar_bg_002.gif) no-repeat 160px -390px;} .Title_04{height:25px; overflow:hidden; zoom:1; background:url(http://i2.sinaimg.cn/ty/olympic08/star/images/2008_szz_ostar_008.gif) no-repeat 0 0;} .Title_04 h3{float:left; margin:0 0 0 9px; background:#fff; padding:0 10px; font-size:14px; line-height:18px;} .Title_05{height:31px; overflow:hidden; zoom:1; background:url(http://i3.sinaimg.cn/ty/olympic08/star/images/2008_szz_ostar_bg_001.gif) repeat-x 0 -100px;} .Title_05 h2{font-size:14px; margin:5px 0 0 15px; float:left; overflow:hidden; line-height:25px; text-align:center; padding:0 35px; color:#484848; border:1px #ccccc0 solid; border-bottom:none; background:url(http://i3.sinaimg.cn/ty/olympic08/star/images/2008_szz_ostar_bg_001.gif) repeat-x 0 -450px;} .Title_05_o{float:right; color:#f36205; padding:0 10px 0 0; line-height:33px; font-size:14px;} /* 舌签 */ #T_Menu_01{float:right; height:26px; overflow:hidden; zoom:1; padding-top:5px;} #T_Menu_01 label{float:left; margin-right:6px; text-align:center; height:26px; overflow:hidden; line-height:26px; padding:0 5px; border:1px #cbcbbf solid; border-bottom:none; cursor:pointer; background:url(http://i3.sinaimg.cn/ty/olympic08/star/images/2008_szz_ostar_bg_001.gif) repeat-x 0 -150px;} #T_Menu_01 label.selected{background:url(http://i3.sinaimg.cn/ty/olympic08/star/images/2008_szz_ostar_bg_001.gif) repeat-x 0 -200px; font-weight:bold;} #T_Menu_03{float:right; height:26px; overflow:hidden; zoom:1; padding:5px 18px 0 0;} #T_Menu_03 label{float:left; margin-right:6px; text-align:center; height:25px; overflow:hidden; line-height:23px; padding:0 15px; border:1px #cecec2 solid; border-bottom:none; cursor:pointer; background:url(http://i3.sinaimg.cn/ty/olympic08/star/images/2008_szz_ostar_bg_001.gif) repeat-x 0 -150px; font-size:14px; font-weight:bold;} #T_Menu_03 label.selected{background:url(http://i3.sinaimg.cn/ty/olympic08/star/images/2008_szz_ostar_bg_001.gif) repeat-x 0 -200px;} #T_Menu_04{height:26px; overflow:hidden; zoom:1; padding:0 18px 0 0;background:url(http://i3.sinaimg.cn/ty/olympic08/star/images/2008_szz_ostar_bg_001.gif) repeat-x 0 -475px;} #T_Menu_04 label{float:left; margin-right:6px; text-align:center; height:25px; overflow:hidden; line-height:23px; padding:0 7px; border:1px #cecec2 solid; border-bottom:none; cursor:pointer; background:url(http://i3.sinaimg.cn/ty/olympic08/star/images/2008_szz_ostar_bg_001.gif) repeat-x 0 -150px; font-size:12px;} #T_Menu_04 label.selected{background:url(http://i3.sinaimg.cn/ty/olympic08/star/images/2008_szz_ostar_bg_001.gif) repeat-x 0 -200px;} /* 焦点图 */ .blk_03_r_b01_f{width:416px; height:383px; overflow:hidden; float:left; border:1px #dbd8c7 solid;} /* footer */ .footer{text-align:center; line-height:30px; padding:20px 0 0;} .copyright{font-family:Arial, Helvetica, sans-serif;} /* 间隔 */ .hs01{height:10px; overflow:hidden; background:#fff; clear:both; font-size:0; line-height:500px;} /* 常用链接 begin */ a.linkRed:link,a.linkRed:visited{color:#f00!important;}/* 红色 */ a.linkRed:hover{color:#c00!important;} a.linkBlack:link,a.linkBlack:visited{color:#000!important;}/* 黑色 */ a.linkBlack:hover{color:#f00!important;} a.linkWhite:link,a.linkWhite:visited{color:#fff!important;}/* 白色 */ a.linkWhite:hover{color:#f00!important;} a.linkGray:link,a.linkGray:visited{color:#5d5d5d!important;}/* 灰色 */ a.linkGray:hover{color:#f00!important;} a.linkCyan:link,a.linkCyan:visited{color:#92e4fa!important;text-decoration:underline;}/* 青色 */ a.linkCyan:hover{color:#f00!important;} a.videoNews{background:url(http://i1.sinaimg.cn/dy/deco/2007/1211/yocc/unfcn_mj_01.gif) no-repeat 100% 50%;padding-right:18px;}/* 视频图标链接 */ a.videoNewsLeft{background:url(http://i1.sinaimg.cn/dy/deco/2007/1211/yocc/unfcn_mj_01.gif) no-repeat -19982px 50%;padding-left:18px;}/* 视频图标链接（左图标） */ /* 常用链接 end */ /* 共用列表 begin */ .list_009 li{padding-left:1em;background:url(http://i1.sinaimg.cn/dy/deco/2007/1211/yocc/unfcn_mj_01.gif) no-repeat 5px 50%;} .list_00f li{padding-left:1em;background:url(http://i1.sinaimg.cn/dy/deco/2007/1211/yocc/unfcn_mj_01.gif) no-repeat -995px 50%;} .list_000 li{padding-left:1em;background:url(http://i1.sinaimg.cn/dy/deco/2007/1211/yocc/unfcn_mj_01.gif) no-repeat -1995px 50%;} .list_333 li{padding-left:1em;background:url(http://i1.sinaimg.cn/dy/deco/2007/1211/yocc/unfcn_mj_01.gif) no-repeat -2995px 50%;} .list_666 li{padding-left:1em;background:url(http://i1.sinaimg.cn/dy/deco/2007/1211/yocc/unfcn_mj_01.gif) no-repeat -3995px 50%;} .list_999 li{padding-left:1em;background:url(http://i1.sinaimg.cn/dy/deco/2007/1211/yocc/unfcn_mj_01.gif) no-repeat -4995px 50%;} li.list_nostyle{background:none;} /* 共用列表 end */ -->\\n.blkCommentBox{color:#343434; background:#F5F8FD;} .blkPostCommentBox{background:url() repeat-x 0 -200px; margin:0;} .bPCB_t1{overflow:hidden; zoom:1; height:30px; line-height:32px; padding:0 0 0 8px;} .bPCB_t2{overflow:hidden; zoom:1; padding:0 0 0 8px;} .bPCB_b1_1{padding-bottom:5px;font-size:14px;} .bPCB_b1_1 textarea{width:100%; height:100px; border:1px #c8d8f1 solid; background:#fff;} .bPCB_b1{background:#F5F8FD;} .bPCB_b1_2{height:25px; overflow:hidden; zoom:1; padding:0 0 0 5px;font-size:14px;} .bPCB_b1_2 span{float:left;*line-height:25px;} .bPCB_b1_2_2 input,.bPCB_b1_2_4 input{width:98px; height:17px; border:1px #c8d8f2 solid; padding:0; margin:0 5px 0 0; background:#fff; color:#8a8a8a; line-height:17px;} .bPCB_b1_2 span.bPCB_b1_2_7{margin:0;} .bPCB_b1_2 span.bPCB_b1_2_7 input{width:130px;} .grid-640{width:640px; overflow:hidden; float:left;zoom:1;} /* 分页样式，可根据自己需要自己定义 */ .pages{padding:10px 30px;border:1px #e5e5e5 solid; border-top:none; border-bottom:none;} .pagebox{font-size:12px; font-family:\"宋体\",sans-serif;} .pagebox span{float:left; margin-right:2px; overflow:hidden; text-align:center; background:#fff;} .pagebox span a{display:block; overflow:hidden; zoom:1; _float:left;} .pagebox span.pagebox_pre_nolink{border:1px #ddd solid; width:53px; height:21px; line-height:21px; text-align:center; color:#999; cursor:default;} .pagebox span.pagebox_pre{color:#3568b9; height:23px;} .pagebox span.pagebox_pre a,.pagebox span.pagebox_pre a:visited,.pagebox span.pagebox_next a,.pagebox span.pagebox_next a:visited{border:1px #9aafe5 solid; color:#3568b9; text-decoration:none; text-align:center; width:53px; cursor:pointer; height:21px; line-height:21px;} .pagebox span.pagebox_pre a:hover,.pagebox span.pagebox_pre a:active,.pagebox span.pagebox_next a:hover,.pagebox span.pagebox_next a:active{color:#363636; border:1px #2e6ab1 solid;} .pagebox span.pagebox_num_nonce{padding:0 8px; height:23px; line-height:23px; color:#fff; cursor:default; background:#296cb3; font-weight:bold;} .pagebox span.pagebox_num{color:#3568b9; height:23px;} .pagebox span.pagebox_num a,.pagebox span.pagebox_num a:visited{border:1px #9aafe5 solid; color:#3568b9; text-decoration:none; padding:0 8px; cursor:pointer; height:21px; line-height:21px;} .pagebox span.pagebox_num a:hover,.pagebox span.pagebox_num a:active{border:1px #2e6ab1 solid;color:#363636;} .pagebox span.pagebox_num_ellipsis{color:#393733; width:22px; background:none; line-height:23px;} .pagebox span.pagebox_next_nolink{border:1px #ddd solid; width:53px; height:21px; line-height:21px; text-align:center; color:#999; cursor:default;}\\n//<!-- (function(){var an=\"V=2.1.16\";var ah=window,F=document,s=navigator,W=s.userAgent,ao=ah.screen,j=ah.location.href;var aD=\"https:\"==ah.location.protocol?\"https://s\":\"http://\",ay=\"beacon.sina.com.cn\";var N=aD+ay+\"/a.gif?\",z=aD+ay+\"/g.gif?\",R=aD+ay+\"/f.gif?\",ag=aD+ay+\"/e.gif?\",aB=aD+\"beacon.sinauda.com/i.gif?\";var aA=F.referrer.toLowerCase();var aa=\"SINAGLOBAL\",Y=\"FSINAGLOBAL\",H=\"Apache\",P=\"ULV\",l=\"SUP\",aE=\"UOR\",E=\"_s_acc\",X=\"_s_tentry\",n=false,az=false,B=(document.domain==\"sina.com.cn\")?true:false;var o=0;var aG=false,A=false;var al=\"\";var m=16777215,Z=0,C,K=0;var r=\"\",b=\"\",a=\"\";var M=[],S=[],I=[];var u=0;var v=0;var p=\"\";var am=false;var w=false;function O(){var e=document.createElement(\"iframe\");e.src=aD+ay+\"/data.html?\"+new Date().getTime();e.id=\"sudaDataFrame\";e.style.height=\"0px\";e.style.width=\"1px\";e.style.overflow=\"hidden\";e.frameborder=\"0\";e.scrolling=\"no\";document.getElementsByTagName(\"head\")[0].appendChild(e)}function k(){var e=document.createElement(\"iframe\");e.src=aD+ay+\"/ckctl.html\";e.id=\"ckctlFrame\";e.style.height=\"0px\";e.style.width=\"1px\";e.style.overflow=\"hidden\";e.frameborder=\"0\";e.scrolling=\"no\";document.getElementsByTagName(\"head\")[0].appendChild(e)}function q(){var e=document.createElement(\"script\");e.src=aD+ay+\"/h.js\";document.getElementsByTagName(\"head\")[0].appendChild(e)}function h(aH,i){var D=F.getElementsByName(aH);var e=(i>0)?i:0;return(D.length>e)?D[e].content:\"\"}function aF(){var aJ=F.getElementsByName(\"sudameta\");var aR=[];for(var aO=0;aO<aJ.length;aO++){var aK=aJ[aO].content;if(aK){if(aK.indexOf(\";\")!=-1){var D=aK.split(\";\");for(var aH=0;aH<D.length;aH++){var aP=aw(D[aH]);if(!aP){continue}aR.push(aP)}}else{aR.push(aK)}}}var aM=F.getElementsByTagName(\"meta\");for(var aO=0,aI=aM.length;aO<aI;aO++){var aN=aM[aO];if(aN.name==\"tags\"){aR.push(\"content_tags:\"+encodeURI(aN.content))}}var aL=t(\"vjuids\");aR.push(\"vjuids:\"+aL);var e=\"\";var aQ=j.indexOf(\"#\");if(aQ!=-1){e=escape(j.substr(aQ+1));aR.push(\"hashtag:\"+e)}return aR}function V(aK,D,aI,aH){if(aK==\"\"){return\"\"}aH=(aH==\"\")?\"=\":aH;D+=aH;var aJ=aK.indexOf(D);if(aJ<0){return\"\"}aJ+=D.length;var i=aK.indexOf(aI,aJ);if(i<aJ){i=aK.length}return aK.substring(aJ,i)}function t(e){if(undefined==e||\"\"==e){return\"\"}return V(F.cookie,e,\";\",\"\")}function at(aI,e,i,aH){if(e!=null){if((undefined==aH)||(null==aH)){aH=\"sina.com.cn\"}if((undefined==i)||(null==i)||(\"\"==i)){F.cookie=aI+\"=\"+e+\";domain=\"+aH+\";path=/\"}else{var D=new Date();var aJ=D.getTime();aJ=aJ+86400000*i;D.setTime(aJ);aJ=D.getTime();F.cookie=aI+\"=\"+e+\";domain=\"+aH+\";expires=\"+D.toUTCString()+\";path=/\"}}}function f(D){try{var i=document.getElementById(\"sudaDataFrame\").contentWindow.storage;return i.get(D)}catch(aH){return false}}function ar(D,aH){try{var i=document.getElementById(\"sudaDataFrame\").contentWindow.storage;i.set(D,aH);return true}catch(aI){return false}}function L(){var aJ=15;var D=window.SUDA.etag;if(!B){return\"-\"}if(u==0){O();q()}if(D&&D!=undefined){w=true}ls_gid=f(aa);if(ls_gid===false||w==false){return false}else{am=true}if(ls_gid&&ls_gid.length>aJ){at(aa,ls_gid,3650);n=true;return ls_gid}else{if(D&&D.length>aJ){at(aa,D,3650);az=true}var i=0,aI=500;var aH=setInterval((function(){var e=t(aa);if(w){e=D}i+=1;if(i>3){clearInterval(aH)}if(e.length>aJ){clearInterval(aH);ar(aa,e)}}),aI);return w?D:t(aa)}}function U(e,aH,D){var i=e;if(i==null){return false}aH=aH||\"click\";if((typeof D).toLowerCase()!=\"function\"){return}if(i.attachEvent){i.attachEvent(\"on\"+aH,D)}else{if(i.addEventListener){i.addEventListener(aH,D,false)}else{i[\"on\"+aH]=D}}return true}function af(){if(window.event!=null){return window.event}else{if(window.event){return window.event}var D=arguments.callee.caller;var i;var aH=0;while(D!=null&&aH<40){i=D.arguments[0];if(i&&(i.constructor==Event||i.constructor==MouseEvent||i.constructor==KeyboardEvent)){return i}aH++;D=D.caller}return i}}function g(i){i=i||af();if(!i.target){i.target=i.srcElement;i.pageX=i.x;i.pageY=i.y}if(typeof i.layerX==\"undefined\"){i.layerX=i.offsetX}if(typeof i.layerY==\"undefined\"){i.layerY=i.offsetY}return i}function aw(aH){if(typeof aH!==\"string\"){throw\"trim need a string as parameter\"}var e=aH.length;var D=0;var i=/(\\\\u3000|\\\\s|\\\\t|\\\\u00A0)/;while(D<e){if(!i.test(aH.charAt(D))){break}D+=1}while(e>D){if(!i.test(aH.charAt(e-1))){break}e-=1}return aH.slice(D,e)}function c(e){return Object.prototype.toString.call(e)===\"[object Array]\"}function J(aH,aL){var aN=aw(aH).split(\"&\");var aM={};var D=function(i){if(aL){try{return decodeURIComponent(i)}catch(aP){return i}}else{return i}};for(var aJ=0,aK=aN.length;aJ<aK;aJ++){if(aN[aJ]){var aI=aN[aJ].split(\"=\");var e=aI[0];var aO=aI[1];if(aI.length<2){aO=e;e=\"$nullName\"}if(!aM[e]){aM[e]=D(aO)}else{if(c(aM[e])!=true){aM[e]=[aM[e]]}aM[e].push(D(aO))}}}return aM}function ac(D,aI){for(var aH=0,e=D.length;aH<e;aH++){aI(D[aH],aH)}}function ak(i){var e=new RegExp(\"^http(?:s)?://([^/]+)\",\"im\");if(i.match(e)){return i.match(e)[1].toString()}else{return\"\"}}function aj(aO){try{var aL=\"ABCDEFGHIJKLMNOPQRSTUVWXYZabcdefghijklmnopqrstuvwxyz0123456789+/=\";var D=\"ABCDEFGHIJKLMNOPQRSTUVWXYZabcdefghijklmnopqrstuvwxyz0123456789-_=\";var aQ=function(e){var aR=\"\",aS=0;for(;aS<e.length;aS++){aR+=\"%\"+aH(e[aS])}return decodeURIComponent(aR)};var aH=function(e){var i=\"0\"+e.toString(16);return i.length<=2?i:i.substr(1)};var aP=function(aY,aV,aR){if(typeof(aY)==\"string\"){aY=aY.split(\"\")}var aX=function(a7,a9){for(var a8=0;a8<a7.length;a8++){if(a7[a8]==a9){return a8}}return -1};var aS=[];var a6,a4,a1=\"\";var a5,a3,a0,aZ=\"\";if(aY.length%4!=0){}var e=/[^A-Za-z0-9\\\\+\\\\/\\\\=]/g;var a2=aL.split(\"\");if(aV==\"urlsafe\"){e=/[^A-Za-z0-9\\\\-_\\\\=]/g;a2=D.split(\"\")}var aU=0;if(aV==\"binnary\"){a2=[];for(aU=0;aU<=64;aU++){a2[aU]=aU+128}}if(aV!=\"binnary\"&&e.exec(aY.join(\"\"))){return aR==\"array\"?[]:\"\"}aU=0;do{a5=aX(a2,aY[aU++]);a3=aX(a2,aY[aU++]);a0=aX(a2,aY[aU++]);aZ=aX(a2,aY[aU++]);a6=(a5<<2)|(a3>>4);a4=((a3&15)<<4)|(a0>>2);a1=((a0&3)<<6)|aZ;aS.push(a6);if(a0!=64&&a0!=-1){aS.push(a4)}if(aZ!=64&&aZ!=-1){aS.push(a1)}a6=a4=a1=\"\";a5=a3=a0=aZ=\"\"}while(aU<aY.length);if(aR==\"array\"){return aS}var aW=\"\",aT=0;for(;aT<aS.lenth;aT++){aW+=String.fromCharCode(aS[aT])}return aW};var aI=[];var aN=aO.substr(0,3);var aK=aO.substr(3);switch(aN){case\"v01\":for(var aJ=0;aJ<aK.length;aJ+=2){aI.push(parseInt(aK.substr(aJ,2),16))}return decodeURIComponent(aQ(aP(aI,\"binnary\",\"array\")));break;case\"v02\":aI=aP(aK,\"urlsafe\",\"array\");return aQ(aP(aI,\"binnary\",\"array\"));break;default:return decodeURIComponent(aO)}}catch(aM){return\"\"}}var ap={screenSize:function(){return(m&8388608==8388608)?ao.width+\"x\"+ao.height:\"\"},colorDepth:function(){return(m&4194304==4194304)?ao.colorDepth:\"\"},appCode:function(){return(m&2097152==2097152)?s.appCodeName:\"\"},appName:function(){return(m&1048576==1048576)?((s.appName.indexOf(\"Microsoft Internet Explorer\")>-1)?\"MSIE\":s.appName):\"\"},cpu:function(){return(m&524288==524288)?(s.cpuClass||s.oscpu):\"\"},platform:function(){return(m&262144==262144)?(s.platform):\"\"},jsVer:function(){if(m&131072!=131072){return\"\"}var aI,e,aK,D=1,aH=0,i=(s.appName.indexOf(\"Microsoft Internet Explorer\")>-1)?\"MSIE\":s.appName,aJ=s.appVersion;if(\"MSIE\"==i){e=\"MSIE\";aI=aJ.indexOf(e);if(aI>=0){aK=window.parseInt(aJ.substring(aI+5));if(3<=aK){D=1.1;if(4<=aK){D=1.3}}}}else{if((\"Netscape\"==i)||(\"Opera\"==i)||(\"Mozilla\"==i)){D=1.3;e=\"Netscape6\";aI=aJ.indexOf(e);if(aI>=0){D=1.5}}}return D},network:function(){if(m&65536!=65536){return\"\"}var i=\"\";i=(s.connection&&s.connection.type)?s.connection.type:i;try{F.body.addBehavior(\"#default#clientCaps\");i=F.body.connectionType}catch(D){i=\"unkown\"}return i},language:function(){return(m&32768==32768)?(s.systemLanguage||s.language):\"\"},timezone:function(){return(m&16384==16384)?(new Date().getTimezoneOffset()/60):\"\"},flashVer:function(){if(m&8192!=8192){return\"\"}var aK=s.plugins,aH,aL,aN;if(aK&&aK.length){for(var aJ in aK){aL=aK[aJ];if(aL.description==null){continue}if(aH!=null){break}aN=aL.description.toLowerCase();if(aN.indexOf(\"flash\")!=-1){aH=aL.version?parseInt(aL.version):aN.match(/\\\\d+/);continue}}}else{if(window.ActiveXObject){for(var aI=10;aI>=2;aI--){try{var D=new ActiveXObject(\"ShockwaveFlash.ShockwaveFlash.\"+aI);if(D){aH=aI;break}}catch(aM){}}}else{if(W.indexOf(\"webtv/2.5\")!=-1){aH=3}else{if(W.indexOf(\"webtv\")!=-1){aH=2}}}}return aH},javaEnabled:function(){if(m&4096!=4096){return\"\"}var D=s.plugins,i=s.javaEnabled(),aH,aI;if(i==true){return 1}if(D&&D.length){for(var e in D){aH=D[e];if(aH.description==null){continue}if(i!=null){break}aI=aH.description.toLowerCase();if(aI.indexOf(\"java plug-in\")!=-1){i=parseInt(aH.version);continue}}}else{if(window.ActiveXObject){i=(new ActiveXObject(\"JavaWebStart.IsInstalled\")!=null)}}return i?1:0}};var ad={pageId:function(i){var D=i||r,aK=\"-9999-0-0-1\";if((undefined==D)||(\"\"==D)){try{var aH=h(\"publishid\");if(\"\"!=aH){var aJ=aH.split(\",\");if(aJ.length>0){if(aJ.length>=3){aK=\"-9999-0-\"+aJ[1]+\"-\"+aJ[2]}D=aJ[0]}}else{D=\"0\"}}catch(aI){D=\"0\"}D=D+aK}return D},sessionCount:function(){var e=t(\"_s_upa\");if(e==\"\"){e=0}return e},excuteCount:function(){return SUDA.sudaCount},referrer:function(){if(m&2048!=2048){return\"\"}var e=/^[^\\\\?&#]*.swf([\\\\?#])?/;if((aA==\"\")||(aA.match(e))){var i=V(j,\"ref\",\"&\",\"\");if(i!=\"\"){return escape(i)}}return escape(aA)},isHomepage:function(){if(m&1024!=1024){return\"\"}var D=\"\";try{F.body.addBehavior(\"#default#homePage\");D=F.body.isHomePage(j)?\"Y\":\"N\"}catch(i){D=\"unkown\"}return D},PGLS:function(){return(m&512==512)?h(\"stencil\"):\"\"},ZT:function(){if(m&256!=256){return\"\"}var e=h(\"subjectid\");e.replace(\",\",\".\");e.replace(\";\",\",\");return escape(e)},mediaType:function(){return(m&128==128)?h(\"mediaid\"):\"\"},domCount:function(){return(m&64==64)?F.getElementsByTagName(\"*\").length:\"\"},iframeCount:function(){return(m&32==32)?F.getElementsByTagName(\"iframe\").length:\"\"}};var av={visitorId:function(){var i=15;var e=t(aa);if(e.length>i&&u==0){return e}else{return}},fvisitorId:function(e){if(!e){var e=t(Y);return e}else{at(Y,e,3650)}},sessionId:function(){var e=t(H);if(\"\"==e){var i=new Date();e=Math.random()*10000000000000+\".\"+i.getTime()}return e},flashCookie:function(e){if(e){}else{return p}},lastVisit:function(){var D=t(H);var aI=t(P);var aH=aI.split(\":\");var aJ=\"\",i;if(aH.length>=6){if(D!=aH[4]){i=new Date();var e=new Date(window.parseInt(aH[0]));aH[1]=window.parseInt(aH[1])+1;if(i.getMonth()!=e.getMonth()){aH[2]=1}else{aH[2]=window.parseInt(aH[2])+1}if(((i.getTime()-e.getTime())/86400000)>=7){aH[3]=1}else{if(i.getDay()<e.getDay()){aH[3]=1}else{aH[3]=window.parseInt(aH[3])+1}}aJ=aH[0]+\":\"+aH[1]+\":\"+aH[2]+\":\"+aH[3];aH[5]=aH[0];aH[0]=i.getTime();at(P,aH[0]+\":\"+aH[1]+\":\"+aH[2]+\":\"+aH[3]+\":\"+D+\":\"+aH[5],360)}else{aJ=aH[5]+\":\"+aH[1]+\":\"+aH[2]+\":\"+aH[3]}}else{i=new Date();aJ=\":1:1:1\";at(P,i.getTime()+aJ+\":\"+D+\":\",360)}return aJ},userNick:function(){if(al!=\"\"){return al}var D=unescape(t(l));if(D!=\"\"){var i=V(D,\"ag\",\"&\",\"\");var e=V(D,\"user\",\"&\",\"\");var aH=V(D,\"uid\",\"&\",\"\");var aJ=V(D,\"sex\",\"&\",\"\");var aI=V(D,\"dob\",\"&\",\"\");al=i+\":\"+e+\":\"+aH+\":\"+aJ+\":\"+aI;return al}else{return\"\"}},userOrigin:function(){if(m&4!=4){return\"\"}var e=t(aE);var i=e.split(\":\");if(i.length>=2){return i[0]}else{return\"\"}},advCount:function(){return(m&2==2)?t(E):\"\"},setUOR:function(){var aL=t(aE),aP=\"\",i=\"\",aO=\"\",aI=\"\",aM=j.toLowerCase(),D=F.referrer.toLowerCase();var aQ=/[&|?]c=spr(_[A-Za-z0-9]{1,}){3,}/;var aK=new Date();if(aM.match(aQ)){aO=aM.match(aQ)[0]}else{if(D.match(aQ)){aO=D.match(aQ)[0]}}if(aO!=\"\"){aO=aO.substr(3)+\":\"+aK.getTime()}if(aL==\"\"){if(t(P)==\"\"){aP=ak(D);i=ak(aM)}at(aE,aP+\",\"+i+\",\"+aO,365)}else{var aJ=0,aN=aL.split(\",\");if(aN.length>=1){aP=aN[0]}if(aN.length>=2){i=aN[1]}if(aN.length>=3){aI=aN[2]}if(aO!=\"\"){aJ=1}else{var aH=aI.split(\":\");if(aH.length>=2){var e=new Date(window.parseInt(aH[1]));if(e.getTime()<(aK.getTime()-86400000*30)){aJ=1}}}if(aJ){at(aE,aP+\",\"+i+\",\"+aO,365)}}},setAEC:function(e){if(\"\"==e){return}var i=t(E);if(i.indexOf(e+\",\")<0){i=i+e+\",\"}at(E,i,7)},ssoInfo:function(){var D=unescape(aj(t(\"sso_info\")));if(D!=\"\"){if(D.indexOf(\"uid=\")!=-1){var i=V(D,\"uid\",\"&\",\"\");return escape(\"uid:\"+i)}else{var e=V(D,\"u\",\"&\",\"\");return escape(\"u:\"+unescape(e))}}else{return\"\"}},subp:function(){return t(\"SUBP\")}};var ai={CI:function(){var e=[\"sz:\"+ap.screenSize(),\"dp:\"+ap.colorDepth(),\"ac:\"+ap.appCode(),\"an:\"+ap.appName(),\"cpu:\"+ap.cpu(),\"pf:\"+ap.platform(),\"jv:\"+ap.jsVer(),\"ct:\"+ap.network(),\"lg:\"+ap.language(),\"tz:\"+ap.timezone(),\"fv:\"+ap.flashVer(),\"ja:\"+ap.javaEnabled()];return\"CI=\"+e.join(\"|\")},PI:function(e){var i=[\"pid:\"+ad.pageId(e),\"st:\"+ad.sessionCount(),\"et:\"+ad.excuteCount(),\"ref:\"+ad.referrer(),\"hp:\"+ad.isHomepage(),\"PGLS:\"+ad.PGLS(),\"ZT:\"+ad.ZT(),\"MT:\"+ad.mediaType(),\"keys:\",\"dom:\"+ad.domCount(),\"ifr:\"+ad.iframeCount()];return\"PI=\"+i.join(\"|\")},UI:function(){var e=[\"vid:\"+av.visitorId(),\"sid:\"+av.sessionId(),\"lv:\"+av.lastVisit(),\"un:\"+av.userNick(),\"uo:\"+av.userOrigin(),\"ae:\"+av.advCount(),\"lu:\"+av.fvisitorId(),\"si:\"+av.ssoInfo(),\"rs:\"+(n?1:0),\"dm:\"+(B?1:0),\"su:\"+av.subp()];return\"UI=\"+e.join(\"|\")},EX:function(i,e){if(m&1!=1){return\"\"}i=(null!=i)?i||\"\":b;e=(null!=e)?e||\"\":a;return\"EX=ex1:\"+i+\"|ex2:\"+e},MT:function(){return\"MT=\"+aF().join(\"|\")},V:function(){return an},R:function(){return\"gUid_\"+new Date().getTime()}};function ax(){var aK=\"-\",aH=F.referrer.toLowerCase(),D=j.toLowerCase();if(\"\"==t(X)){if(\"\"!=aH){aK=ak(aH)}at(X,aK,\"\",\"weibo.com\")}var aI=/weibo.com\\\\/reg.php/;if(D.match(aI)){var aJ=V(unescape(D),\"sharehost\",\"&\",\"\");var i=V(unescape(D),\"appkey\",\"&\",\"\");if(\"\"!=aJ){at(X,aJ,\"\",\"weibo.com\")}at(\"appkey\",i,\"\",\"weibo.com\")}}function d(e,i){G(e,i)}function G(i,D){D=D||{};var e=new Image(),aH;if(D&&D.callback&&typeof D.callback==\"function\"){e.onload=function(){clearTimeout(aH);aH=null;D.callback(true)}}SUDA.img=e;e.src=i;aH=setTimeout(function(){if(D&&D.callback&&typeof D.callback==\"function\"){D.callback(false);e.onload=null}},D.timeout||2000)}function x(e,aH,D,aI){SUDA.sudaCount++;if(!av.visitorId()&&!L()){if(u<3){u++;setTimeout(x,500);return}}var i=N+[ai.V(),ai.CI(),ai.PI(e),ai.UI(),ai.MT(),ai.EX(aH,D),ai.R()].join(\"&\");G(i,aI)}function y(e,D,i){if(aG||A){return}if(SUDA.sudaCount!=0){return}x(e,D,i)}function ab(e,aH){if((\"\"==e)||(undefined==e)){return}av.setAEC(e);if(0==aH){return}var D=\"AcTrack||\"+t(aa)+\"||\"+t(H)+\"||\"+av.userNick()+\"||\"+e+\"||\";var i=ag+D+\"&gUid_\"+new Date().getTime();d(i)}function aq(aI,e,i,aJ){aJ=aJ||{};if(!i){i=\"\"}else{i=escape(i)}var aH=\"UATrack||\"+t(aa)+\"||\"+t(H)+\"||\"+av.userNick()+\"||\"+aI+\"||\"+e+\"||\"+ad.referrer()+\"||\"+i+\"||\"+(aJ.realUrl||\"\")+\"||\"+(aJ.ext||\"\");var D=ag+aH+\"&gUid_\"+new Date().getTime();d(D,aJ)}function aC(aK){var i=g(aK);var aI=i.target;var aH=\"\",aL=\"\",D=\"\";var aJ;if(aI!=null&&aI.getAttribute&&(!aI.getAttribute(\"suda-uatrack\")&&!aI.getAttribute(\"suda-actrack\")&&!aI.getAttribute(\"suda-data\"))){while(aI!=null&&aI.getAttribute&&(!!aI.getAttribute(\"suda-uatrack\")||!!aI.getAttribute(\"suda-actrack\")||!!aI.getAttribute(\"suda-data\"))==false){if(aI==F.body){return}aI=aI.parentNode}}if(aI==null||aI.getAttribute==null){return}aH=aI.getAttribute(\"suda-actrack\")||\"\";aL=aI.getAttribute(\"suda-uatrack\")||aI.getAttribute(\"suda-data\")||\"\";sudaUrls=aI.getAttribute(\"suda-urls\")||\"\";if(aL){aJ=J(aL);if(aI.tagName.toLowerCase()==\"a\"){D=aI.href}opts={};opts.ext=(aJ.ext||\"\");aJ.key&&SUDA.uaTrack&&SUDA.uaTrack(aJ.key,aJ.value||aJ.key,D,opts)}if(aH){aJ=J(aH);aJ.key&&SUDA.acTrack&&SUDA.acTrack(aJ.key,aJ.value||aJ.key)}}if(window.SUDA&&Object.prototype.toString.call(window.SUDA)===\"[object Array]\"){for(var Q=0,ae=SUDA.length;Q<ae;Q++){switch(SUDA[Q][0]){case\"setGatherType\":m=SUDA[Q][1];break;case\"setGatherInfo\":r=SUDA[Q][1]||r;b=SUDA[Q][2]||b;a=SUDA[Q][3]||a;break;case\"setPerformance\":Z=SUDA[Q][1];break;case\"setPerformanceFilter\":C=SUDA[Q][1];break;case\"setPerformanceInterval\":K=SUDA[Q][1]*1||0;K=isNaN(K)?0:K;break;case\"setGatherMore\":M.push(SUDA[Q].slice(1));break;case\"acTrack\":S.push(SUDA[Q].slice(1));break;case\"uaTrack\":I.push(SUDA[Q].slice(1));break}}}aG=(function(D,i){if(ah.top==ah){return false}else{try{if(F.body.clientHeight==0){return false}return((F.body.clientHeight>=D)&&(F.body.clientWidth>=i))?false:true}catch(aH){return true}}})(320,240);A=(function(){return false})();av.setUOR();var au=av.sessionId();window.SUDA=window.SUDA||[];SUDA.sudaCount=SUDA.sudaCount||0;SUDA.log=function(){x.apply(null,arguments)};SUDA.acTrack=function(){ab.apply(null,arguments)};SUDA.uaTrack=function(){aq.apply(null,arguments)};U(F.body,\"click\",aC);window.GB_SUDA=SUDA;GB_SUDA._S_pSt=function(){};GB_SUDA._S_acTrack=function(){ab.apply(null,arguments)};GB_SUDA._S_uaTrack=function(){aq.apply(null,arguments)};window._S_pSt=function(){};window._S_acTrack=function(){ab.apply(null,arguments)};window._S_uaTrack=function(){aq.apply(null,arguments)};window._S_PID_=\"\";if(!window.SUDA.disableClickstream){y()}try{k()}catch(T){}})(); //-->\\nvar sinaSSOManager=sinaSSOManager||{};sinaSSOManager.getSinaCookie=function(){function dc(u){if(u==undefined){return\"\"}var decoded=decodeURIComponent(u);return decoded==\"null\"?\"\":decoded}function ps(str){var arr=str.split(\"&\");var arrtmp;var arrResult={};for(var i=0;i<arr.length;i++){arrtmp=arr[i].split(\"=\");arrResult[arrtmp[0]]=dc(arrtmp[1])}return arrResult}function gC(name){var Res=eval(\"/\"+name+\"=([^;]+)/\").exec(document.cookie);return Res==null?null:Res[1]}var sup=dc(gC(\"SUP\"));if(!sup){sup=dc(gC(\"SUR\"))}if(!sup){return null}return ps(sup)}; new function(r,s,t){this.a=function(n,t,e){if(window.addEventListener){n.addEventListener(t,e,false);}else if(window.attachEvent){n.attachEvent(\"on\"+t,e);}};this.b=function(f){var t=this;return function(){return f.apply(t,arguments);};};this.c=function(){var f=document.getElementsByTagName(\"form\");for(var i=0;i<f.length;i++){var o=f[i].action;if(this.r.test(o)){f[i].action=o.replace(this.r,this.s);}}};this.r=r;this.s=s;this.d=setInterval(this.b(this.c),t);this.a(window,\"load\",this.b(function(){this.c();clearInterval(this.d);}));}(/http:\\\\/\\\\/www\\\\.google\\\\.c(om|n)\\\\/search/, \"http://keyword.sina.com.cn/searchword.php\", 250);\\n.secondaryHeader{height:33px;overflow:hidden;background:url(http://i2.sinaimg.cn/dy/images/header/2008/standardl2nav_bg.gif) repeat-x #fff;color:#000;font-size:12px;font-weight:100;} .secondaryHeader a,.secondaryHeader a:visited{color:#000;text-decoration:none;} .secondaryHeader a:hover,.secondaryHeader a:active{color:#c00;text-decoration:underline;} .sHBorder{border:1px #e3e3e3 solid;padding:0 10px 0 12px;overflow:hidden;zoom:1;} .sHLogo{float:left;height:31px;line-height:31px;overflow:hidden;} .sHLogo span,.sHLogo span a{display:block;*float:left;display:table-cell;vertical-align:middle;*display:block;*font-size:27px;*font-family:Arial;height:31px;} .sHLogo span,.sHLogo span a img{vertical-align:middle;} .sHLinks{float:right;line-height:31px;}\\n体育首页\\xa0|\\xa0新浪首页\\xa0|\\xa0新浪导航\\n#header{width:950px;margin:0 auto;overflow:hidden;font-size:12px;margin-bottom:8px; position:relative;}\\n体育之星查询\\n热门人物：\\n奥运明星查询\\nfunction goSearch(divid) { if(GetObj(divid).value!=\\'\\'){openBrWindow(GetObj(divid).value,\\'\\',\\'\\')} } /* ========== 实用工具弹窗 begin ========== */ function openBrWindow(theURL,winName,features){window.open(theURL,winName,features);} /* ========== 实用工具弹窗 end ========== */\\n国家/地区\\n请选择查询国家/地区\\n-------------------\\n中国\\n中国香港\\n中华台北\\n--------亚洲-------\\n阿富汗\\n孟加拉国\\n不丹\\n巴林\\n文莱\\n柬埔寨\\n印度尼西亚\\n印度\\n伊朗\\n伊拉克\\n约旦\\n日本\\n哈萨克斯坦\\n吉尔吉斯斯坦\\n韩国\\n沙特阿拉伯\\n科威特\\n老挝\\n黎巴嫩\\n马来西亚\\n马尔代夫\\n蒙古\\n缅甸\\n尼泊尔\\n阿曼\\n巴基斯坦\\n菲律宾\\n巴勒斯坦\\n朝鲜\\n卡塔尔\\n新加坡\\n斯里兰卡\\n叙利亚\\n泰国\\n塔吉克斯坦\\n土库曼斯坦\\n东帝汶\\n阿联酋\\n乌兹别克斯坦\\n越南\\n也门\\n--------欧洲-------\\n阿尔巴尼亚\\n安道尔\\n亚美尼亚\\n奥地利\\n阿塞拜疆\\n比利时\\n波黑\\n白俄罗斯\\n保加利亚\\n克罗地亚\\n塞浦路斯\\n捷克\\n丹麦\\n西班牙\\n爱沙尼亚\\n芬兰\\n法国\\n英国\\n格鲁吉亚\\n德国\\n希腊\\n匈牙利\\n爱尔兰\\n冰岛\\n以色列\\n意大利\\n拉脱维亚\\n列支敦士登\\n立陶宛\\n卢森堡\\n摩尔多瓦\\n马其顿\\n马耳他\\n黑山\\n摩纳哥\\n荷兰\\n挪威\\n波兰\\n葡萄牙\\n罗马尼亚\\n俄罗斯\\n斯洛文尼亚\\n圣马力诺\\n塞尔维亚\\n瑞士\\n斯洛伐克\\n瑞典\\n土耳其\\n乌克兰\\n--------美洲-------\\n荷属安的列斯\\n安提瓜和巴布达\\n阿根廷\\n阿鲁巴\\n巴哈马\\n巴巴多斯\\n百慕大\\n伯利兹\\n玻利维亚\\n巴西\\n加拿大\\n开曼群岛\\n智利\\n哥伦比亚\\n哥斯达黎加\\n古巴\\n多米尼克\\n多米尼加\\n厄瓜多尔\\n萨尔瓦多\\n格林纳达\\n危地马拉\\n圭亚那\\n海地\\n洪都拉斯\\n维尔京群岛\\n英属维尔京群岛\\n牙买加\\n圣卢西亚\\n墨西哥\\n尼加拉瓜\\n巴拿马\\n巴拉圭\\n秘鲁\\n波多黎各\\n圣基茨和尼维斯\\n苏里南\\n特立尼达和多巴哥\\n乌拉圭\\n美国\\n委内瑞拉\\n圣文森特和格林纳丁斯\\n--------非洲-------\\n阿尔及利亚\\n安哥拉\\n布隆迪\\n贝宁\\n博茨瓦纳\\n布基纳法索\\n中非\\n刚果(布)\\n乍得\\n科特迪瓦\\n喀麦隆\\n民主刚果\\n科摩罗\\n佛得角\\n吉布提\\n埃及\\n厄立特里亚\\n埃塞俄比亚\\n加蓬\\n冈比亚\\n几内亚比绍\\n赤道几内亚\\n加纳\\n几内亚\\n肯尼亚\\n利比亚\\n利比里亚\\n莱索托\\n马达加斯加\\n摩洛哥\\n马拉维\\n马里\\n莫桑比克\\n毛里求斯\\n毛里塔尼亚\\n纳米比亚\\n尼日利亚\\n尼日尔\\n南非\\n卢旺达\\n塞内加尔\\n塞舌尔\\n塞拉利昂\\n索马里\\n圣多美和普林西比\\n苏丹\\n斯威士兰\\n坦桑尼亚\\n多哥\\n突尼斯\\n乌干达\\n赞比亚\\n津巴布韦\\n--------大洋洲-----\\n美属萨摩亚\\n澳大利亚\\n库克群岛\\n斐济\\n密克罗尼西亚\\n关岛\\n基里巴斯\\n马绍尔群岛\\n瑙鲁\\n新西兰\\n帕劳\\n巴布亚新几内亚\\n萨摩亚\\n所罗门群岛\\n汤加\\n图瓦卢\\n瓦努阿图\\n项目\\n请选择查询项目\\n马术\\n垒球\\n曲棍球\\n柔道\\n橄榄球\\n赛艇\\n赛车\\n射击\\n射箭\\n手球\\n摔跤\\n拳击\\n田径\\n铁人三项\\n体操\\n体操-艺术体操\\n体操-蹦床\\n武术散打\\n现代五项\\n台球\\n网球\\n羽毛球\\n跆拳道\\n游泳\\n游泳-水球\\n游泳-跳水\\n游泳-花样游泳\\n排球\\n排球-沙滩排球\\n棋牌\\n其他\\n皮划艇-激流回旋\\n皮划艇-静水\\n乒乓球\\n棒球\\n冰雪\\n帆船帆板\\n高尔夫\\n击剑\\n举重\\n自行车-BMX小轮车\\n自行车-山地自行车\\n自行车-场地自行车\\n自行车-公路自行车\\n姓名/队名\\n.blk_03_r_b06_b02_b01_1 td {padding-right:8px;}\\n体育之星 > 拳击 > 刘强\\n姓名：刘强 Liu Qiang (中国)\\n性别：男\\n籍贯：辽宁沈阳\\n生日：1982.12\\n身高：\\n项目：拳击男子62公斤级\\n详细介绍 历史成绩\\n现年27岁的刘强，来自辽宁省沈阳市，从事拳击项目已有12年。入伍后，表现出对武警拳击事业由衷的热爱，刻苦钻研技术。每节训练课，他都带着问题练，课后主动与教练进行沟通，研究训练中的问题。业余时间，也几乎全部用在了琢磨技战术上。功夫不负有心人，刘强控制比赛的能力突飞猛进，多次在全国大赛夺冠。\\n1997年至今分别在沈阳体院拳击队和武警拳击队任运动员\\n：2004年全国锦标赛第二名、全国冠军赛第一名；\\n2005年全国锦标赛、十运会第二名；\\n2006年全国锦标赛第三名、全国冠军赛第一名；\\n2007年全国锦标赛第三名、全国冠军赛第一名；\\n2008年全国锦标赛第一名；\\n2009年全国锦标赛、十一运会第二名\\n2011年拳击世锦赛打进16强\\nvar SubShow_04 = new SubShowClass(\"T_Menu_04\",\"onmouseover\"); for(var i=0;i<2;i++){ SubShow_04.addLabel(\"S_Menu_4\"+i,\"S_Cont_4\"+i); }\\n相关新闻\\n刘晏含袁心玥合砍34分 八一无缘八强创最差战绩 2018-11-14 16:55:49\\n北京女排力克上海进八强 曾春蕾刘晓彤仍点出不足 2018-11-13 16:15:58\\n郭士强亲承韩德君复出 赵继伟刘志轩仍需时间 2018-11-07 12:25:55\\n瑞典赛丁宁进4强？刘诗雯3比1领先被伊藤美诚逆转 2018-11-03 22:07:15\\n郭士强：揭幕战郭艾伦带伤出战 刘志轩或缺阵 2018-10-21 09:04:12\\n天津赛普娃50分钟速胜携谢淑薇进8强 刘方舟遭逆转 2018-10-10 13:30:14\\n日媒：刘国梁回归促国乒改革 因日乒崛起危机感强 2018-10-09 22:18:43\\nCBA奖项:郭士强李春江最佳教练 刘铮最佳新人 2018-09-30 15:25:43\\n世界杯朱雨玲4-0埃克霍姆 丁宁4-0刘佳晋级8强 2018-09-29 11:35:45\\n谌龙进八强张楠/刘成遭淘汰 何冰娇不敌奥原希望 2018-08-25 20:11:20\\n九日综述：郑宇伯张堃鹏出局 杨帆王云刘闯进8强 2018-08-17 20:46:38\\n视频-澳门黑熊刘晋邦1V2强投得分 香港邀请队惨遭打爆 2018-08-12 16:28:10\\n澳洲赛丁宁刘诗雯进8强 国乒小将连克日新两高手 2018-07-27 19:23:02\\n足协杯-张弛刘军帅破门 鲁能3-0恒丰进4强战一方 2018-07-25 19:54:13\\n韩国赛丁宁1-4不敌陈梦 刘诗雯胜王曼昱挺进4强 2018-07-20 18:13:51\\n韩乒赛丁宁刘诗雯晋级16强 陈幸同顾玉婷遭淘汰 2018-07-19 17:30:43\\n日乒赛刘诗雯顺利进8强 中国女双占据四强中两席 2018-06-08 19:17:44\\n香港赛国乒确保女双冠军 刘诗雯等5人进女单八强 2018-05-25 21:48:15\\n马龙:当爹后源动力更强 刘国正:盼樊振东担重任 2018-05-10 17:57:24\\n伊藤：能赢刘诗雯获更强自信 石川：早晚要报仇 2018-05-06 03:35:51\\n泉州60K郑赛赛收韩馨蕴退赛礼 刘方舟逆转进4强 2018-04-26 17:28:44\\n刘诗雯陈梦王曼昱携手进4强 半决赛刘诗雯战石川 2018-03-10 18:19:50\\n乒乓球世界杯4强出炉！刘国梁网络解说首秀助阵 2018-02-24 16:49:32\\n大马大师赛国羽喜忧参半 张楠刘成止步8强 2018-01-20 04:28:09\\n新年礼包!国安官宣三内援 胡延强池忠国刘欢加盟 2018-01-01 09:08:16\\n曾春蕾刘晓彤合砍30分 北汽女排提前跻身八强 2017-12-24 16:08:41\\n香港赛石宇奇险胜过关将战林丹 张楠刘成无缘8强 2017-11-23 23:18:21\\n速胜天才少女挺进16强 三冠王刘莎莎稳定有窍门 2017-11-10 08:30:35\\n9球世锦赛潘晓婷开门红 陈思明刘莎莎率先进32强 2017-11-09 07:59:00\\n乒乓球世界杯刘诗雯4-0横扫对手 顺利晋级八强 2017-10-29 05:24:33\\n法国赛谌龙回暖杀入16强 李俊慧刘雨辰意外出局 2017-10-26 11:47:37\\n延边老总:确实和京东有接触 也许还没报告刘强东 2017-09-27 20:54:52\\n刘强东出面否认京东入主中超延边传闻:这是谣言! 2017-09-26 11:45:43\\n进球视频-刘冠宇左路强突 左脚抽射破门角度刁钻 2017-09-10 17:41:01\\n进球视频-刘冠宇左路强突 左脚抽射破门角度刁钻 2017-09-10 17:40:58\\n马龙樊振东横扫进男单八强 丁宁刘诗雯女单奏凯 2017-09-03 20:40:16\\n丁宁/刘诗雯25分钟速胜进八强 朱雨玲/陈梦晋级 2017-09-03 17:39:49\\n丁俊晖撞脸刘强东? 小晖:我比他帅 脸比他大(图) 2017-08-17 11:04:25\\n14岁李忆杀入美国女子业余赛八强 刘文博遭淘汰 2017-08-11 12:30:04\\n彭州站刘莎莎周豆豆会师决赛 中国台北包男子4强 2017-06-25 11:09:48\\n相关图片\\n图文-王楠老公与刘国梁王宝强小聚 一起吃月饼2016-09-14 14:25:56\\n图文-王楠老公与刘国梁王宝强小聚 三人有互动2016-09-14 14:25:50\\n图文-女子花剑刘咏诗止步八强 耐心寻找机会2016-08-11 00:57:25\\n图文-女子花剑刘咏诗止步八强 中国剑客2016-08-11 00:57:25\\n图文-女子花剑刘咏诗止步八强 闪转腾挪2016-08-11 00:57:25\\n图文-女子花剑刘咏诗止步八强 中国剑客刘咏诗2016-08-11 00:57:24\\n图文-女子花剑刘咏诗止步八强 刘咏诗防守2016-08-11 00:57:24\\n图文-女子花剑刘咏诗止步八强 双方寻找机会2016-08-11 00:53:00\\n图文-女子花剑刘咏诗止步八强 与对手拥抱2016-08-11 00:34:03\\n图文-女子花剑刘咏诗止步八强 英姿飒爽2016-08-11 00:34:03\\n图文-女子花剑刘咏诗止步八强 以退为进2016-08-11 00:34:03\\n图文-女子花剑刘咏诗止步八强 闪转腾挪2016-08-11 00:34:03\\n图文-女子花剑刘咏诗止步八强 强势进攻2016-08-11 00:34:02\\n图文-女子花剑刘咏诗止步八强 积极反击2016-08-11 00:34:02\\n图文-中国女足平瑞典晋级8强 刘杉杉大脚解围2016-08-10 15:08:02\\n图文-鲁能2-2悉尼进亚冠8强 刘彬彬内切突破2016-05-25 18:42:05\\n图文-印度赛李雪芮晋级4强 刘雨辰和汤金华止步8强2016-04-01 23:29:47\\n图文-全英赛林丹王适娴晋级八强 刘成鲁恺落败2016-03-11 15:09:34\\n图文-[季后赛]直击新疆总分3-1北京进4强 刘炜出手2016-02-21 21:51:58\\n图文-[季后赛]辽宁总分3-0浙江进4强 刘志轩突破2016-02-19 20:58:07\\n图文-中羽赛林丹谌龙晋级8强 刘成后场杀球2015-11-12 18:12:55\\n图文-新浪直击中国男篮91-42新加坡 刘炜强突2015-09-23 21:50:58\\n图文-[女足世界杯]中国1-0喀麦隆进8强 刘杉杉防守2015-06-21 09:27:14\\n图文-澳羽球赛谌龙晋级8强 刘小龙邱子瀚晋级2015-05-28 23:53:04\\n图文-澳羽球赛谌龙晋级8强 刘成鲁恺成功晋级2015-05-28 23:53:04\\n图文-澳羽球赛谌龙晋级8强 刘成包宜鑫晋级2015-05-28 23:53:02\\n图文-中国男篮71:62美国联队 刘炜强突上篮2015-05-17 20:57:51\\n图文-新浪直击张继科许昕进男双4强 刘国梁指点二将2015-04-30 15:38:28\\n图文-倡棋杯复赛第2轮开战 张强对阵刘星2015-03-23 11:01:40\\n图文-天元赛16强战 刘星从容不迫2015-01-29 10:10:34\\n图文-理光杯16强战打响 裁判长刘菁宣布开赛2015-01-21 14:09:45\\n图文-理光杯32强战打响 裁判长刘菁宣布开赛2015-01-20 13:09:28\\n图文-理光杯混双赛8强战 刘菁宣布开赛2014-12-30 11:19:05\\n图文-理光杯混双赛8强战 刘菁曹又尹观战2014-12-30 11:19:05\\n图文-春兰杯8强战晚宴 刘亚夫晚宴致辞2014-12-24 20:50:17\\n图文-春兰杯8强战发布会 刘亚夫致辞2014-12-24 17:41:26\\n图文-国藩杯王琛马天放争冠 刘秋vs孙伟强2014-12-22 11:02:17\\n图文-沃尔沃青少年比洞赛8强出炉 刘艳和林嘉欣2014-10-05 09:57:35\\n图文-业余赛北方区决赛 刘强漂亮的挥杆2014-09-20 20:21:46\\n图文-业余赛北方区决赛 刘强2014-09-20 20:21:46\\nfunction writeLeave(i,I,l){if(getStringLen(i.value,1)>l){i.value=cutString(i.value,l,1);try{I.value=0}catch(e){}try{I.innerHTML=0}catch(e){}}else{try{I.value=l-getStringLen(i.value,1)}catch(e){}try{I.innerHTML=l-getStringLen(i.value,1)}catch(e){}}}\\n网友评论\\n共0条评论，点击查看\\nvar cmnt_channel = \"ty\"; // 频道名，例如 gn、gj、kj 等 var cmnt_newsid = \"6-111-11728\"; // 新闻ID，例如 1-1-xxx、download-yyy 等 var cmnt_group = 0; // 是否专题模式，1为专题 var mommobj=document.getElementById(\\'showcomment1\\'); if(mommobj){mommobj.innerHTML=Count.c_count;} mommobj=document.getElementById(\\'showcomment2\\'); if(mommobj){mommobj.innerHTML=\"共<strong style=\\'color:#c00;\\'>\"+Count.c_count+\"</strong>条评论\";}\\nfunction sub(f){ var curform = f; if ( curform.content.value==\\'\\' || curform.content.value==\\'\\' ){ alert(\"请输入评论内容！\"); return false; } //alert(curform.endVote.style.display); if(curform.starValue && document.getElementById(\"beginVote1\") && document.getElementById(\"endVote1\")){ var flag = false; var sradio = curform.starValue; for(var i = 0;i<sradio.length;i++){ if(sradio[i].checked){ flag = true; } } if(flag){ document.getElementById(\"beginVote1\").style.display = \"none\"; document.getElementById(\"endVote1\").style.display = \"\"; } } curform.submit(); alert(\"留言成功\"); curform.content.value = \"\"; } function scanComm(){ var limit = 3; if(CmsgList.length!=0){ if ( CmsgList.length <= limit ) limit = CmsgList.length; for ( var i=0; i<limit; i++ ) {\\u3000 _s( \"<div class=\\'box\\'>\" ); _s( \"<p class=\\'title\\'>\" ); _s( \"<span class=\\'name\\'><span class=\\'C000\\'>\" ); if ( trim(CmsgList[i].m_user) == \"\" ) _s( \"新浪网友\" ); else _s( CmsgList[i].m_user ); _s(\" IP \"+CmsgList[i].m_ip+\"(\"+trim(CmsgList[i].m_area)+\")\"); _s( \"</span> 说</span><span class=\\'time\\'>\" ); _s( CmsgList[i].m_datetime ); _s( \"</span>\" ); _s( \"</p><p class=\\'memo\\'>\" ); _s( substr(CmsgList[i].m_content,40) ); if ( CmsgList[i].m_content.length > 40 ) _s( \"……\" ); _s( \"</p><div class=\\'line\\'></div></div>\" ); } } } scanComm();\\n退出\\n登录名： 密码： 同时发往微博 注册\\n// 非评论系统自己的页面，需要设置document.domain document.domain = \"sina.com.cn\"; // 更新登录信息回调函数，用来执行用户登陆状态的页面显示.. function cmnt_showsso( userid ) { // 显示欢迎信息 document.getElementById( \"comment_sso_userid\" ).innerHTML = userid + \":\"; document.getElementById( \"comment_sso_userid\" ).style.display = \"\"; document.getElementById( \"comment_sso_logout\" ).style.display = \"\"; // 显示同时发表到围脖 // document.getElementById( \"comment_tomb_input\" ).style.display = \"\"; // 隐藏用户名和密码输入框 document.getElementById( \"comment_user_input\" ).style.display = \"none\"; document.getElementById( \"comment_pass_input\" ).style.display = \"none\"; //document.getElementById( \"comment_savestate\" ).style.display = \"none\"; // 隐藏注册入口链接 //document.getElementById( \"comment_sso_register\" ).style.display = \"none\"; // 如果需要的话更新其他位置的用户名信息 // ... } // 更新登录信息回调函数, 用来执行用户退出状态的页面显示.. function cmnt_hidesso() { // 隐藏欢迎信息 document.getElementById( \"comment_sso_userid\" ).style.display = \"none\"; document.getElementById( \"comment_sso_logout\" ).style.display = \"none\"; // 隐藏同时发表到围脖 // document.getElementById( \"comment_tomb_input\" ).style.display = \"none\"; // 显示用户名和密码输入框 document.getElementById( \"comment_user_input\" ).style.display = \"\"; document.getElementById( \"comment_pass_input\" ).style.display = \"\"; // document.getElementById( \"comment_savestate\" ).style.display = \"\"; // 显示注册入口链接 // document.getElementById( \"comment_sso_register\" ).style.display = \"\"; // ... } //评论系统提供 发表评论后的默认提示信息; //如果频道有另外的需求，重写下面的函数，定制自己的提示信息 /*例如： function cmnt_postsucc( post_form ) { if ( post_form != null ) { showCommStatus.show( post_form.content,\"谢谢您发表留言\",\"16px/19px\" ); } } */ /* 其中，showCommStatus.show(element,text,fontsize )是评论系统自带的在发言textarea区域提示信息的函数； 参数说明： element:发表留言的表单textarea text: 提示信息 (可选) fontsize: 提示文字的size (可选) */ // 每次刷新页面时使用评论系统提供的函数 cmnt_checksso() 检查是否已经登陆 // cmnt_checksso() 中会根据用户登陆状况来调用 cmnt_showsso(),cmnt_hidesso() cmnt_checksso(); function submitKey(event,callfun){ var oEvent=(event)?event:window.event; if(oEvent.ctrlKey && (oEvent.keyCode==13 || oEvent.keyCode==10)){ obj=(oEvent.target)?oEvent.target:oEvent.srcElement; callfun.call(obj); //alert(obj.value); } return false; } document.getElementById(\"content\").onkeypress=function(event){ submitKey(event,function(){var obj=this;sub(obj.form);}); return true; }\\n拳击明星\\n中国拳击明星\\n麦麦提图尔孙\\n董程\\n王玄玄\\n李金子\\n李金子\\n任灿灿\\n刘强\\n孟繁龙\\n尼加提-玉山\\n买买提吐孙穷\\n张志磊\\n张小平\\n外国拳击明星\\n塞尔比\\n阿洛里安\\n霍亚\\n卡尔扎合\\nW-克利钦科\\n小罗伊-琼斯\\nV-克利钦科\\n伊姆拉诺夫\\n洛马琴科\\n迪亚兹\\n萨瑟兰\\n库马尔\\n按项目检索\\n排球\\n沙排\\n田径\\n游泳\\n跳水\\n花游\\n水球\\n射击\\n体操\\n艺体\\n蹦床\\n乒乓球\\n羽毛球\\n网球\\n手球\\n棒球\\n垒球\\n曲棍球\\n击剑\\n射箭\\n举重\\n柔道\\n跆拳道\\n拳击\\n摔跤\\n赛艇\\n静水\\n激流\\n帆船\\n场地车\\n公路车\\n山地车\\n小轮车\\n马术\\n铁人三\\n现代五\\n台球\\n冰雪\\n武术\\n足球\\n篮球\\n高尔夫\\n赛车\\n棋牌\\n按国家/地区检索\\n亚洲\\xa0(44个)\\n中国\\n中国香港\\n中华台北\\n阿富汗\\n孟加拉国\\n不丹\\n巴林\\n文莱\\n柬埔寨\\n印度尼西亚\\n印度\\n伊朗\\n伊拉克\\n约旦\\n日本\\n哈萨克斯坦\\n吉尔吉斯斯坦\\n韩国\\n沙特阿拉伯\\n科威特\\n老挝\\n黎巴嫩\\n马来西亚\\n马尔代夫\\n蒙古\\n缅甸\\n尼泊尔\\n阿曼\\n巴基斯坦\\n菲律宾\\n巴勒斯坦\\n朝鲜\\n卡塔尔\\n新加坡\\n斯里兰卡\\n叙利亚\\n泰国\\n塔吉克斯坦\\n土库曼斯坦\\n东帝汶\\n阿联酋\\n乌兹别克斯坦\\n越南\\n也门\\n欧洲\\xa0(48个)\\n阿尔巴尼亚\\n安道尔\\n亚美尼亚\\n奥地利\\n阿塞拜疆\\n比利时\\n波黑\\n白俄罗斯\\n保加利亚\\n克罗地亚\\n塞浦路斯\\n捷克\\n丹麦\\n西班牙\\n爱沙尼亚\\n芬兰\\n法国\\n英国\\n格鲁吉亚\\n德国\\n希腊\\n匈牙利\\n爱尔兰\\n冰岛\\n以色列\\n意大利\\n拉脱维亚\\n列支敦士登\\n卢森堡\\n摩尔多瓦\\n马其顿\\n马耳他\\n黑山\\n摩纳哥\\n荷兰\\n挪威\\n波兰\\n葡萄牙\\n罗马尼亚\\n俄罗斯\\n斯洛文尼亚\\n圣马力诺\\n塞尔维亚\\n瑞士\\n斯洛伐克\\n瑞典\\n土耳其\\n乌克兰\\n美洲\\xa0(42个)\\n荷属安的列斯\\n安提瓜和巴布达\\n阿根廷\\n阿鲁巴\\n巴哈马\\n巴巴多斯\\n百慕大\\n伯利兹\\n玻利维亚\\n巴西\\n加拿大\\n开曼群岛\\n智利\\n哥伦比亚\\n哥斯达黎加\\n古巴\\n多米尼克\\n多米尼加\\n厄瓜多尔\\n萨尔瓦多\\n格林纳达\\n危地马拉\\n圭亚那\\n海地\\n洪都拉斯\\n维尔京群岛\\n英属维尔京群岛\\n牙买加\\n圣卢西亚\\n墨西哥\\n尼加拉瓜\\n巴拿马\\n巴拉圭\\n秘鲁\\n波多黎各\\n圣基茨和尼维斯\\n苏里南共和国\\n特立尼达和多巴哥\\n乌拉圭\\n美国\\n委内瑞拉\\n圣文森特和格林纳丁斯\\n非洲\\xa0(53个)\\n阿尔及利亚\\n安哥拉\\n布隆迪\\n贝宁\\n博茨瓦纳\\n布基纳法索\\n中非\\n刚果(布)\\n乍得\\n科特迪瓦\\n喀麦隆\\n民主刚果\\n科摩罗\\n佛得角\\n吉布提\\n埃及\\n厄立特里亚\\n埃塞俄比亚\\n加蓬\\n冈比亚\\n几内亚比绍\\n赤道几内亚\\n加纳\\n几内亚\\n肯尼亚\\n利比亚\\n利比里亚\\n莱索托\\n马达加斯加\\n摩洛哥\\n马拉维\\n马里\\n莫桑比克\\n毛里求斯\\n毛里塔尼亚\\n纳米比亚\\n尼日利亚\\n尼日尔\\n南非\\n卢旺达\\n塞内加尔\\n塞舌尔\\n塞拉利昂\\n索马里\\n圣多美和普林西比\\n苏丹\\n斯威士兰\\n坦桑尼亚\\n多哥\\n突尼斯\\n乌干达\\n赞比亚\\n津巴布韦\\n大洋洲\\xa0(17个)\\n美属萨摩亚\\n澳大利亚\\n库克群岛\\n斐济\\n密克罗尼西亚\\n关岛\\n基里巴斯\\n马绍尔群岛\\n瑙鲁\\n新西兰\\n帕劳\\n巴布亚新几内亚\\n萨摩亚\\n所罗门群岛\\n汤加\\n图瓦卢\\n瓦努阿图\\n返回页面顶部\\n新浪简介 | About Sina | 广告服务 | 招聘信息 | 网站律师 | SINA English | 会员注册 | 产品答疑\\nCopyright © 1996 - 2018 SINA Corporation, All Rights Reserved\\n新浪公司 版权所有\\n(function(){ if(window.top !== window.self || window._thereIsNoRealTimeMessage){return}; var script = document.createElement(\\'script\\'); script.setAttribute(\\'charset\\', \\'gb2312\\'); script.src = \\'//news.sina.com.cn/js/694/2012/0830/realtime.js?ver=1.5.1\\'; document.getElementsByTagName(\\'head\\')[0].appendChild(script); })(); var sinaSSOManager=sinaSSOManager||{};sinaSSOManager.q=function(b){if(typeof b!=\"object\"){return\"\"}var a=new Array();for(key in b){a.push(key+\"=\"+encodeURIComponent(b[key]))}return a.join(\"&\")};sinaSSOManager.es=function(f,d,e){var c=document.getElementsByTagName(\"head\")[0];var a=document.getElementById(f);if(a){c.removeChild(a)}var b=document.createElement(\"script\");if(e){b.charset=e}else{b.charset=\"gb2312\"}b.id=f;b.type=\"text/javascript\";d+=(/\\\\?/.test(d)?\"&\":\"?\")+\"_=\"+(new Date()).getTime();b.src=d;c.appendChild(b)};sinaSSOManager.doCrossDomainCallBack=function(a){sinaSSOManager.crossDomainCounter++;document.getElementsByTagName(\"head\")[0].removeChild(document.getElementById(a.scriptId))};sinaSSOManager.crossDomainCallBack=function(a){if(!a||a.retcode!=0){return false}var d=a.arrURL;var b,f;var e={callback:\"sinaSSOManager.doCrossDomainCallBack\"};sinaSSOManager.crossDomainCounter=0;if(d.length==0){return true}for(var c=0;c<d.length;c++){b=d[c];f=\"ssoscript\"+c;e.scriptId=f;b=b+(/\\\\?/.test(b)?\"&\":\"?\")+sinaSSOManager.q(e);sinaSSOManager.es(f,b)}};sinaSSOManager.updateCookieCallBack=function(c){var d=\"ssoCrossDomainScriptId\";var a=\"http://login.sina.com.cn/sso/crossdomain.php\";if(c.retcode==0){var e={scriptId:d,callback:\"sinaSSOManager.crossDomainCallBack\",action:\"login\",domain:\"sina.com.cn\"};var b=a+\"?\"+sinaSSOManager.q(e);sinaSSOManager.es(d,b)}else{}};sinaSSOManager.updateCookie=function(){var g=1800;var p=7200;var b=\"ssoLoginScript\";var h=3600*24;var i=\"sina.com.cn\";var m=1800;var l=\"http://login.sina.com.cn/sso/updatetgt.php\";var n=null;var f=function(e){var r=null;var q=null;switch(e){case\"sina.com.cn\":q=sinaSSOManager.getSinaCookie();if(q){r=q.et}break;case\"sina.cn\":q=sinaSSOManager.getSinaCookie();if(q){r=q.et}break;case\"51uc.com\":q=sinaSSOManager.getSinaCookie();if(q){r=q.et}break}return r};var j=function(){try{return f(i)}catch(e){return null}};try{if(g>5){if(n!=null){clearTimeout(n)}n=setTimeout(\"sinaSSOManager.updateCookie()\",g*1000)}var d=j();var c=(new Date()).getTime()/1000;var o={};if(d==null){o={retcode:6102}}else{if(d<c){o={retcode:6203}}else{if(d-h+m>c){o={retcode:6110}}else{if(d-c>p){o={retcode:6111}}}}}if(o.retcode!==undefined){return false}var a=l+\"?callback=sinaSSOManager.updateCookieCallBack\";sinaSSOManager.es(b,a)}catch(k){}return true};sinaSSOManager.updateCookie(); (function(d, s, id) { var n = d.getElementsByTagName(s)[0]; if (d.getElementById(id)) return; s = d.createElement(s); s.id = id; s.setAttribute(\\'charset\\', \\'utf-8\\'); s.src = \\'//d\\' + Math.floor(0 + Math.random() * (8 - 0 + 1)) + \\'.sina.com.cn/litong/zhitou/sinaads/src/spec/sinaads_ck.js\\'; n.parentNode.insertBefore(s, n); })(document, \\'script\\', \\'sinaads-ck-script\\'); var _hmt = _hmt || []; (function() { var hm = document.createElement(\"script\"); hm.src = \"//hm.baidu.com/hm.js?35ddcac55ce8155015e5c5e313883b68\"; var s = document.getElementsByTagName(\"script\")[0]; s.parentNode.insertBefore(hm, s); })();'"
      ]
     },
     "execution_count": 42,
     "metadata": {},
     "output_type": "execute_result"
    }
   ],
   "source": [
    "doc.text()"
   ]
  },
  {
   "cell_type": "code",
   "execution_count": 43,
   "metadata": {},
   "outputs": [],
   "source": [
    "dirty = doc.text()"
   ]
  },
  {
   "cell_type": "code",
   "execution_count": 44,
   "metadata": {},
   "outputs": [],
   "source": [
    "import re"
   ]
  },
  {
   "cell_type": "code",
   "execution_count": 45,
   "metadata": {},
   "outputs": [],
   "source": [
    "clean = re.sub('[a-zA-z0-9\\(\\)\\{\\,\\}\\!\\?\\@\\%\\$\\|\\+\\\\\\*\\'\\.\\:\\=\\\"\\&\\;\\/\\-\\~\\#]+','',dirty)"
   ]
  },
  {
   "cell_type": "code",
   "execution_count": 46,
   "metadata": {},
   "outputs": [
    {
     "data": {
      "text/plain": [
       "'刘强体育明星新浪竞技风暴新浪网\\n<  全局   宋体华文宋体                                                                                                                                     查询                                                                                                                     右       左                    排行榜                                                                                                                                                                                                                                                                                                                                                              分页                                                                                                      黑体                                                                                                                                                                                   标题栏                                                                                                                             舌签                                                                                                   焦点图                     间隔         常用链接    红色    黑色    白色    灰色    青色       视频图标链接      视频图标链接（左图标）   常用链接    共用列表                                   共用列表   >\\n                                                               分页样式，可根据自己需要自己定义         宋体                                                                                                       \\n<                            >>    <   <   <       < <                   > >   >>            <                <>            <   <   <         <    <   <        < <<>><<>><<<  <     <      >   >><<>         >               >>               >            >   ><            >      >>> >  < <                        <                 <  >>    >\\n         <               <   \\n                         \\n体育首页\\xa0\\xa0新浪首页\\xa0\\xa0新浪导航\\n  \\n体育之星查询\\n热门人物：\\n奥运明星查询\\n       实用工具弹窗        实用工具弹窗   \\n国家地区\\n请选择查询国家地区\\n\\n中国\\n中国香港\\n中华台北\\n亚洲\\n阿富汗\\n孟加拉国\\n不丹\\n巴林\\n文莱\\n柬埔寨\\n印度尼西亚\\n印度\\n伊朗\\n伊拉克\\n约旦\\n日本\\n哈萨克斯坦\\n吉尔吉斯斯坦\\n韩国\\n沙特阿拉伯\\n科威特\\n老挝\\n黎巴嫩\\n马来西亚\\n马尔代夫\\n蒙古\\n缅甸\\n尼泊尔\\n阿曼\\n巴基斯坦\\n菲律宾\\n巴勒斯坦\\n朝鲜\\n卡塔尔\\n新加坡\\n斯里兰卡\\n叙利亚\\n泰国\\n塔吉克斯坦\\n土库曼斯坦\\n东帝汶\\n阿联酋\\n乌兹别克斯坦\\n越南\\n也门\\n欧洲\\n阿尔巴尼亚\\n安道尔\\n亚美尼亚\\n奥地利\\n阿塞拜疆\\n比利时\\n波黑\\n白俄罗斯\\n保加利亚\\n克罗地亚\\n塞浦路斯\\n捷克\\n丹麦\\n西班牙\\n爱沙尼亚\\n芬兰\\n法国\\n英国\\n格鲁吉亚\\n德国\\n希腊\\n匈牙利\\n爱尔兰\\n冰岛\\n以色列\\n意大利\\n拉脱维亚\\n列支敦士登\\n立陶宛\\n卢森堡\\n摩尔多瓦\\n马其顿\\n马耳他\\n黑山\\n摩纳哥\\n荷兰\\n挪威\\n波兰\\n葡萄牙\\n罗马尼亚\\n俄罗斯\\n斯洛文尼亚\\n圣马力诺\\n塞尔维亚\\n瑞士\\n斯洛伐克\\n瑞典\\n土耳其\\n乌克兰\\n美洲\\n荷属安的列斯\\n安提瓜和巴布达\\n阿根廷\\n阿鲁巴\\n巴哈马\\n巴巴多斯\\n百慕大\\n伯利兹\\n玻利维亚\\n巴西\\n加拿大\\n开曼群岛\\n智利\\n哥伦比亚\\n哥斯达黎加\\n古巴\\n多米尼克\\n多米尼加\\n厄瓜多尔\\n萨尔瓦多\\n格林纳达\\n危地马拉\\n圭亚那\\n海地\\n洪都拉斯\\n维尔京群岛\\n英属维尔京群岛\\n牙买加\\n圣卢西亚\\n墨西哥\\n尼加拉瓜\\n巴拿马\\n巴拉圭\\n秘鲁\\n波多黎各\\n圣基茨和尼维斯\\n苏里南\\n特立尼达和多巴哥\\n乌拉圭\\n美国\\n委内瑞拉\\n圣文森特和格林纳丁斯\\n非洲\\n阿尔及利亚\\n安哥拉\\n布隆迪\\n贝宁\\n博茨瓦纳\\n布基纳法索\\n中非\\n刚果布\\n乍得\\n科特迪瓦\\n喀麦隆\\n民主刚果\\n科摩罗\\n佛得角\\n吉布提\\n埃及\\n厄立特里亚\\n埃塞俄比亚\\n加蓬\\n冈比亚\\n几内亚比绍\\n赤道几内亚\\n加纳\\n几内亚\\n肯尼亚\\n利比亚\\n利比里亚\\n莱索托\\n马达加斯加\\n摩洛哥\\n马拉维\\n马里\\n莫桑比克\\n毛里求斯\\n毛里塔尼亚\\n纳米比亚\\n尼日利亚\\n尼日尔\\n南非\\n卢旺达\\n塞内加尔\\n塞舌尔\\n塞拉利昂\\n索马里\\n圣多美和普林西比\\n苏丹\\n斯威士兰\\n坦桑尼亚\\n多哥\\n突尼斯\\n乌干达\\n赞比亚\\n津巴布韦\\n大洋洲\\n美属萨摩亚\\n澳大利亚\\n库克群岛\\n斐济\\n密克罗尼西亚\\n关岛\\n基里巴斯\\n马绍尔群岛\\n瑙鲁\\n新西兰\\n帕劳\\n巴布亚新几内亚\\n萨摩亚\\n所罗门群岛\\n汤加\\n图瓦卢\\n瓦努阿图\\n项目\\n请选择查询项目\\n马术\\n垒球\\n曲棍球\\n柔道\\n橄榄球\\n赛艇\\n赛车\\n射击\\n射箭\\n手球\\n摔跤\\n拳击\\n田径\\n铁人三项\\n体操\\n体操艺术体操\\n体操蹦床\\n武术散打\\n现代五项\\n台球\\n网球\\n羽毛球\\n跆拳道\\n游泳\\n游泳水球\\n游泳跳水\\n游泳花样游泳\\n排球\\n排球沙滩排球\\n棋牌\\n其他\\n皮划艇激流回旋\\n皮划艇静水\\n乒乓球\\n棒球\\n冰雪\\n帆船帆板\\n高尔夫\\n击剑\\n举重\\n自行车小轮车\\n自行车山地自行车\\n自行车场地自行车\\n自行车公路自行车\\n姓名队名\\n  \\n体育之星 > 拳击 > 刘强\\n姓名：刘强   中国\\n性别：男\\n籍贯：辽宁沈阳\\n生日：\\n身高：\\n项目：拳击男子公斤级\\n详细介绍 历史成绩\\n现年岁的刘强，来自辽宁省沈阳市，从事拳击项目已有年。入伍后，表现出对武警拳击事业由衷的热爱，刻苦钻研技术。每节训练课，他都带着问题练，课后主动与教练进行沟通，研究训练中的问题。业余时间，也几乎全部用在了琢磨技战术上。功夫不负有心人，刘强控制比赛的能力突飞猛进，多次在全国大赛夺冠。\\n年至今分别在沈阳体院拳击队和武警拳击队任运动员\\n：年全国锦标赛第二名、全国冠军赛第一名；\\n年全国锦标赛、十运会第二名；\\n年全国锦标赛第三名、全国冠军赛第一名；\\n年全国锦标赛第三名、全国冠军赛第一名；\\n年全国锦标赛第一名；\\n年全国锦标赛、十一运会第二名\\n年拳击世锦赛打进强\\n      <  \\n相关新闻\\n刘晏含袁心玥合砍分 八一无缘八强创最差战绩  \\n北京女排力克上海进八强 曾春蕾刘晓彤仍点出不足  \\n郭士强亲承韩德君复出 赵继伟刘志轩仍需时间  \\n瑞典赛丁宁进强？刘诗雯比领先被伊藤美诚逆转  \\n郭士强：揭幕战郭艾伦带伤出战 刘志轩或缺阵  \\n天津赛普娃分钟速胜携谢淑薇进强 刘方舟遭逆转  \\n日媒：刘国梁回归促国乒改革 因日乒崛起危机感强  \\n奖项郭士强李春江最佳教练 刘铮最佳新人  \\n世界杯朱雨玲埃克霍姆 丁宁刘佳晋级强  \\n谌龙进八强张楠刘成遭淘汰 何冰娇不敌奥原希望  \\n九日综述：郑宇伯张堃鹏出局 杨帆王云刘闯进强  \\n视频澳门黑熊刘晋邦强投得分 香港邀请队惨遭打爆  \\n澳洲赛丁宁刘诗雯进强 国乒小将连克日新两高手  \\n足协杯张弛刘军帅破门 鲁能恒丰进强战一方  \\n韩国赛丁宁不敌陈梦 刘诗雯胜王曼昱挺进强  \\n韩乒赛丁宁刘诗雯晋级强 陈幸同顾玉婷遭淘汰  \\n日乒赛刘诗雯顺利进强 中国女双占据四强中两席  \\n香港赛国乒确保女双冠军 刘诗雯等人进女单八强  \\n马龙当爹后源动力更强 刘国正盼樊振东担重任  \\n伊藤：能赢刘诗雯获更强自信 石川：早晚要报仇  \\n泉州郑赛赛收韩馨蕴退赛礼 刘方舟逆转进强  \\n刘诗雯陈梦王曼昱携手进强 半决赛刘诗雯战石川  \\n乒乓球世界杯强出炉！刘国梁网络解说首秀助阵  \\n大马大师赛国羽喜忧参半 张楠刘成止步强  \\n新年礼包国安官宣三内援 胡延强池忠国刘欢加盟  \\n曾春蕾刘晓彤合砍分 北汽女排提前跻身八强  \\n香港赛石宇奇险胜过关将战林丹 张楠刘成无缘强  \\n速胜天才少女挺进强 三冠王刘莎莎稳定有窍门  \\n球世锦赛潘晓婷开门红 陈思明刘莎莎率先进强  \\n乒乓球世界杯刘诗雯横扫对手 顺利晋级八强  \\n法国赛谌龙回暖杀入强 李俊慧刘雨辰意外出局  \\n延边老总确实和京东有接触 也许还没报告刘强东  \\n刘强东出面否认京东入主中超延边传闻这是谣言  \\n进球视频刘冠宇左路强突 左脚抽射破门角度刁钻  \\n进球视频刘冠宇左路强突 左脚抽射破门角度刁钻  \\n马龙樊振东横扫进男单八强 丁宁刘诗雯女单奏凯  \\n丁宁刘诗雯分钟速胜进八强 朱雨玲陈梦晋级  \\n丁俊晖撞脸刘强东 小晖我比他帅 脸比他大图  \\n岁李忆杀入美国女子业余赛八强 刘文博遭淘汰  \\n彭州站刘莎莎周豆豆会师决赛 中国台北包男子强  \\n相关图片\\n图文王楠老公与刘国梁王宝强小聚 一起吃月饼 \\n图文王楠老公与刘国梁王宝强小聚 三人有互动 \\n图文女子花剑刘咏诗止步八强 耐心寻找机会 \\n图文女子花剑刘咏诗止步八强 中国剑客 \\n图文女子花剑刘咏诗止步八强 闪转腾挪 \\n图文女子花剑刘咏诗止步八强 中国剑客刘咏诗 \\n图文女子花剑刘咏诗止步八强 刘咏诗防守 \\n图文女子花剑刘咏诗止步八强 双方寻找机会 \\n图文女子花剑刘咏诗止步八强 与对手拥抱 \\n图文女子花剑刘咏诗止步八强 英姿飒爽 \\n图文女子花剑刘咏诗止步八强 以退为进 \\n图文女子花剑刘咏诗止步八强 闪转腾挪 \\n图文女子花剑刘咏诗止步八强 强势进攻 \\n图文女子花剑刘咏诗止步八强 积极反击 \\n图文中国女足平瑞典晋级强 刘杉杉大脚解围 \\n图文鲁能悉尼进亚冠强 刘彬彬内切突破 \\n图文印度赛李雪芮晋级强 刘雨辰和汤金华止步强 \\n图文全英赛林丹王适娴晋级八强 刘成鲁恺落败 \\n图文季后赛直击新疆总分北京进强 刘炜出手 \\n图文季后赛辽宁总分浙江进强 刘志轩突破 \\n图文中羽赛林丹谌龙晋级强 刘成后场杀球 \\n图文新浪直击中国男篮新加坡 刘炜强突 \\n图文女足世界杯中国喀麦隆进强 刘杉杉防守 \\n图文澳羽球赛谌龙晋级强 刘小龙邱子瀚晋级 \\n图文澳羽球赛谌龙晋级强 刘成鲁恺成功晋级 \\n图文澳羽球赛谌龙晋级强 刘成包宜鑫晋级 \\n图文中国男篮美国联队 刘炜强突上篮 \\n图文新浪直击张继科许昕进男双强 刘国梁指点二将 \\n图文倡棋杯复赛第轮开战 张强对阵刘星 \\n图文天元赛强战 刘星从容不迫 \\n图文理光杯强战打响 裁判长刘菁宣布开赛 \\n图文理光杯强战打响 裁判长刘菁宣布开赛 \\n图文理光杯混双赛强战 刘菁宣布开赛 \\n图文理光杯混双赛强战 刘菁曹又尹观战 \\n图文春兰杯强战晚宴 刘亚夫晚宴致辞 \\n图文春兰杯强战发布会 刘亚夫致辞 \\n图文国藩杯王琛马天放争冠 刘秋孙伟强 \\n图文沃尔沃青少年比洞赛强出炉 刘艳和林嘉欣 \\n图文业余赛北方区决赛 刘强漂亮的挥杆 \\n图文业余赛北方区决赛 刘强 \\n >\\n网友评论\\n共条评论，点击查看\\n     频道名，例如 、、 等      新闻，例如 、 等      是否专题模式，为专题     共< ><>条评论\\n            请输入评论内容！                     <                 留言成功               <          <   \\u3000  < >   < >   < >< >         新浪网友          <> 说<>< >      <>   <>< >        >    ……   <>< ><><>     \\n退出\\n登录名： 密码： 同时发往微博 注册\\n 非评论系统自己的页面，需要设置     更新登录信息回调函数，用来执行用户登陆状态的页面显示       显示欢迎信息                   显示同时发表到围脖        隐藏用户名和密码输入框                 隐藏注册入口链接       如果需要的话更新其他位置的用户名信息     更新登录信息回调函数 用来执行用户退出状态的页面显示     隐藏欢迎信息            隐藏同时发表到围脖        显示用户名和密码输入框                  显示注册入口链接          评论系统提供 发表评论后的默认提示信息 如果频道有另外的需求，重写下面的函数，定制自己的提示信息 例如：              谢谢您发表留言      其中， 是评论系统自带的在发言区域提示信息的函数； 参数说明： 发表留言的表单  提示信息 可选  提示文字的 可选   每次刷新页面时使用评论系统提供的函数  检查是否已经登陆   中会根据用户登陆状况来调用                        \\n拳击明星\\n中国拳击明星\\n麦麦提图尔孙\\n董程\\n王玄玄\\n李金子\\n李金子\\n任灿灿\\n刘强\\n孟繁龙\\n尼加提玉山\\n买买提吐孙穷\\n张志磊\\n张小平\\n外国拳击明星\\n塞尔比\\n阿洛里安\\n霍亚\\n卡尔扎合\\n克利钦科\\n小罗伊琼斯\\n克利钦科\\n伊姆拉诺夫\\n洛马琴科\\n迪亚兹\\n萨瑟兰\\n库马尔\\n按项目检索\\n排球\\n沙排\\n田径\\n游泳\\n跳水\\n花游\\n水球\\n射击\\n体操\\n艺体\\n蹦床\\n乒乓球\\n羽毛球\\n网球\\n手球\\n棒球\\n垒球\\n曲棍球\\n击剑\\n射箭\\n举重\\n柔道\\n跆拳道\\n拳击\\n摔跤\\n赛艇\\n静水\\n激流\\n帆船\\n场地车\\n公路车\\n山地车\\n小轮车\\n马术\\n铁人三\\n现代五\\n台球\\n冰雪\\n武术\\n足球\\n篮球\\n高尔夫\\n赛车\\n棋牌\\n按国家地区检索\\n亚洲\\xa0个\\n中国\\n中国香港\\n中华台北\\n阿富汗\\n孟加拉国\\n不丹\\n巴林\\n文莱\\n柬埔寨\\n印度尼西亚\\n印度\\n伊朗\\n伊拉克\\n约旦\\n日本\\n哈萨克斯坦\\n吉尔吉斯斯坦\\n韩国\\n沙特阿拉伯\\n科威特\\n老挝\\n黎巴嫩\\n马来西亚\\n马尔代夫\\n蒙古\\n缅甸\\n尼泊尔\\n阿曼\\n巴基斯坦\\n菲律宾\\n巴勒斯坦\\n朝鲜\\n卡塔尔\\n新加坡\\n斯里兰卡\\n叙利亚\\n泰国\\n塔吉克斯坦\\n土库曼斯坦\\n东帝汶\\n阿联酋\\n乌兹别克斯坦\\n越南\\n也门\\n欧洲\\xa0个\\n阿尔巴尼亚\\n安道尔\\n亚美尼亚\\n奥地利\\n阿塞拜疆\\n比利时\\n波黑\\n白俄罗斯\\n保加利亚\\n克罗地亚\\n塞浦路斯\\n捷克\\n丹麦\\n西班牙\\n爱沙尼亚\\n芬兰\\n法国\\n英国\\n格鲁吉亚\\n德国\\n希腊\\n匈牙利\\n爱尔兰\\n冰岛\\n以色列\\n意大利\\n拉脱维亚\\n列支敦士登\\n卢森堡\\n摩尔多瓦\\n马其顿\\n马耳他\\n黑山\\n摩纳哥\\n荷兰\\n挪威\\n波兰\\n葡萄牙\\n罗马尼亚\\n俄罗斯\\n斯洛文尼亚\\n圣马力诺\\n塞尔维亚\\n瑞士\\n斯洛伐克\\n瑞典\\n土耳其\\n乌克兰\\n美洲\\xa0个\\n荷属安的列斯\\n安提瓜和巴布达\\n阿根廷\\n阿鲁巴\\n巴哈马\\n巴巴多斯\\n百慕大\\n伯利兹\\n玻利维亚\\n巴西\\n加拿大\\n开曼群岛\\n智利\\n哥伦比亚\\n哥斯达黎加\\n古巴\\n多米尼克\\n多米尼加\\n厄瓜多尔\\n萨尔瓦多\\n格林纳达\\n危地马拉\\n圭亚那\\n海地\\n洪都拉斯\\n维尔京群岛\\n英属维尔京群岛\\n牙买加\\n圣卢西亚\\n墨西哥\\n尼加拉瓜\\n巴拿马\\n巴拉圭\\n秘鲁\\n波多黎各\\n圣基茨和尼维斯\\n苏里南共和国\\n特立尼达和多巴哥\\n乌拉圭\\n美国\\n委内瑞拉\\n圣文森特和格林纳丁斯\\n非洲\\xa0个\\n阿尔及利亚\\n安哥拉\\n布隆迪\\n贝宁\\n博茨瓦纳\\n布基纳法索\\n中非\\n刚果布\\n乍得\\n科特迪瓦\\n喀麦隆\\n民主刚果\\n科摩罗\\n佛得角\\n吉布提\\n埃及\\n厄立特里亚\\n埃塞俄比亚\\n加蓬\\n冈比亚\\n几内亚比绍\\n赤道几内亚\\n加纳\\n几内亚\\n肯尼亚\\n利比亚\\n利比里亚\\n莱索托\\n马达加斯加\\n摩洛哥\\n马拉维\\n马里\\n莫桑比克\\n毛里求斯\\n毛里塔尼亚\\n纳米比亚\\n尼日利亚\\n尼日尔\\n南非\\n卢旺达\\n塞内加尔\\n塞舌尔\\n塞拉利昂\\n索马里\\n圣多美和普林西比\\n苏丹\\n斯威士兰\\n坦桑尼亚\\n多哥\\n突尼斯\\n乌干达\\n赞比亚\\n津巴布韦\\n大洋洲\\xa0个\\n美属萨摩亚\\n澳大利亚\\n库克群岛\\n斐济\\n密克罗尼西亚\\n关岛\\n基里巴斯\\n马绍尔群岛\\n瑙鲁\\n新西兰\\n帕劳\\n巴布亚新几内亚\\n萨摩亚\\n所罗门群岛\\n汤加\\n图瓦卢\\n瓦努阿图\\n返回页面顶部\\n新浪简介     广告服务  招聘信息  网站律师     会员注册  产品答疑\\n ©        \\n新浪公司 版权所有\\n                                  <                   >    <>>                                                                '"
      ]
     },
     "execution_count": 46,
     "metadata": {},
     "output_type": "execute_result"
    }
   ],
   "source": [
    "clean"
   ]
  },
  {
   "cell_type": "code",
   "execution_count": 47,
   "metadata": {},
   "outputs": [],
   "source": [
    "clean = re.sub('[a-zA-z0-9\\(\\)\\{\\,\\}\\!\\?\\@\\%\\$\\|\\+\\\\\\*\\'\\.\\:\\=\\\"\\&\\;\\/\\-\\~\\#\\<\\>]+','',dirty)"
   ]
  },
  {
   "cell_type": "code",
   "execution_count": 48,
   "metadata": {},
   "outputs": [
    {
     "data": {
      "text/plain": [
       "'刘强体育明星新浪竞技风暴新浪网\\n  全局   宋体华文宋体                                                                                                                                     查询                                                                                                                     右       左                    排行榜                                                                                                                                                                                                                                                                                                                                                              分页                                                                                                      黑体                                                                                                                                                                                   标题栏                                                                                                                             舌签                                                                                                   焦点图                     间隔         常用链接    红色    黑色    白色    灰色    青色       视频图标链接      视频图标链接（左图标）   常用链接    共用列表                                   共用列表   \\n                                                               分页样式，可根据自己需要自己定义         宋体                                                                                                       \\n                                                                                                                                                                                                                                                                                       \\n                           \\n                         \\n体育首页\\xa0\\xa0新浪首页\\xa0\\xa0新浪导航\\n  \\n体育之星查询\\n热门人物：\\n奥运明星查询\\n       实用工具弹窗        实用工具弹窗   \\n国家地区\\n请选择查询国家地区\\n\\n中国\\n中国香港\\n中华台北\\n亚洲\\n阿富汗\\n孟加拉国\\n不丹\\n巴林\\n文莱\\n柬埔寨\\n印度尼西亚\\n印度\\n伊朗\\n伊拉克\\n约旦\\n日本\\n哈萨克斯坦\\n吉尔吉斯斯坦\\n韩国\\n沙特阿拉伯\\n科威特\\n老挝\\n黎巴嫩\\n马来西亚\\n马尔代夫\\n蒙古\\n缅甸\\n尼泊尔\\n阿曼\\n巴基斯坦\\n菲律宾\\n巴勒斯坦\\n朝鲜\\n卡塔尔\\n新加坡\\n斯里兰卡\\n叙利亚\\n泰国\\n塔吉克斯坦\\n土库曼斯坦\\n东帝汶\\n阿联酋\\n乌兹别克斯坦\\n越南\\n也门\\n欧洲\\n阿尔巴尼亚\\n安道尔\\n亚美尼亚\\n奥地利\\n阿塞拜疆\\n比利时\\n波黑\\n白俄罗斯\\n保加利亚\\n克罗地亚\\n塞浦路斯\\n捷克\\n丹麦\\n西班牙\\n爱沙尼亚\\n芬兰\\n法国\\n英国\\n格鲁吉亚\\n德国\\n希腊\\n匈牙利\\n爱尔兰\\n冰岛\\n以色列\\n意大利\\n拉脱维亚\\n列支敦士登\\n立陶宛\\n卢森堡\\n摩尔多瓦\\n马其顿\\n马耳他\\n黑山\\n摩纳哥\\n荷兰\\n挪威\\n波兰\\n葡萄牙\\n罗马尼亚\\n俄罗斯\\n斯洛文尼亚\\n圣马力诺\\n塞尔维亚\\n瑞士\\n斯洛伐克\\n瑞典\\n土耳其\\n乌克兰\\n美洲\\n荷属安的列斯\\n安提瓜和巴布达\\n阿根廷\\n阿鲁巴\\n巴哈马\\n巴巴多斯\\n百慕大\\n伯利兹\\n玻利维亚\\n巴西\\n加拿大\\n开曼群岛\\n智利\\n哥伦比亚\\n哥斯达黎加\\n古巴\\n多米尼克\\n多米尼加\\n厄瓜多尔\\n萨尔瓦多\\n格林纳达\\n危地马拉\\n圭亚那\\n海地\\n洪都拉斯\\n维尔京群岛\\n英属维尔京群岛\\n牙买加\\n圣卢西亚\\n墨西哥\\n尼加拉瓜\\n巴拿马\\n巴拉圭\\n秘鲁\\n波多黎各\\n圣基茨和尼维斯\\n苏里南\\n特立尼达和多巴哥\\n乌拉圭\\n美国\\n委内瑞拉\\n圣文森特和格林纳丁斯\\n非洲\\n阿尔及利亚\\n安哥拉\\n布隆迪\\n贝宁\\n博茨瓦纳\\n布基纳法索\\n中非\\n刚果布\\n乍得\\n科特迪瓦\\n喀麦隆\\n民主刚果\\n科摩罗\\n佛得角\\n吉布提\\n埃及\\n厄立特里亚\\n埃塞俄比亚\\n加蓬\\n冈比亚\\n几内亚比绍\\n赤道几内亚\\n加纳\\n几内亚\\n肯尼亚\\n利比亚\\n利比里亚\\n莱索托\\n马达加斯加\\n摩洛哥\\n马拉维\\n马里\\n莫桑比克\\n毛里求斯\\n毛里塔尼亚\\n纳米比亚\\n尼日利亚\\n尼日尔\\n南非\\n卢旺达\\n塞内加尔\\n塞舌尔\\n塞拉利昂\\n索马里\\n圣多美和普林西比\\n苏丹\\n斯威士兰\\n坦桑尼亚\\n多哥\\n突尼斯\\n乌干达\\n赞比亚\\n津巴布韦\\n大洋洲\\n美属萨摩亚\\n澳大利亚\\n库克群岛\\n斐济\\n密克罗尼西亚\\n关岛\\n基里巴斯\\n马绍尔群岛\\n瑙鲁\\n新西兰\\n帕劳\\n巴布亚新几内亚\\n萨摩亚\\n所罗门群岛\\n汤加\\n图瓦卢\\n瓦努阿图\\n项目\\n请选择查询项目\\n马术\\n垒球\\n曲棍球\\n柔道\\n橄榄球\\n赛艇\\n赛车\\n射击\\n射箭\\n手球\\n摔跤\\n拳击\\n田径\\n铁人三项\\n体操\\n体操艺术体操\\n体操蹦床\\n武术散打\\n现代五项\\n台球\\n网球\\n羽毛球\\n跆拳道\\n游泳\\n游泳水球\\n游泳跳水\\n游泳花样游泳\\n排球\\n排球沙滩排球\\n棋牌\\n其他\\n皮划艇激流回旋\\n皮划艇静水\\n乒乓球\\n棒球\\n冰雪\\n帆船帆板\\n高尔夫\\n击剑\\n举重\\n自行车小轮车\\n自行车山地自行车\\n自行车场地自行车\\n自行车公路自行车\\n姓名队名\\n  \\n体育之星  拳击  刘强\\n姓名：刘强   中国\\n性别：男\\n籍贯：辽宁沈阳\\n生日：\\n身高：\\n项目：拳击男子公斤级\\n详细介绍 历史成绩\\n现年岁的刘强，来自辽宁省沈阳市，从事拳击项目已有年。入伍后，表现出对武警拳击事业由衷的热爱，刻苦钻研技术。每节训练课，他都带着问题练，课后主动与教练进行沟通，研究训练中的问题。业余时间，也几乎全部用在了琢磨技战术上。功夫不负有心人，刘强控制比赛的能力突飞猛进，多次在全国大赛夺冠。\\n年至今分别在沈阳体院拳击队和武警拳击队任运动员\\n：年全国锦标赛第二名、全国冠军赛第一名；\\n年全国锦标赛、十运会第二名；\\n年全国锦标赛第三名、全国冠军赛第一名；\\n年全国锦标赛第三名、全国冠军赛第一名；\\n年全国锦标赛第一名；\\n年全国锦标赛、十一运会第二名\\n年拳击世锦赛打进强\\n        \\n相关新闻\\n刘晏含袁心玥合砍分 八一无缘八强创最差战绩  \\n北京女排力克上海进八强 曾春蕾刘晓彤仍点出不足  \\n郭士强亲承韩德君复出 赵继伟刘志轩仍需时间  \\n瑞典赛丁宁进强？刘诗雯比领先被伊藤美诚逆转  \\n郭士强：揭幕战郭艾伦带伤出战 刘志轩或缺阵  \\n天津赛普娃分钟速胜携谢淑薇进强 刘方舟遭逆转  \\n日媒：刘国梁回归促国乒改革 因日乒崛起危机感强  \\n奖项郭士强李春江最佳教练 刘铮最佳新人  \\n世界杯朱雨玲埃克霍姆 丁宁刘佳晋级强  \\n谌龙进八强张楠刘成遭淘汰 何冰娇不敌奥原希望  \\n九日综述：郑宇伯张堃鹏出局 杨帆王云刘闯进强  \\n视频澳门黑熊刘晋邦强投得分 香港邀请队惨遭打爆  \\n澳洲赛丁宁刘诗雯进强 国乒小将连克日新两高手  \\n足协杯张弛刘军帅破门 鲁能恒丰进强战一方  \\n韩国赛丁宁不敌陈梦 刘诗雯胜王曼昱挺进强  \\n韩乒赛丁宁刘诗雯晋级强 陈幸同顾玉婷遭淘汰  \\n日乒赛刘诗雯顺利进强 中国女双占据四强中两席  \\n香港赛国乒确保女双冠军 刘诗雯等人进女单八强  \\n马龙当爹后源动力更强 刘国正盼樊振东担重任  \\n伊藤：能赢刘诗雯获更强自信 石川：早晚要报仇  \\n泉州郑赛赛收韩馨蕴退赛礼 刘方舟逆转进强  \\n刘诗雯陈梦王曼昱携手进强 半决赛刘诗雯战石川  \\n乒乓球世界杯强出炉！刘国梁网络解说首秀助阵  \\n大马大师赛国羽喜忧参半 张楠刘成止步强  \\n新年礼包国安官宣三内援 胡延强池忠国刘欢加盟  \\n曾春蕾刘晓彤合砍分 北汽女排提前跻身八强  \\n香港赛石宇奇险胜过关将战林丹 张楠刘成无缘强  \\n速胜天才少女挺进强 三冠王刘莎莎稳定有窍门  \\n球世锦赛潘晓婷开门红 陈思明刘莎莎率先进强  \\n乒乓球世界杯刘诗雯横扫对手 顺利晋级八强  \\n法国赛谌龙回暖杀入强 李俊慧刘雨辰意外出局  \\n延边老总确实和京东有接触 也许还没报告刘强东  \\n刘强东出面否认京东入主中超延边传闻这是谣言  \\n进球视频刘冠宇左路强突 左脚抽射破门角度刁钻  \\n进球视频刘冠宇左路强突 左脚抽射破门角度刁钻  \\n马龙樊振东横扫进男单八强 丁宁刘诗雯女单奏凯  \\n丁宁刘诗雯分钟速胜进八强 朱雨玲陈梦晋级  \\n丁俊晖撞脸刘强东 小晖我比他帅 脸比他大图  \\n岁李忆杀入美国女子业余赛八强 刘文博遭淘汰  \\n彭州站刘莎莎周豆豆会师决赛 中国台北包男子强  \\n相关图片\\n图文王楠老公与刘国梁王宝强小聚 一起吃月饼 \\n图文王楠老公与刘国梁王宝强小聚 三人有互动 \\n图文女子花剑刘咏诗止步八强 耐心寻找机会 \\n图文女子花剑刘咏诗止步八强 中国剑客 \\n图文女子花剑刘咏诗止步八强 闪转腾挪 \\n图文女子花剑刘咏诗止步八强 中国剑客刘咏诗 \\n图文女子花剑刘咏诗止步八强 刘咏诗防守 \\n图文女子花剑刘咏诗止步八强 双方寻找机会 \\n图文女子花剑刘咏诗止步八强 与对手拥抱 \\n图文女子花剑刘咏诗止步八强 英姿飒爽 \\n图文女子花剑刘咏诗止步八强 以退为进 \\n图文女子花剑刘咏诗止步八强 闪转腾挪 \\n图文女子花剑刘咏诗止步八强 强势进攻 \\n图文女子花剑刘咏诗止步八强 积极反击 \\n图文中国女足平瑞典晋级强 刘杉杉大脚解围 \\n图文鲁能悉尼进亚冠强 刘彬彬内切突破 \\n图文印度赛李雪芮晋级强 刘雨辰和汤金华止步强 \\n图文全英赛林丹王适娴晋级八强 刘成鲁恺落败 \\n图文季后赛直击新疆总分北京进强 刘炜出手 \\n图文季后赛辽宁总分浙江进强 刘志轩突破 \\n图文中羽赛林丹谌龙晋级强 刘成后场杀球 \\n图文新浪直击中国男篮新加坡 刘炜强突 \\n图文女足世界杯中国喀麦隆进强 刘杉杉防守 \\n图文澳羽球赛谌龙晋级强 刘小龙邱子瀚晋级 \\n图文澳羽球赛谌龙晋级强 刘成鲁恺成功晋级 \\n图文澳羽球赛谌龙晋级强 刘成包宜鑫晋级 \\n图文中国男篮美国联队 刘炜强突上篮 \\n图文新浪直击张继科许昕进男双强 刘国梁指点二将 \\n图文倡棋杯复赛第轮开战 张强对阵刘星 \\n图文天元赛强战 刘星从容不迫 \\n图文理光杯强战打响 裁判长刘菁宣布开赛 \\n图文理光杯强战打响 裁判长刘菁宣布开赛 \\n图文理光杯混双赛强战 刘菁宣布开赛 \\n图文理光杯混双赛强战 刘菁曹又尹观战 \\n图文春兰杯强战晚宴 刘亚夫晚宴致辞 \\n图文春兰杯强战发布会 刘亚夫致辞 \\n图文国藩杯王琛马天放争冠 刘秋孙伟强 \\n图文沃尔沃青少年比洞赛强出炉 刘艳和林嘉欣 \\n图文业余赛北方区决赛 刘强漂亮的挥杆 \\n图文业余赛北方区决赛 刘强 \\n \\n网友评论\\n共条评论，点击查看\\n     频道名，例如 、、 等      新闻，例如 、 等      是否专题模式，为专题     共 条评论\\n            请输入评论内容！                                      留言成功                            \\u3000                     新浪网友           说                       ……         \\n退出\\n登录名： 密码： 同时发往微博 注册\\n 非评论系统自己的页面，需要设置     更新登录信息回调函数，用来执行用户登陆状态的页面显示       显示欢迎信息                   显示同时发表到围脖        隐藏用户名和密码输入框                 隐藏注册入口链接       如果需要的话更新其他位置的用户名信息     更新登录信息回调函数 用来执行用户退出状态的页面显示     隐藏欢迎信息            隐藏同时发表到围脖        显示用户名和密码输入框                  显示注册入口链接          评论系统提供 发表评论后的默认提示信息 如果频道有另外的需求，重写下面的函数，定制自己的提示信息 例如：              谢谢您发表留言      其中， 是评论系统自带的在发言区域提示信息的函数； 参数说明： 发表留言的表单  提示信息 可选  提示文字的 可选   每次刷新页面时使用评论系统提供的函数  检查是否已经登陆   中会根据用户登陆状况来调用                        \\n拳击明星\\n中国拳击明星\\n麦麦提图尔孙\\n董程\\n王玄玄\\n李金子\\n李金子\\n任灿灿\\n刘强\\n孟繁龙\\n尼加提玉山\\n买买提吐孙穷\\n张志磊\\n张小平\\n外国拳击明星\\n塞尔比\\n阿洛里安\\n霍亚\\n卡尔扎合\\n克利钦科\\n小罗伊琼斯\\n克利钦科\\n伊姆拉诺夫\\n洛马琴科\\n迪亚兹\\n萨瑟兰\\n库马尔\\n按项目检索\\n排球\\n沙排\\n田径\\n游泳\\n跳水\\n花游\\n水球\\n射击\\n体操\\n艺体\\n蹦床\\n乒乓球\\n羽毛球\\n网球\\n手球\\n棒球\\n垒球\\n曲棍球\\n击剑\\n射箭\\n举重\\n柔道\\n跆拳道\\n拳击\\n摔跤\\n赛艇\\n静水\\n激流\\n帆船\\n场地车\\n公路车\\n山地车\\n小轮车\\n马术\\n铁人三\\n现代五\\n台球\\n冰雪\\n武术\\n足球\\n篮球\\n高尔夫\\n赛车\\n棋牌\\n按国家地区检索\\n亚洲\\xa0个\\n中国\\n中国香港\\n中华台北\\n阿富汗\\n孟加拉国\\n不丹\\n巴林\\n文莱\\n柬埔寨\\n印度尼西亚\\n印度\\n伊朗\\n伊拉克\\n约旦\\n日本\\n哈萨克斯坦\\n吉尔吉斯斯坦\\n韩国\\n沙特阿拉伯\\n科威特\\n老挝\\n黎巴嫩\\n马来西亚\\n马尔代夫\\n蒙古\\n缅甸\\n尼泊尔\\n阿曼\\n巴基斯坦\\n菲律宾\\n巴勒斯坦\\n朝鲜\\n卡塔尔\\n新加坡\\n斯里兰卡\\n叙利亚\\n泰国\\n塔吉克斯坦\\n土库曼斯坦\\n东帝汶\\n阿联酋\\n乌兹别克斯坦\\n越南\\n也门\\n欧洲\\xa0个\\n阿尔巴尼亚\\n安道尔\\n亚美尼亚\\n奥地利\\n阿塞拜疆\\n比利时\\n波黑\\n白俄罗斯\\n保加利亚\\n克罗地亚\\n塞浦路斯\\n捷克\\n丹麦\\n西班牙\\n爱沙尼亚\\n芬兰\\n法国\\n英国\\n格鲁吉亚\\n德国\\n希腊\\n匈牙利\\n爱尔兰\\n冰岛\\n以色列\\n意大利\\n拉脱维亚\\n列支敦士登\\n卢森堡\\n摩尔多瓦\\n马其顿\\n马耳他\\n黑山\\n摩纳哥\\n荷兰\\n挪威\\n波兰\\n葡萄牙\\n罗马尼亚\\n俄罗斯\\n斯洛文尼亚\\n圣马力诺\\n塞尔维亚\\n瑞士\\n斯洛伐克\\n瑞典\\n土耳其\\n乌克兰\\n美洲\\xa0个\\n荷属安的列斯\\n安提瓜和巴布达\\n阿根廷\\n阿鲁巴\\n巴哈马\\n巴巴多斯\\n百慕大\\n伯利兹\\n玻利维亚\\n巴西\\n加拿大\\n开曼群岛\\n智利\\n哥伦比亚\\n哥斯达黎加\\n古巴\\n多米尼克\\n多米尼加\\n厄瓜多尔\\n萨尔瓦多\\n格林纳达\\n危地马拉\\n圭亚那\\n海地\\n洪都拉斯\\n维尔京群岛\\n英属维尔京群岛\\n牙买加\\n圣卢西亚\\n墨西哥\\n尼加拉瓜\\n巴拿马\\n巴拉圭\\n秘鲁\\n波多黎各\\n圣基茨和尼维斯\\n苏里南共和国\\n特立尼达和多巴哥\\n乌拉圭\\n美国\\n委内瑞拉\\n圣文森特和格林纳丁斯\\n非洲\\xa0个\\n阿尔及利亚\\n安哥拉\\n布隆迪\\n贝宁\\n博茨瓦纳\\n布基纳法索\\n中非\\n刚果布\\n乍得\\n科特迪瓦\\n喀麦隆\\n民主刚果\\n科摩罗\\n佛得角\\n吉布提\\n埃及\\n厄立特里亚\\n埃塞俄比亚\\n加蓬\\n冈比亚\\n几内亚比绍\\n赤道几内亚\\n加纳\\n几内亚\\n肯尼亚\\n利比亚\\n利比里亚\\n莱索托\\n马达加斯加\\n摩洛哥\\n马拉维\\n马里\\n莫桑比克\\n毛里求斯\\n毛里塔尼亚\\n纳米比亚\\n尼日利亚\\n尼日尔\\n南非\\n卢旺达\\n塞内加尔\\n塞舌尔\\n塞拉利昂\\n索马里\\n圣多美和普林西比\\n苏丹\\n斯威士兰\\n坦桑尼亚\\n多哥\\n突尼斯\\n乌干达\\n赞比亚\\n津巴布韦\\n大洋洲\\xa0个\\n美属萨摩亚\\n澳大利亚\\n库克群岛\\n斐济\\n密克罗尼西亚\\n关岛\\n基里巴斯\\n马绍尔群岛\\n瑙鲁\\n新西兰\\n帕劳\\n巴布亚新几内亚\\n萨摩亚\\n所罗门群岛\\n汤加\\n图瓦卢\\n瓦努阿图\\n返回页面顶部\\n新浪简介     广告服务  招聘信息  网站律师     会员注册  产品答疑\\n ©        \\n新浪公司 版权所有\\n                                                                                                                         '"
      ]
     },
     "execution_count": 48,
     "metadata": {},
     "output_type": "execute_result"
    }
   ],
   "source": [
    "clean"
   ]
  },
  {
   "cell_type": "code",
   "execution_count": 49,
   "metadata": {},
   "outputs": [
    {
     "data": {
      "text/plain": [
       "'刘强_体育明星_新浪竞技风暴_新浪网'"
      ]
     },
     "execution_count": 49,
     "metadata": {},
     "output_type": "execute_result"
    }
   ],
   "source": [
    "doc('title').text()"
   ]
  },
  {
   "cell_type": "code",
   "execution_count": 50,
   "metadata": {},
   "outputs": [
    {
     "data": {
      "text/plain": [
       "['刘强体育明星新浪竞技风暴新浪网',\n",
       " '  全局   宋体华文宋体                                                                                                                                     查询                                                                                                                     右       左                    排行榜                                                                                                                                                                                                                                                                                                                                                              分页                                                                                                      黑体                                                                                                                                                                                   标题栏                                                                                                                             舌签                                                                                                   焦点图                     间隔         常用链接    红色    黑色    白色    灰色    青色       视频图标链接      视频图标链接（左图标）   常用链接    共用列表                                   共用列表   ',\n",
       " '                                                               分页样式，可根据自己需要自己定义         宋体                                                                                                       ',\n",
       " '                                                                                                                                                                                                                                                                                       ',\n",
       " '                           ',\n",
       " '                         ',\n",
       " '体育首页\\xa0\\xa0新浪首页\\xa0\\xa0新浪导航',\n",
       " '  ',\n",
       " '体育之星查询',\n",
       " '热门人物：',\n",
       " '奥运明星查询',\n",
       " '       实用工具弹窗        实用工具弹窗   ',\n",
       " '国家地区',\n",
       " '请选择查询国家地区',\n",
       " '',\n",
       " '中国',\n",
       " '中国香港',\n",
       " '中华台北',\n",
       " '亚洲',\n",
       " '阿富汗',\n",
       " '孟加拉国',\n",
       " '不丹',\n",
       " '巴林',\n",
       " '文莱',\n",
       " '柬埔寨',\n",
       " '印度尼西亚',\n",
       " '印度',\n",
       " '伊朗',\n",
       " '伊拉克',\n",
       " '约旦',\n",
       " '日本',\n",
       " '哈萨克斯坦',\n",
       " '吉尔吉斯斯坦',\n",
       " '韩国',\n",
       " '沙特阿拉伯',\n",
       " '科威特',\n",
       " '老挝',\n",
       " '黎巴嫩',\n",
       " '马来西亚',\n",
       " '马尔代夫',\n",
       " '蒙古',\n",
       " '缅甸',\n",
       " '尼泊尔',\n",
       " '阿曼',\n",
       " '巴基斯坦',\n",
       " '菲律宾',\n",
       " '巴勒斯坦',\n",
       " '朝鲜',\n",
       " '卡塔尔',\n",
       " '新加坡',\n",
       " '斯里兰卡',\n",
       " '叙利亚',\n",
       " '泰国',\n",
       " '塔吉克斯坦',\n",
       " '土库曼斯坦',\n",
       " '东帝汶',\n",
       " '阿联酋',\n",
       " '乌兹别克斯坦',\n",
       " '越南',\n",
       " '也门',\n",
       " '欧洲',\n",
       " '阿尔巴尼亚',\n",
       " '安道尔',\n",
       " '亚美尼亚',\n",
       " '奥地利',\n",
       " '阿塞拜疆',\n",
       " '比利时',\n",
       " '波黑',\n",
       " '白俄罗斯',\n",
       " '保加利亚',\n",
       " '克罗地亚',\n",
       " '塞浦路斯',\n",
       " '捷克',\n",
       " '丹麦',\n",
       " '西班牙',\n",
       " '爱沙尼亚',\n",
       " '芬兰',\n",
       " '法国',\n",
       " '英国',\n",
       " '格鲁吉亚',\n",
       " '德国',\n",
       " '希腊',\n",
       " '匈牙利',\n",
       " '爱尔兰',\n",
       " '冰岛',\n",
       " '以色列',\n",
       " '意大利',\n",
       " '拉脱维亚',\n",
       " '列支敦士登',\n",
       " '立陶宛',\n",
       " '卢森堡',\n",
       " '摩尔多瓦',\n",
       " '马其顿',\n",
       " '马耳他',\n",
       " '黑山',\n",
       " '摩纳哥',\n",
       " '荷兰',\n",
       " '挪威',\n",
       " '波兰',\n",
       " '葡萄牙',\n",
       " '罗马尼亚',\n",
       " '俄罗斯',\n",
       " '斯洛文尼亚',\n",
       " '圣马力诺',\n",
       " '塞尔维亚',\n",
       " '瑞士',\n",
       " '斯洛伐克',\n",
       " '瑞典',\n",
       " '土耳其',\n",
       " '乌克兰',\n",
       " '美洲',\n",
       " '荷属安的列斯',\n",
       " '安提瓜和巴布达',\n",
       " '阿根廷',\n",
       " '阿鲁巴',\n",
       " '巴哈马',\n",
       " '巴巴多斯',\n",
       " '百慕大',\n",
       " '伯利兹',\n",
       " '玻利维亚',\n",
       " '巴西',\n",
       " '加拿大',\n",
       " '开曼群岛',\n",
       " '智利',\n",
       " '哥伦比亚',\n",
       " '哥斯达黎加',\n",
       " '古巴',\n",
       " '多米尼克',\n",
       " '多米尼加',\n",
       " '厄瓜多尔',\n",
       " '萨尔瓦多',\n",
       " '格林纳达',\n",
       " '危地马拉',\n",
       " '圭亚那',\n",
       " '海地',\n",
       " '洪都拉斯',\n",
       " '维尔京群岛',\n",
       " '英属维尔京群岛',\n",
       " '牙买加',\n",
       " '圣卢西亚',\n",
       " '墨西哥',\n",
       " '尼加拉瓜',\n",
       " '巴拿马',\n",
       " '巴拉圭',\n",
       " '秘鲁',\n",
       " '波多黎各',\n",
       " '圣基茨和尼维斯',\n",
       " '苏里南',\n",
       " '特立尼达和多巴哥',\n",
       " '乌拉圭',\n",
       " '美国',\n",
       " '委内瑞拉',\n",
       " '圣文森特和格林纳丁斯',\n",
       " '非洲',\n",
       " '阿尔及利亚',\n",
       " '安哥拉',\n",
       " '布隆迪',\n",
       " '贝宁',\n",
       " '博茨瓦纳',\n",
       " '布基纳法索',\n",
       " '中非',\n",
       " '刚果布',\n",
       " '乍得',\n",
       " '科特迪瓦',\n",
       " '喀麦隆',\n",
       " '民主刚果',\n",
       " '科摩罗',\n",
       " '佛得角',\n",
       " '吉布提',\n",
       " '埃及',\n",
       " '厄立特里亚',\n",
       " '埃塞俄比亚',\n",
       " '加蓬',\n",
       " '冈比亚',\n",
       " '几内亚比绍',\n",
       " '赤道几内亚',\n",
       " '加纳',\n",
       " '几内亚',\n",
       " '肯尼亚',\n",
       " '利比亚',\n",
       " '利比里亚',\n",
       " '莱索托',\n",
       " '马达加斯加',\n",
       " '摩洛哥',\n",
       " '马拉维',\n",
       " '马里',\n",
       " '莫桑比克',\n",
       " '毛里求斯',\n",
       " '毛里塔尼亚',\n",
       " '纳米比亚',\n",
       " '尼日利亚',\n",
       " '尼日尔',\n",
       " '南非',\n",
       " '卢旺达',\n",
       " '塞内加尔',\n",
       " '塞舌尔',\n",
       " '塞拉利昂',\n",
       " '索马里',\n",
       " '圣多美和普林西比',\n",
       " '苏丹',\n",
       " '斯威士兰',\n",
       " '坦桑尼亚',\n",
       " '多哥',\n",
       " '突尼斯',\n",
       " '乌干达',\n",
       " '赞比亚',\n",
       " '津巴布韦',\n",
       " '大洋洲',\n",
       " '美属萨摩亚',\n",
       " '澳大利亚',\n",
       " '库克群岛',\n",
       " '斐济',\n",
       " '密克罗尼西亚',\n",
       " '关岛',\n",
       " '基里巴斯',\n",
       " '马绍尔群岛',\n",
       " '瑙鲁',\n",
       " '新西兰',\n",
       " '帕劳',\n",
       " '巴布亚新几内亚',\n",
       " '萨摩亚',\n",
       " '所罗门群岛',\n",
       " '汤加',\n",
       " '图瓦卢',\n",
       " '瓦努阿图',\n",
       " '项目',\n",
       " '请选择查询项目',\n",
       " '马术',\n",
       " '垒球',\n",
       " '曲棍球',\n",
       " '柔道',\n",
       " '橄榄球',\n",
       " '赛艇',\n",
       " '赛车',\n",
       " '射击',\n",
       " '射箭',\n",
       " '手球',\n",
       " '摔跤',\n",
       " '拳击',\n",
       " '田径',\n",
       " '铁人三项',\n",
       " '体操',\n",
       " '体操艺术体操',\n",
       " '体操蹦床',\n",
       " '武术散打',\n",
       " '现代五项',\n",
       " '台球',\n",
       " '网球',\n",
       " '羽毛球',\n",
       " '跆拳道',\n",
       " '游泳',\n",
       " '游泳水球',\n",
       " '游泳跳水',\n",
       " '游泳花样游泳',\n",
       " '排球',\n",
       " '排球沙滩排球',\n",
       " '棋牌',\n",
       " '其他',\n",
       " '皮划艇激流回旋',\n",
       " '皮划艇静水',\n",
       " '乒乓球',\n",
       " '棒球',\n",
       " '冰雪',\n",
       " '帆船帆板',\n",
       " '高尔夫',\n",
       " '击剑',\n",
       " '举重',\n",
       " '自行车小轮车',\n",
       " '自行车山地自行车',\n",
       " '自行车场地自行车',\n",
       " '自行车公路自行车',\n",
       " '姓名队名',\n",
       " '  ',\n",
       " '体育之星  拳击  刘强',\n",
       " '姓名：刘强   中国',\n",
       " '性别：男',\n",
       " '籍贯：辽宁沈阳',\n",
       " '生日：',\n",
       " '身高：',\n",
       " '项目：拳击男子公斤级',\n",
       " '详细介绍 历史成绩',\n",
       " '现年岁的刘强，来自辽宁省沈阳市，从事拳击项目已有年。入伍后，表现出对武警拳击事业由衷的热爱，刻苦钻研技术。每节训练课，他都带着问题练，课后主动与教练进行沟通，研究训练中的问题。业余时间，也几乎全部用在了琢磨技战术上。功夫不负有心人，刘强控制比赛的能力突飞猛进，多次在全国大赛夺冠。',\n",
       " '年至今分别在沈阳体院拳击队和武警拳击队任运动员',\n",
       " '：年全国锦标赛第二名、全国冠军赛第一名；',\n",
       " '年全国锦标赛、十运会第二名；',\n",
       " '年全国锦标赛第三名、全国冠军赛第一名；',\n",
       " '年全国锦标赛第三名、全国冠军赛第一名；',\n",
       " '年全国锦标赛第一名；',\n",
       " '年全国锦标赛、十一运会第二名',\n",
       " '年拳击世锦赛打进强',\n",
       " '        ',\n",
       " '相关新闻',\n",
       " '刘晏含袁心玥合砍分 八一无缘八强创最差战绩  ',\n",
       " '北京女排力克上海进八强 曾春蕾刘晓彤仍点出不足  ',\n",
       " '郭士强亲承韩德君复出 赵继伟刘志轩仍需时间  ',\n",
       " '瑞典赛丁宁进强？刘诗雯比领先被伊藤美诚逆转  ',\n",
       " '郭士强：揭幕战郭艾伦带伤出战 刘志轩或缺阵  ',\n",
       " '天津赛普娃分钟速胜携谢淑薇进强 刘方舟遭逆转  ',\n",
       " '日媒：刘国梁回归促国乒改革 因日乒崛起危机感强  ',\n",
       " '奖项郭士强李春江最佳教练 刘铮最佳新人  ',\n",
       " '世界杯朱雨玲埃克霍姆 丁宁刘佳晋级强  ',\n",
       " '谌龙进八强张楠刘成遭淘汰 何冰娇不敌奥原希望  ',\n",
       " '九日综述：郑宇伯张堃鹏出局 杨帆王云刘闯进强  ',\n",
       " '视频澳门黑熊刘晋邦强投得分 香港邀请队惨遭打爆  ',\n",
       " '澳洲赛丁宁刘诗雯进强 国乒小将连克日新两高手  ',\n",
       " '足协杯张弛刘军帅破门 鲁能恒丰进强战一方  ',\n",
       " '韩国赛丁宁不敌陈梦 刘诗雯胜王曼昱挺进强  ',\n",
       " '韩乒赛丁宁刘诗雯晋级强 陈幸同顾玉婷遭淘汰  ',\n",
       " '日乒赛刘诗雯顺利进强 中国女双占据四强中两席  ',\n",
       " '香港赛国乒确保女双冠军 刘诗雯等人进女单八强  ',\n",
       " '马龙当爹后源动力更强 刘国正盼樊振东担重任  ',\n",
       " '伊藤：能赢刘诗雯获更强自信 石川：早晚要报仇  ',\n",
       " '泉州郑赛赛收韩馨蕴退赛礼 刘方舟逆转进强  ',\n",
       " '刘诗雯陈梦王曼昱携手进强 半决赛刘诗雯战石川  ',\n",
       " '乒乓球世界杯强出炉！刘国梁网络解说首秀助阵  ',\n",
       " '大马大师赛国羽喜忧参半 张楠刘成止步强  ',\n",
       " '新年礼包国安官宣三内援 胡延强池忠国刘欢加盟  ',\n",
       " '曾春蕾刘晓彤合砍分 北汽女排提前跻身八强  ',\n",
       " '香港赛石宇奇险胜过关将战林丹 张楠刘成无缘强  ',\n",
       " '速胜天才少女挺进强 三冠王刘莎莎稳定有窍门  ',\n",
       " '球世锦赛潘晓婷开门红 陈思明刘莎莎率先进强  ',\n",
       " '乒乓球世界杯刘诗雯横扫对手 顺利晋级八强  ',\n",
       " '法国赛谌龙回暖杀入强 李俊慧刘雨辰意外出局  ',\n",
       " '延边老总确实和京东有接触 也许还没报告刘强东  ',\n",
       " '刘强东出面否认京东入主中超延边传闻这是谣言  ',\n",
       " '进球视频刘冠宇左路强突 左脚抽射破门角度刁钻  ',\n",
       " '进球视频刘冠宇左路强突 左脚抽射破门角度刁钻  ',\n",
       " '马龙樊振东横扫进男单八强 丁宁刘诗雯女单奏凯  ',\n",
       " '丁宁刘诗雯分钟速胜进八强 朱雨玲陈梦晋级  ',\n",
       " '丁俊晖撞脸刘强东 小晖我比他帅 脸比他大图  ',\n",
       " '岁李忆杀入美国女子业余赛八强 刘文博遭淘汰  ',\n",
       " '彭州站刘莎莎周豆豆会师决赛 中国台北包男子强  ',\n",
       " '相关图片',\n",
       " '图文王楠老公与刘国梁王宝强小聚 一起吃月饼 ',\n",
       " '图文王楠老公与刘国梁王宝强小聚 三人有互动 ',\n",
       " '图文女子花剑刘咏诗止步八强 耐心寻找机会 ',\n",
       " '图文女子花剑刘咏诗止步八强 中国剑客 ',\n",
       " '图文女子花剑刘咏诗止步八强 闪转腾挪 ',\n",
       " '图文女子花剑刘咏诗止步八强 中国剑客刘咏诗 ',\n",
       " '图文女子花剑刘咏诗止步八强 刘咏诗防守 ',\n",
       " '图文女子花剑刘咏诗止步八强 双方寻找机会 ',\n",
       " '图文女子花剑刘咏诗止步八强 与对手拥抱 ',\n",
       " '图文女子花剑刘咏诗止步八强 英姿飒爽 ',\n",
       " '图文女子花剑刘咏诗止步八强 以退为进 ',\n",
       " '图文女子花剑刘咏诗止步八强 闪转腾挪 ',\n",
       " '图文女子花剑刘咏诗止步八强 强势进攻 ',\n",
       " '图文女子花剑刘咏诗止步八强 积极反击 ',\n",
       " '图文中国女足平瑞典晋级强 刘杉杉大脚解围 ',\n",
       " '图文鲁能悉尼进亚冠强 刘彬彬内切突破 ',\n",
       " '图文印度赛李雪芮晋级强 刘雨辰和汤金华止步强 ',\n",
       " '图文全英赛林丹王适娴晋级八强 刘成鲁恺落败 ',\n",
       " '图文季后赛直击新疆总分北京进强 刘炜出手 ',\n",
       " '图文季后赛辽宁总分浙江进强 刘志轩突破 ',\n",
       " '图文中羽赛林丹谌龙晋级强 刘成后场杀球 ',\n",
       " '图文新浪直击中国男篮新加坡 刘炜强突 ',\n",
       " '图文女足世界杯中国喀麦隆进强 刘杉杉防守 ',\n",
       " '图文澳羽球赛谌龙晋级强 刘小龙邱子瀚晋级 ',\n",
       " '图文澳羽球赛谌龙晋级强 刘成鲁恺成功晋级 ',\n",
       " '图文澳羽球赛谌龙晋级强 刘成包宜鑫晋级 ',\n",
       " '图文中国男篮美国联队 刘炜强突上篮 ',\n",
       " '图文新浪直击张继科许昕进男双强 刘国梁指点二将 ',\n",
       " '图文倡棋杯复赛第轮开战 张强对阵刘星 ',\n",
       " '图文天元赛强战 刘星从容不迫 ',\n",
       " '图文理光杯强战打响 裁判长刘菁宣布开赛 ',\n",
       " '图文理光杯强战打响 裁判长刘菁宣布开赛 ',\n",
       " '图文理光杯混双赛强战 刘菁宣布开赛 ',\n",
       " '图文理光杯混双赛强战 刘菁曹又尹观战 ',\n",
       " '图文春兰杯强战晚宴 刘亚夫晚宴致辞 ',\n",
       " '图文春兰杯强战发布会 刘亚夫致辞 ',\n",
       " '图文国藩杯王琛马天放争冠 刘秋孙伟强 ',\n",
       " '图文沃尔沃青少年比洞赛强出炉 刘艳和林嘉欣 ',\n",
       " '图文业余赛北方区决赛 刘强漂亮的挥杆 ',\n",
       " '图文业余赛北方区决赛 刘强 ',\n",
       " ' ',\n",
       " '网友评论',\n",
       " '共条评论，点击查看',\n",
       " '     频道名，例如 、、 等      新闻，例如 、 等      是否专题模式，为专题     共 条评论',\n",
       " '            请输入评论内容！                                      留言成功                            \\u3000                     新浪网友           说                       ……         ',\n",
       " '退出',\n",
       " '登录名： 密码： 同时发往微博 注册',\n",
       " ' 非评论系统自己的页面，需要设置     更新登录信息回调函数，用来执行用户登陆状态的页面显示       显示欢迎信息                   显示同时发表到围脖        隐藏用户名和密码输入框                 隐藏注册入口链接       如果需要的话更新其他位置的用户名信息     更新登录信息回调函数 用来执行用户退出状态的页面显示     隐藏欢迎信息            隐藏同时发表到围脖        显示用户名和密码输入框                  显示注册入口链接          评论系统提供 发表评论后的默认提示信息 如果频道有另外的需求，重写下面的函数，定制自己的提示信息 例如：              谢谢您发表留言      其中， 是评论系统自带的在发言区域提示信息的函数； 参数说明： 发表留言的表单  提示信息 可选  提示文字的 可选   每次刷新页面时使用评论系统提供的函数  检查是否已经登陆   中会根据用户登陆状况来调用                        ',\n",
       " '拳击明星',\n",
       " '中国拳击明星',\n",
       " '麦麦提图尔孙',\n",
       " '董程',\n",
       " '王玄玄',\n",
       " '李金子',\n",
       " '李金子',\n",
       " '任灿灿',\n",
       " '刘强',\n",
       " '孟繁龙',\n",
       " '尼加提玉山',\n",
       " '买买提吐孙穷',\n",
       " '张志磊',\n",
       " '张小平',\n",
       " '外国拳击明星',\n",
       " '塞尔比',\n",
       " '阿洛里安',\n",
       " '霍亚',\n",
       " '卡尔扎合',\n",
       " '克利钦科',\n",
       " '小罗伊琼斯',\n",
       " '克利钦科',\n",
       " '伊姆拉诺夫',\n",
       " '洛马琴科',\n",
       " '迪亚兹',\n",
       " '萨瑟兰',\n",
       " '库马尔',\n",
       " '按项目检索',\n",
       " '排球',\n",
       " '沙排',\n",
       " '田径',\n",
       " '游泳',\n",
       " '跳水',\n",
       " '花游',\n",
       " '水球',\n",
       " '射击',\n",
       " '体操',\n",
       " '艺体',\n",
       " '蹦床',\n",
       " '乒乓球',\n",
       " '羽毛球',\n",
       " '网球',\n",
       " '手球',\n",
       " '棒球',\n",
       " '垒球',\n",
       " '曲棍球',\n",
       " '击剑',\n",
       " '射箭',\n",
       " '举重',\n",
       " '柔道',\n",
       " '跆拳道',\n",
       " '拳击',\n",
       " '摔跤',\n",
       " '赛艇',\n",
       " '静水',\n",
       " '激流',\n",
       " '帆船',\n",
       " '场地车',\n",
       " '公路车',\n",
       " '山地车',\n",
       " '小轮车',\n",
       " '马术',\n",
       " '铁人三',\n",
       " '现代五',\n",
       " '台球',\n",
       " '冰雪',\n",
       " '武术',\n",
       " '足球',\n",
       " '篮球',\n",
       " '高尔夫',\n",
       " '赛车',\n",
       " '棋牌',\n",
       " '按国家地区检索',\n",
       " '亚洲\\xa0个',\n",
       " '中国',\n",
       " '中国香港',\n",
       " '中华台北',\n",
       " '阿富汗',\n",
       " '孟加拉国',\n",
       " '不丹',\n",
       " '巴林',\n",
       " '文莱',\n",
       " '柬埔寨',\n",
       " '印度尼西亚',\n",
       " '印度',\n",
       " '伊朗',\n",
       " '伊拉克',\n",
       " '约旦',\n",
       " '日本',\n",
       " '哈萨克斯坦',\n",
       " '吉尔吉斯斯坦',\n",
       " '韩国',\n",
       " '沙特阿拉伯',\n",
       " '科威特',\n",
       " '老挝',\n",
       " '黎巴嫩',\n",
       " '马来西亚',\n",
       " '马尔代夫',\n",
       " '蒙古',\n",
       " '缅甸',\n",
       " '尼泊尔',\n",
       " '阿曼',\n",
       " '巴基斯坦',\n",
       " '菲律宾',\n",
       " '巴勒斯坦',\n",
       " '朝鲜',\n",
       " '卡塔尔',\n",
       " '新加坡',\n",
       " '斯里兰卡',\n",
       " '叙利亚',\n",
       " '泰国',\n",
       " '塔吉克斯坦',\n",
       " '土库曼斯坦',\n",
       " '东帝汶',\n",
       " '阿联酋',\n",
       " '乌兹别克斯坦',\n",
       " '越南',\n",
       " '也门',\n",
       " '欧洲\\xa0个',\n",
       " '阿尔巴尼亚',\n",
       " '安道尔',\n",
       " '亚美尼亚',\n",
       " '奥地利',\n",
       " '阿塞拜疆',\n",
       " '比利时',\n",
       " '波黑',\n",
       " '白俄罗斯',\n",
       " '保加利亚',\n",
       " '克罗地亚',\n",
       " '塞浦路斯',\n",
       " '捷克',\n",
       " '丹麦',\n",
       " '西班牙',\n",
       " '爱沙尼亚',\n",
       " '芬兰',\n",
       " '法国',\n",
       " '英国',\n",
       " '格鲁吉亚',\n",
       " '德国',\n",
       " '希腊',\n",
       " '匈牙利',\n",
       " '爱尔兰',\n",
       " '冰岛',\n",
       " '以色列',\n",
       " '意大利',\n",
       " '拉脱维亚',\n",
       " '列支敦士登',\n",
       " '卢森堡',\n",
       " '摩尔多瓦',\n",
       " '马其顿',\n",
       " '马耳他',\n",
       " '黑山',\n",
       " '摩纳哥',\n",
       " '荷兰',\n",
       " '挪威',\n",
       " '波兰',\n",
       " '葡萄牙',\n",
       " '罗马尼亚',\n",
       " '俄罗斯',\n",
       " '斯洛文尼亚',\n",
       " '圣马力诺',\n",
       " '塞尔维亚',\n",
       " '瑞士',\n",
       " '斯洛伐克',\n",
       " '瑞典',\n",
       " '土耳其',\n",
       " '乌克兰',\n",
       " '美洲\\xa0个',\n",
       " '荷属安的列斯',\n",
       " '安提瓜和巴布达',\n",
       " '阿根廷',\n",
       " '阿鲁巴',\n",
       " '巴哈马',\n",
       " '巴巴多斯',\n",
       " '百慕大',\n",
       " '伯利兹',\n",
       " '玻利维亚',\n",
       " '巴西',\n",
       " '加拿大',\n",
       " '开曼群岛',\n",
       " '智利',\n",
       " '哥伦比亚',\n",
       " '哥斯达黎加',\n",
       " '古巴',\n",
       " '多米尼克',\n",
       " '多米尼加',\n",
       " '厄瓜多尔',\n",
       " '萨尔瓦多',\n",
       " '格林纳达',\n",
       " '危地马拉',\n",
       " '圭亚那',\n",
       " '海地',\n",
       " '洪都拉斯',\n",
       " '维尔京群岛',\n",
       " '英属维尔京群岛',\n",
       " '牙买加',\n",
       " '圣卢西亚',\n",
       " '墨西哥',\n",
       " '尼加拉瓜',\n",
       " '巴拿马',\n",
       " '巴拉圭',\n",
       " '秘鲁',\n",
       " '波多黎各',\n",
       " '圣基茨和尼维斯',\n",
       " '苏里南共和国',\n",
       " '特立尼达和多巴哥',\n",
       " '乌拉圭',\n",
       " '美国',\n",
       " '委内瑞拉',\n",
       " '圣文森特和格林纳丁斯',\n",
       " '非洲\\xa0个',\n",
       " '阿尔及利亚',\n",
       " '安哥拉',\n",
       " '布隆迪',\n",
       " '贝宁',\n",
       " '博茨瓦纳',\n",
       " '布基纳法索',\n",
       " '中非',\n",
       " '刚果布',\n",
       " '乍得',\n",
       " '科特迪瓦',\n",
       " '喀麦隆',\n",
       " '民主刚果',\n",
       " '科摩罗',\n",
       " '佛得角',\n",
       " '吉布提',\n",
       " '埃及',\n",
       " '厄立特里亚',\n",
       " '埃塞俄比亚',\n",
       " '加蓬',\n",
       " '冈比亚',\n",
       " '几内亚比绍',\n",
       " '赤道几内亚',\n",
       " '加纳',\n",
       " '几内亚',\n",
       " '肯尼亚',\n",
       " '利比亚',\n",
       " '利比里亚',\n",
       " '莱索托',\n",
       " '马达加斯加',\n",
       " '摩洛哥',\n",
       " '马拉维',\n",
       " '马里',\n",
       " '莫桑比克',\n",
       " '毛里求斯',\n",
       " '毛里塔尼亚',\n",
       " '纳米比亚',\n",
       " '尼日利亚',\n",
       " '尼日尔',\n",
       " '南非',\n",
       " '卢旺达',\n",
       " '塞内加尔',\n",
       " '塞舌尔',\n",
       " '塞拉利昂',\n",
       " '索马里',\n",
       " '圣多美和普林西比',\n",
       " '苏丹',\n",
       " '斯威士兰',\n",
       " '坦桑尼亚',\n",
       " '多哥',\n",
       " '突尼斯',\n",
       " '乌干达',\n",
       " '赞比亚',\n",
       " '津巴布韦',\n",
       " '大洋洲\\xa0个',\n",
       " '美属萨摩亚',\n",
       " '澳大利亚',\n",
       " '库克群岛',\n",
       " '斐济',\n",
       " '密克罗尼西亚',\n",
       " '关岛',\n",
       " '基里巴斯',\n",
       " '马绍尔群岛',\n",
       " '瑙鲁',\n",
       " '新西兰',\n",
       " '帕劳',\n",
       " '巴布亚新几内亚',\n",
       " '萨摩亚',\n",
       " '所罗门群岛',\n",
       " '汤加',\n",
       " '图瓦卢',\n",
       " '瓦努阿图',\n",
       " '返回页面顶部',\n",
       " '新浪简介     广告服务  招聘信息  网站律师     会员注册  产品答疑',\n",
       " ' ©        ',\n",
       " '新浪公司 版权所有',\n",
       " '                                                                                                                         ']"
      ]
     },
     "execution_count": 50,
     "metadata": {},
     "output_type": "execute_result"
    }
   ],
   "source": [
    "clean.split('\\n')"
   ]
  },
  {
   "cell_type": "code",
   "execution_count": 51,
   "metadata": {},
   "outputs": [],
   "source": [
    "html = requests.get('http://www.caixin.com/hot/liuqiang.html').content"
   ]
  },
  {
   "cell_type": "code",
   "execution_count": 52,
   "metadata": {},
   "outputs": [],
   "source": [
    "doc = pq(html)"
   ]
  },
  {
   "cell_type": "code",
   "execution_count": 53,
   "metadata": {},
   "outputs": [],
   "source": [
    "clean = re.sub('[a-zA-z0-9\\(\\)\\{\\,\\}\\!\\?\\@\\%\\$\\|\\+\\\\\\*\\'\\.\\:\\=\\\"\\&\\;\\/\\-\\~\\#\\<\\>]+','',doc.text())"
   ]
  },
  {
   "cell_type": "code",
   "execution_count": 54,
   "metadata": {},
   "outputs": [
    {
     "data": {
      "text/plain": [
       "'刘强相关新闻报道财新网\\n       \\n无所不能 运动家\\n      \\n个人订阅 机构订阅 私房课 财新一线 应用下载 帮助\\n数据  智库指数  会议培训\\n商城\\n立即订阅\\n首页\\n经济\\n金融\\n公司\\n政经\\n环科\\n世界\\n观点网\\n文化\\n博客\\n周刊\\n图片\\n视听\\n数字说\\n\\n\\n数字说财新周末精英访谈纪念日\\n财新 读懂央行理解万税天天预测政策信息宏观数据贸易投资地方经济国际经济 聚焦\\n监管银行证券基金信托保险投资创新市场 欢乐财新闻\\n无所不能 大家谈汽车交通基建房地产消费\\n反腐纪事人事观察无恙有教无类法治时政民生社会三农\\n环境 新科技\\n全球直播 旁观中国天下事世界说\\n财新名家火线评论意见领袖社评聚焦视听智库思想精选《中国改革》《比较》 谢平互金九讲 王烁学习报告\\n明朝历史传奇小说《赤龙》 专栏评论文学艺术逝者阅读\\n经济民生人文生活 科技最新更新\\n滚动新闻图片故事专题报道一周天下一周人物奇闻趣事财新独家\\n短视频音频财新时间 一线人物 视野微纪录\\n互动新闻纪念日\\n    \\n当前位置： 财新网  热搜  刘强\\n刘强\\n反腐周记被指省委换届前拉票 河南自首高官降级退休\\n为什么京东被传“大面积裁员”？\\n摘要：涉嫌性侵案早点落地，对各方都好 \\xa0 \\xa0 \\xa0 撰文张银银编辑欣欣然 月日，又是京东倒霉的一天。各位杆友当然明白，京东及\\n刘\\n强\\n东这一年经历的劫难。 最新的坏消息称，京东将大面积裁员。其\\n反腐周记被指省委换届前拉票 河南自首高官降级退休\\n发布时间：\\n评论\\n刘\\n强\\n破坏选举案一审过堂。 此外，陕西省委原常委、西安市委原书记魏民洲受贿过亿，一审被判无期徒刑；江西原副省长李贻煌过堂；贵州省委原常委、副省长王晓光和财政部原副部长张少春被公诉。 王铁被降级 中共十八\\n热评：\\n东海渔夫（新浪微博）天小时分秒前\\n依法治国。。。\\n“不信人间有白头”？也谈危机当中的“危”和“机”\\n发布时间：\\n评论\\n刘\\n强\\n东性侵、俞敏洪大嘴，作死……最近连续的企业公关危机成为社会事件可能已经让不少公司的噤若寒蝉。在最近频发的“公关危机”中，其实倒是有一个正面的例子：最近“后”白发干部成网红的新闻，让\\n热评：\\n葛海蛟将为光大银行新一任行长\\n发布时间：\\n评论\\n良贷款率；拨备覆盖率，核心一级资本充足率 。 在兼具了分行、总行、国内、国际的资历后，年月，葛海蛟与当时农行另一位从基层干起、能力突出的中层\\n刘\\n强\\n一起，被选拔\\n热评：\\n穆禪悅（新浪微博）天小时分秒前\\n回复俊森先僧愿闻其详\\n穆禪悅（新浪微博）天小时分秒前\\n农行是干部的摇篮啊。\\n心妙不言（新浪微博）天小时分秒前\\n这评语的背后涵义让人联想翩翩\\n人事观察京闽政府高层增员 郭宁宁成最年轻女高官\\n发布时间：\\n评论\\n副省长张志南。 在此之前，“金融副省长”成为省级政府领导层一景。包括北京市副市长殷勇、上海市副市长吴清、天津市副市长康义、重庆市副市长刘桂平、山东省副省长\\n刘\\n强\\n、江苏省副省长王江、浙江省副省长朱从玖、广\\n热评：\\n曲十八（新浪微博）天小时分秒前\\n额，难怪地方债务这么严重\\n早报刘强东涉“性侵”案被曝细节 代理律师指责“媒体审判；宝马获网约车牌照 试水成都网约车市场\\n发布时间：\\n评论\\n【财新网】\\n刘\\n强\\n东涉“性侵”案被曝细节 其代理律师指责“媒体审判 月日，据财新，京东方面向财新记者提供\\n刘\\n强\\n东代理律师 就媒体报道的回应。 称，该\\n热评：\\n舆论中的大佬们\\n发布时间：\\n评论\\n发言，反倒都成了新一轮的料。\\n刘\\n强\\n东就是蛮典型的一个例子。 \\xa0 企业家是一个企业最后的一枚棋，当犯错后，能腾挪的空间非常小。 \\xa0 找人背锅太难了。 \\xa0 有一小部分企业家，天生具有段子手\\n热评：\\n刘强东涉“性侵”案被曝细节 其代理律师指责“媒体审判”\\n发布时间：\\n评论\\n【财新网】（见习记者 李忆）伴随警方更多案件口供流出，\\n刘\\n强\\n东涉“性侵”案再次引发市场关注。月日，京东方面向财新记者提供\\n刘\\n强\\n东代理律师 就媒体报道的回应。\\n热评：\\n云起西海（新浪微博）天小时分秒前\\n靴子早点落下吧，对当事人、企业和投资人都好\\n（财新网版）天小时分秒前\\n就算不是强暴，性行为是肯定有了。不说公众、股东、粉丝。就说，怎么和老婆孩子交代吧。\\n黄健峰（新浪微博）天小时分秒前\\n刘强东这块牌子已经不能再用了，还是和京东割裂开吧\\n倪险守时（财新网版）天小时分秒前\\n只要是公众人物就应该接受媒体审判\\n辽宁原副省长刘强受审 给予他人财物进行拉票贿选\\n发布时间：\\n评论\\n【财新网】年月日，北京市第三中级人民法院一审公开开庭审理了辽宁省人民政府原副省长\\n刘\\n强\\n受贿、破坏选举一案。 据央视新闻客户端消息，北京市人民检察院第三分院起诉指控：年至\\n热评：\\n待日的菊花格外滑（新浪微博）天小时分秒前\\n这么严重能判半年。\\n山白雪又红（新浪微博）天小时分秒前\\n哎呦，真有钱啊。贿选的钱哪里来的\\n（新浪微博）天小时分秒前\\n需要凝聚力\\n图片\\n世界互联网大会举办 互联网大咖齐聚乌镇\\n金融改革与回归本源\\n金融创新与监管\\n雾锁中国下的众生态\\n视频\\n刘强东案又曝细节；山东暂停生猪交易\\n\\n刘强东案移交检方；国务院发文促消费\\n\\n刘强东在美被指性侵；“开学第一课”引争议\\n\\n【直播回看】全国政协记者会 许家印刘强东等谈改善民生\\n\\n专题推荐\\n                                   \\n热门热搜\\n最新热搜\\n\\n离岸金融\\n\\n慈善基金\\n\\n不动产抵押\\n\\n外汇保证金\\n\\n哈佛女孩\\n\\n全球强\\n\\n借贷公司\\n\\n壹基金\\n\\n\\n\\n营享家\\n\\n上海浦东期货大厦\\n\\n投资项目审批\\n\\n长期股权投资核算\\n\\n外商投资项目\\n\\n风险投资人\\n\\n万投资项目\\n\\n网上借贷\\n\\n如何发财\\n\\n国家投资公司\\n\\n创业投资风险投资\\n点击排行榜\\n评论排行榜\\n\\n人事观察首位“后”省级政法委书记花落贵州\\n\\n报告：如何让农民进入中等收入群体\\n\\n贸易战本质是改革战\\n\\n高通婉拒重启收购恩智浦提议 称潜在交易已终止将专注\\n\\n让特朗普操心的芬太尼是什么\\n\\n大学排名被批急功近利 扼杀创新与办学多样性\\n\\n北大前校长林建华：不能对着排名指标办大学\\n\\n布什父子总统与石油\\n\\n贺建奎获亿元投资 投资人包括“莆田系”和美医疗股东\\n\\n张家口爆燃涉事公司乃央企 曾因环境问题被举报\\n\\n税务总局要求补税三年 影视行业到底冤不冤？\\n\\n“基因编辑婴儿”牵头人贺建奎遭质疑 多家机构撇清关系\\n\\n基因编辑婴儿风波与贺建奎其人\\n\\n交通部通报进驻式检查结果 滴滴主要负责人将被处罚\\n\\n专家说中国医患关系全球最糟，叙事医学或为解药\\n\\n生命伦理学专家：贺建奎事件严重影响中国学术声誉\\n猜你喜欢\\n\\n卫健委调查“基因编辑婴儿”；北京昨日卖地亿\\n\\n政治局会议强调加强农村党支部建设、全面从严治党\\n\\n财新峰会留影：面孔与瞬间\\n\\n暴风雪袭击美国芝加哥地区 近个航班被取消\\n\\n四大行布局理财子公司 资本金最高达亿元\\n\\n土地管理法修订：农村土地增值收益如何分配\\n\\n携程亲子园虐童案宣判 八名被告人获刑\\n\\n年展望：悲观气氛浓厚为市场上行奠定基础\\n\\n手游平台创梦天地香港 索尼京东任基石\\n\\n东北黑土地已成“黄土地”，“返黑”需要三亿年\\n\\n恒大投资写入调查报告 美专家称不会有进一步动作\\n热搜推荐\\n\\n南方汇通\\n\\n海南离岛免税政策\\n\\n法拉第未来\\n\\n政策性担保\\n\\n失信惩戒\\n\\n苏珊赖斯\\n\\n弃风限电\\n\\n香港地政总署\\n\\n金陵\\n\\n汇率操纵\\n                                        \\n热词推荐\\n美国大选第二场辩论 期货交易时间 东江环保 一期一会 十八届五中全会 昆明火车站暴恐案 中远集团 负利率 渐冻症 李显龙 中央军事委员会 楼继伟 北京市委书记 陈有西 印度经济\\n财新网所刊载内容之知识产权为财新传媒及或相关权利人专属所有或持有。未经许可，禁止进行转载、摘编、复制及建立镜像等任何使用。\\n京证号 京备：  京公网安备 号  广播电视节目制作经营许可证：京第号  出版物经营许可证：第直号\\n 财新网    版权所有 复制必究\\n违法和不良信息举报电话：\\u3000举报邮箱：\\n关于我们  加入我们  财新公益基金会  意见与反馈  提供新闻线索  联系我们  友情链接  网站地图\\n           网站当前用户，如果未登录就为或空字符串   网站当前用户的，不管是否登录都需要传                                    \\n                        当天文章统计                                 \\n艾瑞统计代码      监测配置  客户项目编号由系统生成   的位置，请客户自行托管文件，只需修改此值              '"
      ]
     },
     "execution_count": 54,
     "metadata": {},
     "output_type": "execute_result"
    }
   ],
   "source": [
    "clean"
   ]
  },
  {
   "cell_type": "code",
   "execution_count": 55,
   "metadata": {},
   "outputs": [
    {
     "data": {
      "text/plain": [
       "['刘强相关新闻报道财新网',\n",
       " '       ',\n",
       " '无所不能 运动家',\n",
       " '      ',\n",
       " '个人订阅 机构订阅 私房课 财新一线 应用下载 帮助',\n",
       " '数据  智库指数  会议培训',\n",
       " '商城',\n",
       " '立即订阅',\n",
       " '首页',\n",
       " '经济',\n",
       " '金融',\n",
       " '公司',\n",
       " '政经',\n",
       " '环科',\n",
       " '世界',\n",
       " '观点网',\n",
       " '文化',\n",
       " '博客',\n",
       " '周刊',\n",
       " '图片',\n",
       " '视听',\n",
       " '数字说',\n",
       " '',\n",
       " '',\n",
       " '数字说财新周末精英访谈纪念日',\n",
       " '财新 读懂央行理解万税天天预测政策信息宏观数据贸易投资地方经济国际经济 聚焦',\n",
       " '监管银行证券基金信托保险投资创新市场 欢乐财新闻',\n",
       " '无所不能 大家谈汽车交通基建房地产消费',\n",
       " '反腐纪事人事观察无恙有教无类法治时政民生社会三农',\n",
       " '环境 新科技',\n",
       " '全球直播 旁观中国天下事世界说',\n",
       " '财新名家火线评论意见领袖社评聚焦视听智库思想精选《中国改革》《比较》 谢平互金九讲 王烁学习报告',\n",
       " '明朝历史传奇小说《赤龙》 专栏评论文学艺术逝者阅读',\n",
       " '经济民生人文生活 科技最新更新',\n",
       " '滚动新闻图片故事专题报道一周天下一周人物奇闻趣事财新独家',\n",
       " '短视频音频财新时间 一线人物 视野微纪录',\n",
       " '互动新闻纪念日',\n",
       " '    ',\n",
       " '当前位置： 财新网  热搜  刘强',\n",
       " '刘强',\n",
       " '反腐周记被指省委换届前拉票 河南自首高官降级退休',\n",
       " '为什么京东被传“大面积裁员”？',\n",
       " '摘要：涉嫌性侵案早点落地，对各方都好 \\xa0 \\xa0 \\xa0 撰文张银银编辑欣欣然 月日，又是京东倒霉的一天。各位杆友当然明白，京东及',\n",
       " '刘',\n",
       " '强',\n",
       " '东这一年经历的劫难。 最新的坏消息称，京东将大面积裁员。其',\n",
       " '反腐周记被指省委换届前拉票 河南自首高官降级退休',\n",
       " '发布时间：',\n",
       " '评论',\n",
       " '刘',\n",
       " '强',\n",
       " '破坏选举案一审过堂。 此外，陕西省委原常委、西安市委原书记魏民洲受贿过亿，一审被判无期徒刑；江西原副省长李贻煌过堂；贵州省委原常委、副省长王晓光和财政部原副部长张少春被公诉。 王铁被降级 中共十八',\n",
       " '热评：',\n",
       " '东海渔夫（新浪微博）天小时分秒前',\n",
       " '依法治国。。。',\n",
       " '“不信人间有白头”？也谈危机当中的“危”和“机”',\n",
       " '发布时间：',\n",
       " '评论',\n",
       " '刘',\n",
       " '强',\n",
       " '东性侵、俞敏洪大嘴，作死……最近连续的企业公关危机成为社会事件可能已经让不少公司的噤若寒蝉。在最近频发的“公关危机”中，其实倒是有一个正面的例子：最近“后”白发干部成网红的新闻，让',\n",
       " '热评：',\n",
       " '葛海蛟将为光大银行新一任行长',\n",
       " '发布时间：',\n",
       " '评论',\n",
       " '良贷款率；拨备覆盖率，核心一级资本充足率 。 在兼具了分行、总行、国内、国际的资历后，年月，葛海蛟与当时农行另一位从基层干起、能力突出的中层',\n",
       " '刘',\n",
       " '强',\n",
       " '一起，被选拔',\n",
       " '热评：',\n",
       " '穆禪悅（新浪微博）天小时分秒前',\n",
       " '回复俊森先僧愿闻其详',\n",
       " '穆禪悅（新浪微博）天小时分秒前',\n",
       " '农行是干部的摇篮啊。',\n",
       " '心妙不言（新浪微博）天小时分秒前',\n",
       " '这评语的背后涵义让人联想翩翩',\n",
       " '人事观察京闽政府高层增员 郭宁宁成最年轻女高官',\n",
       " '发布时间：',\n",
       " '评论',\n",
       " '副省长张志南。 在此之前，“金融副省长”成为省级政府领导层一景。包括北京市副市长殷勇、上海市副市长吴清、天津市副市长康义、重庆市副市长刘桂平、山东省副省长',\n",
       " '刘',\n",
       " '强',\n",
       " '、江苏省副省长王江、浙江省副省长朱从玖、广',\n",
       " '热评：',\n",
       " '曲十八（新浪微博）天小时分秒前',\n",
       " '额，难怪地方债务这么严重',\n",
       " '早报刘强东涉“性侵”案被曝细节 代理律师指责“媒体审判；宝马获网约车牌照 试水成都网约车市场',\n",
       " '发布时间：',\n",
       " '评论',\n",
       " '【财新网】',\n",
       " '刘',\n",
       " '强',\n",
       " '东涉“性侵”案被曝细节 其代理律师指责“媒体审判 月日，据财新，京东方面向财新记者提供',\n",
       " '刘',\n",
       " '强',\n",
       " '东代理律师 就媒体报道的回应。 称，该',\n",
       " '热评：',\n",
       " '舆论中的大佬们',\n",
       " '发布时间：',\n",
       " '评论',\n",
       " '发言，反倒都成了新一轮的料。',\n",
       " '刘',\n",
       " '强',\n",
       " '东就是蛮典型的一个例子。 \\xa0 企业家是一个企业最后的一枚棋，当犯错后，能腾挪的空间非常小。 \\xa0 找人背锅太难了。 \\xa0 有一小部分企业家，天生具有段子手',\n",
       " '热评：',\n",
       " '刘强东涉“性侵”案被曝细节 其代理律师指责“媒体审判”',\n",
       " '发布时间：',\n",
       " '评论',\n",
       " '【财新网】（见习记者 李忆）伴随警方更多案件口供流出，',\n",
       " '刘',\n",
       " '强',\n",
       " '东涉“性侵”案再次引发市场关注。月日，京东方面向财新记者提供',\n",
       " '刘',\n",
       " '强',\n",
       " '东代理律师 就媒体报道的回应。',\n",
       " '热评：',\n",
       " '云起西海（新浪微博）天小时分秒前',\n",
       " '靴子早点落下吧，对当事人、企业和投资人都好',\n",
       " '（财新网版）天小时分秒前',\n",
       " '就算不是强暴，性行为是肯定有了。不说公众、股东、粉丝。就说，怎么和老婆孩子交代吧。',\n",
       " '黄健峰（新浪微博）天小时分秒前',\n",
       " '刘强东这块牌子已经不能再用了，还是和京东割裂开吧',\n",
       " '倪险守时（财新网版）天小时分秒前',\n",
       " '只要是公众人物就应该接受媒体审判',\n",
       " '辽宁原副省长刘强受审 给予他人财物进行拉票贿选',\n",
       " '发布时间：',\n",
       " '评论',\n",
       " '【财新网】年月日，北京市第三中级人民法院一审公开开庭审理了辽宁省人民政府原副省长',\n",
       " '刘',\n",
       " '强',\n",
       " '受贿、破坏选举一案。 据央视新闻客户端消息，北京市人民检察院第三分院起诉指控：年至',\n",
       " '热评：',\n",
       " '待日的菊花格外滑（新浪微博）天小时分秒前',\n",
       " '这么严重能判半年。',\n",
       " '山白雪又红（新浪微博）天小时分秒前',\n",
       " '哎呦，真有钱啊。贿选的钱哪里来的',\n",
       " '（新浪微博）天小时分秒前',\n",
       " '需要凝聚力',\n",
       " '图片',\n",
       " '世界互联网大会举办 互联网大咖齐聚乌镇',\n",
       " '金融改革与回归本源',\n",
       " '金融创新与监管',\n",
       " '雾锁中国下的众生态',\n",
       " '视频',\n",
       " '刘强东案又曝细节；山东暂停生猪交易',\n",
       " '',\n",
       " '刘强东案移交检方；国务院发文促消费',\n",
       " '',\n",
       " '刘强东在美被指性侵；“开学第一课”引争议',\n",
       " '',\n",
       " '【直播回看】全国政协记者会 许家印刘强东等谈改善民生',\n",
       " '',\n",
       " '专题推荐',\n",
       " '                                   ',\n",
       " '热门热搜',\n",
       " '最新热搜',\n",
       " '',\n",
       " '离岸金融',\n",
       " '',\n",
       " '慈善基金',\n",
       " '',\n",
       " '不动产抵押',\n",
       " '',\n",
       " '外汇保证金',\n",
       " '',\n",
       " '哈佛女孩',\n",
       " '',\n",
       " '全球强',\n",
       " '',\n",
       " '借贷公司',\n",
       " '',\n",
       " '壹基金',\n",
       " '',\n",
       " '',\n",
       " '',\n",
       " '营享家',\n",
       " '',\n",
       " '上海浦东期货大厦',\n",
       " '',\n",
       " '投资项目审批',\n",
       " '',\n",
       " '长期股权投资核算',\n",
       " '',\n",
       " '外商投资项目',\n",
       " '',\n",
       " '风险投资人',\n",
       " '',\n",
       " '万投资项目',\n",
       " '',\n",
       " '网上借贷',\n",
       " '',\n",
       " '如何发财',\n",
       " '',\n",
       " '国家投资公司',\n",
       " '',\n",
       " '创业投资风险投资',\n",
       " '点击排行榜',\n",
       " '评论排行榜',\n",
       " '',\n",
       " '人事观察首位“后”省级政法委书记花落贵州',\n",
       " '',\n",
       " '报告：如何让农民进入中等收入群体',\n",
       " '',\n",
       " '贸易战本质是改革战',\n",
       " '',\n",
       " '高通婉拒重启收购恩智浦提议 称潜在交易已终止将专注',\n",
       " '',\n",
       " '让特朗普操心的芬太尼是什么',\n",
       " '',\n",
       " '大学排名被批急功近利 扼杀创新与办学多样性',\n",
       " '',\n",
       " '北大前校长林建华：不能对着排名指标办大学',\n",
       " '',\n",
       " '布什父子总统与石油',\n",
       " '',\n",
       " '贺建奎获亿元投资 投资人包括“莆田系”和美医疗股东',\n",
       " '',\n",
       " '张家口爆燃涉事公司乃央企 曾因环境问题被举报',\n",
       " '',\n",
       " '税务总局要求补税三年 影视行业到底冤不冤？',\n",
       " '',\n",
       " '“基因编辑婴儿”牵头人贺建奎遭质疑 多家机构撇清关系',\n",
       " '',\n",
       " '基因编辑婴儿风波与贺建奎其人',\n",
       " '',\n",
       " '交通部通报进驻式检查结果 滴滴主要负责人将被处罚',\n",
       " '',\n",
       " '专家说中国医患关系全球最糟，叙事医学或为解药',\n",
       " '',\n",
       " '生命伦理学专家：贺建奎事件严重影响中国学术声誉',\n",
       " '猜你喜欢',\n",
       " '',\n",
       " '卫健委调查“基因编辑婴儿”；北京昨日卖地亿',\n",
       " '',\n",
       " '政治局会议强调加强农村党支部建设、全面从严治党',\n",
       " '',\n",
       " '财新峰会留影：面孔与瞬间',\n",
       " '',\n",
       " '暴风雪袭击美国芝加哥地区 近个航班被取消',\n",
       " '',\n",
       " '四大行布局理财子公司 资本金最高达亿元',\n",
       " '',\n",
       " '土地管理法修订：农村土地增值收益如何分配',\n",
       " '',\n",
       " '携程亲子园虐童案宣判 八名被告人获刑',\n",
       " '',\n",
       " '年展望：悲观气氛浓厚为市场上行奠定基础',\n",
       " '',\n",
       " '手游平台创梦天地香港 索尼京东任基石',\n",
       " '',\n",
       " '东北黑土地已成“黄土地”，“返黑”需要三亿年',\n",
       " '',\n",
       " '恒大投资写入调查报告 美专家称不会有进一步动作',\n",
       " '热搜推荐',\n",
       " '',\n",
       " '南方汇通',\n",
       " '',\n",
       " '海南离岛免税政策',\n",
       " '',\n",
       " '法拉第未来',\n",
       " '',\n",
       " '政策性担保',\n",
       " '',\n",
       " '失信惩戒',\n",
       " '',\n",
       " '苏珊赖斯',\n",
       " '',\n",
       " '弃风限电',\n",
       " '',\n",
       " '香港地政总署',\n",
       " '',\n",
       " '金陵',\n",
       " '',\n",
       " '汇率操纵',\n",
       " '                                        ',\n",
       " '热词推荐',\n",
       " '美国大选第二场辩论 期货交易时间 东江环保 一期一会 十八届五中全会 昆明火车站暴恐案 中远集团 负利率 渐冻症 李显龙 中央军事委员会 楼继伟 北京市委书记 陈有西 印度经济',\n",
       " '财新网所刊载内容之知识产权为财新传媒及或相关权利人专属所有或持有。未经许可，禁止进行转载、摘编、复制及建立镜像等任何使用。',\n",
       " '京证号 京备：  京公网安备 号  广播电视节目制作经营许可证：京第号  出版物经营许可证：第直号',\n",
       " ' 财新网    版权所有 复制必究',\n",
       " '违法和不良信息举报电话：\\u3000举报邮箱：',\n",
       " '关于我们  加入我们  财新公益基金会  意见与反馈  提供新闻线索  联系我们  友情链接  网站地图',\n",
       " '           网站当前用户，如果未登录就为或空字符串   网站当前用户的，不管是否登录都需要传                                    ',\n",
       " '                        当天文章统计                                 ',\n",
       " '艾瑞统计代码      监测配置  客户项目编号由系统生成   的位置，请客户自行托管文件，只需修改此值              ']"
      ]
     },
     "execution_count": 55,
     "metadata": {},
     "output_type": "execute_result"
    }
   ],
   "source": [
    "clean.split('\\n')"
   ]
  },
  {
   "cell_type": "code",
   "execution_count": 56,
   "metadata": {},
   "outputs": [],
   "source": [
    "html = requests.get('https://baijiahao.baidu.com/s?id=1617830678474957938&wfr=spider&for=pc').content"
   ]
  },
  {
   "cell_type": "code",
   "execution_count": 57,
   "metadata": {},
   "outputs": [],
   "source": [
    "doc = pq(html)"
   ]
  },
  {
   "cell_type": "code",
   "execution_count": 58,
   "metadata": {},
   "outputs": [],
   "source": [
    "clean = re.sub('[a-zA-z0-9\\(\\)\\{\\,\\}\\!\\?\\@\\%\\$\\|\\+\\\\\\*\\'\\.\\:\\=\\\"\\&\\;\\/\\-\\~\\#\\<\\>]+','',doc.text())"
   ]
  },
  {
   "cell_type": "code",
   "execution_count": 59,
   "metadata": {},
   "outputs": [
    {
     "data": {
      "text/plain": [
       "'辽宁原副省长刘强受贿、破坏选举案一审开庭\\n                              \\n百度首页\\n登录\\n个人中心帐号设置意见反馈退出\\n辽宁原副省长刘强受贿、破坏选举案一审开庭\\n浙江新闻\\n百家号\\n   央视新闻客户端\\n年月日，北京市第三中级人民法院一审公开开庭审理了辽宁省人民政府原副省长刘强受贿、破坏选举一案。\\n北京市人民检察院第三分院起诉指控：年至年，被告人刘强利用担任中国石油天然气股份有限公司抚顺石化分公司总经理、辽宁省抚顺市人民政府市长、中共抚顺市委书记、辽宁省人民政府副省长等职务上的便利或职权、地位形成的便利条件，为有关单位和个人在企业经营、工程承揽、职务晋升等事项上提供帮助，直接或者通过特定关系人收受他人给予的财物，共计折合人民币万余元。年至年月，刘强为当选辽宁省人民政府副省长，利用担任中共抚顺市委书记等职权和影响，采取给予他人财物、打招呼等方式进行拉票贿选，破坏正常选举活动，情节严重，社会影响恶劣。\\n庭审中，公诉机关出示了相关证据，刘强及其辩护人进行了质证，控辩双方在法庭的主持下充分发表了意见，刘强还进行了最后陈述，并当庭表示认罪、悔罪。全国、北京市两级人大代表、政协委员，人民法院特约监督员，新闻记者和各界群众人旁听了庭审。\\n庭审结束后法庭宣布休庭，择期宣判。\\n（原标题《辽宁省人民政府原副省长刘强受贿、破坏选举案一审开庭》，原作者奚丹霓。编辑 陈斌）\\n本文由百家号作者上传并发布，百家号仅提供信息发布平台。文章仅代表作者个人观点，不代表百度立场。未经作者许可，不得转载。\\n相关搜索\\n湖北省人民政府\\n人民法院诉讼查询\\n浙江省人民政府\\n滥用职权\\n全国人民代表大会\\n辽宁省\\n浙江新闻\\n百家号最近更新：\\n简介最具权威的浙江第一新闻服务平台\\n作者最新文章\\n快讯丨朱婷登场！年女排世俱杯今晚开幕\\n\\n进中央机关工作，主要有哪些途径？\\n\\n宁波奉化一些村庄道路多次挖开重修 惠民工程反变“扰民”\\n\\n相关文章\\n蓝盈莹《原来你还在这里》今晚收官 哭戏直戳人心\\n环球网\\n【聚焦】昆明公开审理两个涉黑涉恶团伙，涉嫌大规模\\n澎湃新闻\\n延安市户农村危房改造任务全面完成\\n澎湃新闻\\n快讯！外媒：法国总理将宣布暂停上调燃油税\\n环球网\\n【港股通大赛】对话大赛收益三甲常客老黄，疯狂奶爸谈高收益秘方\\n腾讯财经\\n设为首页©\\xa0\\xa0使用百度前必读\\xa0意见反馈\\xa0京证号\\n京公网安备号\\n返回顶部\\n                                        '"
      ]
     },
     "execution_count": 59,
     "metadata": {},
     "output_type": "execute_result"
    }
   ],
   "source": [
    "clean"
   ]
  },
  {
   "cell_type": "code",
   "execution_count": 60,
   "metadata": {},
   "outputs": [
    {
     "data": {
      "text/plain": [
       "['辽宁原副省长刘强受贿、破坏选举案一审开庭',\n",
       " '                              ',\n",
       " '百度首页',\n",
       " '登录',\n",
       " '个人中心帐号设置意见反馈退出',\n",
       " '辽宁原副省长刘强受贿、破坏选举案一审开庭',\n",
       " '浙江新闻',\n",
       " '百家号',\n",
       " '   央视新闻客户端',\n",
       " '年月日，北京市第三中级人民法院一审公开开庭审理了辽宁省人民政府原副省长刘强受贿、破坏选举一案。',\n",
       " '北京市人民检察院第三分院起诉指控：年至年，被告人刘强利用担任中国石油天然气股份有限公司抚顺石化分公司总经理、辽宁省抚顺市人民政府市长、中共抚顺市委书记、辽宁省人民政府副省长等职务上的便利或职权、地位形成的便利条件，为有关单位和个人在企业经营、工程承揽、职务晋升等事项上提供帮助，直接或者通过特定关系人收受他人给予的财物，共计折合人民币万余元。年至年月，刘强为当选辽宁省人民政府副省长，利用担任中共抚顺市委书记等职权和影响，采取给予他人财物、打招呼等方式进行拉票贿选，破坏正常选举活动，情节严重，社会影响恶劣。',\n",
       " '庭审中，公诉机关出示了相关证据，刘强及其辩护人进行了质证，控辩双方在法庭的主持下充分发表了意见，刘强还进行了最后陈述，并当庭表示认罪、悔罪。全国、北京市两级人大代表、政协委员，人民法院特约监督员，新闻记者和各界群众人旁听了庭审。',\n",
       " '庭审结束后法庭宣布休庭，择期宣判。',\n",
       " '（原标题《辽宁省人民政府原副省长刘强受贿、破坏选举案一审开庭》，原作者奚丹霓。编辑 陈斌）',\n",
       " '本文由百家号作者上传并发布，百家号仅提供信息发布平台。文章仅代表作者个人观点，不代表百度立场。未经作者许可，不得转载。',\n",
       " '相关搜索',\n",
       " '湖北省人民政府',\n",
       " '人民法院诉讼查询',\n",
       " '浙江省人民政府',\n",
       " '滥用职权',\n",
       " '全国人民代表大会',\n",
       " '辽宁省',\n",
       " '浙江新闻',\n",
       " '百家号最近更新：',\n",
       " '简介最具权威的浙江第一新闻服务平台',\n",
       " '作者最新文章',\n",
       " '快讯丨朱婷登场！年女排世俱杯今晚开幕',\n",
       " '',\n",
       " '进中央机关工作，主要有哪些途径？',\n",
       " '',\n",
       " '宁波奉化一些村庄道路多次挖开重修 惠民工程反变“扰民”',\n",
       " '',\n",
       " '相关文章',\n",
       " '蓝盈莹《原来你还在这里》今晚收官 哭戏直戳人心',\n",
       " '环球网',\n",
       " '【聚焦】昆明公开审理两个涉黑涉恶团伙，涉嫌大规模',\n",
       " '澎湃新闻',\n",
       " '延安市户农村危房改造任务全面完成',\n",
       " '澎湃新闻',\n",
       " '快讯！外媒：法国总理将宣布暂停上调燃油税',\n",
       " '环球网',\n",
       " '【港股通大赛】对话大赛收益三甲常客老黄，疯狂奶爸谈高收益秘方',\n",
       " '腾讯财经',\n",
       " '设为首页©\\xa0\\xa0使用百度前必读\\xa0意见反馈\\xa0京证号',\n",
       " '京公网安备号',\n",
       " '返回顶部',\n",
       " '                                        ']"
      ]
     },
     "execution_count": 60,
     "metadata": {},
     "output_type": "execute_result"
    }
   ],
   "source": [
    "clean.split('\\n')"
   ]
  },
  {
   "cell_type": "code",
   "execution_count": null,
   "metadata": {},
   "outputs": [],
   "source": []
  }
 ],
 "metadata": {
  "kernelspec": {
   "display_name": "Python 3",
   "language": "python",
   "name": "python3"
  },
  "language_info": {
   "codemirror_mode": {
    "name": "ipython",
    "version": 3
   },
   "file_extension": ".py",
   "mimetype": "text/x-python",
   "name": "python",
   "nbconvert_exporter": "python",
   "pygments_lexer": "ipython3",
   "version": "3.6.0"
  }
 },
 "nbformat": 4,
 "nbformat_minor": 2
}
