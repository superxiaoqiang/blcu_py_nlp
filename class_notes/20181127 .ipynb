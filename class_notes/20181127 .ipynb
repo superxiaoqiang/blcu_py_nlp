{
 "cells": [
  {
   "cell_type": "code",
   "execution_count": 1,
   "metadata": {},
   "outputs": [
    {
     "ename": "ImportError",
     "evalue": "cannot import name 'ngram'",
     "output_type": "error",
     "traceback": [
      "\u001b[0;31m---------------------------------------------------------------------------\u001b[0m",
      "\u001b[0;31mImportError\u001b[0m                               Traceback (most recent call last)",
      "\u001b[0;32m<ipython-input-1-81404a8f8c0b>\u001b[0m in \u001b[0;36m<module>\u001b[0;34m()\u001b[0m\n\u001b[0;32m----> 1\u001b[0;31m \u001b[1;32mfrom\u001b[0m \u001b[0mnltk\u001b[0m\u001b[1;33m.\u001b[0m\u001b[0mutil\u001b[0m \u001b[1;32mimport\u001b[0m \u001b[0mngram\u001b[0m\u001b[1;33m\u001b[0m\u001b[0m\n\u001b[0m",
      "\u001b[0;31mImportError\u001b[0m: cannot import name 'ngram'"
     ]
    }
   ],
   "source": [
    "from nltk.util import ngram"
   ]
  },
  {
   "cell_type": "code",
   "execution_count": 2,
   "metadata": {},
   "outputs": [],
   "source": [
    "from nltk.util import ngrams"
   ]
  },
  {
   "cell_type": "code",
   "execution_count": 3,
   "metadata": {},
   "outputs": [
    {
     "ename": "SyntaxError",
     "evalue": "invalid syntax (<ipython-input-3-04529963a9ee>, line 1)",
     "output_type": "error",
     "traceback": [
      "\u001b[0;36m  File \u001b[0;32m\"<ipython-input-3-04529963a9ee>\"\u001b[0;36m, line \u001b[0;32m1\u001b[0m\n\u001b[0;31m    a = 'During his visit, Xi will exchange views with Spanish leaders so as to further develop the China-Spain comprehensive strategic partnership, promote the docking of the development strategies in the framework of China's Belt and Road Initiative, and strengthen bilateral cooperation in various fields, Chinese Ambassador to Spain Lyu Fan told media.'\u001b[0m\n\u001b[0m                                                                                                                                                                                                                                 ^\u001b[0m\n\u001b[0;31mSyntaxError\u001b[0m\u001b[0;31m:\u001b[0m invalid syntax\n"
     ]
    }
   ],
   "source": [
    "a = 'During his visit, Xi will exchange views with Spanish leaders so as to further develop the China-Spain comprehensive strategic partnership, promote the docking of the development strategies in the framework of China's Belt and Road Initiative, and strengthen bilateral cooperation in various fields, Chinese Ambassador to Spain Lyu Fan told media.'"
   ]
  },
  {
   "cell_type": "code",
   "execution_count": 4,
   "metadata": {},
   "outputs": [],
   "source": [
    "a = '''During his visit, Xi will exchange views with Spanish leaders so as to further develop the China-Spain comprehensive strategic partnership, promote the docking of the development strategies in the framework of China's Belt and Road Initiative, and strengthen bilateral cooperation in various fields, Chinese Ambassador to Spain Lyu Fan told media.'''"
   ]
  },
  {
   "cell_type": "code",
   "execution_count": 5,
   "metadata": {},
   "outputs": [],
   "source": [
    "alst = a.split(' ')"
   ]
  },
  {
   "cell_type": "code",
   "execution_count": 6,
   "metadata": {},
   "outputs": [
    {
     "data": {
      "text/plain": [
       "['During',\n",
       " 'his',\n",
       " 'visit,',\n",
       " 'Xi',\n",
       " 'will',\n",
       " 'exchange',\n",
       " 'views',\n",
       " 'with',\n",
       " 'Spanish',\n",
       " 'leaders',\n",
       " 'so',\n",
       " 'as',\n",
       " 'to',\n",
       " 'further',\n",
       " 'develop',\n",
       " 'the',\n",
       " 'China-Spain',\n",
       " 'comprehensive',\n",
       " 'strategic',\n",
       " 'partnership,',\n",
       " 'promote',\n",
       " 'the',\n",
       " 'docking',\n",
       " 'of',\n",
       " 'the',\n",
       " 'development',\n",
       " 'strategies',\n",
       " 'in',\n",
       " 'the',\n",
       " 'framework',\n",
       " 'of',\n",
       " \"China's\",\n",
       " 'Belt',\n",
       " 'and',\n",
       " 'Road',\n",
       " 'Initiative,',\n",
       " 'and',\n",
       " 'strengthen',\n",
       " 'bilateral',\n",
       " 'cooperation',\n",
       " 'in',\n",
       " 'various',\n",
       " 'fields,',\n",
       " 'Chinese',\n",
       " 'Ambassador',\n",
       " 'to',\n",
       " 'Spain',\n",
       " 'Lyu',\n",
       " 'Fan',\n",
       " 'told',\n",
       " 'media.']"
      ]
     },
     "execution_count": 6,
     "metadata": {},
     "output_type": "execute_result"
    }
   ],
   "source": [
    "alst"
   ]
  },
  {
   "cell_type": "code",
   "execution_count": 7,
   "metadata": {},
   "outputs": [
    {
     "ename": "SyntaxError",
     "evalue": "invalid syntax (<ipython-input-7-d0a4d2e040e2>, line 1)",
     "output_type": "error",
     "traceback": [
      "\u001b[0;36m  File \u001b[0;32m\"<ipython-input-7-d0a4d2e040e2>\"\u001b[0;36m, line \u001b[0;32m1\u001b[0m\n\u001b[0;31m    fromt nltk import tokenize\u001b[0m\n\u001b[0m             ^\u001b[0m\n\u001b[0;31mSyntaxError\u001b[0m\u001b[0;31m:\u001b[0m invalid syntax\n"
     ]
    }
   ],
   "source": [
    "fromt nltk import tokenize"
   ]
  },
  {
   "cell_type": "code",
   "execution_count": 8,
   "metadata": {},
   "outputs": [],
   "source": [
    "from nltk import word_tokenize"
   ]
  },
  {
   "cell_type": "code",
   "execution_count": 9,
   "metadata": {},
   "outputs": [],
   "source": [
    "wlst = word_tokenize(a)"
   ]
  },
  {
   "cell_type": "code",
   "execution_count": 10,
   "metadata": {},
   "outputs": [
    {
     "data": {
      "text/plain": [
       "['During',\n",
       " 'his',\n",
       " 'visit',\n",
       " ',',\n",
       " 'Xi',\n",
       " 'will',\n",
       " 'exchange',\n",
       " 'views',\n",
       " 'with',\n",
       " 'Spanish',\n",
       " 'leaders',\n",
       " 'so',\n",
       " 'as',\n",
       " 'to',\n",
       " 'further',\n",
       " 'develop',\n",
       " 'the',\n",
       " 'China-Spain',\n",
       " 'comprehensive',\n",
       " 'strategic',\n",
       " 'partnership',\n",
       " ',',\n",
       " 'promote',\n",
       " 'the',\n",
       " 'docking',\n",
       " 'of',\n",
       " 'the',\n",
       " 'development',\n",
       " 'strategies',\n",
       " 'in',\n",
       " 'the',\n",
       " 'framework',\n",
       " 'of',\n",
       " 'China',\n",
       " \"'s\",\n",
       " 'Belt',\n",
       " 'and',\n",
       " 'Road',\n",
       " 'Initiative',\n",
       " ',',\n",
       " 'and',\n",
       " 'strengthen',\n",
       " 'bilateral',\n",
       " 'cooperation',\n",
       " 'in',\n",
       " 'various',\n",
       " 'fields',\n",
       " ',',\n",
       " 'Chinese',\n",
       " 'Ambassador',\n",
       " 'to',\n",
       " 'Spain',\n",
       " 'Lyu',\n",
       " 'Fan',\n",
       " 'told',\n",
       " 'media',\n",
       " '.']"
      ]
     },
     "execution_count": 10,
     "metadata": {},
     "output_type": "execute_result"
    }
   ],
   "source": [
    "wlst"
   ]
  },
  {
   "cell_type": "code",
   "execution_count": 11,
   "metadata": {},
   "outputs": [],
   "source": [
    "b = ngrams(wlst, 2)"
   ]
  },
  {
   "cell_type": "code",
   "execution_count": 12,
   "metadata": {},
   "outputs": [
    {
     "data": {
      "text/plain": [
       "<generator object ngrams at 0x000000000909E468>"
      ]
     },
     "execution_count": 12,
     "metadata": {},
     "output_type": "execute_result"
    }
   ],
   "source": [
    "b"
   ]
  },
  {
   "cell_type": "code",
   "execution_count": 13,
   "metadata": {},
   "outputs": [
    {
     "name": "stdout",
     "output_type": "stream",
     "text": [
      "<generator object ngrams at 0x000000000909E468>\n",
      "<generator object ngrams at 0x000000000909E468>\n",
      "<generator object ngrams at 0x000000000909E468>\n",
      "<generator object ngrams at 0x000000000909E468>\n",
      "<generator object ngrams at 0x000000000909E468>\n",
      "<generator object ngrams at 0x000000000909E468>\n",
      "<generator object ngrams at 0x000000000909E468>\n",
      "<generator object ngrams at 0x000000000909E468>\n",
      "<generator object ngrams at 0x000000000909E468>\n",
      "<generator object ngrams at 0x000000000909E468>\n",
      "<generator object ngrams at 0x000000000909E468>\n",
      "<generator object ngrams at 0x000000000909E468>\n",
      "<generator object ngrams at 0x000000000909E468>\n",
      "<generator object ngrams at 0x000000000909E468>\n",
      "<generator object ngrams at 0x000000000909E468>\n",
      "<generator object ngrams at 0x000000000909E468>\n",
      "<generator object ngrams at 0x000000000909E468>\n",
      "<generator object ngrams at 0x000000000909E468>\n",
      "<generator object ngrams at 0x000000000909E468>\n",
      "<generator object ngrams at 0x000000000909E468>\n",
      "<generator object ngrams at 0x000000000909E468>\n",
      "<generator object ngrams at 0x000000000909E468>\n",
      "<generator object ngrams at 0x000000000909E468>\n",
      "<generator object ngrams at 0x000000000909E468>\n",
      "<generator object ngrams at 0x000000000909E468>\n",
      "<generator object ngrams at 0x000000000909E468>\n",
      "<generator object ngrams at 0x000000000909E468>\n",
      "<generator object ngrams at 0x000000000909E468>\n",
      "<generator object ngrams at 0x000000000909E468>\n",
      "<generator object ngrams at 0x000000000909E468>\n",
      "<generator object ngrams at 0x000000000909E468>\n",
      "<generator object ngrams at 0x000000000909E468>\n",
      "<generator object ngrams at 0x000000000909E468>\n",
      "<generator object ngrams at 0x000000000909E468>\n",
      "<generator object ngrams at 0x000000000909E468>\n",
      "<generator object ngrams at 0x000000000909E468>\n",
      "<generator object ngrams at 0x000000000909E468>\n",
      "<generator object ngrams at 0x000000000909E468>\n",
      "<generator object ngrams at 0x000000000909E468>\n",
      "<generator object ngrams at 0x000000000909E468>\n",
      "<generator object ngrams at 0x000000000909E468>\n",
      "<generator object ngrams at 0x000000000909E468>\n",
      "<generator object ngrams at 0x000000000909E468>\n",
      "<generator object ngrams at 0x000000000909E468>\n",
      "<generator object ngrams at 0x000000000909E468>\n",
      "<generator object ngrams at 0x000000000909E468>\n",
      "<generator object ngrams at 0x000000000909E468>\n",
      "<generator object ngrams at 0x000000000909E468>\n",
      "<generator object ngrams at 0x000000000909E468>\n",
      "<generator object ngrams at 0x000000000909E468>\n",
      "<generator object ngrams at 0x000000000909E468>\n",
      "<generator object ngrams at 0x000000000909E468>\n",
      "<generator object ngrams at 0x000000000909E468>\n",
      "<generator object ngrams at 0x000000000909E468>\n",
      "<generator object ngrams at 0x000000000909E468>\n",
      "<generator object ngrams at 0x000000000909E468>\n"
     ]
    }
   ],
   "source": [
    "for i in b: print(b)"
   ]
  },
  {
   "cell_type": "code",
   "execution_count": 14,
   "metadata": {},
   "outputs": [],
   "source": [
    "for i in b:\n",
    "    print(b)"
   ]
  },
  {
   "cell_type": "code",
   "execution_count": 15,
   "metadata": {},
   "outputs": [],
   "source": [
    "b = ngrams(wlst, 2)"
   ]
  },
  {
   "cell_type": "code",
   "execution_count": 16,
   "metadata": {},
   "outputs": [
    {
     "name": "stdout",
     "output_type": "stream",
     "text": [
      "<generator object ngrams at 0x000000000909E570>\n",
      "<generator object ngrams at 0x000000000909E570>\n",
      "<generator object ngrams at 0x000000000909E570>\n",
      "<generator object ngrams at 0x000000000909E570>\n",
      "<generator object ngrams at 0x000000000909E570>\n",
      "<generator object ngrams at 0x000000000909E570>\n",
      "<generator object ngrams at 0x000000000909E570>\n",
      "<generator object ngrams at 0x000000000909E570>\n",
      "<generator object ngrams at 0x000000000909E570>\n",
      "<generator object ngrams at 0x000000000909E570>\n",
      "<generator object ngrams at 0x000000000909E570>\n",
      "<generator object ngrams at 0x000000000909E570>\n",
      "<generator object ngrams at 0x000000000909E570>\n",
      "<generator object ngrams at 0x000000000909E570>\n",
      "<generator object ngrams at 0x000000000909E570>\n",
      "<generator object ngrams at 0x000000000909E570>\n",
      "<generator object ngrams at 0x000000000909E570>\n",
      "<generator object ngrams at 0x000000000909E570>\n",
      "<generator object ngrams at 0x000000000909E570>\n",
      "<generator object ngrams at 0x000000000909E570>\n",
      "<generator object ngrams at 0x000000000909E570>\n",
      "<generator object ngrams at 0x000000000909E570>\n",
      "<generator object ngrams at 0x000000000909E570>\n",
      "<generator object ngrams at 0x000000000909E570>\n",
      "<generator object ngrams at 0x000000000909E570>\n",
      "<generator object ngrams at 0x000000000909E570>\n",
      "<generator object ngrams at 0x000000000909E570>\n",
      "<generator object ngrams at 0x000000000909E570>\n",
      "<generator object ngrams at 0x000000000909E570>\n",
      "<generator object ngrams at 0x000000000909E570>\n",
      "<generator object ngrams at 0x000000000909E570>\n",
      "<generator object ngrams at 0x000000000909E570>\n",
      "<generator object ngrams at 0x000000000909E570>\n",
      "<generator object ngrams at 0x000000000909E570>\n",
      "<generator object ngrams at 0x000000000909E570>\n",
      "<generator object ngrams at 0x000000000909E570>\n",
      "<generator object ngrams at 0x000000000909E570>\n",
      "<generator object ngrams at 0x000000000909E570>\n",
      "<generator object ngrams at 0x000000000909E570>\n",
      "<generator object ngrams at 0x000000000909E570>\n",
      "<generator object ngrams at 0x000000000909E570>\n",
      "<generator object ngrams at 0x000000000909E570>\n",
      "<generator object ngrams at 0x000000000909E570>\n",
      "<generator object ngrams at 0x000000000909E570>\n",
      "<generator object ngrams at 0x000000000909E570>\n",
      "<generator object ngrams at 0x000000000909E570>\n",
      "<generator object ngrams at 0x000000000909E570>\n",
      "<generator object ngrams at 0x000000000909E570>\n",
      "<generator object ngrams at 0x000000000909E570>\n",
      "<generator object ngrams at 0x000000000909E570>\n",
      "<generator object ngrams at 0x000000000909E570>\n",
      "<generator object ngrams at 0x000000000909E570>\n",
      "<generator object ngrams at 0x000000000909E570>\n",
      "<generator object ngrams at 0x000000000909E570>\n",
      "<generator object ngrams at 0x000000000909E570>\n",
      "<generator object ngrams at 0x000000000909E570>\n"
     ]
    }
   ],
   "source": [
    "for i in b:\n",
    "    print(b)"
   ]
  },
  {
   "cell_type": "code",
   "execution_count": 17,
   "metadata": {},
   "outputs": [],
   "source": [
    "b = ngrams(wlst, 2)"
   ]
  },
  {
   "cell_type": "code",
   "execution_count": 18,
   "metadata": {},
   "outputs": [
    {
     "ename": "AttributeError",
     "evalue": "'generator' object has no attribute 'next'",
     "output_type": "error",
     "traceback": [
      "\u001b[0;31m---------------------------------------------------------------------------\u001b[0m",
      "\u001b[0;31mAttributeError\u001b[0m                            Traceback (most recent call last)",
      "\u001b[0;32m<ipython-input-18-573a563d926b>\u001b[0m in \u001b[0;36m<module>\u001b[0;34m()\u001b[0m\n\u001b[0;32m----> 1\u001b[0;31m \u001b[0mb\u001b[0m\u001b[1;33m.\u001b[0m\u001b[0mnext\u001b[0m\u001b[1;33m(\u001b[0m\u001b[1;33m)\u001b[0m\u001b[1;33m\u001b[0m\u001b[0m\n\u001b[0m",
      "\u001b[0;31mAttributeError\u001b[0m: 'generator' object has no attribute 'next'"
     ]
    }
   ],
   "source": [
    "b.next()"
   ]
  },
  {
   "cell_type": "code",
   "execution_count": 19,
   "metadata": {},
   "outputs": [],
   "source": [
    "b = ngrams(wlst, 2)"
   ]
  },
  {
   "cell_type": "code",
   "execution_count": 20,
   "metadata": {},
   "outputs": [],
   "source": [
    "bgrams = [i for i in b]"
   ]
  },
  {
   "cell_type": "code",
   "execution_count": 21,
   "metadata": {},
   "outputs": [
    {
     "data": {
      "text/plain": [
       "[('During', 'his'),\n",
       " ('his', 'visit'),\n",
       " ('visit', ','),\n",
       " (',', 'Xi'),\n",
       " ('Xi', 'will'),\n",
       " ('will', 'exchange'),\n",
       " ('exchange', 'views'),\n",
       " ('views', 'with'),\n",
       " ('with', 'Spanish'),\n",
       " ('Spanish', 'leaders'),\n",
       " ('leaders', 'so'),\n",
       " ('so', 'as'),\n",
       " ('as', 'to'),\n",
       " ('to', 'further'),\n",
       " ('further', 'develop'),\n",
       " ('develop', 'the'),\n",
       " ('the', 'China-Spain'),\n",
       " ('China-Spain', 'comprehensive'),\n",
       " ('comprehensive', 'strategic'),\n",
       " ('strategic', 'partnership'),\n",
       " ('partnership', ','),\n",
       " (',', 'promote'),\n",
       " ('promote', 'the'),\n",
       " ('the', 'docking'),\n",
       " ('docking', 'of'),\n",
       " ('of', 'the'),\n",
       " ('the', 'development'),\n",
       " ('development', 'strategies'),\n",
       " ('strategies', 'in'),\n",
       " ('in', 'the'),\n",
       " ('the', 'framework'),\n",
       " ('framework', 'of'),\n",
       " ('of', 'China'),\n",
       " ('China', \"'s\"),\n",
       " (\"'s\", 'Belt'),\n",
       " ('Belt', 'and'),\n",
       " ('and', 'Road'),\n",
       " ('Road', 'Initiative'),\n",
       " ('Initiative', ','),\n",
       " (',', 'and'),\n",
       " ('and', 'strengthen'),\n",
       " ('strengthen', 'bilateral'),\n",
       " ('bilateral', 'cooperation'),\n",
       " ('cooperation', 'in'),\n",
       " ('in', 'various'),\n",
       " ('various', 'fields'),\n",
       " ('fields', ','),\n",
       " (',', 'Chinese'),\n",
       " ('Chinese', 'Ambassador'),\n",
       " ('Ambassador', 'to'),\n",
       " ('to', 'Spain'),\n",
       " ('Spain', 'Lyu'),\n",
       " ('Lyu', 'Fan'),\n",
       " ('Fan', 'told'),\n",
       " ('told', 'media'),\n",
       " ('media', '.')]"
      ]
     },
     "execution_count": 21,
     "metadata": {},
     "output_type": "execute_result"
    }
   ],
   "source": [
    "bgrams"
   ]
  },
  {
   "cell_type": "code",
   "execution_count": 22,
   "metadata": {},
   "outputs": [],
   "source": [
    "t = ngrams(wlst, 3)"
   ]
  },
  {
   "cell_type": "code",
   "execution_count": 23,
   "metadata": {},
   "outputs": [],
   "source": [
    "trigrams = [i for i in t]"
   ]
  },
  {
   "cell_type": "code",
   "execution_count": 24,
   "metadata": {},
   "outputs": [
    {
     "name": "stdout",
     "output_type": "stream",
     "text": [
      "[('During', 'his', 'visit'), ('his', 'visit', ','), ('visit', ',', 'Xi'), (',', 'Xi', 'will'), ('Xi', 'will', 'exchange'), ('will', 'exchange', 'views'), ('exchange', 'views', 'with'), ('views', 'with', 'Spanish'), ('with', 'Spanish', 'leaders'), ('Spanish', 'leaders', 'so'), ('leaders', 'so', 'as'), ('so', 'as', 'to'), ('as', 'to', 'further'), ('to', 'further', 'develop'), ('further', 'develop', 'the'), ('develop', 'the', 'China-Spain'), ('the', 'China-Spain', 'comprehensive'), ('China-Spain', 'comprehensive', 'strategic'), ('comprehensive', 'strategic', 'partnership'), ('strategic', 'partnership', ','), ('partnership', ',', 'promote'), (',', 'promote', 'the'), ('promote', 'the', 'docking'), ('the', 'docking', 'of'), ('docking', 'of', 'the'), ('of', 'the', 'development'), ('the', 'development', 'strategies'), ('development', 'strategies', 'in'), ('strategies', 'in', 'the'), ('in', 'the', 'framework'), ('the', 'framework', 'of'), ('framework', 'of', 'China'), ('of', 'China', \"'s\"), ('China', \"'s\", 'Belt'), (\"'s\", 'Belt', 'and'), ('Belt', 'and', 'Road'), ('and', 'Road', 'Initiative'), ('Road', 'Initiative', ','), ('Initiative', ',', 'and'), (',', 'and', 'strengthen'), ('and', 'strengthen', 'bilateral'), ('strengthen', 'bilateral', 'cooperation'), ('bilateral', 'cooperation', 'in'), ('cooperation', 'in', 'various'), ('in', 'various', 'fields'), ('various', 'fields', ','), ('fields', ',', 'Chinese'), (',', 'Chinese', 'Ambassador'), ('Chinese', 'Ambassador', 'to'), ('Ambassador', 'to', 'Spain'), ('to', 'Spain', 'Lyu'), ('Spain', 'Lyu', 'Fan'), ('Lyu', 'Fan', 'told'), ('Fan', 'told', 'media'), ('told', 'media', '.')]\n"
     ]
    }
   ],
   "source": [
    "print(trigrams)"
   ]
  },
  {
   "cell_type": "code",
   "execution_count": 25,
   "metadata": {},
   "outputs": [
    {
     "data": {
      "text/plain": [
       "('During', 'his', 'visit')"
      ]
     },
     "execution_count": 25,
     "metadata": {},
     "output_type": "execute_result"
    }
   ],
   "source": [
    "trigrams[0]"
   ]
  },
  {
   "cell_type": "code",
   "execution_count": null,
   "metadata": {},
   "outputs": [],
   "source": []
  },
  {
   "cell_type": "code",
   "execution_count": null,
   "metadata": {},
   "outputs": [],
   "source": []
  }
 ],
 "metadata": {
  "kernelspec": {
   "display_name": "Python 3",
   "language": "python",
   "name": "python3"
  },
  "language_info": {
   "codemirror_mode": {
    "name": "ipython",
    "version": 3
   },
   "file_extension": ".py",
   "mimetype": "text/x-python",
   "name": "python",
   "nbconvert_exporter": "python",
   "pygments_lexer": "ipython3",
   "version": "3.6.0"
  }
 },
 "nbformat": 4,
 "nbformat_minor": 2
}
