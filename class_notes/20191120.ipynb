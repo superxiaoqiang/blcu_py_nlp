{
 "cells": [
  {
   "cell_type": "code",
   "execution_count": 2,
   "metadata": {},
   "outputs": [
    {
     "name": "stdout",
     "output_type": "stream",
     "text": [
      "('图文', '/read/pic/')\n",
      "('时尚', '/read/ss/')\n",
      "('双语', '/read/news/')\n",
      "('职场', '/read/news/work/')\n",
      "('校园', '/read/news/Economics/')\n",
      "('体育', '/read/news/Sports/')\n",
      "('科技', '/read/news/keji/')\n",
      "('时事', '/read/news/politics/')\n",
      "('娱乐', '/read/news/entertainment/')\n",
      "('经济', '/read/news/economy/')\n",
      "('社会', '/read/news/shehui/')\n",
      "('故事', '/read/essay/')\n",
      "('小说', '/read/story/')\n",
      "('海外', '/read/culture/')\n",
      "('电子书', '/Soft/yuanzhu/')\n"
     ]
    }
   ],
   "source": [
    "import requests\n",
    "import random\n",
    "import time\n",
    "from pyquery import PyQuery as pq\n",
    "\n",
    "class ProxyPool():\n",
    "    def __init__(self):\n",
    "        # 初始化读取proxy站点配置文件\n",
    "\n",
    "        # 初始化读取proxy池存储位置（文件、数据库、NoSQL...)\n",
    "\n",
    "        # 定时扫描proxy可用性、删除失效代理\n",
    "        pass\n",
    "\n",
    "    def check_a_proxy(self):\n",
    "        pass\n",
    "\n",
    "class KKBaseDownloader():\n",
    "    def __init__(self):\n",
    "        # 初始化代理池对象\n",
    "        self.proxyp = ProxyPool()\n",
    "        # 初始化headers配置列表文件路径\n",
    "        self.headers_cfg_pth=''\n",
    "        # 初始化最小、最大暂停间隔\n",
    "        self.interval_min_max = (5,30)\n",
    "        pass\n",
    "    \n",
    "    def gen_an_ua(self):\n",
    "        self.ua_list = [\"Mozilla/4.0 (compatible; MSIE 6.0; Windows NT 5.1; SV1; AcooBrowser; .NET CLR 1.1.4322; .NET CLR 2.0.50727)\",\n",
    "        \"Mozilla/4.0 (compatible; MSIE 7.0; Windows NT 6.0; Acoo Browser; SLCC1; .NET CLR 2.0.50727; Media Center PC 5.0; .NET CLR 3.0.04506)\",\n",
    "        \"Mozilla/4.0 (compatible; MSIE 7.0; AOL 9.5; AOLBuild 4337.35; Windows NT 5.1; .NET CLR 1.1.4322; .NET CLR 2.0.50727)\",\n",
    "        \"Mozilla/5.0 (Windows; U; MSIE 9.0; Windows NT 9.0; en-US)\",\n",
    "        \"Mozilla/5.0 (compatible; MSIE 9.0; Windows NT 6.1; Win64; x64; Trident/5.0; .NET CLR 3.5.30729; .NET CLR 3.0.30729; .NET CLR 2.0.50727; Media Center PC 6.0)\",\n",
    "        \"Mozilla/5.0 (compatible; MSIE 8.0; Windows NT 6.0; Trident/4.0; WOW64; Trident/4.0; SLCC2; .NET CLR 2.0.50727; .NET CLR 3.5.30729; .NET CLR 3.0.30729; .NET CLR 1.0.3705; .NET CLR 1.1.4322)\",\n",
    "        \"Mozilla/4.0 (compatible; MSIE 7.0b; Windows NT 5.2; .NET CLR 1.1.4322; .NET CLR 2.0.50727; InfoPath.2; .NET CLR 3.0.04506.30)\",\n",
    "        \"Mozilla/5.0 (Windows; U; Windows NT 5.1; zh-CN) AppleWebKit/523.15 (KHTML, like Gecko, Safari/419.3) Arora/0.3 (Change: 287 c9dfb30)\",\n",
    "        \"Mozilla/5.0 (X11; U; Linux; en-US) AppleWebKit/527+ (KHTML, like Gecko, Safari/419.3) Arora/0.6\",\n",
    "        \"Mozilla/5.0 (Windows; U; Windows NT 5.1; en-US; rv:1.8.1.2pre) Gecko/20070215 K-Ninja/2.1.1\",\n",
    "        \"Mozilla/5.0 (Windows; U; Windows NT 5.1; zh-CN; rv:1.9) Gecko/20080705 Firefox/3.0 Kapiko/3.0\"]\n",
    "\n",
    "        return random.choice(self.ua_list)\n",
    "\n",
    "    def get_a_proxy(self):\n",
    "        proxys = [\n",
    "\n",
    "        ]\n",
    "        idx = random.randint(1,len(proxys))\n",
    "        return proxys[idx]\n",
    "\n",
    "class KKNavDl(KKBaseDownloader):\n",
    "    def __init__(self,init_url):\n",
    "        super(KKNavDl,self).__init__()\n",
    "        self.url_tgt = init_url\n",
    "\n",
    "    def fetch_html(self):\n",
    "        ua = self.gen_an_ua()\n",
    "        headers = {'User-Agent':ua}\n",
    "        # _proxy = self.get_a_proxy()\n",
    "        # r = requests.get(self.url_tgt,proxies=_proxy)\n",
    "        r = requests.get(self.url_tgt,headers=headers)\n",
    "        if r.status_code==200:\n",
    "            if r.encoding == 'ISO-8859-1':\n",
    "                encodings = requests.utils.get_encodings_from_content(r.text)\n",
    "                if encodings:\n",
    "                    encoding = encodings[0]\n",
    "                else:\n",
    "                    encoding = r.apparent_encoding\n",
    "            encode_content = r.content.decode(encoding, 'replace').encode('utf-8', 'replace')\n",
    "            return encode_content\n",
    "        else:\n",
    "            return ''\n",
    "\n",
    "class KKBaseExtractor():\n",
    "    def __init__(self,html='<html></html>'):\n",
    "        self.doc = pq(html)\n",
    "\n",
    "class KKNavExt(KKBaseExtractor):\n",
    "    def __init__(self,html):\n",
    "        super(KKNavExt,self).__init__(html)\n",
    "\n",
    "    def parse(self):\n",
    "        lis = self.doc('.navtab>ul>li')\n",
    "        nav_links = []\n",
    "        for i in range(3,len(lis)):\n",
    "            pq_li = pq(lis[i])\n",
    "            nav_links.append((pq_li.text(),pq_li.find('a').attr('href')))\n",
    "        return nav_links\n",
    "\n",
    "\n",
    "navDl = KKNavDl(init_url='http://www.kekenet.com/read/news/')\n",
    "html = navDl.fetch_html()\n",
    "navExt = KKNavExt(html)\n",
    "nav_links = navExt.parse()\n",
    "for lnk in nav_links:\n",
    "    print(lnk)"
   ]
  },
  {
   "cell_type": "code",
   "execution_count": 4,
   "metadata": {},
   "outputs": [
    {
     "name": "stdout",
     "output_type": "stream",
     "text": [
      "((1, '微软在日本试行4天工作制,工作效率暴增!', 'Kelly', 'chinadaily', datetime.datetime(2019, 11, 6, 18, 6), 'A growing number of smaller companies are adopting a four-day workweek. Now the results of a recent trial at Microsoft (MSFT) suggest it could work even for the biggest businesses.', '越来越多中小公司开始采用四天工作制。如今微软近日的试验结果显示，就算在大企业也能见效。'), (2, '你一开口,面试官就知道你是哪种人', 'Kelly', 'chinadaily', datetime.datetime(2019, 10, 24, 15, 0), 'Job candidates are judged on their social status just a few seconds after they start to speak, according to a new study.', '一项新研究发现，求职者开口说话几秒钟后，面试官就已经对他们的社会地位做出了判断。'), (3, '近一半的上班族因为压力太大而濒临崩溃', 'Kelly', 'chinadaily', datetime.datetime(2019, 10, 12, 7, 0), \"Nearly half of all employees are close to 'breaking point' at work due to increased stress levels. A survey of 2,000 professionals found the average working adult feels stressed for almost a third of their working day.\", '近一半的上班族因为压力增大而濒临崩溃。一项针对2000名职场人士的研究发现：工作日期间，每位上班族平均有三分之一的时间感到心力交瘁。'))\n"
     ]
    }
   ],
   "source": [
    "import pymysql\n",
    "conn = pymysql.connect('localhost','xiaoqiang','123456','kekenet')\n",
    "cur = conn.cursor()\n",
    "sql = 'set names utf8'\n",
    "cur.execute(sql)\n",
    "\n",
    "sql = 'select * from article'\n",
    "cur.execute(sql)\n",
    "\n",
    "dat = cur.fetchall()\n",
    "print(dat)"
   ]
  },
  {
   "cell_type": "code",
   "execution_count": 5,
   "metadata": {},
   "outputs": [
    {
     "name": "stdout",
     "output_type": "stream",
     "text": [
      "删除了一条数据:\n",
      "((1, '微软在日本试行4天工作制,工作效率暴增!', 'Kelly', 'chinadaily', datetime.datetime(2019, 11, 6, 18, 6), 'A growing number of smaller companies are adopting a four-day workweek. Now the results of a recent trial at Microsoft (MSFT) suggest it could work even for the biggest businesses.', '越来越多中小公司开始采用四天工作制。如今微软近日的试验结果显示，就算在大企业也能见效。'), (2, '你一开口,面试官就知道你是哪种人', 'Kelly', 'chinadaily', datetime.datetime(2019, 10, 24, 15, 0), 'Job candidates are judged on their social status just a few seconds after they start to speak, according to a new study.', '一项新研究发现，求职者开口说话几秒钟后，面试官就已经对他们的社会地位做出了判断。'))\n"
     ]
    }
   ],
   "source": [
    "sql ='delete from article where id = 3';\n",
    "cur.execute(sql)\n",
    "sql = 'select * from article'\n",
    "cur.execute(sql)\n",
    "data = cur.fetchall()\n",
    "print('删除了一条数据:')\n",
    "print(data)"
   ]
  },
  {
   "cell_type": "code",
   "execution_count": 6,
   "metadata": {},
   "outputs": [],
   "source": [
    "conn.commit()\n",
    "# 关闭光标对象\n",
    "cur.close()\n",
    "# 关闭数据库连接\n",
    "conn.close()"
   ]
  },
  {
   "cell_type": "code",
   "execution_count": 7,
   "metadata": {},
   "outputs": [
    {
     "data": {
      "text/plain": [
       "0"
      ]
     },
     "execution_count": 7,
     "metadata": {},
     "output_type": "execute_result"
    }
   ],
   "source": [
    "conn = pymysql.connect('localhost','xiaoqiang','123456','kekenet')\n",
    "cur = conn.cursor()\n",
    "sql = 'set names utf8'\n",
    "cur.execute(sql)"
   ]
  },
  {
   "cell_type": "code",
   "execution_count": 10,
   "metadata": {},
   "outputs": [
    {
     "name": "stdout",
     "output_type": "stream",
     "text": [
      "插入了一条数据:\n",
      "((1, '微软在日本试行4天工作制,工作效率暴增!', 'Kelly', 'chinadaily', datetime.datetime(2019, 11, 6, 18, 6), 'A growing number of smaller companies are adopting a four-day workweek. Now the results of a recent trial at Microsoft (MSFT) suggest it could work even for the biggest businesses.', '越来越多中小公司开始采用四天工作制。如今微软近日的试验结果显示，就算在大企业也能见效。'), (2, '你一开口,面试官就知道你是哪种人', 'Kelly', 'chinadaily', datetime.datetime(2019, 10, 24, 15, 0), 'Job candidates are judged on their social status just a few seconds after they start to speak, according to a new study.', '一项新研究发现，求职者开口说话几秒钟后，面试官就已经对他们的社会地位做出了判断。'), (3, '近一半的上班族因为压力太大而濒临崩溃', 'Kelly', 'chinadaily', datetime.datetime(2019, 10, 12, 7, 0), 'Nearly half of all employees are close to breaking point at work due to increased stress levels. A survey of 2000 professionals found the average working adult feels stressed for almost a third of their working day.', '近一半的上班族因为压力增大而濒临崩溃。一项针对2000名职场人士的研究发现：工作日期间，每位上班族平均有三分之一的时间感到心力交瘁。'))\n",
      "\n",
      "\n"
     ]
    }
   ],
   "source": [
    "sql = 'insert into article (id, title, editor, source, datetime, txt_en, txt_cn) values (3, \"近一半的上班族因为压力太大而濒临崩溃\", \"Kelly\", \"chinadaily\", \"2019-10-12 07:00:00\", \"Nearly half of all employees are close to breaking point at work due to increased stress levels. A survey of 2000 professionals found the average working adult feels stressed for almost a third of their working day.\", \"近一半的上班族因为压力增大而濒临崩溃。一项针对2000名职场人士的研究发现：工作日期间，每位上班族平均有三分之一的时间感到心力交瘁。\")';\n",
    "cur.execute(sql)\n",
    "sql = 'select * from article'\n",
    "cur.execute(sql)\n",
    "data = cur.fetchall()\n",
    "print('插入了一条数据:')\n",
    "print(data)\n",
    "print(\"\\n\")"
   ]
  },
  {
   "cell_type": "code",
   "execution_count": 11,
   "metadata": {},
   "outputs": [],
   "source": [
    "conn.commit()"
   ]
  },
  {
   "cell_type": "code",
   "execution_count": 12,
   "metadata": {},
   "outputs": [
    {
     "name": "stdout",
     "output_type": "stream",
     "text": [
      "插入了一条数据:\n",
      "((1, '微软在日本试行4天工作制,工作效率暴增!', 'Kelly', 'chinadaily', datetime.datetime(2019, 11, 6, 18, 6), 'A growing number of smaller companies are adopting a four-day workweek. Now the results of a recent trial at Microsoft (MSFT) suggest it could work even for the biggest businesses.', '越来越多中小公司开始采用四天工作制。如今微软近日的试验结果显示，就算在大企业也能见效。'), (2, '你一开口,面试官就知道你是哪种人', 'Kelly', 'chinadaily', datetime.datetime(2019, 10, 24, 15, 0), 'Job candidates are judged on their social status just a few seconds after they start to speak, according to a new study.', '一项新研究发现，求职者开口说话几秒钟后，面试官就已经对他们的社会地位做出了判断。'), (3, '近一半的上班族因为压力太大而濒临崩溃', 'Lily', 'chinadaily', datetime.datetime(2019, 10, 12, 7, 0), 'Nearly half of all employees are close to breaking point at work due to increased stress levels. A survey of 2000 professionals found the average working adult feels stressed for almost a third of their working day.', '近一半的上班族因为压力增大而濒临崩溃。一项针对2000名职场人士的研究发现：工作日期间，每位上班族平均有三分之一的时间感到心力交瘁。'))\n",
      "\n",
      "\n"
     ]
    }
   ],
   "source": [
    "sql = 'update article set editor=\"Lily\" where id=3';\n",
    "cur.execute(sql)\n",
    "sql = 'select * from article'\n",
    "cur.execute(sql)\n",
    "data = cur.fetchall()\n",
    "print('插入了一条数据:')\n",
    "print(data)\n",
    "print(\"\\n\")\n",
    "conn.commit()\n",
    "conn.close()"
   ]
  },
  {
   "cell_type": "code",
   "execution_count": 13,
   "metadata": {},
   "outputs": [
    {
     "name": "stdout",
     "output_type": "stream",
     "text": [
      "{'_id': ObjectId('5dd49b4657f4946ef830f8be'), 'title': 'this is a title', 'txt_en': 'english', 'txt_cn': '中文'}\n"
     ]
    }
   ],
   "source": [
    "import pymongo\n",
    "client = pymongo.MongoClient('127.0.0.1',27017)\n",
    "db=client['kekenet']\n",
    "col=db['article']\n",
    "\n",
    "dat=col.find_one()\n",
    "print(dat)"
   ]
  },
  {
   "cell_type": "code",
   "execution_count": 14,
   "metadata": {},
   "outputs": [
    {
     "data": {
      "text/plain": [
       "<pymongo.results.InsertOneResult at 0x5fb2c60>"
      ]
     },
     "execution_count": 14,
     "metadata": {},
     "output_type": "execute_result"
    }
   ],
   "source": [
    "a = {\n",
    "    'title':'微软在日本试行4天工作制,工作效率暴增!',\n",
    "    'txt_eng':'A growing number of smaller companies are adopting a four-day workweek. Now the results of a recent trial at Microsoft (MSFT) suggest it could work even for the biggest businesses.',\n",
    "    'txt_cn':'越来越多中小公司开始采用四天工作制。如今微软近日的试验结果显示，就算在大企业也能见效。'\n",
    "}\n",
    "col.insert_one(a)"
   ]
  },
  {
   "cell_type": "code",
   "execution_count": 15,
   "metadata": {},
   "outputs": [
    {
     "name": "stdout",
     "output_type": "stream",
     "text": [
      "{'_id': ObjectId('5dd49b4657f4946ef830f8be'), 'title': 'this is a title', 'txt_en': 'english', 'txt_cn': '中文'}\n",
      "{'_id': ObjectId('5dd49c2919b0f38c1f4be08c'), 'title': '微软在日本试行4天工作制,工作效率暴增!', 'txt_eng': 'A growing number of smaller companies are adopting a four-day workweek. Now the results of a recent trial at Microsoft (MSFT) suggest it could work even for the biggest businesses.', 'txt_cn': '越来越多中小公司开始采用四天工作制。如今微软近日的试验结果显示，就算在大企业也能见效。'}\n"
     ]
    }
   ],
   "source": [
    "dat=col.find()\n",
    "for d in dat:\n",
    "    print(d)"
   ]
  },
  {
   "cell_type": "code",
   "execution_count": 16,
   "metadata": {},
   "outputs": [
    {
     "data": {
      "text/plain": [
       "<pymongo.results.InsertManyResult at 0x459a4e0>"
      ]
     },
     "execution_count": 16,
     "metadata": {},
     "output_type": "execute_result"
    }
   ],
   "source": [
    "_as = [\n",
    "    {\n",
    "        'title':'你一开口,面试官就知道你是哪种人',\n",
    "        'txt_eng':'Job candidates are judged on their social status just a few seconds after they start to speak, according to a new study.',\n",
    "        'txt_cn':'一项新研究发现，求职者开口说话几秒钟后，面试官就已经对他们的社会地位做出了判断。'\n",
    "    },\n",
    "    {\n",
    "        'title':'近一半的上班族因为压力太大而濒临崩溃',\n",
    "        'txt_eng':'Nearly half of all employees are close to \"breaking point\" at work due to increased stress levels. A survey of 2,000 professionals found the average working adult feels stressed for almost a third of their working day.',\n",
    "        'txt_cn':'近一半的上班族因为压力增大而濒临崩溃。一项针对2000名职场人士的研究发现：工作日期间，每位上班族平均有三分之一的时间感到心力交瘁。'\n",
    "    }\n",
    "]\n",
    "col.insert_many(_as)"
   ]
  },
  {
   "cell_type": "code",
   "execution_count": 17,
   "metadata": {},
   "outputs": [
    {
     "name": "stdout",
     "output_type": "stream",
     "text": [
      "{'_id': ObjectId('5dd49b4657f4946ef830f8be'), 'title': 'this is a title', 'txt_en': 'english', 'txt_cn': '中文'}\n",
      "{'_id': ObjectId('5dd49c2919b0f38c1f4be08c'), 'title': '微软在日本试行4天工作制,工作效率暴增!', 'txt_eng': 'A growing number of smaller companies are adopting a four-day workweek. Now the results of a recent trial at Microsoft (MSFT) suggest it could work even for the biggest businesses.', 'txt_cn': '越来越多中小公司开始采用四天工作制。如今微软近日的试验结果显示，就算在大企业也能见效。'}\n",
      "{'_id': ObjectId('5dd49c5e19b0f38c1f4be08d'), 'title': '你一开口,面试官就知道你是哪种人', 'txt_eng': 'Job candidates are judged on their social status just a few seconds after they start to speak, according to a new study.', 'txt_cn': '一项新研究发现，求职者开口说话几秒钟后，面试官就已经对他们的社会地位做出了判断。'}\n",
      "{'_id': ObjectId('5dd49c5e19b0f38c1f4be08e'), 'title': '近一半的上班族因为压力太大而濒临崩溃', 'txt_eng': 'Nearly half of all employees are close to \"breaking point\" at work due to increased stress levels. A survey of 2,000 professionals found the average working adult feels stressed for almost a third of their working day.', 'txt_cn': '近一半的上班族因为压力增大而濒临崩溃。一项针对2000名职场人士的研究发现：工作日期间，每位上班族平均有三分之一的时间感到心力交瘁。'}\n"
     ]
    }
   ],
   "source": [
    "dat=col.find()\n",
    "for d in dat:\n",
    "    print(d)"
   ]
  },
  {
   "cell_type": "code",
   "execution_count": null,
   "metadata": {},
   "outputs": [],
   "source": []
  }
 ],
 "metadata": {
  "kernelspec": {
   "display_name": "Python 3",
   "language": "python",
   "name": "python3"
  },
  "language_info": {
   "codemirror_mode": {
    "name": "ipython",
    "version": 3
   },
   "file_extension": ".py",
   "mimetype": "text/x-python",
   "name": "python",
   "nbconvert_exporter": "python",
   "pygments_lexer": "ipython3",
   "version": "3.7.3"
  }
 },
 "nbformat": 4,
 "nbformat_minor": 2
}
