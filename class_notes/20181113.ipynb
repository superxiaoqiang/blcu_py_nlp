{
 "cells": [
  {
   "cell_type": "code",
   "execution_count": 1,
   "metadata": {},
   "outputs": [],
   "source": [
    "import re"
   ]
  },
  {
   "cell_type": "code",
   "execution_count": 2,
   "metadata": {},
   "outputs": [],
   "source": [
    "data = {}"
   ]
  },
  {
   "cell_type": "code",
   "execution_count": 3,
   "metadata": {},
   "outputs": [],
   "source": [
    "data[u'成语'] = u'八两半斤'"
   ]
  },
  {
   "cell_type": "code",
   "execution_count": 4,
   "metadata": {},
   "outputs": [],
   "source": [
    "data[u'拼音语'] = u'bā liǎng bàn jīn'"
   ]
  },
  {
   "cell_type": "code",
   "execution_count": 5,
   "metadata": {},
   "outputs": [
    {
     "data": {
      "text/plain": [
       "'\\r'"
      ]
     },
     "execution_count": 5,
     "metadata": {},
     "output_type": "execute_result"
    }
   ],
   "source": [
    "'\\r'"
   ]
  },
  {
   "cell_type": "code",
   "execution_count": 6,
   "metadata": {},
   "outputs": [
    {
     "data": {
      "text/plain": [
       "'\\n'"
      ]
     },
     "execution_count": 6,
     "metadata": {},
     "output_type": "execute_result"
    }
   ],
   "source": [
    "'\\n'"
   ]
  },
  {
   "cell_type": "code",
   "execution_count": 7,
   "metadata": {},
   "outputs": [
    {
     "name": "stdout",
     "output_type": "stream",
     "text": [
      "Help on function match in module re:\n",
      "\n",
      "match(pattern, string, flags=0)\n",
      "    Try to apply the pattern at the start of the string, returning\n",
      "    a match object, or None if no match was found.\n",
      "\n"
     ]
    }
   ],
   "source": [
    "help(re.match)"
   ]
  },
  {
   "cell_type": "code",
   "execution_count": 8,
   "metadata": {},
   "outputs": [
    {
     "data": {
      "text/plain": [
       "<_sre.SRE_Match object; span=(0, 3), match='cat'>"
      ]
     },
     "execution_count": 8,
     "metadata": {},
     "output_type": "execute_result"
    }
   ],
   "source": [
    "re.match('ca*t','cat')"
   ]
  },
  {
   "cell_type": "code",
   "execution_count": 9,
   "metadata": {},
   "outputs": [],
   "source": [
    "m = re.match('ca*t','cat')"
   ]
  },
  {
   "cell_type": "code",
   "execution_count": 10,
   "metadata": {},
   "outputs": [
    {
     "data": {
      "text/plain": [
       "'cat'"
      ]
     },
     "execution_count": 10,
     "metadata": {},
     "output_type": "execute_result"
    }
   ],
   "source": [
    "m.group(0)"
   ]
  },
  {
   "cell_type": "code",
   "execution_count": 11,
   "metadata": {},
   "outputs": [],
   "source": [
    "m = re.match('ca*t','ct')"
   ]
  },
  {
   "cell_type": "code",
   "execution_count": 12,
   "metadata": {},
   "outputs": [
    {
     "data": {
      "text/plain": [
       "'ct'"
      ]
     },
     "execution_count": 12,
     "metadata": {},
     "output_type": "execute_result"
    }
   ],
   "source": [
    "m.group(0)"
   ]
  },
  {
   "cell_type": "code",
   "execution_count": 13,
   "metadata": {},
   "outputs": [],
   "source": [
    "m = re.match('ca*t','cbt')"
   ]
  },
  {
   "cell_type": "code",
   "execution_count": 14,
   "metadata": {},
   "outputs": [
    {
     "ename": "AttributeError",
     "evalue": "'NoneType' object has no attribute 'group'",
     "output_type": "error",
     "traceback": [
      "\u001b[0;31m---------------------------------------------------------------------------\u001b[0m",
      "\u001b[0;31mAttributeError\u001b[0m                            Traceback (most recent call last)",
      "\u001b[0;32m<ipython-input-14-13ebfe776708>\u001b[0m in \u001b[0;36m<module>\u001b[0;34m()\u001b[0m\n\u001b[0;32m----> 1\u001b[0;31m \u001b[0mm\u001b[0m\u001b[1;33m.\u001b[0m\u001b[0mgroup\u001b[0m\u001b[1;33m(\u001b[0m\u001b[1;36m0\u001b[0m\u001b[1;33m)\u001b[0m\u001b[1;33m\u001b[0m\u001b[0m\n\u001b[0m",
      "\u001b[0;31mAttributeError\u001b[0m: 'NoneType' object has no attribute 'group'"
     ]
    }
   ],
   "source": [
    "m.group(0)"
   ]
  },
  {
   "cell_type": "code",
   "execution_count": 15,
   "metadata": {},
   "outputs": [],
   "source": [
    "m"
   ]
  },
  {
   "cell_type": "code",
   "execution_count": 16,
   "metadata": {},
   "outputs": [
    {
     "data": {
      "text/plain": [
       "NoneType"
      ]
     },
     "execution_count": 16,
     "metadata": {},
     "output_type": "execute_result"
    }
   ],
   "source": [
    "type(m)"
   ]
  },
  {
   "cell_type": "code",
   "execution_count": 17,
   "metadata": {},
   "outputs": [],
   "source": [
    "if m: m.group(0)"
   ]
  },
  {
   "cell_type": "code",
   "execution_count": 18,
   "metadata": {},
   "outputs": [],
   "source": [
    "m = re.match('ca*t','ct')"
   ]
  },
  {
   "cell_type": "code",
   "execution_count": 19,
   "metadata": {},
   "outputs": [],
   "source": [
    "if m: m.group(0)"
   ]
  },
  {
   "cell_type": "code",
   "execution_count": 20,
   "metadata": {},
   "outputs": [
    {
     "name": "stdout",
     "output_type": "stream",
     "text": [
      "ct\n"
     ]
    }
   ],
   "source": [
    "if m: print (m.group(0))"
   ]
  },
  {
   "cell_type": "code",
   "execution_count": 21,
   "metadata": {},
   "outputs": [],
   "source": [
    "m = re.match('ca*t','cbt')"
   ]
  },
  {
   "cell_type": "code",
   "execution_count": 22,
   "metadata": {},
   "outputs": [],
   "source": [
    "if m: print (m.group(0))"
   ]
  },
  {
   "cell_type": "code",
   "execution_count": 23,
   "metadata": {},
   "outputs": [],
   "source": [
    "str1 = 'hello world'"
   ]
  },
  {
   "cell_type": "code",
   "execution_count": 24,
   "metadata": {},
   "outputs": [],
   "source": [
    "pattern = 'hello (\\w+)'"
   ]
  },
  {
   "cell_type": "code",
   "execution_count": 25,
   "metadata": {},
   "outputs": [],
   "source": [
    "m=re.match(pattern ,str1)"
   ]
  },
  {
   "cell_type": "code",
   "execution_count": 26,
   "metadata": {},
   "outputs": [
    {
     "data": {
      "text/plain": [
       "<_sre.SRE_Match object; span=(0, 11), match='hello world'>"
      ]
     },
     "execution_count": 26,
     "metadata": {},
     "output_type": "execute_result"
    }
   ],
   "source": [
    "m"
   ]
  },
  {
   "cell_type": "code",
   "execution_count": 27,
   "metadata": {},
   "outputs": [
    {
     "data": {
      "text/plain": [
       "'hello world'"
      ]
     },
     "execution_count": 27,
     "metadata": {},
     "output_type": "execute_result"
    }
   ],
   "source": [
    "m.group(0)"
   ]
  },
  {
   "cell_type": "code",
   "execution_count": 28,
   "metadata": {},
   "outputs": [
    {
     "data": {
      "text/plain": [
       "'world'"
      ]
     },
     "execution_count": 28,
     "metadata": {},
     "output_type": "execute_result"
    }
   ],
   "source": [
    "m.group(1)"
   ]
  },
  {
   "cell_type": "code",
   "execution_count": 29,
   "metadata": {},
   "outputs": [],
   "source": [
    "str2 = 'if m: print (m.group(0))'"
   ]
  },
  {
   "cell_type": "code",
   "execution_count": 30,
   "metadata": {},
   "outputs": [],
   "source": [
    "pattern = '(<\\w+>)(\\w+)(</\\w+>)'"
   ]
  },
  {
   "cell_type": "code",
   "execution_count": 31,
   "metadata": {},
   "outputs": [],
   "source": [
    "m = re.match(pattern, str2)"
   ]
  },
  {
   "cell_type": "code",
   "execution_count": 33,
   "metadata": {},
   "outputs": [],
   "source": [
    "str2 = 'aafsd<div>dsfsdfa</div>'"
   ]
  },
  {
   "cell_type": "code",
   "execution_count": 34,
   "metadata": {},
   "outputs": [],
   "source": [
    "m = re.match(pattern, str2)"
   ]
  },
  {
   "cell_type": "code",
   "execution_count": 35,
   "metadata": {},
   "outputs": [],
   "source": [
    "m"
   ]
  },
  {
   "cell_type": "code",
   "execution_count": 36,
   "metadata": {},
   "outputs": [],
   "source": [
    "str2 = 'aafsd<div>dsfsdfa</div>'"
   ]
  },
  {
   "cell_type": "code",
   "execution_count": 37,
   "metadata": {},
   "outputs": [],
   "source": [
    "pattern = '(<\\w+>)(\\w+)(</\\w+>)'"
   ]
  },
  {
   "cell_type": "code",
   "execution_count": 38,
   "metadata": {},
   "outputs": [],
   "source": [
    "m = re.match(pattern, str2)"
   ]
  },
  {
   "cell_type": "code",
   "execution_count": 39,
   "metadata": {},
   "outputs": [
    {
     "ename": "AttributeError",
     "evalue": "'NoneType' object has no attribute 'group'",
     "output_type": "error",
     "traceback": [
      "\u001b[0;31m---------------------------------------------------------------------------\u001b[0m",
      "\u001b[0;31mAttributeError\u001b[0m                            Traceback (most recent call last)",
      "\u001b[0;32m<ipython-input-39-13ebfe776708>\u001b[0m in \u001b[0;36m<module>\u001b[0;34m()\u001b[0m\n\u001b[0;32m----> 1\u001b[0;31m \u001b[0mm\u001b[0m\u001b[1;33m.\u001b[0m\u001b[0mgroup\u001b[0m\u001b[1;33m(\u001b[0m\u001b[1;36m0\u001b[0m\u001b[1;33m)\u001b[0m\u001b[1;33m\u001b[0m\u001b[0m\n\u001b[0m",
      "\u001b[0;31mAttributeError\u001b[0m: 'NoneType' object has no attribute 'group'"
     ]
    }
   ],
   "source": [
    "m.group(0)"
   ]
  },
  {
   "cell_type": "code",
   "execution_count": null,
   "metadata": {},
   "outputs": [],
   "source": [
    "p = '//[^\\s]*'"
   ]
  },
  {
   "cell_type": "code",
   "execution_count": 40,
   "metadata": {},
   "outputs": [],
   "source": [
    "str3 = 'http://www.baidu.com'"
   ]
  },
  {
   "cell_type": "code",
   "execution_count": 41,
   "metadata": {},
   "outputs": [
    {
     "ename": "NameError",
     "evalue": "name 'p' is not defined",
     "output_type": "error",
     "traceback": [
      "\u001b[0;31m---------------------------------------------------------------------------\u001b[0m",
      "\u001b[0;31mNameError\u001b[0m                                 Traceback (most recent call last)",
      "\u001b[0;32m<ipython-input-41-10dd9784a85e>\u001b[0m in \u001b[0;36m<module>\u001b[0;34m()\u001b[0m\n\u001b[0;32m----> 1\u001b[0;31m \u001b[0mre\u001b[0m\u001b[1;33m.\u001b[0m\u001b[0mmatch\u001b[0m\u001b[1;33m(\u001b[0m\u001b[0mp\u001b[0m\u001b[1;33m,\u001b[0m \u001b[0mstr3\u001b[0m\u001b[1;33m)\u001b[0m\u001b[1;33m\u001b[0m\u001b[0m\n\u001b[0m",
      "\u001b[0;31mNameError\u001b[0m: name 'p' is not defined"
     ]
    }
   ],
   "source": [
    "re.match(p, str3)"
   ]
  },
  {
   "cell_type": "code",
   "execution_count": 42,
   "metadata": {},
   "outputs": [],
   "source": [
    "p = '//[^\\s]*'"
   ]
  },
  {
   "cell_type": "code",
   "execution_count": 43,
   "metadata": {},
   "outputs": [],
   "source": [
    "re.match(p, str3)"
   ]
  },
  {
   "cell_type": "code",
   "execution_count": 44,
   "metadata": {},
   "outputs": [],
   "source": [
    "p = '//([^\\s]*)'"
   ]
  },
  {
   "cell_type": "code",
   "execution_count": 45,
   "metadata": {},
   "outputs": [],
   "source": [
    "re.match(p, str3)"
   ]
  },
  {
   "cell_type": "code",
   "execution_count": 46,
   "metadata": {},
   "outputs": [
    {
     "data": {
      "text/plain": [
       "<_sre.SRE_Match object; span=(0, 11), match='hello world'>"
      ]
     },
     "execution_count": 46,
     "metadata": {},
     "output_type": "execute_result"
    }
   ],
   "source": [
    "re.match('hello (\\w+)','hello world')"
   ]
  },
  {
   "cell_type": "code",
   "execution_count": 47,
   "metadata": {},
   "outputs": [],
   "source": [
    "p = '\\/\\/([^\\s]*)'"
   ]
  },
  {
   "cell_type": "code",
   "execution_count": 48,
   "metadata": {},
   "outputs": [],
   "source": [
    "re.match(p, str3)"
   ]
  },
  {
   "cell_type": "code",
   "execution_count": 49,
   "metadata": {},
   "outputs": [],
   "source": [
    "p = '\\/\\/[^\\s]*'"
   ]
  },
  {
   "cell_type": "code",
   "execution_count": 51,
   "metadata": {},
   "outputs": [],
   "source": [
    "re.match(p, str3)"
   ]
  },
  {
   "cell_type": "code",
   "execution_count": 52,
   "metadata": {},
   "outputs": [],
   "source": [
    "p = '\\w+\\.\\w+\\.\\w+'"
   ]
  },
  {
   "cell_type": "code",
   "execution_count": 53,
   "metadata": {},
   "outputs": [],
   "source": [
    "re.match(p, str3)"
   ]
  },
  {
   "cell_type": "code",
   "execution_count": 54,
   "metadata": {},
   "outputs": [],
   "source": [
    "m = re.match(p, str3)"
   ]
  },
  {
   "cell_type": "code",
   "execution_count": 55,
   "metadata": {},
   "outputs": [
    {
     "data": {
      "text/plain": [
       "NoneType"
      ]
     },
     "execution_count": 55,
     "metadata": {},
     "output_type": "execute_result"
    }
   ],
   "source": [
    "type(m)"
   ]
  },
  {
   "cell_type": "code",
   "execution_count": 56,
   "metadata": {},
   "outputs": [],
   "source": [
    "p = r'//[^\\s]*'"
   ]
  },
  {
   "cell_type": "code",
   "execution_count": 57,
   "metadata": {},
   "outputs": [],
   "source": [
    "re.match(p, str3)"
   ]
  },
  {
   "cell_type": "code",
   "execution_count": 58,
   "metadata": {},
   "outputs": [],
   "source": [
    "p = r'http://[^\\s]*'"
   ]
  },
  {
   "cell_type": "code",
   "execution_count": 59,
   "metadata": {},
   "outputs": [
    {
     "data": {
      "text/plain": [
       "<_sre.SRE_Match object; span=(0, 20), match='http://www.baidu.com'>"
      ]
     },
     "execution_count": 59,
     "metadata": {},
     "output_type": "execute_result"
    }
   ],
   "source": [
    "re.match(p, str3)"
   ]
  },
  {
   "cell_type": "code",
   "execution_count": 60,
   "metadata": {},
   "outputs": [],
   "source": [
    "p = 'http://([^\\s]*)'"
   ]
  },
  {
   "cell_type": "code",
   "execution_count": 61,
   "metadata": {},
   "outputs": [
    {
     "data": {
      "text/plain": [
       "<_sre.SRE_Match object; span=(0, 20), match='http://www.baidu.com'>"
      ]
     },
     "execution_count": 61,
     "metadata": {},
     "output_type": "execute_result"
    }
   ],
   "source": [
    "re.match(p, str3)"
   ]
  },
  {
   "cell_type": "code",
   "execution_count": 62,
   "metadata": {},
   "outputs": [
    {
     "data": {
      "text/plain": [
       "[('ROOT', 0, 6),\n",
       " ('advmod', 6, 1),\n",
       " ('advmod', 3, 2),\n",
       " ('amod', 6, 3),\n",
       " ('mark', 3, 4),\n",
       " ('amod', 6, 5),\n",
       " ('punct', 6, 7),\n",
       " ('ROOT', 0, 8),\n",
       " ('advmod', 8, 1),\n",
       " ('punct', 8, 2),\n",
       " ('nmod:tmod', 8, 3),\n",
       " ('punct', 8, 4),\n",
       " ('nmod:assmod', 7, 5),\n",
       " ('compound:nn', 7, 6),\n",
       " ('nsubj', 8, 7),\n",
       " ('compound:nn', 10, 9),\n",
       " ('dep', 19, 10),\n",
       " ('punct', 19, 11),\n",
       " ('nmod', 14, 12),\n",
       " ('amod', 14, 13),\n",
       " ('dep', 19, 14),\n",
       " ('punct', 19, 15),\n",
       " ('cc', 19, 16),\n",
       " ('conj', 19, 17),\n",
       " ('punct', 19, 18),\n",
       " ('dobj', 8, 19),\n",
       " ('punct', 19, 20),\n",
       " ('case', 23, 21),\n",
       " ('compound:nn', 23, 22),\n",
       " ('nmod', 25, 23),\n",
       " ('case', 23, 24),\n",
       " ('compound:nn', 26, 25),\n",
       " ('nsubj', 27, 26),\n",
       " ('conj', 19, 27),\n",
       " ('punct', 8, 28),\n",
       " ('ROOT', 0, 2),\n",
       " ('nsubj', 2, 1),\n",
       " ('punct', 2, 3),\n",
       " ('nsubj', 13, 4),\n",
       " ('cop', 13, 5),\n",
       " ('case', 11, 6),\n",
       " ('case', 10, 7),\n",
       " ('det', 10, 8),\n",
       " ('compound:nn', 10, 9),\n",
       " ('nmod:prep', 11, 10),\n",
       " ('nmod:prep', 13, 11),\n",
       " ('punct', 13, 12),\n",
       " ('ccomp', 2, 13),\n",
       " ('dobj', 13, 14),\n",
       " ('aux:ba', 21, 15),\n",
       " ('advmod', 17, 16),\n",
       " ('dep', 20, 17),\n",
       " ('case', 17, 18),\n",
       " ('compound:nn', 20, 19),\n",
       " ('dep', 21, 20),\n",
       " ('ccomp', 13, 21),\n",
       " ('dobj', 21, 22),\n",
       " ('conj', 21, 23),\n",
       " ('punct', 2, 24)]"
      ]
     },
     "execution_count": 62,
     "metadata": {},
     "output_type": "execute_result"
    }
   ],
   "source": [
    "#coding: utf-8\n",
    "\n",
    "# 引入库\n",
    "\n",
    "from stanfordcorenlp import StanfordCoreNLP\n",
    "\n",
    "# 用与英文处理的客户实例\n",
    "\n",
    "nlp_en = StanfordCoreNLP('http://127.0.0.1', port=2002)   # 请个修改为自己的ip地址和端口号\n",
    "\n",
    "# 用与中文处理的客户实例\n",
    "\n",
    "nlp_cn = StanfordCoreNLP('http://127.0.0.1', port=2003)   # 请个修改为自己的ip地址和端口号\n",
    "\n",
    "en_txt = \"There are more public options, too. For example, in 2013, Chinese state media accused Jaguar Land Rover and Audi of overcharging buyers for car parts, which analysts viewed as part of a campaign to pressure those automakers to locate more manufacturing in China.\"\n",
    "\n",
    "cn_txt = \"还有更多的公开选择。比如，2013年，中国官方媒体指责捷豹路虎(Jaguar Land Rover)和奥迪(Audi)对汽车零部件的买家要价过高。分析师认为，那是在向这些汽车制造商施压，让它们把更多的制造工作搬到中国去。\"\n",
    "\n",
    "# 分词\n",
    "\n",
    "nlp_en.word_tokenize(en_txt)\n",
    "\n",
    "nlp_cn.word_tokenize(cn_txt)\n",
    "\n",
    "# 词性标注\n",
    "\n",
    "nlp_en.pos_tag(en_txt)\n",
    "\n",
    "nlp_cn.pos_tag(cn_txt)\n",
    "\n",
    "# 全名实体识别\n",
    "\n",
    "nlp_en.ner(en_txt)\n",
    "\n",
    "nlp_cn.ner(cn_txt)\n",
    "\n",
    "\n",
    "\n",
    "# 短语句法分析\n",
    "\n",
    "nlp_en.parse(en_txt)\n",
    "\n",
    "nlp_cn.parse(cn_txt)\n",
    "\n",
    "# 依存句法分析 \n",
    "\n",
    "nlp_en.dependency_parse(en_txt)\n",
    "\n",
    "nlp_cn.dependency_parse(cn_txt)"
   ]
  },
  {
   "cell_type": "code",
   "execution_count": 63,
   "metadata": {},
   "outputs": [],
   "source": [
    "#coding: utf-8\n",
    "\n",
    "# 引入库\n",
    "\n",
    "from stanfordcorenlp import StanfordCoreNLP\n",
    "\n",
    "# 用与英文处理的客户实例\n",
    "\n",
    "nlp_en = StanfordCoreNLP('http://127.0.0.1', port=2002)   # 请个修改为自己的ip地址和端口号\n",
    "\n",
    "# 用与中文处理的客户实例\n",
    "\n",
    "nlp_cn = StanfordCoreNLP('http://127.0.0.1', port=2003)   # 请个修改为自己的ip地址和端口号\n",
    "\n",
    "en_txt = \"There are more public options, too. For example, in 2013, Chinese state media accused Jaguar Land Rover and Audi of overcharging buyers for car parts, which analysts viewed as part of a campaign to pressure those automakers to locate more manufacturing in China.\"\n",
    "\n",
    "cn_txt = \"还有更多的公开选择。比如，2013年，中国官方媒体指责捷豹路虎(Jaguar Land Rover)和奥迪(Audi)对汽车零部件的买家要价过高。分析师认为，那是在向这些汽车制造商施压，让它们把更多的制造工作搬到中国去。\"\n"
   ]
  },
  {
   "cell_type": "code",
   "execution_count": 64,
   "metadata": {},
   "outputs": [
    {
     "data": {
      "text/plain": [
       "['There',\n",
       " 'are',\n",
       " 'more',\n",
       " 'public',\n",
       " 'options',\n",
       " ',',\n",
       " 'too',\n",
       " '.',\n",
       " 'For',\n",
       " 'example',\n",
       " ',',\n",
       " 'in',\n",
       " '2013',\n",
       " ',',\n",
       " 'Chinese',\n",
       " 'state',\n",
       " 'media',\n",
       " 'accused',\n",
       " 'Jaguar',\n",
       " 'Land',\n",
       " 'Rover',\n",
       " 'and',\n",
       " 'Audi',\n",
       " 'of',\n",
       " 'overcharging',\n",
       " 'buyers',\n",
       " 'for',\n",
       " 'car',\n",
       " 'parts',\n",
       " ',',\n",
       " 'which',\n",
       " 'analysts',\n",
       " 'viewed',\n",
       " 'as',\n",
       " 'part',\n",
       " 'of',\n",
       " 'a',\n",
       " 'campaign',\n",
       " 'to',\n",
       " 'pressure',\n",
       " 'those',\n",
       " 'automakers',\n",
       " 'to',\n",
       " 'locate',\n",
       " 'more',\n",
       " 'manufacturing',\n",
       " 'in',\n",
       " 'China',\n",
       " '.']"
      ]
     },
     "execution_count": 64,
     "metadata": {},
     "output_type": "execute_result"
    }
   ],
   "source": [
    "nlp_en.word_tokenize(en_txt)"
   ]
  },
  {
   "cell_type": "code",
   "execution_count": 65,
   "metadata": {},
   "outputs": [
    {
     "data": {
      "text/plain": [
       "['There',\n",
       " 'are',\n",
       " 'more',\n",
       " 'public',\n",
       " 'options',\n",
       " ',',\n",
       " 'too',\n",
       " '.',\n",
       " 'For',\n",
       " 'example',\n",
       " ',',\n",
       " 'in',\n",
       " '2013',\n",
       " ',',\n",
       " 'Chinese',\n",
       " 'state',\n",
       " 'media',\n",
       " 'accused',\n",
       " 'Jaguar',\n",
       " 'Land',\n",
       " 'Rover',\n",
       " 'and',\n",
       " 'Audi',\n",
       " 'of',\n",
       " 'overcharging',\n",
       " 'buyers',\n",
       " 'for',\n",
       " 'car',\n",
       " 'parts',\n",
       " ',',\n",
       " 'which',\n",
       " 'analysts',\n",
       " 'viewed',\n",
       " 'as',\n",
       " 'part',\n",
       " 'of',\n",
       " 'a',\n",
       " 'campaign',\n",
       " 'to',\n",
       " 'pressure',\n",
       " 'those',\n",
       " 'automakers',\n",
       " 'to',\n",
       " 'locate',\n",
       " 'more',\n",
       " 'manufacturing',\n",
       " 'in',\n",
       " 'China',\n",
       " '.']"
      ]
     },
     "execution_count": 65,
     "metadata": {},
     "output_type": "execute_result"
    }
   ],
   "source": [
    "nlp_en.word_tokenize(en_txt)"
   ]
  },
  {
   "cell_type": "code",
   "execution_count": 66,
   "metadata": {},
   "outputs": [
    {
     "data": {
      "text/plain": [
       "['还有',\n",
       " '更',\n",
       " '多',\n",
       " '的',\n",
       " '公开',\n",
       " '选择',\n",
       " '。',\n",
       " '比如',\n",
       " '，',\n",
       " '2013年',\n",
       " '，',\n",
       " '中国',\n",
       " '官方',\n",
       " '媒体',\n",
       " '指责',\n",
       " '捷豹',\n",
       " '路虎',\n",
       " '(',\n",
       " 'Jaguar',\n",
       " 'Land',\n",
       " 'Rover',\n",
       " ')',\n",
       " '和',\n",
       " '奥迪',\n",
       " '(',\n",
       " 'Audi',\n",
       " ')',\n",
       " '对',\n",
       " '汽车',\n",
       " '零部件',\n",
       " '的',\n",
       " '买家',\n",
       " '要价',\n",
       " '过高',\n",
       " '。',\n",
       " '分析师',\n",
       " '认为',\n",
       " '，',\n",
       " '那',\n",
       " '是',\n",
       " '在',\n",
       " '向',\n",
       " '这些',\n",
       " '汽车',\n",
       " '制造商',\n",
       " '施压',\n",
       " '，',\n",
       " '让',\n",
       " '它们',\n",
       " '把',\n",
       " '更',\n",
       " '多',\n",
       " '的',\n",
       " '制造',\n",
       " '工作',\n",
       " '搬到',\n",
       " '中国',\n",
       " '去',\n",
       " '。']"
      ]
     },
     "execution_count": 66,
     "metadata": {},
     "output_type": "execute_result"
    }
   ],
   "source": [
    "nlp_cn.word_tokenize(cn_txt)"
   ]
  },
  {
   "cell_type": "code",
   "execution_count": 67,
   "metadata": {},
   "outputs": [
    {
     "data": {
      "text/plain": [
       "[('There', 'EX'),\n",
       " ('are', 'VBP'),\n",
       " ('more', 'RBR'),\n",
       " ('public', 'JJ'),\n",
       " ('options', 'NNS'),\n",
       " (',', ','),\n",
       " ('too', 'RB'),\n",
       " ('.', '.'),\n",
       " ('For', 'IN'),\n",
       " ('example', 'NN'),\n",
       " (',', ','),\n",
       " ('in', 'IN'),\n",
       " ('2013', 'CD'),\n",
       " (',', ','),\n",
       " ('Chinese', 'JJ'),\n",
       " ('state', 'NN'),\n",
       " ('media', 'NNS'),\n",
       " ('accused', 'VBD'),\n",
       " ('Jaguar', 'NNP'),\n",
       " ('Land', 'NNP'),\n",
       " ('Rover', 'NNP'),\n",
       " ('and', 'CC'),\n",
       " ('Audi', 'NNP'),\n",
       " ('of', 'IN'),\n",
       " ('overcharging', 'VBG'),\n",
       " ('buyers', 'NNS'),\n",
       " ('for', 'IN'),\n",
       " ('car', 'NN'),\n",
       " ('parts', 'NNS'),\n",
       " (',', ','),\n",
       " ('which', 'WDT'),\n",
       " ('analysts', 'NNS'),\n",
       " ('viewed', 'VBD'),\n",
       " ('as', 'IN'),\n",
       " ('part', 'NN'),\n",
       " ('of', 'IN'),\n",
       " ('a', 'DT'),\n",
       " ('campaign', 'NN'),\n",
       " ('to', 'TO'),\n",
       " ('pressure', 'VB'),\n",
       " ('those', 'DT'),\n",
       " ('automakers', 'NNS'),\n",
       " ('to', 'TO'),\n",
       " ('locate', 'VB'),\n",
       " ('more', 'JJR'),\n",
       " ('manufacturing', 'NN'),\n",
       " ('in', 'IN'),\n",
       " ('China', 'NNP'),\n",
       " ('.', '.')]"
      ]
     },
     "execution_count": 67,
     "metadata": {},
     "output_type": "execute_result"
    }
   ],
   "source": [
    "nlp_en.pos_tag(en_txt) "
   ]
  },
  {
   "cell_type": "code",
   "execution_count": 68,
   "metadata": {},
   "outputs": [
    {
     "data": {
      "text/plain": [
       "[('还有', 'AD'),\n",
       " ('更', 'AD'),\n",
       " ('多', 'VA'),\n",
       " ('的', 'DEC'),\n",
       " ('公开', 'JJ'),\n",
       " ('选择', 'NN'),\n",
       " ('。', 'PU'),\n",
       " ('比如', 'AD'),\n",
       " ('，', 'PU'),\n",
       " ('2013年', 'NT'),\n",
       " ('，', 'PU'),\n",
       " ('中国', 'NR'),\n",
       " ('官方', 'NN'),\n",
       " ('媒体', 'NN'),\n",
       " ('指责', 'VV'),\n",
       " ('捷豹', 'NN'),\n",
       " ('路虎', 'NN'),\n",
       " ('(', 'PU'),\n",
       " ('Jaguar', 'NR'),\n",
       " ('Land', 'JJ'),\n",
       " ('Rover', 'NN'),\n",
       " (')', 'PU'),\n",
       " ('和', 'CC'),\n",
       " ('奥迪', 'NR'),\n",
       " ('(', 'PU'),\n",
       " ('Audi', 'NR'),\n",
       " (')', 'PU'),\n",
       " ('对', 'P'),\n",
       " ('汽车', 'NN'),\n",
       " ('零部件', 'NN'),\n",
       " ('的', 'DEG'),\n",
       " ('买家', 'NN'),\n",
       " ('要价', 'NN'),\n",
       " ('过高', 'VA'),\n",
       " ('。', 'PU'),\n",
       " ('分析师', 'NN'),\n",
       " ('认为', 'VV'),\n",
       " ('，', 'PU'),\n",
       " ('那', 'PN'),\n",
       " ('是', 'VC'),\n",
       " ('在', 'P'),\n",
       " ('向', 'P'),\n",
       " ('这些', 'DT'),\n",
       " ('汽车', 'NN'),\n",
       " ('制造商', 'NN'),\n",
       " ('施压', 'VV'),\n",
       " ('，', 'PU'),\n",
       " ('让', 'VV'),\n",
       " ('它们', 'PN'),\n",
       " ('把', 'BA'),\n",
       " ('更', 'AD'),\n",
       " ('多', 'CD'),\n",
       " ('的', 'DEG'),\n",
       " ('制造', 'NN'),\n",
       " ('工作', 'NN'),\n",
       " ('搬到', 'VV'),\n",
       " ('中国', 'NR'),\n",
       " ('去', 'VV'),\n",
       " ('。', 'PU')]"
      ]
     },
     "execution_count": 68,
     "metadata": {},
     "output_type": "execute_result"
    }
   ],
   "source": [
    "nlp_cn.pos_tag(cn_txt)"
   ]
  },
  {
   "cell_type": "code",
   "execution_count": 69,
   "metadata": {},
   "outputs": [
    {
     "data": {
      "text/plain": [
       "[('There', 'O'),\n",
       " ('are', 'O'),\n",
       " ('more', 'O'),\n",
       " ('public', 'O'),\n",
       " ('options', 'O'),\n",
       " (',', 'O'),\n",
       " ('too', 'O'),\n",
       " ('.', 'O'),\n",
       " ('For', 'O'),\n",
       " ('example', 'O'),\n",
       " (',', 'O'),\n",
       " ('in', 'O'),\n",
       " ('2013', 'DATE'),\n",
       " (',', 'O'),\n",
       " ('Chinese', 'MISC'),\n",
       " ('state', 'O'),\n",
       " ('media', 'O'),\n",
       " ('accused', 'O'),\n",
       " ('Jaguar', 'ORGANIZATION'),\n",
       " ('Land', 'ORGANIZATION'),\n",
       " ('Rover', 'ORGANIZATION'),\n",
       " ('and', 'O'),\n",
       " ('Audi', 'ORGANIZATION'),\n",
       " ('of', 'O'),\n",
       " ('overcharging', 'O'),\n",
       " ('buyers', 'O'),\n",
       " ('for', 'O'),\n",
       " ('car', 'O'),\n",
       " ('parts', 'O'),\n",
       " (',', 'O'),\n",
       " ('which', 'O'),\n",
       " ('analysts', 'O'),\n",
       " ('viewed', 'O'),\n",
       " ('as', 'O'),\n",
       " ('part', 'O'),\n",
       " ('of', 'O'),\n",
       " ('a', 'O'),\n",
       " ('campaign', 'O'),\n",
       " ('to', 'O'),\n",
       " ('pressure', 'O'),\n",
       " ('those', 'O'),\n",
       " ('automakers', 'O'),\n",
       " ('to', 'O'),\n",
       " ('locate', 'O'),\n",
       " ('more', 'O'),\n",
       " ('manufacturing', 'O'),\n",
       " ('in', 'O'),\n",
       " ('China', 'LOCATION'),\n",
       " ('.', 'O')]"
      ]
     },
     "execution_count": 69,
     "metadata": {},
     "output_type": "execute_result"
    }
   ],
   "source": [
    "nlp_en.ner(en_txt)"
   ]
  },
  {
   "cell_type": "code",
   "execution_count": 70,
   "metadata": {},
   "outputs": [
    {
     "data": {
      "text/plain": [
       "[('还有', 'O'),\n",
       " ('更', 'O'),\n",
       " ('多', 'O'),\n",
       " ('的', 'O'),\n",
       " ('公开', 'O'),\n",
       " ('选择', 'O'),\n",
       " ('。', 'O'),\n",
       " ('比如', 'O'),\n",
       " ('，', 'O'),\n",
       " ('2013年', 'DATE'),\n",
       " ('，', 'O'),\n",
       " ('中国', 'DEMONYM'),\n",
       " ('官方', 'O'),\n",
       " ('媒体', 'O'),\n",
       " ('指责', 'O'),\n",
       " ('捷豹', 'ORGANIZATION'),\n",
       " ('路虎', 'ORGANIZATION'),\n",
       " ('(', 'O'),\n",
       " ('Jaguar', 'O'),\n",
       " ('Land', 'O'),\n",
       " ('Rover', 'O'),\n",
       " (')', 'O'),\n",
       " ('和', 'O'),\n",
       " ('奥迪', 'O'),\n",
       " ('(', 'O'),\n",
       " ('Audi', 'O'),\n",
       " (')', 'O'),\n",
       " ('对', 'O'),\n",
       " ('汽车', 'O'),\n",
       " ('零部件', 'O'),\n",
       " ('的', 'O'),\n",
       " ('买家', 'O'),\n",
       " ('要价', 'O'),\n",
       " ('过高', 'O'),\n",
       " ('。', 'O'),\n",
       " ('分析师', 'O'),\n",
       " ('认为', 'O'),\n",
       " ('，', 'O'),\n",
       " ('那', 'O'),\n",
       " ('是', 'O'),\n",
       " ('在', 'O'),\n",
       " ('向', 'O'),\n",
       " ('这些', 'O'),\n",
       " ('汽车', 'O'),\n",
       " ('制造商', 'O'),\n",
       " ('施压', 'O'),\n",
       " ('，', 'O'),\n",
       " ('让', 'O'),\n",
       " ('它们', 'O'),\n",
       " ('把', 'O'),\n",
       " ('更', 'O'),\n",
       " ('多', 'NUMBER'),\n",
       " ('的', 'O'),\n",
       " ('制造', 'O'),\n",
       " ('工作', 'O'),\n",
       " ('搬到', 'O'),\n",
       " ('中国', 'GPE'),\n",
       " ('去', 'O'),\n",
       " ('。', 'O')]"
      ]
     },
     "execution_count": 70,
     "metadata": {},
     "output_type": "execute_result"
    }
   ],
   "source": [
    "nlp_cn.ner(cn_txt)"
   ]
  },
  {
   "cell_type": "code",
   "execution_count": 71,
   "metadata": {},
   "outputs": [
    {
     "data": {
      "text/plain": [
       "'(ROOT\\r\\n  (S\\r\\n    (NP (EX There))\\r\\n    (VP (VBP are)\\r\\n      (NP\\r\\n        (ADJP (RBR more) (JJ public))\\r\\n        (NNS options))\\r\\n      (, ,)\\r\\n      (ADVP (RB too)))\\r\\n    (. .)))'"
      ]
     },
     "execution_count": 71,
     "metadata": {},
     "output_type": "execute_result"
    }
   ],
   "source": [
    "nlp_en.parse(en_txt)"
   ]
  },
  {
   "cell_type": "code",
   "execution_count": 72,
   "metadata": {},
   "outputs": [
    {
     "name": "stdout",
     "output_type": "stream",
     "text": [
      "(ROOT\r\n",
      "  (S\r\n",
      "    (NP (EX There))\r\n",
      "    (VP (VBP are)\r\n",
      "      (NP\r\n",
      "        (ADJP (RBR more) (JJ public))\r\n",
      "        (NNS options))\r\n",
      "      (, ,)\r\n",
      "      (ADVP (RB too)))\r\n",
      "    (. .)))\n"
     ]
    }
   ],
   "source": [
    "print (nlp_en.parse(en_txt))"
   ]
  },
  {
   "cell_type": "code",
   "execution_count": 73,
   "metadata": {},
   "outputs": [
    {
     "data": {
      "text/plain": [
       "'(ROOT\\r\\n  (IP\\r\\n    (VP\\r\\n      (ADVP (AD 还有))\\r\\n      (VP\\r\\n        (NP\\r\\n          (DNP\\r\\n            (QP\\r\\n              (ADVP (AD 更))\\r\\n              (QP (VA 多)))\\r\\n            (DEC 的))\\r\\n          (ADJP (JJ 公开))\\r\\n          (NP (NN 选择)))))\\r\\n    (PU 。)))'"
      ]
     },
     "execution_count": 73,
     "metadata": {},
     "output_type": "execute_result"
    }
   ],
   "source": [
    "nlp_cn.parse(cn_txt)"
   ]
  },
  {
   "cell_type": "code",
   "execution_count": 74,
   "metadata": {},
   "outputs": [
    {
     "name": "stdout",
     "output_type": "stream",
     "text": [
      "(ROOT\r\n",
      "  (IP\r\n",
      "    (VP\r\n",
      "      (ADVP (AD 还有))\r\n",
      "      (VP\r\n",
      "        (NP\r\n",
      "          (DNP\r\n",
      "            (QP\r\n",
      "              (ADVP (AD 更))\r\n",
      "              (QP (VA 多)))\r\n",
      "            (DEC 的))\r\n",
      "          (ADJP (JJ 公开))\r\n",
      "          (NP (NN 选择)))))\r\n",
      "    (PU 。)))\n"
     ]
    }
   ],
   "source": [
    "print(nlp_cn.parse(cn_txt))"
   ]
  },
  {
   "cell_type": "code",
   "execution_count": 75,
   "metadata": {},
   "outputs": [
    {
     "data": {
      "text/plain": [
       "[('ROOT', 0, 2),\n",
       " ('expl', 2, 1),\n",
       " ('advmod', 5, 3),\n",
       " ('amod', 5, 4),\n",
       " ('nsubj', 2, 5),\n",
       " ('punct', 2, 6),\n",
       " ('advmod', 2, 7),\n",
       " ('punct', 2, 8),\n",
       " ('ROOT', 0, 10),\n",
       " ('case', 2, 1),\n",
       " ('nmod', 10, 2),\n",
       " ('punct', 10, 3),\n",
       " ('case', 5, 4),\n",
       " ('nmod', 10, 5),\n",
       " ('punct', 10, 6),\n",
       " ('amod', 9, 7),\n",
       " ('compound', 9, 8),\n",
       " ('nsubj', 10, 9),\n",
       " ('compound', 13, 11),\n",
       " ('compound', 13, 12),\n",
       " ('dobj', 10, 13),\n",
       " ('cc', 13, 14),\n",
       " ('conj', 13, 15),\n",
       " ('mark', 17, 16),\n",
       " ('advcl', 10, 17),\n",
       " ('dobj', 17, 18),\n",
       " ('case', 21, 19),\n",
       " ('compound', 21, 20),\n",
       " ('nmod', 18, 21),\n",
       " ('punct', 21, 22),\n",
       " ('dobj', 25, 23),\n",
       " ('nsubj', 25, 24),\n",
       " ('acl:relcl', 21, 25),\n",
       " ('case', 27, 26),\n",
       " ('nmod', 25, 27),\n",
       " ('case', 30, 28),\n",
       " ('det', 30, 29),\n",
       " ('nmod', 27, 30),\n",
       " ('mark', 32, 31),\n",
       " ('acl', 30, 32),\n",
       " ('det', 34, 33),\n",
       " ('dobj', 32, 34),\n",
       " ('mark', 36, 35),\n",
       " ('advcl', 32, 36),\n",
       " ('amod', 38, 37),\n",
       " ('dobj', 36, 38),\n",
       " ('case', 40, 39),\n",
       " ('nmod', 36, 40),\n",
       " ('punct', 10, 41)]"
      ]
     },
     "execution_count": 75,
     "metadata": {},
     "output_type": "execute_result"
    }
   ],
   "source": [
    "nlp_en.dependency_parse(en_txt)"
   ]
  },
  {
   "cell_type": "code",
   "execution_count": null,
   "metadata": {},
   "outputs": [],
   "source": []
  }
 ],
 "metadata": {
  "kernelspec": {
   "display_name": "Python 3",
   "language": "python",
   "name": "python3"
  },
  "language_info": {
   "codemirror_mode": {
    "name": "ipython",
    "version": 3
   },
   "file_extension": ".py",
   "mimetype": "text/x-python",
   "name": "python",
   "nbconvert_exporter": "python",
   "pygments_lexer": "ipython3",
   "version": "3.6.0"
  }
 },
 "nbformat": 4,
 "nbformat_minor": 2
}
