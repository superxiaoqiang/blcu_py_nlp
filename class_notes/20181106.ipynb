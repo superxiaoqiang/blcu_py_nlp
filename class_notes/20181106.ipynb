{
 "cells": [
  {
   "cell_type": "code",
   "execution_count": 1,
   "metadata": {},
   "outputs": [],
   "source": [
    "import requests"
   ]
  },
  {
   "cell_type": "code",
   "execution_count": 2,
   "metadata": {},
   "outputs": [
    {
     "name": "stdout",
     "output_type": "stream",
     "text": [
      "Help on function post in module requests.api:\n",
      "\n",
      "post(url, data=None, json=None, **kwargs)\n",
      "    Sends a POST request.\n",
      "    \n",
      "    :param url: URL for the new :class:`Request` object.\n",
      "    :param data: (optional) Dictionary, bytes, or file-like object to send in the body of the :class:`Request`.\n",
      "    :param json: (optional) json data to send in the body of the :class:`Request`.\n",
      "    :param \\*\\*kwargs: Optional arguments that ``request`` takes.\n",
      "    :return: :class:`Response <Response>` object\n",
      "    :rtype: requests.Response\n",
      "\n"
     ]
    }
   ],
   "source": [
    "help(requests.post)"
   ]
  },
  {
   "cell_type": "code",
   "execution_count": 3,
   "metadata": {},
   "outputs": [],
   "source": [
    "url = 'http://www.guoxuedashi.com/zidian/bujian/ajax.php'"
   ]
  },
  {
   "cell_type": "code",
   "execution_count": 4,
   "metadata": {},
   "outputs": [],
   "source": [
    "data ={\n",
    "    'q':'一',\n",
    "    'tpz':0,\n",
    "    'jrong':1\n",
    "}"
   ]
  },
  {
   "cell_type": "code",
   "execution_count": 5,
   "metadata": {},
   "outputs": [],
   "source": [
    "r = requests.post(url, data)"
   ]
  },
  {
   "cell_type": "code",
   "execution_count": 6,
   "metadata": {},
   "outputs": [
    {
     "data": {
      "text/plain": [
       "['__attrs__',\n",
       " '__bool__',\n",
       " '__class__',\n",
       " '__delattr__',\n",
       " '__dict__',\n",
       " '__dir__',\n",
       " '__doc__',\n",
       " '__eq__',\n",
       " '__format__',\n",
       " '__ge__',\n",
       " '__getattribute__',\n",
       " '__getstate__',\n",
       " '__gt__',\n",
       " '__hash__',\n",
       " '__init__',\n",
       " '__init_subclass__',\n",
       " '__iter__',\n",
       " '__le__',\n",
       " '__lt__',\n",
       " '__module__',\n",
       " '__ne__',\n",
       " '__new__',\n",
       " '__nonzero__',\n",
       " '__reduce__',\n",
       " '__reduce_ex__',\n",
       " '__repr__',\n",
       " '__setattr__',\n",
       " '__setstate__',\n",
       " '__sizeof__',\n",
       " '__str__',\n",
       " '__subclasshook__',\n",
       " '__weakref__',\n",
       " '_content',\n",
       " '_content_consumed',\n",
       " 'apparent_encoding',\n",
       " 'close',\n",
       " 'connection',\n",
       " 'content',\n",
       " 'cookies',\n",
       " 'elapsed',\n",
       " 'encoding',\n",
       " 'headers',\n",
       " 'history',\n",
       " 'is_permanent_redirect',\n",
       " 'is_redirect',\n",
       " 'iter_content',\n",
       " 'iter_lines',\n",
       " 'json',\n",
       " 'links',\n",
       " 'ok',\n",
       " 'raise_for_status',\n",
       " 'raw',\n",
       " 'reason',\n",
       " 'request',\n",
       " 'status_code',\n",
       " 'text',\n",
       " 'url']"
      ]
     },
     "execution_count": 6,
     "metadata": {},
     "output_type": "execute_result"
    }
   ],
   "source": [
    "dir(r)\n"
   ]
  },
  {
   "cell_type": "code",
   "execution_count": 7,
   "metadata": {},
   "outputs": [
    {
     "data": {
      "text/plain": [
       "200"
      ]
     },
     "execution_count": 7,
     "metadata": {},
     "output_type": "execute_result"
    }
   ],
   "source": [
    "r.status_code\n"
   ]
  },
  {
   "cell_type": "code",
   "execution_count": 8,
   "metadata": {},
   "outputs": [
    {
     "data": {
      "text/plain": [
       "b'\\xef\\xbb\\xbf \\r\\n<a href=\"javascript:gotozi(\\'\\xe4\\xb8\\x80\\');\" class=\"a1\">\\xe4\\xb8\\x80</a><a href=\"javascript:gotozi(\\'\\xe4\\xb8\\x81\\');\" class=\"a1\">\\xe4\\xb8\\x81</a><a href=\"javascript:gotozi(\\'\\xe4\\xb8\\x82\\');\" class=\"a1\">\\xe4\\xb8\\x82</a><a href=\"javascript:gotozi(\\'\\xe4\\xb8\\x84\\');\" class=\"a1\">\\xe4\\xb8\\x84</a><a href=\"javascript:gotozi(\\'\\xe4\\xb8\\x85\\');\" class=\"a1\">\\xe4\\xb8\\x85</a><a href=\"javascript:gotozi(\\'\\xe4\\xb8\\x86\\');\" class=\"a1\">\\xe4\\xb8\\x86</a><a href=\"javascript:gotozi(\\'\\xe4\\xba\\x8c\\');\" class=\"a1\">\\xe4\\xba\\x8c</a><a href=\"javascript:gotozi(\\'\\xe4\\xba\\xa0\\');\" class=\"a1\">\\xe4\\xba\\xa0</a><a href=\"javascript:gotozi(\\'\\xe5\\x86\\xab\\');\" class=\"a1\">\\xe5\\x86\\xab</a><a href=\"javascript:gotozi(\\'\\xe5\\x88\\x81\\');\" class=\"a1\">\\xe5\\x88\\x81</a><a href=\"javascript:gotozi(\\'\\xe5\\x8c\\x95\\');\" class=\"a1\">\\xe5\\x8c\\x95</a><a href=\"javascript:gotozi(\\'\\xe5\\x8c\\x9a\\');\" class=\"a1\">\\xe5\\x8c\\x9a</a><a href=\"javascript:gotozi(\\'\\xe5\\x8c\\xb8\\');\" class=\"a1\">\\xe5\\x8c\\xb8</a><a href=\"javascript:gotozi(\\'\\xe5\\x8d\\x81\\');\" class=\"a1\">\\xe5\\x8d\\x81</a><a href=\"javascript:gotozi(\\'\\xe5\\x8e\\x82\\');\" class=\"a1\">\\xe5\\x8e\\x82</a><a href=\"javascript:gotozi(\\'\\xf0\\xa0\\x80\\x81\\');\" class=\"a1\">\\xf0\\xa0\\x80\\x81</a><a href=\"javascript:gotozi(\\'\\xf0\\xa0\\x80\\x82\\');\" class=\"a1\">\\xf0\\xa0\\x80\\x82</a><a href=\"javascript:gotozi(\\'\\xf0\\xa0\\x82\\x87\\');\" class=\"a1\">\\xf0\\xa0\\x82\\x87</a><a href=\"javascript:gotozi(\\'\\xf0\\xa0\\x82\\x89\\');\" class=\"a1\">\\xf0\\xa0\\x82\\x89</a><a href=\"javascript:gotozi(\\'\\xf0\\xa0\\x83\\x8e\\');\" class=\"a1\">\\xf0\\xa0\\x83\\x8e</a><a href=\"javascript:gotozi(\\'\\xf0\\xa0\\x84\\x9e\\');\" class=\"a1\">\\xf0\\xa0\\x84\\x9e</a><a href=\"javascript:gotozi(\\'\\xf0\\xa0\\x84\\x9f\\');\" class=\"a1\">\\xf0\\xa0\\x84\\x9f</a><a href=\"javascript:gotozi(\\'\\xf0\\xa0\\x84\\xa0\\');\" class=\"a1\">\\xf0\\xa0\\x84\\xa0</a><a href=\"javascript:gotozi(\\'\\xf0\\xab\\x9d\\x80\\');\" class=\"a1\">\\xf0\\xab\\x9d\\x80</a><a href=\"javascript:gotozi(\\'\\xf0\\xab\\xa0\\x93\\');\" class=\"a1\">\\xf0\\xab\\xa0\\x93</a><a href=\"javascript:gotozi(\\'\\xf0\\xab\\xa0\\xa0\\');\" class=\"a1\">\\xf0\\xab\\xa0\\xa0</a><a href=\"javascript:gotozi(\\'\\xf0\\xac\\x82\\x9b\\');\" class=\"a1\">\\xf0\\xac\\x82\\x9b</a><a href=\"javascript:gotozi(\\'\\xe3\\x90\\x89\\');\" class=\"a1\">\\xe3\\x90\\x89</a><a href=\"javascript:gotozi(\\'\\xe3\\x94\\xbf\\');\" class=\"a1\">\\xe3\\x94\\xbf</a><a href=\"javascript:gotozi(\\'\\xe4\\x92\\x91\\');\" class=\"a1\">\\xe4\\x92\\x91</a><a href=\"javascript:gotozi(\\'\\xe4\\xb8\\x87\\');\" class=\"a1\">\\xe4\\xb8\\x87</a><a href=\"javascript:gotozi(\\'\\xe4\\xb8\\x89\\');\" class=\"a1\">\\xe4\\xb8\\x89</a><a href=\"javascript:gotozi(\\'\\xe4\\xb8\\x8a\\');\" class=\"a1\">\\xe4\\xb8\\x8a</a><a href=\"javascript:gotozi(\\'\\xe4\\xb8\\x8b\\');\" class=\"a1\">\\xe4\\xb8\\x8b</a><a href=\"javascript:gotozi(\\'\\xe4\\xb8\\x8c\\');\" class=\"a1\">\\xe4\\xb8\\x8c</a><a href=\"javascript:gotozi(\\'\\xe4\\xb8\\x8e\\');\" class=\"a1\">\\xe4\\xb8\\x8e</a><a href=\"javascript:gotozi(\\'\\xe4\\xb9\\x9e\\');\" class=\"a1\">\\xe4\\xb9\\x9e</a><a href=\"javascript:gotozi(\\'\\xe4\\xba\\x8d\\');\" class=\"a1\">\\xe4\\xba\\x8d</a><a href=\"javascript:gotozi(\\'\\xe4\\xba\\x8f\\');\" class=\"a1\">\\xe4\\xba\\x8f</a><a href=\"javascript:gotozi(\\'\\xe4\\xba\\x90\\');\" class=\"a1\">\\xe4\\xba\\x90</a><a href=\"javascript:gotozi(\\'\\xe4\\xba\\xbc\\');\" class=\"a1\">\\xe4\\xba\\xbc</a><a href=\"javascript:gotozi(\\'\\xe5\\x85\\x80\\');\" class=\"a1\">\\xe5\\x85\\x80</a><a href=\"javascript:gotozi(\\'\\xe5\\x8d\\x84\\');\" class=\"a1\">\\xe5\\x8d\\x84</a><a href=\"javascript:gotozi(\\'\\xe5\\x8d\\xab\\');\" class=\"a1\">\\xe5\\x8d\\xab</a><a href=\"javascript:gotozi(\\'\\xe5\\x8f\\xa3\\');\" class=\"a1\">\\xe5\\x8f\\xa3</a><a href=\"javascript:gotozi(\\'\\xe5\\x9b\\x97\\');\" class=\"a1\">\\xe5\\x9b\\x97</a><a href=\"javascript:gotozi(\\'\\xe5\\x9c\\x9f\\');\" class=\"a1\">\\xe5\\x9c\\x9f</a><a href=\"javascript:gotozi(\\'\\xe5\\xa3\\xab\\');\" class=\"a1\">\\xe5\\xa3\\xab</a><a href=\"javascript:gotozi(\\'\\xe5\\xa4\\xa7\\');\" class=\"a1\">\\xe5\\xa4\\xa7</a><a href=\"javascript:gotozi(\\'\\xe5\\xa4\\xa8\\');\" class=\"a1\">\\xe5\\xa4\\xa8</a><a href=\"javascript:gotozi(\\'\\xe5\\xa5\\xb3\\');\" class=\"a1\">\\xe5\\xa5\\xb3</a><a href=\"javascript:gotozi(\\'\\xe5\\xad\\x90\\');\" class=\"a1\">\\xe5\\xad\\x90</a><a href=\"javascript:gotozi(\\'\\xe5\\xad\\x91\\');\" class=\"a1\">\\xe5\\xad\\x91</a><a href=\"javascript:gotozi(\\'\\xe5\\xad\\x92\\');\" class=\"a1\">\\xe5\\xad\\x92</a><a href=\"javascript:gotozi(\\'\\xe5\\xaf\\xb8\\');\" class=\"a1\">\\xe5\\xaf\\xb8</a><a href=\"javascript:gotozi(\\'\\xe5\\xb0\\xa2\\');\" class=\"a1\">\\xe5\\xb0\\xa2</a><a href=\"javascript:gotozi(\\'\\xe5\\xbb\\xbe\\');\" class=\"a1\">\\xe5\\xbb\\xbe</a><a href=\"javascript:gotozi(\\'\\xe5\\xbd\\x90\\');\" class=\"a1\">\\xe5\\xbd\\x90</a><a href=\"javascript:gotozi(\\'\\xe5\\xbd\\x91\\');\" class=\"a1\">\\xe5\\xbd\\x91</a><a href=\"javascript:gotozi(\\'\\xe6\\x89\\x8d\\');\" class=\"a1\">\\xe6\\x89\\x8d</a><a href=\"javascript:gotozi(\\'\\xe9\\xa9\\xac\\');\" class=\"a1\">\\xe9\\xa9\\xac</a><a href=\"javascript:gotozi(\\'\\xef\\xa8\\x8c\\');\" class=\"a1\">\\xef\\xa8\\x8c</a><a href=\"javascript:gotozi(\\'\\xf0\\xa0\\x80\\x83\\');\" class=\"a1\">\\xf0\\xa0\\x80\\x83</a><a href=\"javascript:gotozi(\\'\\xf0\\xa0\\x80\\x84\\');\" class=\"a1\">\\xf0\\xa0\\x80\\x84</a><a href=\"javascript:gotozi(\\'\\xf0\\xa0\\x80\\x85\\');\" class=\"a1\">\\xf0\\xa0\\x80\\x85</a><a href=\"javascript:gotozi(\\'\\xf0\\xa0\\x82\\x8b\\');\" class=\"a1\">\\xf0\\xa0\\x82\\x8b</a><a href=\"javascript:gotozi(\\'\\xf0\\xa0\\x82\\x8c\\');\" class=\"a1\">\\xf0\\xa0\\x82\\x8c</a><a href=\"javascript:gotozi(\\'\\xf0\\xa0\\x86\\xa3\\');\" class=\"a1\">\\xf0\\xa0\\x86\\xa3</a><a href=\"javascript:gotozi(\\'\\xf0\\xa0\\x93\\x9b\\');\" class=\"a1\">\\xf0\\xa0\\x93\\x9b</a><a href=\"javascript:gotozi(\\'\\xf0\\xa0\\x94\\x80\\');\" class=\"a1\">\\xf0\\xa0\\x94\\x80</a><a href=\"javascript:gotozi(\\'\\xf0\\xa0\\x94\\xbc\\');\" class=\"a1\">\\xf0\\xa0\\x94\\xbc</a><a href=\"javascript:gotozi(\\'\\xf0\\xa0\\x99\\xb5\\');\" class=\"a1\">\\xf0\\xa0\\x99\\xb5</a><a href=\"javascript:gotozi(\\'\\xf0\\xa0\\xab\\x93\\');\" class=\"a1\">\\xf0\\xa0\\xab\\x93</a><a href=\"javascript:gotozi(\\'\\xf0\\xa0\\xab\\x94\\');\" class=\"a1\">\\xf0\\xa0\\xab\\x94</a><a href=\"javascript:gotozi(\\'\\xf0\\xa1\\x95\\x92\\');\" class=\"a1\">\\xf0\\xa1\\x95\\x92</a><a href=\"javascript:gotozi(\\'\\xf0\\xa1\\xa4\\xbc\\');\" class=\"a1\">\\xf0\\xa1\\xa4\\xbc</a><a href=\"javascript:gotozi(\\'\\xf0\\xa1\\xaf\\x81\\');\" class=\"a1\">\\xf0\\xa1\\xaf\\x81</a><a href=\"javascript:gotozi(\\'\\xf0\\xa2\\x8c\\xac\\');\" class=\"a1\">\\xf0\\xa2\\x8c\\xac</a><a href=\"javascript:gotozi(\\'\\xf0\\xa3\\xa6\\xb6\\');\" class=\"a1\">\\xf0\\xa3\\xa6\\xb6</a><a href=\"javascript:gotozi(\\'\\xf0\\xaa\\x9c\\x80\\');\" class=\"a1\">\\xf0\\xaa\\x9c\\x80</a><a href=\"javascript:gotozi(\\'\\xf0\\xaa\\x9c\\x81\\');\" class=\"a1\">\\xf0\\xaa\\x9c\\x81</a><a href=\"javascript:gotozi(\\'\\xf0\\xab\\x9d\\x86\\');\" class=\"a1\">\\xf0\\xab\\x9d\\x86</a><a href=\"javascript:gotozi(\\'\\xf0\\xab\\x9d\\x8c\\');\" class=\"a1\">\\xf0\\xab\\x9d\\x8c</a><a href=\"javascript:gotozi(\\'\\xf0\\xab\\x9d\\x94\\');\" class=\"a1\">\\xf0\\xab\\x9d\\x94</a><a href=\"javascript:gotozi(\\'\\xf0\\xab\\x9d\\xbf\\');\" class=\"a1\">\\xf0\\xab\\x9d\\xbf</a><a href=\"javascript:gotozi(\\'\\xf0\\xab\\xa1\\x83\\');\" class=\"a1\">\\xf0\\xab\\xa1\\x83</a><a href=\"javascript:gotozi(\\'\\xf0\\xab\\xa1\\x8f\\');\" class=\"a1\">\\xf0\\xab\\xa1\\x8f</a><a href=\"javascript:gotozi(\\'\\xf0\\xab\\xa2\\x85\\');\" class=\"a1\">\\xf0\\xab\\xa2\\x85</a><a href=\"javascript:gotozi(\\'\\xf0\\xab\\xa6\\xa4\\');\" class=\"a1\">\\xf0\\xab\\xa6\\xa4</a><a href=\"javascript:gotozi(\\'\\xf0\\xaf\\xa0\\xa8\\');\" class=\"a1\">\\xf0\\xaf\\xa0\\xa8</a><a href=\"javascript:gotozi(\\'\\xf0\\xaf\\xa1\\xb5\\');\" class=\"a1\">\\xf0\\xaf\\xa1\\xb5</a><a href=\"javascript:gotozi(\\'\\xe3\\x93\\x85\\');\" class=\"a1\">\\xe3\\x93\\x85</a><a href=\"javascript:gotozi(\\'\\xe3\\x94\\xab\\');\" class=\"a1\">\\xe3\\x94\\xab</a><a href=\"javascript:gotozi(\\'\\xe3\\x9d\\x89\\');\" class=\"a1\">\\xe3\\x9d\\x89</a><a href=\"javascript:gotozi(\\'\\xe3\\x9e\\xa2\\');\" class=\"a1\">\\xe3\\x9e\\xa2</a><a href=\"javascript:gotozi(\\'\\xe3\\xa0\\xaa\\');\" class=\"a1\">\\xe3\\xa0\\xaa</a><a href=\"javascript:gotozi(\\'\\xe3\\xa2\\xa7\\');\" class=\"a1\">\\xe3\\xa2\\xa7</a><a href=\"javascript:gotozi(\\'\\xe4\\xa6\\xba\\');\" class=\"a1\">\\xe4\\xa6\\xba</a><a href=\"javascript:gotozi(\\'\\xe4\\xb8\\x8d\\');\" class=\"a1\">\\xe4\\xb8\\x8d</a><a href=\"javascript:gotozi(\\'\\xe4\\xb8\\x8f\\');\" class=\"a1\">\\xe4\\xb8\\x8f</a><a href=\"javascript:gotozi(\\'\\xe4\\xb8\\x92\\');\" class=\"a1\">\\xe4\\xb8\\x92</a><a href=\"javascript:gotozi(\\'\\xe4\\xb8\\xb0\\');\" class=\"a1\">\\xe4\\xb8\\xb0</a><a href=\"javascript:gotozi(\\'\\xe4\\xb9\\x8c\\');\" class=\"a1\">\\xe4\\xb9\\x8c</a><a href=\"javascript:gotozi(\\'\\xe4\\xb9\\xa4\\');\" class=\"a1\">\\xe4\\xb9\\xa4</a><a href=\"javascript:gotozi(\\'\\xe4\\xba\\x92\\');\" class=\"a1\">\\xe4\\xba\\x92</a><a href=\"javascript:gotozi(\\'\\xe4\\xba\\x93\\');\" class=\"a1\">\\xe4\\xba\\x93</a><a href=\"javascript:gotozi(\\'\\xe4\\xba\\x94\\');\" class=\"a1\">\\xe4\\xba\\x94</a><a href=\"javascript:gotozi(\\'\\xe4\\xba\\x95\\');\" class=\"a1\">\\xe4\\xba\\x95</a><a href=\"javascript:gotozi(\\'\\xe4\\xbb\\x83\\');\" class=\"a1\">\\xe4\\xbb\\x83</a><a href=\"javascript:gotozi(\\'\\xe4\\xbb\\x8a\\');\" class=\"a1\">\\xe4\\xbb\\x8a</a><a href=\"javascript:gotozi(\\'\\xe5\\x85\\x82\\');\" class=\"a1\">\\xe5\\x85\\x82</a><a href=\"javascript:gotozi(\\'\\xe5\\x85\\x83\\');\" class=\"a1\">\\xe5\\x85\\x83</a><a href=\"javascript:gotozi(\\'\\xe5\\x85\\xae\\');\" class=\"a1\">\\xe5\\x85\\xae</a><a href=\"javascript:gotozi(\\'\\xe5\\x86\\x83\\');\" class=\"a1\">\\xe5\\x86\\x83</a><a href=\"javascript:gotozi(\\'\\xe5\\x86\\x86\\');\" class=\"a1\">\\xe5\\x86\\x86</a><a href=\"javascript:gotozi(\\'\\xe5\\x86\\x87\\');\" class=\"a1\">\\xe5\\x86\\x87</a><a href=\"javascript:gotozi(\\'\\xe5\\x8d\\x85\\');\" class=\"a1\">\\xe5\\x8d\\x85</a><a href=\"javascript:gotozi(\\'\\xe5\\x8d\\x88\\');\" class=\"a1\">\\xe5\\x8d\\x88</a><a href=\"javascript:gotozi(\\'\\xe5\\x8d\\x9d\\');\" class=\"a1\">\\xe5\\x8d\\x9d</a><a href=\"javascript:gotozi(\\'\\xe5\\x8d\\x9e\\');\" class=\"a1\">\\xe5\\x8d\\x9e</a><a href=\"javascript:gotozi(\\'\\xe5\\x8e\\x85\\');\" class=\"a1\">\\xe5\\x8e\\x85</a><a href=\"javascript:gotozi(\\'\\xe5\\x8e\\xb7\\');\" class=\"a1\">\\xe5\\x8e\\xb7</a><a href=\"javascript:gotozi(\\'\\xe5\\x8f\\x8b\\');\" class=\"a1\">\\xe5\\x8f\\x8b</a><a href=\"javascript:gotozi(\\'\\xe5\\xa3\\xac\\');\" class=\"a1\">\\xe5\\xa3\\xac</a><a href=\"javascript:gotozi(\\'\\xe5\\xa4\\xa9\\');\" class=\"a1\">\\xe5\\xa4\\xa9</a><a href=\"javascript:gotozi(\\'\\xe5\\xb7\\xbf\\');\" class=\"a1\">\\xe5\\xb7\\xbf</a><a href=\"javascript:gotozi(\\'\\xe5\\xb8\\x80\\');\" class=\"a1\">\\xe5\\xb8\\x80</a><a href=\"javascript:gotozi(\\'\\xe5\\xbb\\xbf\\');\" class=\"a1\">\\xe5\\xbb\\xbf</a><a href=\"javascript:gotozi(\\'\\xe5\\xbc\\x80\\');\" class=\"a1\">\\xe5\\xbc\\x80</a><a href=\"javascript:gotozi(\\'\\xe5\\xbc\\x8c\\');\" class=\"a1\">\\xe5\\xbc\\x8c</a><a href=\"javascript:gotozi(\\'\\xe5\\xbc\\x96\\');\" class=\"a1\">\\xe5\\xbc\\x96</a><a href=\"javascript:gotozi(\\'\\xe6\\x88\\xb8\\');\" class=\"a1\">\\xe6\\x88\\xb8</a><a href=\"javascript:gotozi(\\'\\xe6\\x97\\xa0\\');\" class=\"a1\">\\xe6\\x97\\xa0</a><a href=\"javascript:gotozi(\\'\\xe6\\x97\\xa1\\');\" class=\"a1\">\\xe6\\x97\\xa1</a><a href=\"javascript:gotozi(\\'\\xe6\\x97\\xa5\\');\" class=\"a1\">\\xe6\\x97\\xa5</a><a href=\"javascript:gotozi(\\'\\xe6\\x9b\\xb0\\');\" class=\"a1\">\\xe6\\x9b\\xb0</a><a href=\"javascript:gotozi(\\'\\xe6\\x9c\\xa9\\');\" class=\"a1\">\\xe6\\x9c\\xa9</a><a href=\"javascript:gotozi(\\'\\xe6\\xad\\xb9\\');\" class=\"a1\">\\xe6\\xad\\xb9</a><a href=\"javascript:gotozi(\\'\\xe6\\xb0\\x94\\');\" class=\"a1\">\\xe6\\xb0\\x94</a><a href=\"javascript:gotozi(\\'\\xe7\\x89\\x99\\');\" class=\"a1\">\\xe7\\x89\\x99</a><a href=\"javascript:gotozi(\\'\\xe7\\x8e\\x8b\\');\" class=\"a1\">\\xe7\\x8e\\x8b</a><a href=\"javascript:gotozi(\\'\\xe7\\x93\\xa6\\');\" class=\"a1\">\\xe7\\x93\\xa6</a><a href=\"javascript:gotozi(\\'\\xe8\\xae\\xa2\\');\" class=\"a1\">\\xe8\\xae\\xa2</a><a href=\"javascript:gotozi(\\'\\xe8\\xbd\\xa6\\');\" class=\"a1\">\\xe8\\xbd\\xa6</a><a href=\"javascript:gotozi(\\'\\xe8\\xbe\\xb7\\');\" class=\"a1\">\\xe8\\xbe\\xb7</a><a href=\"javascript:gotozi(\\'\\xe9\\x82\\x92\\');\" class=\"a1\">\\xe9\\x82\\x92</a><a href=\"javascript:gotozi(\\'\\xe9\\x97\\xa9\\');\" class=\"a1\">\\xe9\\x97\\xa9</a><a href=\"javascript:gotozi(\\'\\xef\\xa5\\xa7\\');\" class=\"a1\">\\xef\\xa5\\xa7</a><a href=\"javascript:gotozi(\\'\\xf0\\xa0\\x80\\x80\\');\" class=\"a1\">\\xf0\\xa0\\x80\\x80</a><a href=\"javascript:gotozi(\\'\\xf0\\xa0\\x80\\x87\\');\" class=\"a1\">\\xf0\\xa0\\x80\\x87</a><a href=\"javascript:gotozi(\\'\\xf0\\xa0\\x80\\x88\\');\" class=\"a1\">\\xf0\\xa0\\x80\\x88</a><a href=\"javascript:gotozi(\\'\\xf0\\xa0\\x80\\x89\\');\" class=\"a1\">\\xf0\\xa0\\x80\\x89</a><a href=\"javascript:gotozi(\\'\\xf0\\xa0\\x80\\x8a\\');\" class=\"a1\">\\xf0\\xa0\\x80\\x8a</a><a href=\"javascript:gotozi(\\'\\xf0\\xa0\\x80\\x8c\\');\" class=\"a1\">\\xf0\\xa0\\x80\\x8c</a><a href=\"javascript:gotozi(\\'\\xf0\\xa0\\x82\\x8f\\');\" class=\"a1\">\\xf0\\xa0\\x82\\x8f</a><a href=\"javascript:gotozi(\\'\\xf0\\xa0\\x83\\x98\\');\" class=\"a1\">\\xf0\\xa0\\x83\\x98</a><a href=\"javascript:gotozi(\\'\\xf0\\xa0\\x84\\xa1\\');\" class=\"a1\">\\xf0\\xa0\\x84\\xa1</a><a href=\"javascript:gotozi(\\'\\xf0\\xa0\\x85\\x81\\');\" class=\"a1\">\\xf0\\xa0\\x85\\x81</a><a href=\"javascript:gotozi(\\'\\xf0\\xa0\\x86\\xa6\\');\" class=\"a1\">\\xf0\\xa0\\x86\\xa6</a><a href=\"javascript:gotozi(\\'\\xf0\\xa0\\x91\\xb6\\');\" class=\"a1\">\\xf0\\xa0\\x91\\xb6</a><a href=\"javascript:gotozi(\\'\\xf0\\xa0\\x94\\x83\\');\" class=\"a1\">\\xf0\\xa0\\x94\\x83</a><a href=\"javascript:gotozi(\\'\\xf0\\xa0\\x94\\x84\\');\" class=\"a1\">\\xf0\\xa0\\x94\\x84</a><a href=\"javascript:gotozi(\\'\\xf0\\xa0\\x94\\xbe\\');\" class=\"a1\">\\xf0\\xa0\\x94\\xbe</a><a href=\"javascript:gotozi(\\'\\xf0\\xa0\\xa5\\xbb\\');\" class=\"a1\">\\xf0\\xa0\\xa5\\xbb</a><a href=\"javascript:gotozi(\\'\\xf0\\xa0\\xae\\x9b\\');\" class=\"a1\">\\xf0\\xa0\\xae\\x9b</a><a href=\"javascript:gotozi(\\'\\xf0\\xa1\\x97\\x93\\');\" class=\"a1\">\\xf0\\xa1\\x97\\x93</a><a href=\"javascript:gotozi(\\'\\xf0\\xa1\\xa4\\xbd\\');\" class=\"a1\">\\xf0\\xa1\\xa4\\xbd</a><a href=\"javascript:gotozi(\\'\\xf0\\xa1\\xad\\x95\\');\" class=\"a1\">\\xf0\\xa1\\xad\\x95</a><a href=\"javascript:gotozi(\\'\\xf0\\xa1\\xbf\\xa7\\');\" class=\"a1\">\\xf0\\xa1\\xbf\\xa7</a><a href=\"javascript:gotozi(\\'\\xf0\\xa2\\x86\\xb0\\');\" class=\"a1\">\\xf0\\xa2\\x86\\xb0</a><a href=\"javascript:gotozi(\\'\\xf0\\xa2\\x8d\\xbc\\');\" class=\"a1\">\\xf0\\xa2\\x8d\\xbc</a><a href=\"javascript:gotozi(\\'\\xf0\\xa3\\x8e\\xb4\\');\" class=\"a1\">\\xf0\\xa3\\x8e\\xb4</a><a href=\"javascript:gotozi(\\'\\xf0\\xa4\\x93\\xaf\\');\" class=\"a1\">\\xf0\\xa4\\x93\\xaf</a><a href=\"javascript:gotozi(\\'\\xf0\\xa4\\x9c\\x9a\\');\" class=\"a1\">\\xf0\\xa4\\x9c\\x9a</a><a href=\"javascript:gotozi(\\'\\xf0\\xa4\\xa3\\xa9\\');\" class=\"a1\">\\xf0\\xa4\\xa3\\xa9</a><a href=\"javascript:gotozi(\\'\\xf0\\xa5\\x98\\x85\\');\" class=\"a1\">\\xf0\\xa5\\x98\\x85</a><a href=\"javascript:gotozi(\\'\\xf0\\xa8\\xb8\\x91\\');\" class=\"a1\">\\xf0\\xa8\\xb8\\x91</a><a href=\"javascript:gotozi(\\'\\xf0\\xaa\\x9c\\x82\\');\" class=\"a1\">\\xf0\\xaa\\x9c\\x82</a><a href=\"javascript:gotozi(\\'\\xf0\\xaa\\x9c\\x88\\');\" class=\"a1\">\\xf0\\xaa\\x9c\\x88</a><a href=\"javascript:gotozi(\\'\\xf0\\xaa\\xa9\\xb2\\');\" class=\"a1\">\\xf0\\xaa\\xa9\\xb2</a><a href=\"javascript:gotozi(\\'\\xf0\\xab\\x9d\\x90\\');\" class=\"a1\">\\xf0\\xab\\x9d\\x90</a><a href=\"javascript:gotozi(\\'\\xf0\\xab\\x9d\\xa4\\');\" class=\"a1\">\\xf0\\xab\\x9d\\xa4</a><a href=\"javascript:gotozi(\\'\\xf0\\xab\\x9e\\xa9\\');\" class=\"a1\">\\xf0\\xab\\x9e\\xa9</a><a href=\"javascript:gotozi(\\'\\xf0\\xab\\xa0\\x89\\');\" class=\"a1\">\\xf0\\xab\\xa0\\x89</a><a href=\"javascript:gotozi(\\'\\xf0\\xab\\xa0\\xa1\\');\" class=\"a1\">\\xf0\\xab\\xa0\\xa1</a><a href=\"javascript:gotozi(\\'\\xf0\\xab\\xa9\\x8f\\');\" class=\"a1\">\\xf0\\xab\\xa9\\x8f</a><a href=\"javascript:gotozi(\\'\\xe3\\x90\\x80\\');\" class=\"a1\">\\xe3\\x90\\x80</a><a href=\"javascript:gotozi(\\'\\xe3\\x90\\x8c\\');\" class=\"a1\">\\xe3\\x90\\x8c</a><a href=\"javascript:gotozi(\\'\\xe3\\x90\\x8f\\');\" class=\"a1\">\\xe3\\x90\\x8f</a><a href=\"javascript:gotozi(\\'\\xe3\\x90\\xb3\\');\" class=\"a1\">\\xe3\\x90\\xb3</a><a href=\"javascript:gotozi(\\'\\xe3\\xa3\\x94\\');\" class=\"a1\">\\xe3\\xa3\\x94</a><a href=\"javascript:gotozi(\\'\\xe4\\x8d\\x8f\\');\" class=\"a1\">\\xe4\\x8d\\x8f</a><a href=\"javascript:gotozi(\\'\\xe4\\x92\\x93\\');\" class=\"a1\">\\xe4\\x92\\x93</a><a href=\"javascript:gotozi(\\'\\xe4\\xb8\\x94\\');\" class=\"a1\">\\xe4\\xb8\\x94</a><a href=\"javascript:gotozi(\\'\\xe4\\xb8\\x95\\');\" class=\"a1\">\\xe4\\xb8\\x95</a><a href=\"javascript:gotozi(\\'\\xe4\\xb8\\x97\\');\" class=\"a1\">\\xe4\\xb8\\x97</a><a href=\"javascript:gotozi(\\'\\xe4\\xb8\\x99\\');\" class=\"a1\">\\xe4\\xb8\\x99</a><a href=\"javascript:gotozi(\\'\\xe4\\xb8\\x9a\\');\" class=\"a1\">\\xe4\\xb8\\x9a</a><a href=\"javascript:gotozi(\\'\\xe4\\xb8\\x9b\\');\" class=\"a1\">\\xe4\\xb8\\x9b</a><a href=\"javascript:gotozi(\\'\\xe4\\xb8\\x9c\\');\" class=\"a1\">\\xe4\\xb8\\x9c</a><a href=\"javascript:gotozi(\\'\\xe4\\xb8\\x9d\\');\" class=\"a1\">\\xe4\\xb8\\x9d</a><a href=\"javascript:gotozi(\\'\\xe4\\xb8\\xb1\\');\" class=\"a1\">\\xe4\\xb8\\xb1</a><a href=\"javascript:gotozi(\\'\\xe4\\xbb\\xa1\\');\" class=\"a1\">\\xe4\\xbb\\xa1</a><a href=\"javascript:gotozi(\\'\\xe4\\xbb\\xa4\\');\" class=\"a1\">\\xe4\\xbb\\xa4</a><a href=\"javascript:gotozi(\\'\\xe4\\xbb\\xa7\\');\" class=\"a1\">\\xe4\\xbb\\xa7</a><a href=\"javascript:gotozi(\\'\\xe4\\xbb\\xa8\\');\" class=\"a1\">\\xe4\\xbb\\xa8</a><a href=\"javascript:gotozi(\\'\\xe4\\xbb\\xa9\\');\" class=\"a1\">\\xe4\\xbb\\xa9</a><a href=\"javascript:gotozi(\\'\\xe4\\xbb\\xba\\');\" class=\"a1\">\\xe4\\xbb\\xba</a><a href=\"javascript:gotozi(\\'\\xe5\\x85\\xb0\\');\" class=\"a1\">\\xe5\\x85\\xb0</a><a href=\"javascript:gotozi(\\'\\xe5\\x86\\x8a\\');\" class=\"a1\">\\xe5\\x86\\x8a</a><a href=\"javascript:gotozi(\\'\\xe5\\x86\\x8c\\');\" class=\"a1\">\\xe5\\x86\\x8c</a><a href=\"javascript:gotozi(\\'\\xe5\\x86\\x99\\');\" class=\"a1\">\\xe5\\x86\\x99</a><a href=\"javascript:gotozi(\\'\\xe5\\x88\\x89\\');\" class=\"a1\">\\xe5\\x88\\x89</a><a href=\"javascript:gotozi(\\'\\xe5\\x8a\\xa2\\');\" class=\"a1\">\\xe5\\x8a\\xa2</a><a href=\"javascript:gotozi(\\'\\xe5\\x8d\\xa1\\');\" class=\"a1\">\\xe5\\x8d\\xa1</a><a href=\"javascript:gotozi(\\'\\xe5\\x8d\\xae\\');\" class=\"a1\">\\xe5\\x8d\\xae</a><a href=\"javascript:gotozi(\\'\\xe5\\x8e\\x89\\');\" class=\"a1\">\\xe5\\x8e\\x89</a><a href=\"javascript:gotozi(\\'\\xe5\\x8f\\xae\\');\" class=\"a1\">\\xe5\\x8f\\xae</a><a href=\"javascript:gotozi(\\'\\xe5\\x8f\\xaf\\');\" class=\"a1\">\\xe5\\x8f\\xaf</a><a href=\"javascript:gotozi(\\'\\xe5\\x8f\\xb3\\');\" class=\"a1\">\\xe5\\x8f\\xb3</a><a href=\"javascript:gotozi(\\'\\xe5\\x8f\\xb7\\');\" class=\"a1\">\\xe5\\x8f\\xb7</a><a href=\"javascript:gotozi(\\'\\xe5\\x8f\\xb8\\');\" class=\"a1\">\\xe5\\x8f\\xb8</a><a href=\"javascript:gotozi(\\'\\xe5\\x9c\\xa2\\');\" class=\"a1\">\\xe5\\x9c\\xa2</a><a href=\"javascript:gotozi(\\'\\xe5\\xa5\\xb5\\');\" class=\"a1\">\\xe5\\xa5\\xb5</a><a href=\"javascript:gotozi(\\'\\xe5\\xae\\x81\\');\" class=\"a1\">\\xe5\\xae\\x81</a><a href=\"javascript:gotozi(\\'\\xe5\\xb0\\x93\\');\" class=\"a1\">\\xe5\\xb0\\x93</a><a href=\"javascript:gotozi(\\'\\xe5\\xb7\\xa6\\');\" class=\"a1\">\\xe5\\xb7\\xa6</a><a href=\"javascript:gotozi(\\'\\xe5\\xb7\\xa7\\');\" class=\"a1\">\\xe5\\xb7\\xa7</a><a href=\"javascript:gotozi(\\'\\xe5\\xb8\\x83\\');\" class=\"a1\">\\xe5\\xb8\\x83</a><a href=\"javascript:gotozi(\\'\\xe5\\xb8\\x84\\');\" class=\"a1\">\\xe5\\xb8\\x84</a><a href=\"javascript:gotozi(\\'\\xe5\\xba\\x81\\');\" class=\"a1\">\\xe5\\xba\\x81</a><a href=\"javascript:gotozi(\\'\\xe5\\xbf\\x8a\\');\" class=\"a1\">\\xe5\\xbf\\x8a</a><a href=\"javascript:gotozi(\\'\\xe6\\x88\\x8b\\');\" class=\"a1\">\\xe6\\x88\\x8b</a><a href=\"javascript:gotozi(\\'\\xe6\\x89\\x93\\');\" class=\"a1\">\\xe6\\x89\\x93</a><a href=\"javascript:gotozi(\\'\\xe6\\x97\\xa6\\');\" class=\"a1\">\\xe6\\x97\\xa6</a><a href=\"javascript:gotozi(\\'\\xe6\\x9c\\xaa\\');\" class=\"a1\">\\xe6\\x9c\\xaa</a><a href=\"javascript:gotozi(\\'\\xe6\\x9c\\xab\\');\" class=\"a1\">\\xe6\\x9c\\xab</a><a href=\"javascript:gotozi(\\'\\xe6\\x9c\\xac\\');\" class=\"a1\">\\xe6\\x9c\\xac</a><a href=\"javascript:gotozi(\\'\\xe6\\xad\\xa3\\');\" class=\"a1\">\\xe6\\xad\\xa3</a><a href=\"javascript:gotozi(\\'\\xe6\\xb0\\x90\\');\" class=\"a1\">\\xe6\\xb0\\x90</a><a href=\"javascript:gotozi(\\'\\xe6\\xb0\\x95\\');\" class=\"a1\">\\xe6\\xb0\\x95</a><a href=\"javascript:gotozi(\\'\\xe6\\xb1\\x80\\');\" class=\"a1\">\\xe6\\xb1\\x80</a><a href=\"javascript:gotozi(\\'\\xe6\\xb1\\x85\\');\" class=\"a1\">\\xe6\\xb1\\x85</a><a href=\"javascript:gotozi(\\'\\xe7\\x81\\xad\\');\" class=\"a1\">\\xe7\\x81\\xad</a><a href=\"javascript:gotozi(\\'\\xe7\\x94\\xb4\\');\" class=\"a1\">\\xe7\\x94\\xb4</a><a href=\"javascript:gotozi(\\'\\xe7\\x9a\\xbf\\');\" class=\"a1\">\\xe7\\x9a\\xbf</a><a href=\"javascript:gotozi(\\'\\xe7\\x9b\\xae\\');\" class=\"a1\">\\xe7\\x9b\\xae</a><a href=\"javascript:gotozi(\\'\\xe7\\x9f\\xb3\\');\" class=\"a1\">\\xe7\\x9f\\xb3</a><a href=\"javascript:gotozi(\\'\\xe7\\xab\\x8b\\');\" class=\"a1\">\\xe7\\xab\\x8b</a><a href=\"javascript:gotozi(\\'\\xe8\\x89\\xbc\\');\" class=\"a1\">\\xe8\\x89\\xbc</a><a href=\"javascript:gotozi(\\'\\xe8\\xae\\xa9\\');\" class=\"a1\">\\xe8\\xae\\xa9</a><a href=\"javascript:gotozi(\\'\\xe8\\xae\\xab\\');\" class=\"a1\">\\xe8\\xae\\xab</a><a href=\"javascript:gotozi(\\'\\xe9\\x98\\xa2\\');\" class=\"a1\">\\xe9\\x98\\xa2</a><a href=\"javascript:gotozi(\\'\\xe9\\x98\\xa3\\');\" class=\"a1\">\\xe9\\x98\\xa3</a><a href=\"javascript:gotozi(\\'\\xe9\\xa5\\xa4\\');\" class=\"a1\">\\xe9\\xa5\\xa4</a><a href=\"javascript:gotozi(\\'\\xe9\\xb8\\x9f\\');\" class=\"a1\">\\xe9\\xb8\\x9f</a><a href=\"javascript:gotozi(\\'\\xe9\\xbe\\x99\\');\" class=\"a1\">\\xe9\\xbe\\x99</a><a href=\"javascript:gotozi(\\'\\xef\\xa6\\xa8\\');\" class=\"a1\">\\xef\\xa6\\xa8</a><a href=\"javascript:gotozi(\\'\\xf0\\xa0\\x80\\x8e\\');\" class=\"a1\">\\xf0\\xa0\\x80\\x8e</a><a href=\"javascript:gotozi(\\'\\xf0\\xa0\\x80\\x8f\\');\" class=\"a1\">\\xf0\\xa0\\x80\\x8f</a><a href=\"javascript:gotozi(\\'\\xf0\\xa0\\x80\\x90\\');\" class=\"a1\">\\xf0\\xa0\\x80\\x90</a><a href=\"javascript:gotozi(\\'\\xf0\\xa0\\x80\\x91\\');\" class=\"a1\">\\xf0\\xa0\\x80\\x91</a><a href=\"javascript:gotozi(\\'\\xf0\\xa0\\x80\\x92\\');\" class=\"a1\">\\xf0\\xa0\\x80\\x92</a><a href=\"javascript:gotozi(\\'\\xf0\\xa0\\x80\\x93\\');\" class=\"a1\">\\xf0\\xa0\\x80\\x93</a><a href=\"javascript:gotozi(\\'\\xf0\\xa0\\x80\\x94\\');\" class=\"a1\">\\xf0\\xa0\\x80\\x94</a><a href=\"javascript:gotozi(\\'\\xf0\\xa0\\x80\\x95\\');\" class=\"a1\">\\xf0\\xa0\\x80\\x95</a><a href=\"javascript:gotozi(\\'\\xf0\\xa0\\x81\\xbf\\');\" class=\"a1\">\\xf0\\xa0\\x81\\xbf</a><a href=\"javascript:gotozi(\\'\\xf0\\xa0\\x82\\x96\\');\" class=\"a1\">\\xf0\\xa0\\x82\\x96</a><a href=\"javascript:gotozi(\\'\\xf0\\xa0\\x82\\x99\\');\" class=\"a1\">\\xf0\\xa0\\x82\\x99</a><a href=\"javascript:gotozi(\\'\\xf0\\xa0\\x82\\x9e\\');\" class=\"a1\">\\xf0\\xa0\\x82\\x9e</a><a href=\"javascript:gotozi(\\'\\xf0\\xa0\\x83\\x9e\\');\" class=\"a1\">\\xf0\\xa0\\x83\\x9e</a><a href=\"javascript:gotozi(\\'\\xf0\\xa0\\x86\\xac\\');\" class=\"a1\">\\xf0\\xa0\\x86\\xac</a><a href=\"javascript:gotozi(\\'\\xf0\\xa0\\x86\\xae\\');\" class=\"a1\">\\xf0\\xa0\\x86\\xae</a><a href=\"javascript:gotozi(\\'\\xf0\\xa0\\x86\\xb3\\');\" class=\"a1\">\\xf0\\xa0\\x86\\xb3</a><a href=\"javascript:gotozi(\\'\\xf0\\xa0\\x87\\x90\\');\" class=\"a1\">\\xf0\\xa0\\x87\\x90</a><a href=\"javascript:gotozi(\\'\\xf0\\xa0\\x91\\xb7\\');\" class=\"a1\">\\xf0\\xa0\\x91\\xb7</a><a href=\"javascript:gotozi(\\'\\xf0\\xa0\\x95\\x81\\');\" class=\"a1\">\\xf0\\xa0\\x95\\x81</a><a href=\"javascript:gotozi(\\'\\xf0\\xa0\\x95\\x82\\');\" class=\"a1\">\\xf0\\xa0\\x95\\x82</a><a href=\"javascript:gotozi(\\'\\xf0\\xa0\\x95\\x85\\');\" class=\"a1\">\\xf0\\xa0\\x95\\x85</a><a href=\"javascript:gotozi(\\'\\xf0\\xa0\\x95\\x86\\');\" class=\"a1\">\\xf0\\xa0\\x95\\x86</a><a href=\"javascript:gotozi(\\'\\xf0\\xa0\\x95\\x87\\');\" class=\"a1\">\\xf0\\xa0\\x95\\x87</a><a href=\"javascript:gotozi(\\'\\xf0\\xa0\\x95\\x8a\\');\" class=\"a1\">\\xf0\\xa0\\x95\\x8a</a><a href=\"javascript:gotozi(\\'\\xf0\\xa0\\x95\\xb6\\');\" class=\"a1\">\\xf0\\xa0\\x95\\xb6</a><a href=\"javascript:gotozi(\\'\\xf0\\xa0\\x96\\xaf\\');\" class=\"a1\">\\xf0\\xa0\\x96\\xaf</a><a href=\"javascript:gotozi(\\'\\xf0\\xa0\\x98\\xb2\\');\" class=\"a1\">\\xf0\\xa0\\x98\\xb2</a><a href=\"javascript:gotozi(\\'\\xf0\\xa0\\x98\\xba\\');\" class=\"a1\">\\xf0\\xa0\\x98\\xba</a><a href=\"javascript:gotozi(\\'\\xf0\\xa0\\x9a\\xae\\');\" class=\"a1\">\\xf0\\xa0\\x9a\\xae</a><a href=\"javascript:gotozi(\\'\\xf0\\xa0\\x9a\\xaf\\');\" class=\"a1\">\\xf0\\xa0\\x9a\\xaf</a><a href=\"javascript:gotozi(\\'\\xf0\\xa0\\x9a\\xbb\\');\" class=\"a1\">\\xf0\\xa0\\x9a\\xbb</a><a href=\"javascript:gotozi(\\'\\xf0\\xa0\\xa0\\xb6\\');\" class=\"a1\">\\xf0\\xa0\\xa0\\xb6</a><a href=\"javascript:gotozi(\\'\\xf0\\xa0\\xa4\\x90\\');\" class=\"a1\">\\xf0\\xa0\\xa4\\x90</a><a href=\"javascript:gotozi(\\'\\xf0\\xa0\\xa4\\xaf\\');\" class=\"a1\">\\xf0\\xa0\\xa4\\xaf</a><a href=\"javascript:gotozi(\\'\\xf0\\xa0\\xa5\\xbd\\');\" class=\"a1\">\\xf0\\xa0\\xa5\\xbd</a><a href=\"javascript:gotozi(\\'\\xf0\\xa0\\xa6\\x80\\');\" class=\"a1\">\\xf0\\xa0\\xa6\\x80</a><a href=\"javascript:gotozi(\\'\\xf0\\xa0\\xab\\x9b\\');\" class=\"a1\">\\xf0\\xa0\\xab\\x9b</a><a href=\"javascript:gotozi(\\'\\xf0\\xa0\\xac\\xa1\\');\" class=\"a1\">\\xf0\\xa0\\xac\\xa1</a><a href=\"javascript:gotozi(\\'\\xf0\\xa1\\x89\\x84\\');\" class=\"a1\">\\xf0\\xa1\\x89\\x84</a><a href=\"javascript:gotozi(\\'\\xf0\\xa1\\x97\\x97\\');\" class=\"a1\">\\xf0\\xa1\\x97\\x97</a><a href=\"javascript:gotozi(\\'\\xf0\\xa1\\x97\\x98\\');\" class=\"a1\">\\xf0\\xa1\\x97\\x98</a><a href=\"javascript:gotozi(\\'\\xf0\\xa1\\x97\\x99\\');\" class=\"a1\">\\xf0\\xa1\\x97\\x99</a><a href=\"javascript:gotozi(\\'\\xf0\\xa1\\x97\\x9a\\');\" class=\"a1\">\\xf0\\xa1\\x97\\x9a</a><a href=\"javascript:gotozi(\\'\\xf0\\xa1\\xa4\\xbe\\');\" class=\"a1\">\\xf0\\xa1\\xa4\\xbe</a><a href=\"javascript:gotozi(\\'\\xf0\\xa1\\xa5\\x82\\');\" class=\"a1\">\\xf0\\xa1\\xa5\\x82</a><a href=\"javascript:gotozi(\\'\\xf0\\xa1\\xaf\\x85\\');\" class=\"a1\">\\xf0\\xa1\\xaf\\x85</a><a href=\"javascript:gotozi(\\'\\xf0\\xa1\\xaf\\x8a\\');\" class=\"a1\">\\xf0\\xa1\\xaf\\x8a</a><a href=\"javascript:gotozi(\\'\\xf0\\xa1\\xb0\\xa8\\');\" class=\"a1\">\\xf0\\xa1\\xb0\\xa8</a><a href=\"javascript:gotozi(\\'\\xf0\\xa1\\xb3\\xbf\\');\" class=\"a1\">\\xf0\\xa1\\xb3\\xbf</a><a href=\"javascript:gotozi(\\'\\xf0\\xa1\\xb4\\xb5\\');\" class=\"a1\">\\xf0\\xa1\\xb4\\xb5</a><a href=\"javascript:gotozi(\\'\\xf0\\xa1\\xb4\\xb6\\');\" class=\"a1\">\\xf0\\xa1\\xb4\\xb6</a><a href=\"javascript:gotozi(\\'\\xf0\\xa2\\x81\\x93\\');\" class=\"a1\">\\xf0\\xa2\\x81\\x93</a><a href=\"javascript:gotozi(\\'\\xf0\\xa2\\x86\\x8a\\');\" class=\"a1\">\\xf0\\xa2\\x86\\x8a</a><a href=\"javascript:gotozi(\\'\\xf0\\xa2\\xa6\\x8c\\');\" class=\"a1\">\\xf0\\xa2\\xa6\\x8c</a><a href=\"javascript:gotozi(\\'\\xf0\\xa2\\xa8\\xa5\\');\" class=\"a1\">\\xf0\\xa2\\xa8\\xa5</a><a href=\"javascript:gotozi(\\'\\xf0\\xa2\\xa9\\xa8\\');\" class=\"a1\">\\xf0\\xa2\\xa9\\xa8</a><a href=\"javascript:gotozi(\\'\\xf0\\xa3\\x84\\xbc\\');\" class=\"a1\">\\xf0\\xa3\\x84\\xbc</a><a href=\"javascript:gotozi(\\'\\xf0\\xa3\\x8e\\xb6\\');\" class=\"a1\">\\xf0\\xa3\\x8e\\xb6</a><a href=\"javascript:gotozi(\\'\\xf0\\xa3\\xa5\\x84\\');\" class=\"a1\">\\xf0\\xa3\\xa5\\x84</a><a href=\"javascript:gotozi(\\'\\xf0\\xa3\\xa6\\xb5\\');\" class=\"a1\">\\xf0\\xa3\\xa6\\xb5</a><a href=\"javascript:gotozi(\\'\\xf0\\xa3\\xb1\\xb2\\');\" class=\"a1\">\\xf0\\xa3\\xb1\\xb2</a><a href=\"javascript:gotozi(\\'\\xf0\\xa3\\xb1\\xb3\\');\" class=\"a1\">\\xf0\\xa3\\xb1\\xb3</a><a href=\"javascript:gotozi(\\'\\xf0\\xa4\\x86\\x82\\');\" class=\"a1\">\\xf0\\xa4\\x86\\x82</a><a href=\"javascript:gotozi(\\'\\xf0\\xa4\\x95\\x9c\\');\" class=\"a1\">\\xf0\\xa4\\x95\\x9c</a><a href=\"javascript:gotozi(\\'\\xf0\\xa4\\x95\\xab\\');\" class=\"a1\">\\xf0\\xa4\\x95\\xab</a><a href=\"javascript:gotozi(\\'\\xf0\\xa4\\x95\\xac\\');\" class=\"a1\">\\xf0\\xa4\\x95\\xac</a><a href=\"javascript:gotozi(\\'\\xf0\\xa4\\x98\\x94\\');\" class=\"a1\">\\xf0\\xa4\\x98\\x94</a><a href=\"javascript:gotozi(\\'\\xf0\\xa4\\xaf\\x93\\');\" class=\"a1\">\\xf0\\xa4\\xaf\\x93</a><a href=\"javascript:gotozi(\\'\\xf0\\xa4\\xb4\\x93\\');\" class=\"a1\">\\xf0\\xa4\\xb4\\x93</a><a href=\"javascript:gotozi(\\'\\xf0\\xa6\\x89\\xb0\\');\" class=\"a1\">\\xf0\\xa6\\x89\\xb0</a><a href=\"javascript:gotozi(\\'\\xf0\\xa6\\x8d\\x8d\\');\" class=\"a1\">\\xf0\\xa6\\x8d\\x8d</a><a href=\"javascript:gotozi(\\'\\xf0\\xa6\\x98\\x92\\');\" class=\"a1\">\\xf0\\xa6\\x98\\x92</a><a href=\"javascript:gotozi(\\'\\xf0\\xa8\\x99\\xb1\\');\" class=\"a1\">\\xf0\\xa8\\x99\\xb1</a><a href=\"javascript:gotozi(\\'\\xf0\\xaa\\x9e\\xb6\\');\" class=\"a1\">\\xf0\\xaa\\x9e\\xb6</a><a href=\"javascript:gotozi(\\'\\xf0\\xaa\\xab\\x9d\\');\" class=\"a1\">\\xf0\\xaa\\xab\\x9d</a><a href=\"javascript:gotozi(\\'\\xf0\\xaa\\xad\\x89\\');\" class=\"a1\">\\xf0\\xaa\\xad\\x89</a><a href=\"javascript:gotozi(\\'\\xf0\\xaa\\xae\\x9a\\');\" class=\"a1\">\\xf0\\xaa\\xae\\x9a</a><a href=\"javascript:gotozi(\\'\\xf0\\xab\\x87\\xa5\\');\" class=\"a1\">\\xf0\\xab\\x87\\xa5</a><a href=\"javascript:gotozi(\\'\\xf0\\xab\\x9d\\x83\\');\" class=\"a1\">\\xf0\\xab\\x9d\\x83</a><a href=\"javascript:gotozi(\\'\\xf0\\xab\\x9d\\x89\\');\" class=\"a1\">\\xf0\\xab\\x9d\\x89</a><a href=\"javascript:gotozi(\\'\\xf0\\xab\\x9d\\x8a\\');\" class=\"a1\">\\xf0\\xab\\x9d\\x8a</a><a href=\"javascript:gotozi(\\'\\xf0\\xab\\x9d\\xb1\\');\" class=\"a1\">\\xf0\\xab\\x9d\\xb1</a><a href=\"javascript:gotozi(\\'\\xf0\\xab\\x9f\\xa7\\');\" class=\"a1\">\\xf0\\xab\\x9f\\xa7</a><a href=\"javascript:gotozi(\\'\\xf0\\xab\\xa0\\xa2\\');\" class=\"a1\">\\xf0\\xab\\xa0\\xa2</a><a href=\"javascript:gotozi(\\'\\xf0\\xab\\xa0\\xa3\\');\" class=\"a1\">\\xf0\\xab\\xa0\\xa3</a><a href=\"javascript:gotozi(\\'\\xf0\\xab\\xa9\\x91\\');\" class=\"a1\">\\xf0\\xab\\xa9\\x91</a><a href=\"javascript:gotozi(\\'\\xf0\\xab\\xbe\\xa6\\');\" class=\"a1\">\\xf0\\xab\\xbe\\xa6</a><a href=\"javascript:gotozi(\\'\\xf0\\xac\\x82\\x9c\\');\" class=\"a1\">\\xf0\\xac\\x82\\x9c</a><a href=\"javascript:gotozi(\\'\\xe3\\x90\\x81\\');\" class=\"a1\">\\xe3\\x90\\x81</a><a href=\"javascript:gotozi(\\'\\xe3\\x90\\x93\\');\" class=\"a1\">\\xe3\\x90\\x93</a><a href=\"javascript:gotozi(\\'\\xe3\\x90\\xb9\\');\" class=\"a1\">\\xe3\\x90\\xb9</a><a href=\"javascript:gotozi(\\'\\xe3\\x90\\xbe\\');\" class=\"a1\">\\xe3\\x90\\xbe</a><a href=\"javascript:gotozi(\\'\\xe3\\x92\\xab\\');\" class=\"a1\">\\xe3\\x92\\xab</a><a href=\"javascript:gotozi(\\'\\xe3\\x94\\x95\\');\" class=\"a1\">\\xe3\\x94\\x95</a><a href=\"javascript:gotozi(\\'\\xe3\\x94\\xba\\');\" class=\"a1\">\\xe3\\x94\\xba</a><a href=\"javascript:gotozi(\\'\\xe3\\x94\\xbb\\');\" class=\"a1\">\\xe3\\x94\\xbb</a><a href=\"javascript:gotozi(\\'\\xe3\\x95\\x82\\');\" class=\"a1\">\\xe3\\x95\\x82</a><a href=\"javascript:gotozi(\\'\\xe3\\x95\\x83\\');\" class=\"a1\">\\xe3\\x95\\x83</a><a href=\"javascript:gotozi(\\'\\xe3\\x95\\x84\\');\" class=\"a1\">\\xe3\\x95\\x84</a><a href=\"javascript:gotozi(\\'\\xe3\\x9a\\xa6\\');\" class=\"a1\">\\xe3\\x9a\\xa6</a><a href=\"javascript:gotozi(\\'\\xe3\\x9d\\x8d\\');\" class=\"a1\">\\xe3\\x9d\\x8d</a><a href=\"javascript:gotozi(\\'\\xe3\\x9d\\xb3\\');\" class=\"a1\">\\xe3\\x9d\\xb3</a><a href=\"javascript:gotozi(\\'\\xe3\\xa2\\xaa\\');\" class=\"a1\">\\xe3\\xa2\\xaa</a><a href=\"javascript:gotozi(\\'\\xe3\\xa7\\x87\\');\" class=\"a1\">\\xe3\\xa7\\x87</a><a href=\"javascript:gotozi(\\'\\xe3\\xb1\\x8f\\');\" class=\"a1\">\\xe3\\xb1\\x8f</a><a href=\"javascript:gotozi(\\'\\xe3\\xb1\\x99\\');\" class=\"a1\">\\xe3\\xb1\\x99</a><a href=\"javascript:gotozi(\\'\\xe3\\xbc\\x97\\');\" class=\"a1\">\\xe3\\xbc\\x97</a><a href=\"javascript:gotozi(\\'\\xe4\\x92\\x97\\');\" class=\"a1\">\\xe4\\x92\\x97</a><a href=\"javascript:gotozi(\\'\\xe4\\x92\\x99\\');\" class=\"a1\">\\xe4\\x92\\x99</a><a href=\"javascript:gotozi(\\'\\xe4\\xa2\\x8b\\');\" class=\"a1\">\\xe4\\xa2\\x8b</a><a href=\"javascript:gotozi(\\'\\xe4\\xb8\\x9e\\');\" class=\"a1\">\\xe4\\xb8\\x9e</a><a href=\"javascript:gotozi(\\'\\xe4\\xb8\\x9f\\');\" class=\"a1\">\\xe4\\xb8\\x9f</a><a href=\"javascript:gotozi(\\'\\xe4\\xb8\\xa0\\');\" class=\"a1\">\\xe4\\xb8\\xa0</a><a href=\"javascript:gotozi(\\'\\xe4\\xb8\\xa1\\');\" class=\"a1\">\\xe4\\xb8\\xa1</a><a href=\"javascript:gotozi(\\'\\xe4\\xba\\x98\\');\" class=\"a1\">\\xe4\\xba\\x98</a><a href=\"javascript:gotozi(\\'\\xe4\\xba\\x9a\\');\" class=\"a1\">\\xe4\\xba\\x9a</a><a href=\"javascript:gotozi(\\'\\xe4\\xbb\\xb1\\');\" class=\"a1\">\\xe4\\xbb\\xb1</a><a href=\"javascript:gotozi(\\'\\xe4\\xbb\\xb5\\');\" class=\"a1\">\\xe4\\xbb\\xb5</a><a href=\"javascript:gotozi(\\'\\xe4\\xbb\\xb9\\');\" class=\"a1\">\\xe4\\xbb\\xb9</a><a href=\"javascript:gotozi(\\'\\xe4\\xbb\\xbb\\');\" class=\"a1\">\\xe4\\xbb\\xbb</a><a href=\"javascript:gotozi(\\'\\xe4\\xbb\\xbe\\');\" class=\"a1\">\\xe4\\xbb\\xbe</a><a href=\"javascript:gotozi(\\'\\xe4\\xbc\\x82\\');\" class=\"a1\">\\xe4\\xbc\\x82</a><a href=\"javascript:gotozi(\\'\\xe4\\xbc\\x8d\\');\" class=\"a1\">\\xe4\\xbc\\x8d</a><a href=\"javascript:gotozi(\\'\\xe4\\xbc\\x93\\');\" class=\"a1\">\\xe4\\xbc\\x93</a><a href=\"javascript:gotozi(\\'\\xe4\\xbc\\xa4\\');\" class=\"a1\">\\xe4\\xbc\\xa4</a><a href=\"javascript:gotozi(\\'\\xe4\\xbc\\xab\\');\" class=\"a1\">\\xe4\\xbc\\xab</a><a href=\"javascript:gotozi(\\'\\xe5\\x85\\x85\\');\" class=\"a1\">\\xe5\\x85\\x85</a><a href=\"javascript:gotozi(\\'\\xe5\\x85\\x89\\');\" class=\"a1\">\\xe5\\x85\\x89</a><a href=\"javascript:gotozi(\\'\\xe5\\x85\\xb3\\');\" class=\"a1\">\\xe5\\x85\\xb3</a><a href=\"javascript:gotozi(\\'\\xe5\\x85\\xb4\\');\" class=\"a1\">\\xe5\\x85\\xb4</a><a href=\"javascript:gotozi(\\'\\xe5\\x86\\x8d\\');\" class=\"a1\">\\xe5\\x86\\x8d</a><a href=\"javascript:gotozi(\\'\\xe5\\x86\\xb1\\');\" class=\"a1\">\\xe5\\x86\\xb1</a><a href=\"javascript:gotozi(\\'\\xe5\\x88\\x8f\\');\" class=\"a1\">\\xe5\\x88\\x8f</a><a href=\"javascript:gotozi(\\'\\xe5\\x88\\x91\\');\" class=\"a1\">\\xe5\\x88\\x91</a><a href=\"javascript:gotozi(\\'\\xe5\\x88\\x93\\');\" class=\"a1\">\\xe5\\x88\\x93</a><a href=\"javascript:gotozi(\\'\\xe5\\x90\\x83\\');\" class=\"a1\">\\xe5\\x90\\x83</a><a href=\"javascript:gotozi(\\'\\xe5\\x90\\x88\\');\" class=\"a1\">\\xe5\\x90\\x88</a><a href=\"javascript:gotozi(\\'\\xe5\\x90\\x8c\\');\" class=\"a1\">\\xe5\\x90\\x8c</a><a href=\"javascript:gotozi(\\'\\xe5\\x90\\x8e\\');\" class=\"a1\">\\xe5\\x90\\x8e</a><a href=\"javascript:gotozi(\\'\\xe5\\x90\\x8f\\');\" class=\"a1\">\\xe5\\x90\\x8f</a><a href=\"javascript:gotozi(\\'\\xe5\\x90\\x93\\');\" class=\"a1\">\\xe5\\x90\\x93</a><a href=\"javascript:gotozi(\\'\\xe5\\x9c\\xa8\\');\" class=\"a1\">\\xe5\\x9c\\xa8</a><a href=\"javascript:gotozi(\\'\\xe5\\x9c\\xac\\');\" class=\"a1\">\\xe5\\x9c\\xac</a><a href=\"javascript:gotozi(\\'\\xe5\\x9c\\xb5\\');\" class=\"a1\">\\xe5\\x9c\\xb5</a><a href=\"javascript:gotozi(\\'\\xe5\\x9c\\xb7\\');\" class=\"a1\">\\xe5\\x9c\\xb7</a><a href=\"javascript:gotozi(\\'\\xe5\\xa4\\x99\\');\" class=\"a1\">\\xe5\\xa4\\x99</a><a href=\"javascript:gotozi(\\'\\xe5\\xa4\\xb8\\');\" class=\"a1\">\\xe5\\xa4\\xb8</a><a href=\"javascript:gotozi(\\'\\xe5\\xad\\x98\\');\" class=\"a1\">\\xe5\\xad\\x98</a><a href=\"javascript:gotozi(\\'\\xe5\\xb0\\x97\\');\" class=\"a1\">\\xe5\\xb0\\x97</a><a href=\"javascript:gotozi(\\'\\xe5\\xb0\\xa7\\');\" class=\"a1\">\\xe5\\xb0\\xa7</a><a href=\"javascript:gotozi(\\'\\xe5\\xb1\\xb0\\');\" class=\"a1\">\\xe5\\xb1\\xb0</a><a href=\"javascript:gotozi(\\'\\xe5\\xb1\\xb9\\');\" class=\"a1\">\\xe5\\xb1\\xb9</a><a href=\"javascript:gotozi(\\'\\xe5\\xb1\\xbc\\');\" class=\"a1\">\\xe5\\xb1\\xbc</a><a href=\"javascript:gotozi(\\'\\xe5\\xb1\\xbf\\');\" class=\"a1\">\\xe5\\xb1\\xbf</a><a href=\"javascript:gotozi(\\'\\xe5\\xb8\\x88\\');\" class=\"a1\">\\xe5\\xb8\\x88</a><a href=\"javascript:gotozi(\\'\\xe5\\xb9\\xb4\\');\" class=\"a1\">\\xe5\\xb9\\xb4</a><a href=\"javascript:gotozi(\\'\\xe5\\xb9\\xb6\\');\" class=\"a1\">\\xe5\\xb9\\xb6</a><a href=\"javascript:gotozi(\\'\\xe5\\xbc\\x8e\\');\" class=\"a1\">\\xe5\\xbc\\x8e</a><a href=\"javascript:gotozi(\\'\\xe5\\xbc\\x90\\');\" class=\"a1\">\\xe5\\xbc\\x90</a><a href=\"javascript:gotozi(\\'\\xe5\\xbf\\x94\\');\" class=\"a1\">\\xe5\\xbf\\x94</a><a href=\"javascript:gotozi(\\'\\xe6\\x88\\x8c\\');\" class=\"a1\">\\xe6\\x88\\x8c</a><a href=\"javascript:gotozi(\\'\\xe6\\x89\\x9d\\');\" class=\"a1\">\\xe6\\x89\\x9d</a><a href=\"javascript:gotozi(\\'\\xe6\\x89\\xa2\\');\" class=\"a1\">\\xe6\\x89\\xa2</a><a href=\"javascript:gotozi(\\'\\xe6\\x89\\xa4\\');\" class=\"a1\">\\xe6\\x89\\xa4</a><a href=\"javascript:gotozi(\\'\\xe6\\x94\\xb7\\');\" class=\"a1\">\\xe6\\x94\\xb7</a><a href=\"javascript:gotozi(\\'\\xe6\\x9c\\x89\\');\" class=\"a1\">\\xe6\\x9c\\x89</a><a href=\"javascript:gotozi(\\'\\xe6\\x9c\\xbd\\');\" class=\"a1\">\\xe6\\x9c\\xbd</a><a href=\"javascript:gotozi(\\'\\xe6\\x9c\\xbe\\');\" class=\"a1\">\\xe6\\x9c\\xbe</a><a href=\"javascript:gotozi(\\'\\xe6\\xb0\\x96\\');\" class=\"a1\">\\xe6\\xb0\\x96</a><a href=\"javascript:gotozi(\\'\\xe6\\xb0\\x97\\');\" class=\"a1\">\\xe6\\xb0\\x97</a><a href=\"javascript:gotozi(\\'\\xe6\\xb1\\x94\\');\" class=\"a1\">\\xe6\\xb1\\x94</a><a href=\"javascript:gotozi(\\'\\xe6\\xb1\\x9a\\');\" class=\"a1\">\\xe6\\xb1\\x9a</a><a href=\"javascript:gotozi(\\'\\xe6\\xb1\\xa1\\');\" class=\"a1\">\\xe6\\xb1\\xa1</a><a href=\"javascript:gotozi(\\'\\xe7\\x81\\xaf\\');\" class=\"a1\">\\xe7\\x81\\xaf</a><a href=\"javascript:gotozi(\\'\\xe7\\x81\\xb0\\');\" class=\"a1\">\\xe7\\x81\\xb0</a><a href=\"javascript:gotozi(\\'\\xe7\\x8a\\xb5\\');\" class=\"a1\">\\xe7\\x8a\\xb5</a><a href=\"javascript:gotozi(\\'\\xe7\\x8e\\x8e\\');\" class=\"a1\">\\xe7\\x8e\\x8e</a><a href=\"javascript:gotozi(\\'\\xe7\\x99\\xbe\\');\" class=\"a1\">\\xe7\\x99\\xbe</a><a href=\"javascript:gotozi(\\'\\xe7\\xba\\xa5\\');\" class=\"a1\">\\xe7\\xba\\xa5</a><a href=\"javascript:gotozi(\\'\\xe8\\x80\\x83\\');\" class=\"a1\">\\xe8\\x80\\x83</a><a href=\"javascript:gotozi(\\'\\xe8\\x80\\x8c\\');\" class=\"a1\">\\xe8\\x80\\x8c</a><a href=\"javascript:gotozi(\\'\\xe8\\x80\\x92\\');\" class=\"a1\">\\xe8\\x80\\x92</a><a href=\"javascript:gotozi(\\'\\xe8\\x80\\xb3\\');\" class=\"a1\">\\xe8\\x80\\xb3</a><a href=\"javascript:gotozi(\\'\\xe8\\x87\\xb3\\');\" class=\"a1\">\\xe8\\x87\\xb3</a><a href=\"javascript:gotozi(\\'\\xe8\\x8a\\x8c\\');\" class=\"a1\">\\xe8\\x8a\\x8c</a><a href=\"javascript:gotozi(\\'\\xe8\\x8a\\x90\\');\" class=\"a1\">\\xe8\\x8a\\x90</a><a href=\"javascript:gotozi(\\'\\xe8\\xa1\\x8c\\');\" class=\"a1\">\\xe8\\xa1\\x8c</a><a href=\"javascript:gotozi(\\'\\xe8\\xa5\\xbe\\');\" class=\"a1\">\\xe8\\xa5\\xbe</a><a href=\"javascript:gotozi(\\'\\xe8\\xa5\\xbf\\');\" class=\"a1\">\\xe8\\xa5\\xbf</a><a href=\"javascript:gotozi(\\'\\xe8\\xa6\\x80\\');\" class=\"a1\">\\xe8\\xa6\\x80</a><a href=\"javascript:gotozi(\\'\\xe8\\xae\\xb8\\');\" class=\"a1\">\\xe8\\xae\\xb8</a><a href=\"javascript:gotozi(\\'\\xe8\\xbf\\x83\\');\" class=\"a1\">\\xe8\\xbf\\x83</a><a href=\"javascript:gotozi(\\'\\xe8\\xbf\\x84\\');\" class=\"a1\">\\xe8\\xbf\\x84</a><a href=\"javascript:gotozi(\\'\\xe8\\xbf\\x88\\');\" class=\"a1\">\\xe8\\xbf\\x88</a><a href=\"javascript:gotozi(\\'\\xe9\\x82\\xa2\\');\" class=\"a1\">\\xe9\\x82\\xa2</a><a href=\"javascript:gotozi(\\'\\xe9\\x82\\xa6\\');\" class=\"a1\">\\xe9\\x82\\xa6</a><a href=\"javascript:gotozi(\\'\\xe9\\x82\\xa7\\');\" class=\"a1\">\\xe9\\x82\\xa7</a><a href=\"javascript:gotozi(\\'\\xe9\\x82\\xac\\');\" class=\"a1\">\\xe9\\x82\\xac</a><a href=\"javascript:gotozi(\\'\\xe9\\x97\\xab\\');\" class=\"a1\">\\xe9\\x97\\xab</a><a href=\"javascript:gotozi(\\'\\xe9\\x98\\xab\\');\" class=\"a1\">\\xe9\\x98\\xab</a><a href=\"javascript:gotozi(\\'\\xe9\\x98\\xae\\');\" class=\"a1\">\\xe9\\x98\\xae</a><a href=\"javascript:gotozi(\\'\\xe9\\xa1\\xb5\\');\" class=\"a1\">\\xe9\\xa1\\xb5</a><a href=\"javascript:gotozi(\\'\\xf0\\xa0\\x80\\x98\\');\" class=\"a1\">\\xf0\\xa0\\x80\\x98</a><a href=\"javascript:gotozi(\\'\\xf0\\xa0\\x80\\x99\\');\" class=\"a1\">\\xf0\\xa0\\x80\\x99</a><a href=\"javascript:gotozi(\\'\\xf0\\xa0\\x80\\x9a\\');\" class=\"a1\">\\xf0\\xa0\\x80\\x9a</a><a href=\"javascript:gotozi(\\'\\xf0\\xa0\\x80\\x9b\\');\" class=\"a1\">\\xf0\\xa0\\x80\\x9b</a><a href=\"javascript:gotozi(\\'\\xf0\\xa0\\x80\\x9c\\');\" class=\"a1\">\\xf0\\xa0\\x80\\x9c</a><a href=\"javascript:gotozi(\\'\\xf0\\xa0\\x80\\x9d\\');\" class=\"a1\">\\xf0\\xa0\\x80\\x9d</a><a href=\"javascript:gotozi(\\'\\xf0\\xa0\\x80\\x9e\\');\" class=\"a1\">\\xf0\\xa0\\x80\\x9e</a><a href=\"javascript:gotozi(\\'\\xf0\\xa0\\x80\\xa8\\');\" class=\"a1\">\\xf0\\xa0\\x80\\xa8</a><a href=\"javascript:gotozi(\\'\\xf0\\xa0\\x82\\xa0\\');\" class=\"a1\">\\xf0\\xa0\\x82\\xa0</a><a href=\"javascript:gotozi(\\'\\xf0\\xa0\\x82\\xa5\\');\" class=\"a1\">\\xf0\\xa0\\x82\\xa5</a><a href=\"javascript:gotozi(\\'\\xf0\\xa0\\x82\\xa6\\');\" class=\"a1\">\\xf0\\xa0\\x82\\xa6</a><a href=\"javascript:gotozi(\\'\\xf0\\xa0\\x82\\xa7\\');\" class=\"a1\">\\xf0\\xa0\\x82\\xa7</a><a href=\"javascript:gotozi(\\'\\xf0\\xa0\\x82\\xa8\\');\" class=\"a1\">\\xf0\\xa0\\x82\\xa8</a><a href=\"javascript:gotozi(\\'\\xf0\\xa0\\x82\\xaa\\');\" class=\"a1\">\\xf0\\xa0\\x82\\xaa</a><a href=\"javascript:gotozi(\\'\\xf0\\xa0\\x82\\xab\\');\" class=\"a1\">\\xf0\\xa0\\x82\\xab</a><a href=\"javascript:gotozi(\\'\\xf0\\xa0\\x84\\xa3\\');\" class=\"a1\">\\xf0\\xa0\\x84\\xa3</a><a href=\"javascript:gotozi(\\'\\xf0\\xa0\\x84\\xa5\\');\" class=\"a1\">\\xf0\\xa0\\x84\\xa5</a><a href=\"javascript:gotozi(\\'\\xf0\\xa0\\x85\\x87\\');\" class=\"a1\">\\xf0\\xa0\\x85\\x87</a><a href=\"javascript:gotozi(\\'\\xf0\\xa0\\x86\\xb4\\');\" class=\"a1\">\\xf0\\xa0\\x86\\xb4</a><a href=\"javascript:gotozi(\\'\\xf0\\xa0\\x86\\xb5\\');\" class=\"a1\">\\xf0\\xa0\\x86\\xb5</a><a href=\"javascript:gotozi(\\'\\xf0\\xa0\\x86\\xbb\\');\" class=\"a1\">\\xf0\\xa0\\x86\\xbb</a><a href=\"javascript:gotozi(\\'\\xf0\\xa0\\x86\\xbf\\');\" class=\"a1\">\\xf0\\xa0\\x86\\xbf</a><a href=\"javascript:gotozi(\\'\\xf0\\xa0\\x87\\x84\\');\" class=\"a1\">\\xf0\\xa0\\x87\\x84</a><a href=\"javascript:gotozi(\\'\\xf0\\xa0\\x87\\x85\\');\" class=\"a1\">\\xf0\\xa0\\x87\\x85</a><a href=\"javascript:gotozi(\\'\\xf0\\xa0\\x87\\x86\\');\" class=\"a1\">\\xf0\\xa0\\x87\\x86</a><a href=\"javascript:gotozi(\\'\\xf0\\xa0\\x87\\x8b\\');\" class=\"a1\">\\xf0\\xa0\\x87\\x8b</a><a href=\"javascript:gotozi(\\'\\xf0\\xa0\\x87\\x8f\\');\" class=\"a1\">\\xf0\\xa0\\x87\\x8f</a><a href=\"javascript:gotozi(\\'\\xf0\\xa0\\x91\\xba\\');\" class=\"a1\">\\xf0\\xa0\\x91\\xba</a><a href=\"javascript:gotozi(\\'\\xf0\\xa0\\x93\\xa1\\');\" class=\"a1\">\\xf0\\xa0\\x93\\xa1</a><a href=\"javascript:gotozi(\\'\\xf0\\xa0\\x95\\x8d\\');\" class=\"a1\">\\xf0\\xa0\\x95\\x8d</a><a href=\"javascript:gotozi(\\'\\xf0\\xa0\\x95\\x8f\\');\" class=\"a1\">\\xf0\\xa0\\x95\\x8f</a><a href=\"javascript:gotozi(\\'\\xf0\\xa0\\x95\\xb9\\');\" class=\"a1\">\\xf0\\xa0\\x95\\xb9</a><a href=\"javascript:gotozi(\\'\\xf0\\xa0\\x95\\xbb\\');\" class=\"a1\">\\xf0\\xa0\\x95\\xbb</a><a href=\"javascript:gotozi(\\'\\xf0\\xa0\\x96\\xb4\\');\" class=\"a1\">\\xf0\\xa0\\x96\\xb4</a><a href=\"javascript:gotozi(\\'\\xf0\\xa0\\x98\\xb5\\');\" class=\"a1\">\\xf0\\xa0\\x98\\xb5</a><a href=\"javascript:gotozi(\\'\\xf0\\xa0\\x98\\xb6\\');\" class=\"a1\">\\xf0\\xa0\\x98\\xb6</a><a href=\"javascript:gotozi(\\'\\xf0\\xa0\\x98\\xb9\\');\" class=\"a1\">\\xf0\\xa0\\x98\\xb9</a><a href=\"javascript:gotozi(\\'\\xf0\\xa0\\x99\\xbe\\');\" class=\"a1\">\\xf0\\xa0\\x99\\xbe</a><a href=\"javascript:gotozi(\\'\\xf0\\xa0\\x99\\xbf\\');\" class=\"a1\">\\xf0\\xa0\\x99\\xbf</a><a href=\"javascript:gotozi(\\'\\xf0\\xa0\\x9a\\x83\\');\" class=\"a1\">\\xf0\\xa0\\x9a\\x83</a><a href=\"javascript:gotozi(\\'\\xf0\\xa0\\x9a\\xb7\\');\" class=\"a1\">\\xf0\\xa0\\x9a\\xb7</a><a href=\"javascript:gotozi(\\'\\xf0\\xa0\\x9b\\x86\\');\" class=\"a1\">\\xf0\\xa0\\x9b\\x86</a><a href=\"javascript:gotozi(\\'\\xf0\\xa0\\x9b\\x89\\');\" class=\"a1\">\\xf0\\xa0\\x9b\\x89</a><a href=\"javascript:gotozi(\\'\\xf0\\xa0\\xa0\\xba\\');\" class=\"a1\">\\xf0\\xa0\\xa0\\xba</a><a href=\"javascript:gotozi(\\'\\xf0\\xa0\\xa1\\x80\\');\" class=\"a1\">\\xf0\\xa0\\xa1\\x80</a><a href=\"javascript:gotozi(\\'\\xf0\\xa0\\xa3\\x91\\');\" class=\"a1\">\\xf0\\xa0\\xa3\\x91</a><a href=\"javascript:gotozi(\\'\\xf0\\xa0\\xa4\\xae\\');\" class=\"a1\">\\xf0\\xa0\\xa4\\xae</a><a href=\"javascript:gotozi(\\'\\xf0\\xa0\\xa6\\x82\\');\" class=\"a1\">\\xf0\\xa0\\xa6\\x82</a><a href=\"javascript:gotozi(\\'\\xf0\\xa0\\xa6\\x87\\');\" class=\"a1\">\\xf0\\xa0\\xa6\\x87</a><a href=\"javascript:gotozi(\\'\\xf0\\xa0\\xa6\\x8b\\');\" class=\"a1\">\\xf0\\xa0\\xa6\\x8b</a><a href=\"javascript:gotozi(\\'\\xf0\\xa0\\xa7\\x94\\');\" class=\"a1\">\\xf0\\xa0\\xa7\\x94</a><a href=\"javascript:gotozi(\\'\\xf0\\xa0\\xa7\\x95\\');\" class=\"a1\">\\xf0\\xa0\\xa7\\x95</a><a href=\"javascript:gotozi(\\'\\xf0\\xa0\\xa7\\x97\\');\" class=\"a1\">\\xf0\\xa0\\xa7\\x97</a><a href=\"javascript:gotozi(\\'\\xf0\\xa0\\xa8\\x97\\');\" class=\"a1\">\\xf0\\xa0\\xa8\\x97</a><a href=\"javascript:gotozi(\\'\\xf0\\xa0\\xa8\\xb5\\');\" class=\"a1\">\\xf0\\xa0\\xa8\\xb5</a><a href=\"javascript:gotozi(\\'\\xf0\\xa0\\xa8\\xb7\\');\" class=\"a1\">\\xf0\\xa0\\xa8\\xb7</a><a href=\"javascript:gotozi(\\'\\xf0\\xa0\\xa8\\xba\\');\" class=\"a1\">\\xf0\\xa0\\xa8\\xba</a><a href=\"javascript:gotozi(\\'\\xf0\\xa0\\xab\\x9f\\');\" class=\"a1\">\\xf0\\xa0\\xab\\x9f</a><a href=\"javascript:gotozi(\\'\\xf0\\xa0\\xab\\xa2\\');\" class=\"a1\">\\xf0\\xa0\\xab\\xa2</a><a href=\"javascript:gotozi(\\'\\xf0\\xa0\\xae\\xb1\\');\" class=\"a1\">\\xf0\\xa0\\xae\\xb1</a><a href=\"javascript:gotozi(\\'\\xf0\\xa0\\xae\\xb2\\');\" class=\"a1\">\\xf0\\xa0\\xae\\xb2</a><a href=\"javascript:gotozi(\\'\\xf0\\xa0\\xae\\xb3\\');\" class=\"a1\">\\xf0\\xa0\\xae\\xb3</a><a href=\"javascript:gotozi(\\'\\xf0\\xa0\\xae\\xb4\\');\" class=\"a1\">\\xf0\\xa0\\xae\\xb4</a><a href=\"javascript:gotozi(\\'\\xf0\\xa0\\xae\\xb5\\');\" class=\"a1\">\\xf0\\xa0\\xae\\xb5</a><a href=\"javascript:gotozi(\\'\\xf0\\xa0\\xae\\xbe\\');\" class=\"a1\">\\xf0\\xa0\\xae\\xbe</a><a href=\"javascript:gotozi(\\'\\xf0\\xa0\\xaf\\x89\\');\" class=\"a1\">\\xf0\\xa0\\xaf\\x89</a><a href=\"javascript:gotozi(\\'\\xf0\\xa1\\x86\\xaa\\');\" class=\"a1\">\\xf0\\xa1\\x86\\xaa</a><a href=\"javascript:gotozi(\\'\\xf0\\xa1\\x86\\xad\\');\" class=\"a1\">\\xf0\\xa1\\x86\\xad</a><a href=\"javascript:gotozi(\\'\\xf0\\xa1\\x89\\x89\\');\" class=\"a1\">\\xf0\\xa1\\x89\\x89</a><a href=\"javascript:gotozi(\\'\\xf0\\xa1\\x89\\x8a\\');\" class=\"a1\">\\xf0\\xa1\\x89\\x8a</a><a href=\"javascript:gotozi(\\'\\xf0\\xa1\\x97\\xa3\\');\" class=\"a1\">\\xf0\\xa1\\x97\\xa3</a><a href=\"javascript:gotozi(\\'\\xf0\\xa1\\x97\\xa4\\');\" class=\"a1\">\\xf0\\xa1\\x97\\xa4</a><a href=\"javascript:gotozi(\\'\\xf0\\xa1\\x9a\\xaf\\');\" class=\"a1\">\\xf0\\xa1\\x9a\\xaf</a><a href=\"javascript:gotozi(\\'\\xf0\\xa1\\x9a\\xb2\\');\" class=\"a1\">\\xf0\\xa1\\x9a\\xb2</a><a href=\"javascript:gotozi(\\'\\xf0\\xa1\\xa6\\xbf\\');\" class=\"a1\">\\xf0\\xa1\\xa6\\xbf</a><a href=\"javascript:gotozi(\\'\\xf0\\xa1\\xa7\\x82\\');\" class=\"a1\">\\xf0\\xa1\\xa7\\x82</a><a href=\"javascript:gotozi(\\'\\xf0\\xa1\\xa7\\x83\\');\" class=\"a1\">\\xf0\\xa1\\xa7\\x83</a><a href=\"javascript:gotozi(\\'\\xf0\\xa1\\xa7\\x86\\');\" class=\"a1\">\\xf0\\xa1\\xa7\\x86</a><a href=\"javascript:gotozi(\\'\\xf0\\xa1\\xa7\\x88\\');\" class=\"a1\">\\xf0\\xa1\\xa7\\x88</a><a href=\"javascript:gotozi(\\'\\xf0\\xa1\\xa7\\x89\\');\" class=\"a1\">\\xf0\\xa1\\xa7\\x89</a><a href=\"javascript:gotozi(\\'\\xf0\\xa1\\xa7\\x8a\\');\" class=\"a1\">\\xf0\\xa1\\xa7\\x8a</a><a href=\"javascript:gotozi(\\'\\xf0\\xa1\\xad\\x99\\');\" class=\"a1\">\\xf0\\xa1\\xad\\x99</a><a href=\"javascript:gotozi(\\'\\xf0\\xa1\\xad\\x9a\\');\" class=\"a1\">\\xf0\\xa1\\xad\\x9a</a><a href=\"javascript:gotozi(\\'\\xf0\\xa1\\xaf\\x8d\\');\" class=\"a1\">\\xf0\\xa1\\xaf\\x8d</a><a href=\"javascript:gotozi(\\'\\xf0\\xa1\\xb4\\x83\\');\" class=\"a1\">\\xf0\\xa1\\xb4\\x83</a><a href=\"javascript:gotozi(\\'\\xf0\\xa1\\xb5\\x82\\');\" class=\"a1\">\\xf0\\xa1\\xb5\\x82</a><a href=\"javascript:gotozi(\\'\\xf0\\xa1\\xb5\\x89\\');\" class=\"a1\">\\xf0\\xa1\\xb5\\x89</a><a href=\"javascript:gotozi(\\'\\xf0\\xa1\\xb5\\x90\\');\" class=\"a1\">\\xf0\\xa1\\xb5\\x90</a><a href=\"javascript:gotozi(\\'\\xf0\\xa1\\xbf\\xa9\\');\" class=\"a1\">\\xf0\\xa1\\xbf\\xa9</a><a href=\"javascript:gotozi(\\'\\xf0\\xa1\\xbf\\xae\\');\" class=\"a1\">\\xf0\\xa1\\xbf\\xae</a><a href=\"javascript:gotozi(\\'\\xf0\\xa2\\x80\\x9a\\');\" class=\"a1\">\\xf0\\xa2\\x80\\x9a</a><a href=\"javascript:gotozi(\\'\\xf0\\xa2\\x81\\x9a\\');\" class=\"a1\">\\xf0\\xa2\\x81\\x9a</a><a href=\"javascript:gotozi(\\'\\xf0\\xa2\\x81\\x9b\\');\" class=\"a1\">\\xf0\\xa2\\x81\\x9b</a><a href=\"javascript:gotozi(\\'\\xf0\\xa2\\x81\\xa2\\');\" class=\"a1\">\\xf0\\xa2\\x81\\xa2</a><a href=\"javascript:gotozi(\\'\\xf0\\xa2\\x87\\x97\\');\" class=\"a1\">\\xf0\\xa2\\x87\\x97</a><a href=\"javascript:gotozi(\\'\\xf0\\xa2\\x87\\x9f\\');\" class=\"a1\">\\xf0\\xa2\\x87\\x9f</a><a href=\"javascript:gotozi(\\'\\xf0\\xa2\\x87\\xa1\\');\" class=\"a1\">\\xf0\\xa2\\x87\\xa1</a><a href=\"javascript:gotozi(\\'\\xf0\\xa2\\x8c\\xb1\\');\" class=\"a1\">\\xf0\\xa2\\x8c\\xb1</a><a href=\"javascript:gotozi(\\'\\xf0\\xa2\\x8d\\xbe\\');\" class=\"a1\">\\xf0\\xa2\\x8d\\xbe</a><a href=\"javascript:gotozi(\\'\\xf0\\xa2\\x8e\\xae\\');\" class=\"a1\">\\xf0\\xa2\\x8e\\xae</a><a href=\"javascript:gotozi(\\'\\xf0\\xa2\\x8e\\xb0\\');\" class=\"a1\">\\xf0\\xa2\\x8e\\xb0</a><a href=\"javascript:gotozi(\\'\\xf0\\xa2\\x8e\\xb2\\');\" class=\"a1\">\\xf0\\xa2\\x8e\\xb2</a><a href=\"javascript:gotozi(\\'\\xf0\\xa2\\x8e\\xb6\\');\" class=\"a1\">\\xf0\\xa2\\x8e\\xb6</a><a href=\"javascript:gotozi(\\'\\xf0\\xa2\\x97\\x83\\');\" class=\"a1\">\\xf0\\xa2\\x97\\x83</a><a href=\"javascript:gotozi(\\'\\xf0\\xa2\\x97\\x84\\');\" class=\"a1\">\\xf0\\xa2\\x97\\x84</a><a href=\"javascript:gotozi(\\'\\xf0\\xa2\\xa9\\xaf\\');\" class=\"a1\">\\xf0\\xa2\\xa9\\xaf</a><a href=\"javascript:gotozi(\\'\\xf0\\xa2\\xa9\\xb9\\');\" class=\"a1\">\\xf0\\xa2\\xa9\\xb9</a><a href=\"javascript:gotozi(\\'\\xf0\\xa2\\xaa\\x81\\');\" class=\"a1\">\\xf0\\xa2\\xaa\\x81</a><a href=\"javascript:gotozi(\\'\\xf0\\xa3\\x84\\xbe\\');\" class=\"a1\">\\xf0\\xa3\\x84\\xbe</a><a href=\"javascript:gotozi(\\'\\xf0\\xa3\\x84\\xbf\\');\" class=\"a1\">\\xf0\\xa3\\x84\\xbf</a><a href=\"javascript:gotozi(\\'\\xf0\\xa3\\xb1\\x95\\');\" class=\"a1\">\\xf0\\xa3\\xb1\\x95</a><a href=\"javascript:gotozi(\\'\\xf0\\xa3\\xb1\\x96\\');\" class=\"a1\">\\xf0\\xa3\\xb1\\x96</a><a href=\"javascript:gotozi(\\'\\xf0\\xa3\\xb2\\x85\\');\" class=\"a1\">\\xf0\\xa3\\xb2\\x85</a><a href=\"javascript:gotozi(\\'\\xf0\\xa3\\xb2\\x87\\');\" class=\"a1\">\\xf0\\xa3\\xb2\\x87</a><a href=\"javascript:gotozi(\\'\\xf0\\xa3\\xb2\\x8d\\');\" class=\"a1\">\\xf0\\xa3\\xb2\\x8d</a><a href=\"javascript:gotozi(\\'\\xf0\\xa4\\x86\\x89\\');\" class=\"a1\">\\xf0\\xa4\\x86\\x89</a><a href=\"javascript:gotozi(\\'\\xf0\\xa4\\x93\\xb3\\');\" class=\"a1\">\\xf0\\xa4\\x93\\xb3</a><a href=\"javascript:gotozi(\\'\\xf0\\xa4\\x98\\x96\\');\" class=\"a1\">\\xf0\\xa4\\x98\\x96</a><a href=\"javascript:gotozi(\\'\\xf0\\xa4\\xa3\\xaa\\');\" class=\"a1\">\\xf0\\xa4\\xa3\\xaa</a><a href=\"javascript:gotozi(\\'\\xf0\\xa4\\xaf\\x94\\');\" class=\"a1\">\\xf0\\xa4\\xaf\\x94</a><a href=\"javascript:gotozi(\\'\\xf0\\xa4\\xb0\\x93\\');\" class=\"a1\">\\xf0\\xa4\\xb0\\x93</a><a href=\"javascript:gotozi(\\'\\xf0\\xa4\\xb0\\x94\\');\" class=\"a1\">\\xf0\\xa4\\xb0\\x94</a><a href=\"javascript:gotozi(\\'\\xf0\\xa4\\xb4\\x95\\');\" class=\"a1\">\\xf0\\xa4\\xb4\\x95</a><a href=\"javascript:gotozi(\\'\\xf0\\xa5\\x8d\\x9d\\');\" class=\"a1\">\\xf0\\xa5\\x8d\\x9d</a><a href=\"javascript:gotozi(\\'\\xf0\\xa5\\x90\\x96\\');\" class=\"a1\">\\xf0\\xa5\\x90\\x96</a><a href=\"javascript:gotozi(\\'\\xf0\\xa5\\x9d\\x8d\\');\" class=\"a1\">\\xf0\\xa5\\x9d\\x8d</a><a href=\"javascript:gotozi(\\'\\xf0\\xa6\\x8d\\x8c\\');\" class=\"a1\">\\xf0\\xa6\\x8d\\x8c</a><a href=\"javascript:gotozi(\\'\\xf0\\xa6\\x92\\xb1\\');\" class=\"a1\">\\xf0\\xa6\\x92\\xb1</a><a href=\"javascript:gotozi(\\'\\xf0\\xa6\\x98\\xad\\');\" class=\"a1\">\\xf0\\xa6\\x98\\xad</a><a href=\"javascript:gotozi(\\'\\xf0\\xa6\\x98\\xb0\\');\" class=\"a1\">\\xf0\\xa6\\x98\\xb0</a><a href=\"javascript:gotozi(\\'\\xf0\\xa6\\xab\\xba\\');\" class=\"a1\">\\xf0\\xa6\\xab\\xba</a><a href=\"javascript:gotozi(\\'\\xf0\\xa7\\xa5\\x9b\\');\" class=\"a1\">\\xf0\\xa7\\xa5\\x9b</a><a href=\"javascript:gotozi(\\'\\xf0\\xa7\\xa5\\x9c\\');\" class=\"a1\">\\xf0\\xa7\\xa5\\x9c</a><a href=\"javascript:gotozi(\\'\\xf0\\xa7\\xb0\\xa7\\');\" class=\"a1\">\\xf0\\xa7\\xb0\\xa7</a><a href=\"javascript:gotozi(\\'\\xf0\\xa8\\x88\\x91\\');\" class=\"a1\">\\xf0\\xa8\\x88\\x91</a><a href=\"javascript:gotozi(\\'\\xf0\\xa8\\x91\\x97\\');\" class=\"a1\">\\xf0\\xa8\\x91\\x97</a><a href=\"javascript:gotozi(\\'\\xf0\\xa8\\x91\\x9c\\');\" class=\"a1\">\\xf0\\xa8\\x91\\x9c</a><a href=\"javascript:gotozi(\\'\\xf0\\xa8\\x99\\xb6\\');\" class=\"a1\">\\xf0\\xa8\\x99\\xb6</a><a href=\"javascript:gotozi(\\'\\xf0\\xa8\\x99\\xbd\\');\" class=\"a1\">\\xf0\\xa8\\x99\\xbd</a><a href=\"javascript:gotozi(\\'\\xf0\\xa8\\x9a\\x80\\');\" class=\"a1\">\\xf0\\xa8\\x9a\\x80</a><a href=\"javascript:gotozi(\\'\\xf0\\xa8\\x9a\\x84\\');\" class=\"a1\">\\xf0\\xa8\\x9a\\x84</a><a href=\"javascript:gotozi(\\'\\xf0\\xa8\\x9a\\x8e\\');\" class=\"a1\">\\xf0\\xa8\\x9a\\x8e</a><a href=\"javascript:gotozi(\\'\\xf0\\xa8\\x9a\\x8f\\');\" class=\"a1\">\\xf0\\xa8\\x9a\\x8f</a><a href=\"javascript:gotozi(\\'\\xf0\\xa8\\xb8\\x9b\\');\" class=\"a1\">\\xf0\\xa8\\xb8\\x9b</a><a href=\"javascript:gotozi(\\'\\xf0\\xa8\\xb8\\x9e\\');\" class=\"a1\">\\xf0\\xa8\\xb8\\x9e</a><a href=\"javascript:gotozi(\\'\\xf0\\xa8\\xb8\\xa6\\');\" class=\"a1\">\\xf0\\xa8\\xb8\\xa6</a><a href=\"javascript:gotozi(\\'\\xf0\\xa8\\xb8\\xa7\\');\" class=\"a1\">\\xf0\\xa8\\xb8\\xa7</a><a href=\"javascript:gotozi(\\'\\xf0\\xaa\\x9c\\xa8\\');\" class=\"a1\">\\xf0\\xaa\\x9c\\xa8</a><a href=\"javascript:gotozi(\\'\\xf0\\xaa\\x9e\\x98\\');\" class=\"a1\">\\xf0\\xaa\\x9e\\x98</a><a href=\"javascript:gotozi(\\'\\xf0\\xaa\\x9f\\xa9\\');\" class=\"a1\">\\xf0\\xaa\\x9f\\xa9</a><a href=\"javascript:gotozi(\\'\\xf0\\xaa\\xa5\\x83\\');\" class=\"a1\">\\xf0\\xaa\\xa5\\x83</a><a href=\"javascript:gotozi(\\'\\xf0\\xaa\\xa5\\xa4\\');\" class=\"a1\">\\xf0\\xaa\\xa5\\xa4</a><a href=\"javascript:gotozi(\\'\\xf0\\xaa\\xa8\\xa2\\');\" class=\"a1\">\\xf0\\xaa\\xa8\\xa2</a><a href=\"javascript:gotozi(\\'\\xf0\\xaa\\xa8\\xa3\\');\" class=\"a1\">\\xf0\\xaa\\xa8\\xa3</a><a href=\"javascript:gotozi(\\'\\xf0\\xaa\\xb5\\xa9\\');\" class=\"a1\">\\xf0\\xaa\\xb5\\xa9</a><a href=\"javascript:gotozi(\\'\\xf0\\xab\\x94\\xac\\');\" class=\"a1\">\\xf0\\xab\\x94\\xac</a><a href=\"javascript:gotozi(\\'\\xf0\\xab\\x9d\\x81\\');\" class=\"a1\">\\xf0\\xab\\x9d\\x81</a><a href=\"javascript:gotozi(\\'\\xf0\\xab\\x9d\\x87\\');\" class=\"a1\">\\xf0\\xab\\x9d\\x87</a><a href=\"javascript:gotozi(\\'\\xf0\\xab\\x9d\\xaf\\');\" class=\"a1\">\\xf0\\xab\\x9d\\xaf</a><a href=\"javascript:gotozi(\\'\\xf0\\xab\\x9e\\x84\\');\" class=\"a1\">\\xf0\\xab\\x9e\\x84</a><a href=\"javascript:gotozi(\\'\\xf0\\xab\\x9e\\xb9\\');\" class=\"a1\">\\xf0\\xab\\x9e\\xb9</a><a href=\"javascript:gotozi(\\'\\xf0\\xab\\xa0\\xa5\\');\" class=\"a1\">\\xf0\\xab\\xa0\\xa5</a><a href=\"javascript:gotozi(\\'\\xf0\\xab\\xa2\\x8b\\');\" class=\"a1\">\\xf0\\xab\\xa2\\x8b</a><a href=\"javascript:gotozi(\\'\\xf0\\xab\\xa2\\x8f\\');\" class=\"a1\">\\xf0\\xab\\xa2\\x8f</a><a href=\"javascript:gotozi(\\'\\xf0\\xab\\xa5\\x9e\\');\" class=\"a1\">\\xf0\\xab\\xa5\\x9e</a><a href=\"javascript:gotozi(\\'\\xf0\\xab\\xa5\\x9f\\');\" class=\"a1\">\\xf0\\xab\\xa5\\x9f</a><a href=\"javascript:gotozi(\\'\\xf0\\xab\\xa6\\xa5\\');\" class=\"a1\">\\xf0\\xab\\xa6\\xa5</a><a href=\"javascript:gotozi(\\'\\xf0\\xab\\xa7\\xba\\');\" class=\"a1\">\\xf0\\xab\\xa7\\xba</a><a href=\"javascript:gotozi(\\'\\xf0\\xab\\xb0\\x88\\');\" class=\"a1\">\\xf0\\xab\\xb0\\x88</a><a href=\"javascript:gotozi(\\'\\xf0\\xab\\xb7\\x94\\');\" class=\"a1\">\\xf0\\xab\\xb7\\x94</a><a href=\"javascript:gotozi(\\'\\xf0\\xab\\xb8\\x96\\');\" class=\"a1\">\\xf0\\xab\\xb8\\x96</a><a href=\"javascript:gotozi(\\'\\xf0\\xab\\xb9\\xae\\');\" class=\"a1\">\\xf0\\xab\\xb9\\xae</a><a href=\"javascript:gotozi(\\'\\xf0\\xac\\x80\\xa6\\');\" class=\"a1\">\\xf0\\xac\\x80\\xa6</a><a href=\"javascript:gotozi(\\'\\xf0\\xac\\x8f\\x9a\\');\" class=\"a1\">\\xf0\\xac\\x8f\\x9a</a><a href=\"javascript:gotozi(\\'\\xf0\\xac\\x90\\x83\\');\" class=\"a1\">\\xf0\\xac\\x90\\x83</a><a href=\"javascript:gotozi(\\'\\xf0\\xac\\xa3\\x9e\\');\" class=\"a1\">\\xf0\\xac\\xa3\\x9e</a><a href=\"javascript:gotozi(\\'\\xf0\\xac\\xae\\x9b\\');\" class=\"a1\">\\xf0\\xac\\xae\\x9b</a><a href=\"javascript:gotozi(\\'\\xf0\\xac\\xae\\xbb\\');\" class=\"a1\">\\xf0\\xac\\xae\\xbb</a><a href=\"javascript:gotozi(\\'\\xf0\\xac\\xb2\\xa7\\');\" class=\"a1\">\\xf0\\xac\\xb2\\xa7</a><a href=\"javascript:gotozi(\\'\\xf0\\xaf\\xa0\\x95\\');\" class=\"a1\">\\xf0\\xaf\\xa0\\x95</a><a href=\"javascript:gotozi(\\'\\xf0\\xaf\\xa0\\xa4\\');\" class=\"a1\">\\xf0\\xaf\\xa0\\xa4</a><a href=\"javascript:gotozi(\\'\\xf0\\xaf\\xa2\\x91\\');\" class=\"a1\">\\xf0\\xaf\\xa2\\x91</a><a href=\"javascript:gotozi(\\'\\xf0\\xaf\\xa2\\xb4\\');\" class=\"a1\">\\xf0\\xaf\\xa2\\xb4</a><a href=\"javascript:gotozi(\\'\\xe3\\x90\\xac\\');\" class=\"a1\">\\xe3\\x90\\xac</a><a href=\"javascript:gotozi(\\'\\xe3\\x91\\x82\\');\" class=\"a1\">\\xe3\\x91\\x82</a><a href=\"javascript:gotozi(\\'\\xe3\\x91\\x85\\');\" class=\"a1\">\\xe3\\x91\\x85</a><a href=\"javascript:gotozi(\\'\\xe3\\x92\\xb7\\');\" class=\"a1\">\\xe3\\x92\\xb7</a><a href=\"javascript:gotozi(\\'\\xe3\\x94\\xb7\\');\" class=\"a1\">\\xe3\\x94\\xb7</a><a href=\"javascript:gotozi(\\'\\xe3\\x95\\xa9\\');\" class=\"a1\">\\xe3\\x95\\xa9</a><a href=\"javascript:gotozi(\\'\\xe3\\x95\\xb6\\');\" class=\"a1\">\\xe3\\x95\\xb6</a><a href=\"javascript:gotozi(\\'\\xe3\\x98\\xaf\\');\" class=\"a1\">\\xe3\\x98\\xaf</a><a href=\"javascript:gotozi(\\'\\xe3\\x9d\\xb4\\');\" class=\"a1\">\\xe3\\x9d\\xb4</a><a href=\"javascript:gotozi(\\'\\xe3\\x9e\\xb0\\');\" class=\"a1\">\\xe3\\x9e\\xb0</a><a href=\"javascript:gotozi(\\'\\xe3\\x9e\\xb8\\');\" class=\"a1\">\\xe3\\x9e\\xb8</a><a href=\"javascript:gotozi(\\'\\xe3\\xa4\\x84\\');\" class=\"a1\">\\xe3\\xa4\\x84</a><a href=\"javascript:gotozi(\\'\\xe3\\xa6\\xaf\\');\" class=\"a1\">\\xe3\\xa6\\xaf</a><a href=\"javascript:gotozi(\\'\\xe3\\xa7\\x89\\');\" class=\"a1\">\\xe3\\xa7\\x89</a><a href=\"javascript:gotozi(\\'\\xe3\\xa7\\x8a\\');\" class=\"a1\">\\xe3\\xa7\\x8a</a><a href=\"javascript:gotozi(\\'\\xe3\\xa9\\xbf\\');\" class=\"a1\">\\xe3\\xa9\\xbf</a><a href=\"javascript:gotozi(\\'\\xe3\\xab\\x93\\');\" class=\"a1\">\\xe3\\xab\\x93</a><a href=\"javascript:gotozi(\\'\\xe3\\xab\\x94\\');\" class=\"a1\">\\xe3\\xab\\x94</a><a href=\"javascript:gotozi(\\'\\xe3\\xab\\x95\\');\" class=\"a1\">\\xe3\\xab\\x95</a><a href=\"javascript:gotozi(\\'\\xe3\\xab\\x96\\');\" class=\"a1\">\\xe3\\xab\\x96</a><a href=\"javascript:gotozi(\\'\\xe3\\xad\\x85\\');\" class=\"a1\">\\xe3\\xad\\x85</a><a href=\"javascript:gotozi(\\'\\xe3\\xb3\\x85\\');\" class=\"a1\">\\xe3\\xb3\\x85</a><a href=\"javascript:gotozi(\\'\\xe3\\xba\\xae\\');\" class=\"a1\">\\xe3\\xba\\xae</a><a href=\"javascript:gotozi(\\'\\xe3\\xbd\\xb2\\');\" class=\"a1\">\\xe3\\xbd\\xb2</a><a href=\"javascript:gotozi(\\'\\xe4\\x80\\x8e\\');\" class=\"a1\">\\xe4\\x80\\x8e</a><a href=\"javascript:gotozi(\\'\\xe4\\x86\\x91\\');\" class=\"a1\">\\xe4\\x86\\x91</a><a href=\"javascript:gotozi(\\'\\xe4\\x92\\xa0\\');\" class=\"a1\">\\xe4\\x92\\xa0</a><a href=\"javascript:gotozi(\\'\\xe4\\x92\\xa5\\');\" class=\"a1\">\\xe4\\x92\\xa5</a><a href=\"javascript:gotozi(\\'\\xe4\\xa2\\x80\\');\" class=\"a1\">\\xe4\\xa2\\x80</a><a href=\"javascript:gotozi(\\'\\xe4\\xa2\\x8c\\');\" class=\"a1\">\\xe4\\xa2\\x8c</a><a href=\"javascript:gotozi(\\'\\xe4\\xa2\\x8e\\');\" class=\"a1\">\\xe4\\xa2\\x8e</a><a href=\"javascript:gotozi(\\'\\xe4\\xb8\\xa3\\');\" class=\"a1\">\\xe4\\xb8\\xa3</a><a href=\"javascript:gotozi(\\'\\xe4\\xb8\\xa4\\');\" class=\"a1\">\\xe4\\xb8\\xa4</a><a href=\"javascript:gotozi(\\'\\xe4\\xb8\\xa5\\');\" class=\"a1\">\\xe4\\xb8\\xa5</a><a href=\"javascript:gotozi(\\'\\xe4\\xb8\\xbd\\');\" class=\"a1\">\\xe4\\xb8\\xbd</a><a href=\"javascript:gotozi(\\'\\xe4\\xba\\x8a\\');\" class=\"a1\">\\xe4\\xba\\x8a</a><a href=\"javascript:gotozi(\\'\\xe4\\xbc\\xb6\\');\" class=\"a1\">\\xe4\\xbc\\xb6</a><a href=\"javascript:gotozi(\\'\\xe4\\xbc\\xba\\');\" class=\"a1\">\\xe4\\xbc\\xba</a><a href=\"javascript:gotozi(\\'\\xe4\\xbc\\xbe\\');\" class=\"a1\">\\xe4\\xbc\\xbe</a><a href=\"javascript:gotozi(\\'\\xe4\\xbd\\x82\\');\" class=\"a1\">\\xe4\\xbd\\x82</a><a href=\"javascript:gotozi(\\'\\xe4\\xbd\\x86\\');\" class=\"a1\">\\xe4\\xbd\\x86</a><a href=\"javascript:gotozi(\\'\\xe4\\xbd\\x87\\');\" class=\"a1\">\\xe4\\xbd\\x87</a><a href=\"javascript:gotozi(\\'\\xe4\\xbd\\x8e\\');\" class=\"a1\">\\xe4\\xbd\\x8e</a><a href=\"javascript:gotozi(\\'\\xe4\\xbd\\x95\\');\" class=\"a1\">\\xe4\\xbd\\x95</a><a href=\"javascript:gotozi(\\'\\xe4\\xbd\\x99\\');\" class=\"a1\">\\xe4\\xbd\\x99</a><a href=\"javascript:gotozi(\\'\\xe4\\xbd\\xa5\\');\" class=\"a1\">\\xe4\\xbd\\xa5</a><a href=\"javascript:gotozi(\\'\\xe4\\xbd\\xa7\\');\" class=\"a1\">\\xe4\\xbd\\xa7</a><a href=\"javascript:gotozi(\\'\\xe5\\x85\\x8f\\');\" class=\"a1\">\\xe5\\x85\\x8f</a><a href=\"javascript:gotozi(\\'\\xe5\\x86\\xb7\\');\" class=\"a1\">\\xe5\\x86\\xb7</a><a href=\"javascript:gotozi(\\'\\xe5\\x87\\xac\\');\" class=\"a1\">\\xe5\\x87\\xac</a><a href=\"javascript:gotozi(\\'\\xe5\\x88\\xa2\\');\" class=\"a1\">\\xe5\\x88\\xa2</a><a href=\"javascript:gotozi(\\'\\xe5\\x88\\xaa\\');\" class=\"a1\">\\xe5\\x88\\xaa</a><a href=\"javascript:gotozi(\\'\\xe5\\x88\\xac\\');\" class=\"a1\">\\xe5\\x88\\xac</a><a href=\"javascript:gotozi(\\'\\xe5\\x8a\\xb1\\');\" class=\"a1\">\\xe5\\x8a\\xb1</a><a href=\"javascript:gotozi(\\'\\xe5\\x8e\\x8e\\');\" class=\"a1\">\\xe5\\x8e\\x8e</a><a href=\"javascript:gotozi(\\'\\xe5\\x8f\\x93\\');\" class=\"a1\">\\xe5\\x8f\\x93</a><a href=\"javascript:gotozi(\\'\\xe5\\x90\\x98\\');\" class=\"a1\">\\xe5\\x90\\x98</a><a href=\"javascript:gotozi(\\'\\xe5\\x90\\x9e\\');\" class=\"a1\">\\xe5\\x90\\x9e</a><a href=\"javascript:gotozi(\\'\\xe5\\x90\\x9f\\');\" class=\"a1\">\\xe5\\x90\\x9f</a><a href=\"javascript:gotozi(\\'\\xe5\\x90\\xa5\\');\" class=\"a1\">\\xe5\\x90\\xa5</a><a href=\"javascript:gotozi(\\'\\xe5\\x90\\xa6\\');\" class=\"a1\">\\xe5\\x90\\xa6</a><a href=\"javascript:gotozi(\\'\\xe5\\x90\\xab\\');\" class=\"a1\">\\xe5\\x90\\xab</a><a href=\"javascript:gotozi(\\'\\xe5\\x90\\xb4\\');\" class=\"a1\">\\xe5\\x90\\xb4</a><a href=\"javascript:gotozi(\\'\\xe5\\x90\\xbe\\');\" class=\"a1\">\\xe5\\x90\\xbe</a><a href=\"javascript:gotozi(\\'\\xe5\\x91\\x89\\');\" class=\"a1\">\\xe5\\x91\\x89</a><a href=\"javascript:gotozi(\\'\\xe5\\x91\\x9c\\');\" class=\"a1\">\\xe5\\x91\\x9c</a><a href=\"javascript:gotozi(\\'\\xe5\\x92\\x9e\\');\" class=\"a1\">\\xe5\\x92\\x9e</a><a href=\"javascript:gotozi(\\'\\xe5\\x9b\\xa8\\');\" class=\"a1\">\\xe5\\x9b\\xa8</a><a href=\"javascript:gotozi(\\'\\xe5\\x9b\\xad\\');\" class=\"a1\">\\xe5\\x9b\\xad</a><a href=\"javascript:gotozi(\\'\\xe5\\x9d\\x85\\');\" class=\"a1\">\\xe5\\x9d\\x85</a><a href=\"javascript:gotozi(\\'\\xe5\\x9d\\x8f\\');\" class=\"a1\">\\xe5\\x9d\\x8f</a><a href=\"javascript:gotozi(\\'\\xe5\\x9d\\x96\\');\" class=\"a1\">\\xe5\\x9d\\x96</a><a href=\"javascript:gotozi(\\'\\xe5\\x9d\\x98\\');\" class=\"a1\">\\xe5\\x9d\\x98</a><a href=\"javascript:gotozi(\\'\\xe5\\x9d\\x99\\');\" class=\"a1\">\\xe5\\x9d\\x99</a><a href=\"javascript:gotozi(\\'\\xe5\\x9d\\x9e\\');\" class=\"a1\">\\xe5\\x9d\\x9e</a><a href=\"javascript:gotozi(\\'\\xe5\\xa3\\xb3\\');\" class=\"a1\">\\xe5\\xa3\\xb3</a><a href=\"javascript:gotozi(\\'\\xe5\\xa4\\x86\\');\" class=\"a1\">\\xe5\\xa4\\x86</a><a href=\"javascript:gotozi(\\'\\xe5\\xa5\\x80\\');\" class=\"a1\">\\xe5\\xa5\\x80</a><a href=\"javascript:gotozi(\\'\\xe5\\xa6\\x8a\\');\" class=\"a1\">\\xe5\\xa6\\x8a</a><a href=\"javascript:gotozi(\\'\\xe5\\xa6\\x8d\\');\" class=\"a1\">\\xe5\\xa6\\x8d</a><a href=\"javascript:gotozi(\\'\\xe5\\xa6\\x97\\');\" class=\"a1\">\\xe5\\xa6\\x97</a><a href=\"javascript:gotozi(\\'\\xe5\\xa6\\x9a\\');\" class=\"a1\">\\xe5\\xa6\\x9a</a><a href=\"javascript:gotozi(\\'\\xe5\\xa6\\x9b\\');\" class=\"a1\">\\xe5\\xa6\\x9b</a><a href=\"javascript:gotozi(\\'\\xe5\\xa6\\xa6\\');\" class=\"a1\">\\xe5\\xa6\\xa6</a><a href=\"javascript:gotozi(\\'\\xe5\\xa6\\xa7\\');\" class=\"a1\">\\xe5\\xa6\\xa7</a><a href=\"javascript:gotozi(\\'\\xe5\\xa7\\x89\\');\" class=\"a1\">\\xe5\\xa7\\x89</a><a href=\"javascript:gotozi(\\'\\xe5\\xae\\x8c\\');\" class=\"a1\">\\xe5\\xae\\x8c</a><a href=\"javascript:gotozi(\\'\\xe5\\xae\\x90\\');\" class=\"a1\">\\xe5\\xae\\x90</a><a href=\"javascript:gotozi(\\'\\xe5\\xaf\\xbf\\');\" class=\"a1\">\\xe5\\xaf\\xbf</a><a href=\"javascript:gotozi(\\'\\xe5\\xb0\\xab\\');\" class=\"a1\">\\xe5\\xb0\\xab</a><a href=\"javascript:gotozi(\\'\\xe5\\xb2\\x8d\\');\" class=\"a1\">\\xe5\\xb2\\x8d</a><a href=\"javascript:gotozi(\\'\\xe5\\xb2\\x8f\\');\" class=\"a1\">\\xe5\\xb2\\x8f</a><a href=\"javascript:gotozi(\\'\\xe5\\xb2\\x91\\');\" class=\"a1\">\\xe5\\xb2\\x91</a><a href=\"javascript:gotozi(\\'\\xe5\\xb2\\x92\\');\" class=\"a1\">\\xe5\\xb2\\x92</a><a href=\"javascript:gotozi(\\'\\xe5\\xb7\\xa0\\');\" class=\"a1\">\\xe5\\xb7\\xa0</a><a href=\"javascript:gotozi(\\'\\xe5\\xb7\\xb5\\');\" class=\"a1\">\\xe5\\xb7\\xb5</a><a href=\"javascript:gotozi(\\'\\xe5\\xba\\x88\\');\" class=\"a1\">\\xe5\\xba\\x88</a><a href=\"javascript:gotozi(\\'\\xe5\\xba\\x94\\');\" class=\"a1\">\\xe5\\xba\\x94</a><a href=\"javascript:gotozi(\\'\\xe5\\xbc\\x83\\');\" class=\"a1\">\\xe5\\xbc\\x83</a><a href=\"javascript:gotozi(\\'\\xe5\\xbd\\xa2\\');\" class=\"a1\">\\xe5\\xbd\\xa2</a><a href=\"javascript:gotozi(\\'\\xe5\\xbf\\x90\\');\" class=\"a1\">\\xe5\\xbf\\x90</a><a href=\"javascript:gotozi(\\'\\xe5\\xbf\\x91\\');\" class=\"a1\">\\xe5\\xbf\\x91</a><a href=\"javascript:gotozi(\\'\\xe5\\xbf\\xa4\\');\" class=\"a1\">\\xe5\\xbf\\xa4</a><a href=\"javascript:gotozi(\\'\\xe5\\xbf\\xa8\\');\" class=\"a1\">\\xe5\\xbf\\xa8</a><a href=\"javascript:gotozi(\\'\\xe5\\xbf\\xad\\');\" class=\"a1\">\\xe5\\xbf\\xad</a><a href=\"javascript:gotozi(\\'\\xe5\\xbf\\xb4\\');\" class=\"a1\">\\xe5\\xbf\\xb4</a><a href=\"javascript:gotozi(\\'\\xe5\\xbf\\xbe\\');\" class=\"a1\">\\xe5\\xbf\\xbe</a><a href=\"javascript:gotozi(\\'\\xe6\\x80\\x80\\');\" class=\"a1\">\\xe6\\x80\\x80</a><a href=\"javascript:gotozi(\\'\\xe6\\x89\\xb2\\');\" class=\"a1\">\\xe6\\x89\\xb2</a><a href=\"javascript:gotozi(\\'\\xe6\\x8a\\x83\\');\" class=\"a1\">\\xe6\\x8a\\x83</a><a href=\"javascript:gotozi(\\'\\xe6\\x8a\\x8f\\');\" class=\"a1\">\\xe6\\x8a\\x8f</a><a href=\"javascript:gotozi(\\'\\xe6\\x8a\\x94\\');\" class=\"a1\">\\xe6\\x8a\\x94</a><a href=\"javascript:gotozi(\\'\\xe6\\x9b\\xb4\\');\" class=\"a1\">\\xe6\\x9b\\xb4</a><a href=\"javascript:gotozi(\\'\\xe6\\x9d\\x87\\');\" class=\"a1\">\\xe6\\x9d\\x87</a><a href=\"javascript:gotozi(\\'\\xe6\\x9d\\x8c\\');\" class=\"a1\">\\xe6\\x9d\\x8c</a><a href=\"javascript:gotozi(\\'\\xe6\\x9d\\x9a\\');\" class=\"a1\">\\xe6\\x9d\\x9a</a><a href=\"javascript:gotozi(\\'\\xe6\\x9d\\xa4\\');\" class=\"a1\">\\xe6\\x9d\\xa4</a><a href=\"javascript:gotozi(\\'\\xe6\\xac\\xa4\\');\" class=\"a1\">\\xe6\\xac\\xa4</a><a href=\"javascript:gotozi(\\'\\xe6\\xaf\\x8f\\');\" class=\"a1\">\\xe6\\xaf\\x8f</a><a href=\"javascript:gotozi(\\'\\xe6\\xb0\\x99\\');\" class=\"a1\">\\xe6\\xb0\\x99</a><a href=\"javascript:gotozi(\\'\\xe6\\xb0\\x9a\\');\" class=\"a1\">\\xe6\\xb0\\x9a</a><a href=\"javascript:gotozi(\\'\\xe6\\xb1\\x82\\');\" class=\"a1\">\\xe6\\xb1\\x82</a><a href=\"javascript:gotozi(\\'\\xe6\\xb1\\xa7\\');\" class=\"a1\">\\xe6\\xb1\\xa7</a><a href=\"javascript:gotozi(\\'\\xe6\\xb1\\xb4\\');\" class=\"a1\">\\xe6\\xb1\\xb4</a><a href=\"javascript:gotozi(\\'\\xe6\\xb1\\xb5\\');\" class=\"a1\">\\xe6\\xb1\\xb5</a><a href=\"javascript:gotozi(\\'\\xe6\\xb1\\xbb\\');\" class=\"a1\">\\xe6\\xb1\\xbb</a><a href=\"javascript:gotozi(\\'\\xe6\\xb1\\xbd\\');\" class=\"a1\">\\xe6\\xb1\\xbd</a><a href=\"javascript:gotozi(\\'\\xe6\\xb2\\x85\\');\" class=\"a1\">\\xe6\\xb2\\x85</a><a href=\"javascript:gotozi(\\'\\xe6\\xb2\\x8d\\');\" class=\"a1\">\\xe6\\xb2\\x8d</a><a href=\"javascript:gotozi(\\'\\xe6\\xb2\\x9b\\');\" class=\"a1\">\\xe6\\xb2\\x9b</a><a href=\"javascript:gotozi(\\'\\xe6\\xb2\\x9e\\');\" class=\"a1\">\\xe6\\xb2\\x9e</a><a href=\"javascript:gotozi(\\'\\xe6\\xb2\\xa3\\');\" class=\"a1\">\\xe6\\xb2\\xa3</a><a href=\"javascript:gotozi(\\'\\xe7\\x8a\\xbb\\');\" class=\"a1\">\\xe7\\x8a\\xbb</a><a href=\"javascript:gotozi(\\'\\xe7\\x8a\\xbf\\');\" class=\"a1\">\\xe7\\x8a\\xbf</a><a href=\"javascript:gotozi(\\'\\xe7\\x8e\\x99\\');\" class=\"a1\">\\xe7\\x8e\\x99</a><a href=\"javascript:gotozi(\\'\\xe7\\x94\\xab\\');\" class=\"a1\">\\xe7\\x94\\xab</a><a href=\"javascript:gotozi(\\'\\xe7\\x94\\xb9\\');\" class=\"a1\">\\xe7\\x94\\xb9</a><a href=\"javascript:gotozi(\\'\\xe7\\x94\\xba\\');\" class=\"a1\">\\xe7\\x94\\xba</a><a href=\"javascript:gotozi(\\'\\xe7\\x94\\xbc\\');\" class=\"a1\">\\xe7\\x94\\xbc</a><a href=\"javascript:gotozi(\\'\\xe7\\x96\\x94\\');\" class=\"a1\">\\xe7\\x96\\x94</a><a href=\"javascript:gotozi(\\'\\xe7\\x9b\\xaf\\');\" class=\"a1\">\\xe7\\x9b\\xaf</a><a href=\"javascript:gotozi(\\'\\xe7\\x9f\\xb4\\');\" class=\"a1\">\\xe7\\x9f\\xb4</a><a href=\"javascript:gotozi(\\'\\xe7\\xba\\xb4\\');\" class=\"a1\">\\xe7\\xba\\xb4</a><a href=\"javascript:gotozi(\\'\\xe7\\xba\\xbb\\');\" class=\"a1\">\\xe7\\xba\\xbb</a><a href=\"javascript:gotozi(\\'\\xe7\\xbe\\x8c\\');\" class=\"a1\">\\xe7\\xbe\\x8c</a><a href=\"javascript:gotozi(\\'\\xe8\\x82\\x90\\');\" class=\"a1\">\\xe8\\x82\\x90</a><a href=\"javascript:gotozi(\\'\\xe8\\x82\\x9f\\');\" class=\"a1\">\\xe8\\x82\\x9f</a><a href=\"javascript:gotozi(\\'\\xe8\\x8a\\x88\\');\" class=\"a1\">\\xe8\\x8a\\x88</a><a href=\"javascript:gotozi(\\'\\xe8\\x8a\\x9e\\');\" class=\"a1\">\\xe8\\x8a\\x9e</a><a href=\"javascript:gotozi(\\'\\xe8\\x8a\\xa3\\');\" class=\"a1\">\\xe8\\x8a\\xa3</a><a href=\"javascript:gotozi(\\'\\xe8\\x8a\\xa9\\');\" class=\"a1\">\\xe8\\x8a\\xa9</a><a href=\"javascript:gotozi(\\'\\xe8\\x8a\\xab\\');\" class=\"a1\">\\xe8\\x8a\\xab</a><a href=\"javascript:gotozi(\\'\\xe8\\x8a\\xbe\\');\" class=\"a1\">\\xe8\\x8a\\xbe</a><a href=\"javascript:gotozi(\\'\\xe8\\x8b\\x84\\');\" class=\"a1\">\\xe8\\x8b\\x84</a><a href=\"javascript:gotozi(\\'\\xe8\\x8b\\x8e\\');\" class=\"a1\">\\xe8\\x8b\\x8e</a><a href=\"javascript:gotozi(\\'\\xe8\\x8c\\xbe\\');\" class=\"a1\">\\xe8\\x8c\\xbe</a><a href=\"javascript:gotozi(\\'\\xe8\\xaf\\x81\\');\" class=\"a1\">\\xe8\\xaf\\x81</a> \\r\\n'"
      ]
     },
     "execution_count": 8,
     "metadata": {},
     "output_type": "execute_result"
    }
   ],
   "source": [
    "r.content"
   ]
  },
  {
   "cell_type": "code",
   "execution_count": 9,
   "metadata": {},
   "outputs": [],
   "source": [
    "url1 = 'http://www.guoxuedashi.com/zidian/bujian/zidian/so.php'"
   ]
  },
  {
   "cell_type": "code",
   "execution_count": 10,
   "metadata": {},
   "outputs": [
    {
     "ename": "SyntaxError",
     "evalue": "invalid syntax (<ipython-input-10-efd79d0f019b>, line 3)",
     "output_type": "error",
     "traceback": [
      "\u001b[0;36m  File \u001b[0;32m\"<ipython-input-10-efd79d0f019b>\"\u001b[0;36m, line \u001b[0;32m3\u001b[0m\n\u001b[0;31m    'kz': 1\u001b[0m\n\u001b[0m        ^\u001b[0m\n\u001b[0;31mSyntaxError\u001b[0m\u001b[0;31m:\u001b[0m invalid syntax\n"
     ]
    }
   ],
   "source": [
    "data1 = {\n",
    "    'sokey2':'𠀁'\n",
    "    'kz': 1\n",
    "}"
   ]
  },
  {
   "cell_type": "code",
   "execution_count": 11,
   "metadata": {},
   "outputs": [],
   "source": [
    "data1 = {\n",
    "    'sokey2':'𠀁',\n",
    "    'kz': 1\n",
    "}"
   ]
  },
  {
   "cell_type": "code",
   "execution_count": 12,
   "metadata": {},
   "outputs": [],
   "source": [
    "r1 = requests.post(url1, data1)"
   ]
  },
  {
   "cell_type": "code",
   "execution_count": 13,
   "metadata": {},
   "outputs": [
    {
     "data": {
      "text/plain": [
       "404"
      ]
     },
     "execution_count": 13,
     "metadata": {},
     "output_type": "execute_result"
    }
   ],
   "source": [
    "r1.status_code"
   ]
  },
  {
   "cell_type": "code",
   "execution_count": 14,
   "metadata": {},
   "outputs": [],
   "source": [
    "import os"
   ]
  },
  {
   "cell_type": "code",
   "execution_count": 15,
   "metadata": {},
   "outputs": [
    {
     "data": {
      "text/plain": [
       "'C:\\\\Users\\\\Administrator'"
      ]
     },
     "execution_count": 15,
     "metadata": {},
     "output_type": "execute_result"
    }
   ],
   "source": [
    "os.getcwd()"
   ]
  },
  {
   "cell_type": "code",
   "execution_count": 16,
   "metadata": {},
   "outputs": [
    {
     "data": {
      "text/plain": [
       "['DirEntry',\n",
       " 'F_OK',\n",
       " 'MutableMapping',\n",
       " 'O_APPEND',\n",
       " 'O_BINARY',\n",
       " 'O_CREAT',\n",
       " 'O_EXCL',\n",
       " 'O_NOINHERIT',\n",
       " 'O_RANDOM',\n",
       " 'O_RDONLY',\n",
       " 'O_RDWR',\n",
       " 'O_SEQUENTIAL',\n",
       " 'O_SHORT_LIVED',\n",
       " 'O_TEMPORARY',\n",
       " 'O_TEXT',\n",
       " 'O_TRUNC',\n",
       " 'O_WRONLY',\n",
       " 'P_DETACH',\n",
       " 'P_NOWAIT',\n",
       " 'P_NOWAITO',\n",
       " 'P_OVERLAY',\n",
       " 'P_WAIT',\n",
       " 'PathLike',\n",
       " 'R_OK',\n",
       " 'SEEK_CUR',\n",
       " 'SEEK_END',\n",
       " 'SEEK_SET',\n",
       " 'TMP_MAX',\n",
       " 'W_OK',\n",
       " 'X_OK',\n",
       " '_Environ',\n",
       " '__all__',\n",
       " '__builtins__',\n",
       " '__cached__',\n",
       " '__doc__',\n",
       " '__file__',\n",
       " '__loader__',\n",
       " '__name__',\n",
       " '__package__',\n",
       " '__spec__',\n",
       " '_execvpe',\n",
       " '_exists',\n",
       " '_exit',\n",
       " '_fspath',\n",
       " '_get_exports_list',\n",
       " '_putenv',\n",
       " '_unsetenv',\n",
       " '_wrap_close',\n",
       " 'abc',\n",
       " 'abort',\n",
       " 'access',\n",
       " 'altsep',\n",
       " 'chdir',\n",
       " 'chmod',\n",
       " 'close',\n",
       " 'closerange',\n",
       " 'cpu_count',\n",
       " 'curdir',\n",
       " 'defpath',\n",
       " 'device_encoding',\n",
       " 'devnull',\n",
       " 'dup',\n",
       " 'dup2',\n",
       " 'environ',\n",
       " 'errno',\n",
       " 'error',\n",
       " 'execl',\n",
       " 'execle',\n",
       " 'execlp',\n",
       " 'execlpe',\n",
       " 'execv',\n",
       " 'execve',\n",
       " 'execvp',\n",
       " 'execvpe',\n",
       " 'extsep',\n",
       " 'fdopen',\n",
       " 'fsdecode',\n",
       " 'fsencode',\n",
       " 'fspath',\n",
       " 'fstat',\n",
       " 'fsync',\n",
       " 'ftruncate',\n",
       " 'get_exec_path',\n",
       " 'get_handle_inheritable',\n",
       " 'get_inheritable',\n",
       " 'get_terminal_size',\n",
       " 'getcwd',\n",
       " 'getcwdb',\n",
       " 'getenv',\n",
       " 'getlogin',\n",
       " 'getpid',\n",
       " 'getppid',\n",
       " 'isatty',\n",
       " 'kill',\n",
       " 'linesep',\n",
       " 'link',\n",
       " 'listdir',\n",
       " 'lseek',\n",
       " 'lstat',\n",
       " 'makedirs',\n",
       " 'mkdir',\n",
       " 'name',\n",
       " 'open',\n",
       " 'pardir',\n",
       " 'path',\n",
       " 'pathsep',\n",
       " 'pipe',\n",
       " 'popen',\n",
       " 'putenv',\n",
       " 'read',\n",
       " 'readlink',\n",
       " 'remove',\n",
       " 'removedirs',\n",
       " 'rename',\n",
       " 'renames',\n",
       " 'replace',\n",
       " 'rmdir',\n",
       " 'scandir',\n",
       " 'sep',\n",
       " 'set_handle_inheritable',\n",
       " 'set_inheritable',\n",
       " 'spawnl',\n",
       " 'spawnle',\n",
       " 'spawnv',\n",
       " 'spawnve',\n",
       " 'st',\n",
       " 'startfile',\n",
       " 'stat',\n",
       " 'stat_float_times',\n",
       " 'stat_result',\n",
       " 'statvfs_result',\n",
       " 'strerror',\n",
       " 'supports_bytes_environ',\n",
       " 'supports_dir_fd',\n",
       " 'supports_effective_ids',\n",
       " 'supports_fd',\n",
       " 'supports_follow_symlinks',\n",
       " 'symlink',\n",
       " 'sys',\n",
       " 'system',\n",
       " 'terminal_size',\n",
       " 'times',\n",
       " 'times_result',\n",
       " 'truncate',\n",
       " 'umask',\n",
       " 'uname_result',\n",
       " 'unlink',\n",
       " 'urandom',\n",
       " 'utime',\n",
       " 'waitpid',\n",
       " 'walk',\n",
       " 'write']"
      ]
     },
     "execution_count": 16,
     "metadata": {},
     "output_type": "execute_result"
    }
   ],
   "source": [
    "dir(os)"
   ]
  },
  {
   "cell_type": "code",
   "execution_count": 17,
   "metadata": {},
   "outputs": [
    {
     "name": "stdout",
     "output_type": "stream",
     "text": [
      "Help on built-in function chdir in module nt:\n",
      "\n",
      "chdir(path)\n",
      "    Change the current working directory to the specified path.\n",
      "    \n",
      "    path may always be specified as a string.\n",
      "    On some platforms, path may also be specified as an open file descriptor.\n",
      "      If this functionality is unavailable, using it raises an exception.\n",
      "\n"
     ]
    }
   ],
   "source": [
    "help(os.chdir)"
   ]
  },
  {
   "cell_type": "code",
   "execution_count": 18,
   "metadata": {},
   "outputs": [
    {
     "data": {
      "text/plain": [
       "['#ruyi.ai干货#人工智能行业的生态链竟是这样-XMjY0Mzc3NzE0MA.mp4',\n",
       " '.anaconda',\n",
       " '.android',\n",
       " '.astropy',\n",
       " '.condarc',\n",
       " '.continuum',\n",
       " '.csp_ovftool_settings.js',\n",
       " '.eclipse',\n",
       " '.gs4tr',\n",
       " '.idlerc',\n",
       " '.ipynb_checkpoints',\n",
       " '.ipython',\n",
       " '.jupyter',\n",
       " '.matplotlib',\n",
       " '.oracle_jre_usage',\n",
       " '.p2',\n",
       " '.pip',\n",
       " '.PyCharmCE2017.1',\n",
       " '.Rainbow',\n",
       " '.spyder-py3',\n",
       " '.swt',\n",
       " '.tooling',\n",
       " '.VirtualBox',\n",
       " '20180911.ipynb',\n",
       " '20180918.ipynb',\n",
       " '20181009.ipynb',\n",
       " '20181016.ipynb',\n",
       " '20181023.ipynb',\n",
       " 'AnacondaProjects',\n",
       " 'AppData',\n",
       " 'Application Data',\n",
       " 'aspell_python-1.15-cp36-cp36m-win_amd64.whl',\n",
       " 'big.txt',\n",
       " 'chinese_eg.txt',\n",
       " 'cmuclmtk-0.7-win32',\n",
       " 'Contacts',\n",
       " 'Cookies',\n",
       " 'corpara',\n",
       " 'debug_test.py',\n",
       " 'Desktop',\n",
       " 'DesktopTM',\n",
       " 'document.xml',\n",
       " 'Documents',\n",
       " 'Downloads',\n",
       " 'dump_text.txt',\n",
       " 'DVXProject',\n",
       " 'eclipse',\n",
       " 'eclipse-workspace',\n",
       " 'evening',\n",
       " 'Evernote',\n",
       " 'Favorites',\n",
       " 'Heartsome Workspace',\n",
       " 'Links',\n",
       " 'Local Settings',\n",
       " 'May2016.html',\n",
       " 'May2016.pdf',\n",
       " 'Music',\n",
       " 'My Documents',\n",
       " 'NetHood',\n",
       " 'nltk_data',\n",
       " 'NTUSER.DAT',\n",
       " 'ntuser.dat.LOG1',\n",
       " 'ntuser.dat.LOG2',\n",
       " 'NTUSER.DAT{016888bd-6c6f-11de-8d1d-001e0bcde3ec}.TM.blf',\n",
       " 'NTUSER.DAT{016888bd-6c6f-11de-8d1d-001e0bcde3ec}.TMContainer00000000000000000001.regtrans-ms',\n",
       " 'NTUSER.DAT{016888bd-6c6f-11de-8d1d-001e0bcde3ec}.TMContainer00000000000000000002.regtrans-ms',\n",
       " 'ntuser.ini',\n",
       " 'Pictures',\n",
       " 'PrintHood',\n",
       " 'PUTTY.RND',\n",
       " 'PycharmProjects',\n",
       " 'Recent',\n",
       " 'Saved Games',\n",
       " 'scikit_learn_data',\n",
       " 'Searches',\n",
       " 'SendTo',\n",
       " 'StanfordCoreNLP',\n",
       " 'Templates',\n",
       " 'test_write_docx - 副本.docx.zip',\n",
       " 'test_write_docx.docx',\n",
       " 'TMX Editor Workspace',\n",
       " 'Untitled.ipynb',\n",
       " 'Videos',\n",
       " 'VirtualBox VMs',\n",
       " 'wc',\n",
       " '「开始」菜单',\n",
       " '新建文件夹',\n",
       " '海知智能ruyi.ai他们研发了贤二机器僧“大脑”，还在造把你从工作中解放出来的机器人-XMjY1NjkxMDQ5Ng.mp4']"
      ]
     },
     "execution_count": 18,
     "metadata": {},
     "output_type": "execute_result"
    }
   ],
   "source": [
    "os.listdir('.')"
   ]
  },
  {
   "cell_type": "code",
   "execution_count": 19,
   "metadata": {},
   "outputs": [
    {
     "ename": "SyntaxError",
     "evalue": "invalid syntax (<ipython-input-19-631c79b5c70c>, line 1)",
     "output_type": "error",
     "traceback": [
      "\u001b[0;36m  File \u001b[0;32m\"<ipython-input-19-631c79b5c70c>\"\u001b[0;36m, line \u001b[0;32m1\u001b[0m\n\u001b[0;31m    os.chdir(''C:\\\\Users\\\\Administrator\\\\Desktop\\\\'')\u001b[0m\n\u001b[0m               ^\u001b[0m\n\u001b[0;31mSyntaxError\u001b[0m\u001b[0;31m:\u001b[0m invalid syntax\n"
     ]
    }
   ],
   "source": [
    "os.chdir(''C:\\\\Users\\\\Administrator\\\\Desktop\\\\'')"
   ]
  },
  {
   "cell_type": "code",
   "execution_count": 20,
   "metadata": {},
   "outputs": [],
   "source": [
    "os.chdir('C:\\\\Users\\\\Administrator\\\\Desktop\\\\')"
   ]
  },
  {
   "cell_type": "raw",
   "metadata": {},
   "source": [
    "os.listdir('.')"
   ]
  },
  {
   "cell_type": "code",
   "execution_count": 22,
   "metadata": {},
   "outputs": [
    {
     "data": {
      "text/plain": [
       "['DirEntry',\n",
       " 'F_OK',\n",
       " 'MutableMapping',\n",
       " 'O_APPEND',\n",
       " 'O_BINARY',\n",
       " 'O_CREAT',\n",
       " 'O_EXCL',\n",
       " 'O_NOINHERIT',\n",
       " 'O_RANDOM',\n",
       " 'O_RDONLY',\n",
       " 'O_RDWR',\n",
       " 'O_SEQUENTIAL',\n",
       " 'O_SHORT_LIVED',\n",
       " 'O_TEMPORARY',\n",
       " 'O_TEXT',\n",
       " 'O_TRUNC',\n",
       " 'O_WRONLY',\n",
       " 'P_DETACH',\n",
       " 'P_NOWAIT',\n",
       " 'P_NOWAITO',\n",
       " 'P_OVERLAY',\n",
       " 'P_WAIT',\n",
       " 'PathLike',\n",
       " 'R_OK',\n",
       " 'SEEK_CUR',\n",
       " 'SEEK_END',\n",
       " 'SEEK_SET',\n",
       " 'TMP_MAX',\n",
       " 'W_OK',\n",
       " 'X_OK',\n",
       " '_Environ',\n",
       " '__all__',\n",
       " '__builtins__',\n",
       " '__cached__',\n",
       " '__doc__',\n",
       " '__file__',\n",
       " '__loader__',\n",
       " '__name__',\n",
       " '__package__',\n",
       " '__spec__',\n",
       " '_execvpe',\n",
       " '_exists',\n",
       " '_exit',\n",
       " '_fspath',\n",
       " '_get_exports_list',\n",
       " '_putenv',\n",
       " '_unsetenv',\n",
       " '_wrap_close',\n",
       " 'abc',\n",
       " 'abort',\n",
       " 'access',\n",
       " 'altsep',\n",
       " 'chdir',\n",
       " 'chmod',\n",
       " 'close',\n",
       " 'closerange',\n",
       " 'cpu_count',\n",
       " 'curdir',\n",
       " 'defpath',\n",
       " 'device_encoding',\n",
       " 'devnull',\n",
       " 'dup',\n",
       " 'dup2',\n",
       " 'environ',\n",
       " 'errno',\n",
       " 'error',\n",
       " 'execl',\n",
       " 'execle',\n",
       " 'execlp',\n",
       " 'execlpe',\n",
       " 'execv',\n",
       " 'execve',\n",
       " 'execvp',\n",
       " 'execvpe',\n",
       " 'extsep',\n",
       " 'fdopen',\n",
       " 'fsdecode',\n",
       " 'fsencode',\n",
       " 'fspath',\n",
       " 'fstat',\n",
       " 'fsync',\n",
       " 'ftruncate',\n",
       " 'get_exec_path',\n",
       " 'get_handle_inheritable',\n",
       " 'get_inheritable',\n",
       " 'get_terminal_size',\n",
       " 'getcwd',\n",
       " 'getcwdb',\n",
       " 'getenv',\n",
       " 'getlogin',\n",
       " 'getpid',\n",
       " 'getppid',\n",
       " 'isatty',\n",
       " 'kill',\n",
       " 'linesep',\n",
       " 'link',\n",
       " 'listdir',\n",
       " 'lseek',\n",
       " 'lstat',\n",
       " 'makedirs',\n",
       " 'mkdir',\n",
       " 'name',\n",
       " 'open',\n",
       " 'pardir',\n",
       " 'path',\n",
       " 'pathsep',\n",
       " 'pipe',\n",
       " 'popen',\n",
       " 'putenv',\n",
       " 'read',\n",
       " 'readlink',\n",
       " 'remove',\n",
       " 'removedirs',\n",
       " 'rename',\n",
       " 'renames',\n",
       " 'replace',\n",
       " 'rmdir',\n",
       " 'scandir',\n",
       " 'sep',\n",
       " 'set_handle_inheritable',\n",
       " 'set_inheritable',\n",
       " 'spawnl',\n",
       " 'spawnle',\n",
       " 'spawnv',\n",
       " 'spawnve',\n",
       " 'st',\n",
       " 'startfile',\n",
       " 'stat',\n",
       " 'stat_float_times',\n",
       " 'stat_result',\n",
       " 'statvfs_result',\n",
       " 'strerror',\n",
       " 'supports_bytes_environ',\n",
       " 'supports_dir_fd',\n",
       " 'supports_effective_ids',\n",
       " 'supports_fd',\n",
       " 'supports_follow_symlinks',\n",
       " 'symlink',\n",
       " 'sys',\n",
       " 'system',\n",
       " 'terminal_size',\n",
       " 'times',\n",
       " 'times_result',\n",
       " 'truncate',\n",
       " 'umask',\n",
       " 'uname_result',\n",
       " 'unlink',\n",
       " 'urandom',\n",
       " 'utime',\n",
       " 'waitpid',\n",
       " 'walk',\n",
       " 'write']"
      ]
     },
     "execution_count": 22,
     "metadata": {},
     "output_type": "execute_result"
    }
   ],
   "source": [
    "dir(os)"
   ]
  },
  {
   "cell_type": "code",
   "execution_count": 23,
   "metadata": {},
   "outputs": [
    {
     "ename": "AttributeError",
     "evalue": "module 'os' has no attribute 'cpucount'",
     "output_type": "error",
     "traceback": [
      "\u001b[0;31m---------------------------------------------------------------------------\u001b[0m",
      "\u001b[0;31mAttributeError\u001b[0m                            Traceback (most recent call last)",
      "\u001b[0;32m<ipython-input-23-b785c9ef305f>\u001b[0m in \u001b[0;36m<module>\u001b[0;34m()\u001b[0m\n\u001b[0;32m----> 1\u001b[0;31m \u001b[0mos\u001b[0m\u001b[1;33m.\u001b[0m\u001b[0mcpucount\u001b[0m\u001b[1;33m(\u001b[0m\u001b[1;33m)\u001b[0m\u001b[1;33m\u001b[0m\u001b[0m\n\u001b[0m",
      "\u001b[0;31mAttributeError\u001b[0m: module 'os' has no attribute 'cpucount'"
     ]
    }
   ],
   "source": [
    "os.cpucount()"
   ]
  },
  {
   "cell_type": "code",
   "execution_count": 24,
   "metadata": {},
   "outputs": [
    {
     "data": {
      "text/plain": [
       "8"
      ]
     },
     "execution_count": 24,
     "metadata": {},
     "output_type": "execute_result"
    }
   ],
   "source": [
    "os.cpu_count()"
   ]
  },
  {
   "cell_type": "code",
   "execution_count": 25,
   "metadata": {},
   "outputs": [
    {
     "ename": "TypeError",
     "evalue": "getenv() missing 1 required positional argument: 'key'",
     "output_type": "error",
     "traceback": [
      "\u001b[0;31m---------------------------------------------------------------------------\u001b[0m",
      "\u001b[0;31mTypeError\u001b[0m                                 Traceback (most recent call last)",
      "\u001b[0;32m<ipython-input-25-34c59e5a7243>\u001b[0m in \u001b[0;36m<module>\u001b[0;34m()\u001b[0m\n\u001b[0;32m----> 1\u001b[0;31m \u001b[0mos\u001b[0m\u001b[1;33m.\u001b[0m\u001b[0mgetenv\u001b[0m\u001b[1;33m(\u001b[0m\u001b[1;33m)\u001b[0m\u001b[1;33m\u001b[0m\u001b[0m\n\u001b[0m",
      "\u001b[0;31mTypeError\u001b[0m: getenv() missing 1 required positional argument: 'key'"
     ]
    }
   ],
   "source": [
    "os.getenv()"
   ]
  },
  {
   "cell_type": "code",
   "execution_count": 26,
   "metadata": {},
   "outputs": [],
   "source": [
    "os.getenv('.')"
   ]
  },
  {
   "cell_type": "code",
   "execution_count": 27,
   "metadata": {},
   "outputs": [
    {
     "name": "stdout",
     "output_type": "stream",
     "text": [
      "Help on function getenv in module os:\n",
      "\n",
      "getenv(key, default=None)\n",
      "    Get an environment variable, return None if it doesn't exist.\n",
      "    The optional second argument can specify an alternate default.\n",
      "    key, default and the result are str.\n",
      "\n"
     ]
    }
   ],
   "source": [
    "help(os.getenv)"
   ]
  },
  {
   "cell_type": "code",
   "execution_count": 28,
   "metadata": {},
   "outputs": [
    {
     "data": {
      "text/plain": [
       "'c:\\\\programdata\\\\anaconda3\\\\Library\\\\bin;c:\\\\programdata\\\\anaconda3\\\\Library\\\\bin;c:\\\\programdata\\\\anaconda3\\\\Library\\\\bin;C:\\\\cmder_mini\\\\bin;C:\\\\cmder_mini\\\\vendor\\\\conemu-maximus5\\\\ConEmu\\\\Scripts;C:\\\\cmder_mini\\\\vendor\\\\conemu-maximus5;C:\\\\cmder_mini\\\\vendor\\\\conemu-maximus5\\\\ConEmu;C:\\\\Users\\\\Public\\\\PTGo\\\\Program\\\\;C:\\\\Users\\\\Public\\\\Fog\\\\Program\\\\;C:\\\\ProgramData\\\\Oracle\\\\Java\\\\javapath;C:\\\\Program Files (x86)\\\\Common Files\\\\Oracle\\\\Java\\\\javapath;C:\\\\Program Files (x86)\\\\Windows Resource Kits\\\\Tools\\\\;C:\\\\Program Files\\\\Java\\\\jdk1.8.0_161\\\\bin;C:\\\\ProgramData\\\\Anaconda3;C:\\\\ProgramData\\\\Anaconda3\\\\Scripts;C:\\\\Program Files (x86)\\\\QuickTime\\\\QTSystem\\\\;D:\\\\py_nlp\\\\cmuclmtk-0.7-win32;C:\\\\xampp\\\\php;C:\\\\ProgramData\\\\ComposerSetup\\\\bin;C:\\\\Users\\\\Administrator\\\\Downloads\\\\pdf2htmlEX-win32-0.14.6-upx-with-poppler-data;C:\\\\Users\\\\Administrator\\\\AppData\\\\Roaming\\\\Composer\\\\vendor\\\\bin;C:\\\\cmder_mini\\\\'"
      ]
     },
     "execution_count": 28,
     "metadata": {},
     "output_type": "execute_result"
    }
   ],
   "source": [
    "os.getenv('path')"
   ]
  },
  {
   "cell_type": "code",
   "execution_count": 29,
   "metadata": {},
   "outputs": [
    {
     "data": {
      "text/plain": [
       "'Windows_NT'"
      ]
     },
     "execution_count": 29,
     "metadata": {},
     "output_type": "execute_result"
    }
   ],
   "source": [
    "os.getenv('OS')"
   ]
  },
  {
   "cell_type": "code",
   "execution_count": 30,
   "metadata": {},
   "outputs": [
    {
     "data": {
      "text/plain": [
       "0"
      ]
     },
     "execution_count": 30,
     "metadata": {},
     "output_type": "execute_result"
    }
   ],
   "source": [
    "os.system('cls')"
   ]
  },
  {
   "cell_type": "code",
   "execution_count": 31,
   "metadata": {},
   "outputs": [],
   "source": [
    "import sys"
   ]
  },
  {
   "cell_type": "code",
   "execution_count": 32,
   "metadata": {},
   "outputs": [
    {
     "data": {
      "text/plain": [
       "['__displayhook__',\n",
       " '__doc__',\n",
       " '__excepthook__',\n",
       " '__interactivehook__',\n",
       " '__loader__',\n",
       " '__name__',\n",
       " '__package__',\n",
       " '__spec__',\n",
       " '__stderr__',\n",
       " '__stdin__',\n",
       " '__stdout__',\n",
       " '_clear_type_cache',\n",
       " '_current_frames',\n",
       " '_debugmallocstats',\n",
       " '_enablelegacywindowsfsencoding',\n",
       " '_getframe',\n",
       " '_home',\n",
       " '_mercurial',\n",
       " '_xoptions',\n",
       " 'api_version',\n",
       " 'argv',\n",
       " 'base_exec_prefix',\n",
       " 'base_prefix',\n",
       " 'builtin_module_names',\n",
       " 'byteorder',\n",
       " 'call_tracing',\n",
       " 'callstats',\n",
       " 'copyright',\n",
       " 'displayhook',\n",
       " 'dllhandle',\n",
       " 'dont_write_bytecode',\n",
       " 'exc_info',\n",
       " 'excepthook',\n",
       " 'exec_prefix',\n",
       " 'executable',\n",
       " 'exit',\n",
       " 'flags',\n",
       " 'float_info',\n",
       " 'float_repr_style',\n",
       " 'get_asyncgen_hooks',\n",
       " 'get_coroutine_wrapper',\n",
       " 'getallocatedblocks',\n",
       " 'getcheckinterval',\n",
       " 'getdefaultencoding',\n",
       " 'getfilesystemencodeerrors',\n",
       " 'getfilesystemencoding',\n",
       " 'getprofile',\n",
       " 'getrecursionlimit',\n",
       " 'getrefcount',\n",
       " 'getsizeof',\n",
       " 'getswitchinterval',\n",
       " 'gettrace',\n",
       " 'getwindowsversion',\n",
       " 'hash_info',\n",
       " 'hexversion',\n",
       " 'implementation',\n",
       " 'int_info',\n",
       " 'intern',\n",
       " 'is_finalizing',\n",
       " 'last_traceback',\n",
       " 'last_type',\n",
       " 'last_value',\n",
       " 'maxsize',\n",
       " 'maxunicode',\n",
       " 'meta_path',\n",
       " 'modules',\n",
       " 'path',\n",
       " 'path_hooks',\n",
       " 'path_importer_cache',\n",
       " 'platform',\n",
       " 'prefix',\n",
       " 'ps1',\n",
       " 'ps2',\n",
       " 'ps3',\n",
       " 'set_asyncgen_hooks',\n",
       " 'set_coroutine_wrapper',\n",
       " 'setcheckinterval',\n",
       " 'setprofile',\n",
       " 'setrecursionlimit',\n",
       " 'setswitchinterval',\n",
       " 'settrace',\n",
       " 'stderr',\n",
       " 'stdin',\n",
       " 'stdout',\n",
       " 'thread_info',\n",
       " 'version',\n",
       " 'version_info',\n",
       " 'warnoptions',\n",
       " 'winver']"
      ]
     },
     "execution_count": 32,
     "metadata": {},
     "output_type": "execute_result"
    }
   ],
   "source": [
    "dir(sys)"
   ]
  },
  {
   "cell_type": "code",
   "execution_count": 33,
   "metadata": {},
   "outputs": [
    {
     "ename": "TypeError",
     "evalue": "'str' object is not callable",
     "output_type": "error",
     "traceback": [
      "\u001b[0;31m---------------------------------------------------------------------------\u001b[0m",
      "\u001b[0;31mTypeError\u001b[0m                                 Traceback (most recent call last)",
      "\u001b[0;32m<ipython-input-33-83934a0c0b0d>\u001b[0m in \u001b[0;36m<module>\u001b[0;34m()\u001b[0m\n\u001b[0;32m----> 1\u001b[0;31m \u001b[0msys\u001b[0m\u001b[1;33m.\u001b[0m\u001b[0mversion\u001b[0m\u001b[1;33m(\u001b[0m\u001b[1;33m)\u001b[0m\u001b[1;33m\u001b[0m\u001b[0m\n\u001b[0m",
      "\u001b[0;31mTypeError\u001b[0m: 'str' object is not callable"
     ]
    }
   ],
   "source": [
    "sys.version()"
   ]
  },
  {
   "cell_type": "code",
   "execution_count": 34,
   "metadata": {},
   "outputs": [
    {
     "data": {
      "text/plain": [
       "'3.6.0 |Anaconda 4.3.1 (64-bit)| (default, Dec 23 2016, 11:57:41) [MSC v.1900 64 bit (AMD64)]'"
      ]
     },
     "execution_count": 34,
     "metadata": {},
     "output_type": "execute_result"
    }
   ],
   "source": [
    "sys.version"
   ]
  },
  {
   "cell_type": "code",
   "execution_count": 35,
   "metadata": {},
   "outputs": [
    {
     "data": {
      "text/plain": [
       "<_io.TextIOWrapper name='<stdin>' mode='r' encoding='cp936'>"
      ]
     },
     "execution_count": 35,
     "metadata": {},
     "output_type": "execute_result"
    }
   ],
   "source": [
    "sys.stdin"
   ]
  },
  {
   "cell_type": "code",
   "execution_count": 36,
   "metadata": {},
   "outputs": [
    {
     "ename": "AttributeError",
     "evalue": "'list' object has no attribute 'exists'",
     "output_type": "error",
     "traceback": [
      "\u001b[0;31m---------------------------------------------------------------------------\u001b[0m",
      "\u001b[0;31mAttributeError\u001b[0m                            Traceback (most recent call last)",
      "\u001b[0;32m<ipython-input-36-0cd4aa793abd>\u001b[0m in \u001b[0;36m<module>\u001b[0;34m()\u001b[0m\n\u001b[0;32m----> 1\u001b[0;31m \u001b[0msys\u001b[0m\u001b[1;33m.\u001b[0m\u001b[0mpath\u001b[0m\u001b[1;33m.\u001b[0m\u001b[0mexists\u001b[0m\u001b[1;33m\u001b[0m\u001b[0m\n\u001b[0m",
      "\u001b[0;31mAttributeError\u001b[0m: 'list' object has no attribute 'exists'"
     ]
    }
   ],
   "source": [
    "sys.path.exists"
   ]
  },
  {
   "cell_type": "code",
   "execution_count": 37,
   "metadata": {},
   "outputs": [
    {
     "data": {
      "text/plain": [
       "<function genericpath.exists>"
      ]
     },
     "execution_count": 37,
     "metadata": {},
     "output_type": "execute_result"
    }
   ],
   "source": [
    "os.path.exists"
   ]
  },
  {
   "cell_type": "code",
   "execution_count": 38,
   "metadata": {},
   "outputs": [
    {
     "data": {
      "text/plain": [
       "['',\n",
       " 'c:\\\\programdata\\\\anaconda3\\\\python36.zip',\n",
       " 'c:\\\\programdata\\\\anaconda3\\\\DLLs',\n",
       " 'c:\\\\programdata\\\\anaconda3\\\\lib',\n",
       " 'c:\\\\programdata\\\\anaconda3',\n",
       " 'c:\\\\programdata\\\\anaconda3\\\\lib\\\\site-packages',\n",
       " 'c:\\\\programdata\\\\anaconda3\\\\lib\\\\site-packages\\\\Sphinx-1.5.1-py3.6.egg',\n",
       " 'c:\\\\programdata\\\\anaconda3\\\\lib\\\\site-packages\\\\stanford_corenlp_pywrapper-0.1.0-py3.6.egg',\n",
       " 'c:\\\\programdata\\\\anaconda3\\\\lib\\\\site-packages\\\\ner-0.1-py3.6.egg',\n",
       " 'c:\\\\programdata\\\\anaconda3\\\\lib\\\\site-packages\\\\pip-9.0.1-py3.6.egg',\n",
       " 'c:\\\\programdata\\\\anaconda3\\\\lib\\\\site-packages\\\\setuptools-38.5.2-py3.6.egg',\n",
       " 'c:\\\\programdata\\\\anaconda3\\\\lib\\\\site-packages\\\\win32',\n",
       " 'c:\\\\programdata\\\\anaconda3\\\\lib\\\\site-packages\\\\win32\\\\lib',\n",
       " 'c:\\\\programdata\\\\anaconda3\\\\lib\\\\site-packages\\\\Pythonwin',\n",
       " 'c:\\\\programdata\\\\anaconda3\\\\lib\\\\site-packages\\\\IPython\\\\extensions',\n",
       " 'C:\\\\Users\\\\Administrator\\\\.ipython']"
      ]
     },
     "execution_count": 38,
     "metadata": {},
     "output_type": "execute_result"
    }
   ],
   "source": [
    "sys.path"
   ]
  },
  {
   "cell_type": "code",
   "execution_count": 39,
   "metadata": {},
   "outputs": [],
   "source": [
    "sys.path.append('path-to-your-package')"
   ]
  },
  {
   "cell_type": "code",
   "execution_count": 40,
   "metadata": {},
   "outputs": [
    {
     "data": {
      "text/plain": [
       "'win32'"
      ]
     },
     "execution_count": 40,
     "metadata": {},
     "output_type": "execute_result"
    }
   ],
   "source": [
    "sys.platform"
   ]
  },
  {
   "cell_type": "code",
   "execution_count": 41,
   "metadata": {},
   "outputs": [
    {
     "data": {
      "text/plain": [
       "'\\r\\n'"
      ]
     },
     "execution_count": 41,
     "metadata": {},
     "output_type": "execute_result"
    }
   ],
   "source": [
    "os.linesep"
   ]
  },
  {
   "cell_type": "code",
   "execution_count": 42,
   "metadata": {},
   "outputs": [
    {
     "data": {
      "text/plain": [
       "'\\\\'"
      ]
     },
     "execution_count": 42,
     "metadata": {},
     "output_type": "execute_result"
    }
   ],
   "source": [
    "os.sep"
   ]
  },
  {
   "cell_type": "code",
   "execution_count": 43,
   "metadata": {},
   "outputs": [],
   "source": [
    "html = '''<p>\n",
    "【成语】：八两半斤<br>\n",
    "【拼音】：bā  liǎng  bàn  jīn<br>\n",
    "【简拼】：blbj<br>\n",
    "【解释】：八两：即半斤，旧制一斤为十六两。半斤、八两轻重相等。比喻彼此不相上下<br>\n",
    "【出处】：清·李百川《<a target=\"_blank\" href=\"/a/1122l/\">绿野仙踪</a>》第19回：“像你两个，一对材料，真是八两半斤。”<br>\n",
    "【示例】：<br>\n",
    "【近义词】：<a href=\"/chengyu/1016b.html\" target=\"_blank\">半斤八两</a><br>\n",
    "【反义词】：<br>\n",
    "\n",
    "【语法】：作宾语、定语；用于比较等</p>'''"
   ]
  },
  {
   "cell_type": "code",
   "execution_count": 44,
   "metadata": {},
   "outputs": [],
   "source": [
    "from pyquery import PyQuery as pq"
   ]
  },
  {
   "cell_type": "code",
   "execution_count": 45,
   "metadata": {},
   "outputs": [],
   "source": [
    "doc = pq(html)"
   ]
  },
  {
   "cell_type": "code",
   "execution_count": 46,
   "metadata": {},
   "outputs": [
    {
     "data": {
      "text/plain": [
       "'【成语】：八两半斤\\n【拼音】：bā liǎng bàn jīn\\n【简拼】：blbj\\n【解释】：八两：即半斤，旧制一斤为十六两。半斤、八两轻重相等。比喻彼此不相上下\\n【出处】：清·李百川《绿野仙踪》第19回：“像你两个，一对材料，真是八两半斤。”\\n【示例】：\\n【近义词】：半斤八两\\n【反义词】：\\n【语法】：作宾语、定语；用于比较等'"
      ]
     },
     "execution_count": 46,
     "metadata": {},
     "output_type": "execute_result"
    }
   ],
   "source": [
    "doc.text()"
   ]
  },
  {
   "cell_type": "code",
   "execution_count": 47,
   "metadata": {},
   "outputs": [],
   "source": [
    "lns = doc.text()"
   ]
  },
  {
   "cell_type": "code",
   "execution_count": 48,
   "metadata": {},
   "outputs": [
    {
     "data": {
      "text/plain": [
       "'【成语】：八两半斤\\n【拼音】：bā liǎng bàn jīn\\n【简拼】：blbj\\n【解释】：八两：即半斤，旧制一斤为十六两。半斤、八两轻重相等。比喻彼此不相上下\\n【出处】：清·李百川《绿野仙踪》第19回：“像你两个，一对材料，真是八两半斤。”\\n【示例】：\\n【近义词】：半斤八两\\n【反义词】：\\n【语法】：作宾语、定语；用于比较等'"
      ]
     },
     "execution_count": 48,
     "metadata": {},
     "output_type": "execute_result"
    }
   ],
   "source": [
    "lns"
   ]
  },
  {
   "cell_type": "code",
   "execution_count": 49,
   "metadata": {},
   "outputs": [],
   "source": [
    "lns = doc.text().split(os.linesep)"
   ]
  },
  {
   "cell_type": "code",
   "execution_count": 50,
   "metadata": {},
   "outputs": [
    {
     "data": {
      "text/plain": [
       "['【成语】：八两半斤\\n【拼音】：bā liǎng bàn jīn\\n【简拼】：blbj\\n【解释】：八两：即半斤，旧制一斤为十六两。半斤、八两轻重相等。比喻彼此不相上下\\n【出处】：清·李百川《绿野仙踪》第19回：“像你两个，一对材料，真是八两半斤。”\\n【示例】：\\n【近义词】：半斤八两\\n【反义词】：\\n【语法】：作宾语、定语；用于比较等']"
      ]
     },
     "execution_count": 50,
     "metadata": {},
     "output_type": "execute_result"
    }
   ],
   "source": [
    "lns"
   ]
  },
  {
   "cell_type": "code",
   "execution_count": 51,
   "metadata": {},
   "outputs": [],
   "source": [
    "lns = doc.text().split('\\n')"
   ]
  },
  {
   "cell_type": "code",
   "execution_count": 52,
   "metadata": {},
   "outputs": [
    {
     "data": {
      "text/plain": [
       "['【成语】：八两半斤',\n",
       " '【拼音】：bā liǎng bàn jīn',\n",
       " '【简拼】：blbj',\n",
       " '【解释】：八两：即半斤，旧制一斤为十六两。半斤、八两轻重相等。比喻彼此不相上下',\n",
       " '【出处】：清·李百川《绿野仙踪》第19回：“像你两个，一对材料，真是八两半斤。”',\n",
       " '【示例】：',\n",
       " '【近义词】：半斤八两',\n",
       " '【反义词】：',\n",
       " '【语法】：作宾语、定语；用于比较等']"
      ]
     },
     "execution_count": 52,
     "metadata": {},
     "output_type": "execute_result"
    }
   ],
   "source": [
    "lns"
   ]
  },
  {
   "cell_type": "code",
   "execution_count": 53,
   "metadata": {},
   "outputs": [
    {
     "ename": "NameError",
     "evalue": "name 'ln' is not defined",
     "output_type": "error",
     "traceback": [
      "\u001b[0;31m---------------------------------------------------------------------------\u001b[0m",
      "\u001b[0;31mNameError\u001b[0m                                 Traceback (most recent call last)",
      "\u001b[0;32m<ipython-input-53-cc529d85f6e0>\u001b[0m in \u001b[0;36m<module>\u001b[0;34m()\u001b[0m\n\u001b[0;32m----> 1\u001b[0;31m \u001b[0mln3\u001b[0m \u001b[1;33m=\u001b[0m \u001b[0mln\u001b[0m\u001b[1;33m[\u001b[0m\u001b[1;36m3\u001b[0m\u001b[1;33m]\u001b[0m\u001b[1;33m\u001b[0m\u001b[0m\n\u001b[0m",
      "\u001b[0;31mNameError\u001b[0m: name 'ln' is not defined"
     ]
    }
   ],
   "source": [
    "ln3 = ln[3]"
   ]
  },
  {
   "cell_type": "code",
   "execution_count": 54,
   "metadata": {},
   "outputs": [],
   "source": [
    "ln3 = lns[3]"
   ]
  },
  {
   "cell_type": "code",
   "execution_count": 55,
   "metadata": {},
   "outputs": [
    {
     "ename": "NameError",
     "evalue": "name 'lns3' is not defined",
     "output_type": "error",
     "traceback": [
      "\u001b[0;31m---------------------------------------------------------------------------\u001b[0m",
      "\u001b[0;31mNameError\u001b[0m                                 Traceback (most recent call last)",
      "\u001b[0;32m<ipython-input-55-1b121fba234e>\u001b[0m in \u001b[0;36m<module>\u001b[0;34m()\u001b[0m\n\u001b[0;32m----> 1\u001b[0;31m \u001b[0mlns3\u001b[0m\u001b[1;33m\u001b[0m\u001b[0m\n\u001b[0m",
      "\u001b[0;31mNameError\u001b[0m: name 'lns3' is not defined"
     ]
    }
   ],
   "source": [
    "lns3"
   ]
  },
  {
   "cell_type": "code",
   "execution_count": 56,
   "metadata": {},
   "outputs": [
    {
     "data": {
      "text/plain": [
       "'【解释】：八两：即半斤，旧制一斤为十六两。半斤、八两轻重相等。比喻彼此不相上下'"
      ]
     },
     "execution_count": 56,
     "metadata": {},
     "output_type": "execute_result"
    }
   ],
   "source": [
    "ln3"
   ]
  },
  {
   "cell_type": "code",
   "execution_count": 57,
   "metadata": {},
   "outputs": [
    {
     "ename": "SyntaxError",
     "evalue": "invalid character in identifier (<ipython-input-57-db6d1bfebaf0>, line 1)",
     "output_type": "error",
     "traceback": [
      "\u001b[0;36m  File \u001b[0;32m\"<ipython-input-57-db6d1bfebaf0>\"\u001b[0;36m, line \u001b[0;32m1\u001b[0m\n\u001b[0;31m    ln3.find（'】：'）\u001b[0m\n\u001b[0m            ^\u001b[0m\n\u001b[0;31mSyntaxError\u001b[0m\u001b[0;31m:\u001b[0m invalid character in identifier\n"
     ]
    }
   ],
   "source": [
    "ln3.find（'】：'）"
   ]
  },
  {
   "cell_type": "code",
   "execution_count": 58,
   "metadata": {},
   "outputs": [
    {
     "data": {
      "text/plain": [
       "3"
      ]
     },
     "execution_count": 58,
     "metadata": {},
     "output_type": "execute_result"
    }
   ],
   "source": [
    "ln3.find('】：')"
   ]
  },
  {
   "cell_type": "code",
   "execution_count": 59,
   "metadata": {},
   "outputs": [
    {
     "data": {
      "text/plain": [
       "'八两：即半斤，旧制一斤为十六两。半斤、八两轻重相等。比喻彼此不相上下'"
      ]
     },
     "execution_count": 59,
     "metadata": {},
     "output_type": "execute_result"
    }
   ],
   "source": [
    "ln3[3+len('】：'):]"
   ]
  },
  {
   "cell_type": "code",
   "execution_count": 60,
   "metadata": {},
   "outputs": [],
   "source": [
    "import re"
   ]
  },
  {
   "cell_type": "code",
   "execution_count": 61,
   "metadata": {},
   "outputs": [
    {
     "data": {
      "text/plain": [
       "<_sre.SRE_Match object; span=(0, 39), match='【解释】：八两：即半斤，旧制一斤为十六两。半斤、八两轻重相等。比喻彼此不相上下'>"
      ]
     },
     "execution_count": 61,
     "metadata": {},
     "output_type": "execute_result"
    }
   ],
   "source": [
    "re.match('【(.+)】：(.+)',ln3)"
   ]
  },
  {
   "cell_type": "code",
   "execution_count": 62,
   "metadata": {},
   "outputs": [],
   "source": [
    "m = re.match('【(.+)】：(.+)',ln3)"
   ]
  },
  {
   "cell_type": "code",
   "execution_count": 63,
   "metadata": {},
   "outputs": [
    {
     "data": {
      "text/plain": [
       "'【解释】：八两：即半斤，旧制一斤为十六两。半斤、八两轻重相等。比喻彼此不相上下'"
      ]
     },
     "execution_count": 63,
     "metadata": {},
     "output_type": "execute_result"
    }
   ],
   "source": [
    "m.group(0)"
   ]
  },
  {
   "cell_type": "code",
   "execution_count": 64,
   "metadata": {},
   "outputs": [
    {
     "data": {
      "text/plain": [
       "'解释'"
      ]
     },
     "execution_count": 64,
     "metadata": {},
     "output_type": "execute_result"
    }
   ],
   "source": [
    "m.group(1)"
   ]
  },
  {
   "cell_type": "code",
   "execution_count": 65,
   "metadata": {},
   "outputs": [
    {
     "data": {
      "text/plain": [
       "'八两：即半斤，旧制一斤为十六两。半斤、八两轻重相等。比喻彼此不相上下'"
      ]
     },
     "execution_count": 65,
     "metadata": {},
     "output_type": "execute_result"
    }
   ],
   "source": [
    "m.group(2)"
   ]
  },
  {
   "cell_type": "code",
   "execution_count": null,
   "metadata": {},
   "outputs": [],
   "source": []
  }
 ],
 "metadata": {
  "kernelspec": {
   "display_name": "Python 3",
   "language": "python",
   "name": "python3"
  },
  "language_info": {
   "codemirror_mode": {
    "name": "ipython",
    "version": 3
   },
   "file_extension": ".py",
   "mimetype": "text/x-python",
   "name": "python",
   "nbconvert_exporter": "python",
   "pygments_lexer": "ipython3",
   "version": "3.6.0"
  }
 },
 "nbformat": 4,
 "nbformat_minor": 2
}
