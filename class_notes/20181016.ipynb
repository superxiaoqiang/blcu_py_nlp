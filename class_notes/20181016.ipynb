{
 "cells": [
  {
   "cell_type": "code",
   "execution_count": 1,
   "metadata": {},
   "outputs": [],
   "source": [
    "%matplotlib inline"
   ]
  },
  {
   "cell_type": "code",
   "execution_count": 2,
   "metadata": {},
   "outputs": [
    {
     "ename": "NameError",
     "evalue": "name 'linspace' is not defined",
     "output_type": "error",
     "traceback": [
      "\u001b[0;31m---------------------------------------------------------------------------\u001b[0m",
      "\u001b[0;31mNameError\u001b[0m                                 Traceback (most recent call last)",
      "\u001b[0;32m<ipython-input-2-26c8e7f5b6a7>\u001b[0m in \u001b[0;36m<module>\u001b[0;34m()\u001b[0m\n\u001b[0;32m----> 1\u001b[0;31m \u001b[0mx\u001b[0m \u001b[1;33m=\u001b[0m \u001b[0mlinspace\u001b[0m\u001b[1;33m(\u001b[0m\u001b[1;36m0\u001b[0m\u001b[1;33m,\u001b[0m \u001b[1;36m2\u001b[0m \u001b[1;33m*\u001b[0m \u001b[0mpi\u001b[0m\u001b[1;33m,\u001b[0m \u001b[1;36m50\u001b[0m\u001b[1;33m)\u001b[0m\u001b[1;33m\u001b[0m\u001b[0m\n\u001b[0m\u001b[1;32m      2\u001b[0m \u001b[0mplot\u001b[0m\u001b[1;33m(\u001b[0m\u001b[0msin\u001b[0m\u001b[1;33m(\u001b[0m\u001b[0mx\u001b[0m\u001b[1;33m)\u001b[0m\u001b[1;33m)\u001b[0m\u001b[1;33m\u001b[0m\u001b[0m\n",
      "\u001b[0;31mNameError\u001b[0m: name 'linspace' is not defined"
     ]
    }
   ],
   "source": [
    "x = linspace(0, 2 * pi, 50)\n",
    "plot(sin(x))"
   ]
  },
  {
   "cell_type": "code",
   "execution_count": 3,
   "metadata": {},
   "outputs": [
    {
     "name": "stdout",
     "output_type": "stream",
     "text": [
      "Using matplotlib backend: Qt5Agg\n",
      "Populating the interactive namespace from numpy and matplotlib\n"
     ]
    }
   ],
   "source": [
    "%pylab"
   ]
  },
  {
   "cell_type": "code",
   "execution_count": 4,
   "metadata": {},
   "outputs": [
    {
     "data": {
      "text/plain": [
       "[<matplotlib.lines.Line2D at 0x88956a0>]"
      ]
     },
     "execution_count": 4,
     "metadata": {},
     "output_type": "execute_result"
    }
   ],
   "source": [
    "x = linspace(0, 2 * pi, 50)\n",
    "plot(sin(x))"
   ]
  },
  {
   "cell_type": "code",
   "execution_count": 5,
   "metadata": {},
   "outputs": [],
   "source": [
    "from snownlp import SnowNLP"
   ]
  },
  {
   "cell_type": "code",
   "execution_count": 6,
   "metadata": {},
   "outputs": [
    {
     "ename": "UnicodeDecodeError",
     "evalue": "'gbk' codec can't decode byte 0xa8 in position 2: illegal multibyte sequence",
     "output_type": "error",
     "traceback": [
      "\u001b[0;31m---------------------------------------------------------------------------\u001b[0m",
      "\u001b[0;31mUnicodeDecodeError\u001b[0m                        Traceback (most recent call last)",
      "\u001b[0;32m<ipython-input-6-7797104bfeaa>\u001b[0m in \u001b[0;36m<module>\u001b[0;34m()\u001b[0m\n\u001b[1;32m      1\u001b[0m \u001b[1;32mwith\u001b[0m \u001b[0mopen\u001b[0m\u001b[1;33m(\u001b[0m\u001b[1;34m'chinese_eg.txt'\u001b[0m\u001b[1;33m)\u001b[0m \u001b[1;32mas\u001b[0m \u001b[0mf\u001b[0m\u001b[1;33m:\u001b[0m\u001b[1;33m\u001b[0m\u001b[0m\n\u001b[0;32m----> 2\u001b[0;31m     \u001b[0mc\u001b[0m\u001b[1;33m=\u001b[0m\u001b[0mf\u001b[0m\u001b[1;33m.\u001b[0m\u001b[0mread\u001b[0m\u001b[1;33m(\u001b[0m\u001b[1;33m)\u001b[0m\u001b[1;33m\u001b[0m\u001b[0m\n\u001b[0m",
      "\u001b[0;31mUnicodeDecodeError\u001b[0m: 'gbk' codec can't decode byte 0xa8 in position 2: illegal multibyte sequence"
     ]
    }
   ],
   "source": [
    "with open('chinese_eg.txt') as f:\n",
    "    c=f.read()"
   ]
  },
  {
   "cell_type": "code",
   "execution_count": 7,
   "metadata": {},
   "outputs": [],
   "source": [
    "with open('chinese_eg.txt') as f:\n",
    "    c=f.read()"
   ]
  },
  {
   "cell_type": "code",
   "execution_count": 8,
   "metadata": {},
   "outputs": [
    {
     "data": {
      "text/plain": [
       "'用1800首诗表白，用无人机求婚 南航学霸上演浪漫“求婚大作战”\\n\\n3月28号下午，一次求婚大作战在南京航空航天大学师生的朋友圈刷屏了。在朝夕相处的实验楼下，伴着好友老师的祝福和数百校友的助阵，南航自动化学院即将毕业的硕士研究生徐智成用无人机向相恋1896天的女友张瑶佳成功求婚，而徐智成坚持了5年的写诗表白在南航早已传为佳话。\\n\\n\\u3000\\u3000与君初相识，诗词抒情意\\n\\n刷屏的求婚故事男主角是南航自动化学院的徐智成，女主角则是自动化学院的博士生张瑶佳。徐智成告诉记者，本科同在一个班级的他们刚开始并不相熟，张瑶佳是班里的学霸，而他的学习却不出众。徐智成还记得，大一夏天，张瑶佳偶然在他写的诗下评论了几句，简单的几句却让他产生了共鸣，心里对张瑶佳默默生出了好感。“为了接近她，我常常找各种学习问题向她请教。我本来上课常坐教室后排的，为了追她从此只坐在教室前排，因为学习是她的追求，志同方能道合。”相知相守中，徐智成终于渐渐俘获了张瑶佳的芳心。\\n\\n大二放寒假的前一天，徐智成向张瑶佳表白了，“你喜欢读诗，以后在一起的每一天我都会为你写一首诗。”张瑶佳本以为这句话只是一时的浪漫，没想到竟坚持到现在，1800多天下来，他们之间已经保留下了1800多首小诗，这些小诗见证着他们的爱情一天天成长。\\n\\n\\u3000\\u3000爱在实验室，浪漫也未缺\\n\\n张瑶佳凭借优异的成绩获得了直博的资格，徐智成为了能赶上女友的脚步，多陪她几年，大三一年辛苦复习，终于考上了南航的研究生。研究生与博士生的恋爱，自然不能像普通情侣一样花前月下消磨时间。没有课后的电影，缺少周末的约会，他们有的只是实验室里的相互陪伴，可是张瑶佳却甘之如饴，“我的所有软件都是他给我装的，很多文献资料都是他给我找到和翻译的，笨重的工作台也都是他给我装好的。我们走在路上，吃饭时，都会一起讨论问题，对我来说这就是浪漫啊！”\\n\\n作为博士生，张瑶佳的科研任务要重一些，为了能让她更多时间花在科研上，徐智成承包了很多生活上的琐事，他说：“她有时候开会很晚或者我有事出去，我会提前买好饭给她带到实验室。每天都从博园接送到实验室，不论多早或多晚。放假的时候，都会去车站接送。”\\n\\n无人机求婚，用诗词表白\\n\\n为了在毕业前能实现求婚，徐智成从寒假就开始策划求婚计划，他查了很多求婚的例子，但都觉得很俗套。他想，他们是相识于南航，相爱于南航，成长于南航，求婚也一定要契合学校浓厚的航空航天氛围，他决定采用无人机求婚，正巧他自动化专业的同学正在研究无人机项目。最后，他决定结合南航的校园文化，使用同学亲自研制的无人机求婚，当然还有精心准备的求婚气球和诗词表白。\\n\\n写1800首诗求婚\\n\\n无人机带着钻戒求婚\\n\\n当他们到达求婚现场，张瑶佳看到学院楼前的求婚气球，在11位朋友念出的诗词表白中，流下了幸福的眼泪。而当无人机带着钻戒缓缓降落，心里更是感动不已：“这就是我想要的！”她告诉记者，由于自己心中一直有一个航空航天的梦想，所以报考了南航，男友使用无人机求婚非常打动她。\\n\\n下周徐智成就要正式入职了，为了能够陪在女友身边，他放弃了上海、杭州等城市大公司的offer，选择留在了南京。张瑶佳觉得有些可惜，但徐智成却无怨无悔，“或许放弃了一些，才会得到更多。”'"
      ]
     },
     "execution_count": 8,
     "metadata": {},
     "output_type": "execute_result"
    }
   ],
   "source": [
    "c"
   ]
  },
  {
   "cell_type": "code",
   "execution_count": 9,
   "metadata": {},
   "outputs": [],
   "source": [
    "s = SnowNLP(c)"
   ]
  },
  {
   "cell_type": "code",
   "execution_count": 10,
   "metadata": {},
   "outputs": [
    {
     "data": {
      "text/plain": [
       "<snownlp.SnowNLP at 0x26773940>"
      ]
     },
     "execution_count": 10,
     "metadata": {},
     "output_type": "execute_result"
    }
   ],
   "source": [
    "s"
   ]
  },
  {
   "cell_type": "code",
   "execution_count": 11,
   "metadata": {},
   "outputs": [],
   "source": [
    "paras = c.split('\\n')"
   ]
  },
  {
   "cell_type": "code",
   "execution_count": 12,
   "metadata": {},
   "outputs": [
    {
     "data": {
      "text/plain": [
       "['用1800首诗表白，用无人机求婚 南航学霸上演浪漫“求婚大作战”',\n",
       " '',\n",
       " '3月28号下午，一次求婚大作战在南京航空航天大学师生的朋友圈刷屏了。在朝夕相处的实验楼下，伴着好友老师的祝福和数百校友的助阵，南航自动化学院即将毕业的硕士研究生徐智成用无人机向相恋1896天的女友张瑶佳成功求婚，而徐智成坚持了5年的写诗表白在南航早已传为佳话。',\n",
       " '',\n",
       " '\\u3000\\u3000与君初相识，诗词抒情意',\n",
       " '',\n",
       " '刷屏的求婚故事男主角是南航自动化学院的徐智成，女主角则是自动化学院的博士生张瑶佳。徐智成告诉记者，本科同在一个班级的他们刚开始并不相熟，张瑶佳是班里的学霸，而他的学习却不出众。徐智成还记得，大一夏天，张瑶佳偶然在他写的诗下评论了几句，简单的几句却让他产生了共鸣，心里对张瑶佳默默生出了好感。“为了接近她，我常常找各种学习问题向她请教。我本来上课常坐教室后排的，为了追她从此只坐在教室前排，因为学习是她的追求，志同方能道合。”相知相守中，徐智成终于渐渐俘获了张瑶佳的芳心。',\n",
       " '',\n",
       " '大二放寒假的前一天，徐智成向张瑶佳表白了，“你喜欢读诗，以后在一起的每一天我都会为你写一首诗。”张瑶佳本以为这句话只是一时的浪漫，没想到竟坚持到现在，1800多天下来，他们之间已经保留下了1800多首小诗，这些小诗见证着他们的爱情一天天成长。',\n",
       " '',\n",
       " '\\u3000\\u3000爱在实验室，浪漫也未缺',\n",
       " '',\n",
       " '张瑶佳凭借优异的成绩获得了直博的资格，徐智成为了能赶上女友的脚步，多陪她几年，大三一年辛苦复习，终于考上了南航的研究生。研究生与博士生的恋爱，自然不能像普通情侣一样花前月下消磨时间。没有课后的电影，缺少周末的约会，他们有的只是实验室里的相互陪伴，可是张瑶佳却甘之如饴，“我的所有软件都是他给我装的，很多文献资料都是他给我找到和翻译的，笨重的工作台也都是他给我装好的。我们走在路上，吃饭时，都会一起讨论问题，对我来说这就是浪漫啊！”',\n",
       " '',\n",
       " '作为博士生，张瑶佳的科研任务要重一些，为了能让她更多时间花在科研上，徐智成承包了很多生活上的琐事，他说：“她有时候开会很晚或者我有事出去，我会提前买好饭给她带到实验室。每天都从博园接送到实验室，不论多早或多晚。放假的时候，都会去车站接送。”',\n",
       " '',\n",
       " '无人机求婚，用诗词表白',\n",
       " '',\n",
       " '为了在毕业前能实现求婚，徐智成从寒假就开始策划求婚计划，他查了很多求婚的例子，但都觉得很俗套。他想，他们是相识于南航，相爱于南航，成长于南航，求婚也一定要契合学校浓厚的航空航天氛围，他决定采用无人机求婚，正巧他自动化专业的同学正在研究无人机项目。最后，他决定结合南航的校园文化，使用同学亲自研制的无人机求婚，当然还有精心准备的求婚气球和诗词表白。',\n",
       " '',\n",
       " '写1800首诗求婚',\n",
       " '',\n",
       " '无人机带着钻戒求婚',\n",
       " '',\n",
       " '当他们到达求婚现场，张瑶佳看到学院楼前的求婚气球，在11位朋友念出的诗词表白中，流下了幸福的眼泪。而当无人机带着钻戒缓缓降落，心里更是感动不已：“这就是我想要的！”她告诉记者，由于自己心中一直有一个航空航天的梦想，所以报考了南航，男友使用无人机求婚非常打动她。',\n",
       " '',\n",
       " '下周徐智成就要正式入职了，为了能够陪在女友身边，他放弃了上海、杭州等城市大公司的offer，选择留在了南京。张瑶佳觉得有些可惜，但徐智成却无怨无悔，“或许放弃了一些，才会得到更多。”']"
      ]
     },
     "execution_count": 12,
     "metadata": {},
     "output_type": "execute_result"
    }
   ],
   "source": [
    "paras"
   ]
  },
  {
   "cell_type": "code",
   "execution_count": 13,
   "metadata": {},
   "outputs": [],
   "source": [
    "paras = c.split('\\s')"
   ]
  },
  {
   "cell_type": "code",
   "execution_count": 14,
   "metadata": {},
   "outputs": [
    {
     "data": {
      "text/plain": [
       "['用1800首诗表白，用无人机求婚 南航学霸上演浪漫“求婚大作战”\\n\\n3月28号下午，一次求婚大作战在南京航空航天大学师生的朋友圈刷屏了。在朝夕相处的实验楼下，伴着好友老师的祝福和数百校友的助阵，南航自动化学院即将毕业的硕士研究生徐智成用无人机向相恋1896天的女友张瑶佳成功求婚，而徐智成坚持了5年的写诗表白在南航早已传为佳话。\\n\\n\\u3000\\u3000与君初相识，诗词抒情意\\n\\n刷屏的求婚故事男主角是南航自动化学院的徐智成，女主角则是自动化学院的博士生张瑶佳。徐智成告诉记者，本科同在一个班级的他们刚开始并不相熟，张瑶佳是班里的学霸，而他的学习却不出众。徐智成还记得，大一夏天，张瑶佳偶然在他写的诗下评论了几句，简单的几句却让他产生了共鸣，心里对张瑶佳默默生出了好感。“为了接近她，我常常找各种学习问题向她请教。我本来上课常坐教室后排的，为了追她从此只坐在教室前排，因为学习是她的追求，志同方能道合。”相知相守中，徐智成终于渐渐俘获了张瑶佳的芳心。\\n\\n大二放寒假的前一天，徐智成向张瑶佳表白了，“你喜欢读诗，以后在一起的每一天我都会为你写一首诗。”张瑶佳本以为这句话只是一时的浪漫，没想到竟坚持到现在，1800多天下来，他们之间已经保留下了1800多首小诗，这些小诗见证着他们的爱情一天天成长。\\n\\n\\u3000\\u3000爱在实验室，浪漫也未缺\\n\\n张瑶佳凭借优异的成绩获得了直博的资格，徐智成为了能赶上女友的脚步，多陪她几年，大三一年辛苦复习，终于考上了南航的研究生。研究生与博士生的恋爱，自然不能像普通情侣一样花前月下消磨时间。没有课后的电影，缺少周末的约会，他们有的只是实验室里的相互陪伴，可是张瑶佳却甘之如饴，“我的所有软件都是他给我装的，很多文献资料都是他给我找到和翻译的，笨重的工作台也都是他给我装好的。我们走在路上，吃饭时，都会一起讨论问题，对我来说这就是浪漫啊！”\\n\\n作为博士生，张瑶佳的科研任务要重一些，为了能让她更多时间花在科研上，徐智成承包了很多生活上的琐事，他说：“她有时候开会很晚或者我有事出去，我会提前买好饭给她带到实验室。每天都从博园接送到实验室，不论多早或多晚。放假的时候，都会去车站接送。”\\n\\n无人机求婚，用诗词表白\\n\\n为了在毕业前能实现求婚，徐智成从寒假就开始策划求婚计划，他查了很多求婚的例子，但都觉得很俗套。他想，他们是相识于南航，相爱于南航，成长于南航，求婚也一定要契合学校浓厚的航空航天氛围，他决定采用无人机求婚，正巧他自动化专业的同学正在研究无人机项目。最后，他决定结合南航的校园文化，使用同学亲自研制的无人机求婚，当然还有精心准备的求婚气球和诗词表白。\\n\\n写1800首诗求婚\\n\\n无人机带着钻戒求婚\\n\\n当他们到达求婚现场，张瑶佳看到学院楼前的求婚气球，在11位朋友念出的诗词表白中，流下了幸福的眼泪。而当无人机带着钻戒缓缓降落，心里更是感动不已：“这就是我想要的！”她告诉记者，由于自己心中一直有一个航空航天的梦想，所以报考了南航，男友使用无人机求婚非常打动她。\\n\\n下周徐智成就要正式入职了，为了能够陪在女友身边，他放弃了上海、杭州等城市大公司的offer，选择留在了南京。张瑶佳觉得有些可惜，但徐智成却无怨无悔，“或许放弃了一些，才会得到更多。”']"
      ]
     },
     "execution_count": 14,
     "metadata": {},
     "output_type": "execute_result"
    }
   ],
   "source": [
    "paras"
   ]
  },
  {
   "cell_type": "code",
   "execution_count": 15,
   "metadata": {},
   "outputs": [
    {
     "ename": "TypeError",
     "evalue": "split() missing 1 required positional argument: 'indices_or_sections'",
     "output_type": "error",
     "traceback": [
      "\u001b[0;31m---------------------------------------------------------------------------\u001b[0m",
      "\u001b[0;31mTypeError\u001b[0m                                 Traceback (most recent call last)",
      "\u001b[0;32m<ipython-input-15-1fc50a9ce9dd>\u001b[0m in \u001b[0;36m<module>\u001b[0;34m()\u001b[0m\n\u001b[0;32m----> 1\u001b[0;31m \u001b[0mc\u001b[0m \u001b[1;33m=\u001b[0m \u001b[0msplit\u001b[0m\u001b[1;33m(\u001b[0m\u001b[1;34m'\\n'\u001b[0m\u001b[1;33m)\u001b[0m\u001b[1;33m\u001b[0m\u001b[0m\n\u001b[0m",
      "\u001b[0;31mTypeError\u001b[0m: split() missing 1 required positional argument: 'indices_or_sections'"
     ]
    }
   ],
   "source": [
    "c = split('\\n')"
   ]
  },
  {
   "cell_type": "code",
   "execution_count": 16,
   "metadata": {},
   "outputs": [],
   "source": [
    "paras = c.split('\\n')"
   ]
  },
  {
   "cell_type": "code",
   "execution_count": 17,
   "metadata": {},
   "outputs": [
    {
     "ename": "ZeroDivisionError",
     "evalue": "division by zero",
     "output_type": "error",
     "traceback": [
      "\u001b[0;31m---------------------------------------------------------------------------\u001b[0m",
      "\u001b[0;31mZeroDivisionError\u001b[0m                         Traceback (most recent call last)",
      "\u001b[0;32m<ipython-input-17-d9add76f9c31>\u001b[0m in \u001b[0;36m<module>\u001b[0;34m()\u001b[0m\n\u001b[0;32m----> 1\u001b[0;31m \u001b[0msnows\u001b[0m  \u001b[1;33m=\u001b[0m \u001b[1;33m[\u001b[0m\u001b[0mSnowNLP\u001b[0m\u001b[1;33m(\u001b[0m\u001b[0mpara\u001b[0m\u001b[1;33m)\u001b[0m \u001b[1;32mfor\u001b[0m \u001b[0mpara\u001b[0m \u001b[1;32min\u001b[0m \u001b[0mparas\u001b[0m\u001b[1;33m]\u001b[0m\u001b[1;33m\u001b[0m\u001b[0m\n\u001b[0m",
      "\u001b[0;32m<ipython-input-17-d9add76f9c31>\u001b[0m in \u001b[0;36m<listcomp>\u001b[0;34m(.0)\u001b[0m\n\u001b[0;32m----> 1\u001b[0;31m \u001b[0msnows\u001b[0m  \u001b[1;33m=\u001b[0m \u001b[1;33m[\u001b[0m\u001b[0mSnowNLP\u001b[0m\u001b[1;33m(\u001b[0m\u001b[0mpara\u001b[0m\u001b[1;33m)\u001b[0m \u001b[1;32mfor\u001b[0m \u001b[0mpara\u001b[0m \u001b[1;32min\u001b[0m \u001b[0mparas\u001b[0m\u001b[1;33m]\u001b[0m\u001b[1;33m\u001b[0m\u001b[0m\n\u001b[0m",
      "\u001b[0;32mc:\\programdata\\anaconda3\\lib\\site-packages\\snownlp\\__init__.py\u001b[0m in \u001b[0;36m__init__\u001b[0;34m(self, doc)\u001b[0m\n\u001b[1;32m     15\u001b[0m     \u001b[1;32mdef\u001b[0m \u001b[0m__init__\u001b[0m\u001b[1;33m(\u001b[0m\u001b[0mself\u001b[0m\u001b[1;33m,\u001b[0m \u001b[0mdoc\u001b[0m\u001b[1;33m)\u001b[0m\u001b[1;33m:\u001b[0m\u001b[1;33m\u001b[0m\u001b[0m\n\u001b[1;32m     16\u001b[0m         \u001b[0mself\u001b[0m\u001b[1;33m.\u001b[0m\u001b[0mdoc\u001b[0m \u001b[1;33m=\u001b[0m \u001b[0mdoc\u001b[0m\u001b[1;33m\u001b[0m\u001b[0m\n\u001b[0;32m---> 17\u001b[0;31m         \u001b[0mself\u001b[0m\u001b[1;33m.\u001b[0m\u001b[0mbm25\u001b[0m \u001b[1;33m=\u001b[0m \u001b[0mbm25\u001b[0m\u001b[1;33m.\u001b[0m\u001b[0mBM25\u001b[0m\u001b[1;33m(\u001b[0m\u001b[0mdoc\u001b[0m\u001b[1;33m)\u001b[0m\u001b[1;33m\u001b[0m\u001b[0m\n\u001b[0m\u001b[1;32m     18\u001b[0m \u001b[1;33m\u001b[0m\u001b[0m\n\u001b[1;32m     19\u001b[0m     \u001b[1;33m@\u001b[0m\u001b[0mproperty\u001b[0m\u001b[1;33m\u001b[0m\u001b[0m\n",
      "\u001b[0;32mc:\\programdata\\anaconda3\\lib\\site-packages\\snownlp\\sim\\bm25.py\u001b[0m in \u001b[0;36m__init__\u001b[0;34m(self, docs)\u001b[0m\n\u001b[1;32m      9\u001b[0m     \u001b[1;32mdef\u001b[0m \u001b[0m__init__\u001b[0m\u001b[1;33m(\u001b[0m\u001b[0mself\u001b[0m\u001b[1;33m,\u001b[0m \u001b[0mdocs\u001b[0m\u001b[1;33m)\u001b[0m\u001b[1;33m:\u001b[0m\u001b[1;33m\u001b[0m\u001b[0m\n\u001b[1;32m     10\u001b[0m         \u001b[0mself\u001b[0m\u001b[1;33m.\u001b[0m\u001b[0mD\u001b[0m \u001b[1;33m=\u001b[0m \u001b[0mlen\u001b[0m\u001b[1;33m(\u001b[0m\u001b[0mdocs\u001b[0m\u001b[1;33m)\u001b[0m\u001b[1;33m\u001b[0m\u001b[0m\n\u001b[0;32m---> 11\u001b[0;31m         \u001b[0mself\u001b[0m\u001b[1;33m.\u001b[0m\u001b[0mavgdl\u001b[0m \u001b[1;33m=\u001b[0m \u001b[0msum\u001b[0m\u001b[1;33m(\u001b[0m\u001b[1;33m[\u001b[0m\u001b[0mlen\u001b[0m\u001b[1;33m(\u001b[0m\u001b[0mdoc\u001b[0m\u001b[1;33m)\u001b[0m\u001b[1;33m+\u001b[0m\u001b[1;36m0.0\u001b[0m \u001b[1;32mfor\u001b[0m \u001b[0mdoc\u001b[0m \u001b[1;32min\u001b[0m \u001b[0mdocs\u001b[0m\u001b[1;33m]\u001b[0m\u001b[1;33m)\u001b[0m \u001b[1;33m/\u001b[0m \u001b[0mself\u001b[0m\u001b[1;33m.\u001b[0m\u001b[0mD\u001b[0m\u001b[1;33m\u001b[0m\u001b[0m\n\u001b[0m\u001b[1;32m     12\u001b[0m         \u001b[0mself\u001b[0m\u001b[1;33m.\u001b[0m\u001b[0mdocs\u001b[0m \u001b[1;33m=\u001b[0m \u001b[0mdocs\u001b[0m\u001b[1;33m\u001b[0m\u001b[0m\n\u001b[1;32m     13\u001b[0m         \u001b[0mself\u001b[0m\u001b[1;33m.\u001b[0m\u001b[0mf\u001b[0m \u001b[1;33m=\u001b[0m \u001b[1;33m[\u001b[0m\u001b[1;33m]\u001b[0m\u001b[1;33m\u001b[0m\u001b[0m\n",
      "\u001b[0;31mZeroDivisionError\u001b[0m: division by zero"
     ]
    }
   ],
   "source": [
    "snows  = [SnowNLP(para) for para in paras]"
   ]
  },
  {
   "cell_type": "code",
   "execution_count": 18,
   "metadata": {},
   "outputs": [
    {
     "ename": "SyntaxError",
     "evalue": "invalid syntax (<ipython-input-18-8ac4c64d374b>, line 1)",
     "output_type": "error",
     "traceback": [
      "\u001b[0;36m  File \u001b[0;32m\"<ipython-input-18-8ac4c64d374b>\"\u001b[0;36m, line \u001b[0;32m1\u001b[0m\n\u001b[0;31m    snows  = [SnowNLP(para) for para in paras if para.strip()<>'']\u001b[0m\n\u001b[0m                                                              ^\u001b[0m\n\u001b[0;31mSyntaxError\u001b[0m\u001b[0;31m:\u001b[0m invalid syntax\n"
     ]
    }
   ],
   "source": [
    "snows  = [SnowNLP(para) for para in paras if para.strip()<>'']"
   ]
  },
  {
   "cell_type": "code",
   "execution_count": 19,
   "metadata": {},
   "outputs": [
    {
     "data": {
      "text/plain": [
       "[<snownlp.SnowNLP at 0x267fdf60>,\n",
       " <snownlp.SnowNLP at 0x2680b048>,\n",
       " <snownlp.SnowNLP at 0x2680b0b8>,\n",
       " <snownlp.SnowNLP at 0x2680b128>,\n",
       " <snownlp.SnowNLP at 0x88e37b8>,\n",
       " <snownlp.SnowNLP at 0x26773eb8>,\n",
       " <snownlp.SnowNLP at 0x26773e80>,\n",
       " <snownlp.SnowNLP at 0x26773a20>,\n",
       " <snownlp.SnowNLP at 0x26773ba8>,\n",
       " <snownlp.SnowNLP at 0x26773fd0>,\n",
       " <snownlp.SnowNLP at 0x26773e48>,\n",
       " <snownlp.SnowNLP at 0x26773518>,\n",
       " <snownlp.SnowNLP at 0x26773ac8>,\n",
       " <snownlp.SnowNLP at 0x2680b240>]"
      ]
     },
     "execution_count": 19,
     "metadata": {},
     "output_type": "execute_result"
    }
   ],
   "source": [
    "[SnowNLP(para) for para in paras if not para.strip() == u'']"
   ]
  },
  {
   "cell_type": "code",
   "execution_count": 20,
   "metadata": {},
   "outputs": [
    {
     "ename": "NameError",
     "evalue": "name 'snows' is not defined",
     "output_type": "error",
     "traceback": [
      "\u001b[0;31m---------------------------------------------------------------------------\u001b[0m",
      "\u001b[0;31mNameError\u001b[0m                                 Traceback (most recent call last)",
      "\u001b[0;32m<ipython-input-20-e38fbfc23459>\u001b[0m in \u001b[0;36m<module>\u001b[0;34m()\u001b[0m\n\u001b[0;32m----> 1\u001b[0;31m \u001b[0msents\u001b[0m \u001b[1;33m=\u001b[0m \u001b[1;33m[\u001b[0m \u001b[0msnow\u001b[0m\u001b[1;33m.\u001b[0m\u001b[0msentences\u001b[0m \u001b[1;32mfor\u001b[0m \u001b[0msnow\u001b[0m \u001b[1;32min\u001b[0m \u001b[0msnows\u001b[0m\u001b[1;33m]\u001b[0m\u001b[1;33m\u001b[0m\u001b[0m\n\u001b[0m",
      "\u001b[0;31mNameError\u001b[0m: name 'snows' is not defined"
     ]
    }
   ],
   "source": [
    "sents = [ snow.sentences for snow in snows]"
   ]
  },
  {
   "cell_type": "code",
   "execution_count": 21,
   "metadata": {},
   "outputs": [],
   "source": [
    "snows = [SnowNLP(para) for para in paras if not para.strip() == u'']"
   ]
  },
  {
   "cell_type": "code",
   "execution_count": 22,
   "metadata": {},
   "outputs": [],
   "source": [
    "sents = [ snow.sentences for snow in snows]"
   ]
  },
  {
   "cell_type": "code",
   "execution_count": 23,
   "metadata": {},
   "outputs": [
    {
     "data": {
      "text/plain": [
       "[['用1800首诗表白', '用无人机求婚 南航学霸上演浪漫“求婚大作战”'],\n",
       " ['3月28号下午',\n",
       "  '一次求婚大作战在南京航空航天大学师生的朋友圈刷屏了',\n",
       "  '在朝夕相处的实验楼下',\n",
       "  '伴着好友老师的祝福和数百校友的助阵',\n",
       "  '南航自动化学院即将毕业的硕士研究生徐智成用无人机向相恋1896天的女友张瑶佳成功求婚',\n",
       "  '而徐智成坚持了5年的写诗表白在南航早已传为佳话'],\n",
       " ['与君初相识', '诗词抒情意'],\n",
       " ['刷屏的求婚故事男主角是南航自动化学院的徐智成',\n",
       "  '女主角则是自动化学院的博士生张瑶佳',\n",
       "  '徐智成告诉记者',\n",
       "  '本科同在一个班级的他们刚开始并不相熟',\n",
       "  '张瑶佳是班里的学霸',\n",
       "  '而他的学习却不出众',\n",
       "  '徐智成还记得',\n",
       "  '大一夏天',\n",
       "  '张瑶佳偶然在他写的诗下评论了几句',\n",
       "  '简单的几句却让他产生了共鸣',\n",
       "  '心里对张瑶佳默默生出了好感',\n",
       "  '“为了接近她',\n",
       "  '我常常找各种学习问题向她请教',\n",
       "  '我本来上课常坐教室后排的',\n",
       "  '为了追她从此只坐在教室前排',\n",
       "  '因为学习是她的追求',\n",
       "  '志同方能道合',\n",
       "  '”相知相守中',\n",
       "  '徐智成终于渐渐俘获了张瑶佳的芳心'],\n",
       " ['大二放寒假的前一天',\n",
       "  '徐智成向张瑶佳表白了',\n",
       "  '“你喜欢读诗',\n",
       "  '以后在一起的每一天我都会为你写一首诗',\n",
       "  '”张瑶佳本以为这句话只是一时的浪漫',\n",
       "  '没想到竟坚持到现在',\n",
       "  '1800多天下来',\n",
       "  '他们之间已经保留下了1800多首小诗',\n",
       "  '这些小诗见证着他们的爱情一天天成长'],\n",
       " ['爱在实验室', '浪漫也未缺'],\n",
       " ['张瑶佳凭借优异的成绩获得了直博的资格',\n",
       "  '徐智成为了能赶上女友的脚步',\n",
       "  '多陪她几年',\n",
       "  '大三一年辛苦复习',\n",
       "  '终于考上了南航的研究生',\n",
       "  '研究生与博士生的恋爱',\n",
       "  '自然不能像普通情侣一样花前月下消磨时间',\n",
       "  '没有课后的电影',\n",
       "  '缺少周末的约会',\n",
       "  '他们有的只是实验室里的相互陪伴',\n",
       "  '可是张瑶佳却甘之如饴',\n",
       "  '“我的所有软件都是他给我装的',\n",
       "  '很多文献资料都是他给我找到和翻译的',\n",
       "  '笨重的工作台也都是他给我装好的',\n",
       "  '我们走在路上',\n",
       "  '吃饭时',\n",
       "  '都会一起讨论问题',\n",
       "  '对我来说这就是浪漫啊',\n",
       "  '”'],\n",
       " ['作为博士生',\n",
       "  '张瑶佳的科研任务要重一些',\n",
       "  '为了能让她更多时间花在科研上',\n",
       "  '徐智成承包了很多生活上的琐事',\n",
       "  '他说：“她有时候开会很晚或者我有事出去',\n",
       "  '我会提前买好饭给她带到实验室',\n",
       "  '每天都从博园接送到实验室',\n",
       "  '不论多早或多晚',\n",
       "  '放假的时候',\n",
       "  '都会去车站接送',\n",
       "  '”'],\n",
       " ['无人机求婚', '用诗词表白'],\n",
       " ['为了在毕业前能实现求婚',\n",
       "  '徐智成从寒假就开始策划求婚计划',\n",
       "  '他查了很多求婚的例子',\n",
       "  '但都觉得很俗套',\n",
       "  '他想',\n",
       "  '他们是相识于南航',\n",
       "  '相爱于南航',\n",
       "  '成长于南航',\n",
       "  '求婚也一定要契合学校浓厚的航空航天氛围',\n",
       "  '他决定采用无人机求婚',\n",
       "  '正巧他自动化专业的同学正在研究无人机项目',\n",
       "  '最后',\n",
       "  '他决定结合南航的校园文化',\n",
       "  '使用同学亲自研制的无人机求婚',\n",
       "  '当然还有精心准备的求婚气球和诗词表白'],\n",
       " ['写1800首诗求婚'],\n",
       " ['无人机带着钻戒求婚'],\n",
       " ['当他们到达求婚现场',\n",
       "  '张瑶佳看到学院楼前的求婚气球',\n",
       "  '在11位朋友念出的诗词表白中',\n",
       "  '流下了幸福的眼泪',\n",
       "  '而当无人机带着钻戒缓缓降落',\n",
       "  '心里更是感动不已：“这就是我想要的',\n",
       "  '”她告诉记者',\n",
       "  '由于自己心中一直有一个航空航天的梦想',\n",
       "  '所以报考了南航',\n",
       "  '男友使用无人机求婚非常打动她'],\n",
       " ['下周徐智成就要正式入职了',\n",
       "  '为了能够陪在女友身边',\n",
       "  '他放弃了上海、杭州等城市大公司的offer',\n",
       "  '选择留在了南京',\n",
       "  '张瑶佳觉得有些可惜',\n",
       "  '但徐智成却无怨无悔',\n",
       "  '“或许放弃了一些',\n",
       "  '才会得到更多',\n",
       "  '”']]"
      ]
     },
     "execution_count": 23,
     "metadata": {},
     "output_type": "execute_result"
    }
   ],
   "source": [
    "sents "
   ]
  },
  {
   "cell_type": "code",
   "execution_count": 24,
   "metadata": {},
   "outputs": [
    {
     "data": {
      "text/plain": [
       "['用1800首诗表白', '用无人机求婚 南航学霸上演浪漫“求婚大作战”']"
      ]
     },
     "execution_count": 24,
     "metadata": {},
     "output_type": "execute_result"
    }
   ],
   "source": [
    "sents[0]"
   ]
  },
  {
   "cell_type": "code",
   "execution_count": 25,
   "metadata": {},
   "outputs": [
    {
     "data": {
      "text/plain": [
       "['3月28号下午',\n",
       " '一次求婚大作战在南京航空航天大学师生的朋友圈刷屏了',\n",
       " '在朝夕相处的实验楼下',\n",
       " '伴着好友老师的祝福和数百校友的助阵',\n",
       " '南航自动化学院即将毕业的硕士研究生徐智成用无人机向相恋1896天的女友张瑶佳成功求婚',\n",
       " '而徐智成坚持了5年的写诗表白在南航早已传为佳话']"
      ]
     },
     "execution_count": 25,
     "metadata": {},
     "output_type": "execute_result"
    }
   ],
   "source": [
    "sents[1]"
   ]
  },
  {
   "cell_type": "code",
   "execution_count": 26,
   "metadata": {},
   "outputs": [
    {
     "data": {
      "text/plain": [
       "14"
      ]
     },
     "execution_count": 26,
     "metadata": {},
     "output_type": "execute_result"
    }
   ],
   "source": [
    "sents.__len__()"
   ]
  },
  {
   "cell_type": "code",
   "execution_count": 27,
   "metadata": {},
   "outputs": [
    {
     "data": {
      "text/plain": [
       "[<snownlp.SnowNLP at 0x2680b7b8>,\n",
       " <snownlp.SnowNLP at 0x2680b860>,\n",
       " <snownlp.SnowNLP at 0x2680b8d0>,\n",
       " <snownlp.SnowNLP at 0x2680b940>,\n",
       " <snownlp.SnowNLP at 0x2680ba58>,\n",
       " <snownlp.SnowNLP at 0x2680bac8>,\n",
       " <snownlp.SnowNLP at 0x2680bb38>,\n",
       " <snownlp.SnowNLP at 0x2680bba8>,\n",
       " <snownlp.SnowNLP at 0x2680bc18>,\n",
       " <snownlp.SnowNLP at 0x2680bc88>,\n",
       " <snownlp.SnowNLP at 0x2680bcf8>,\n",
       " <snownlp.SnowNLP at 0x2680bd68>,\n",
       " <snownlp.SnowNLP at 0x2680bdd8>,\n",
       " <snownlp.SnowNLP at 0x2680be48>]"
      ]
     },
     "execution_count": 27,
     "metadata": {},
     "output_type": "execute_result"
    }
   ],
   "source": [
    "snows"
   ]
  },
  {
   "cell_type": "code",
   "execution_count": 28,
   "metadata": {},
   "outputs": [
    {
     "ename": "NameError",
     "evalue": "name 'snow' is not defined",
     "output_type": "error",
     "traceback": [
      "\u001b[0;31m---------------------------------------------------------------------------\u001b[0m",
      "\u001b[0;31mNameError\u001b[0m                                 Traceback (most recent call last)",
      "\u001b[0;32m<ipython-input-28-c79022c3a49f>\u001b[0m in \u001b[0;36m<module>\u001b[0;34m()\u001b[0m\n\u001b[0;32m----> 1\u001b[0;31m \u001b[0msnow\u001b[0m \u001b[1;33m=\u001b[0m \u001b[0msnow\u001b[0m\u001b[1;33m[\u001b[0m\u001b[1;36m0\u001b[0m\u001b[1;33m]\u001b[0m\u001b[1;33m\u001b[0m\u001b[0m\n\u001b[0m",
      "\u001b[0;31mNameError\u001b[0m: name 'snow' is not defined"
     ]
    }
   ],
   "source": [
    "snow = snow[0]"
   ]
  },
  {
   "cell_type": "code",
   "execution_count": 29,
   "metadata": {},
   "outputs": [],
   "source": [
    "snow = snows[0]"
   ]
  },
  {
   "cell_type": "code",
   "execution_count": 30,
   "metadata": {},
   "outputs": [
    {
     "data": {
      "text/plain": [
       "['__class__',\n",
       " '__delattr__',\n",
       " '__dict__',\n",
       " '__dir__',\n",
       " '__doc__',\n",
       " '__eq__',\n",
       " '__format__',\n",
       " '__ge__',\n",
       " '__getattribute__',\n",
       " '__gt__',\n",
       " '__hash__',\n",
       " '__init__',\n",
       " '__init_subclass__',\n",
       " '__le__',\n",
       " '__lt__',\n",
       " '__module__',\n",
       " '__ne__',\n",
       " '__new__',\n",
       " '__reduce__',\n",
       " '__reduce_ex__',\n",
       " '__repr__',\n",
       " '__setattr__',\n",
       " '__sizeof__',\n",
       " '__str__',\n",
       " '__subclasshook__',\n",
       " '__weakref__',\n",
       " 'bm25',\n",
       " 'doc',\n",
       " 'han',\n",
       " 'idf',\n",
       " 'keywords',\n",
       " 'pinyin',\n",
       " 'sentences',\n",
       " 'sentiments',\n",
       " 'sim',\n",
       " 'summary',\n",
       " 'tags',\n",
       " 'tf',\n",
       " 'words']"
      ]
     },
     "execution_count": 30,
     "metadata": {},
     "output_type": "execute_result"
    }
   ],
   "source": [
    "dir(snow)"
   ]
  },
  {
   "cell_type": "code",
   "execution_count": 31,
   "metadata": {},
   "outputs": [
    {
     "data": {
      "text/plain": [
       "['用',\n",
       " '1800',\n",
       " '首',\n",
       " '诗',\n",
       " '表',\n",
       " '白',\n",
       " '，',\n",
       " '用',\n",
       " '无',\n",
       " '人',\n",
       " '机',\n",
       " '求婚',\n",
       " '南航',\n",
       " '学',\n",
       " '霸',\n",
       " '上演',\n",
       " '浪漫',\n",
       " '“',\n",
       " '求婚',\n",
       " '大',\n",
       " '作战',\n",
       " '”']"
      ]
     },
     "execution_count": 31,
     "metadata": {},
     "output_type": "execute_result"
    }
   ],
   "source": [
    "snow.words"
   ]
  },
  {
   "cell_type": "code",
   "execution_count": 32,
   "metadata": {},
   "outputs": [],
   "source": [
    "from numpy import *"
   ]
  },
  {
   "cell_type": "code",
   "execution_count": 33,
   "metadata": {},
   "outputs": [],
   "source": [
    "import numpy as np"
   ]
  },
  {
   "cell_type": "code",
   "execution_count": 34,
   "metadata": {},
   "outputs": [],
   "source": [
    "from numpy import array, sin"
   ]
  },
  {
   "cell_type": "code",
   "execution_count": 35,
   "metadata": {},
   "outputs": [],
   "source": [
    "a = [1,2,3,4]"
   ]
  },
  {
   "cell_type": "code",
   "execution_count": 36,
   "metadata": {},
   "outputs": [
    {
     "ename": "TypeError",
     "evalue": "can only concatenate list (not \"int\") to list",
     "output_type": "error",
     "traceback": [
      "\u001b[0;31m---------------------------------------------------------------------------\u001b[0m",
      "\u001b[0;31mTypeError\u001b[0m                                 Traceback (most recent call last)",
      "\u001b[0;32m<ipython-input-36-a1bd27f4633f>\u001b[0m in \u001b[0;36m<module>\u001b[0;34m()\u001b[0m\n\u001b[0;32m----> 1\u001b[0;31m \u001b[0ma\u001b[0m \u001b[1;33m+\u001b[0m \u001b[1;36m1\u001b[0m\u001b[1;33m\u001b[0m\u001b[0m\n\u001b[0m",
      "\u001b[0;31mTypeError\u001b[0m: can only concatenate list (not \"int\") to list"
     ]
    }
   ],
   "source": [
    "a + 1"
   ]
  },
  {
   "cell_type": "code",
   "execution_count": 37,
   "metadata": {},
   "outputs": [],
   "source": [
    "arr = array(a)"
   ]
  },
  {
   "cell_type": "code",
   "execution_count": 38,
   "metadata": {},
   "outputs": [
    {
     "data": {
      "text/plain": [
       "array([2, 3, 4, 5])"
      ]
     },
     "execution_count": 38,
     "metadata": {},
     "output_type": "execute_result"
    }
   ],
   "source": [
    "arr+1"
   ]
  },
  {
   "cell_type": "code",
   "execution_count": 39,
   "metadata": {},
   "outputs": [
    {
     "data": {
      "text/plain": [
       "array([1, 2, 3, 4])"
      ]
     },
     "execution_count": 39,
     "metadata": {},
     "output_type": "execute_result"
    }
   ],
   "source": [
    "arr"
   ]
  },
  {
   "cell_type": "code",
   "execution_count": 40,
   "metadata": {},
   "outputs": [],
   "source": [
    "arr1  = array([3,5,6,13])"
   ]
  },
  {
   "cell_type": "code",
   "execution_count": 41,
   "metadata": {},
   "outputs": [
    {
     "data": {
      "text/plain": [
       "array([ 4,  7,  9, 17])"
      ]
     },
     "execution_count": 41,
     "metadata": {},
     "output_type": "execute_result"
    }
   ],
   "source": [
    "arr+arr1"
   ]
  },
  {
   "cell_type": "code",
   "execution_count": 42,
   "metadata": {},
   "outputs": [
    {
     "data": {
      "text/plain": [
       "array([       1,       32,      729, 67108864], dtype=int32)"
      ]
     },
     "execution_count": 42,
     "metadata": {},
     "output_type": "execute_result"
    }
   ],
   "source": [
    "arr**arr1"
   ]
  },
  {
   "cell_type": "code",
   "execution_count": 43,
   "metadata": {},
   "outputs": [
    {
     "data": {
      "text/plain": [
       "array([ 3, 10, 18, 52])"
      ]
     },
     "execution_count": 43,
     "metadata": {},
     "output_type": "execute_result"
    }
   ],
   "source": [
    "arr*arr1"
   ]
  },
  {
   "cell_type": "code",
   "execution_count": 44,
   "metadata": {},
   "outputs": [
    {
     "data": {
      "text/plain": [
       "1"
      ]
     },
     "execution_count": 44,
     "metadata": {},
     "output_type": "execute_result"
    }
   ],
   "source": [
    "arr[0]"
   ]
  },
  {
   "cell_type": "code",
   "execution_count": 45,
   "metadata": {},
   "outputs": [
    {
     "data": {
      "text/plain": [
       "array([3, 4])"
      ]
     },
     "execution_count": 45,
     "metadata": {},
     "output_type": "execute_result"
    }
   ],
   "source": [
    "arr[2:4]"
   ]
  },
  {
   "cell_type": "code",
   "execution_count": 46,
   "metadata": {},
   "outputs": [
    {
     "data": {
      "text/plain": [
       "array([1, 2, 3, 4])"
      ]
     },
     "execution_count": 46,
     "metadata": {},
     "output_type": "execute_result"
    }
   ],
   "source": [
    "arr"
   ]
  },
  {
   "cell_type": "code",
   "execution_count": 47,
   "metadata": {},
   "outputs": [
    {
     "data": {
      "text/plain": [
       "(4,)"
      ]
     },
     "execution_count": 47,
     "metadata": {},
     "output_type": "execute_result"
    }
   ],
   "source": [
    "arr.shape"
   ]
  },
  {
   "cell_type": "code",
   "execution_count": 48,
   "metadata": {},
   "outputs": [],
   "source": [
    "arr.shape = 2,2"
   ]
  },
  {
   "cell_type": "code",
   "execution_count": 49,
   "metadata": {},
   "outputs": [
    {
     "data": {
      "text/plain": [
       "array([[1, 2],\n",
       "       [3, 4]])"
      ]
     },
     "execution_count": 49,
     "metadata": {},
     "output_type": "execute_result"
    }
   ],
   "source": [
    "arr"
   ]
  },
  {
   "cell_type": "code",
   "execution_count": 50,
   "metadata": {},
   "outputs": [
    {
     "data": {
      "text/plain": [
       "array([[2, 4],\n",
       "       [6, 8]])"
      ]
     },
     "execution_count": 50,
     "metadata": {},
     "output_type": "execute_result"
    }
   ],
   "source": [
    "arr +  arr"
   ]
  },
  {
   "cell_type": "code",
   "execution_count": 51,
   "metadata": {},
   "outputs": [],
   "source": [
    "import numpy as np"
   ]
  },
  {
   "cell_type": "code",
   "execution_count": 52,
   "metadata": {},
   "outputs": [],
   "source": [
    "import matplotlib.pyplot as plt"
   ]
  },
  {
   "cell_type": "code",
   "execution_count": 53,
   "metadata": {},
   "outputs": [
    {
     "data": {
      "text/plain": [
       "<function numpy.core.function_base.linspace>"
      ]
     },
     "execution_count": 53,
     "metadata": {},
     "output_type": "execute_result"
    }
   ],
   "source": [
    "linspace"
   ]
  },
  {
   "cell_type": "code",
   "execution_count": 54,
   "metadata": {},
   "outputs": [
    {
     "name": "stdout",
     "output_type": "stream",
     "text": [
      "Help on function linspace in module numpy.core.function_base:\n",
      "\n",
      "linspace(start, stop, num=50, endpoint=True, retstep=False, dtype=None)\n",
      "    Return evenly spaced numbers over a specified interval.\n",
      "    \n",
      "    Returns `num` evenly spaced samples, calculated over the\n",
      "    interval [`start`, `stop`].\n",
      "    \n",
      "    The endpoint of the interval can optionally be excluded.\n",
      "    \n",
      "    Parameters\n",
      "    ----------\n",
      "    start : scalar\n",
      "        The starting value of the sequence.\n",
      "    stop : scalar\n",
      "        The end value of the sequence, unless `endpoint` is set to False.\n",
      "        In that case, the sequence consists of all but the last of ``num + 1``\n",
      "        evenly spaced samples, so that `stop` is excluded.  Note that the step\n",
      "        size changes when `endpoint` is False.\n",
      "    num : int, optional\n",
      "        Number of samples to generate. Default is 50. Must be non-negative.\n",
      "    endpoint : bool, optional\n",
      "        If True, `stop` is the last sample. Otherwise, it is not included.\n",
      "        Default is True.\n",
      "    retstep : bool, optional\n",
      "        If True, return (`samples`, `step`), where `step` is the spacing\n",
      "        between samples.\n",
      "    dtype : dtype, optional\n",
      "        The type of the output array.  If `dtype` is not given, infer the data\n",
      "        type from the other input arguments.\n",
      "    \n",
      "        .. versionadded:: 1.9.0\n",
      "    \n",
      "    Returns\n",
      "    -------\n",
      "    samples : ndarray\n",
      "        There are `num` equally spaced samples in the closed interval\n",
      "        ``[start, stop]`` or the half-open interval ``[start, stop)``\n",
      "        (depending on whether `endpoint` is True or False).\n",
      "    step : float, optional\n",
      "        Only returned if `retstep` is True\n",
      "    \n",
      "        Size of spacing between samples.\n",
      "    \n",
      "    \n",
      "    See Also\n",
      "    --------\n",
      "    arange : Similar to `linspace`, but uses a step size (instead of the\n",
      "             number of samples).\n",
      "    logspace : Samples uniformly distributed in log space.\n",
      "    \n",
      "    Examples\n",
      "    --------\n",
      "    >>> np.linspace(2.0, 3.0, num=5)\n",
      "    array([ 2.  ,  2.25,  2.5 ,  2.75,  3.  ])\n",
      "    >>> np.linspace(2.0, 3.0, num=5, endpoint=False)\n",
      "    array([ 2. ,  2.2,  2.4,  2.6,  2.8])\n",
      "    >>> np.linspace(2.0, 3.0, num=5, retstep=True)\n",
      "    (array([ 2.  ,  2.25,  2.5 ,  2.75,  3.  ]), 0.25)\n",
      "    \n",
      "    Graphical illustration:\n",
      "    \n",
      "    >>> import matplotlib.pyplot as plt\n",
      "    >>> N = 8\n",
      "    >>> y = np.zeros(N)\n",
      "    >>> x1 = np.linspace(0, 10, N, endpoint=True)\n",
      "    >>> x2 = np.linspace(0, 10, N, endpoint=False)\n",
      "    >>> plt.plot(x1, y, 'o')\n",
      "    [<matplotlib.lines.Line2D object at 0x...>]\n",
      "    >>> plt.plot(x2, y + 0.5, 'o')\n",
      "    [<matplotlib.lines.Line2D object at 0x...>]\n",
      "    >>> plt.ylim([-0.5, 1])\n",
      "    (-0.5, 1)\n",
      "    >>> plt.show()\n",
      "\n"
     ]
    }
   ],
   "source": [
    "help(linspace)"
   ]
  },
  {
   "cell_type": "code",
   "execution_count": 55,
   "metadata": {},
   "outputs": [
    {
     "data": {
      "text/plain": [
       "array([  1.,   2.,   3.,   4.,   5.,   6.,   7.,   8.,   9.,  10.])"
      ]
     },
     "execution_count": 55,
     "metadata": {},
     "output_type": "execute_result"
    }
   ],
   "source": [
    "linspace(1,10,10)"
   ]
  },
  {
   "cell_type": "code",
   "execution_count": 56,
   "metadata": {},
   "outputs": [
    {
     "data": {
      "text/plain": [
       "array([  1.        ,   1.47368421,   1.94736842,   2.42105263,\n",
       "         2.89473684,   3.36842105,   3.84210526,   4.31578947,\n",
       "         4.78947368,   5.26315789,   5.73684211,   6.21052632,\n",
       "         6.68421053,   7.15789474,   7.63157895,   8.10526316,\n",
       "         8.57894737,   9.05263158,   9.52631579,  10.        ])"
      ]
     },
     "execution_count": 56,
     "metadata": {},
     "output_type": "execute_result"
    }
   ],
   "source": [
    "linspace(1,10,20)"
   ]
  },
  {
   "cell_type": "code",
   "execution_count": 57,
   "metadata": {},
   "outputs": [
    {
     "data": {
      "text/plain": [
       "array([  1.        ,   3.11111111,   5.22222222,   7.33333333,\n",
       "         9.44444444,  11.55555556,  13.66666667,  15.77777778,\n",
       "        17.88888889,  20.        ])"
      ]
     },
     "execution_count": 57,
     "metadata": {},
     "output_type": "execute_result"
    }
   ],
   "source": [
    "linspace(1,20,10)"
   ]
  },
  {
   "cell_type": "code",
   "execution_count": 58,
   "metadata": {},
   "outputs": [],
   "source": [
    "a = linspace(0, 2*pi, 21)"
   ]
  },
  {
   "cell_type": "code",
   "execution_count": 59,
   "metadata": {},
   "outputs": [
    {
     "data": {
      "text/plain": [
       "array([ 0.        ,  0.31415927,  0.62831853,  0.9424778 ,  1.25663706,\n",
       "        1.57079633,  1.88495559,  2.19911486,  2.51327412,  2.82743339,\n",
       "        3.14159265,  3.45575192,  3.76991118,  4.08407045,  4.39822972,\n",
       "        4.71238898,  5.02654825,  5.34070751,  5.65486678,  5.96902604,\n",
       "        6.28318531])"
      ]
     },
     "execution_count": 59,
     "metadata": {},
     "output_type": "execute_result"
    }
   ],
   "source": [
    "a"
   ]
  },
  {
   "cell_type": "code",
   "execution_count": 60,
   "metadata": {},
   "outputs": [],
   "source": [
    "from numpy import sin"
   ]
  },
  {
   "cell_type": "code",
   "execution_count": 61,
   "metadata": {},
   "outputs": [],
   "source": [
    "x = linspace(0, 2*pi, 21)"
   ]
  },
  {
   "cell_type": "code",
   "execution_count": 62,
   "metadata": {},
   "outputs": [],
   "source": [
    "y = sin(x)"
   ]
  },
  {
   "cell_type": "code",
   "execution_count": 63,
   "metadata": {},
   "outputs": [
    {
     "data": {
      "text/plain": [
       "array([  0.00000000e+00,   3.09016994e-01,   5.87785252e-01,\n",
       "         8.09016994e-01,   9.51056516e-01,   1.00000000e+00,\n",
       "         9.51056516e-01,   8.09016994e-01,   5.87785252e-01,\n",
       "         3.09016994e-01,   1.22464680e-16,  -3.09016994e-01,\n",
       "        -5.87785252e-01,  -8.09016994e-01,  -9.51056516e-01,\n",
       "        -1.00000000e+00,  -9.51056516e-01,  -8.09016994e-01,\n",
       "        -5.87785252e-01,  -3.09016994e-01,  -2.44929360e-16])"
      ]
     },
     "execution_count": 63,
     "metadata": {},
     "output_type": "execute_result"
    }
   ],
   "source": [
    "y"
   ]
  },
  {
   "cell_type": "code",
   "execution_count": 64,
   "metadata": {},
   "outputs": [
    {
     "data": {
      "text/plain": [
       "[<matplotlib.lines.Line2D at 0x4a6bb38>]"
      ]
     },
     "execution_count": 64,
     "metadata": {},
     "output_type": "execute_result"
    }
   ],
   "source": [
    "plt.plot(x,y)"
   ]
  },
  {
   "cell_type": "code",
   "execution_count": 65,
   "metadata": {},
   "outputs": [],
   "source": [
    "plt.show()"
   ]
  },
  {
   "cell_type": "code",
   "execution_count": 66,
   "metadata": {},
   "outputs": [],
   "source": [
    "%matplotlib inline"
   ]
  },
  {
   "cell_type": "code",
   "execution_count": 67,
   "metadata": {},
   "outputs": [
    {
     "data": {
      "text/plain": [
       "[<matplotlib.lines.Line2D at 0x2695db38>]"
      ]
     },
     "execution_count": 67,
     "metadata": {},
     "output_type": "execute_result"
    },
    {
     "data": {
      "image/png": "[encoded data removed]",
      "text/plain": [
       "<matplotlib.figure.Figure at 0x2680b9e8>"
      ]
     },
     "metadata": {},
     "output_type": "display_data"
    }
   ],
   "source": [
    "plt.plot(x,y)"
   ]
  },
  {
   "cell_type": "code",
   "execution_count": 68,
   "metadata": {},
   "outputs": [
    {
     "name": "stdout",
     "output_type": "stream",
     "text": [
      "Help on function plot in module matplotlib.pyplot:\n",
      "\n",
      "plot(*args, **kwargs)\n",
      "    Plot lines and/or markers to the\n",
      "    :class:`~matplotlib.axes.Axes`.  *args* is a variable length\n",
      "    argument, allowing for multiple *x*, *y* pairs with an\n",
      "    optional format string.  For example, each of the following is\n",
      "    legal::\n",
      "    \n",
      "        plot(x, y)        # plot x and y using default line style and color\n",
      "        plot(x, y, 'bo')  # plot x and y using blue circle markers\n",
      "        plot(y)           # plot y using x as index array 0..N-1\n",
      "        plot(y, 'r+')     # ditto, but with red plusses\n",
      "    \n",
      "    If *x* and/or *y* is 2-dimensional, then the corresponding columns\n",
      "    will be plotted.\n",
      "    \n",
      "    If used with labeled data, make sure that the color spec is not\n",
      "    included as an element in data, as otherwise the last case\n",
      "    ``plot(\"v\",\"r\", data={\"v\":..., \"r\":...)``\n",
      "    can be interpreted as the first case which would do ``plot(v, r)``\n",
      "    using the default line style and color.\n",
      "    \n",
      "    If not used with labeled data (i.e., without a data argument),\n",
      "    an arbitrary number of *x*, *y*, *fmt* groups can be specified, as in::\n",
      "    \n",
      "        a.plot(x1, y1, 'g^', x2, y2, 'g-')\n",
      "    \n",
      "    Return value is a list of lines that were added.\n",
      "    \n",
      "    By default, each line is assigned a different style specified by a\n",
      "    'style cycle'.  To change this behavior, you can edit the\n",
      "    axes.prop_cycle rcParam.\n",
      "    \n",
      "    The following format string characters are accepted to control\n",
      "    the line style or marker:\n",
      "    \n",
      "    ================    ===============================\n",
      "    character           description\n",
      "    ================    ===============================\n",
      "    ``'-'``             solid line style\n",
      "    ``'--'``            dashed line style\n",
      "    ``'-.'``            dash-dot line style\n",
      "    ``':'``             dotted line style\n",
      "    ``'.'``             point marker\n",
      "    ``','``             pixel marker\n",
      "    ``'o'``             circle marker\n",
      "    ``'v'``             triangle_down marker\n",
      "    ``'^'``             triangle_up marker\n",
      "    ``'<'``             triangle_left marker\n",
      "    ``'>'``             triangle_right marker\n",
      "    ``'1'``             tri_down marker\n",
      "    ``'2'``             tri_up marker\n",
      "    ``'3'``             tri_left marker\n",
      "    ``'4'``             tri_right marker\n",
      "    ``'s'``             square marker\n",
      "    ``'p'``             pentagon marker\n",
      "    ``'*'``             star marker\n",
      "    ``'h'``             hexagon1 marker\n",
      "    ``'H'``             hexagon2 marker\n",
      "    ``'+'``             plus marker\n",
      "    ``'x'``             x marker\n",
      "    ``'D'``             diamond marker\n",
      "    ``'d'``             thin_diamond marker\n",
      "    ``'|'``             vline marker\n",
      "    ``'_'``             hline marker\n",
      "    ================    ===============================\n",
      "    \n",
      "    \n",
      "    The following color abbreviations are supported:\n",
      "    \n",
      "    ==========  ========\n",
      "    character   color\n",
      "    ==========  ========\n",
      "    'b'         blue\n",
      "    'g'         green\n",
      "    'r'         red\n",
      "    'c'         cyan\n",
      "    'm'         magenta\n",
      "    'y'         yellow\n",
      "    'k'         black\n",
      "    'w'         white\n",
      "    ==========  ========\n",
      "    \n",
      "    In addition, you can specify colors in many weird and\n",
      "    wonderful ways, including full names (``'green'``), hex\n",
      "    strings (``'#008000'``), RGB or RGBA tuples (``(0,1,0,1)``) or\n",
      "    grayscale intensities as a string (``'0.8'``).  Of these, the\n",
      "    string specifications can be used in place of a ``fmt`` group,\n",
      "    but the tuple forms can be used only as ``kwargs``.\n",
      "    \n",
      "    Line styles and colors are combined in a single format string, as in\n",
      "    ``'bo'`` for blue circles.\n",
      "    \n",
      "    The *kwargs* can be used to set line properties (any property that has\n",
      "    a ``set_*`` method).  You can use this to set a line label (for auto\n",
      "    legends), linewidth, anitialising, marker face color, etc.  Here is an\n",
      "    example::\n",
      "    \n",
      "        plot([1,2,3], [1,2,3], 'go-', label='line 1', linewidth=2)\n",
      "        plot([1,2,3], [1,4,9], 'rs',  label='line 2')\n",
      "        axis([0, 4, 0, 10])\n",
      "        legend()\n",
      "    \n",
      "    If you make multiple lines with one plot command, the kwargs\n",
      "    apply to all those lines, e.g.::\n",
      "    \n",
      "        plot(x1, y1, x2, y2, antialiased=False)\n",
      "    \n",
      "    Neither line will be antialiased.\n",
      "    \n",
      "    You do not need to use format strings, which are just\n",
      "    abbreviations.  All of the line properties can be controlled\n",
      "    by keyword arguments.  For example, you can set the color,\n",
      "    marker, linestyle, and markercolor with::\n",
      "    \n",
      "        plot(x, y, color='green', linestyle='dashed', marker='o',\n",
      "             markerfacecolor='blue', markersize=12).\n",
      "    \n",
      "    See :class:`~matplotlib.lines.Line2D` for details.\n",
      "    \n",
      "    The kwargs are :class:`~matplotlib.lines.Line2D` properties:\n",
      "    \n",
      "      agg_filter: unknown\n",
      "      alpha: float (0.0 transparent through 1.0 opaque) \n",
      "      animated: [True | False] \n",
      "      antialiased or aa: [True | False] \n",
      "      axes: an :class:`~matplotlib.axes.Axes` instance \n",
      "      clip_box: a :class:`matplotlib.transforms.Bbox` instance \n",
      "      clip_on: [True | False] \n",
      "      clip_path: [ (:class:`~matplotlib.path.Path`, :class:`~matplotlib.transforms.Transform`) | :class:`~matplotlib.patches.Patch` | None ] \n",
      "      color or c: any matplotlib color \n",
      "      contains: a callable function \n",
      "      dash_capstyle: ['butt' | 'round' | 'projecting'] \n",
      "      dash_joinstyle: ['miter' | 'round' | 'bevel'] \n",
      "      dashes: sequence of on/off ink in points \n",
      "      drawstyle: ['default' | 'steps' | 'steps-pre' | 'steps-mid' | 'steps-post'] \n",
      "      figure: a :class:`matplotlib.figure.Figure` instance \n",
      "      fillstyle: ['full' | 'left' | 'right' | 'bottom' | 'top' | 'none'] \n",
      "      gid: an id string \n",
      "      label: string or anything printable with '%s' conversion. \n",
      "      linestyle or ls: ['solid' | 'dashed', 'dashdot', 'dotted' | (offset, on-off-dash-seq) | ``'-'`` | ``'--'`` | ``'-.'`` | ``':'`` | ``'None'`` | ``' '`` | ``''``]\n",
      "      linewidth or lw: float value in points \n",
      "      marker: :mod:`A valid marker style <matplotlib.markers>`\n",
      "      markeredgecolor or mec: any matplotlib color \n",
      "      markeredgewidth or mew: float value in points \n",
      "      markerfacecolor or mfc: any matplotlib color \n",
      "      markerfacecoloralt or mfcalt: any matplotlib color \n",
      "      markersize or ms: float \n",
      "      markevery: [None | int | length-2 tuple of int | slice | list/array of int | float | length-2 tuple of float]\n",
      "      path_effects: unknown\n",
      "      picker: float distance in points or callable pick function ``fn(artist, event)`` \n",
      "      pickradius: float distance in points \n",
      "      rasterized: [True | False | None] \n",
      "      sketch_params: unknown\n",
      "      snap: unknown\n",
      "      solid_capstyle: ['butt' | 'round' |  'projecting'] \n",
      "      solid_joinstyle: ['miter' | 'round' | 'bevel'] \n",
      "      transform: a :class:`matplotlib.transforms.Transform` instance \n",
      "      url: a url string \n",
      "      visible: [True | False] \n",
      "      xdata: 1D array \n",
      "      ydata: 1D array \n",
      "      zorder: any number \n",
      "    \n",
      "    kwargs *scalex* and *scaley*, if defined, are passed on to\n",
      "    :meth:`~matplotlib.axes.Axes.autoscale_view` to determine\n",
      "    whether the *x* and *y* axes are autoscaled; the default is\n",
      "    *True*.\n",
      "    \n",
      "    .. note::\n",
      "        In addition to the above described arguments, this function can take a\n",
      "        **data** keyword argument. If such a **data** argument is given, the\n",
      "        following arguments are replaced by **data[<arg>]**:\n",
      "    \n",
      "        * All arguments with the following names: 'x', 'y'.\n",
      "\n"
     ]
    }
   ],
   "source": [
    "help(plt.plot)"
   ]
  },
  {
   "cell_type": "code",
   "execution_count": 69,
   "metadata": {},
   "outputs": [
    {
     "data": {
      "text/plain": [
       "[<matplotlib.lines.Line2D at 0x26a0cb70>]"
      ]
     },
     "execution_count": 69,
     "metadata": {},
     "output_type": "execute_result"
    },
    {
     "data": {
      "image/png": "[encoded data removed]",
      "text/plain": [
       "<matplotlib.figure.Figure at 0x2699af60>"
      ]
     },
     "metadata": {},
     "output_type": "display_data"
    }
   ],
   "source": [
    "plt.plot(x,y,'bo')"
   ]
  },
  {
   "cell_type": "code",
   "execution_count": 70,
   "metadata": {},
   "outputs": [],
   "source": [
    "x = rand(200)"
   ]
  },
  {
   "cell_type": "code",
   "execution_count": 71,
   "metadata": {},
   "outputs": [
    {
     "data": {
      "text/plain": [
       "array([  6.15101195e-01,   6.46801600e-01,   1.81974089e-01,\n",
       "         8.75878979e-01,   4.98275814e-01,   1.30523345e-01,\n",
       "         5.12351153e-02,   2.22521687e-02,   1.82793368e-01,\n",
       "         9.59321080e-01,   6.59466535e-01,   6.22060626e-01,\n",
       "         4.15580787e-01,   8.44999749e-01,   7.53115830e-01,\n",
       "         1.03369655e-01,   9.25070096e-01,   2.56000066e-01,\n",
       "         4.38978754e-01,   1.56902137e-01,   7.11220069e-01,\n",
       "         2.36425354e-03,   7.89676429e-01,   1.39091398e-01,\n",
       "         8.79172054e-01,   5.54002851e-01,   6.32171315e-02,\n",
       "         5.28676325e-01,   5.41430687e-01,   5.31643238e-02,\n",
       "         3.06873995e-01,   2.01467471e-01,   2.15127032e-01,\n",
       "         9.29288215e-01,   3.37154367e-01,   7.77373870e-02,\n",
       "         4.40020496e-01,   8.76863835e-01,   4.24722561e-01,\n",
       "         7.07251036e-01,   4.54668651e-01,   7.88537337e-01,\n",
       "         7.58632818e-02,   4.80635189e-01,   2.58588707e-01,\n",
       "         9.96657051e-02,   6.88763260e-02,   2.09589450e-01,\n",
       "         1.02474274e-01,   9.93602455e-01,   7.34572746e-01,\n",
       "         3.94838631e-03,   1.85050167e-01,   3.43338263e-01,\n",
       "         2.68421611e-01,   9.18386805e-01,   1.40810655e-01,\n",
       "         7.21805661e-01,   5.50963055e-01,   8.29754928e-01,\n",
       "         9.28527597e-01,   6.75861506e-01,   4.12106732e-01,\n",
       "         2.80616075e-01,   5.65802612e-01,   7.86357253e-01,\n",
       "         6.08175736e-01,   4.11796025e-01,   3.55854013e-01,\n",
       "         9.11230238e-01,   3.22308985e-01,   3.07433241e-01,\n",
       "         9.74052658e-01,   9.56867124e-01,   8.17887930e-01,\n",
       "         8.95822789e-02,   3.65750443e-01,   8.23111145e-02,\n",
       "         6.75970389e-01,   3.06668631e-01,   9.61220590e-01,\n",
       "         1.98885862e-01,   8.66780118e-01,   3.89160429e-01,\n",
       "         9.47587079e-01,   2.11615060e-01,   3.75296864e-01,\n",
       "         7.25398841e-01,   3.13760570e-01,   9.85595197e-01,\n",
       "         5.52539273e-01,   5.91336020e-02,   5.31473593e-01,\n",
       "         4.11163133e-01,   5.15231587e-02,   2.75940777e-02,\n",
       "         5.70310396e-01,   7.61814570e-01,   5.23929758e-01,\n",
       "         9.96171952e-01,   1.51661015e-01,   1.48143298e-01,\n",
       "         9.85318792e-01,   8.36539238e-01,   1.66803258e-01,\n",
       "         2.57391228e-01,   2.96485383e-01,   1.29431980e-01,\n",
       "         5.86345172e-01,   7.04307563e-02,   3.52866493e-01,\n",
       "         6.36263979e-01,   1.33021508e-01,   1.76625531e-01,\n",
       "         6.76116951e-01,   7.49929416e-01,   5.91344882e-01,\n",
       "         2.53253866e-01,   3.89814074e-01,   3.46930749e-01,\n",
       "         3.99307790e-01,   6.77687092e-01,   6.26717380e-01,\n",
       "         5.45835495e-01,   6.41575667e-01,   7.43753855e-01,\n",
       "         9.65188767e-01,   2.88239993e-05,   7.67388987e-01,\n",
       "         1.60956645e-01,   5.92983176e-01,   5.58124731e-01,\n",
       "         6.14651913e-02,   7.29877852e-02,   7.33725913e-01,\n",
       "         3.97319438e-01,   7.12045771e-01,   7.36935871e-01,\n",
       "         3.34405860e-01,   7.93239815e-01,   7.05045256e-01,\n",
       "         4.09854118e-01,   2.42681741e-01,   3.16289916e-01,\n",
       "         6.66195119e-01,   5.07579082e-01,   6.68806643e-01,\n",
       "         1.23112383e-01,   4.35729980e-02,   6.70914128e-01,\n",
       "         8.20818263e-01,   3.60741826e-01,   7.82988365e-01,\n",
       "         2.74720101e-01,   2.46635658e-01,   7.95826934e-01,\n",
       "         4.32776212e-01,   9.85649042e-01,   4.75669815e-01,\n",
       "         8.35757100e-01,   1.10064710e-01,   3.54829548e-01,\n",
       "         9.22503899e-01,   5.95894803e-01,   2.62842076e-02,\n",
       "         5.14324899e-01,   2.37620120e-01,   6.86756633e-01,\n",
       "         3.23601770e-02,   1.38012951e-01,   5.06178747e-01,\n",
       "         3.87204458e-01,   3.43492512e-01,   7.93495566e-01,\n",
       "         3.75324470e-01,   3.27193663e-01,   3.36448898e-01,\n",
       "         4.89777322e-01,   2.96211650e-01,   2.20801885e-01,\n",
       "         4.31122789e-01,   8.02686053e-01,   4.94918679e-01,\n",
       "         2.95317164e-02,   1.06902141e-01,   2.25322594e-01,\n",
       "         1.24009032e-01,   2.81176574e-01,   6.11424144e-01,\n",
       "         6.89791178e-01,   5.52036759e-01,   7.39396138e-01,\n",
       "         9.32068517e-01,   3.06971236e-01,   1.93322779e-01,\n",
       "         1.96426013e-01,   7.37669458e-01,   5.95854930e-01,\n",
       "         7.86402758e-01,   7.41360319e-01])"
      ]
     },
     "execution_count": 71,
     "metadata": {},
     "output_type": "execute_result"
    }
   ],
   "source": [
    "x"
   ]
  },
  {
   "cell_type": "code",
   "execution_count": 72,
   "metadata": {},
   "outputs": [],
   "source": [
    "y = rand(200)"
   ]
  },
  {
   "cell_type": "code",
   "execution_count": 73,
   "metadata": {},
   "outputs": [
    {
     "data": {
      "text/plain": [
       "array([ 0.18708144,  0.11349755,  0.37516926,  0.61465921,  0.96851286,\n",
       "        0.74863251,  0.00219842,  0.16403476,  0.51160926,  0.84865787,\n",
       "        0.24683786,  0.84092232,  0.06563621,  0.43613792,  0.14791301,\n",
       "        0.05475158,  0.96322168,  0.58361244,  0.08752199,  0.94202369,\n",
       "        0.81408942,  0.17512051,  0.35099745,  0.10855778,  0.89367218,\n",
       "        0.3401312 ,  0.99480399,  0.27229871,  0.31203544,  0.44398854,\n",
       "        0.72919259,  0.44155796,  0.8648769 ,  0.63643167,  0.26016586,\n",
       "        0.76592692,  0.86585456,  0.42055066,  0.43185138,  0.4261932 ,\n",
       "        0.11752927,  0.14642559,  0.14482203,  0.79877503,  0.01635423,\n",
       "        0.00400584,  0.17369129,  0.82241535,  0.4627318 ,  0.47483559,\n",
       "        0.4440941 ,  0.16628067,  0.37296783,  0.35140421,  0.5345553 ,\n",
       "        0.21655984,  0.72175958,  0.4367122 ,  0.69257687,  0.94595735,\n",
       "        0.5048268 ,  0.09126981,  0.06253629,  0.33327062,  0.6838049 ,\n",
       "        0.95626351,  0.90991709,  0.31699955,  0.59543134,  0.88277079,\n",
       "        0.99890814,  0.26095993,  0.65441404,  0.2385423 ,  0.16797408,\n",
       "        0.18083976,  0.5001544 ,  0.22352393,  0.2307459 ,  0.55882327,\n",
       "        0.83619882,  0.54886563,  0.77554548,  0.95553986,  0.59724241,\n",
       "        0.12262731,  0.72773823,  0.10272579,  0.01231017,  0.42939954,\n",
       "        0.73608004,  0.65087487,  0.73616708,  0.60895819,  0.2336538 ,\n",
       "        0.64163733,  0.05019663,  0.38611997,  0.08019232,  0.61987102,\n",
       "        0.10006062,  0.36253368,  0.61090521,  0.74824595,  0.94591027,\n",
       "        0.55242627,  0.1586694 ,  0.8775326 ,  0.98750821,  0.81936485,\n",
       "        0.79266193,  0.7247373 ,  0.73161691,  0.70702546,  0.9592916 ,\n",
       "        0.59755091,  0.21863886,  0.8629449 ,  0.49307117,  0.14502682,\n",
       "        0.24160295,  0.88518848,  0.26996404,  0.46552728,  0.26127899,\n",
       "        0.55294035,  0.86725322,  0.49885969,  0.16403288,  0.86859772,\n",
       "        0.52505538,  0.97438198,  0.58177641,  0.24785808,  0.87388742,\n",
       "        0.78338964,  0.50830162,  0.03558592,  0.0519123 ,  0.19201525,\n",
       "        0.80759754,  0.6755374 ,  0.68808793,  0.36034173,  0.43064238,\n",
       "        0.60331889,  0.94365644,  0.73858452,  0.47737134,  0.45625279,\n",
       "        0.85574469,  0.73631343,  0.11874071,  0.57792746,  0.76673264,\n",
       "        0.94712836,  0.77126823,  0.06380774,  0.47642648,  0.55302255,\n",
       "        0.63532514,  0.36996713,  0.5401656 ,  0.39515857,  0.7905186 ,\n",
       "        0.7093076 ,  0.10576815,  0.62252015,  0.6641119 ,  0.57312149,\n",
       "        0.37014502,  0.21248847,  0.72089125,  0.6312272 ,  0.23798833,\n",
       "        0.40208918,  0.75773021,  0.72596042,  0.86491421,  0.112966  ,\n",
       "        0.64196872,  0.78210227,  0.23094713,  0.01017692,  0.77752423,\n",
       "        0.97413592,  0.20023203,  0.42927942,  0.09720958,  0.30987473,\n",
       "        0.57526428,  0.64192243,  0.25758563,  0.10928104,  0.75388626,\n",
       "        0.48425668,  0.17996464,  0.36604657,  0.31666529,  0.55112103])"
      ]
     },
     "execution_count": 73,
     "metadata": {},
     "output_type": "execute_result"
    }
   ],
   "source": [
    "y"
   ]
  },
  {
   "cell_type": "code",
   "execution_count": 74,
   "metadata": {},
   "outputs": [],
   "source": [
    "size  = rand(200) * 30"
   ]
  },
  {
   "cell_type": "code",
   "execution_count": 75,
   "metadata": {},
   "outputs": [],
   "source": [
    "color = rand(200)"
   ]
  },
  {
   "cell_type": "code",
   "execution_count": 76,
   "metadata": {},
   "outputs": [
    {
     "data": {
      "text/plain": [
       "<matplotlib.collections.PathCollection at 0x26aab588>"
      ]
     },
     "execution_count": 76,
     "metadata": {},
     "output_type": "execute_result"
    },
    {
     "data": {
      "image/png": "[encoded data removed]",
      "text/plain": [
       "<matplotlib.figure.Figure at 0x26a45470>"
      ]
     },
     "metadata": {},
     "output_type": "display_data"
    }
   ],
   "source": [
    "plt.scatter(x,y, size, color)"
   ]
  },
  {
   "cell_type": "code",
   "execution_count": 77,
   "metadata": {},
   "outputs": [
    {
     "ename": "RuntimeError",
     "evalue": "No mappable was found to use for colorbar creation. First define a mappable such as an image (with imshow) or a contour set (with contourf).",
     "output_type": "error",
     "traceback": [
      "\u001b[0;31m---------------------------------------------------------------------------\u001b[0m",
      "\u001b[0;31mRuntimeError\u001b[0m                              Traceback (most recent call last)",
      "\u001b[0;32m<ipython-input-77-918835484e9b>\u001b[0m in \u001b[0;36m<module>\u001b[0;34m()\u001b[0m\n\u001b[0;32m----> 1\u001b[0;31m \u001b[0mcolorbar\u001b[0m\u001b[1;33m(\u001b[0m\u001b[1;33m)\u001b[0m\u001b[1;33m\u001b[0m\u001b[0m\n\u001b[0m",
      "\u001b[0;32mc:\\programdata\\anaconda3\\lib\\site-packages\\matplotlib\\pyplot.py\u001b[0m in \u001b[0;36mcolorbar\u001b[0;34m(mappable, cax, ax, **kw)\u001b[0m\n\u001b[1;32m   2253\u001b[0m         \u001b[0mmappable\u001b[0m \u001b[1;33m=\u001b[0m \u001b[0mgci\u001b[0m\u001b[1;33m(\u001b[0m\u001b[1;33m)\u001b[0m\u001b[1;33m\u001b[0m\u001b[0m\n\u001b[1;32m   2254\u001b[0m         \u001b[1;32mif\u001b[0m \u001b[0mmappable\u001b[0m \u001b[1;32mis\u001b[0m \u001b[1;32mNone\u001b[0m\u001b[1;33m:\u001b[0m\u001b[1;33m\u001b[0m\u001b[0m\n\u001b[0;32m-> 2255\u001b[0;31m             raise RuntimeError('No mappable was found to use for colorbar '\n\u001b[0m\u001b[1;32m   2256\u001b[0m                                \u001b[1;34m'creation. First define a mappable such as '\u001b[0m\u001b[1;33m\u001b[0m\u001b[0m\n\u001b[1;32m   2257\u001b[0m                                \u001b[1;34m'an image (with imshow) or a contour set ('\u001b[0m\u001b[1;33m\u001b[0m\u001b[0m\n",
      "\u001b[0;31mRuntimeError\u001b[0m: No mappable was found to use for colorbar creation. First define a mappable such as an image (with imshow) or a contour set (with contourf)."
     ]
    },
    {
     "data": {
      "text/plain": [
       "<matplotlib.figure.Figure at 0x26a7b240>"
      ]
     },
     "metadata": {},
     "output_type": "display_data"
    }
   ],
   "source": [
    "colorbar()"
   ]
  },
  {
   "cell_type": "code",
   "execution_count": 78,
   "metadata": {},
   "outputs": [
    {
     "ename": "RuntimeError",
     "evalue": "No mappable was found to use for colorbar creation. First define a mappable such as an image (with imshow) or a contour set (with contourf).",
     "output_type": "error",
     "traceback": [
      "\u001b[0;31m---------------------------------------------------------------------------\u001b[0m",
      "\u001b[0;31mRuntimeError\u001b[0m                              Traceback (most recent call last)",
      "\u001b[0;32m<ipython-input-78-194bafcd0567>\u001b[0m in \u001b[0;36m<module>\u001b[0;34m()\u001b[0m\n\u001b[0;32m----> 1\u001b[0;31m \u001b[0mplt\u001b[0m\u001b[1;33m.\u001b[0m\u001b[0mcolorbar\u001b[0m\u001b[1;33m(\u001b[0m\u001b[1;33m)\u001b[0m\u001b[1;33m\u001b[0m\u001b[0m\n\u001b[0m",
      "\u001b[0;32mc:\\programdata\\anaconda3\\lib\\site-packages\\matplotlib\\pyplot.py\u001b[0m in \u001b[0;36mcolorbar\u001b[0;34m(mappable, cax, ax, **kw)\u001b[0m\n\u001b[1;32m   2253\u001b[0m         \u001b[0mmappable\u001b[0m \u001b[1;33m=\u001b[0m \u001b[0mgci\u001b[0m\u001b[1;33m(\u001b[0m\u001b[1;33m)\u001b[0m\u001b[1;33m\u001b[0m\u001b[0m\n\u001b[1;32m   2254\u001b[0m         \u001b[1;32mif\u001b[0m \u001b[0mmappable\u001b[0m \u001b[1;32mis\u001b[0m \u001b[1;32mNone\u001b[0m\u001b[1;33m:\u001b[0m\u001b[1;33m\u001b[0m\u001b[0m\n\u001b[0;32m-> 2255\u001b[0;31m             raise RuntimeError('No mappable was found to use for colorbar '\n\u001b[0m\u001b[1;32m   2256\u001b[0m                                \u001b[1;34m'creation. First define a mappable such as '\u001b[0m\u001b[1;33m\u001b[0m\u001b[0m\n\u001b[1;32m   2257\u001b[0m                                \u001b[1;34m'an image (with imshow) or a contour set ('\u001b[0m\u001b[1;33m\u001b[0m\u001b[0m\n",
      "\u001b[0;31mRuntimeError\u001b[0m: No mappable was found to use for colorbar creation. First define a mappable such as an image (with imshow) or a contour set (with contourf)."
     ]
    },
    {
     "data": {
      "text/plain": [
       "<matplotlib.figure.Figure at 0x2690ab38>"
      ]
     },
     "metadata": {},
     "output_type": "display_data"
    }
   ],
   "source": [
    "plt.colorbar()"
   ]
  },
  {
   "cell_type": "code",
   "execution_count": 79,
   "metadata": {},
   "outputs": [
    {
     "data": {
      "text/plain": [
       "<matplotlib.colorbar.Colorbar at 0x26c164e0>"
      ]
     },
     "execution_count": 79,
     "metadata": {},
     "output_type": "execute_result"
    },
    {
     "data": {
      "image/png": "[encoded data removed]",
      "text/plain": [
       "<matplotlib.figure.Figure at 0x26ae1cc0>"
      ]
     },
     "metadata": {},
     "output_type": "display_data"
    }
   ],
   "source": [
    "plt.scatter(x,y, size, color)\n",
    "plt.colorbar()"
   ]
  },
  {
   "cell_type": "code",
   "execution_count": 80,
   "metadata": {},
   "outputs": [
    {
     "name": "stdout",
     "output_type": "stream",
     "text": [
      "Help on function scatter in module matplotlib.pyplot:\n",
      "\n",
      "scatter(x, y, s=None, c=None, marker=None, cmap=None, norm=None, vmin=None, vmax=None, alpha=None, linewidths=None, verts=None, edgecolors=None, hold=None, data=None, **kwargs)\n",
      "    Make a scatter plot of `x` vs `y`\n",
      "    \n",
      "    Marker size is scaled by `s` and marker color is mapped to `c`\n",
      "    \n",
      "    Parameters\n",
      "    ----------\n",
      "    x, y : array_like, shape (n, )\n",
      "        Input data\n",
      "    \n",
      "    s : scalar or array_like, shape (n, ), optional\n",
      "        size in points^2.  Default is `rcParams['lines.markersize'] ** 2`.\n",
      "    \n",
      "    c : color, sequence, or sequence of color, optional, default: 'b'\n",
      "        `c` can be a single color format string, or a sequence of color\n",
      "        specifications of length `N`, or a sequence of `N` numbers to be\n",
      "        mapped to colors using the `cmap` and `norm` specified via kwargs\n",
      "        (see below). Note that `c` should not be a single numeric RGB or\n",
      "        RGBA sequence because that is indistinguishable from an array of\n",
      "        values to be colormapped.  `c` can be a 2-D array in which the\n",
      "        rows are RGB or RGBA, however, including the case of a single\n",
      "        row to specify the same color for all points.\n",
      "    \n",
      "    marker : `~matplotlib.markers.MarkerStyle`, optional, default: 'o'\n",
      "        See `~matplotlib.markers` for more information on the different\n",
      "        styles of markers scatter supports. `marker` can be either\n",
      "        an instance of the class or the text shorthand for a particular\n",
      "        marker.\n",
      "    \n",
      "    cmap : `~matplotlib.colors.Colormap`, optional, default: None\n",
      "        A `~matplotlib.colors.Colormap` instance or registered name.\n",
      "        `cmap` is only used if `c` is an array of floats. If None,\n",
      "        defaults to rc `image.cmap`.\n",
      "    \n",
      "    norm : `~matplotlib.colors.Normalize`, optional, default: None\n",
      "        A `~matplotlib.colors.Normalize` instance is used to scale\n",
      "        luminance data to 0, 1. `norm` is only used if `c` is an array of\n",
      "        floats. If `None`, use the default :func:`normalize`.\n",
      "    \n",
      "    vmin, vmax : scalar, optional, default: None\n",
      "        `vmin` and `vmax` are used in conjunction with `norm` to normalize\n",
      "        luminance data.  If either are `None`, the min and max of the\n",
      "        color array is used.  Note if you pass a `norm` instance, your\n",
      "        settings for `vmin` and `vmax` will be ignored.\n",
      "    \n",
      "    alpha : scalar, optional, default: None\n",
      "        The alpha blending value, between 0 (transparent) and 1 (opaque)\n",
      "    \n",
      "    linewidths : scalar or array_like, optional, default: None\n",
      "        If None, defaults to (lines.linewidth,).\n",
      "    \n",
      "    verts : sequence of (x, y), optional\n",
      "        If `marker` is None, these vertices will be used to\n",
      "        construct the marker.  The center of the marker is located\n",
      "        at (0,0) in normalized units.  The overall marker is rescaled\n",
      "        by ``s``.\n",
      "    \n",
      "    edgecolors : color or sequence of color, optional, default: None\n",
      "        If None, defaults to 'face'\n",
      "    \n",
      "        If 'face', the edge color will always be the same as\n",
      "        the face color.\n",
      "    \n",
      "        If it is 'none', the patch boundary will not\n",
      "        be drawn.\n",
      "    \n",
      "        For non-filled markers, the `edgecolors` kwarg\n",
      "        is ignored and forced to 'face' internally.\n",
      "    \n",
      "    Returns\n",
      "    -------\n",
      "    paths : `~matplotlib.collections.PathCollection`\n",
      "    \n",
      "    Other parameters\n",
      "    ----------------\n",
      "    kwargs : `~matplotlib.collections.Collection` properties\n",
      "    \n",
      "    See Also\n",
      "    --------\n",
      "    plot : to plot scatter plots when markers are identical in size and\n",
      "        color\n",
      "    \n",
      "    Notes\n",
      "    -----\n",
      "    \n",
      "    * The `plot` function will be faster for scatterplots where markers\n",
      "      don't vary in size or color.\n",
      "    \n",
      "    * Any or all of `x`, `y`, `s`, and `c` may be masked arrays, in which\n",
      "      case all masks will be combined and only unmasked points will be\n",
      "      plotted.\n",
      "    \n",
      "      Fundamentally, scatter works with 1-D arrays; `x`, `y`, `s`, and `c`\n",
      "      may be input as 2-D arrays, but within scatter they will be\n",
      "      flattened. The exception is `c`, which will be flattened only if its\n",
      "      size matches the size of `x` and `y`.\n",
      "    \n",
      "    Examples\n",
      "    --------\n",
      "    .. plot:: mpl_examples/shapes_and_collections/scatter_demo.py\n",
      "    \n",
      "    .. note::\n",
      "        In addition to the above described arguments, this function can take a\n",
      "        **data** keyword argument. If such a **data** argument is given, the\n",
      "        following arguments are replaced by **data[<arg>]**:\n",
      "    \n",
      "        * All arguments with the following names: 'c', 'color', 'edgecolors', 'facecolor', 'facecolors', 'linewidths', 's', 'x', 'y'.\n",
      "\n"
     ]
    }
   ],
   "source": [
    "help(plt.scatter)"
   ]
  },
  {
   "cell_type": "code",
   "execution_count": null,
   "metadata": {},
   "outputs": [],
   "source": []
  }
 ],
 "metadata": {
  "kernelspec": {
   "display_name": "Python 3",
   "language": "python",
   "name": "python3"
  },
  "language_info": {
   "codemirror_mode": {
    "name": "ipython",
    "version": 3
   },
   "file_extension": ".py",
   "mimetype": "text/x-python",
   "name": "python",
   "nbconvert_exporter": "python",
   "pygments_lexer": "ipython3",
   "version": "3.6.0"
  }
 },
 "nbformat": 4,
 "nbformat_minor": 2
}
